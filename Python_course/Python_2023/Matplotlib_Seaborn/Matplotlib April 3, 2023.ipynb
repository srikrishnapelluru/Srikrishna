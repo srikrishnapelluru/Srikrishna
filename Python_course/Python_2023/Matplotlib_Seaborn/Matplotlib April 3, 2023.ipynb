{
 "cells": [
  {
   "cell_type": "code",
   "execution_count": null,
   "id": "3771f713",
   "metadata": {},
   "outputs": [],
   "source": [
    "import matplotlib.pyplot as plt\n",
    "import pandas as pd\n",
    "import numpy as np"
   ]
  },
  {
   "cell_type": "code",
   "execution_count": null,
   "id": "ec44b07d",
   "metadata": {},
   "outputs": [],
   "source": [
    "x_axis = list(range(1,6))\n",
    "y_axis = np.random.randint(1,10,5)"
   ]
  },
  {
   "cell_type": "code",
   "execution_count": null,
   "id": "e9d1b2ae",
   "metadata": {},
   "outputs": [],
   "source": [
    "print(x_axis)\n",
    "print(y_axis)"
   ]
  },
  {
   "cell_type": "code",
   "execution_count": null,
   "id": "cc682deb",
   "metadata": {},
   "outputs": [],
   "source": [
    "plt.plot(x_axis, y_axis)"
   ]
  },
  {
   "cell_type": "code",
   "execution_count": null,
   "id": "f57de0e0",
   "metadata": {},
   "outputs": [],
   "source": [
    "# Figure object - 1 Figure object\n",
    "# Axes objects - Number of graphs that we have\n",
    "# Patch object - Drawing for each of the axes objects"
   ]
  },
  {
   "cell_type": "code",
   "execution_count": null,
   "id": "52fd5772",
   "metadata": {},
   "outputs": [],
   "source": [
    "fig_object = plt.figure()\n",
    "\n",
    "print(fig_object)\n",
    "\n"
   ]
  },
  {
   "cell_type": "code",
   "execution_count": null,
   "id": "6a1e967d",
   "metadata": {},
   "outputs": [],
   "source": [
    "axes_object = plt.subplots(2,2)\n",
    "\n",
    "print(axes_object)"
   ]
  },
  {
   "cell_type": "code",
   "execution_count": null,
   "id": "b766ffc5",
   "metadata": {},
   "outputs": [],
   "source": [
    "fig, axes = plt.subplots(2,2)\n",
    "\n",
    "print(fig)\n",
    "print(axes)\n",
    "\n"
   ]
  },
  {
   "cell_type": "code",
   "execution_count": null,
   "id": "94670470",
   "metadata": {},
   "outputs": [],
   "source": [
    "ax1,ax2 = axes[0]\n",
    "ax3,ax4 = axes[1]\n",
    "\n",
    "print(ax1)\n",
    "print(ax2)\n",
    "print(ax3)\n",
    "print(ax4)\n"
   ]
  },
  {
   "cell_type": "code",
   "execution_count": null,
   "id": "a71c528d",
   "metadata": {},
   "outputs": [],
   "source": [
    "# Matplotlib there are two ways to create graphs. \n",
    "\n",
    "# 1 is using the pyplot interface\n",
    "\n",
    "# plt.<functionname>\n",
    "\n",
    "# plt.plot()\n",
    "\n",
    "# 2 is to specifically create the graphs on the function and axes objects. \n",
    "\n",
    "#fig.plot()"
   ]
  },
  {
   "cell_type": "code",
   "execution_count": null,
   "id": "c08254cc",
   "metadata": {},
   "outputs": [],
   "source": [
    "print(x_axis)"
   ]
  },
  {
   "cell_type": "code",
   "execution_count": null,
   "id": "e49f2355",
   "metadata": {},
   "outputs": [],
   "source": [
    "print(y_axis)"
   ]
  },
  {
   "cell_type": "code",
   "execution_count": null,
   "id": "ddde69d4",
   "metadata": {},
   "outputs": [],
   "source": [
    "y_axisX2 = y_axis*2\n",
    "y_axisX10 = y_axis*10\n",
    "y_axisX5 = y_axis*5\n",
    "\n",
    "\n",
    "print(y_axisX2)\n",
    "print(y_axisX10)\n",
    "print(y_axisX5)"
   ]
  },
  {
   "cell_type": "code",
   "execution_count": null,
   "id": "ddb534e1",
   "metadata": {},
   "outputs": [],
   "source": [
    "plt.subplots(2,2)"
   ]
  },
  {
   "cell_type": "code",
   "execution_count": null,
   "id": "f407a56c",
   "metadata": {},
   "outputs": [],
   "source": [
    "plt.figure(figsize = (16,10),dpi=100, facecolor = 'aquamarine', edgecolor = 'red',linewidth = 5, frameon=True)\n",
    "plt.suptitle('4 Graphs', color = 'grey', fontsize = 40)\n",
    "\n",
    "plt.subplot(2,2,1)\n",
    "plt.plot(x_axis,y_axis, linestyle = '-.', marker = 'o', color = 'darkkhaki', markerfacecolor = 'pink', markeredgecolor = 'red')\n",
    "plt.title('Y_axis', color = 'tab:purple', fontsize = 20, fontweight = 1000)\n",
    "\n",
    "plt.subplot(2,2,2)\n",
    "plt.plot(x_axis,y_axisX2, 'o-g')\n",
    "plt.title('Y_axisX2', loc='left', fontdict={'verticalalignment' : 'baseline', 'fontsize' : 25, \\\n",
    "                                   'color' : '#B22222'})\n",
    "\n",
    "\n",
    "plt.subplot(2,2,3)\n",
    "plt.plot(x_axis,y_axisX10, 'x--g', )\n",
    "plt.title('Y_axisX10', color = '#f0ab84', fontsize = 25, fontweight = 1000)\n",
    "\n",
    "\n",
    "plt.subplot(2,2,4)\n",
    "plt.plot(x_axis, y_axisX5, '^-y')\n",
    "plt.title('Y_axisX5', color = 'white', fontsize = 20, fontweight = 1000)\n",
    "\n",
    "\n",
    "plt.show()"
   ]
  },
  {
   "cell_type": "code",
   "execution_count": null,
   "id": "2a2ebb2e",
   "metadata": {},
   "outputs": [],
   "source": [
    "data = x_axis"
   ]
  },
  {
   "cell_type": "code",
   "execution_count": null,
   "id": "609550d4",
   "metadata": {},
   "outputs": [],
   "source": []
  },
  {
   "cell_type": "code",
   "execution_count": null,
   "id": "cb0e652c",
   "metadata": {},
   "outputs": [],
   "source": []
  },
  {
   "cell_type": "code",
   "execution_count": null,
   "id": "6f7cac91",
   "metadata": {},
   "outputs": [],
   "source": [
    "plt.figure(figsize = (16,10), dpi = 200, facecolor = 'aquamarine', edgecolor = 'red', linewidth = 5, frameon = True, layout='tight')\n",
    "plt.suptitle('4 Line Plots', color = 'grey', fontsize = 40)\n",
    "plt.subplot(2,2,1)\n",
    "#plt.plot(data)\n",
    "plt.plot(data, 'o-r')\n",
    "#plt.title('Data')\n",
    "plt.title('Data', loc = 'center', fontsize = 25, color = 'tab:purple', fontweight = 1000)\n",
    "plt.subplot(2,2,2)\n",
    "plt.plot(data10, linestyle = '-.', color = 'darkkhaki', marker = 's', markerfacecolor='pink', markeredgecolor = 'red')\n",
    "plt.title('Data x 10', fontdict = {'verticalalignment' : 'baseline', 'fontsize' : 25, \\\n",
    "                                   'color' : '#B22222'})\n",
    "plt.subplot(2,2,3)\n",
    "plt.plot(data2, 'x--g')\n",
    "plt.title('Data x 2', color = 'green', fontsize = 25, fontweight = 1000)\n",
    "plt.subplot(2,2,4)\n",
    "plt.plot(dataN2, '^-y')\n",
    "plt.title('Data + 2', color = 'white', fontsize = 35)\n",
    "\n",
    "plt.show()\n",
    "\n"
   ]
  },
  {
   "cell_type": "code",
   "execution_count": null,
   "id": "411cf428",
   "metadata": {},
   "outputs": [],
   "source": [
    "x = list(range(1,13))\n",
    "projected_sales2020 = np.random.randint(100,150,12)\n",
    "temp = np.random.randint(-20,20,12)\n",
    "actual_sales2020 = projected_sales2020 + temp\n",
    "\n",
    "print(x)\n",
    "print(projected_sales2020)\n",
    "print(actual_sales2020)\n",
    "\n",
    "temp2 = np.random.randint(-10,10,12)\n",
    "temp3 = np.random.randint(-15,15,12)\n",
    "\n",
    "projected_sales2021 = projected_sales2020 + temp2\n",
    "actual_sales2021 =  projected_sales2020 + temp3"
   ]
  },
  {
   "cell_type": "code",
   "execution_count": null,
   "id": "107e391f",
   "metadata": {},
   "outputs": [],
   "source": [
    "plt.figure(figsize = (16,10))\n",
    "\n",
    "plt.subplot(2,1,1)\n",
    "plt.plot(x, projected_sales2020, color = 'red')\n",
    "plt.plot(x, actual_sales2020, color = 'blue')\n",
    "plt.legend()\n",
    "\n",
    "plt.subplot(2,1,2)\n",
    "plt.plot(x, projected_sales2021, color = 'green')\n",
    "plt.plot(x, actual_sales2021, color = 'yellow')\n",
    "plt.legend(labels = ['Projected Sales 2021', 'Actual Sales 2021'])"
   ]
  },
  {
   "cell_type": "code",
   "execution_count": null,
   "id": "211265de",
   "metadata": {},
   "outputs": [],
   "source": [
    "plt.figure(figsize = (16,10),dpi=100, facecolor = 'aquamarine', edgecolor = 'red',linewidth = 5, frameon=True)\n",
    "plt.suptitle('4 Graphs', color = 'grey', fontsize = 40)\n",
    "\n",
    "plt.subplot(2,2,1)\n",
    "plt.plot(x_axis,y_axis, linestyle = '-.', marker = 'o', color = 'darkkhaki', markerfacecolor = 'pink', markeredgecolor = 'red')\n",
    "plt.title('Y_axis', color = 'tab:purple', fontsize = 20, fontweight = 1000)\n",
    "\n",
    "plt.savefig('Trial1.jpg')\n"
   ]
  },
  {
   "cell_type": "code",
   "execution_count": null,
   "id": "2baf78f0",
   "metadata": {},
   "outputs": [],
   "source": [
    "print(x_axis)\n",
    "print(y_axis)"
   ]
  },
  {
   "cell_type": "code",
   "execution_count": null,
   "id": "280590ce",
   "metadata": {},
   "outputs": [],
   "source": [
    "#fill_between function\n",
    "\n",
    "plt.figure(figsize = (16,10))\n",
    "#plt.plot(x_axis, y_axis)\n",
    "plt.fill_between(x_axis,[6,8.5,5.5,9.5,4.25], [4.5,7.75,4,8.25,3.5], color = 'pink', alpha = 0.3)\n",
    "\n",
    "\n",
    "plt.show()"
   ]
  },
  {
   "cell_type": "code",
   "execution_count": null,
   "id": "d9a12e01",
   "metadata": {},
   "outputs": [],
   "source": [
    "import numpy as np\n",
    "import pandas as pd\n",
    "import matplotlib.pyplot as plt\n",
    "\n",
    "x = np.arange(1,6)\n",
    "y = np.arange(10,60,10)\n",
    "\n",
    "print(x)\n",
    "print(y)"
   ]
  },
  {
   "cell_type": "code",
   "execution_count": null,
   "id": "adec4a97",
   "metadata": {},
   "outputs": [],
   "source": [
    "plt.figure()\n",
    "plt.bar(x,y, width = 0.5)\n",
    "plt.title('Bar Chart')\n",
    "plt.show()"
   ]
  },
  {
   "cell_type": "code",
   "execution_count": null,
   "id": "f42ac5cf",
   "metadata": {},
   "outputs": [],
   "source": [
    "print(y)"
   ]
  },
  {
   "cell_type": "code",
   "execution_count": null,
   "id": "0a91b3e9",
   "metadata": {},
   "outputs": [],
   "source": [
    "ylabels = ['Ten', 'Twenty', 'Thirty', 'Forty', 'Fifty']"
   ]
  },
  {
   "cell_type": "code",
   "execution_count": null,
   "id": "2254755c",
   "metadata": {},
   "outputs": [],
   "source": [
    "xticks = np.arange(1,5.1,0.5)\n",
    "yticks = np.arange(10,101,10)\n",
    "\n",
    "print(xticks)\n",
    "print(yticks)"
   ]
  },
  {
   "cell_type": "code",
   "execution_count": null,
   "id": "2d77abe5",
   "metadata": {},
   "outputs": [],
   "source": [
    "plt.figure(figsize = (12,8))\n",
    "plt.bar(x,y, width = 0.5)\n",
    "plt.title('Bar Chart')\n",
    "plt.xlabel('State Name', color = 'Red')\n",
    "plt.ylabel('No of covid cases')\n",
    "# plt.xticks(xticks)\n",
    "# plt.yticks(yticks)\n",
    "plt.xticks(x,labels = ['Maharashtra', 'Karnataka', 'Andhra', 'Nagaland', 'J&Kashmir'])\n",
    "plt.yticks(y, labels = [100,200,300,400,500])\n",
    "plt.show()"
   ]
  },
  {
   "cell_type": "code",
   "execution_count": null,
   "id": "d6f90251",
   "metadata": {},
   "outputs": [],
   "source": [
    "z = np.arange(5,10)\n",
    "zz = np.arange(15,20)\n",
    "print(x)\n",
    "print(y)\n",
    "print(z)\n",
    "print(zz)"
   ]
  },
  {
   "cell_type": "code",
   "execution_count": null,
   "id": "3b296136",
   "metadata": {},
   "outputs": [],
   "source": [
    "plt.figure(figsize = (16,10))\n",
    "plt.bar(x,z, width = 0.5)\n",
    "plt.bar(x,y,bottom = z, color = 'red', width = 0.5)\n",
    "plt.bar(x,zz, bottom = y+z, color = 'yellow', width = 0.5)\n",
    "\n",
    "\n",
    "\n",
    "\n",
    "\n",
    "plt.show()"
   ]
  },
  {
   "cell_type": "code",
   "execution_count": null,
   "id": "865f2fd9",
   "metadata": {},
   "outputs": [],
   "source": [
    "x_ax = list('abcde')\n",
    "y1 = np.arange(10,60,10)\n",
    "y2 = np.arange(2,62,12)\n",
    "y3 = np.arange(1,34,8)\n",
    "y4 = np.arange(1,10,2)\n",
    "lst1 = [y1,y2,y3,y4]\n",
    "\n",
    "print(x_ax)\n",
    "print(y1)\n",
    "print(y2)\n",
    "print(y3)\n",
    "print(y4)"
   ]
  },
  {
   "cell_type": "code",
   "execution_count": null,
   "id": "6f17bc5a",
   "metadata": {},
   "outputs": [],
   "source": [
    "plt.figure(figsize = (16,10))\n",
    "plt.bar(x-0.6,y1, width = 0.20)\n",
    "plt.bar(x-0.4,y2, width = 0.20)\n",
    "plt.bar(x-0.2,y3, width = 0.20)\n",
    "plt.bar(x,y4, width = 0.20)"
   ]
  },
  {
   "cell_type": "code",
   "execution_count": null,
   "id": "b51d2c17",
   "metadata": {},
   "outputs": [],
   "source": [
    "plt.figure(figsize = (16,10))\n",
    "plt.xticks(np.arange(0,10,0.5))\n",
    "plt.bar(x-0.35, y1, width = 0.25, color = 'blue')\n",
    "plt.bar(x, y2, width = 0.25, color = 'orange')\n",
    "plt.bar(x+0.35, y3, width = 0.25, color = 'green')\n",
    "plt.bar(x+0.7, y4, width = 0.25, color = 'maroon')\n",
    "plt.show()"
   ]
  },
  {
   "cell_type": "code",
   "execution_count": null,
   "id": "83897942",
   "metadata": {},
   "outputs": [],
   "source": [
    "plt.figure(figsize = (12,8))\n",
    "plt.bar(x,y, yerr = [y*0.1,y*0.2], width = 0.5, capsize = 5)\n",
    "plt.title('Bar Chart')\n",
    "plt.xlabel('State Name', color = 'Red')\n",
    "plt.ylabel('No of covid cases')\n",
    "# plt.xticks(xticks)\n",
    "# plt.yticks(yticks)\n",
    "plt.xticks(x,labels = ['Maharashtra', 'Karnataka', 'Andhra', 'Nagaland', 'J&Kashmir'])\n",
    "plt.yticks(y, labels = [100,200,300,400,500])\n",
    "plt.savefig('BarChartwErrorBars.jpg')\n",
    "plt.show()"
   ]
  },
  {
   "cell_type": "code",
   "execution_count": null,
   "id": "b8e883b5",
   "metadata": {},
   "outputs": [],
   "source": [
    "x = np.random.randint(1,10,10)\n",
    "y = np.random.randint(1,100,10)\n",
    "\n",
    "print(x)\n",
    "print(y)\n",
    "\n",
    "plt.figure(figsize = (10,6))\n",
    "plt.scatter(x,y, marker = 'x', s = 120)\n",
    "\n",
    "plt.show()"
   ]
  },
  {
   "cell_type": "code",
   "execution_count": null,
   "id": "9d59937d",
   "metadata": {},
   "outputs": [],
   "source": [
    "pie_data = [10,20,30,40,50]\n",
    "#labels = ['Ten','Twenty', 'Thirty', 'Forty', 'Fifty']\n",
    "\n",
    "plt.figure(figsize = (6,6))\n",
    "plt.pie(pie_data)\n",
    "plt.show()"
   ]
  },
  {
   "cell_type": "code",
   "execution_count": null,
   "id": "183c604b",
   "metadata": {},
   "outputs": [],
   "source": [
    "labels = ['Maharashtra', 'Andhra', 'Karnataka', 'Sikkim', 'Punjab']"
   ]
  },
  {
   "cell_type": "code",
   "execution_count": null,
   "id": "a973d226",
   "metadata": {},
   "outputs": [],
   "source": [
    "plt.figure(figsize = (16,10))\n",
    "plt.pie(pie_data, labels = labels, colors = ['red', 'blue','yellow','green','pink'],autopct = \"%.2f%%\", \\\n",
    "pctdistance = 1.1, shadow = False, labeldistance = 0.10, \\\n",
    "rotatelabels = True, textprops = {'fontsize' : 20, 'color' : 'black', 'fontweight':100}, counterclock = False,\\\n",
    "wedgeprops = {'linewidth' : 2, 'edgecolor' : 'k'}, startangle = 270)\n",
    "plt.legend()\n",
    "plt.show()\n",
    "\n",
    "#explode = [0.05,0.07,0.09,0.11,0.12]"
   ]
  },
  {
   "cell_type": "code",
   "execution_count": null,
   "id": "22c7d68a",
   "metadata": {},
   "outputs": [],
   "source": [
    "# Histogram"
   ]
  },
  {
   "cell_type": "code",
   "execution_count": null,
   "id": "94b87887",
   "metadata": {},
   "outputs": [],
   "source": [
    "import numpy as np\n",
    "\n",
    "x = np.random.randint(0,20,10)\n",
    "y = np.random.randint(0,100, 50)\n",
    "z = np.random.randint(0,50,25)\n",
    "a = np.random.randint(0,80,30)\n",
    "\n",
    "accum = np.append(x,y)\n",
    "accum = np.append(accum, z)\n",
    "accum = np.append(accum,a)\n",
    "print(accum)\n",
    "\n",
    "print(len(accum))\n"
   ]
  },
  {
   "cell_type": "code",
   "execution_count": null,
   "id": "b249f2f3",
   "metadata": {},
   "outputs": [],
   "source": [
    "import matplotlib.pyplot as plt\n",
    "import pandas as pd\n",
    "\n",
    "plt.figure(figsize = (10,6))\n",
    "plt.hist(accum, bins = 20, label = 'Histogram', rwidth=0.9, alpha = 0.5, histtype = 'step')\n",
    "plt.legend()\n",
    "\n",
    "plt.show()"
   ]
  },
  {
   "cell_type": "code",
   "execution_count": null,
   "id": "09469a58",
   "metadata": {},
   "outputs": [],
   "source": [
    "x = np.random.randint(1,1000,100)\n",
    "y = np.random.randint(1,1000,100)"
   ]
  },
  {
   "cell_type": "code",
   "execution_count": null,
   "id": "e58f0105",
   "metadata": {},
   "outputs": [],
   "source": [
    "plt.hist(x, color = 'blue', alpha = 0.35, rwidth = 0.9)\n",
    "plt.hist(y, color = 'red', histtype = 'step', rwidth = 0.9)\n",
    "plt.show()"
   ]
  },
  {
   "cell_type": "code",
   "execution_count": null,
   "id": "3cee3a0c",
   "metadata": {},
   "outputs": [],
   "source": [
    "plt.hist(accum, rwidth = 0.9, range = (20,80))\n",
    "plt.show()"
   ]
  },
  {
   "cell_type": "code",
   "execution_count": null,
   "id": "94c1e3d8",
   "metadata": {},
   "outputs": [],
   "source": []
  },
  {
   "cell_type": "code",
   "execution_count": null,
   "id": "07f6b157",
   "metadata": {},
   "outputs": [],
   "source": [
    "data = np.random.randint(1,50,5)\n",
    "data2 = data*2\n",
    "data10 = data*10\n",
    "datadiv = data//2\n",
    "\n",
    "print(data)\n",
    "print(data2)\n",
    "print(data10)\n",
    "print(datadiv)"
   ]
  },
  {
   "cell_type": "code",
   "execution_count": null,
   "id": "aeeb0d8b",
   "metadata": {},
   "outputs": [],
   "source": [
    "fig = plt.figure(figsize = (16,10))\n",
    "ax1 = fig.add_subplot(2,2,1)\n",
    "ax1.plot(data)\n",
    "\n",
    "ax2 = fig.add_subplot(2,2,2)\n",
    "ax2.plot(data10)\n",
    "ax1.plot(datadiv)\n",
    "plt.show()"
   ]
  },
  {
   "cell_type": "code",
   "execution_count": null,
   "id": "1e3bdca1",
   "metadata": {},
   "outputs": [],
   "source": [
    "print(dir(fig))"
   ]
  },
  {
   "cell_type": "code",
   "execution_count": null,
   "id": "aad93b2a",
   "metadata": {},
   "outputs": [],
   "source": [
    "print(dir(ax1))"
   ]
  },
  {
   "cell_type": "code",
   "execution_count": null,
   "id": "c1e6c2a3",
   "metadata": {},
   "outputs": [],
   "source": [
    "fig, ax = plt.subplots(2,2)\n",
    "print(fig)\n",
    "print(ax)"
   ]
  },
  {
   "cell_type": "code",
   "execution_count": null,
   "id": "4edb65d9",
   "metadata": {},
   "outputs": [],
   "source": [
    "data = np.random.randint(1,10,10)\n",
    "data2 = np.random.randint(1,21,20)\n",
    "data10 = np.random.randint(0,100,20)\n",
    "data50 = np.random.randint(0,50,10)"
   ]
  },
  {
   "cell_type": "code",
   "execution_count": null,
   "id": "6283c2c2",
   "metadata": {},
   "outputs": [],
   "source": [
    "fig, ax = plt.subplots(2,2)\n",
    "print(fig)\n",
    "print(ax)\n",
    "\n",
    "fig.set_figheight(10)\n",
    "fig.set_figwidth(16)\n",
    "ax1,ax2= ax[0]\n",
    "ax3, ax4 = ax[1]\n",
    "\n",
    "ax1.plot(data)\n",
    "ax1.set_title('Data - 10 Values')\n",
    "ax2.plot(data2)\n",
    "ax2.set_title('Data2 - 20 values on x axis')\n",
    "ax3.plot(data10)\n",
    "ax3.set_title('Data10 - 20 values on x axis')\n",
    "ax4 = plt.subplot(2,2,4, sharex= ax1, sharey = ax1)\n",
    "ax4.plot(data50)\n",
    "ax4.set_title('Data50 - only 10 values on x axis')\n",
    "# plt.xticks(np.arange(0,20,2))\n",
    "# plt.yticks(np.arange(0,400,100))\n",
    "plt.show()"
   ]
  },
  {
   "cell_type": "code",
   "execution_count": null,
   "id": "f12a50d0",
   "metadata": {},
   "outputs": [],
   "source": [
    "fig = plt.figure(figsize = (6,6))\n",
    "ax = fig.add_subplot(1,1,1)\n",
    "rect = plt.Rectangle((0.1,0.8), 0.4, 0.15, color = 'blue')\n",
    "circle = plt.Circle((0.7,0.2), radius = 0.2, color = 'red')\n",
    "pgon = plt.Polygon([[0.3,0.5], [0.55,0.9], [0.75,0.5], [0.2,0.2],[0.1,0.6]], color = 'green')\n",
    "arow = plt.arrow(0.2,0.25,-0.05,0.5, width = 0.02, head_width=0.05)\n",
    "\n",
    "ax.add_patch(rect)\n",
    "ax.add_patch(circle)\n",
    "ax.add_patch(pgon)\n",
    "ax.add_patch(arow)\n",
    "\n",
    "plt.show()"
   ]
  },
  {
   "cell_type": "code",
   "execution_count": null,
   "id": "ca5a1478",
   "metadata": {},
   "outputs": [],
   "source": [
    "print(dir(plt))"
   ]
  },
  {
   "cell_type": "code",
   "execution_count": null,
   "id": "4613f5bd",
   "metadata": {},
   "outputs": [],
   "source": [
    "fig, axes = plt.subplots(2,2, figsize = (14,6), sharex = True, sharey = True)\n",
    "for i in range(2):\n",
    "    for j in range(2):\n",
    "        axes[i,j].hist(np.random.randint(0,500,100), bins = 50, alpha = 0.5)\n",
    "plt.subplots_adjust(wspace = 0.2, hspace = 0.2)\n",
    "plt.show()"
   ]
  },
  {
   "cell_type": "code",
   "execution_count": null,
   "id": "844c44e2",
   "metadata": {},
   "outputs": [],
   "source": [
    "#rcparams"
   ]
  },
  {
   "cell_type": "code",
   "execution_count": null,
   "id": "2c270f0b",
   "metadata": {},
   "outputs": [],
   "source": []
  },
  {
   "cell_type": "code",
   "execution_count": null,
   "id": "c3aadb9e",
   "metadata": {},
   "outputs": [],
   "source": [
    "plt.rc('figure', figsize = (7,5))"
   ]
  },
  {
   "cell_type": "code",
   "execution_count": null,
   "id": "92b288c2",
   "metadata": {},
   "outputs": [],
   "source": [
    "fig = plt.figure()\n",
    "\n",
    "print(fig)"
   ]
  },
  {
   "cell_type": "code",
   "execution_count": null,
   "id": "841cfb50",
   "metadata": {},
   "outputs": [],
   "source": [
    "fig2 = plt.figure()"
   ]
  },
  {
   "cell_type": "markdown",
   "id": "12eebc1e",
   "metadata": {},
   "source": [
    "# link for rcparams\n",
    "\n",
    "https://matplotlib.org/stable/api/_as_gen/matplotlib.pyplot.rc.html"
   ]
  },
  {
   "cell_type": "code",
   "execution_count": 2,
   "id": "f60302db",
   "metadata": {},
   "outputs": [
    {
     "name": "stdout",
     "output_type": "stream",
     "text": [
      "['T', '_AXIS_LEN', '_AXIS_ORDERS', '_AXIS_TO_AXIS_NUMBER', '_HANDLED_TYPES', '__abs__', '__add__', '__and__', '__annotations__', '__array__', '__array_priority__', '__array_ufunc__', '__array_wrap__', '__bool__', '__class__', '__contains__', '__copy__', '__deepcopy__', '__delattr__', '__delitem__', '__dict__', '__dir__', '__divmod__', '__doc__', '__eq__', '__finalize__', '__floordiv__', '__format__', '__ge__', '__getattr__', '__getattribute__', '__getitem__', '__getstate__', '__gt__', '__hash__', '__iadd__', '__iand__', '__ifloordiv__', '__imod__', '__imul__', '__init__', '__init_subclass__', '__invert__', '__ior__', '__ipow__', '__isub__', '__iter__', '__itruediv__', '__ixor__', '__le__', '__len__', '__lt__', '__matmul__', '__mod__', '__module__', '__mul__', '__ne__', '__neg__', '__new__', '__nonzero__', '__or__', '__pos__', '__pow__', '__radd__', '__rand__', '__rdivmod__', '__reduce__', '__reduce_ex__', '__repr__', '__rfloordiv__', '__rmatmul__', '__rmod__', '__rmul__', '__ror__', '__round__', '__rpow__', '__rsub__', '__rtruediv__', '__rxor__', '__setattr__', '__setitem__', '__setstate__', '__sizeof__', '__str__', '__sub__', '__subclasshook__', '__truediv__', '__weakref__', '__xor__', '_accessors', '_accum_func', '_add_numeric_operations', '_agg_by_level', '_agg_examples_doc', '_agg_summary_and_see_also_doc', '_align_frame', '_align_series', '_append', '_arith_method', '_as_manager', '_attrs', '_box_col_values', '_can_fast_transpose', '_check_inplace_and_allows_duplicate_labels', '_check_inplace_setting', '_check_is_chained_assignment_possible', '_check_label_or_level_ambiguity', '_check_setitem_copy', '_clear_item_cache', '_clip_with_one_bound', '_clip_with_scalar', '_cmp_method', '_combine_frame', '_consolidate', '_consolidate_inplace', '_construct_axes_dict', '_construct_axes_from_arguments', '_construct_result', '_constructor', '_constructor_sliced', '_convert', '_count_level', '_data', '_dir_additions', '_dir_deletions', '_dispatch_frame_op', '_drop_axis', '_drop_labels_or_levels', '_ensure_valid_index', '_find_valid_index', '_flags', '_from_arrays', '_from_mgr', '_get_agg_axis', '_get_axis', '_get_axis_name', '_get_axis_number', '_get_axis_resolvers', '_get_block_manager_axis', '_get_bool_data', '_get_cleaned_column_resolvers', '_get_column_array', '_get_index_resolvers', '_get_item_cache', '_get_label_or_level_values', '_get_numeric_data', '_get_value', '_getitem_bool_array', '_getitem_multilevel', '_gotitem', '_hidden_attrs', '_indexed_same', '_info_axis', '_info_axis_name', '_info_axis_number', '_info_repr', '_init_mgr', '_inplace_method', '_internal_names', '_internal_names_set', '_is_copy', '_is_homogeneous_type', '_is_label_or_level_reference', '_is_label_reference', '_is_level_reference', '_is_mixed_type', '_is_view', '_iset_item', '_iset_item_mgr', '_iset_not_inplace', '_item_cache', '_iter_column_arrays', '_ixs', '_join_compat', '_logical_func', '_logical_method', '_maybe_cache_changed', '_maybe_update_cacher', '_metadata', '_mgr', '_min_count_stat_function', '_needs_reindex_multi', '_protect_consolidate', '_reduce', '_reduce_axis1', '_reindex_axes', '_reindex_columns', '_reindex_index', '_reindex_multi', '_reindex_with_indexers', '_rename', '_replace_columnwise', '_repr_data_resource_', '_repr_fits_horizontal_', '_repr_fits_vertical_', '_repr_html_', '_repr_latex_', '_reset_cache', '_reset_cacher', '_sanitize_column', '_series', '_set_axis', '_set_axis_name', '_set_axis_nocheck', '_set_is_copy', '_set_item', '_set_item_frame_value', '_set_item_mgr', '_set_value', '_setitem_array', '_setitem_frame', '_setitem_slice', '_slice', '_stat_axis', '_stat_axis_name', '_stat_axis_number', '_stat_function', '_stat_function_ddof', '_take_with_is_copy', '_to_dict_of_blocks', '_typ', '_update_inplace', '_validate_dtype', '_values', '_where', 'abs', 'add', 'add_prefix', 'add_suffix', 'adults', 'agg', 'aggregate', 'align', 'all', 'any', 'append', 'apply', 'applymap', 'arrival_date_day_of_month', 'arrival_date_month', 'arrival_date_week_number', 'arrival_date_year', 'arrival_month_year', 'asfreq', 'asof', 'assign', 'astype', 'at', 'at_time', 'attrs', 'axes', 'babies', 'backfill', 'between_time', 'bfill', 'bool', 'boxplot', 'children', 'clip', 'columns', 'combine', 'combine_first', 'compare', 'convert_dtypes', 'copy', 'corr', 'corrwith', 'count', 'country', 'cov', 'cummax', 'cummin', 'cumprod', 'cumsum', 'describe', 'diff', 'distribution_channel', 'div', 'divide', 'dot', 'drop', 'drop_duplicates', 'droplevel', 'dropna', 'dtypes', 'duplicated', 'empty', 'eq', 'equals', 'eval', 'ewm', 'expanding', 'explode', 'ffill', 'fillna', 'filter', 'first', 'first_valid_index', 'flags', 'floordiv', 'from_dict', 'from_records', 'ge', 'get', 'groupby', 'gt', 'head', 'hist', 'hotel', 'iat', 'idxmax', 'idxmin', 'iloc', 'index', 'infer_objects', 'info', 'insert', 'interpolate', 'is_canceled', 'isin', 'isna', 'isnull', 'items', 'iteritems', 'iterrows', 'itertuples', 'join', 'keys', 'kurt', 'kurtosis', 'last', 'last_valid_index', 'le', 'lead_time', 'loc', 'lookup', 'lt', 'mad', 'market_segment', 'mask', 'max', 'meal', 'mean', 'median', 'melt', 'memory_usage', 'merge', 'min', 'mod', 'mode', 'mul', 'multiply', 'ndim', 'ne', 'nlargest', 'notna', 'notnull', 'nsmallest', 'nunique', 'pad', 'pct_change', 'pipe', 'pivot', 'pivot_table', 'plot', 'pop', 'pow', 'prod', 'product', 'quantile', 'query', 'radd', 'rank', 'rdiv', 'reindex', 'reindex_like', 'rename', 'rename_axis', 'reorder_levels', 'replace', 'resample', 'reset_index', 'rfloordiv', 'rmod', 'rmul', 'rolling', 'round', 'rpow', 'rsub', 'rtruediv', 'sample', 'select_dtypes', 'sem', 'set_axis', 'set_flags', 'set_index', 'shape', 'shift', 'size', 'skew', 'slice_shift', 'sort_index', 'sort_values', 'squeeze', 'stack', 'stays_in_week_nights', 'stays_in_weekend_nights', 'std', 'style', 'sub', 'subtract', 'sum', 'swapaxes', 'swaplevel', 'tail', 'take', 'to_clipboard', 'to_csv', 'to_dict', 'to_excel', 'to_feather', 'to_gbq', 'to_hdf', 'to_html', 'to_json', 'to_latex', 'to_markdown', 'to_numpy', 'to_parquet', 'to_period', 'to_pickle', 'to_records', 'to_sql', 'to_stata', 'to_string', 'to_timestamp', 'to_xarray', 'to_xml', 'transform', 'transpose', 'truediv', 'truncate', 'tz_convert', 'tz_localize', 'unstack', 'update', 'value_counts', 'values', 'var', 'where', 'xs']\n",
      "(4995, 17)\n"
     ]
    }
   ],
   "source": [
    "# Pandas with matplotlib\n",
    "\n",
    "import pandas as pd\n",
    "\n",
    "dataframe = pd.read_csv('hotel_bookings_copy3.csv')\n",
    "print(dir(dataframe))\n",
    "print(dataframe.shape)"
   ]
  },
  {
   "cell_type": "code",
   "execution_count": 5,
   "id": "c66b1dca",
   "metadata": {},
   "outputs": [
    {
     "data": {
      "text/html": [
       "<div>\n",
       "<style scoped>\n",
       "    .dataframe tbody tr th:only-of-type {\n",
       "        vertical-align: middle;\n",
       "    }\n",
       "\n",
       "    .dataframe tbody tr th {\n",
       "        vertical-align: top;\n",
       "    }\n",
       "\n",
       "    .dataframe thead th {\n",
       "        text-align: right;\n",
       "    }\n",
       "</style>\n",
       "<table border=\"1\" class=\"dataframe\">\n",
       "  <thead>\n",
       "    <tr style=\"text-align: right;\">\n",
       "      <th></th>\n",
       "      <th>hotel</th>\n",
       "      <th>is_canceled</th>\n",
       "      <th>lead_time</th>\n",
       "      <th>arrival_month_year</th>\n",
       "      <th>arrival_date_year</th>\n",
       "      <th>arrival_date_month</th>\n",
       "      <th>arrival_date_week_number</th>\n",
       "      <th>arrival_date_day_of_month</th>\n",
       "      <th>stays_in_weekend_nights</th>\n",
       "      <th>stays_in_week_nights</th>\n",
       "      <th>adults</th>\n",
       "      <th>children</th>\n",
       "      <th>babies</th>\n",
       "      <th>meal</th>\n",
       "      <th>country</th>\n",
       "      <th>market_segment</th>\n",
       "      <th>distribution_channel</th>\n",
       "    </tr>\n",
       "  </thead>\n",
       "  <tbody>\n",
       "    <tr>\n",
       "      <th>0</th>\n",
       "      <td>Resort Hotel</td>\n",
       "      <td>0</td>\n",
       "      <td>342</td>\n",
       "      <td>15-Jul</td>\n",
       "      <td>2015</td>\n",
       "      <td>July</td>\n",
       "      <td>27</td>\n",
       "      <td>1</td>\n",
       "      <td>0</td>\n",
       "      <td>0</td>\n",
       "      <td>2</td>\n",
       "      <td>0</td>\n",
       "      <td>0</td>\n",
       "      <td>BB</td>\n",
       "      <td>PRT</td>\n",
       "      <td>Direct</td>\n",
       "      <td>Direct</td>\n",
       "    </tr>\n",
       "    <tr>\n",
       "      <th>1</th>\n",
       "      <td>Resort Hotel</td>\n",
       "      <td>0</td>\n",
       "      <td>737</td>\n",
       "      <td>15-Jul</td>\n",
       "      <td>2015</td>\n",
       "      <td>July</td>\n",
       "      <td>27</td>\n",
       "      <td>1</td>\n",
       "      <td>0</td>\n",
       "      <td>0</td>\n",
       "      <td>2</td>\n",
       "      <td>0</td>\n",
       "      <td>0</td>\n",
       "      <td>BB</td>\n",
       "      <td>PRT</td>\n",
       "      <td>Direct</td>\n",
       "      <td>Direct</td>\n",
       "    </tr>\n",
       "    <tr>\n",
       "      <th>2</th>\n",
       "      <td>Resort Hotel</td>\n",
       "      <td>0</td>\n",
       "      <td>7</td>\n",
       "      <td>15-Jul</td>\n",
       "      <td>2015</td>\n",
       "      <td>July</td>\n",
       "      <td>27</td>\n",
       "      <td>1</td>\n",
       "      <td>0</td>\n",
       "      <td>1</td>\n",
       "      <td>1</td>\n",
       "      <td>0</td>\n",
       "      <td>0</td>\n",
       "      <td>BB</td>\n",
       "      <td>GBR</td>\n",
       "      <td>Direct</td>\n",
       "      <td>Direct</td>\n",
       "    </tr>\n",
       "    <tr>\n",
       "      <th>3</th>\n",
       "      <td>Resort Hotel</td>\n",
       "      <td>0</td>\n",
       "      <td>13</td>\n",
       "      <td>15-Jul</td>\n",
       "      <td>2015</td>\n",
       "      <td>July</td>\n",
       "      <td>27</td>\n",
       "      <td>1</td>\n",
       "      <td>0</td>\n",
       "      <td>1</td>\n",
       "      <td>1</td>\n",
       "      <td>0</td>\n",
       "      <td>0</td>\n",
       "      <td>BB</td>\n",
       "      <td>GBR</td>\n",
       "      <td>Corporate</td>\n",
       "      <td>Corporate</td>\n",
       "    </tr>\n",
       "    <tr>\n",
       "      <th>4</th>\n",
       "      <td>Resort Hotel</td>\n",
       "      <td>0</td>\n",
       "      <td>14</td>\n",
       "      <td>15-Jul</td>\n",
       "      <td>2015</td>\n",
       "      <td>July</td>\n",
       "      <td>27</td>\n",
       "      <td>1</td>\n",
       "      <td>0</td>\n",
       "      <td>2</td>\n",
       "      <td>2</td>\n",
       "      <td>0</td>\n",
       "      <td>0</td>\n",
       "      <td>BB</td>\n",
       "      <td>GBR</td>\n",
       "      <td>Online TA</td>\n",
       "      <td>TA/TO</td>\n",
       "    </tr>\n",
       "  </tbody>\n",
       "</table>\n",
       "</div>"
      ],
      "text/plain": [
       "          hotel  is_canceled  lead_time arrival_month_year  arrival_date_year  \\\n",
       "0  Resort Hotel            0        342             15-Jul               2015   \n",
       "1  Resort Hotel            0        737             15-Jul               2015   \n",
       "2  Resort Hotel            0          7             15-Jul               2015   \n",
       "3  Resort Hotel            0         13             15-Jul               2015   \n",
       "4  Resort Hotel            0         14             15-Jul               2015   \n",
       "\n",
       "  arrival_date_month  arrival_date_week_number  arrival_date_day_of_month  \\\n",
       "0               July                        27                          1   \n",
       "1               July                        27                          1   \n",
       "2               July                        27                          1   \n",
       "3               July                        27                          1   \n",
       "4               July                        27                          1   \n",
       "\n",
       "   stays_in_weekend_nights  stays_in_week_nights  adults  children  babies  \\\n",
       "0                        0                     0       2         0       0   \n",
       "1                        0                     0       2         0       0   \n",
       "2                        0                     1       1         0       0   \n",
       "3                        0                     1       1         0       0   \n",
       "4                        0                     2       2         0       0   \n",
       "\n",
       "  meal country market_segment distribution_channel  \n",
       "0   BB     PRT         Direct               Direct  \n",
       "1   BB     PRT         Direct               Direct  \n",
       "2   BB     GBR         Direct               Direct  \n",
       "3   BB     GBR      Corporate            Corporate  \n",
       "4   BB     GBR      Online TA                TA/TO  "
      ]
     },
     "execution_count": 5,
     "metadata": {},
     "output_type": "execute_result"
    }
   ],
   "source": [
    "dataframe.head()"
   ]
  },
  {
   "cell_type": "code",
   "execution_count": null,
   "id": "a137cbf3",
   "metadata": {},
   "outputs": [],
   "source": [
    "dataframe['days_in_waiting_list'].unique()"
   ]
  },
  {
   "cell_type": "code",
   "execution_count": null,
   "id": "930e6033",
   "metadata": {},
   "outputs": [],
   "source": [
    "plt.figure(figsize = (6,4))\n",
    "plt.hist(dataframe['is_canceled'])\n",
    "plt.show()"
   ]
  },
  {
   "cell_type": "code",
   "execution_count": null,
   "id": "d2156727",
   "metadata": {},
   "outputs": [],
   "source": [
    "plt.figure()\n",
    "dataframe['is_canceled'].hist()\n",
    "plt.show()"
   ]
  },
  {
   "cell_type": "code",
   "execution_count": null,
   "id": "4047749c",
   "metadata": {},
   "outputs": [],
   "source": [
    "dataframe[['customer_type', 'is_canceled']].plot(kind = 'bar')\n",
    "plt.show()"
   ]
  },
  {
   "cell_type": "code",
   "execution_count": 6,
   "id": "ad89c1a2",
   "metadata": {},
   "outputs": [
    {
     "data": {
      "text/html": [
       "<div>\n",
       "<style scoped>\n",
       "    .dataframe tbody tr th:only-of-type {\n",
       "        vertical-align: middle;\n",
       "    }\n",
       "\n",
       "    .dataframe tbody tr th {\n",
       "        vertical-align: top;\n",
       "    }\n",
       "\n",
       "    .dataframe thead th {\n",
       "        text-align: right;\n",
       "    }\n",
       "</style>\n",
       "<table border=\"1\" class=\"dataframe\">\n",
       "  <thead>\n",
       "    <tr style=\"text-align: right;\">\n",
       "      <th>market_segment</th>\n",
       "      <th>Complementary</th>\n",
       "      <th>Corporate</th>\n",
       "      <th>Direct</th>\n",
       "      <th>Groups</th>\n",
       "      <th>Offline TA/TO</th>\n",
       "      <th>Online TA</th>\n",
       "    </tr>\n",
       "    <tr>\n",
       "      <th>is_canceled</th>\n",
       "      <th></th>\n",
       "      <th></th>\n",
       "      <th></th>\n",
       "      <th></th>\n",
       "      <th></th>\n",
       "      <th></th>\n",
       "    </tr>\n",
       "  </thead>\n",
       "  <tbody>\n",
       "    <tr>\n",
       "      <th>0</th>\n",
       "      <td>7</td>\n",
       "      <td>161</td>\n",
       "      <td>421</td>\n",
       "      <td>393</td>\n",
       "      <td>664</td>\n",
       "      <td>1056</td>\n",
       "    </tr>\n",
       "    <tr>\n",
       "      <th>1</th>\n",
       "      <td>4</td>\n",
       "      <td>100</td>\n",
       "      <td>197</td>\n",
       "      <td>627</td>\n",
       "      <td>265</td>\n",
       "      <td>1100</td>\n",
       "    </tr>\n",
       "  </tbody>\n",
       "</table>\n",
       "</div>"
      ],
      "text/plain": [
       "market_segment  Complementary  Corporate  Direct  Groups  Offline TA/TO  \\\n",
       "is_canceled                                                               \n",
       "0                           7        161     421     393            664   \n",
       "1                           4        100     197     627            265   \n",
       "\n",
       "market_segment  Online TA  \n",
       "is_canceled                \n",
       "0                    1056  \n",
       "1                    1100  "
      ]
     },
     "execution_count": 6,
     "metadata": {},
     "output_type": "execute_result"
    }
   ],
   "source": [
    "df_cancel_hotel= pd.crosstab(index = dataframe['is_canceled'], columns = dataframe['market_segment'])\n",
    "df_cancel_hotel"
   ]
  },
  {
   "cell_type": "code",
   "execution_count": 11,
   "id": "3bfebcc4",
   "metadata": {},
   "outputs": [
    {
     "data": {
      "text/plain": [
       "<Figure size 1600x1000 with 0 Axes>"
      ]
     },
     "metadata": {},
     "output_type": "display_data"
    },
    {
     "data": {
      "image/png": "[encoded data removed]",
      "text/plain": [
       "<Figure size 640x480 with 1 Axes>"
      ]
     },
     "metadata": {},
     "output_type": "display_data"
    }
   ],
   "source": [
    "import matplotlib.pyplot as plt\n",
    "\n",
    "plt.figure(figsize = (16,10))\n",
    "df_cancel_hotel.plot(kind = 'bar')\n",
    "plt.legend(loc = 'center')\n",
    "plt.show()"
   ]
  },
  {
   "cell_type": "code",
   "execution_count": 17,
   "id": "2d969669",
   "metadata": {},
   "outputs": [
    {
     "ename": "TypeError",
     "evalue": "'<' not supported between instances of 'str' and 'int'",
     "output_type": "error",
     "traceback": [
      "\u001b[1;31m---------------------------------------------------------------------------\u001b[0m",
      "\u001b[1;31mTypeError\u001b[0m                                 Traceback (most recent call last)",
      "\u001b[1;32m~\\AppData\\Local\\Temp\\ipykernel_7476\\1281568098.py\u001b[0m in \u001b[0;36m<module>\u001b[1;34m\u001b[0m\n\u001b[1;32m----> 1\u001b[1;33m \u001b[0mdataframe\u001b[0m\u001b[1;33m[\u001b[0m\u001b[1;34m'country'\u001b[0m\u001b[1;33m]\u001b[0m\u001b[1;33m.\u001b[0m\u001b[0mplot\u001b[0m\u001b[1;33m(\u001b[0m\u001b[0mkind\u001b[0m \u001b[1;33m=\u001b[0m \u001b[1;34m'pie'\u001b[0m\u001b[1;33m)\u001b[0m\u001b[1;33m\u001b[0m\u001b[1;33m\u001b[0m\u001b[0m\n\u001b[0m\u001b[0;32m      2\u001b[0m \u001b[0mplt\u001b[0m\u001b[1;33m.\u001b[0m\u001b[0mshow\u001b[0m\u001b[1;33m(\u001b[0m\u001b[1;33m)\u001b[0m\u001b[1;33m\u001b[0m\u001b[1;33m\u001b[0m\u001b[0m\n",
      "\u001b[1;32mC:\\ProgramData\\Anaconda3\\lib\\site-packages\\pandas\\plotting\\_core.py\u001b[0m in \u001b[0;36m__call__\u001b[1;34m(self, *args, **kwargs)\u001b[0m\n\u001b[0;32m    970\u001b[0m                     \u001b[0mdata\u001b[0m\u001b[1;33m.\u001b[0m\u001b[0mcolumns\u001b[0m \u001b[1;33m=\u001b[0m \u001b[0mlabel_name\u001b[0m\u001b[1;33m\u001b[0m\u001b[1;33m\u001b[0m\u001b[0m\n\u001b[0;32m    971\u001b[0m \u001b[1;33m\u001b[0m\u001b[0m\n\u001b[1;32m--> 972\u001b[1;33m         \u001b[1;32mreturn\u001b[0m \u001b[0mplot_backend\u001b[0m\u001b[1;33m.\u001b[0m\u001b[0mplot\u001b[0m\u001b[1;33m(\u001b[0m\u001b[0mdata\u001b[0m\u001b[1;33m,\u001b[0m \u001b[0mkind\u001b[0m\u001b[1;33m=\u001b[0m\u001b[0mkind\u001b[0m\u001b[1;33m,\u001b[0m \u001b[1;33m**\u001b[0m\u001b[0mkwargs\u001b[0m\u001b[1;33m)\u001b[0m\u001b[1;33m\u001b[0m\u001b[1;33m\u001b[0m\u001b[0m\n\u001b[0m\u001b[0;32m    973\u001b[0m \u001b[1;33m\u001b[0m\u001b[0m\n\u001b[0;32m    974\u001b[0m     \u001b[0m__call__\u001b[0m\u001b[1;33m.\u001b[0m\u001b[0m__doc__\u001b[0m \u001b[1;33m=\u001b[0m \u001b[0m__doc__\u001b[0m\u001b[1;33m\u001b[0m\u001b[1;33m\u001b[0m\u001b[0m\n",
      "\u001b[1;32mC:\\ProgramData\\Anaconda3\\lib\\site-packages\\pandas\\plotting\\_matplotlib\\__init__.py\u001b[0m in \u001b[0;36mplot\u001b[1;34m(data, kind, **kwargs)\u001b[0m\n\u001b[0;32m     68\u001b[0m                 \u001b[0max\u001b[0m \u001b[1;33m=\u001b[0m \u001b[0mplt\u001b[0m\u001b[1;33m.\u001b[0m\u001b[0mgca\u001b[0m\u001b[1;33m(\u001b[0m\u001b[1;33m)\u001b[0m\u001b[1;33m\u001b[0m\u001b[1;33m\u001b[0m\u001b[0m\n\u001b[0;32m     69\u001b[0m             \u001b[0mkwargs\u001b[0m\u001b[1;33m[\u001b[0m\u001b[1;34m\"ax\"\u001b[0m\u001b[1;33m]\u001b[0m \u001b[1;33m=\u001b[0m \u001b[0mgetattr\u001b[0m\u001b[1;33m(\u001b[0m\u001b[0max\u001b[0m\u001b[1;33m,\u001b[0m \u001b[1;34m\"left_ax\"\u001b[0m\u001b[1;33m,\u001b[0m \u001b[0max\u001b[0m\u001b[1;33m)\u001b[0m\u001b[1;33m\u001b[0m\u001b[1;33m\u001b[0m\u001b[0m\n\u001b[1;32m---> 70\u001b[1;33m     \u001b[0mplot_obj\u001b[0m \u001b[1;33m=\u001b[0m \u001b[0mPLOT_CLASSES\u001b[0m\u001b[1;33m[\u001b[0m\u001b[0mkind\u001b[0m\u001b[1;33m]\u001b[0m\u001b[1;33m(\u001b[0m\u001b[0mdata\u001b[0m\u001b[1;33m,\u001b[0m \u001b[1;33m**\u001b[0m\u001b[0mkwargs\u001b[0m\u001b[1;33m)\u001b[0m\u001b[1;33m\u001b[0m\u001b[1;33m\u001b[0m\u001b[0m\n\u001b[0m\u001b[0;32m     71\u001b[0m     \u001b[0mplot_obj\u001b[0m\u001b[1;33m.\u001b[0m\u001b[0mgenerate\u001b[0m\u001b[1;33m(\u001b[0m\u001b[1;33m)\u001b[0m\u001b[1;33m\u001b[0m\u001b[1;33m\u001b[0m\u001b[0m\n\u001b[0;32m     72\u001b[0m     \u001b[0mplot_obj\u001b[0m\u001b[1;33m.\u001b[0m\u001b[0mdraw\u001b[0m\u001b[1;33m(\u001b[0m\u001b[1;33m)\u001b[0m\u001b[1;33m\u001b[0m\u001b[1;33m\u001b[0m\u001b[0m\n",
      "\u001b[1;32mC:\\ProgramData\\Anaconda3\\lib\\site-packages\\pandas\\plotting\\_matplotlib\\core.py\u001b[0m in \u001b[0;36m__init__\u001b[1;34m(self, data, kind, **kwargs)\u001b[0m\n\u001b[0;32m   1624\u001b[0m     \u001b[1;32mdef\u001b[0m \u001b[0m__init__\u001b[0m\u001b[1;33m(\u001b[0m\u001b[0mself\u001b[0m\u001b[1;33m,\u001b[0m \u001b[0mdata\u001b[0m\u001b[1;33m,\u001b[0m \u001b[0mkind\u001b[0m\u001b[1;33m=\u001b[0m\u001b[1;32mNone\u001b[0m\u001b[1;33m,\u001b[0m \u001b[1;33m**\u001b[0m\u001b[0mkwargs\u001b[0m\u001b[1;33m)\u001b[0m\u001b[1;33m:\u001b[0m\u001b[1;33m\u001b[0m\u001b[1;33m\u001b[0m\u001b[0m\n\u001b[0;32m   1625\u001b[0m         \u001b[0mdata\u001b[0m \u001b[1;33m=\u001b[0m \u001b[0mdata\u001b[0m\u001b[1;33m.\u001b[0m\u001b[0mfillna\u001b[0m\u001b[1;33m(\u001b[0m\u001b[0mvalue\u001b[0m\u001b[1;33m=\u001b[0m\u001b[1;36m0\u001b[0m\u001b[1;33m)\u001b[0m\u001b[1;33m\u001b[0m\u001b[1;33m\u001b[0m\u001b[0m\n\u001b[1;32m-> 1626\u001b[1;33m         \u001b[1;32mif\u001b[0m \u001b[1;33m(\u001b[0m\u001b[0mdata\u001b[0m \u001b[1;33m<\u001b[0m \u001b[1;36m0\u001b[0m\u001b[1;33m)\u001b[0m\u001b[1;33m.\u001b[0m\u001b[0many\u001b[0m\u001b[1;33m(\u001b[0m\u001b[1;33m)\u001b[0m\u001b[1;33m.\u001b[0m\u001b[0many\u001b[0m\u001b[1;33m(\u001b[0m\u001b[1;33m)\u001b[0m\u001b[1;33m:\u001b[0m\u001b[1;33m\u001b[0m\u001b[1;33m\u001b[0m\u001b[0m\n\u001b[0m\u001b[0;32m   1627\u001b[0m             \u001b[1;32mraise\u001b[0m \u001b[0mValueError\u001b[0m\u001b[1;33m(\u001b[0m\u001b[1;34mf\"{self._kind} plot doesn't allow negative values\"\u001b[0m\u001b[1;33m)\u001b[0m\u001b[1;33m\u001b[0m\u001b[1;33m\u001b[0m\u001b[0m\n\u001b[0;32m   1628\u001b[0m         \u001b[0mMPLPlot\u001b[0m\u001b[1;33m.\u001b[0m\u001b[0m__init__\u001b[0m\u001b[1;33m(\u001b[0m\u001b[0mself\u001b[0m\u001b[1;33m,\u001b[0m \u001b[0mdata\u001b[0m\u001b[1;33m,\u001b[0m \u001b[0mkind\u001b[0m\u001b[1;33m=\u001b[0m\u001b[0mkind\u001b[0m\u001b[1;33m,\u001b[0m \u001b[1;33m**\u001b[0m\u001b[0mkwargs\u001b[0m\u001b[1;33m)\u001b[0m\u001b[1;33m\u001b[0m\u001b[1;33m\u001b[0m\u001b[0m\n",
      "\u001b[1;32mC:\\ProgramData\\Anaconda3\\lib\\site-packages\\pandas\\core\\ops\\common.py\u001b[0m in \u001b[0;36mnew_method\u001b[1;34m(self, other)\u001b[0m\n\u001b[0;32m     68\u001b[0m         \u001b[0mother\u001b[0m \u001b[1;33m=\u001b[0m \u001b[0mitem_from_zerodim\u001b[0m\u001b[1;33m(\u001b[0m\u001b[0mother\u001b[0m\u001b[1;33m)\u001b[0m\u001b[1;33m\u001b[0m\u001b[1;33m\u001b[0m\u001b[0m\n\u001b[0;32m     69\u001b[0m \u001b[1;33m\u001b[0m\u001b[0m\n\u001b[1;32m---> 70\u001b[1;33m         \u001b[1;32mreturn\u001b[0m \u001b[0mmethod\u001b[0m\u001b[1;33m(\u001b[0m\u001b[0mself\u001b[0m\u001b[1;33m,\u001b[0m \u001b[0mother\u001b[0m\u001b[1;33m)\u001b[0m\u001b[1;33m\u001b[0m\u001b[1;33m\u001b[0m\u001b[0m\n\u001b[0m\u001b[0;32m     71\u001b[0m \u001b[1;33m\u001b[0m\u001b[0m\n\u001b[0;32m     72\u001b[0m     \u001b[1;32mreturn\u001b[0m \u001b[0mnew_method\u001b[0m\u001b[1;33m\u001b[0m\u001b[1;33m\u001b[0m\u001b[0m\n",
      "\u001b[1;32mC:\\ProgramData\\Anaconda3\\lib\\site-packages\\pandas\\core\\arraylike.py\u001b[0m in \u001b[0;36m__lt__\u001b[1;34m(self, other)\u001b[0m\n\u001b[0;32m     46\u001b[0m     \u001b[1;33m@\u001b[0m\u001b[0munpack_zerodim_and_defer\u001b[0m\u001b[1;33m(\u001b[0m\u001b[1;34m\"__lt__\"\u001b[0m\u001b[1;33m)\u001b[0m\u001b[1;33m\u001b[0m\u001b[1;33m\u001b[0m\u001b[0m\n\u001b[0;32m     47\u001b[0m     \u001b[1;32mdef\u001b[0m \u001b[0m__lt__\u001b[0m\u001b[1;33m(\u001b[0m\u001b[0mself\u001b[0m\u001b[1;33m,\u001b[0m \u001b[0mother\u001b[0m\u001b[1;33m)\u001b[0m\u001b[1;33m:\u001b[0m\u001b[1;33m\u001b[0m\u001b[1;33m\u001b[0m\u001b[0m\n\u001b[1;32m---> 48\u001b[1;33m         \u001b[1;32mreturn\u001b[0m \u001b[0mself\u001b[0m\u001b[1;33m.\u001b[0m\u001b[0m_cmp_method\u001b[0m\u001b[1;33m(\u001b[0m\u001b[0mother\u001b[0m\u001b[1;33m,\u001b[0m \u001b[0moperator\u001b[0m\u001b[1;33m.\u001b[0m\u001b[0mlt\u001b[0m\u001b[1;33m)\u001b[0m\u001b[1;33m\u001b[0m\u001b[1;33m\u001b[0m\u001b[0m\n\u001b[0m\u001b[0;32m     49\u001b[0m \u001b[1;33m\u001b[0m\u001b[0m\n\u001b[0;32m     50\u001b[0m     \u001b[1;33m@\u001b[0m\u001b[0munpack_zerodim_and_defer\u001b[0m\u001b[1;33m(\u001b[0m\u001b[1;34m\"__le__\"\u001b[0m\u001b[1;33m)\u001b[0m\u001b[1;33m\u001b[0m\u001b[1;33m\u001b[0m\u001b[0m\n",
      "\u001b[1;32mC:\\ProgramData\\Anaconda3\\lib\\site-packages\\pandas\\core\\series.py\u001b[0m in \u001b[0;36m_cmp_method\u001b[1;34m(self, other, op)\u001b[0m\n\u001b[0;32m   5621\u001b[0m \u001b[1;33m\u001b[0m\u001b[0m\n\u001b[0;32m   5622\u001b[0m         \u001b[1;32mwith\u001b[0m \u001b[0mnp\u001b[0m\u001b[1;33m.\u001b[0m\u001b[0merrstate\u001b[0m\u001b[1;33m(\u001b[0m\u001b[0mall\u001b[0m\u001b[1;33m=\u001b[0m\u001b[1;34m\"ignore\"\u001b[0m\u001b[1;33m)\u001b[0m\u001b[1;33m:\u001b[0m\u001b[1;33m\u001b[0m\u001b[1;33m\u001b[0m\u001b[0m\n\u001b[1;32m-> 5623\u001b[1;33m             \u001b[0mres_values\u001b[0m \u001b[1;33m=\u001b[0m \u001b[0mops\u001b[0m\u001b[1;33m.\u001b[0m\u001b[0mcomparison_op\u001b[0m\u001b[1;33m(\u001b[0m\u001b[0mlvalues\u001b[0m\u001b[1;33m,\u001b[0m \u001b[0mrvalues\u001b[0m\u001b[1;33m,\u001b[0m \u001b[0mop\u001b[0m\u001b[1;33m)\u001b[0m\u001b[1;33m\u001b[0m\u001b[1;33m\u001b[0m\u001b[0m\n\u001b[0m\u001b[0;32m   5624\u001b[0m \u001b[1;33m\u001b[0m\u001b[0m\n\u001b[0;32m   5625\u001b[0m         \u001b[1;32mreturn\u001b[0m \u001b[0mself\u001b[0m\u001b[1;33m.\u001b[0m\u001b[0m_construct_result\u001b[0m\u001b[1;33m(\u001b[0m\u001b[0mres_values\u001b[0m\u001b[1;33m,\u001b[0m \u001b[0mname\u001b[0m\u001b[1;33m=\u001b[0m\u001b[0mres_name\u001b[0m\u001b[1;33m)\u001b[0m\u001b[1;33m\u001b[0m\u001b[1;33m\u001b[0m\u001b[0m\n",
      "\u001b[1;32mC:\\ProgramData\\Anaconda3\\lib\\site-packages\\pandas\\core\\ops\\array_ops.py\u001b[0m in \u001b[0;36mcomparison_op\u001b[1;34m(left, right, op)\u001b[0m\n\u001b[0;32m    281\u001b[0m \u001b[1;33m\u001b[0m\u001b[0m\n\u001b[0;32m    282\u001b[0m     \u001b[1;32melif\u001b[0m \u001b[0mis_object_dtype\u001b[0m\u001b[1;33m(\u001b[0m\u001b[0mlvalues\u001b[0m\u001b[1;33m.\u001b[0m\u001b[0mdtype\u001b[0m\u001b[1;33m)\u001b[0m \u001b[1;32mor\u001b[0m \u001b[0misinstance\u001b[0m\u001b[1;33m(\u001b[0m\u001b[0mrvalues\u001b[0m\u001b[1;33m,\u001b[0m \u001b[0mstr\u001b[0m\u001b[1;33m)\u001b[0m\u001b[1;33m:\u001b[0m\u001b[1;33m\u001b[0m\u001b[1;33m\u001b[0m\u001b[0m\n\u001b[1;32m--> 283\u001b[1;33m         \u001b[0mres_values\u001b[0m \u001b[1;33m=\u001b[0m \u001b[0mcomp_method_OBJECT_ARRAY\u001b[0m\u001b[1;33m(\u001b[0m\u001b[0mop\u001b[0m\u001b[1;33m,\u001b[0m \u001b[0mlvalues\u001b[0m\u001b[1;33m,\u001b[0m \u001b[0mrvalues\u001b[0m\u001b[1;33m)\u001b[0m\u001b[1;33m\u001b[0m\u001b[1;33m\u001b[0m\u001b[0m\n\u001b[0m\u001b[0;32m    284\u001b[0m \u001b[1;33m\u001b[0m\u001b[0m\n\u001b[0;32m    285\u001b[0m     \u001b[1;32melse\u001b[0m\u001b[1;33m:\u001b[0m\u001b[1;33m\u001b[0m\u001b[1;33m\u001b[0m\u001b[0m\n",
      "\u001b[1;32mC:\\ProgramData\\Anaconda3\\lib\\site-packages\\pandas\\core\\ops\\array_ops.py\u001b[0m in \u001b[0;36mcomp_method_OBJECT_ARRAY\u001b[1;34m(op, x, y)\u001b[0m\n\u001b[0;32m     71\u001b[0m         \u001b[0mresult\u001b[0m \u001b[1;33m=\u001b[0m \u001b[0mlibops\u001b[0m\u001b[1;33m.\u001b[0m\u001b[0mvec_compare\u001b[0m\u001b[1;33m(\u001b[0m\u001b[0mx\u001b[0m\u001b[1;33m.\u001b[0m\u001b[0mravel\u001b[0m\u001b[1;33m(\u001b[0m\u001b[1;33m)\u001b[0m\u001b[1;33m,\u001b[0m \u001b[0my\u001b[0m\u001b[1;33m.\u001b[0m\u001b[0mravel\u001b[0m\u001b[1;33m(\u001b[0m\u001b[1;33m)\u001b[0m\u001b[1;33m,\u001b[0m \u001b[0mop\u001b[0m\u001b[1;33m)\u001b[0m\u001b[1;33m\u001b[0m\u001b[1;33m\u001b[0m\u001b[0m\n\u001b[0;32m     72\u001b[0m     \u001b[1;32melse\u001b[0m\u001b[1;33m:\u001b[0m\u001b[1;33m\u001b[0m\u001b[1;33m\u001b[0m\u001b[0m\n\u001b[1;32m---> 73\u001b[1;33m         \u001b[0mresult\u001b[0m \u001b[1;33m=\u001b[0m \u001b[0mlibops\u001b[0m\u001b[1;33m.\u001b[0m\u001b[0mscalar_compare\u001b[0m\u001b[1;33m(\u001b[0m\u001b[0mx\u001b[0m\u001b[1;33m.\u001b[0m\u001b[0mravel\u001b[0m\u001b[1;33m(\u001b[0m\u001b[1;33m)\u001b[0m\u001b[1;33m,\u001b[0m \u001b[0my\u001b[0m\u001b[1;33m,\u001b[0m \u001b[0mop\u001b[0m\u001b[1;33m)\u001b[0m\u001b[1;33m\u001b[0m\u001b[1;33m\u001b[0m\u001b[0m\n\u001b[0m\u001b[0;32m     74\u001b[0m     \u001b[1;32mreturn\u001b[0m \u001b[0mresult\u001b[0m\u001b[1;33m.\u001b[0m\u001b[0mreshape\u001b[0m\u001b[1;33m(\u001b[0m\u001b[0mx\u001b[0m\u001b[1;33m.\u001b[0m\u001b[0mshape\u001b[0m\u001b[1;33m)\u001b[0m\u001b[1;33m\u001b[0m\u001b[1;33m\u001b[0m\u001b[0m\n\u001b[0;32m     75\u001b[0m \u001b[1;33m\u001b[0m\u001b[0m\n",
      "\u001b[1;32mC:\\ProgramData\\Anaconda3\\lib\\site-packages\\pandas\\_libs\\ops.pyx\u001b[0m in \u001b[0;36mpandas._libs.ops.scalar_compare\u001b[1;34m()\u001b[0m\n",
      "\u001b[1;31mTypeError\u001b[0m: '<' not supported between instances of 'str' and 'int'"
     ]
    }
   ],
   "source": [
    "dataframe['country'].plot()\n",
    "plt.show()"
   ]
  },
  {
   "cell_type": "code",
   "execution_count": null,
   "id": "c0617461",
   "metadata": {},
   "outputs": [],
   "source": [
    "data"
   ]
  }
 ],
 "metadata": {
  "kernelspec": {
   "display_name": "Python 3 (ipykernel)",
   "language": "python",
   "name": "python3"
  },
  "language_info": {
   "codemirror_mode": {
    "name": "ipython",
    "version": 3
   },
   "file_extension": ".py",
   "mimetype": "text/x-python",
   "name": "python",
   "nbconvert_exporter": "python",
   "pygments_lexer": "ipython3",
   "version": "3.11.4"
  }
 },
 "nbformat": 4,
 "nbformat_minor": 5
}
