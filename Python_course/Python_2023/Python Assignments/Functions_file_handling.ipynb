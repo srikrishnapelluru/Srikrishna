{
 "cells": [
  {
   "cell_type": "markdown",
   "metadata": {},
   "source": [
    "# File handling\n",
    "\n",
    "<b>Q1. Write a Python program to read a file line by line and store it into a list</b>\n",
    "\n",
    "<b>Q2. Write a Python program to extract characters from various text files and puts them into a list.</b>\n",
    "\n",
    "words1.txt <br>\n",
    "Welcome to the Python Wiki, a user-editable compendium of knowledge\n",
    "based around the Python programming language. Some pages are protected\n",
    "against casual editing - see WikiEditingGuidelines for more information\n",
    "about editing content. <br>\n",
    "words2.txt <br>\n",
    "Python is a great object-oriented, interpreted, and interactive\n",
    "programming language. It is often compared (favorably of course :-) )\n",
    "to Lisp, Tcl, Perl, Ruby, C#, Visual Basic, Visual Fox Pro, Scheme or Java...\n",
    "and it's much more fun. <br>\n",
    "\n",
    "# Functions\n",
    "\n",
    "<b>1. Write a Python function to find the Max of three numbers.  </b>\n",
    "\n",
    "<b>2. Write a Python function to sum all the numbers in a list </b>\n",
    "\n",
    "<b>3. Write a Python function to check whether a string is a pangram or not. </b> <br>\n",
    "Note : Pangrams are words or sentences containing every letter of the alphabet at least once.<br>\n",
    "For example : \"The quick brown fox jumps over the lazy dog\"\n",
    "\n",
    "<b>4. Write a Python program to sort a list of tuples using Lambda.</b> <br>\n",
    "Original list of tuples:<br>\n",
    "[('English', 88), ('Science', 90), ('Maths', 97), ('Social sciences', 82)]<br>\n",
    "Sorting the List of Tuples:<br>\n",
    "[('Social sciences', 82), ('English', 88), ('Science', 90), ('Maths', 97)]<br>\n",
    "\n",
    "<b>5. Write a Python program to get the Fibonacci series between 0 to 50. </b>\n",
    "\n",
    "<b>6. Write a Python program to convert temperatures to and from celsius, fahrenheit </b>\n",
    "\n",
    "<b>7. Write a Python program to count the number of even and odd numbers from a series of numbers. </b>\n",
    "\n",
    "<b>8. Write a Python program which iterates the integers from 1 to 50. For multiples of three print \"Fizz\" instead of the number and for the multiples of five print \"Buzz\". For numbers which are multiples of both three and five print \"FizzBuzz\". </b>"
   ]
  },
  {
   "cell_type": "code",
   "execution_count": null,
   "metadata": {},
   "outputs": [],
   "source": []
  }
 ],
 "metadata": {
  "kernelspec": {
   "display_name": "Python 3 (ipykernel)",
   "language": "python",
   "name": "python3"
  },
  "language_info": {
   "codemirror_mode": {
    "name": "ipython",
    "version": 3
   },
   "file_extension": ".py",
   "mimetype": "text/x-python",
   "name": "python",
   "nbconvert_exporter": "python",
   "pygments_lexer": "ipython3",
   "version": "3.9.12"
  }
 },
 "nbformat": 4,
 "nbformat_minor": 4
}
