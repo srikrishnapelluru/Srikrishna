{
 "cells": [
  {
   "cell_type": "markdown",
   "id": "189e4a9a",
   "metadata": {},
   "source": [
    "# For loop"
   ]
  },
  {
   "cell_type": "code",
   "execution_count": null,
   "id": "32874db6",
   "metadata": {},
   "outputs": [],
   "source": [
    "syntax\n",
    "\n",
    "for var in iterable:\n",
    "    stat1\n",
    "    stat2\n",
    "    stat3\n",
    "    stat4"
   ]
  },
  {
   "cell_type": "code",
   "execution_count": 23,
   "id": "e98801e9",
   "metadata": {},
   "outputs": [
    {
     "ename": "SyntaxError",
     "evalue": "cannot assign to True (1488504101.py, line 1)",
     "output_type": "error",
     "traceback": [
      "\u001b[1;36m  Cell \u001b[1;32mIn[23], line 1\u001b[1;36m\u001b[0m\n\u001b[1;33m    True = 100\u001b[0m\n\u001b[1;37m    ^\u001b[0m\n\u001b[1;31mSyntaxError\u001b[0m\u001b[1;31m:\u001b[0m cannot assign to True\n"
     ]
    }
   ],
   "source": [
    "True = 100\n",
    "\n",
    "i,j,k"
   ]
  },
  {
   "cell_type": "code",
   "execution_count": 18,
   "id": "3e6f56a6",
   "metadata": {},
   "outputs": [
    {
     "name": "stdout",
     "output_type": "stream",
     "text": [
      "Hi\n",
      "Hi\n",
      "Hi\n",
      "Hi\n",
      "Hi\n",
      "Hi\n"
     ]
    }
   ],
   "source": [
    "print('Hi')\n",
    "print('Hi')\n",
    "print('Hi')\n",
    "print('Hi')\n",
    "print('Hi')\n",
    "print('Hi')"
   ]
  },
  {
   "cell_type": "code",
   "execution_count": null,
   "id": "bf794be9",
   "metadata": {},
   "outputs": [],
   "source": [
    "# iterable- How to identify any data type as an iterable\n",
    "\n",
    "1. If the len function is applicable \n",
    "\n",
    "2. print(dir(object)) ---> __iter__"
   ]
  },
  {
   "cell_type": "code",
   "execution_count": 24,
   "id": "38b05bd6",
   "metadata": {},
   "outputs": [
    {
     "data": {
      "text/plain": [
       "6"
      ]
     },
     "execution_count": 24,
     "metadata": {},
     "output_type": "execute_result"
    }
   ],
   "source": [
    "len('python')"
   ]
  },
  {
   "cell_type": "code",
   "execution_count": 26,
   "id": "b09b3895",
   "metadata": {},
   "outputs": [
    {
     "data": {
      "text/plain": [
       "3"
      ]
     },
     "execution_count": 26,
     "metadata": {},
     "output_type": "execute_result"
    }
   ],
   "source": [
    "len(['python' , 'data' , 'hello'])"
   ]
  },
  {
   "cell_type": "code",
   "execution_count": 27,
   "id": "f6084bc8",
   "metadata": {},
   "outputs": [
    {
     "ename": "TypeError",
     "evalue": "object of type 'int' has no len()",
     "output_type": "error",
     "traceback": [
      "\u001b[1;31m---------------------------------------------------------------------------\u001b[0m",
      "\u001b[1;31mTypeError\u001b[0m                                 Traceback (most recent call last)",
      "Cell \u001b[1;32mIn[27], line 1\u001b[0m\n\u001b[1;32m----> 1\u001b[0m \u001b[38;5;28mlen\u001b[39m(\u001b[38;5;241m3434\u001b[39m)\n",
      "\u001b[1;31mTypeError\u001b[0m: object of type 'int' has no len()"
     ]
    }
   ],
   "source": [
    "len(3434)"
   ]
  },
  {
   "cell_type": "code",
   "execution_count": 28,
   "id": "22e90bd0",
   "metadata": {},
   "outputs": [
    {
     "data": {
      "text/plain": [
       "4"
      ]
     },
     "execution_count": 28,
     "metadata": {},
     "output_type": "execute_result"
    }
   ],
   "source": [
    "len('3434')"
   ]
  },
  {
   "cell_type": "code",
   "execution_count": 32,
   "id": "06bc3bab",
   "metadata": {},
   "outputs": [
    {
     "name": "stdout",
     "output_type": "stream",
     "text": [
      "['__abs__', '__add__', '__bool__', '__class__', '__complex__', '__delattr__', '__dir__', '__doc__', '__eq__', '__format__', '__ge__', '__getattribute__', '__getnewargs__', '__getstate__', '__gt__', '__hash__', '__init__', '__init_subclass__', '__le__', '__lt__', '__mul__', '__ne__', '__neg__', '__new__', '__pos__', '__pow__', '__radd__', '__reduce__', '__reduce_ex__', '__repr__', '__rmul__', '__rpow__', '__rsub__', '__rtruediv__', '__setattr__', '__sizeof__', '__str__', '__sub__', '__subclasshook__', '__truediv__', 'conjugate', 'imag', 'real']\n"
     ]
    }
   ],
   "source": [
    "print(dir(complex))"
   ]
  },
  {
   "cell_type": "code",
   "execution_count": 35,
   "id": "b9842659",
   "metadata": {},
   "outputs": [
    {
     "name": "stdout",
     "output_type": "stream",
     "text": [
      "5\n",
      "python\n",
      "python\n",
      "python\n",
      "python\n",
      "python\n"
     ]
    }
   ],
   "source": [
    "a = 'hello'\n",
    "\n",
    "\n",
    "print(len(a))\n",
    "\n",
    "for var in a:\n",
    "    print('hello world')"
   ]
  },
  {
   "cell_type": "code",
   "execution_count": null,
   "id": "b78d8ac1",
   "metadata": {},
   "outputs": [],
   "source": [
    "for iteration 1 --> var = h\n",
    "hello world\n",
    "\n",
    "for iteration 2 var = e\n",
    "hello world\n",
    "\n",
    "for iteration 3 var = l\n",
    "hello world\n",
    ".\n",
    ".\n",
    "for iteration 5 var = o\n",
    "hello world"
   ]
  },
  {
   "cell_type": "code",
   "execution_count": 39,
   "id": "4db30c3c",
   "metadata": {},
   "outputs": [
    {
     "name": "stdout",
     "output_type": "stream",
     "text": [
      "5\n",
      "hello world\n",
      "hello world\n",
      "hello world\n",
      "hello world\n",
      "hello world\n"
     ]
    }
   ],
   "source": [
    "a = 'hello'\n",
    "\n",
    "\n",
    "print(len(a))\n",
    "\n",
    "for var in a:\n",
    "    print('hello world')"
   ]
  },
  {
   "cell_type": "code",
   "execution_count": 38,
   "id": "02538c8b",
   "metadata": {},
   "outputs": [
    {
     "name": "stdout",
     "output_type": "stream",
     "text": [
      "2\n",
      "statement execution\n",
      "statement execution\n"
     ]
    }
   ],
   "source": [
    "a = ['hello' , 'world']\n",
    "\n",
    "\n",
    "print(len(a))\n",
    "\n",
    "for var in a:\n",
    "    print('statement execution')"
   ]
  },
  {
   "cell_type": "code",
   "execution_count": null,
   "id": "f88f98c6",
   "metadata": {},
   "outputs": [],
   "source": [
    "a = ['hello' , 'world']\n",
    "\n",
    "\n",
    "print(len(a))\n",
    "\n",
    "for var in a:\n",
    "    print('statement execution')"
   ]
  },
  {
   "cell_type": "code",
   "execution_count": 41,
   "id": "a88b5931",
   "metadata": {},
   "outputs": [
    {
     "name": "stdout",
     "output_type": "stream",
     "text": [
      "1 HI\n",
      "2 HI\n",
      "3 HI\n"
     ]
    }
   ],
   "source": [
    "a = '123'\n",
    "\n",
    "\n",
    "for var in a:\n",
    "    print(var , 'HI')"
   ]
  },
  {
   "cell_type": "code",
   "execution_count": null,
   "id": "b47be438",
   "metadata": {},
   "outputs": [],
   "source": [
    "var --> '1'\n",
    "'1' HI\n",
    "\n",
    "var --> '2'\n",
    "'2' HI\n",
    "\n",
    "var --> '3'\n",
    "'3' HI"
   ]
  },
  {
   "cell_type": "code",
   "execution_count": 43,
   "id": "1ef8efc6",
   "metadata": {},
   "outputs": [
    {
     "name": "stdout",
     "output_type": "stream",
     "text": [
      "hello 1\n",
      "hello 2\n",
      "hello 3\n",
      "hello 4\n",
      "hello 5\n",
      "hello 6\n",
      "hello 7\n",
      "hello 8\n",
      "hello 9\n",
      "hello 10\n"
     ]
    }
   ],
   "source": [
    "\n",
    "for var in range(1,11):\n",
    "    print('hello' , var)"
   ]
  },
  {
   "cell_type": "code",
   "execution_count": 42,
   "id": "bd161eeb",
   "metadata": {},
   "outputs": [
    {
     "data": {
      "text/plain": [
       "[1, 2, 3, 4, 5, 6, 7, 8, 9, 10]"
      ]
     },
     "execution_count": 42,
     "metadata": {},
     "output_type": "execute_result"
    }
   ],
   "source": [
    "list(range(1,11))"
   ]
  },
  {
   "cell_type": "code",
   "execution_count": 44,
   "id": "abbf7489",
   "metadata": {},
   "outputs": [
    {
     "name": "stdout",
     "output_type": "stream",
     "text": [
      "2\n",
      "4\n",
      "6\n",
      "8\n",
      "10\n",
      "12\n",
      "14\n",
      "16\n",
      "18\n",
      "20\n"
     ]
    }
   ],
   "source": [
    "\n",
    "for var in range(1,11):\n",
    "    print(var * 2)"
   ]
  },
  {
   "cell_type": "code",
   "execution_count": 46,
   "id": "33af6a19",
   "metadata": {},
   "outputs": [
    {
     "name": "stdout",
     "output_type": "stream",
     "text": [
      "3\n",
      "statement execution hello\n",
      "statement execution world\n",
      "statement execution ['a', 'b', 'c']\n"
     ]
    }
   ],
   "source": [
    "a = ['hello' , 'world' , ['a' , 'b' , 'c']]\n",
    "\n",
    "\n",
    "print(len(a))\n",
    "\n",
    "for var in a:\n",
    "    print('statement execution' , var)"
   ]
  },
  {
   "cell_type": "code",
   "execution_count": 47,
   "id": "4c3602d0",
   "metadata": {},
   "outputs": [
    {
     "name": "stdout",
     "output_type": "stream",
     "text": [
      "2\n",
      "4\n",
      "6\n",
      "8\n",
      "10\n",
      "12\n",
      "14\n",
      "16\n",
      "18\n",
      "20\n"
     ]
    }
   ],
   "source": [
    "\n",
    "for var in range(1,11):\n",
    "    print(var * 2)"
   ]
  },
  {
   "cell_type": "code",
   "execution_count": 48,
   "id": "2e47d80c",
   "metadata": {},
   "outputs": [
    {
     "name": "stdout",
     "output_type": "stream",
     "text": [
      "2 * 1 = 2\n",
      "2 * 2 = 4\n",
      "2 * 3 = 6\n",
      "2 * 4 = 8\n",
      "2 * 5 = 10\n",
      "2 * 6 = 12\n",
      "2 * 7 = 14\n",
      "2 * 8 = 16\n",
      "2 * 9 = 18\n",
      "2 * 10 = 20\n"
     ]
    }
   ],
   "source": [
    "\n",
    "for var in range(1,11):\n",
    "    print(2 ,'*',var,'=',var * 2)"
   ]
  },
  {
   "cell_type": "code",
   "execution_count": 49,
   "id": "b1a0f21e",
   "metadata": {},
   "outputs": [
    {
     "name": "stdout",
     "output_type": "stream",
     "text": [
      "2  *   1  =   2\n",
      "2  *   2  =   4\n",
      "2  *   3  =   6\n",
      "2  *   4  =   8\n",
      "2  *   5  =   10\n",
      "2  *   6  =   12\n",
      "2  *   7  =   14\n",
      "2  *   8  =   16\n",
      "2  *   9  =   18\n",
      "2  *   10  =   20\n"
     ]
    }
   ],
   "source": [
    "\n",
    "for i in range(1,11):\n",
    "    print(f\"2  *   {i}  =   {i*2}\")"
   ]
  },
  {
   "cell_type": "code",
   "execution_count": 62,
   "id": "2494982e",
   "metadata": {},
   "outputs": [
    {
     "name": "stdout",
     "output_type": "stream",
     "text": [
      "8\n",
      "8  *   1  =   8\n",
      "8  *   2  =   16\n",
      "8  *   3  =   24\n",
      "8  *   4  =   32\n",
      "8  *   5  =   40\n",
      "8  *   6  =   48\n",
      "8  *   7  =   56\n",
      "8  *   8  =   64\n",
      "8  *   9  =   72\n",
      "8  *   10  =   80\n"
     ]
    }
   ],
   "source": [
    "num = int(input())\n",
    "\n",
    "for i in range(1,11):\n",
    "    print(f\"{num}  *   {i}  =   {i*num}\")"
   ]
  },
  {
   "cell_type": "code",
   "execution_count": 64,
   "id": "7667056c",
   "metadata": {},
   "outputs": [
    {
     "data": {
      "text/plain": [
       "'66666'"
      ]
     },
     "execution_count": 64,
     "metadata": {},
     "output_type": "execute_result"
    }
   ],
   "source": [
    "'6'*5"
   ]
  },
  {
   "cell_type": "code",
   "execution_count": 63,
   "id": "e505e0c0",
   "metadata": {},
   "outputs": [
    {
     "name": "stdout",
     "output_type": "stream",
     "text": [
      "6\n",
      "8\n",
      "10\n",
      "12\n",
      "14\n",
      "6\n",
      "10\n",
      "12\n",
      "14\n",
      "16\n"
     ]
    }
   ],
   "source": [
    "a = [3,4,5,6,7,3,5,6,7,8]\n",
    "\n",
    "for i in a:\n",
    "    print(i*2)"
   ]
  },
  {
   "cell_type": "code",
   "execution_count": 66,
   "id": "43a85ff9",
   "metadata": {},
   "outputs": [
    {
     "name": "stdout",
     "output_type": "stream",
     "text": [
      "6\n",
      "8\n",
      "10\n",
      "12\n",
      "14\n",
      "6\n",
      "10\n",
      "12\n",
      "14\n",
      "16\n"
     ]
    }
   ],
   "source": [
    "a = [3,4,5,6,7,3,5,6,7,8]\n",
    "b = []\n",
    "\n",
    "for i in a:\n",
    "    print(i*2)\n",
    "    b.append(i*2)"
   ]
  },
  {
   "cell_type": "code",
   "execution_count": 67,
   "id": "0610234e",
   "metadata": {},
   "outputs": [
    {
     "data": {
      "text/plain": [
       "[6, 8, 10, 12, 14, 6, 10, 12, 14, 16]"
      ]
     },
     "execution_count": 67,
     "metadata": {},
     "output_type": "execute_result"
    }
   ],
   "source": [
    "b"
   ]
  },
  {
   "cell_type": "code",
   "execution_count": 73,
   "id": "35fecad4",
   "metadata": {},
   "outputs": [
    {
     "name": "stdout",
     "output_type": "stream",
     "text": [
      "[73.4, 93.2, 100.4, 96.8, 104.0]\n"
     ]
    }
   ],
   "source": [
    "cel = [23,34,38,36,40]\n",
    "far = []\n",
    "\n",
    "for T in cel:\n",
    "    far.append((T * (9/5))+32)\n",
    "print(far)"
   ]
  },
  {
   "cell_type": "code",
   "execution_count": 77,
   "id": "69664a80",
   "metadata": {},
   "outputs": [],
   "source": [
    "lst = [23,324,34,45,45,564,56,56,56,6767,67,76,67,76,567,56]\n",
    "even = []\n",
    "odd = []\n",
    "\n",
    "for i in lst:\n",
    "    if i%2==0:\n",
    "        even.append(i)\n",
    "    else:\n",
    "        odd.append(i)"
   ]
  },
  {
   "cell_type": "code",
   "execution_count": 78,
   "id": "1f3fe641",
   "metadata": {},
   "outputs": [
    {
     "data": {
      "text/plain": [
       "[324, 34, 564, 56, 56, 56, 76, 76, 56]"
      ]
     },
     "execution_count": 78,
     "metadata": {},
     "output_type": "execute_result"
    }
   ],
   "source": [
    "even"
   ]
  },
  {
   "cell_type": "code",
   "execution_count": 79,
   "id": "c0a689c7",
   "metadata": {},
   "outputs": [
    {
     "data": {
      "text/plain": [
       "[23, 45, 45, 6767, 67, 67, 567]"
      ]
     },
     "execution_count": 79,
     "metadata": {},
     "output_type": "execute_result"
    }
   ],
   "source": [
    "odd"
   ]
  },
  {
   "cell_type": "code",
   "execution_count": 91,
   "id": "eecd46df",
   "metadata": {},
   "outputs": [],
   "source": [
    "a = ['Sriram@gmail.com' , 'Abhijeet@yahoo.com' , 'Abhishek@gmail.com', 'Chandan@hotmail.com',\n",
    "       'xyz@gmail.com' , 'akanksha@gmail.com']\n",
    "\n",
    "user_name = []\n",
    "\n",
    "for i in a:\n",
    "    user_name.append(i.split('@')[0])"
   ]
  },
  {
   "cell_type": "code",
   "execution_count": 92,
   "id": "cb9ba344",
   "metadata": {},
   "outputs": [
    {
     "data": {
      "text/plain": [
       "['Sriram', 'Abhijeet', 'Abhishek', 'Chandan', 'xyz', 'akanksha']"
      ]
     },
     "execution_count": 92,
     "metadata": {},
     "output_type": "execute_result"
    }
   ],
   "source": [
    "user_name"
   ]
  },
  {
   "cell_type": "code",
   "execution_count": 94,
   "id": "1fdf2832",
   "metadata": {},
   "outputs": [
    {
     "name": "stdout",
     "output_type": "stream",
     "text": [
      "['Sriram@gmail.com', 'Abhishek@gmail.com', 'xyz@gmail.com', 'akanksha@gmail.com']\n"
     ]
    }
   ],
   "source": [
    "a = ['Sriram@gmail.com' , 'Abhijeet@yahoo.com' , 'Abhishek@gmail.com', 'Chandan@hotmail.com',\n",
    "       'xyz@gmail.com' , 'akanksha@gmail.com']\n",
    "\n",
    "gmail = []\n",
    "\n",
    "for i in a:\n",
    "    if 'gmail.com' in i:\n",
    "        gmail.append(i)\n",
    "        \n",
    "print(gmail)"
   ]
  },
  {
   "cell_type": "markdown",
   "id": "bc1a967e",
   "metadata": {},
   "source": [
    "# List comprehension\n",
    "\n",
    "- Reduce the no of line in the code\n",
    "\n",
    "syntax\n",
    "\n",
    "for var in iterable:\n",
    "    stat\n",
    "    stat\n",
    "    \n",
    "[expression for var in iterable]"
   ]
  },
  {
   "cell_type": "code",
   "execution_count": 96,
   "id": "ad8b801e",
   "metadata": {},
   "outputs": [
    {
     "data": {
      "text/plain": [
       "[6, 8, 10, 12, 14, 6, 10, 12, 14, 16]"
      ]
     },
     "execution_count": 96,
     "metadata": {},
     "output_type": "execute_result"
    }
   ],
   "source": [
    "a = [3,4,5,6,7,3,5,6,7,8]\n",
    "b = []\n",
    "\n",
    "for i in a:\n",
    "    b.append(i*2)\n",
    "    \n",
    "b"
   ]
  },
  {
   "cell_type": "code",
   "execution_count": 97,
   "id": "466deee8",
   "metadata": {},
   "outputs": [
    {
     "data": {
      "text/plain": [
       "[6, 8, 10, 12, 14, 6, 10, 12, 14, 16]"
      ]
     },
     "execution_count": 97,
     "metadata": {},
     "output_type": "execute_result"
    }
   ],
   "source": [
    "a = [3,4,5,6,7,3,5,6,7,8]\n",
    "b = [i * 2 for i in a]\n",
    "\n",
    "b"
   ]
  },
  {
   "cell_type": "code",
   "execution_count": 98,
   "id": "0308cf84",
   "metadata": {},
   "outputs": [
    {
     "name": "stdout",
     "output_type": "stream",
     "text": [
      "[73.4, 93.2, 100.4, 96.8, 104.0]\n"
     ]
    }
   ],
   "source": [
    "cel = [23,34,38,36,40]\n",
    "far = []\n",
    "\n",
    "for T in cel:\n",
    "    far.append((T * (9/5))+32)\n",
    "    \n",
    "print(far)"
   ]
  },
  {
   "cell_type": "code",
   "execution_count": 99,
   "id": "4f50581a",
   "metadata": {},
   "outputs": [
    {
     "name": "stdout",
     "output_type": "stream",
     "text": [
      "[73.4, 93.2, 100.4, 96.8, 104.0]\n"
     ]
    }
   ],
   "source": [
    "cel = [23,34,38,36,40]\n",
    "far = [(T * (9/5))+32 for T in cel]\n",
    "\n",
    "print(far)"
   ]
  },
  {
   "cell_type": "code",
   "execution_count": 100,
   "id": "8ba99946",
   "metadata": {},
   "outputs": [
    {
     "name": "stdout",
     "output_type": "stream",
     "text": [
      "['Sriram', 'Abhijeet', 'Abhishek', 'Chandan', 'xyz', 'akanksha']\n"
     ]
    }
   ],
   "source": [
    "a = ['Sriram@gmail.com' , 'Abhijeet@yahoo.com' , 'Abhishek@gmail.com', 'Chandan@hotmail.com',\n",
    "       'xyz@gmail.com' , 'akanksha@gmail.com']\n",
    "\n",
    "user_name = []\n",
    "\n",
    "for i in a:\n",
    "    user_name.append(i.split('@')[0])\n",
    "    \n",
    "print(user_name)"
   ]
  },
  {
   "cell_type": "code",
   "execution_count": 101,
   "id": "434a60f6",
   "metadata": {},
   "outputs": [
    {
     "name": "stdout",
     "output_type": "stream",
     "text": [
      "['Sriram', 'Abhijeet', 'Abhishek', 'Chandan', 'xyz', 'akanksha']\n"
     ]
    }
   ],
   "source": [
    "a = ['Sriram@gmail.com' , 'Abhijeet@yahoo.com' , 'Abhishek@gmail.com', 'Chandan@hotmail.com',\n",
    "       'xyz@gmail.com' , 'akanksha@gmail.com']\n",
    "\n",
    "user_name = [i.split('@')[0] for i in a]\n",
    "\n",
    "\n",
    "print(user_name)"
   ]
  },
  {
   "cell_type": "code",
   "execution_count": 102,
   "id": "be4f5c75",
   "metadata": {},
   "outputs": [
    {
     "name": "stdout",
     "output_type": "stream",
     "text": [
      "[324, 34, 564, 56, 56, 56, 76, 76, 56]\n"
     ]
    }
   ],
   "source": [
    "lst = [23,324,34,45,45,564,56,56,56,6767,67,76,67,76,567,56]\n",
    "even = []\n",
    "\n",
    "for i in lst:\n",
    "    if i%2==0:\n",
    "        even.append(i)\n",
    "        \n",
    "print(even)"
   ]
  },
  {
   "cell_type": "code",
   "execution_count": 105,
   "id": "819962bb",
   "metadata": {},
   "outputs": [
    {
     "name": "stdout",
     "output_type": "stream",
     "text": [
      "[324, 34, 564, 56, 56, 56, 76, 76, 56]\n",
      "[23, 45, 45, 6767, 67, 67, 567]\n"
     ]
    }
   ],
   "source": [
    "lst = [23,324,34,45,45,564,56,56,56,6767,67,76,67,76,567,56]\n",
    "even = [i for i in lst if i%2==0 ]\n",
    "odd = [i for i in lst if i%2!=0 ]\n",
    "\n",
    "        \n",
    "print(even)\n",
    "print(odd)"
   ]
  },
  {
   "cell_type": "code",
   "execution_count": 106,
   "id": "43c83e8f",
   "metadata": {},
   "outputs": [
    {
     "name": "stdout",
     "output_type": "stream",
     "text": [
      "['Sriram@gmail.com', 'Abhishek@gmail.com', 'xyz@gmail.com', 'akanksha@gmail.com']\n"
     ]
    }
   ],
   "source": [
    "a = ['Sriram@gmail.com' , 'Abhijeet@yahoo.com' , 'Abhishek@gmail.com', 'Chandan@hotmail.com',\n",
    "       'xyz@gmail.com' , 'akanksha@gmail.com']\n",
    "\n",
    "gmail = []\n",
    "\n",
    "for i in a:\n",
    "    if 'gmail.com' in i:\n",
    "        gmail.append(i)\n",
    "        \n",
    "print(gmail)"
   ]
  },
  {
   "cell_type": "code",
   "execution_count": 107,
   "id": "3b94ded8",
   "metadata": {},
   "outputs": [
    {
     "name": "stdout",
     "output_type": "stream",
     "text": [
      "['Sriram@gmail.com', 'Abhishek@gmail.com', 'xyz@gmail.com', 'akanksha@gmail.com']\n"
     ]
    }
   ],
   "source": [
    "a = ['Sriram@gmail.com' , 'Abhijeet@yahoo.com' , 'Abhishek@gmail.com', 'Chandan@hotmail.com',\n",
    "       'xyz@gmail.com' , 'akanksha@gmail.com']\n",
    "\n",
    "gmail = [i for i in a if 'gmail.com' in i]\n",
    "\n",
    "print(gmail)"
   ]
  },
  {
   "cell_type": "code",
   "execution_count": 108,
   "id": "f35e1253",
   "metadata": {},
   "outputs": [
    {
     "name": "stdout",
     "output_type": "stream",
     "text": [
      "['Abhijeet@yahoo.com', 'Chandan@hotmail.com']\n"
     ]
    }
   ],
   "source": [
    "a = ['Sriram@gmail.com' , 'Abhijeet@yahoo.com' , 'Abhishek@gmail.com', 'Chandan@hotmail.com',\n",
    "       'xyz@gmail.com' , 'akanksha@gmail.com']\n",
    "\n",
    "gmail = [i for i in a if 'gmail.com' not in i]\n",
    "\n",
    "print(gmail)"
   ]
  },
  {
   "cell_type": "code",
   "execution_count": 114,
   "id": "c6639320",
   "metadata": {},
   "outputs": [
    {
     "name": "stdout",
     "output_type": "stream",
     "text": [
      "['Sriram@gmail.com', 'Abhijeet@yahoo.com', 'Abhishek@gmail.com', 'Chandan@hotmail.com']\n"
     ]
    }
   ],
   "source": [
    "a = ['Sriram@gmail.com' , 'Abhijeet@yahoo.com' , 'Abhishek@gmail.com', 'Chandan@hotmail.com',\n",
    "       'xyz@gmail.com' , 'akanksha@gmail.com']\n",
    "\n",
    "gmail = [i for i in a if i[0].isupper()]\n",
    "\n",
    "print(gmail)"
   ]
  },
  {
   "cell_type": "code",
   "execution_count": 113,
   "id": "49d115b2",
   "metadata": {},
   "outputs": [],
   "source": [
    "'do this ' if condition else 'do this'\n",
    "\n",
    "if cont:\n",
    "    do this\n",
    "else:\n",
    "    do this"
   ]
  },
  {
   "cell_type": "code",
   "execution_count": 115,
   "id": "8c5607f4",
   "metadata": {},
   "outputs": [
    {
     "name": "stdout",
     "output_type": "stream",
     "text": [
      "['Sriram@gmail.com', 'Abhishek@gmail.com']\n"
     ]
    }
   ],
   "source": [
    "a = ['Sriram@gmail.com' , 'Abhijeet@yahoo.com' , 'Abhishek@gmail.com', 'Chandan@hotmail.com',\n",
    "       'xyz@gmail.com' , 'akanksha@gmail.com']\n",
    "\n",
    "gmail = [i for i in a if (i[0].isupper()) and ('gmail' in i)]\n",
    "\n",
    "print(gmail)"
   ]
  },
  {
   "cell_type": "markdown",
   "id": "c9a10d9e",
   "metadata": {},
   "source": [
    "# Dictionary"
   ]
  },
  {
   "cell_type": "code",
   "execution_count": 120,
   "id": "245eb8d1",
   "metadata": {},
   "outputs": [
    {
     "name": "stdout",
     "output_type": "stream",
     "text": [
      "[55.0, 46.7, 65.0, 16.7, 82.5, 92.5]\n",
      "[55.0, 46.7, 65.0, 16.7, 82.5, 92.5]\n"
     ]
    }
   ],
   "source": [
    "mark = [66 , 56 , 78 , 20 , 99 , 111]\n",
    "percentage = []\n",
    "\n",
    "# Consider total marks as 120\n",
    "\n",
    "# For\n",
    "\n",
    "for i in mark:\n",
    "    percentage.append( round((i/120)* 100 , 1) )\n",
    "    \n",
    "print(percentage)\n",
    "\n",
    "# List comprehesion\n",
    "\n",
    "percentage = [round((i/120)* 100 , 1) for i in mark]\n",
    "    \n",
    "print(percentage)\n",
    "\n"
   ]
  },
  {
   "cell_type": "code",
   "execution_count": null,
   "id": "10b5a534",
   "metadata": {},
   "outputs": [],
   "source": []
  },
  {
   "cell_type": "code",
   "execution_count": null,
   "id": "25337d76",
   "metadata": {},
   "outputs": [],
   "source": []
  }
 ],
 "metadata": {
  "kernelspec": {
   "display_name": "Python 3 (ipykernel)",
   "language": "python",
   "name": "python3"
  },
  "language_info": {
   "codemirror_mode": {
    "name": "ipython",
    "version": 3
   },
   "file_extension": ".py",
   "mimetype": "text/x-python",
   "name": "python",
   "nbconvert_exporter": "python",
   "pygments_lexer": "ipython3",
   "version": "3.11.4"
  }
 },
 "nbformat": 4,
 "nbformat_minor": 5
}
