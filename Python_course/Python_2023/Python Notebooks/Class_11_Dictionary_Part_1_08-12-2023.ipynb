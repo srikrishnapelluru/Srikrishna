{
 "cells": [
  {
   "cell_type": "code",
   "execution_count": 17,
   "id": "d76b0ffa",
   "metadata": {},
   "outputs": [],
   "source": [
    "# Task 1\n",
    "\n",
    "a = 'aaaaabbbbaacccccdddddd'\n",
    "b = set(a)\n",
    "x = ''\n",
    "\n",
    "for i in b:\n",
    "    c = a.count(i)\n",
    "    r = i+str(c)\n",
    "    x += r"
   ]
  },
  {
   "cell_type": "code",
   "execution_count": 18,
   "id": "f2fb8283",
   "metadata": {},
   "outputs": [
    {
     "data": {
      "text/plain": [
       "'a7d6b4c5'"
      ]
     },
     "execution_count": 18,
     "metadata": {},
     "output_type": "execute_result"
    }
   ],
   "source": [
    "x"
   ]
  },
  {
   "cell_type": "code",
   "execution_count": 14,
   "id": "5ec08067",
   "metadata": {},
   "outputs": [
    {
     "data": {
      "text/plain": [
       "'a7'"
      ]
     },
     "execution_count": 14,
     "metadata": {},
     "output_type": "execute_result"
    }
   ],
   "source": [
    "x = ''\n",
    "\n",
    "x += 'a7'\n",
    "\n",
    "x"
   ]
  },
  {
   "cell_type": "code",
   "execution_count": 19,
   "id": "eb1b232e",
   "metadata": {},
   "outputs": [
    {
     "data": {
      "text/plain": [
       "'a7d6b4c5'"
      ]
     },
     "execution_count": 19,
     "metadata": {},
     "output_type": "execute_result"
    }
   ],
   "source": [
    "# Task 1\n",
    "\n",
    "a = 'aaaaabbbbaacccccdddddd'\n",
    "b = set(a)\n",
    "x = ''\n",
    "\n",
    "for i in b:\n",
    "    x += f\"{i}{a.count(i)}\"\n",
    "    \n",
    "x"
   ]
  },
  {
   "cell_type": "code",
   "execution_count": 26,
   "id": "5624f5f1",
   "metadata": {},
   "outputs": [
    {
     "data": {
      "text/plain": [
       "['xyz@gmail.com', 'abc@yahoo.com', 'pqr@outlook.com']"
      ]
     },
     "execution_count": 26,
     "metadata": {},
     "output_type": "execute_result"
    }
   ],
   "source": [
    "# Task2 \n",
    "\n",
    "col_1 = ['xyz' , 'abc' , 'pqr']\n",
    "col_2 = ['gmail.com' , 'yahoo.com' , 'outlook.com']\n",
    "e_list = []\n",
    "\n",
    "for i in range(len(col_1)):\n",
    "    e_list.append(col_1[i] + '@' + col_2[i])\n",
    "    \n",
    "e_list"
   ]
  },
  {
   "cell_type": "code",
   "execution_count": null,
   "id": "99dcb876",
   "metadata": {},
   "outputs": [],
   "source": [
    "output --> xyz@gmail.com , abc@yahoo.com , pqr@outlook.com"
   ]
  },
  {
   "cell_type": "code",
   "execution_count": 29,
   "id": "737bd0e6",
   "metadata": {},
   "outputs": [
    {
     "name": "stdout",
     "output_type": "stream",
     "text": [
      "[82.5, 56.0, 65.0, 22.2, 99.0, 92.5]\n"
     ]
    }
   ],
   "source": [
    "# Task 4\n",
    "\n",
    "mark = [66 , 56 , 78 , 20 , 99 , 111]\n",
    "total_marks = [80 , 100 , 120 , 90 , 100 , 120]\n",
    "\n",
    "percentage = []\n",
    "\n",
    "\n",
    "# For\n",
    "\n",
    "for i in range(len(mark)):\n",
    "    percentage.append( round((mark[i]/total_marks[i])* 100 , 1) )\n",
    "    \n",
    "print(percentage)\n",
    "\n"
   ]
  },
  {
   "cell_type": "code",
   "execution_count": 31,
   "id": "db74496b",
   "metadata": {},
   "outputs": [
    {
     "data": {
      "text/plain": [
       "[('xyz', 'gmail.com'), ('abc', 'yahoo.com'), ('pqr', 'outlook.com')]"
      ]
     },
     "execution_count": 31,
     "metadata": {},
     "output_type": "execute_result"
    }
   ],
   "source": [
    "\n",
    "col_1 = ['xyz' , 'abc' , 'pqr','lmn']\n",
    "col_2 = ['gmail.com' , 'yahoo.com' , 'outlook.com']\n",
    "\n",
    "list(zip(col_1 , col_2))"
   ]
  },
  {
   "cell_type": "code",
   "execution_count": null,
   "id": "a78b0a1d",
   "metadata": {},
   "outputs": [],
   "source": [
    "# # Task - 3\n",
    "\n",
    "# a = 'aaaaabbbbaacccccdddddd'\n",
    "\n",
    "# # a5b4a2c5d6"
   ]
  },
  {
   "cell_type": "markdown",
   "id": "b4c555c0",
   "metadata": {},
   "source": [
    "# Dictionary"
   ]
  },
  {
   "cell_type": "code",
   "execution_count": 32,
   "id": "b0606dc8",
   "metadata": {},
   "outputs": [
    {
     "name": "stdout",
     "output_type": "stream",
     "text": [
      "{'a': 67, 'b': 89, 'c': 87} <class 'dict'>\n"
     ]
    }
   ],
   "source": [
    "a = {'a':67 , 'b':89 , 'c':87}\n",
    "\n",
    "\n",
    "print(a , type(a))"
   ]
  },
  {
   "cell_type": "markdown",
   "id": "89a001b9",
   "metadata": {},
   "source": [
    "# Different methods to create a dic"
   ]
  },
  {
   "cell_type": "code",
   "execution_count": 33,
   "id": "7a6af465",
   "metadata": {},
   "outputs": [
    {
     "name": "stdout",
     "output_type": "stream",
     "text": [
      "{'a': 67, 'b': 89, 'c': 87} <class 'dict'>\n"
     ]
    }
   ],
   "source": [
    "# If you already know the elements\n",
    "\n",
    "a = {'a':67 , 'b':89 , 'c':87}\n",
    "\n",
    "\n",
    "print(a , type(a))"
   ]
  },
  {
   "cell_type": "code",
   "execution_count": 35,
   "id": "cfec8b4f",
   "metadata": {},
   "outputs": [
    {
     "name": "stdout",
     "output_type": "stream",
     "text": [
      "Enter a dic : {'name' : 'xyz' , 'a' :34}\n",
      "{'name': 'xyz', 'a': 34} <class 'dict'>\n"
     ]
    }
   ],
   "source": [
    "# Taking an user input\n",
    "\n",
    "a = eval(input('Enter a dic : '))\n",
    "\n",
    "\n",
    "print(a , type(a))"
   ]
  },
  {
   "cell_type": "code",
   "execution_count": 38,
   "id": "ede74fe2",
   "metadata": {},
   "outputs": [
    {
     "ename": "ValueError",
     "evalue": "dictionary update sequence element #0 has length 1; 2 is required",
     "output_type": "error",
     "traceback": [
      "\u001b[1;31m---------------------------------------------------------------------------\u001b[0m",
      "\u001b[1;31mValueError\u001b[0m                                Traceback (most recent call last)",
      "Cell \u001b[1;32mIn[38], line 3\u001b[0m\n\u001b[0;32m      1\u001b[0m \u001b[38;5;66;03m# Type casting\u001b[39;00m\n\u001b[1;32m----> 3\u001b[0m a \u001b[38;5;241m=\u001b[39m \u001b[38;5;28mdict\u001b[39m(\u001b[38;5;124m'\u001b[39m\u001b[38;5;124mabc\u001b[39m\u001b[38;5;124m'\u001b[39m)\n\u001b[0;32m      6\u001b[0m \u001b[38;5;28mprint\u001b[39m(a , \u001b[38;5;28mtype\u001b[39m(a))\n",
      "\u001b[1;31mValueError\u001b[0m: dictionary update sequence element #0 has length 1; 2 is required"
     ]
    }
   ],
   "source": [
    "# Type casting\n",
    "\n",
    "a = dict('abc')\n",
    "\n",
    "\n",
    "print(a , type(a))"
   ]
  },
  {
   "cell_type": "markdown",
   "id": "6358fb4f",
   "metadata": {},
   "source": [
    "#### Note\n",
    "\n",
    "dict funct takes an input in a form of seq inside a seq"
   ]
  },
  {
   "cell_type": "code",
   "execution_count": 39,
   "id": "0a3e42ea",
   "metadata": {},
   "outputs": [
    {
     "name": "stdout",
     "output_type": "stream",
     "text": [
      "[('a', 100), ['b', 200], ('c', 300)] <class 'list'>\n"
     ]
    }
   ],
   "source": [
    "a = [('a',100) , ['b',200] , ('c',300)]\n",
    "\n",
    "\n",
    "print(a , type(a))"
   ]
  },
  {
   "cell_type": "code",
   "execution_count": 40,
   "id": "e9103b5e",
   "metadata": {},
   "outputs": [
    {
     "name": "stdout",
     "output_type": "stream",
     "text": [
      "{'a': 100, 'b': 200, 'c': 300} <class 'dict'>\n"
     ]
    }
   ],
   "source": [
    "a = dict([('a',100) , ['b',200] , ('c',300)])\n",
    "\n",
    "\n",
    "print(a , type(a))"
   ]
  },
  {
   "cell_type": "markdown",
   "id": "aaad4a7e",
   "metadata": {},
   "source": [
    "# 4th methods - zip"
   ]
  },
  {
   "cell_type": "code",
   "execution_count": 41,
   "id": "cc4917ec",
   "metadata": {},
   "outputs": [],
   "source": [
    "a = ['xyz' , 'abc' , 'pqr']\n",
    "b = [29 , 38 , 25]"
   ]
  },
  {
   "cell_type": "code",
   "execution_count": 42,
   "id": "0c1b98ca",
   "metadata": {},
   "outputs": [
    {
     "ename": "TypeError",
     "evalue": "dict expected at most 1 argument, got 2",
     "output_type": "error",
     "traceback": [
      "\u001b[1;31m---------------------------------------------------------------------------\u001b[0m",
      "\u001b[1;31mTypeError\u001b[0m                                 Traceback (most recent call last)",
      "Cell \u001b[1;32mIn[42], line 1\u001b[0m\n\u001b[1;32m----> 1\u001b[0m \u001b[38;5;28mdict\u001b[39m(a , b)\n",
      "\u001b[1;31mTypeError\u001b[0m: dict expected at most 1 argument, got 2"
     ]
    }
   ],
   "source": [
    "dict(a , b)"
   ]
  },
  {
   "cell_type": "code",
   "execution_count": 44,
   "id": "daaafce3",
   "metadata": {},
   "outputs": [
    {
     "data": {
      "text/plain": [
       "[('xyz', 29), ('abc', 38), ('pqr', 25)]"
      ]
     },
     "execution_count": 44,
     "metadata": {},
     "output_type": "execute_result"
    }
   ],
   "source": [
    "a = ['xyz' , 'abc' , 'pqr']\n",
    "b = [29 , 38 , 25]\n",
    "\n",
    "\n",
    "\n",
    "list(zip(a,b))"
   ]
  },
  {
   "cell_type": "code",
   "execution_count": 45,
   "id": "96872ee0",
   "metadata": {},
   "outputs": [
    {
     "data": {
      "text/plain": [
       "{'xyz': 29, 'abc': 38, 'pqr': 25}"
      ]
     },
     "execution_count": 45,
     "metadata": {},
     "output_type": "execute_result"
    }
   ],
   "source": [
    "a = ['xyz' , 'abc' , 'pqr']\n",
    "b = [29 , 38 , 25]\n",
    "\n",
    "\n",
    "dict(zip(a,b))"
   ]
  },
  {
   "cell_type": "code",
   "execution_count": 62,
   "id": "3c3c5090",
   "metadata": {},
   "outputs": [
    {
     "ename": "TypeError",
     "evalue": "unhashable type: 'list'",
     "output_type": "error",
     "traceback": [
      "\u001b[1;31m---------------------------------------------------------------------------\u001b[0m",
      "\u001b[1;31mTypeError\u001b[0m                                 Traceback (most recent call last)",
      "Cell \u001b[1;32mIn[62], line 5\u001b[0m\n\u001b[0;32m      1\u001b[0m a \u001b[38;5;241m=\u001b[39m [\u001b[38;5;124m'\u001b[39m\u001b[38;5;124mxyz\u001b[39m\u001b[38;5;124m'\u001b[39m , \u001b[38;5;124m'\u001b[39m\u001b[38;5;124mabc\u001b[39m\u001b[38;5;124m'\u001b[39m , [\u001b[38;5;124m'\u001b[39m\u001b[38;5;124mpqr\u001b[39m\u001b[38;5;124m'\u001b[39m,\u001b[38;5;124m'\u001b[39m\u001b[38;5;124ma\u001b[39m\u001b[38;5;124m'\u001b[39m]]\n\u001b[0;32m      2\u001b[0m b \u001b[38;5;241m=\u001b[39m [\u001b[38;5;241m29\u001b[39m , \u001b[38;5;241m38\u001b[39m , \u001b[38;5;241m25\u001b[39m]\n\u001b[1;32m----> 5\u001b[0m \u001b[38;5;28mdict\u001b[39m(\u001b[38;5;28mzip\u001b[39m(a,b))\n",
      "\u001b[1;31mTypeError\u001b[0m: unhashable type: 'list'"
     ]
    }
   ],
   "source": [
    "a = ['xyz' , 'abc' , ['pqr','a']]\n",
    "b = [29 , 38 , 25]\n",
    "\n",
    "\n",
    "dict(zip(a,b))"
   ]
  },
  {
   "cell_type": "code",
   "execution_count": 48,
   "id": "098b32bb",
   "metadata": {},
   "outputs": [
    {
     "data": {
      "text/plain": [
       "[('xyz', 29, 'dev'), ('abc', 38, 'prod'), ('pqr', 25, 'qa')]"
      ]
     },
     "execution_count": 48,
     "metadata": {},
     "output_type": "execute_result"
    }
   ],
   "source": [
    "a = ['xyz' , 'abc' , 'pqr']\n",
    "b = [29 , 38 , 25]\n",
    "c = ['dev','prod' ,'qa']\n",
    "\n",
    "\n",
    "list(zip(a,b,c))"
   ]
  },
  {
   "cell_type": "code",
   "execution_count": 52,
   "id": "586c9e4e",
   "metadata": {},
   "outputs": [
    {
     "data": {
      "text/plain": [
       "{'xyz': (29, 'dev'), 'abc': (38, 'prod'), 'pqr': (25, None)}"
      ]
     },
     "execution_count": 52,
     "metadata": {},
     "output_type": "execute_result"
    }
   ],
   "source": [
    "a = ['xyz' , 'abc' , 'pqr']\n",
    "b = [29 , 38 , 25]\n",
    "c = ['dev','prod' ,None]\n",
    "\n",
    "\n",
    "dict(zip(a,zip(b,c)))"
   ]
  },
  {
   "cell_type": "code",
   "execution_count": null,
   "id": "5f75af19",
   "metadata": {},
   "outputs": [],
   "source": [
    "name = input(\"Enter your name: \")\n",
    "mobile_no = int(input(\"Enter mobile number: \"))\n",
    "\n",
    "my_dict = {\n",
    "    'name': name,\n",
    "    'mobile': mobile_no\n",
    "} \n",
    "\n",
    "print(my_dict)\n"
   ]
  },
  {
   "cell_type": "code",
   "execution_count": null,
   "id": "86f38719",
   "metadata": {},
   "outputs": [],
   "source": [
    "name = input(\"Enter your name: \")\n",
    "mobile_no = int(input(\"Enter mobile number: \"))\n",
    "\n",
    "a = [\"name\" , 'mobile']\n",
    "b = [name , mobile_no]\n",
    "\n",
    "my_dict = dict(zip(a,b))\n",
    "\n",
    "print(my_dict)\n"
   ]
  },
  {
   "cell_type": "markdown",
   "id": "886f0012",
   "metadata": {},
   "source": [
    "# Properties of dict\n",
    "\n",
    "- A key and a value together are called as an item\n",
    "- each items are seperated by(,)\n",
    "- a key and a value are seperated by (:)\n",
    "- Items are written inside {}\n",
    "- It is not a seq data type\n",
    "- It is a structured data type\n",
    "- A key cannot be duplicated\n",
    "- A value can be duplicated\n",
    "- A key can only be an immutable data type\n",
    "- where as a value can be mutable / immuable\n",
    "- It is not a seq data type hence you cannot perform indexing , slicing , concatination , repetation\n",
    "- Membership op are possible but only on the key\n",
    "\n",
    "##### Note:- A dict is an mutable data type"
   ]
  },
  {
   "cell_type": "code",
   "execution_count": 53,
   "id": "f4ceda9c",
   "metadata": {},
   "outputs": [
    {
     "ename": "KeyError",
     "evalue": "0",
     "output_type": "error",
     "traceback": [
      "\u001b[1;31m---------------------------------------------------------------------------\u001b[0m",
      "\u001b[1;31mKeyError\u001b[0m                                  Traceback (most recent call last)",
      "Cell \u001b[1;32mIn[53], line 5\u001b[0m\n\u001b[0;32m      1\u001b[0m \u001b[38;5;66;03m# It is not a seq data type\u001b[39;00m\n\u001b[0;32m      3\u001b[0m d \u001b[38;5;241m=\u001b[39m {\u001b[38;5;124m'\u001b[39m\u001b[38;5;124mname\u001b[39m\u001b[38;5;124m'\u001b[39m:\u001b[38;5;124m'\u001b[39m\u001b[38;5;124mxyz\u001b[39m\u001b[38;5;124m'\u001b[39m , \u001b[38;5;124m'\u001b[39m\u001b[38;5;124mage\u001b[39m\u001b[38;5;124m'\u001b[39m:\u001b[38;5;241m23\u001b[39m , \u001b[38;5;124m'\u001b[39m\u001b[38;5;124msalary\u001b[39m\u001b[38;5;124m'\u001b[39m:\u001b[38;5;241m5464564565\u001b[39m}\n\u001b[1;32m----> 5\u001b[0m d[\u001b[38;5;241m0\u001b[39m]\n",
      "\u001b[1;31mKeyError\u001b[0m: 0"
     ]
    }
   ],
   "source": [
    "# It is not a seq data type\n",
    "\n",
    "d = {'name':'xyz' , 'age':23 , 'salary':5464564565}\n",
    "\n",
    "d[0]"
   ]
  },
  {
   "cell_type": "code",
   "execution_count": 54,
   "id": "b965a011",
   "metadata": {},
   "outputs": [
    {
     "ename": "TypeError",
     "evalue": "unhashable type: 'slice'",
     "output_type": "error",
     "traceback": [
      "\u001b[1;31m---------------------------------------------------------------------------\u001b[0m",
      "\u001b[1;31mTypeError\u001b[0m                                 Traceback (most recent call last)",
      "Cell \u001b[1;32mIn[54], line 5\u001b[0m\n\u001b[0;32m      1\u001b[0m \u001b[38;5;66;03m# It is not a seq data type\u001b[39;00m\n\u001b[0;32m      3\u001b[0m d \u001b[38;5;241m=\u001b[39m {\u001b[38;5;124m'\u001b[39m\u001b[38;5;124mname\u001b[39m\u001b[38;5;124m'\u001b[39m:\u001b[38;5;124m'\u001b[39m\u001b[38;5;124mxyz\u001b[39m\u001b[38;5;124m'\u001b[39m , \u001b[38;5;124m'\u001b[39m\u001b[38;5;124mage\u001b[39m\u001b[38;5;124m'\u001b[39m:\u001b[38;5;241m23\u001b[39m , \u001b[38;5;124m'\u001b[39m\u001b[38;5;124msalary\u001b[39m\u001b[38;5;124m'\u001b[39m:\u001b[38;5;241m5464564565\u001b[39m}\n\u001b[1;32m----> 5\u001b[0m d[\u001b[38;5;241m0\u001b[39m:]\n",
      "\u001b[1;31mTypeError\u001b[0m: unhashable type: 'slice'"
     ]
    }
   ],
   "source": [
    "# It is not a seq data type\n",
    "\n",
    "d = {'name':'xyz' , 'age':23 , 'salary':5464564565}\n",
    "\n",
    "d[0:]"
   ]
  },
  {
   "cell_type": "code",
   "execution_count": 55,
   "id": "b7953352",
   "metadata": {},
   "outputs": [
    {
     "ename": "TypeError",
     "evalue": "unsupported operand type(s) for +: 'dict' and 'dict'",
     "output_type": "error",
     "traceback": [
      "\u001b[1;31m---------------------------------------------------------------------------\u001b[0m",
      "\u001b[1;31mTypeError\u001b[0m                                 Traceback (most recent call last)",
      "Cell \u001b[1;32mIn[55], line 6\u001b[0m\n\u001b[0;32m      3\u001b[0m d \u001b[38;5;241m=\u001b[39m {\u001b[38;5;124m'\u001b[39m\u001b[38;5;124mname\u001b[39m\u001b[38;5;124m'\u001b[39m:\u001b[38;5;124m'\u001b[39m\u001b[38;5;124mxyz\u001b[39m\u001b[38;5;124m'\u001b[39m , \u001b[38;5;124m'\u001b[39m\u001b[38;5;124mage\u001b[39m\u001b[38;5;124m'\u001b[39m:\u001b[38;5;241m23\u001b[39m , \u001b[38;5;124m'\u001b[39m\u001b[38;5;124msalary\u001b[39m\u001b[38;5;124m'\u001b[39m:\u001b[38;5;241m5464564565\u001b[39m}\n\u001b[0;32m      4\u001b[0m a \u001b[38;5;241m=\u001b[39m {\u001b[38;5;124m'\u001b[39m\u001b[38;5;124madd\u001b[39m\u001b[38;5;124m'\u001b[39m:\u001b[38;5;241m3454545\u001b[39m}\n\u001b[1;32m----> 6\u001b[0m d\u001b[38;5;241m+\u001b[39ma\n",
      "\u001b[1;31mTypeError\u001b[0m: unsupported operand type(s) for +: 'dict' and 'dict'"
     ]
    }
   ],
   "source": [
    "# \n",
    "\n",
    "d = {'name':'xyz' , 'age':23 , 'salary':5464564565}\n",
    "a = {'add':3454545}\n",
    "\n",
    "d+a"
   ]
  },
  {
   "cell_type": "code",
   "execution_count": 56,
   "id": "fb54add4",
   "metadata": {},
   "outputs": [
    {
     "ename": "TypeError",
     "evalue": "unsupported operand type(s) for *: 'dict' and 'int'",
     "output_type": "error",
     "traceback": [
      "\u001b[1;31m---------------------------------------------------------------------------\u001b[0m",
      "\u001b[1;31mTypeError\u001b[0m                                 Traceback (most recent call last)",
      "Cell \u001b[1;32mIn[56], line 4\u001b[0m\n\u001b[0;32m      1\u001b[0m d \u001b[38;5;241m=\u001b[39m {\u001b[38;5;124m'\u001b[39m\u001b[38;5;124mname\u001b[39m\u001b[38;5;124m'\u001b[39m:\u001b[38;5;124m'\u001b[39m\u001b[38;5;124mxyz\u001b[39m\u001b[38;5;124m'\u001b[39m , \u001b[38;5;124m'\u001b[39m\u001b[38;5;124mage\u001b[39m\u001b[38;5;124m'\u001b[39m:\u001b[38;5;241m23\u001b[39m , \u001b[38;5;124m'\u001b[39m\u001b[38;5;124msalary\u001b[39m\u001b[38;5;124m'\u001b[39m:\u001b[38;5;241m5464564565\u001b[39m}\n\u001b[0;32m      2\u001b[0m a \u001b[38;5;241m=\u001b[39m \u001b[38;5;241m4\u001b[39m\n\u001b[1;32m----> 4\u001b[0m d \u001b[38;5;241m*\u001b[39m a\n",
      "\u001b[1;31mTypeError\u001b[0m: unsupported operand type(s) for *: 'dict' and 'int'"
     ]
    }
   ],
   "source": [
    "d = {'name':'xyz' , 'age':23 , 'salary':5464564565}\n",
    "a = 4\n",
    "\n",
    "d * a"
   ]
  },
  {
   "cell_type": "code",
   "execution_count": 57,
   "id": "1a88ffc5",
   "metadata": {},
   "outputs": [
    {
     "ename": "KeyError",
     "evalue": "0",
     "output_type": "error",
     "traceback": [
      "\u001b[1;31m---------------------------------------------------------------------------\u001b[0m",
      "\u001b[1;31mKeyError\u001b[0m                                  Traceback (most recent call last)",
      "Cell \u001b[1;32mIn[57], line 3\u001b[0m\n\u001b[0;32m      1\u001b[0m d \u001b[38;5;241m=\u001b[39m {\u001b[38;5;124m'\u001b[39m\u001b[38;5;124mname\u001b[39m\u001b[38;5;124m'\u001b[39m:\u001b[38;5;124m'\u001b[39m\u001b[38;5;124mxyz\u001b[39m\u001b[38;5;124m'\u001b[39m , \u001b[38;5;124m'\u001b[39m\u001b[38;5;124mage\u001b[39m\u001b[38;5;124m'\u001b[39m:\u001b[38;5;241m23\u001b[39m , \u001b[38;5;124m'\u001b[39m\u001b[38;5;124msalary\u001b[39m\u001b[38;5;124m'\u001b[39m:\u001b[38;5;241m5464564565\u001b[39m}\n\u001b[1;32m----> 3\u001b[0m d[\u001b[38;5;241m0\u001b[39m]\n",
      "\u001b[1;31mKeyError\u001b[0m: 0"
     ]
    }
   ],
   "source": [
    "\n",
    "d = {'name':'xyz' , 'age':23 , 'salary':5464564565}\n",
    "\n",
    "d[0]"
   ]
  },
  {
   "cell_type": "code",
   "execution_count": 59,
   "id": "dc140123",
   "metadata": {},
   "outputs": [
    {
     "name": "stdout",
     "output_type": "stream",
     "text": [
      "xyz\n",
      "5464564565\n"
     ]
    }
   ],
   "source": [
    "\n",
    "d = {'name':'xyz' , 'age':23 , 'salary':5464564565}\n",
    "\n",
    "print(d['name'])\n",
    "\n",
    "print(d['salary'])"
   ]
  },
  {
   "cell_type": "code",
   "execution_count": 60,
   "id": "70fcda0a",
   "metadata": {},
   "outputs": [
    {
     "data": {
      "text/plain": [
       "{'name': 'abc', 'age': 23, 'salary': 5464564565}"
      ]
     },
     "execution_count": 60,
     "metadata": {},
     "output_type": "execute_result"
    }
   ],
   "source": [
    "# - A key cannot be duplicated\n",
    "# - A value can be duplicated\n",
    "\n",
    "\n",
    "d = {'name':'xyz' , 'age':23 , 'salary':5464564565 , 'name':'abc'}\n",
    "\n",
    "d"
   ]
  },
  {
   "cell_type": "code",
   "execution_count": 61,
   "id": "85faf954",
   "metadata": {},
   "outputs": [
    {
     "data": {
      "text/plain": [
       "{'name': 'xyz', 'age': 23, 'salary': 5464564565, 'sec_name': 'xyz'}"
      ]
     },
     "execution_count": 61,
     "metadata": {},
     "output_type": "execute_result"
    }
   ],
   "source": [
    "# - A key cannot be duplicated\n",
    "# - A value can be duplicated\n",
    "\n",
    "\n",
    "d = {'name':'xyz' , 'age':23 , 'salary':5464564565 , 'sec_name':'xyz'}\n",
    "\n",
    "d"
   ]
  },
  {
   "cell_type": "code",
   "execution_count": null,
   "id": "c9161140",
   "metadata": {},
   "outputs": [],
   "source": [
    "# - A key can only be an immutable data type\n",
    "# - where as a value can be mutable / immuable\n",
    "\n",
    "\n",
    "d = {'name':'xyz' , 'age':23 , 'salary':5464564565 , 'sec_name':'xyz'}\n",
    "\n",
    "d"
   ]
  },
  {
   "cell_type": "code",
   "execution_count": null,
   "id": "e08c3e33",
   "metadata": {},
   "outputs": [],
   "source": [
    "immutable --> key\n",
    "\n",
    "int\n",
    "float\n",
    "complex\n",
    "Bool\n",
    "None\n",
    "str\n",
    "tuple\n",
    "\n",
    "\n",
    "mutable -- cannot be taken as a key\n",
    "list\n",
    "dict\n",
    "set"
   ]
  },
  {
   "cell_type": "code",
   "execution_count": 67,
   "id": "c9b3ecb4",
   "metadata": {},
   "outputs": [
    {
     "data": {
      "text/plain": [
       "{(23, 34, 45): 'xyz', 'age': 23, 'salary': 5464564565, 'sec_name': 'xyz'}"
      ]
     },
     "execution_count": 67,
     "metadata": {},
     "output_type": "execute_result"
    }
   ],
   "source": [
    "d = {(23,34,45):'xyz' , 'age':23 , 'salary':5464564565 , 'sec_name':'xyz'}\n",
    "\n",
    "d"
   ]
  },
  {
   "cell_type": "code",
   "execution_count": 68,
   "id": "501c8ffa",
   "metadata": {},
   "outputs": [
    {
     "ename": "TypeError",
     "evalue": "unhashable type: 'list'",
     "output_type": "error",
     "traceback": [
      "\u001b[1;31m---------------------------------------------------------------------------\u001b[0m",
      "\u001b[1;31mTypeError\u001b[0m                                 Traceback (most recent call last)",
      "Cell \u001b[1;32mIn[68], line 1\u001b[0m\n\u001b[1;32m----> 1\u001b[0m d \u001b[38;5;241m=\u001b[39m {[\u001b[38;5;241m2\u001b[39m,\u001b[38;5;241m3\u001b[39m,\u001b[38;5;241m4\u001b[39m]:\u001b[38;5;124m'\u001b[39m\u001b[38;5;124mxyz\u001b[39m\u001b[38;5;124m'\u001b[39m , \u001b[38;5;124m'\u001b[39m\u001b[38;5;124mage\u001b[39m\u001b[38;5;124m'\u001b[39m:\u001b[38;5;241m23\u001b[39m , \u001b[38;5;124m'\u001b[39m\u001b[38;5;124msalary\u001b[39m\u001b[38;5;124m'\u001b[39m:\u001b[38;5;241m5464564565\u001b[39m , \u001b[38;5;124m'\u001b[39m\u001b[38;5;124msec_name\u001b[39m\u001b[38;5;124m'\u001b[39m:\u001b[38;5;124m'\u001b[39m\u001b[38;5;124mxyz\u001b[39m\u001b[38;5;124m'\u001b[39m}\n\u001b[0;32m      3\u001b[0m d\n",
      "\u001b[1;31mTypeError\u001b[0m: unhashable type: 'list'"
     ]
    }
   ],
   "source": [
    "\n",
    "d = {[2,3,4]:'xyz' , 'age':23 , 'salary':5464564565 , 'sec_name':'xyz'}\n",
    "\n",
    "d"
   ]
  },
  {
   "cell_type": "code",
   "execution_count": 69,
   "id": "82f13266",
   "metadata": {},
   "outputs": [
    {
     "ename": "TypeError",
     "evalue": "unhashable type: 'set'",
     "output_type": "error",
     "traceback": [
      "\u001b[1;31m---------------------------------------------------------------------------\u001b[0m",
      "\u001b[1;31mTypeError\u001b[0m                                 Traceback (most recent call last)",
      "Cell \u001b[1;32mIn[69], line 1\u001b[0m\n\u001b[1;32m----> 1\u001b[0m d \u001b[38;5;241m=\u001b[39m {{\u001b[38;5;241m2\u001b[39m,\u001b[38;5;241m3\u001b[39m,\u001b[38;5;241m4\u001b[39m}:\u001b[38;5;124m'\u001b[39m\u001b[38;5;124mxyz\u001b[39m\u001b[38;5;124m'\u001b[39m , \u001b[38;5;124m'\u001b[39m\u001b[38;5;124mage\u001b[39m\u001b[38;5;124m'\u001b[39m:\u001b[38;5;241m23\u001b[39m , \u001b[38;5;124m'\u001b[39m\u001b[38;5;124msalary\u001b[39m\u001b[38;5;124m'\u001b[39m:\u001b[38;5;241m5464564565\u001b[39m , \u001b[38;5;124m'\u001b[39m\u001b[38;5;124msec_name\u001b[39m\u001b[38;5;124m'\u001b[39m:\u001b[38;5;124m'\u001b[39m\u001b[38;5;124mxyz\u001b[39m\u001b[38;5;124m'\u001b[39m}\n\u001b[0;32m      3\u001b[0m d\n",
      "\u001b[1;31mTypeError\u001b[0m: unhashable type: 'set'"
     ]
    }
   ],
   "source": [
    "\n",
    "d = {{2,3,4}:'xyz' , 'age':23 , 'salary':5464564565 , 'sec_name':'xyz'}\n",
    "\n",
    "d"
   ]
  },
  {
   "cell_type": "code",
   "execution_count": 70,
   "id": "36c95164",
   "metadata": {},
   "outputs": [
    {
     "ename": "TypeError",
     "evalue": "unhashable type: 'dict'",
     "output_type": "error",
     "traceback": [
      "\u001b[1;31m---------------------------------------------------------------------------\u001b[0m",
      "\u001b[1;31mTypeError\u001b[0m                                 Traceback (most recent call last)",
      "Cell \u001b[1;32mIn[70], line 1\u001b[0m\n\u001b[1;32m----> 1\u001b[0m d \u001b[38;5;241m=\u001b[39m {{\u001b[38;5;124m'\u001b[39m\u001b[38;5;124ma\u001b[39m\u001b[38;5;124m'\u001b[39m:\u001b[38;5;241m32\u001b[39m}:\u001b[38;5;124m'\u001b[39m\u001b[38;5;124mxyz\u001b[39m\u001b[38;5;124m'\u001b[39m , \u001b[38;5;124m'\u001b[39m\u001b[38;5;124mage\u001b[39m\u001b[38;5;124m'\u001b[39m:\u001b[38;5;241m23\u001b[39m , \u001b[38;5;124m'\u001b[39m\u001b[38;5;124msalary\u001b[39m\u001b[38;5;124m'\u001b[39m:\u001b[38;5;241m5464564565\u001b[39m , \u001b[38;5;124m'\u001b[39m\u001b[38;5;124msec_name\u001b[39m\u001b[38;5;124m'\u001b[39m:\u001b[38;5;124m'\u001b[39m\u001b[38;5;124mxyz\u001b[39m\u001b[38;5;124m'\u001b[39m}\n\u001b[0;32m      3\u001b[0m d\n",
      "\u001b[1;31mTypeError\u001b[0m: unhashable type: 'dict'"
     ]
    }
   ],
   "source": [
    "\n",
    "d = {{'a':32}:'xyz' , 'age':23 , 'salary':5464564565 , 'sec_name':'xyz'}\n",
    "\n",
    "d"
   ]
  },
  {
   "cell_type": "code",
   "execution_count": 71,
   "id": "083534f4",
   "metadata": {},
   "outputs": [
    {
     "data": {
      "text/plain": [
       "{'name': 'xyz', 'age': [23, 45], 'salary': 5464564565, 'sec_name': 'xyz'}"
      ]
     },
     "execution_count": 71,
     "metadata": {},
     "output_type": "execute_result"
    }
   ],
   "source": [
    "d = {'name':'xyz' , 'age':[23,45] , 'salary':5464564565 , 'sec_name':'xyz'}\n",
    "\n",
    "d"
   ]
  },
  {
   "cell_type": "code",
   "execution_count": 73,
   "id": "2d25cda3",
   "metadata": {},
   "outputs": [
    {
     "data": {
      "text/plain": [
       "{'name': 'xyz', 'age': {'old': 34, 'new': 45}, 'salary': 5464564565}"
      ]
     },
     "execution_count": 73,
     "metadata": {},
     "output_type": "execute_result"
    }
   ],
   "source": [
    "d = {'name':'xyz' , 'age':{'old':34 , 'new':45} , 'salary':5464564565 }\n",
    "\n",
    "d"
   ]
  },
  {
   "cell_type": "code",
   "execution_count": 74,
   "id": "62cca792",
   "metadata": {},
   "outputs": [
    {
     "ename": "NameError",
     "evalue": "name 's' is not defined",
     "output_type": "error",
     "traceback": [
      "\u001b[1;31m---------------------------------------------------------------------------\u001b[0m",
      "\u001b[1;31mNameError\u001b[0m                                 Traceback (most recent call last)",
      "Cell \u001b[1;32mIn[74], line 1\u001b[0m\n\u001b[1;32m----> 1\u001b[0m \u001b[38;5;28mlen\u001b[39m(s)\n",
      "\u001b[1;31mNameError\u001b[0m: name 's' is not defined"
     ]
    }
   ],
   "source": [
    "len(s)"
   ]
  },
  {
   "cell_type": "code",
   "execution_count": 75,
   "id": "ec083de3",
   "metadata": {},
   "outputs": [
    {
     "data": {
      "text/plain": [
       "{'emp_1': {'name': 'Salahudin', 'age': 45, 'salary': 5464564565},\n",
       " 'emp_2': {'name': 'Sriram', 'age': 34, 'salary': 5656546546},\n",
       " 'emp_3': {'name': 'Abhishek', 'age': 35, 'salary': 7675675676},\n",
       " 'emp_4': {'name': 'Anshul', 'age': 27, 'salary': 6878678687},\n",
       " 'emp_5': {'name': 'Nabia', 'age': 38, 'salary': 6786765765}}"
      ]
     },
     "execution_count": 75,
     "metadata": {},
     "output_type": "execute_result"
    }
   ],
   "source": [
    "emp_data = {'emp_1' : {'name':'Salahudin' , 'age':45 , 'salary':5464564565 },\n",
    "           'emp_2' : {'name':'Sriram' , 'age':34 , 'salary':5656546546 } ,\n",
    "           'emp_3' : {'name':'Abhishek' , 'age':35 , 'salary':7675675676 },\n",
    "           'emp_4' : {'name':'Anshul' , 'age':27 , 'salary':6878678687 },\n",
    "           'emp_5' : {'name':'Nabia' , 'age':38 , 'salary':6786765765 }}\n",
    "\n",
    "emp_data"
   ]
  },
  {
   "cell_type": "code",
   "execution_count": 77,
   "id": "cd557831",
   "metadata": {},
   "outputs": [
    {
     "data": {
      "text/plain": [
       "5"
      ]
     },
     "execution_count": 77,
     "metadata": {},
     "output_type": "execute_result"
    }
   ],
   "source": [
    "len(emp_data)"
   ]
  },
  {
   "cell_type": "code",
   "execution_count": 78,
   "id": "be33b185",
   "metadata": {},
   "outputs": [
    {
     "data": {
      "text/plain": [
       "False"
      ]
     },
     "execution_count": 78,
     "metadata": {},
     "output_type": "execute_result"
    }
   ],
   "source": [
    "# Mem key\n",
    "\n",
    "d = {'name':'xyz' , 'age':34 , 'salary':5464564565 }\n",
    "\n",
    "'xyz' in d"
   ]
  },
  {
   "cell_type": "code",
   "execution_count": 79,
   "id": "b6a866ae",
   "metadata": {},
   "outputs": [
    {
     "data": {
      "text/plain": [
       "False"
      ]
     },
     "execution_count": 79,
     "metadata": {},
     "output_type": "execute_result"
    }
   ],
   "source": [
    "emp_data = {'emp_1' : {'name':'Salahudin' , 'age':45 , 'salary':5464564565 },\n",
    "           'emp_2' : {'name':'Sriram' , 'age':34 , 'salary':5656546546 } ,\n",
    "           'emp_3' : {'name':'Abhishek' , 'age':35 , 'salary':7675675676 },\n",
    "           'emp_4' : {'name':'Anshul' , 'age':27 , 'salary':6878678687 },\n",
    "           'emp_5' : {'name':'Nabia' , 'age':38 , 'salary':6786765765 }}\n",
    "\n",
    "'Anshul' in emp_data"
   ]
  },
  {
   "cell_type": "code",
   "execution_count": 80,
   "id": "3bd63ee2",
   "metadata": {},
   "outputs": [
    {
     "data": {
      "text/plain": [
       "34"
      ]
     },
     "execution_count": 80,
     "metadata": {},
     "output_type": "execute_result"
    }
   ],
   "source": [
    "emp_data = {'emp_1' : {'name':'Salahudin' , 'age':45 , 'salary':5464564565 },\n",
    "           'emp_2' : {'name':'Sriram' , 'age':34 , 'salary':5656546546 } ,\n",
    "           'emp_3' : {'name':'Abhishek' , 'age':35 , 'salary':7675675676 },\n",
    "           'emp_4' : {'name':'Anshul' , 'age':27 , 'salary':6878678687 },\n",
    "           'emp_5' : {'name':'Nabia' , 'age':38 , 'salary':6786765765 }}\n",
    "\n",
    "emp_data['emp_2']['age']"
   ]
  },
  {
   "cell_type": "code",
   "execution_count": null,
   "id": "35017bb5",
   "metadata": {},
   "outputs": [],
   "source": [
    "emp_data = {'emp_1' : {'name':'Salahudin' , 'age':45 , 'salary':5464564565 },\n",
    "           'emp_2' : {'name':'Sriram' , 'age':34 , 'salary':5656546546 } ,\n",
    "           'emp_3' : {'name':'Abhishek' , 'age':28 , 'salary':7675675676 },\n",
    "           'emp_4' : {'name':'Anshul' , 'age':27 , 'salary':6878678687 },\n",
    "           'emp_5' : {'name':'Nabia' , 'age':25 , 'salary':6786765765 }}\n",
    "\n",
    "\n",
    "# extract the name of emp whose age >= 30"
   ]
  },
  {
   "cell_type": "code",
   "execution_count": null,
   "id": "b2c6f26c",
   "metadata": {},
   "outputs": [],
   "source": []
  }
 ],
 "metadata": {
  "kernelspec": {
   "display_name": "Python 3 (ipykernel)",
   "language": "python",
   "name": "python3"
  },
  "language_info": {
   "codemirror_mode": {
    "name": "ipython",
    "version": 3
   },
   "file_extension": ".py",
   "mimetype": "text/x-python",
   "name": "python",
   "nbconvert_exporter": "python",
   "pygments_lexer": "ipython3",
   "version": "3.11.4"
  }
 },
 "nbformat": 4,
 "nbformat_minor": 5
}
