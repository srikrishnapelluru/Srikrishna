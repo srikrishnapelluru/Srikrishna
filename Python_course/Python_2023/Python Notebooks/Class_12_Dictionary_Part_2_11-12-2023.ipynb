{
 "cells": [
  {
   "cell_type": "code",
   "execution_count": 5,
   "id": "ffc082ca",
   "metadata": {},
   "outputs": [
    {
     "data": {
      "text/plain": [
       "27"
      ]
     },
     "execution_count": 5,
     "metadata": {},
     "output_type": "execute_result"
    }
   ],
   "source": [
    "emp_data = {'emp_1' : {'name':'Salahudin' , 'age':45 , 'salary':5464564565 },\n",
    "           'emp_2' : {'name':'Sriram' , 'age':34 , 'salary':5656546546 } ,\n",
    "           'emp_3' : {'name':'Abhishek' , 'age':28 , 'salary':7675675676 },\n",
    "           'emp_4' : {'name':'Anshul' , 'age':27 , 'salary':6878678687 },\n",
    "           'emp_5' : {'name':'Nabia' , 'age':25 , 'salary':6786765765 }}\n",
    "\n",
    "\n",
    "# extract the name of emp whose age >= 30\n",
    "\n",
    "emp_data['emp_4']['age']"
   ]
  },
  {
   "cell_type": "code",
   "execution_count": 6,
   "id": "803eeb80",
   "metadata": {},
   "outputs": [
    {
     "name": "stdout",
     "output_type": "stream",
     "text": [
      "Salahudin\n",
      "Sriram\n"
     ]
    }
   ],
   "source": [
    "for i in emp_data:\n",
    "    if emp_data[i]['age'] >= 30:\n",
    "        print(emp_data[i]['name'])"
   ]
  },
  {
   "cell_type": "markdown",
   "id": "bf1ecdab",
   "metadata": {},
   "source": [
    "# Upodating the dic without the use of any method"
   ]
  },
  {
   "cell_type": "code",
   "execution_count": 7,
   "id": "51c2059e",
   "metadata": {},
   "outputs": [
    {
     "data": {
      "text/plain": [
       "{'emp_1': {'name': 'Salahudin', 'age': 45, 'salary': 5464564565},\n",
       " 'emp_2': {'name': 'Sriram', 'age': 34, 'salary': 5656546546},\n",
       " 'emp_3': {'name': 'Abhishek', 'age': 28, 'salary': 7675675676},\n",
       " 'emp_4': {'name': 'Anshul', 'age': 27, 'salary': 6878678687},\n",
       " 'emp_5': {'name': 'Nabia', 'age': 25, 'salary': 6786765765},\n",
       " 'emp_6': {'name': 'New_emp', 'age': 25, 'salary': 6786765765}}"
      ]
     },
     "execution_count": 7,
     "metadata": {},
     "output_type": "execute_result"
    }
   ],
   "source": [
    "# If the key is not present\n",
    "\n",
    "emp_data = {'emp_1' : {'name':'Salahudin' , 'age':45 , 'salary':5464564565 },\n",
    "           'emp_2' : {'name':'Sriram' , 'age':34 , 'salary':5656546546 } ,\n",
    "           'emp_3' : {'name':'Abhishek' , 'age':28 , 'salary':7675675676 },\n",
    "           'emp_4' : {'name':'Anshul' , 'age':27 , 'salary':6878678687 },\n",
    "           'emp_5' : {'name':'Nabia' , 'age':25 , 'salary':6786765765 }}\n",
    "\n",
    "emp_data['emp_6'] = {'name':'New_emp' , 'age':25 , 'salary':6786765765 }\n",
    "\n",
    "\n",
    "emp_data"
   ]
  },
  {
   "cell_type": "code",
   "execution_count": 8,
   "id": "680118c4",
   "metadata": {},
   "outputs": [
    {
     "data": {
      "text/plain": [
       "{'emp_1': {'name': 'Salahudin', 'age': 45, 'salary': 5464564565},\n",
       " 'emp_2': {'name': 'Sriram', 'age': 40, 'salary': 6786765765},\n",
       " 'emp_3': {'name': 'Abhishek', 'age': 28, 'salary': 7675675676},\n",
       " 'emp_4': {'name': 'Anshul', 'age': 27, 'salary': 6878678687},\n",
       " 'emp_5': {'name': 'Nabia', 'age': 25, 'salary': 6786765765}}"
      ]
     },
     "execution_count": 8,
     "metadata": {},
     "output_type": "execute_result"
    }
   ],
   "source": [
    "# If the key is present\n",
    "\n",
    "emp_data = {'emp_1' : {'name':'Salahudin' , 'age':45 , 'salary':5464564565 },\n",
    "           'emp_2' : {'name':'Sriram' , 'age':34 , 'salary':5656546546 } ,\n",
    "           'emp_3' : {'name':'Abhishek' , 'age':28 , 'salary':7675675676 },\n",
    "           'emp_4' : {'name':'Anshul' , 'age':27 , 'salary':6878678687 },\n",
    "           'emp_5' : {'name':'Nabia' , 'age':25 , 'salary':6786765765 }}\n",
    "\n",
    "emp_data['emp_2'] = {'name':'Sriram' , 'age':40 , 'salary':6786765765 }\n",
    "\n",
    "\n",
    "emp_data"
   ]
  },
  {
   "cell_type": "code",
   "execution_count": 9,
   "id": "1a92863c",
   "metadata": {},
   "outputs": [
    {
     "data": {
      "text/plain": [
       "{'emp_1': {'name': 'Salahudin', 'age': 45, 'salary': 5464564565},\n",
       " 'emp_2': {'name': 'Sriram', 'age': 40, 'salary': 6786765765},\n",
       " 'emp_3': {'name': 'Abhishek', 'age': 28, 'salary': 7675675676},\n",
       " 'emp_4': {'name': 'Anshul', 'age': 27, 'salary': 6878678687},\n",
       " 'emp_5': {'name': 'Nabia', 'age': 25, 'salary': 6786765765}}"
      ]
     },
     "execution_count": 9,
     "metadata": {},
     "output_type": "execute_result"
    }
   ],
   "source": [
    "emp_data"
   ]
  },
  {
   "cell_type": "code",
   "execution_count": 10,
   "id": "aa911585",
   "metadata": {},
   "outputs": [
    {
     "data": {
      "text/plain": [
       "{'name': 'Salahudin', 'age': 50, 'salary': 5464564565}"
      ]
     },
     "execution_count": 10,
     "metadata": {},
     "output_type": "execute_result"
    }
   ],
   "source": [
    "a = {'name': 'Salahudin', 'age': 45, 'salary': 5464564565}\n",
    "\n",
    "\n",
    "a['age'] = 50\n",
    "\n",
    "a"
   ]
  },
  {
   "cell_type": "markdown",
   "id": "dac350a9",
   "metadata": {},
   "source": [
    "# Methods of dictionary"
   ]
  },
  {
   "cell_type": "code",
   "execution_count": 15,
   "id": "9a31ae84",
   "metadata": {},
   "outputs": [
    {
     "name": "stdout",
     "output_type": "stream",
     "text": [
      "['__class__', '__class_getitem__', '__contains__', '__delattr__', '__delitem__', '__dir__', '__doc__', '__eq__', '__format__', '__ge__', '__getattribute__', '__getitem__', '__getstate__', '__gt__', '__hash__', '__init__', '__init_subclass__', '__ior__', '__iter__', '__le__', '__len__', '__lt__', '__ne__', '__new__', '__or__', '__reduce__', '__reduce_ex__', '__repr__', '__reversed__', '__ror__', '__setattr__', '__setitem__', '__sizeof__', '__str__', '__subclasshook__', 'clear', 'copy', 'fromkeys', 'get', 'items', 'keys', 'pop', 'popitem', 'setdefault', 'update', 'values']\n"
     ]
    }
   ],
   "source": [
    "print(dir(dict))"
   ]
  },
  {
   "cell_type": "markdown",
   "id": "0b814ce6",
   "metadata": {},
   "source": [
    "# Methods to access the items from the dict\n",
    "\n",
    "- get\n",
    "- setdefault\n",
    "- update"
   ]
  },
  {
   "cell_type": "markdown",
   "id": "f38235ee",
   "metadata": {},
   "source": [
    "### Get"
   ]
  },
  {
   "cell_type": "code",
   "execution_count": 16,
   "id": "84e602f0",
   "metadata": {},
   "outputs": [
    {
     "data": {
      "text/plain": [
       "{'name': 'Abhishek', 'age': 28, 'salary': 7675675676}"
      ]
     },
     "execution_count": 16,
     "metadata": {},
     "output_type": "execute_result"
    }
   ],
   "source": [
    "# If the key is present\n",
    "\n",
    "emp_data = {'emp_1' : {'name':'Salahudin' , 'age':45 , 'salary':5464564565 },\n",
    "           'emp_2' : {'name':'Sriram' , 'age':34 , 'salary':5656546546 } ,\n",
    "           'emp_3' : {'name':'Abhishek' , 'age':28 , 'salary':7675675676 },\n",
    "           'emp_4' : {'name':'Anshul' , 'age':27 , 'salary':6878678687 },\n",
    "           'emp_5' : {'name':'Nabia' , 'age':25 , 'salary':6786765765 }}\n",
    "\n",
    "\n",
    "emp_data.get('emp_3')"
   ]
  },
  {
   "cell_type": "code",
   "execution_count": 17,
   "id": "c8215043",
   "metadata": {},
   "outputs": [
    {
     "data": {
      "text/plain": [
       "{'name': 'Nabia', 'age': 25, 'salary': 6786765765}"
      ]
     },
     "execution_count": 17,
     "metadata": {},
     "output_type": "execute_result"
    }
   ],
   "source": [
    "\n",
    "emp_data = {'emp_1' : {'name':'Salahudin' , 'age':45 , 'salary':5464564565 },\n",
    "           'emp_2' : {'name':'Sriram' , 'age':34 , 'salary':5656546546 } ,\n",
    "           'emp_3' : {'name':'Abhishek' , 'age':28 , 'salary':7675675676 },\n",
    "           'emp_4' : {'name':'Anshul' , 'age':27 , 'salary':6878678687 },\n",
    "           'emp_5' : {'name':'Nabia' , 'age':25 , 'salary':6786765765 }}\n",
    "\n",
    "emp_data.get('emp_5')"
   ]
  },
  {
   "cell_type": "code",
   "execution_count": 18,
   "id": "5c77e472",
   "metadata": {},
   "outputs": [
    {
     "name": "stdout",
     "output_type": "stream",
     "text": [
      "None\n"
     ]
    }
   ],
   "source": [
    "\n",
    "emp_data = {'emp_1' : {'name':'Salahudin' , 'age':45 , 'salary':5464564565 },\n",
    "           'emp_2' : {'name':'Sriram' , 'age':34 , 'salary':5656546546 } ,\n",
    "           'emp_3' : {'name':'Abhishek' , 'age':28 , 'salary':7675675676 },\n",
    "           'emp_4' : {'name':'Anshul' , 'age':27 , 'salary':6878678687 },\n",
    "           'emp_5' : {'name':'Nabia' , 'age':25 , 'salary':6786765765 }}\n",
    "\n",
    "print(emp_data.get('emp_9'))"
   ]
  },
  {
   "cell_type": "code",
   "execution_count": 20,
   "id": "8e41b6a1",
   "metadata": {},
   "outputs": [
    {
     "name": "stdout",
     "output_type": "stream",
     "text": [
      "The emp Id which you are searching for is not present in the database\n"
     ]
    }
   ],
   "source": [
    "\n",
    "emp_data = {'emp_1' : {'name':'Salahudin' , 'age':45 , 'salary':5464564565 },\n",
    "           'emp_2' : {'name':'Sriram' , 'age':34 , 'salary':5656546546 } ,\n",
    "           'emp_3' : {'name':'Abhishek' , 'age':28 , 'salary':7675675676 },\n",
    "           'emp_4' : {'name':'Anshul' , 'age':27 , 'salary':6878678687 },\n",
    "           'emp_5' : {'name':'Nabia' , 'age':25 , 'salary':6786765765 }}\n",
    "\n",
    "print(emp_data.get('emp_10' , 'The emp Id which you are searching for is not present in the database'))"
   ]
  },
  {
   "cell_type": "markdown",
   "id": "6cdd2781",
   "metadata": {},
   "source": [
    "# Setdefault"
   ]
  },
  {
   "cell_type": "code",
   "execution_count": 21,
   "id": "99485fa9",
   "metadata": {},
   "outputs": [
    {
     "data": {
      "text/plain": [
       "{'name': 'Abhishek', 'age': 28, 'salary': 7675675676}"
      ]
     },
     "execution_count": 21,
     "metadata": {},
     "output_type": "execute_result"
    }
   ],
   "source": [
    "# If the key is present\n",
    "\n",
    "emp_data = {'emp_1' : {'name':'Salahudin' , 'age':45 , 'salary':5464564565 },\n",
    "           'emp_2' : {'name':'Sriram' , 'age':34 , 'salary':5656546546 } ,\n",
    "           'emp_3' : {'name':'Abhishek' , 'age':28 , 'salary':7675675676 },\n",
    "           'emp_4' : {'name':'Anshul' , 'age':27 , 'salary':6878678687 },\n",
    "           'emp_5' : {'name':'Nabia' , 'age':25 , 'salary':6786765765 }}\n",
    "\n",
    "\n",
    "emp_data.setdefault('emp_3')"
   ]
  },
  {
   "cell_type": "code",
   "execution_count": 23,
   "id": "2271e696",
   "metadata": {},
   "outputs": [
    {
     "name": "stdout",
     "output_type": "stream",
     "text": [
      "None\n"
     ]
    }
   ],
   "source": [
    "# If the key is not present\n",
    "\n",
    "emp_data = {'emp_1' : {'name':'Salahudin' , 'age':45 , 'salary':5464564565 },\n",
    "           'emp_2' : {'name':'Sriram' , 'age':34 , 'salary':5656546546 } ,\n",
    "           'emp_3' : {'name':'Abhishek' , 'age':28 , 'salary':7675675676 },\n",
    "           'emp_4' : {'name':'Anshul' , 'age':27 , 'salary':6878678687 },\n",
    "           'emp_5' : {'name':'Nabia' , 'age':25 , 'salary':6786765765 }}\n",
    "\n",
    "\n",
    "print(emp_data.setdefault('emp_10'))"
   ]
  },
  {
   "cell_type": "code",
   "execution_count": 24,
   "id": "bb52b879",
   "metadata": {},
   "outputs": [
    {
     "data": {
      "text/plain": [
       "{'emp_1': {'name': 'Salahudin', 'age': 45, 'salary': 5464564565},\n",
       " 'emp_2': {'name': 'Sriram', 'age': 34, 'salary': 5656546546},\n",
       " 'emp_3': {'name': 'Abhishek', 'age': 28, 'salary': 7675675676},\n",
       " 'emp_4': {'name': 'Anshul', 'age': 27, 'salary': 6878678687},\n",
       " 'emp_5': {'name': 'Nabia', 'age': 25, 'salary': 6786765765},\n",
       " 'emp_10': None}"
      ]
     },
     "execution_count": 24,
     "metadata": {},
     "output_type": "execute_result"
    }
   ],
   "source": [
    "emp_data"
   ]
  },
  {
   "cell_type": "code",
   "execution_count": 25,
   "id": "a07117c0",
   "metadata": {},
   "outputs": [
    {
     "data": {
      "text/plain": [
       "{'name': 'new_emp', 'age': 25, 'salary': 6786765765}"
      ]
     },
     "execution_count": 25,
     "metadata": {},
     "output_type": "execute_result"
    }
   ],
   "source": [
    "\n",
    "emp_data = {'emp_1' : {'name':'Salahudin' , 'age':45 , 'salary':5464564565 },\n",
    "           'emp_2' : {'name':'Sriram' , 'age':34 , 'salary':5656546546 } ,\n",
    "           'emp_3' : {'name':'Abhishek' , 'age':28 , 'salary':7675675676 },\n",
    "           'emp_4' : {'name':'Anshul' , 'age':27 , 'salary':6878678687 },\n",
    "           'emp_5' : {'name':'Nabia' , 'age':25 , 'salary':6786765765 }}\n",
    "\n",
    "\n",
    "emp_data.setdefault('emp_10' , {'name':'new_emp' , 'age':25 , 'salary':6786765765 })"
   ]
  },
  {
   "cell_type": "code",
   "execution_count": 27,
   "id": "5dc67c6d",
   "metadata": {},
   "outputs": [
    {
     "data": {
      "text/plain": [
       "{'emp_1': {'name': 'Salahudin', 'age': 45, 'salary': 5464564565},\n",
       " 'emp_2': {'name': 'Sriram', 'age': 34, 'salary': 5656546546},\n",
       " 'emp_3': {'name': 'Abhishek', 'age': 28, 'salary': 7675675676},\n",
       " 'emp_4': {'name': 'Anshul', 'age': 27, 'salary': 6878678687},\n",
       " 'emp_5': {'name': 'Nabia', 'age': 25, 'salary': 6786765765},\n",
       " 'emp_10': {'name': 'new_emp', 'age': 25, 'salary': 6786765765}}"
      ]
     },
     "execution_count": 27,
     "metadata": {},
     "output_type": "execute_result"
    }
   ],
   "source": [
    "emp_data"
   ]
  },
  {
   "cell_type": "markdown",
   "id": "f9beb50f",
   "metadata": {},
   "source": [
    "# Update"
   ]
  },
  {
   "cell_type": "code",
   "execution_count": 28,
   "id": "24c12269",
   "metadata": {},
   "outputs": [
    {
     "ename": "ValueError",
     "evalue": "dictionary update sequence element #0 has length 1; 2 is required",
     "output_type": "error",
     "traceback": [
      "\u001b[1;31m---------------------------------------------------------------------------\u001b[0m",
      "\u001b[1;31mValueError\u001b[0m                                Traceback (most recent call last)",
      "Cell \u001b[1;32mIn[28], line 8\u001b[0m\n\u001b[0;32m      1\u001b[0m emp_data \u001b[38;5;241m=\u001b[39m {\u001b[38;5;124m'\u001b[39m\u001b[38;5;124memp_1\u001b[39m\u001b[38;5;124m'\u001b[39m : {\u001b[38;5;124m'\u001b[39m\u001b[38;5;124mname\u001b[39m\u001b[38;5;124m'\u001b[39m:\u001b[38;5;124m'\u001b[39m\u001b[38;5;124mSalahudin\u001b[39m\u001b[38;5;124m'\u001b[39m , \u001b[38;5;124m'\u001b[39m\u001b[38;5;124mage\u001b[39m\u001b[38;5;124m'\u001b[39m:\u001b[38;5;241m45\u001b[39m , \u001b[38;5;124m'\u001b[39m\u001b[38;5;124msalary\u001b[39m\u001b[38;5;124m'\u001b[39m:\u001b[38;5;241m5464564565\u001b[39m },\n\u001b[0;32m      2\u001b[0m            \u001b[38;5;124m'\u001b[39m\u001b[38;5;124memp_2\u001b[39m\u001b[38;5;124m'\u001b[39m : {\u001b[38;5;124m'\u001b[39m\u001b[38;5;124mname\u001b[39m\u001b[38;5;124m'\u001b[39m:\u001b[38;5;124m'\u001b[39m\u001b[38;5;124mSriram\u001b[39m\u001b[38;5;124m'\u001b[39m , \u001b[38;5;124m'\u001b[39m\u001b[38;5;124mage\u001b[39m\u001b[38;5;124m'\u001b[39m:\u001b[38;5;241m34\u001b[39m , \u001b[38;5;124m'\u001b[39m\u001b[38;5;124msalary\u001b[39m\u001b[38;5;124m'\u001b[39m:\u001b[38;5;241m5656546546\u001b[39m } ,\n\u001b[0;32m      3\u001b[0m            \u001b[38;5;124m'\u001b[39m\u001b[38;5;124memp_3\u001b[39m\u001b[38;5;124m'\u001b[39m : {\u001b[38;5;124m'\u001b[39m\u001b[38;5;124mname\u001b[39m\u001b[38;5;124m'\u001b[39m:\u001b[38;5;124m'\u001b[39m\u001b[38;5;124mAbhishek\u001b[39m\u001b[38;5;124m'\u001b[39m , \u001b[38;5;124m'\u001b[39m\u001b[38;5;124mage\u001b[39m\u001b[38;5;124m'\u001b[39m:\u001b[38;5;241m28\u001b[39m , \u001b[38;5;124m'\u001b[39m\u001b[38;5;124msalary\u001b[39m\u001b[38;5;124m'\u001b[39m:\u001b[38;5;241m7675675676\u001b[39m },\n\u001b[0;32m      4\u001b[0m            \u001b[38;5;124m'\u001b[39m\u001b[38;5;124memp_4\u001b[39m\u001b[38;5;124m'\u001b[39m : {\u001b[38;5;124m'\u001b[39m\u001b[38;5;124mname\u001b[39m\u001b[38;5;124m'\u001b[39m:\u001b[38;5;124m'\u001b[39m\u001b[38;5;124mAnshul\u001b[39m\u001b[38;5;124m'\u001b[39m , \u001b[38;5;124m'\u001b[39m\u001b[38;5;124mage\u001b[39m\u001b[38;5;124m'\u001b[39m:\u001b[38;5;241m27\u001b[39m , \u001b[38;5;124m'\u001b[39m\u001b[38;5;124msalary\u001b[39m\u001b[38;5;124m'\u001b[39m:\u001b[38;5;241m6878678687\u001b[39m },\n\u001b[0;32m      5\u001b[0m            \u001b[38;5;124m'\u001b[39m\u001b[38;5;124memp_5\u001b[39m\u001b[38;5;124m'\u001b[39m : {\u001b[38;5;124m'\u001b[39m\u001b[38;5;124mname\u001b[39m\u001b[38;5;124m'\u001b[39m:\u001b[38;5;124m'\u001b[39m\u001b[38;5;124mNabia\u001b[39m\u001b[38;5;124m'\u001b[39m , \u001b[38;5;124m'\u001b[39m\u001b[38;5;124mage\u001b[39m\u001b[38;5;124m'\u001b[39m:\u001b[38;5;241m25\u001b[39m , \u001b[38;5;124m'\u001b[39m\u001b[38;5;124msalary\u001b[39m\u001b[38;5;124m'\u001b[39m:\u001b[38;5;241m6786765765\u001b[39m }}\n\u001b[1;32m----> 8\u001b[0m emp_data\u001b[38;5;241m.\u001b[39mupdate(\u001b[38;5;124m'\u001b[39m\u001b[38;5;124memp_2\u001b[39m\u001b[38;5;124m'\u001b[39m)\n",
      "\u001b[1;31mValueError\u001b[0m: dictionary update sequence element #0 has length 1; 2 is required"
     ]
    }
   ],
   "source": [
    "\n",
    "emp_data = {'emp_1' : {'name':'Salahudin' , 'age':45 , 'salary':5464564565 },\n",
    "           'emp_2' : {'name':'Sriram' , 'age':34 , 'salary':5656546546 } ,\n",
    "           'emp_3' : {'name':'Abhishek' , 'age':28 , 'salary':7675675676 },\n",
    "           'emp_4' : {'name':'Anshul' , 'age':27 , 'salary':6878678687 },\n",
    "           'emp_5' : {'name':'Nabia' , 'age':25 , 'salary':6786765765 }}\n",
    "\n",
    "\n",
    "emp_data.update('emp_2')"
   ]
  },
  {
   "cell_type": "code",
   "execution_count": 29,
   "id": "0117cd6b",
   "metadata": {},
   "outputs": [],
   "source": [
    "\n",
    "emp_data = {'emp_1' : {'name':'Salahudin' , 'age':45 , 'salary':5464564565 },\n",
    "           'emp_2' : {'name':'Sriram' , 'age':34 , 'salary':5656546546 } ,\n",
    "           'emp_3' : {'name':'Abhishek' , 'age':28 , 'salary':7675675676 },\n",
    "           'emp_4' : {'name':'Anshul' , 'age':27 , 'salary':6878678687 },\n",
    "           'emp_5' : {'name':'Nabia' , 'age':25 , 'salary':6786765765 }}\n",
    "\n",
    "new_change = {'emp_3' : {'name':'Abhishek' , 'age':40 , 'salary':7675675676 }}\n",
    "\n",
    "\n",
    "emp_data.update(new_change)"
   ]
  },
  {
   "cell_type": "code",
   "execution_count": 30,
   "id": "f4292a3c",
   "metadata": {},
   "outputs": [
    {
     "data": {
      "text/plain": [
       "{'emp_1': {'name': 'Salahudin', 'age': 45, 'salary': 5464564565},\n",
       " 'emp_2': {'name': 'Sriram', 'age': 34, 'salary': 5656546546},\n",
       " 'emp_3': {'name': 'Abhishek', 'age': 40, 'salary': 7675675676},\n",
       " 'emp_4': {'name': 'Anshul', 'age': 27, 'salary': 6878678687},\n",
       " 'emp_5': {'name': 'Nabia', 'age': 25, 'salary': 6786765765}}"
      ]
     },
     "execution_count": 30,
     "metadata": {},
     "output_type": "execute_result"
    }
   ],
   "source": [
    "emp_data"
   ]
  },
  {
   "cell_type": "code",
   "execution_count": 33,
   "id": "5cfb7e71",
   "metadata": {},
   "outputs": [],
   "source": [
    "\n",
    "emp_data = {'emp_1' : {'name':'Salahudin' , 'age':45 , 'salary':5464564565 },\n",
    "           'emp_2' : {'name':'Sriram' , 'age':34 , 'salary':5656546546 } ,\n",
    "           'emp_3' : {'name':'Abhishek' , 'age':28 , 'salary':7675675676 },\n",
    "           'emp_4' : {'name':'Anshul' , 'age':27 , 'salary':6878678687 },\n",
    "           'emp_5' : {'name':'Nabia' , 'age':25 , 'salary':6786765765 }}\n",
    "\n",
    "new_change = {'emp_6' : {'name':'new_emp_1' , 'age':40 , 'salary':7675675676 },\n",
    "             'emp_7' : {'name':'new_emp_2' , 'age':40 , 'salary':7675675676 }}\n",
    "\n",
    "\n",
    "emp_data.update(new_change)"
   ]
  },
  {
   "cell_type": "code",
   "execution_count": 34,
   "id": "1591b4f5",
   "metadata": {},
   "outputs": [
    {
     "data": {
      "text/plain": [
       "{'emp_1': {'name': 'Salahudin', 'age': 45, 'salary': 5464564565},\n",
       " 'emp_2': {'name': 'Sriram', 'age': 34, 'salary': 5656546546},\n",
       " 'emp_3': {'name': 'Abhishek', 'age': 28, 'salary': 7675675676},\n",
       " 'emp_4': {'name': 'Anshul', 'age': 27, 'salary': 6878678687},\n",
       " 'emp_5': {'name': 'Nabia', 'age': 25, 'salary': 6786765765},\n",
       " 'emp_6': {'name': 'new_emp_1', 'age': 40, 'salary': 7675675676},\n",
       " 'emp_7': {'name': 'new_emp_2', 'age': 40, 'salary': 7675675676}}"
      ]
     },
     "execution_count": 34,
     "metadata": {},
     "output_type": "execute_result"
    }
   ],
   "source": [
    "emp_data"
   ]
  },
  {
   "cell_type": "markdown",
   "id": "527a058d",
   "metadata": {},
   "source": [
    "### Task 1"
   ]
  },
  {
   "cell_type": "code",
   "execution_count": 47,
   "id": "4016e021",
   "metadata": {},
   "outputs": [],
   "source": [
    "\n",
    "emp_data = {'emp_1' : {'name':'Salahudin' , 'age':45 , 'salary':5464564565 },\n",
    "           'emp_2' : {'name':'Sriram' , 'age':34 , 'salary':5656546546 } ,\n",
    "           'emp_3' : {'name':'Abhishek' , 'age':28 , 'salary':7675675676 },\n",
    "           'emp_4' : {'name':'Anshul' , 'age':27 , 'salary':6878678687 },\n",
    "           'emp_5' : {'name':'Nabia' , 'age':25 , 'salary':6786765765 }}"
   ]
  },
  {
   "cell_type": "code",
   "execution_count": 48,
   "id": "ac31db01",
   "metadata": {},
   "outputs": [
    {
     "name": "stdout",
     "output_type": "stream",
     "text": [
      "Enter the name : new_emp\n",
      "Enter the salary : 435345435\n",
      "Enter the age : 45\n"
     ]
    },
    {
     "data": {
      "text/plain": [
       "{'emp_1': {'name': 'Salahudin', 'age': 45, 'salary': 5464564565},\n",
       " 'emp_2': {'name': 'Sriram', 'age': 34, 'salary': 5656546546},\n",
       " 'emp_3': {'name': 'Abhishek', 'age': 28, 'salary': 7675675676},\n",
       " 'emp_4': {'name': 'Anshul', 'age': 27, 'salary': 6878678687},\n",
       " 'emp_5': {'name': 'Nabia', 'age': 25, 'salary': 6786765765},\n",
       " 'emp_6': {'name': 'new_emp', 'age': 45, 'salary': 435345435}}"
      ]
     },
     "execution_count": 48,
     "metadata": {},
     "output_type": "execute_result"
    }
   ],
   "source": [
    "# HR\n",
    "\n",
    "name = input('Enter the name : ')\n",
    "salary = int(input('Enter the salary : '))\n",
    "age = int(input('Enter the age : '))\n",
    "\n",
    "key = f\"emp_{len(emp_data)+1}\"\n",
    "\n",
    "\n",
    "emp_data.setdefault(key , {'name':name , 'age':age , 'salary':salary})\n",
    "\n",
    "emp_data"
   ]
  },
  {
   "cell_type": "code",
   "execution_count": 50,
   "id": "1d94b93a",
   "metadata": {},
   "outputs": [
    {
     "name": "stdout",
     "output_type": "stream",
     "text": [
      "Enter the name : abc\n",
      "Enter the salary : 454654645\n",
      "Enter the age : 56\n"
     ]
    },
    {
     "data": {
      "text/plain": [
       "{'emp_1': {'name': 'Salahudin', 'age': 45, 'salary': 5464564565},\n",
       " 'emp_2': {'name': 'Sriram', 'age': 34, 'salary': 5656546546},\n",
       " 'emp_3': {'name': 'Abhishek', 'age': 28, 'salary': 7675675676},\n",
       " 'emp_4': {'name': 'Anshul', 'age': 27, 'salary': 6878678687},\n",
       " 'emp_5': {'name': 'Nabia', 'age': 25, 'salary': 6786765765},\n",
       " 'emp_6': {'name': 'new_emp', 'age': 45, 'salary': 435345435},\n",
       " 'emp_7': {'name': 'xyz', 'age': 54, 'salary': 546546546},\n",
       " 'emp_8': {'name': 'abc', 'age': 56, 'salary': 454654645}}"
      ]
     },
     "execution_count": 50,
     "metadata": {},
     "output_type": "execute_result"
    }
   ],
   "source": [
    "name = input('Enter the name : ')\n",
    "salary = int(input('Enter the salary : '))\n",
    "age = int(input('Enter the age : '))\n",
    "\n",
    "key = f\"emp_{len(emp_data)+1}\"\n",
    "\n",
    "\n",
    "emp_data.update({key : {'name':name , 'age':age , 'salary':salary}})\n",
    "\n",
    "emp_data"
   ]
  },
  {
   "cell_type": "markdown",
   "id": "0e094e31",
   "metadata": {},
   "source": [
    "- get - Extract the existing data, can pass personel message if key is not found , cannot update existing record , cannot insert\n",
    "- setdefault- Extract the existing data, can insert any one record at a time , cannot update existing record\n",
    "- update - Cannot extract the existing data, can insert and update existing multiple data "
   ]
  },
  {
   "cell_type": "markdown",
   "id": "0b159edd",
   "metadata": {},
   "source": [
    "# Methods to remove the item from the dict\n",
    "\n",
    "- pop\n",
    "- popitem"
   ]
  },
  {
   "cell_type": "code",
   "execution_count": 51,
   "id": "127317bb",
   "metadata": {},
   "outputs": [
    {
     "name": "stdout",
     "output_type": "stream",
     "text": [
      "['__class__', '__class_getitem__', '__contains__', '__delattr__', '__delitem__', '__dir__', '__doc__', '__eq__', '__format__', '__ge__', '__getattribute__', '__getitem__', '__getstate__', '__gt__', '__hash__', '__init__', '__init_subclass__', '__ior__', '__iter__', '__le__', '__len__', '__lt__', '__ne__', '__new__', '__or__', '__reduce__', '__reduce_ex__', '__repr__', '__reversed__', '__ror__', '__setattr__', '__setitem__', '__sizeof__', '__str__', '__subclasshook__', 'clear', 'copy', 'fromkeys', 'get', 'items', 'keys', 'pop', 'popitem', 'setdefault', 'update', 'values']\n"
     ]
    }
   ],
   "source": [
    "print(dir(dict))"
   ]
  },
  {
   "cell_type": "code",
   "execution_count": null,
   "id": "55745e91",
   "metadata": {},
   "outputs": [],
   "source": [
    "### pop\n",
    "\n",
    "- removes the item acording to the key\n",
    "- removes the item and return you the value"
   ]
  },
  {
   "cell_type": "code",
   "execution_count": 52,
   "id": "4f8c5ef9",
   "metadata": {},
   "outputs": [
    {
     "data": {
      "text/plain": [
       "{'name': 'Abhishek', 'age': 28, 'salary': 7675675676}"
      ]
     },
     "execution_count": 52,
     "metadata": {},
     "output_type": "execute_result"
    }
   ],
   "source": [
    "\n",
    "emp_data = {'emp_1' : {'name':'Salahudin' , 'age':45 , 'salary':5464564565 },\n",
    "           'emp_2' : {'name':'Sriram' , 'age':34 , 'salary':5656546546 } ,\n",
    "           'emp_3' : {'name':'Abhishek' , 'age':28 , 'salary':7675675676 },\n",
    "           'emp_4' : {'name':'Anshul' , 'age':27 , 'salary':6878678687 },\n",
    "           'emp_5' : {'name':'Nabia' , 'age':25 , 'salary':6786765765 }}\n",
    "\n",
    "\n",
    "emp_data.pop('emp_3')"
   ]
  },
  {
   "cell_type": "code",
   "execution_count": 53,
   "id": "a3d67014",
   "metadata": {},
   "outputs": [
    {
     "data": {
      "text/plain": [
       "{'emp_1': {'name': 'Salahudin', 'age': 45, 'salary': 5464564565},\n",
       " 'emp_2': {'name': 'Sriram', 'age': 34, 'salary': 5656546546},\n",
       " 'emp_4': {'name': 'Anshul', 'age': 27, 'salary': 6878678687},\n",
       " 'emp_5': {'name': 'Nabia', 'age': 25, 'salary': 6786765765}}"
      ]
     },
     "execution_count": 53,
     "metadata": {},
     "output_type": "execute_result"
    }
   ],
   "source": [
    "emp_data"
   ]
  },
  {
   "cell_type": "code",
   "execution_count": 54,
   "id": "ddd28667",
   "metadata": {},
   "outputs": [],
   "source": [
    "\n",
    "emp_data = {'emp_1' : {'name':'Salahudin' , 'age':45 , 'salary':5464564565 },\n",
    "           'emp_2' : {'name':'Sriram' , 'age':34 , 'salary':5656546546 } ,\n",
    "           'emp_3' : {'name':'Abhishek' , 'age':28 , 'salary':7675675676 },\n",
    "           'emp_4' : {'name':'Anshul' , 'age':27 , 'salary':6878678687 },\n",
    "           'emp_5' : {'name':'Nabia' , 'age':25 , 'salary':6786765765 }}\n",
    "\n",
    "\n",
    "a = emp_data.pop('emp_3')"
   ]
  },
  {
   "cell_type": "code",
   "execution_count": 55,
   "id": "67c4d910",
   "metadata": {},
   "outputs": [
    {
     "data": {
      "text/plain": [
       "{'emp_1': {'name': 'Salahudin', 'age': 45, 'salary': 5464564565},\n",
       " 'emp_2': {'name': 'Sriram', 'age': 34, 'salary': 5656546546},\n",
       " 'emp_4': {'name': 'Anshul', 'age': 27, 'salary': 6878678687},\n",
       " 'emp_5': {'name': 'Nabia', 'age': 25, 'salary': 6786765765}}"
      ]
     },
     "execution_count": 55,
     "metadata": {},
     "output_type": "execute_result"
    }
   ],
   "source": [
    "emp_data"
   ]
  },
  {
   "cell_type": "code",
   "execution_count": 56,
   "id": "420ef66c",
   "metadata": {},
   "outputs": [
    {
     "data": {
      "text/plain": [
       "{'name': 'Abhishek', 'age': 28, 'salary': 7675675676}"
      ]
     },
     "execution_count": 56,
     "metadata": {},
     "output_type": "execute_result"
    }
   ],
   "source": [
    "a"
   ]
  },
  {
   "cell_type": "code",
   "execution_count": 57,
   "id": "97662ade",
   "metadata": {},
   "outputs": [
    {
     "ename": "KeyError",
     "evalue": "'emp_10'",
     "output_type": "error",
     "traceback": [
      "\u001b[1;31m---------------------------------------------------------------------------\u001b[0m",
      "\u001b[1;31mKeyError\u001b[0m                                  Traceback (most recent call last)",
      "Cell \u001b[1;32mIn[57], line 8\u001b[0m\n\u001b[0;32m      1\u001b[0m emp_data \u001b[38;5;241m=\u001b[39m {\u001b[38;5;124m'\u001b[39m\u001b[38;5;124memp_1\u001b[39m\u001b[38;5;124m'\u001b[39m : {\u001b[38;5;124m'\u001b[39m\u001b[38;5;124mname\u001b[39m\u001b[38;5;124m'\u001b[39m:\u001b[38;5;124m'\u001b[39m\u001b[38;5;124mSalahudin\u001b[39m\u001b[38;5;124m'\u001b[39m , \u001b[38;5;124m'\u001b[39m\u001b[38;5;124mage\u001b[39m\u001b[38;5;124m'\u001b[39m:\u001b[38;5;241m45\u001b[39m , \u001b[38;5;124m'\u001b[39m\u001b[38;5;124msalary\u001b[39m\u001b[38;5;124m'\u001b[39m:\u001b[38;5;241m5464564565\u001b[39m },\n\u001b[0;32m      2\u001b[0m            \u001b[38;5;124m'\u001b[39m\u001b[38;5;124memp_2\u001b[39m\u001b[38;5;124m'\u001b[39m : {\u001b[38;5;124m'\u001b[39m\u001b[38;5;124mname\u001b[39m\u001b[38;5;124m'\u001b[39m:\u001b[38;5;124m'\u001b[39m\u001b[38;5;124mSriram\u001b[39m\u001b[38;5;124m'\u001b[39m , \u001b[38;5;124m'\u001b[39m\u001b[38;5;124mage\u001b[39m\u001b[38;5;124m'\u001b[39m:\u001b[38;5;241m34\u001b[39m , \u001b[38;5;124m'\u001b[39m\u001b[38;5;124msalary\u001b[39m\u001b[38;5;124m'\u001b[39m:\u001b[38;5;241m5656546546\u001b[39m } ,\n\u001b[0;32m      3\u001b[0m            \u001b[38;5;124m'\u001b[39m\u001b[38;5;124memp_3\u001b[39m\u001b[38;5;124m'\u001b[39m : {\u001b[38;5;124m'\u001b[39m\u001b[38;5;124mname\u001b[39m\u001b[38;5;124m'\u001b[39m:\u001b[38;5;124m'\u001b[39m\u001b[38;5;124mAbhishek\u001b[39m\u001b[38;5;124m'\u001b[39m , \u001b[38;5;124m'\u001b[39m\u001b[38;5;124mage\u001b[39m\u001b[38;5;124m'\u001b[39m:\u001b[38;5;241m28\u001b[39m , \u001b[38;5;124m'\u001b[39m\u001b[38;5;124msalary\u001b[39m\u001b[38;5;124m'\u001b[39m:\u001b[38;5;241m7675675676\u001b[39m },\n\u001b[0;32m      4\u001b[0m            \u001b[38;5;124m'\u001b[39m\u001b[38;5;124memp_4\u001b[39m\u001b[38;5;124m'\u001b[39m : {\u001b[38;5;124m'\u001b[39m\u001b[38;5;124mname\u001b[39m\u001b[38;5;124m'\u001b[39m:\u001b[38;5;124m'\u001b[39m\u001b[38;5;124mAnshul\u001b[39m\u001b[38;5;124m'\u001b[39m , \u001b[38;5;124m'\u001b[39m\u001b[38;5;124mage\u001b[39m\u001b[38;5;124m'\u001b[39m:\u001b[38;5;241m27\u001b[39m , \u001b[38;5;124m'\u001b[39m\u001b[38;5;124msalary\u001b[39m\u001b[38;5;124m'\u001b[39m:\u001b[38;5;241m6878678687\u001b[39m },\n\u001b[0;32m      5\u001b[0m            \u001b[38;5;124m'\u001b[39m\u001b[38;5;124memp_5\u001b[39m\u001b[38;5;124m'\u001b[39m : {\u001b[38;5;124m'\u001b[39m\u001b[38;5;124mname\u001b[39m\u001b[38;5;124m'\u001b[39m:\u001b[38;5;124m'\u001b[39m\u001b[38;5;124mNabia\u001b[39m\u001b[38;5;124m'\u001b[39m , \u001b[38;5;124m'\u001b[39m\u001b[38;5;124mage\u001b[39m\u001b[38;5;124m'\u001b[39m:\u001b[38;5;241m25\u001b[39m , \u001b[38;5;124m'\u001b[39m\u001b[38;5;124msalary\u001b[39m\u001b[38;5;124m'\u001b[39m:\u001b[38;5;241m6786765765\u001b[39m }}\n\u001b[1;32m----> 8\u001b[0m emp_data\u001b[38;5;241m.\u001b[39mpop(\u001b[38;5;124m'\u001b[39m\u001b[38;5;124memp_10\u001b[39m\u001b[38;5;124m'\u001b[39m)\n",
      "\u001b[1;31mKeyError\u001b[0m: 'emp_10'"
     ]
    }
   ],
   "source": [
    "\n",
    "emp_data = {'emp_1' : {'name':'Salahudin' , 'age':45 , 'salary':5464564565 },\n",
    "           'emp_2' : {'name':'Sriram' , 'age':34 , 'salary':5656546546 } ,\n",
    "           'emp_3' : {'name':'Abhishek' , 'age':28 , 'salary':7675675676 },\n",
    "           'emp_4' : {'name':'Anshul' , 'age':27 , 'salary':6878678687 },\n",
    "           'emp_5' : {'name':'Nabia' , 'age':25 , 'salary':6786765765 }}\n",
    "\n",
    "\n",
    "emp_data.pop('emp_10')"
   ]
  },
  {
   "cell_type": "code",
   "execution_count": 58,
   "id": "4c16f3e3",
   "metadata": {},
   "outputs": [
    {
     "data": {
      "text/plain": [
       "'personel message'"
      ]
     },
     "execution_count": 58,
     "metadata": {},
     "output_type": "execute_result"
    }
   ],
   "source": [
    "\n",
    "emp_data = {'emp_1' : {'name':'Salahudin' , 'age':45 , 'salary':5464564565 },\n",
    "           'emp_2' : {'name':'Sriram' , 'age':34 , 'salary':5656546546 } ,\n",
    "           'emp_3' : {'name':'Abhishek' , 'age':28 , 'salary':7675675676 },\n",
    "           'emp_4' : {'name':'Anshul' , 'age':27 , 'salary':6878678687 },\n",
    "           'emp_5' : {'name':'Nabia' , 'age':25 , 'salary':6786765765 }}\n",
    "\n",
    "\n",
    "emp_data.pop('emp_10' , 'personel message')"
   ]
  },
  {
   "cell_type": "code",
   "execution_count": 59,
   "id": "09f29ba9",
   "metadata": {},
   "outputs": [
    {
     "data": {
      "text/plain": [
       "{'emp_1': {'name': 'Salahudin', 'age': 45, 'salary': 5464564565},\n",
       " 'emp_2': {'name': 'Sriram', 'age': 34, 'salary': 5656546546},\n",
       " 'emp_3': None,\n",
       " 'emp_4': {'name': 'Anshul', 'age': 27, 'salary': 6878678687},\n",
       " 'emp_5': {'name': 'Nabia', 'age': 25, 'salary': 6786765765}}"
      ]
     },
     "execution_count": 59,
     "metadata": {},
     "output_type": "execute_result"
    }
   ],
   "source": [
    "\n",
    "emp_data = {'emp_1' : {'name':'Salahudin' , 'age':45 , 'salary':5464564565 },\n",
    "           'emp_2' : {'name':'Sriram' , 'age':34 , 'salary':5656546546 } ,\n",
    "           'emp_3' : {'name':'Abhishek' , 'age':28 , 'salary':7675675676 },\n",
    "           'emp_4' : {'name':'Anshul' , 'age':27 , 'salary':6878678687 },\n",
    "           'emp_5' : {'name':'Nabia' , 'age':25 , 'salary':6786765765 }}\n",
    "\n",
    "\n",
    "emp_data['emp_3'] = None\n",
    "\n",
    "\n",
    "emp_data"
   ]
  },
  {
   "cell_type": "code",
   "execution_count": 60,
   "id": "6bafed88",
   "metadata": {},
   "outputs": [
    {
     "data": {
      "text/plain": [
       "5656546546"
      ]
     },
     "execution_count": 60,
     "metadata": {},
     "output_type": "execute_result"
    }
   ],
   "source": [
    "\n",
    "emp_data = {'emp_1' : {'name':'Salahudin' , 'age':45 , 'salary':5464564565 },\n",
    "           'emp_2' : {'name':'Sriram' , 'age':34 , 'salary':5656546546 } ,\n",
    "           'emp_3' : {'name':'Abhishek' , 'age':28 , 'salary':7675675676 },\n",
    "           'emp_4' : {'name':'Anshul' , 'age':27 , 'salary':6878678687 },\n",
    "           'emp_5' : {'name':'Nabia' , 'age':25 , 'salary':6786765765 }}\n",
    "\n",
    "\n",
    "emp_data['emp_2'].pop('salary')"
   ]
  },
  {
   "cell_type": "code",
   "execution_count": 61,
   "id": "ddf55e69",
   "metadata": {},
   "outputs": [
    {
     "data": {
      "text/plain": [
       "{'emp_1': {'name': 'Salahudin', 'age': 45, 'salary': 5464564565},\n",
       " 'emp_2': {'name': 'Sriram', 'age': 34},\n",
       " 'emp_3': {'name': 'Abhishek', 'age': 28, 'salary': 7675675676},\n",
       " 'emp_4': {'name': 'Anshul', 'age': 27, 'salary': 6878678687},\n",
       " 'emp_5': {'name': 'Nabia', 'age': 25, 'salary': 6786765765}}"
      ]
     },
     "execution_count": 61,
     "metadata": {},
     "output_type": "execute_result"
    }
   ],
   "source": [
    "emp_data"
   ]
  },
  {
   "cell_type": "code",
   "execution_count": 64,
   "id": "5b8311af",
   "metadata": {},
   "outputs": [],
   "source": [
    "\n",
    "emp_data = {'emp_1' : {'name':'Salahudin' , 'age':45 , 'salary':5464564565 },\n",
    "           'emp_2' : {'name':'Sriram' , 'age':34 , 'salary':5656546546 } ,\n",
    "           'emp_3' : {'name':'Abhishek' , 'age':28 , 'salary':7675675676 },\n",
    "           'emp_4' : {'name':'Anshul' , 'age':27 , 'salary':6878678687 },\n",
    "           'emp_5' : {'name':'Nabia' , 'age':25 , 'salary':6786765765 }}\n",
    "\n"
   ]
  },
  {
   "cell_type": "code",
   "execution_count": 71,
   "id": "1322f114",
   "metadata": {},
   "outputs": [
    {
     "data": {
      "text/plain": [
       "('emp_2', {'name': 'Sriram', 'age': 34, 'salary': 5656546546})"
      ]
     },
     "execution_count": 71,
     "metadata": {},
     "output_type": "execute_result"
    }
   ],
   "source": [
    "\n",
    "emp_data.popitem()"
   ]
  },
  {
   "cell_type": "code",
   "execution_count": 72,
   "id": "ace318ed",
   "metadata": {},
   "outputs": [
    {
     "data": {
      "text/plain": [
       "{'emp_1': {'name': 'Salahudin', 'age': 45, 'salary': 5464564565}}"
      ]
     },
     "execution_count": 72,
     "metadata": {},
     "output_type": "execute_result"
    }
   ],
   "source": [
    "emp_data"
   ]
  },
  {
   "cell_type": "code",
   "execution_count": null,
   "id": "85deab24",
   "metadata": {},
   "outputs": [],
   "source": [
    "# HR\n",
    "\n",
    "name = input('Enter the name : ')\n",
    "salary = int(input('Enter the salary : '))\n",
    "age = int(input('Enter the age : '))\n",
    "\n",
    "key = f\"emp_{len(emp_data)+1}\"\n",
    "\n",
    "\n",
    "emp_data.setdefault(key , {'name':name , 'age':age , 'salary':salary})\n",
    "\n",
    "emp_data"
   ]
  },
  {
   "cell_type": "markdown",
   "id": "5cc1732e",
   "metadata": {},
   "source": [
    "### Task2 "
   ]
  },
  {
   "cell_type": "code",
   "execution_count": 74,
   "id": "e9cf0af5",
   "metadata": {},
   "outputs": [],
   "source": [
    "\n",
    "existing_emp = {'emp_1': {'name': 'Salahudin', 'age': 45, 'salary': 5464564565},\n",
    " 'emp_2': {'name': 'Sriram', 'age': 34, 'salary': 5656546546},\n",
    " 'emp_3': {'name': 'Abhishek', 'age': 28, 'salary': 7675675676},\n",
    " 'emp_4': {'name': 'Anshul', 'age': 27, 'salary': 6878678687},\n",
    " 'emp_5': {'name': 'Nabia', 'age': 25, 'salary': 6786765765},\n",
    " 'emp_6': {'name': 'new_emp', 'age': 45, 'salary': 435345435},\n",
    " 'emp_7': {'name': 'xyz', 'age': 54, 'salary': 546546546},\n",
    " 'emp_8': {'name': 'abc', 'age': 56, 'salary': 454654645}}\n",
    "\n",
    "ex_emp = {}"
   ]
  },
  {
   "cell_type": "code",
   "execution_count": 77,
   "id": "9170a77c",
   "metadata": {},
   "outputs": [
    {
     "name": "stdout",
     "output_type": "stream",
     "text": [
      "Enter the emp ID : emp_3\n"
     ]
    },
    {
     "data": {
      "text/plain": [
       "{'emp_6': {'name': 'new_emp', 'age': 45, 'salary': 435345435},\n",
       " 'emp_3': {'name': 'Abhishek', 'age': 28, 'salary': 7675675676}}"
      ]
     },
     "execution_count": 77,
     "metadata": {},
     "output_type": "execute_result"
    }
   ],
   "source": [
    "a = input('Enter the emp ID : ')\n",
    "\n",
    "value = existing_emp.pop(a)\n",
    "\n",
    "ex_emp.setdefault(a , value)\n",
    "\n",
    "ex_emp"
   ]
  },
  {
   "cell_type": "code",
   "execution_count": 78,
   "id": "fb47697f",
   "metadata": {},
   "outputs": [
    {
     "data": {
      "text/plain": [
       "{'emp_1': {'name': 'Salahudin', 'age': 45, 'salary': 5464564565},\n",
       " 'emp_2': {'name': 'Sriram', 'age': 34, 'salary': 5656546546},\n",
       " 'emp_4': {'name': 'Anshul', 'age': 27, 'salary': 6878678687},\n",
       " 'emp_5': {'name': 'Nabia', 'age': 25, 'salary': 6786765765},\n",
       " 'emp_7': {'name': 'xyz', 'age': 54, 'salary': 546546546},\n",
       " 'emp_8': {'name': 'abc', 'age': 56, 'salary': 454654645}}"
      ]
     },
     "execution_count": 78,
     "metadata": {},
     "output_type": "execute_result"
    }
   ],
   "source": [
    "existing_emp"
   ]
  },
  {
   "cell_type": "code",
   "execution_count": null,
   "id": "d805ac49",
   "metadata": {},
   "outputs": [],
   "source": [
    "# "
   ]
  },
  {
   "cell_type": "code",
   "execution_count": 79,
   "id": "3185a8ba",
   "metadata": {},
   "outputs": [
    {
     "name": "stdout",
     "output_type": "stream",
     "text": [
      "['__class__', '__class_getitem__', '__contains__', '__delattr__', '__delitem__', '__dir__', '__doc__', '__eq__', '__format__', '__ge__', '__getattribute__', '__getitem__', '__getstate__', '__gt__', '__hash__', '__init__', '__init_subclass__', '__ior__', '__iter__', '__le__', '__len__', '__lt__', '__ne__', '__new__', '__or__', '__reduce__', '__reduce_ex__', '__repr__', '__reversed__', '__ror__', '__setattr__', '__setitem__', '__sizeof__', '__str__', '__subclasshook__', 'clear', 'copy', 'fromkeys', 'get', 'items', 'keys', 'pop', 'popitem', 'setdefault', 'update', 'values']\n"
     ]
    }
   ],
   "source": [
    "print(dir(dict))"
   ]
  },
  {
   "cell_type": "markdown",
   "id": "30b27080",
   "metadata": {},
   "source": [
    "### Keys, items , values"
   ]
  },
  {
   "cell_type": "code",
   "execution_count": 80,
   "id": "3be21bcc",
   "metadata": {},
   "outputs": [
    {
     "data": {
      "text/plain": [
       "dict_keys(['emp_1', 'emp_2', 'emp_3', 'emp_4', 'emp_5', 'emp_6', 'emp_7', 'emp_8'])"
      ]
     },
     "execution_count": 80,
     "metadata": {},
     "output_type": "execute_result"
    }
   ],
   "source": [
    "\n",
    "existing_emp = {'emp_1': {'name': 'Salahudin', 'age': 45, 'salary': 5464564565},\n",
    " 'emp_2': {'name': 'Sriram', 'age': 34, 'salary': 5656546546},\n",
    " 'emp_3': {'name': 'Abhishek', 'age': 28, 'salary': 7675675676},\n",
    " 'emp_4': {'name': 'Anshul', 'age': 27, 'salary': 6878678687},\n",
    " 'emp_5': {'name': 'Nabia', 'age': 25, 'salary': 6786765765},\n",
    " 'emp_6': {'name': 'new_emp', 'age': 45, 'salary': 435345435},\n",
    " 'emp_7': {'name': 'xyz', 'age': 54, 'salary': 546546546},\n",
    " 'emp_8': {'name': 'abc', 'age': 56, 'salary': 454654645}}\n",
    "\n",
    "\n",
    "existing_emp.keys()"
   ]
  },
  {
   "cell_type": "code",
   "execution_count": 81,
   "id": "705004f8",
   "metadata": {},
   "outputs": [
    {
     "data": {
      "text/plain": [
       "dict_values([{'name': 'Salahudin', 'age': 45, 'salary': 5464564565}, {'name': 'Sriram', 'age': 34, 'salary': 5656546546}, {'name': 'Abhishek', 'age': 28, 'salary': 7675675676}, {'name': 'Anshul', 'age': 27, 'salary': 6878678687}, {'name': 'Nabia', 'age': 25, 'salary': 6786765765}, {'name': 'new_emp', 'age': 45, 'salary': 435345435}, {'name': 'xyz', 'age': 54, 'salary': 546546546}, {'name': 'abc', 'age': 56, 'salary': 454654645}])"
      ]
     },
     "execution_count": 81,
     "metadata": {},
     "output_type": "execute_result"
    }
   ],
   "source": [
    "\n",
    "existing_emp = {'emp_1': {'name': 'Salahudin', 'age': 45, 'salary': 5464564565},\n",
    " 'emp_2': {'name': 'Sriram', 'age': 34, 'salary': 5656546546},\n",
    " 'emp_3': {'name': 'Abhishek', 'age': 28, 'salary': 7675675676},\n",
    " 'emp_4': {'name': 'Anshul', 'age': 27, 'salary': 6878678687},\n",
    " 'emp_5': {'name': 'Nabia', 'age': 25, 'salary': 6786765765},\n",
    " 'emp_6': {'name': 'new_emp', 'age': 45, 'salary': 435345435},\n",
    " 'emp_7': {'name': 'xyz', 'age': 54, 'salary': 546546546},\n",
    " 'emp_8': {'name': 'abc', 'age': 56, 'salary': 454654645}}\n",
    "\n",
    "\n",
    "existing_emp.values()"
   ]
  },
  {
   "cell_type": "code",
   "execution_count": 82,
   "id": "30b223c6",
   "metadata": {},
   "outputs": [
    {
     "data": {
      "text/plain": [
       "dict_items([('emp_1', {'name': 'Salahudin', 'age': 45, 'salary': 5464564565}), ('emp_2', {'name': 'Sriram', 'age': 34, 'salary': 5656546546}), ('emp_3', {'name': 'Abhishek', 'age': 28, 'salary': 7675675676}), ('emp_4', {'name': 'Anshul', 'age': 27, 'salary': 6878678687}), ('emp_5', {'name': 'Nabia', 'age': 25, 'salary': 6786765765}), ('emp_6', {'name': 'new_emp', 'age': 45, 'salary': 435345435}), ('emp_7', {'name': 'xyz', 'age': 54, 'salary': 546546546}), ('emp_8', {'name': 'abc', 'age': 56, 'salary': 454654645})])"
      ]
     },
     "execution_count": 82,
     "metadata": {},
     "output_type": "execute_result"
    }
   ],
   "source": [
    "\n",
    "existing_emp = {'emp_1': {'name': 'Salahudin', 'age': 45, 'salary': 5464564565},\n",
    " 'emp_2': {'name': 'Sriram', 'age': 34, 'salary': 5656546546},\n",
    " 'emp_3': {'name': 'Abhishek', 'age': 28, 'salary': 7675675676},\n",
    " 'emp_4': {'name': 'Anshul', 'age': 27, 'salary': 6878678687},\n",
    " 'emp_5': {'name': 'Nabia', 'age': 25, 'salary': 6786765765},\n",
    " 'emp_6': {'name': 'new_emp', 'age': 45, 'salary': 435345435},\n",
    " 'emp_7': {'name': 'Salman', 'age': 54, 'salary': 546546546},\n",
    " 'emp_8': {'name': 'abc', 'age': 56, 'salary': 454654645}}\n",
    "\n",
    "\n",
    "existing_emp.items()"
   ]
  },
  {
   "cell_type": "code",
   "execution_count": 86,
   "id": "6302883e",
   "metadata": {},
   "outputs": [
    {
     "name": "stdout",
     "output_type": "stream",
     "text": [
      "{'name': 'Salahudin', 'age': 45, 'salary': 5464564565}\n",
      "{'name': 'Sriram', 'age': 34, 'salary': 5656546546}\n",
      "{'name': 'Salman', 'age': 54, 'salary': 546546546}\n"
     ]
    }
   ],
   "source": [
    "\n",
    "existing_emp = {'emp_1': {'name': 'Salahudin', 'age': 45, 'salary': 5464564565},\n",
    " 'emp_2': {'name': 'Sriram', 'age': 34, 'salary': 5656546546},\n",
    " 'emp_3': {'name': 'Abhishek', 'age': 28, 'salary': 7675675676},\n",
    " 'emp_4': {'name': 'Anshul', 'age': 27, 'salary': 6878678687},\n",
    " 'emp_5': {'name': 'Nabia', 'age': 25, 'salary': 6786765765},\n",
    " 'emp_6': {'name': 'new_emp', 'age': 45, 'salary': 435345435},\n",
    " 'emp_7': {'name': 'Salman', 'age': 54, 'salary': 546546546},\n",
    " 'emp_8': {'name': 'abc', 'age': 56, 'salary': 454654645}}\n",
    "\n",
    "\n",
    "for i in existing_emp.keys():\n",
    "    if existing_emp[i]['name'].startswith('S'):\n",
    "        print(existing_emp[i])"
   ]
  },
  {
   "cell_type": "code",
   "execution_count": 89,
   "id": "9b6b70a8",
   "metadata": {},
   "outputs": [
    {
     "name": "stdout",
     "output_type": "stream",
     "text": [
      "{'name': 'Salahudin', 'age': 45, 'salary': 5464564565}\n",
      "{'name': 'Sriram', 'age': 34, 'salary': 5656546546}\n",
      "{'name': 'Salman', 'age': 54, 'salary': 546546546}\n"
     ]
    }
   ],
   "source": [
    "\n",
    "existing_emp = {'emp_1': {'name': 'Salahudin', 'age': 45, 'salary': 5464564565},\n",
    " 'emp_2': {'name': 'Sriram', 'age': 34, 'salary': 5656546546},\n",
    " 'emp_3': {'name': 'Abhishek', 'age': 28, 'salary': 7675675676},\n",
    " 'emp_4': {'name': 'Anshul', 'age': 27, 'salary': 6878678687},\n",
    " 'emp_5': {'name': 'Nabia', 'age': 25, 'salary': 6786765765},\n",
    " 'emp_6': {'name': 'new_emp', 'age': 45, 'salary': 435345435},\n",
    " 'emp_7': {'name': 'Salman', 'age': 54, 'salary': 546546546},\n",
    " 'emp_8': {'name': 'abc', 'age': 56, 'salary': 454654645}}\n",
    "\n",
    "\n",
    "for i in existing_emp.values():\n",
    "    if i['name'].startswith('S'):\n",
    "        print(i)"
   ]
  },
  {
   "cell_type": "code",
   "execution_count": 93,
   "id": "1cf2c512",
   "metadata": {},
   "outputs": [
    {
     "name": "stdout",
     "output_type": "stream",
     "text": [
      "{'name': 'Salahudin', 'age': 45, 'salary': 5464564565} emp_1\n",
      "{'name': 'Sriram', 'age': 34, 'salary': 5656546546} emp_2\n",
      "{'name': 'Salman', 'age': 54, 'salary': 546546546} emp_7\n"
     ]
    }
   ],
   "source": [
    "\n",
    "existing_emp = {'emp_1': {'name': 'Salahudin', 'age': 45, 'salary': 5464564565},\n",
    " 'emp_2': {'name': 'Sriram', 'age': 34, 'salary': 5656546546},\n",
    " 'emp_3': {'name': 'Abhishek', 'age': 28, 'salary': 7675675676},\n",
    " 'emp_4': {'name': 'Anshul', 'age': 27, 'salary': 6878678687},\n",
    " 'emp_5': {'name': 'Nabia', 'age': 25, 'salary': 6786765765},\n",
    " 'emp_6': {'name': 'new_emp', 'age': 45, 'salary': 435345435},\n",
    " 'emp_7': {'name': 'Salman', 'age': 54, 'salary': 546546546},\n",
    " 'emp_8': {'name': 'abc', 'age': 56, 'salary': 454654645}}\n",
    "\n",
    "\n",
    "for i,j in existing_emp.items():\n",
    "    if j['name'].startswith('S'):\n",
    "        print(j , i)"
   ]
  },
  {
   "cell_type": "markdown",
   "id": "023e5a82",
   "metadata": {},
   "source": [
    "## From keys"
   ]
  },
  {
   "cell_type": "code",
   "execution_count": 95,
   "id": "6fa8507d",
   "metadata": {},
   "outputs": [
    {
     "ename": "ValueError",
     "evalue": "dictionary update sequence element #0 has length 9; 2 is required",
     "output_type": "error",
     "traceback": [
      "\u001b[1;31m---------------------------------------------------------------------------\u001b[0m",
      "\u001b[1;31mValueError\u001b[0m                                Traceback (most recent call last)",
      "Cell \u001b[1;32mIn[95], line 4\u001b[0m\n\u001b[0;32m      1\u001b[0m lst \u001b[38;5;241m=\u001b[39m [\u001b[38;5;124m'\u001b[39m\u001b[38;5;124mSalahudin\u001b[39m\u001b[38;5;124m'\u001b[39m , \u001b[38;5;124m'\u001b[39m\u001b[38;5;124mSriram\u001b[39m\u001b[38;5;124m'\u001b[39m , \u001b[38;5;124m'\u001b[39m\u001b[38;5;124mAbhishek\u001b[39m\u001b[38;5;124m'\u001b[39m , \u001b[38;5;124m'\u001b[39m\u001b[38;5;124mAnshul\u001b[39m\u001b[38;5;124m'\u001b[39m]\n\u001b[1;32m----> 4\u001b[0m \u001b[38;5;28mdict\u001b[39m(lst)\n",
      "\u001b[1;31mValueError\u001b[0m: dictionary update sequence element #0 has length 9; 2 is required"
     ]
    }
   ],
   "source": [
    "lst = ['Salahudin' , 'Sriram' , 'Abhishek' , 'Anshul']\n",
    "\n",
    "\n",
    "dict(lst)"
   ]
  },
  {
   "cell_type": "code",
   "execution_count": 96,
   "id": "603d9d15",
   "metadata": {},
   "outputs": [
    {
     "data": {
      "text/plain": [
       "{'Salahudin': None, 'Sriram': None, 'Abhishek': None, 'Anshul': None}"
      ]
     },
     "execution_count": 96,
     "metadata": {},
     "output_type": "execute_result"
    }
   ],
   "source": [
    "lst = ['Salahudin' , 'Sriram' , 'Abhishek' , 'Anshul']\n",
    "\n",
    "\n",
    "dict.fromkeys(lst)"
   ]
  },
  {
   "cell_type": "code",
   "execution_count": 97,
   "id": "e99e40c4",
   "metadata": {},
   "outputs": [
    {
     "data": {
      "text/plain": [
       "{'Salahudin': 0, 'Sriram': 0, 'Abhishek': 0, 'Anshul': 0}"
      ]
     },
     "execution_count": 97,
     "metadata": {},
     "output_type": "execute_result"
    }
   ],
   "source": [
    "lst = ['Salahudin' , 'Sriram' , 'Abhishek' , 'Anshul']\n",
    "\n",
    "\n",
    "dict.fromkeys(lst , 0)"
   ]
  },
  {
   "cell_type": "code",
   "execution_count": 99,
   "id": "9ed23159",
   "metadata": {},
   "outputs": [
    {
     "name": "stdout",
     "output_type": "stream",
     "text": [
      "{0: 0, 1: 0, 2: 0, 3: 0, 4: 0, 5: 0, 6: 0, 7: 0, 8: 0, 9: 0, 10: 0, 11: 0, 12: 0, 13: 0, 14: 0, 15: 0, 16: 0, 17: 0, 18: 0, 19: 0, 20: 0, 21: 0, 22: 0, 23: 0, 24: 0, 25: 0, 26: 0, 27: 0, 28: 0, 29: 0, 30: 0, 31: 0, 32: 0, 33: 0, 34: 0, 35: 0, 36: 0, 37: 0, 38: 0, 39: 0, 40: 0, 41: 0, 42: 0, 43: 0, 44: 0, 45: 0, 46: 0, 47: 0, 48: 0, 49: 0, 50: 0, 51: 0, 52: 0, 53: 0, 54: 0, 55: 0, 56: 0, 57: 0, 58: 0, 59: 0, 60: 0, 61: 0, 62: 0, 63: 0, 64: 0, 65: 0, 66: 0, 67: 0, 68: 0, 69: 0, 70: 0, 71: 0, 72: 0, 73: 0, 74: 0, 75: 0, 76: 0, 77: 0, 78: 0, 79: 0, 80: 0, 81: 0, 82: 0, 83: 0, 84: 0, 85: 0, 86: 0, 87: 0, 88: 0, 89: 0, 90: 0, 91: 0, 92: 0, 93: 0, 94: 0, 95: 0, 96: 0, 97: 0, 98: 0, 99: 0, 100: 0}\n"
     ]
    }
   ],
   "source": [
    "\n",
    "print(dict.fromkeys(range(101) , 0))"
   ]
  },
  {
   "cell_type": "code",
   "execution_count": null,
   "id": "af14ff94",
   "metadata": {},
   "outputs": [],
   "source": [
    "lst = ['Salahudin' , 'Sriram' , 'Abhishek' , 'Anshul']\n",
    "\n",
    "\n"
   ]
  },
  {
   "cell_type": "code",
   "execution_count": 100,
   "id": "58ca43b2",
   "metadata": {},
   "outputs": [
    {
     "name": "stdout",
     "output_type": "stream",
     "text": [
      "{0: 0, 1: 0, 2: 0, 3: 0, 4: 0, 5: 0, 6: 0, 7: 0, 8: 0, 9: 0, 10: 0, 11: 0, 12: 0, 13: 0, 14: 0, 15: 0, 16: 0, 17: 0, 18: 0, 19: 0, 20: 0, 21: 0, 22: 0, 23: 0, 24: 0, 25: 0, 26: 0, 27: 0, 28: 0, 29: 0, 30: 0, 31: 0, 32: 0, 33: 0, 34: 0, 35: 0, 36: 0, 37: 0, 38: 0, 39: 0, 40: 0, 41: 0, 42: 0, 43: 0, 44: 0, 45: 0, 46: 0, 47: 0, 48: 0, 49: 0, 50: 0, 51: 0, 52: 0, 53: 0, 54: 0, 55: 0, 56: 0, 57: 0, 58: 0, 59: 0, 60: 0, 61: 0, 62: 0, 63: 0, 64: 0, 65: 0, 66: 0, 67: 0, 68: 0, 69: 0, 70: 0, 71: 0, 72: 0, 73: 0, 74: 0, 75: 0, 76: 0, 77: 0, 78: 0, 79: 0, 80: 0, 81: 0, 82: 0, 83: 0, 84: 0, 85: 0, 86: 0, 87: 0, 88: 0, 89: 0, 90: 0, 91: 0, 92: 0, 93: 0, 94: 0, 95: 0, 96: 0, 97: 0, 98: 0, 99: 0, 100: 0}\n"
     ]
    }
   ],
   "source": [
    "d = dict.fromkeys(range(101) , 0)\n",
    "\n",
    "\n",
    "print(d)"
   ]
  },
  {
   "cell_type": "code",
   "execution_count": 104,
   "id": "68fb17aa",
   "metadata": {},
   "outputs": [
    {
     "name": "stdout",
     "output_type": "stream",
     "text": [
      "['__class__', '__class_getitem__', '__contains__', '__delattr__', '__delitem__', '__dir__', '__doc__', '__eq__', '__format__', '__ge__', '__getattribute__', '__getitem__', '__getstate__', '__gt__', '__hash__', '__init__', '__init_subclass__', '__ior__', '__iter__', '__le__', '__len__', '__lt__', '__ne__', '__new__', '__or__', '__reduce__', '__reduce_ex__', '__repr__', '__reversed__', '__ror__', '__setattr__', '__setitem__', '__sizeof__', '__str__', '__subclasshook__', 'clear', 'copy', 'fromkeys', 'get', 'items', 'keys', 'pop', 'popitem', 'setdefault', 'update', 'values']\n"
     ]
    }
   ],
   "source": [
    "print(dir(dict))"
   ]
  },
  {
   "cell_type": "code",
   "execution_count": 105,
   "id": "e56e98b5",
   "metadata": {},
   "outputs": [],
   "source": [
    "\n",
    "existing_emp = {'emp_1': {'name': 'Salahudin', 'age': 45, 'salary': 5464564565},\n",
    " 'emp_2': {'name': 'Sriram', 'age': 34, 'salary': 5656546546},\n",
    " 'emp_3': {'name': 'Abhishek', 'age': 28, 'salary': 7675675676},\n",
    " 'emp_4': {'name': 'Anshul', 'age': 27, 'salary': 6878678687},\n",
    " 'emp_5': {'name': 'Nabia', 'age': 25, 'salary': 6786765765},\n",
    " 'emp_6': {'name': 'new_emp', 'age': 45, 'salary': 435345435},\n",
    " 'emp_7': {'name': 'Salman', 'age': 54, 'salary': 546546546},\n",
    " 'emp_8': {'name': 'abc', 'age': 56, 'salary': 454654645}}\n",
    "\n",
    "existing_emp.clear()"
   ]
  },
  {
   "cell_type": "code",
   "execution_count": 106,
   "id": "cd068a29",
   "metadata": {},
   "outputs": [
    {
     "data": {
      "text/plain": [
       "{}"
      ]
     },
     "execution_count": 106,
     "metadata": {},
     "output_type": "execute_result"
    }
   ],
   "source": [
    "existing_emp"
   ]
  },
  {
   "cell_type": "code",
   "execution_count": 107,
   "id": "60afc3ef",
   "metadata": {},
   "outputs": [
    {
     "data": {
      "text/plain": [
       "8"
      ]
     },
     "execution_count": 107,
     "metadata": {},
     "output_type": "execute_result"
    }
   ],
   "source": [
    "existing_emp = {'emp_1': {'name': 'Salahudin', 'age': 45, 'salary': 5464564565},\n",
    " 'emp_2': {'name': 'Sriram', 'age': 34, 'salary': 5656546546},\n",
    " 'emp_3': {'name': 'Abhishek', 'age': 28, 'salary': 7675675676},\n",
    " 'emp_4': {'name': 'Anshul', 'age': 27, 'salary': 6878678687},\n",
    " 'emp_5': {'name': 'Nabia', 'age': 25, 'salary': 6786765765},\n",
    " 'emp_6': {'name': 'new_emp', 'age': 45, 'salary': 435345435},\n",
    " 'emp_7': {'name': 'Salman', 'age': 54, 'salary': 546546546},\n",
    " 'emp_8': {'name': 'abc', 'age': 56, 'salary': 454654645}}\n",
    "\n",
    "\n",
    "len(existing_emp)"
   ]
  },
  {
   "cell_type": "code",
   "execution_count": 108,
   "id": "b7f4e721",
   "metadata": {},
   "outputs": [
    {
     "name": "stdout",
     "output_type": "stream",
     "text": [
      "emp_1\n",
      "emp_2\n",
      "emp_3\n",
      "emp_4\n",
      "emp_5\n",
      "emp_6\n",
      "emp_7\n",
      "emp_8\n"
     ]
    }
   ],
   "source": [
    "for i in existing_emp:\n",
    "    print(i)"
   ]
  },
  {
   "cell_type": "markdown",
   "id": "14898b51",
   "metadata": {},
   "source": [
    "# Tuple, set , conditional"
   ]
  },
  {
   "cell_type": "code",
   "execution_count": null,
   "id": "b716436c",
   "metadata": {},
   "outputs": [],
   "source": []
  }
 ],
 "metadata": {
  "kernelspec": {
   "display_name": "Python 3 (ipykernel)",
   "language": "python",
   "name": "python3"
  },
  "language_info": {
   "codemirror_mode": {
    "name": "ipython",
    "version": 3
   },
   "file_extension": ".py",
   "mimetype": "text/x-python",
   "name": "python",
   "nbconvert_exporter": "python",
   "pygments_lexer": "ipython3",
   "version": "3.11.4"
  }
 },
 "nbformat": 4,
 "nbformat_minor": 5
}
