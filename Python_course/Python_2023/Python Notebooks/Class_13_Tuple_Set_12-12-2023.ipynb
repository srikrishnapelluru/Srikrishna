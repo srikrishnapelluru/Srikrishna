{
 "cells": [
  {
   "cell_type": "code",
   "execution_count": null,
   "id": "089a8439",
   "metadata": {},
   "outputs": [],
   "source": [
    "# geeks for geeks python\n",
    "# w3 school python\n",
    "# yout ---> coray schefar\n",
    "# programiz\n",
    "# leet code"
   ]
  },
  {
   "cell_type": "code",
   "execution_count": null,
   "id": "4acb18e6",
   "metadata": {},
   "outputs": [],
   "source": [
    "loops - 1\n",
    "functions - 2\n",
    "map reduce filter - 1\n",
    "file handling - 1\n",
    "exceptional - 1\n",
    "regular expression\n",
    "- numpy --> 3\n",
    "- pandas --> 4\n",
    "- matplo & seaborn - 2"
   ]
  },
  {
   "cell_type": "markdown",
   "id": "9cdec2dd",
   "metadata": {},
   "source": [
    "# Tuple "
   ]
  },
  {
   "cell_type": "code",
   "execution_count": 4,
   "id": "21153c9e",
   "metadata": {},
   "outputs": [
    {
     "name": "stdout",
     "output_type": "stream",
     "text": [
      "(324, 45, 56, 67, 67, 78) <class 'tuple'>\n"
     ]
    }
   ],
   "source": [
    "a = (324,45,56,67,67,78)\n",
    "\n",
    "\n",
    "print(a , type(a))"
   ]
  },
  {
   "cell_type": "markdown",
   "id": "c3344bb3",
   "metadata": {},
   "source": [
    "# Different methods to create "
   ]
  },
  {
   "cell_type": "code",
   "execution_count": 5,
   "id": "93ca65af",
   "metadata": {},
   "outputs": [
    {
     "name": "stdout",
     "output_type": "stream",
     "text": [
      "(324, 45, 56, 67, 67, 78) <class 'tuple'>\n"
     ]
    }
   ],
   "source": [
    "# If you already know the elements\n",
    "\n",
    "\n",
    "a = (324,45,56,67,67,78)\n",
    "\n",
    "\n",
    "print(a , type(a))"
   ]
  },
  {
   "cell_type": "code",
   "execution_count": 7,
   "id": "cf28b995",
   "metadata": {},
   "outputs": [
    {
     "name": "stdout",
     "output_type": "stream",
     "text": [
      "Enter a tuple : (34,45,675,67)\n",
      "(34, 45, 675, 67) <class 'tuple'>\n"
     ]
    }
   ],
   "source": [
    "# Taking user input\n",
    "\n",
    "a = eval(input('Enter a tuple : '))\n",
    "\n",
    "\n",
    "print(a , type(a))"
   ]
  },
  {
   "cell_type": "code",
   "execution_count": 8,
   "id": "7492e3fc",
   "metadata": {},
   "outputs": [
    {
     "name": "stdout",
     "output_type": "stream",
     "text": [
      "Enter a tuple : 34,45,56,667,78,87\n",
      "(34, 45, 56, 667, 78, 87) <class 'tuple'>\n"
     ]
    }
   ],
   "source": [
    "a = eval(input('Enter a tuple : '))\n",
    "\n",
    "\n",
    "print(a , type(a))"
   ]
  },
  {
   "cell_type": "markdown",
   "id": "7c9a38ef",
   "metadata": {},
   "source": [
    "# Type casting"
   ]
  },
  {
   "cell_type": "code",
   "execution_count": 9,
   "id": "178ea310",
   "metadata": {},
   "outputs": [
    {
     "name": "stdout",
     "output_type": "stream",
     "text": [
      "(34, 45, 56)\n"
     ]
    }
   ],
   "source": [
    "a = [34,45,56]\n",
    "\n",
    "print(tuple(a))"
   ]
  },
  {
   "cell_type": "code",
   "execution_count": 10,
   "id": "c47262c0",
   "metadata": {},
   "outputs": [
    {
     "name": "stdout",
     "output_type": "stream",
     "text": [
      "('a', 'b', 'c', ' ', 'x', 'y', 'z')\n"
     ]
    }
   ],
   "source": [
    "a = 'abc xyz'\n",
    "\n",
    "print(tuple(a))"
   ]
  },
  {
   "cell_type": "markdown",
   "id": "34e778f4",
   "metadata": {},
   "source": [
    "# Tuple packing and tuple packing"
   ]
  },
  {
   "cell_type": "markdown",
   "id": "5bb77347",
   "metadata": {},
   "source": [
    "## Tuple packing \n",
    "\n",
    "Assigning multiple values to a single variable"
   ]
  },
  {
   "cell_type": "code",
   "execution_count": 11,
   "id": "59e7567a",
   "metadata": {},
   "outputs": [
    {
     "name": "stdout",
     "output_type": "stream",
     "text": [
      "(23, 45, 56, 67) <class 'tuple'>\n"
     ]
    }
   ],
   "source": [
    "\n",
    "a = (23,45,56,67)\n",
    "\n",
    "\n",
    "print(a , type(a))"
   ]
  },
  {
   "cell_type": "code",
   "execution_count": 12,
   "id": "80f31163",
   "metadata": {},
   "outputs": [
    {
     "name": "stdout",
     "output_type": "stream",
     "text": [
      "(34, 45, 56, 67, 78) <class 'tuple'>\n"
     ]
    }
   ],
   "source": [
    "\n",
    "a = 34,45,56,67,78\n",
    "\n",
    "\n",
    "print(a , type(a))"
   ]
  },
  {
   "cell_type": "code",
   "execution_count": null,
   "id": "b13341f8",
   "metadata": {},
   "outputs": [],
   "source": [
    "# Tuple unpacking\n",
    "\n",
    "- assigning multiple values to multiple varia\n",
    "\n",
    "\n",
    "LHS == RHS"
   ]
  },
  {
   "cell_type": "code",
   "execution_count": 13,
   "id": "04564d14",
   "metadata": {},
   "outputs": [
    {
     "name": "stdout",
     "output_type": "stream",
     "text": [
      "('xyz', 34, 4534543534534) <class 'tuple'>\n"
     ]
    }
   ],
   "source": [
    "\n",
    "a = 'xyz' , 34 , 4534543534534\n",
    "\n",
    "\n",
    "print(a , type(a))"
   ]
  },
  {
   "cell_type": "code",
   "execution_count": 15,
   "id": "366610c6",
   "metadata": {},
   "outputs": [
    {
     "name": "stdout",
     "output_type": "stream",
     "text": [
      "xyz <class 'str'>\n",
      "34 <class 'int'>\n",
      "4534543534534 <class 'int'>\n"
     ]
    }
   ],
   "source": [
    "\n",
    "a,b,c = 'xyz' , 34 , 4534543534534\n",
    "\n",
    "\n",
    "print(a , type(a))\n",
    "\n",
    "print(b , type(b))\n",
    "\n",
    "print(c , type(c))"
   ]
  },
  {
   "cell_type": "code",
   "execution_count": 16,
   "id": "cfd02333",
   "metadata": {},
   "outputs": [
    {
     "ename": "ValueError",
     "evalue": "too many values to unpack (expected 3)",
     "output_type": "error",
     "traceback": [
      "\u001b[1;31m---------------------------------------------------------------------------\u001b[0m",
      "\u001b[1;31mValueError\u001b[0m                                Traceback (most recent call last)",
      "Cell \u001b[1;32mIn[16], line 1\u001b[0m\n\u001b[1;32m----> 1\u001b[0m a,b,c \u001b[38;5;241m=\u001b[39m \u001b[38;5;124m'\u001b[39m\u001b[38;5;124mxyz\u001b[39m\u001b[38;5;124m'\u001b[39m , \u001b[38;5;241m34\u001b[39m , \u001b[38;5;241m4534543534534\u001b[39m , \u001b[38;5;124m'\u001b[39m\u001b[38;5;124mloc\u001b[39m\u001b[38;5;124m'\u001b[39m\n\u001b[0;32m      4\u001b[0m \u001b[38;5;28mprint\u001b[39m(a , \u001b[38;5;28mtype\u001b[39m(a))\n\u001b[0;32m      6\u001b[0m \u001b[38;5;28mprint\u001b[39m(b , \u001b[38;5;28mtype\u001b[39m(b))\n",
      "\u001b[1;31mValueError\u001b[0m: too many values to unpack (expected 3)"
     ]
    }
   ],
   "source": [
    "\n",
    "a,b,c = 'xyz' , 34 , 4534543534534 , 'loc'\n",
    "\n",
    "\n",
    "print(a , type(a))\n",
    "\n",
    "print(b , type(b))\n",
    "\n",
    "print(c , type(c))"
   ]
  },
  {
   "cell_type": "code",
   "execution_count": 17,
   "id": "5d7ab1ef",
   "metadata": {},
   "outputs": [
    {
     "name": "stdout",
     "output_type": "stream",
     "text": [
      "xyz <class 'str'>\n",
      "34 <class 'int'>\n",
      "[4534543534534, 'loc'] <class 'list'>\n"
     ]
    }
   ],
   "source": [
    "\n",
    "a,b,c = 'xyz' , 34 ,[4534543534534 , 'loc']\n",
    "\n",
    "\n",
    "print(a , type(a))\n",
    "\n",
    "print(b , type(b))\n",
    "\n",
    "print(c , type(c))"
   ]
  },
  {
   "cell_type": "code",
   "execution_count": 20,
   "id": "bdc0dd99",
   "metadata": {},
   "outputs": [
    {
     "name": "stdout",
     "output_type": "stream",
     "text": [
      "xyz <class 'str'>\n",
      "34.43 <class 'float'>\n",
      "4534543534534 <class 'int'>\n"
     ]
    }
   ],
   "source": [
    "\n",
    "a,b,c = 'xyz' , 34.43 , 4534543534534\n",
    "\n",
    "\n",
    "print(a , type(a))\n",
    "\n",
    "print(b , type(b))\n",
    "\n",
    "print(c , type(c))"
   ]
  },
  {
   "cell_type": "code",
   "execution_count": 19,
   "id": "8adb1c5b",
   "metadata": {},
   "outputs": [
    {
     "name": "stdout",
     "output_type": "stream",
     "text": [
      "xyz <class 'str'>\n",
      "34 <class 'int'>\n",
      "4534543534534 <class 'int'>\n"
     ]
    }
   ],
   "source": [
    "\n",
    "a,b,c = ['xyz' , 34 , 4534543534534]\n",
    "\n",
    "\n",
    "print(a , type(a))\n",
    "\n",
    "print(b , type(b))\n",
    "\n",
    "print(c , type(c))"
   ]
  },
  {
   "cell_type": "markdown",
   "id": "e33b076c",
   "metadata": {},
   "source": [
    "# Enumerate"
   ]
  },
  {
   "cell_type": "code",
   "execution_count": 88,
   "id": "d2de5e0c",
   "metadata": {},
   "outputs": [],
   "source": [
    "a = 'this is pythons class'\n"
   ]
  },
  {
   "cell_type": "code",
   "execution_count": 24,
   "id": "b2ab53a9",
   "metadata": {},
   "outputs": [
    {
     "name": "stdout",
     "output_type": "stream",
     "text": [
      "['t', 'h', 'i', 's', ' ', 'i', 's', ' ', 'p', 'y', 't', 'h', 'o', 'n', 's', ' ', 'c', 'l', 'a', 's', 's']\n"
     ]
    }
   ],
   "source": [
    "print(list(a))"
   ]
  },
  {
   "cell_type": "code",
   "execution_count": 31,
   "id": "1fb650a7",
   "metadata": {},
   "outputs": [
    {
     "data": {
      "text/plain": [
       "[(0, 't'),\n",
       " (1, 'h'),\n",
       " (2, 'i'),\n",
       " (3, 's'),\n",
       " (4, ' '),\n",
       " (5, 'i'),\n",
       " (6, 's'),\n",
       " (7, ' '),\n",
       " (8, 'p'),\n",
       " (9, 'y'),\n",
       " (10, 't'),\n",
       " (11, 'h'),\n",
       " (12, 'o'),\n",
       " (13, 'n'),\n",
       " (14, 's'),\n",
       " (15, ' '),\n",
       " (16, 'c'),\n",
       " (17, 'l'),\n",
       " (18, 'a'),\n",
       " (19, 's'),\n",
       " (20, 's')]"
      ]
     },
     "execution_count": 31,
     "metadata": {},
     "output_type": "execute_result"
    }
   ],
   "source": [
    "list(enumerate(a))"
   ]
  },
  {
   "cell_type": "code",
   "execution_count": 28,
   "id": "5390e391",
   "metadata": {},
   "outputs": [
    {
     "name": "stdout",
     "output_type": "stream",
     "text": [
      "[(100, 't'), (101, 'h'), (102, 'i'), (103, 's'), (104, ' '), (105, 'i'), (106, 's'), (107, ' '), (108, 'p'), (109, 'y'), (110, 't'), (111, 'h'), (112, 'o'), (113, 'n'), (114, 's'), (115, ' '), (116, 'c'), (117, 'l'), (118, 'a'), (119, 's'), (120, 's')]\n"
     ]
    }
   ],
   "source": [
    "print(list(enumerate(a , 100)))"
   ]
  },
  {
   "cell_type": "code",
   "execution_count": 33,
   "id": "d522c221",
   "metadata": {},
   "outputs": [
    {
     "name": "stdout",
     "output_type": "stream",
     "text": [
      "(0, 't')\n",
      "(1, 'h')\n",
      "(2, 'i')\n",
      "(3, 's')\n",
      "(4, ' ')\n",
      "(5, 'i')\n",
      "(6, 's')\n",
      "(7, ' ')\n",
      "(8, 'p')\n",
      "(9, 'y')\n",
      "(10, 't')\n",
      "(11, 'h')\n",
      "(12, 'o')\n",
      "(13, 'n')\n",
      "(14, 's')\n",
      "(15, ' ')\n",
      "(16, 'c')\n",
      "(17, 'l')\n",
      "(18, 'a')\n",
      "(19, 's')\n",
      "(20, 's')\n"
     ]
    }
   ],
   "source": [
    "for i in enumerate(a):\n",
    "    print(i)"
   ]
  },
  {
   "cell_type": "code",
   "execution_count": 38,
   "id": "68e9df9e",
   "metadata": {},
   "outputs": [
    {
     "ename": "ValueError",
     "evalue": "not enough values to unpack (expected 3, got 2)",
     "output_type": "error",
     "traceback": [
      "\u001b[1;31m---------------------------------------------------------------------------\u001b[0m",
      "\u001b[1;31mValueError\u001b[0m                                Traceback (most recent call last)",
      "Cell \u001b[1;32mIn[38], line 1\u001b[0m\n\u001b[1;32m----> 1\u001b[0m \u001b[38;5;28;01mfor\u001b[39;00m i,j,k \u001b[38;5;129;01min\u001b[39;00m \u001b[38;5;28menumerate\u001b[39m(a):\n\u001b[0;32m      2\u001b[0m     \u001b[38;5;28mprint\u001b[39m(j)\n",
      "\u001b[1;31mValueError\u001b[0m: not enough values to unpack (expected 3, got 2)"
     ]
    }
   ],
   "source": [
    "for i,j,k in enumerate(a):\n",
    "    print(j)"
   ]
  },
  {
   "cell_type": "code",
   "execution_count": 43,
   "id": "d6f15871",
   "metadata": {},
   "outputs": [
    {
     "name": "stdout",
     "output_type": "stream",
     "text": [
      "(0, 't')\n",
      "(1, 'h')\n",
      "(2, 'i')\n",
      "(3, 's')\n",
      "(4, ' ')\n",
      "(5, 'i')\n",
      "(6, 's')\n",
      "(7, ' ')\n",
      "(8, 'p')\n",
      "(9, 'y')\n",
      "(10, 't')\n",
      "(11, 'h')\n",
      "(12, 'o')\n",
      "(13, 'n')\n",
      "(14, 's')\n",
      "(15, ' ')\n",
      "(16, 'c')\n",
      "(17, 'l')\n",
      "(18, 'a')\n",
      "(19, 's')\n",
      "(20, 's')\n"
     ]
    }
   ],
   "source": [
    "for i in enumerate(a):\n",
    "    print(i)"
   ]
  },
  {
   "cell_type": "code",
   "execution_count": 49,
   "id": "73477bab",
   "metadata": {},
   "outputs": [
    {
     "data": {
      "text/plain": [
       "'s'"
      ]
     },
     "execution_count": 49,
     "metadata": {},
     "output_type": "execute_result"
    }
   ],
   "source": [
    "i = (6, 's')\n",
    "\n",
    "i[1]"
   ]
  },
  {
   "cell_type": "code",
   "execution_count": 50,
   "id": "748c1b5a",
   "metadata": {},
   "outputs": [
    {
     "data": {
      "text/plain": [
       "3"
      ]
     },
     "execution_count": 50,
     "metadata": {},
     "output_type": "execute_result"
    }
   ],
   "source": [
    "i[0]"
   ]
  },
  {
   "cell_type": "code",
   "execution_count": 40,
   "id": "128360d1",
   "metadata": {},
   "outputs": [
    {
     "name": "stdout",
     "output_type": "stream",
     "text": [
      "3\n",
      "6\n",
      "14\n",
      "19\n",
      "20\n"
     ]
    }
   ],
   "source": [
    "for i in enumerate(a):\n",
    "    if i[1] == 's':\n",
    "        print(i[0])"
   ]
  },
  {
   "cell_type": "code",
   "execution_count": 42,
   "id": "adbb9548",
   "metadata": {},
   "outputs": [
    {
     "name": "stdout",
     "output_type": "stream",
     "text": [
      "3\n",
      "6\n",
      "14\n",
      "19\n",
      "20\n"
     ]
    }
   ],
   "source": [
    "for i,j in enumerate(a):\n",
    "    if j == 's':\n",
    "        print(i)"
   ]
  },
  {
   "cell_type": "code",
   "execution_count": 55,
   "id": "0b6d2803",
   "metadata": {},
   "outputs": [],
   "source": [
    "\n",
    "existing_emp = {'emp_1': {'name': 'Salahudin', 'age': 45, 'salary': 5464564565},\n",
    " 'emp_2': {'name': 'Sriram', 'age': 34, 'salary': 5656546546},\n",
    " 'emp_3': {'name': 'Abhishek', 'age': 28, 'salary': 7675675676},\n",
    " 'emp_4': {'name': 'Anshul', 'age': 27, 'salary': 6878678687},\n",
    " 'emp_5': {'name': 'Nabia', 'age': 25, 'salary': 6786765765},\n",
    " 'emp_6': {'name': 'new_emp', 'age': 45, 'salary': 435345435},\n",
    " 'emp_7': {'name': 'Salman', 'age': 54, 'salary': 546546546},\n",
    " 'emp_8': {'name': 'abc', 'age': 56, 'salary': 454654645}}"
   ]
  },
  {
   "cell_type": "code",
   "execution_count": 61,
   "id": "f2b1fd07",
   "metadata": {},
   "outputs": [
    {
     "name": "stdout",
     "output_type": "stream",
     "text": [
      "{'name': 'Salahudin', 'age': 45, 'salary': 5464564565}\n",
      "{'name': 'Sriram', 'age': 34, 'salary': 5656546546}\n",
      "{'name': 'Abhishek', 'age': 28, 'salary': 7675675676}\n",
      "{'name': 'Anshul', 'age': 27, 'salary': 6878678687}\n",
      "{'name': 'Nabia', 'age': 25, 'salary': 6786765765}\n",
      "{'name': 'new_emp', 'age': 45, 'salary': 435345435}\n",
      "{'name': 'Salman', 'age': 54, 'salary': 546546546}\n",
      "{'name': 'abc', 'age': 56, 'salary': 454654645}\n"
     ]
    }
   ],
   "source": [
    "for i,j in existing_emp.items():\n",
    "    print(j)"
   ]
  },
  {
   "cell_type": "markdown",
   "id": "7ec4a4f2",
   "metadata": {},
   "source": [
    "# Properties of tuple\n",
    "\n",
    "\n",
    "- It is a seq data type\n",
    "- It allows to perform indexing , slicing\n",
    "- It allows duplication\n",
    "- It is hetrogeneous\n",
    "- basic concatination , repetation , membership , identity\n",
    "\n",
    "\n",
    "### Note: tuple is an immutable"
   ]
  },
  {
   "cell_type": "code",
   "execution_count": 75,
   "id": "8fc35539",
   "metadata": {},
   "outputs": [
    {
     "data": {
      "text/plain": [
       "'hello'"
      ]
     },
     "execution_count": 75,
     "metadata": {},
     "output_type": "execute_result"
    }
   ],
   "source": [
    "a = 'xyz' , 'hello' , 34 , 45\n",
    "\n",
    "a[1]"
   ]
  },
  {
   "cell_type": "code",
   "execution_count": 76,
   "id": "fc254611",
   "metadata": {},
   "outputs": [
    {
     "data": {
      "text/plain": [
       "34"
      ]
     },
     "execution_count": 76,
     "metadata": {},
     "output_type": "execute_result"
    }
   ],
   "source": [
    "a = 'xyz' , 'hello' , 34 , 45\n",
    "\n",
    "a[-2]"
   ]
  },
  {
   "cell_type": "code",
   "execution_count": 77,
   "id": "43c4164f",
   "metadata": {},
   "outputs": [
    {
     "data": {
      "text/plain": [
       "('hello', 34)"
      ]
     },
     "execution_count": 77,
     "metadata": {},
     "output_type": "execute_result"
    }
   ],
   "source": [
    "a = 'xyz' , 'hello' , 34 , 45\n",
    "\n",
    "a[1:3]"
   ]
  },
  {
   "cell_type": "code",
   "execution_count": 79,
   "id": "074c5d69",
   "metadata": {},
   "outputs": [
    {
     "data": {
      "text/plain": [
       "(34, 'hello')"
      ]
     },
     "execution_count": 79,
     "metadata": {},
     "output_type": "execute_result"
    }
   ],
   "source": [
    "\n",
    "a = 'xyz' , 'hello' , 34 , 45\n",
    "\n",
    "a[-2:-4:-1]"
   ]
  },
  {
   "cell_type": "code",
   "execution_count": 82,
   "id": "e58cce60",
   "metadata": {},
   "outputs": [
    {
     "data": {
      "text/plain": [
       "('xyz', 'hello', 34, 45, 'xyz', 'xyz', 'xyz', 'xyz', 'xyz')"
      ]
     },
     "execution_count": 82,
     "metadata": {},
     "output_type": "execute_result"
    }
   ],
   "source": [
    "a = 'xyz' , 'hello' , 34 , 45 , 'xyz' ,'xyz' ,'xyz' ,'xyz' ,'xyz'\n",
    "\n",
    "a"
   ]
  },
  {
   "cell_type": "code",
   "execution_count": 83,
   "id": "a1cbb710",
   "metadata": {},
   "outputs": [
    {
     "data": {
      "text/plain": [
       "('xyz', 'hello', 34, 45.45, ['xyz', 'xyz', 'xyz'], {'xyz'})"
      ]
     },
     "execution_count": 83,
     "metadata": {},
     "output_type": "execute_result"
    }
   ],
   "source": [
    "a = 'xyz' , 'hello' , 34 , 45.45 , ['xyz' ,'xyz' ,'xyz'] ,{'xyz' ,'xyz'}\n",
    "\n",
    "a"
   ]
  },
  {
   "cell_type": "code",
   "execution_count": 84,
   "id": "334bd316",
   "metadata": {},
   "outputs": [
    {
     "data": {
      "text/plain": [
       "(1, 2, 3, 4)"
      ]
     },
     "execution_count": 84,
     "metadata": {},
     "output_type": "execute_result"
    }
   ],
   "source": [
    "a = 1,2\n",
    "b = 3,4\n",
    "\n",
    "\n",
    "a+b"
   ]
  },
  {
   "cell_type": "code",
   "execution_count": 85,
   "id": "d481a857",
   "metadata": {},
   "outputs": [
    {
     "ename": "TypeError",
     "evalue": "can only concatenate tuple (not \"list\") to tuple",
     "output_type": "error",
     "traceback": [
      "\u001b[1;31m---------------------------------------------------------------------------\u001b[0m",
      "\u001b[1;31mTypeError\u001b[0m                                 Traceback (most recent call last)",
      "Cell \u001b[1;32mIn[85], line 5\u001b[0m\n\u001b[0;32m      1\u001b[0m a \u001b[38;5;241m=\u001b[39m \u001b[38;5;241m1\u001b[39m,\u001b[38;5;241m2\u001b[39m\n\u001b[0;32m      2\u001b[0m b \u001b[38;5;241m=\u001b[39m [\u001b[38;5;241m3\u001b[39m,\u001b[38;5;241m4\u001b[39m]\n\u001b[1;32m----> 5\u001b[0m a\u001b[38;5;241m+\u001b[39mb\n",
      "\u001b[1;31mTypeError\u001b[0m: can only concatenate tuple (not \"list\") to tuple"
     ]
    }
   ],
   "source": [
    "a = 1,2\n",
    "b = [3,4]\n",
    "\n",
    "\n",
    "a+b"
   ]
  },
  {
   "cell_type": "code",
   "execution_count": 92,
   "id": "14b32285",
   "metadata": {},
   "outputs": [
    {
     "data": {
      "text/plain": [
       "(1, 2, 1, 2, 1, 2, 1, 2, 1, 2)"
      ]
     },
     "execution_count": 92,
     "metadata": {},
     "output_type": "execute_result"
    }
   ],
   "source": [
    "a = 1,2\n",
    "b = 5\n",
    "\n",
    "\n",
    "a * b"
   ]
  },
  {
   "cell_type": "code",
   "execution_count": 94,
   "id": "cbd3ac59",
   "metadata": {},
   "outputs": [
    {
     "name": "stdout",
     "output_type": "stream",
     "text": [
      "1233663989440\n",
      "1233663990480\n",
      "False\n"
     ]
    }
   ],
   "source": [
    "a = 1,2,3,4\n",
    "b = 1,2,3,4\n",
    "\n",
    "print(id(a))\n",
    "print(id(b))\n",
    "\n",
    "print(a is b)"
   ]
  },
  {
   "cell_type": "code",
   "execution_count": 96,
   "id": "c2d0e618",
   "metadata": {},
   "outputs": [
    {
     "ename": "TypeError",
     "evalue": "'tuple' object does not support item assignment",
     "output_type": "error",
     "traceback": [
      "\u001b[1;31m---------------------------------------------------------------------------\u001b[0m",
      "\u001b[1;31mTypeError\u001b[0m                                 Traceback (most recent call last)",
      "Cell \u001b[1;32mIn[96], line 4\u001b[0m\n\u001b[0;32m      1\u001b[0m a \u001b[38;5;241m=\u001b[39m \u001b[38;5;124m'\u001b[39m\u001b[38;5;124mxyz\u001b[39m\u001b[38;5;124m'\u001b[39m , \u001b[38;5;241m45\u001b[39m ,\u001b[38;5;241m8736\u001b[39m , \u001b[38;5;241m875\u001b[39m\n\u001b[1;32m----> 4\u001b[0m a[\u001b[38;5;241m-\u001b[39m\u001b[38;5;241m2\u001b[39m] \u001b[38;5;241m=\u001b[39m \u001b[38;5;241m999999\u001b[39m\n",
      "\u001b[1;31mTypeError\u001b[0m: 'tuple' object does not support item assignment"
     ]
    }
   ],
   "source": [
    "a = 'xyz' , 45 ,8736 , 875\n",
    "\n",
    "\n",
    "a[-2] = 999999"
   ]
  },
  {
   "cell_type": "code",
   "execution_count": 97,
   "id": "cd30dca6",
   "metadata": {},
   "outputs": [],
   "source": [
    "a = ('xyz' , 45 ,[8736 , 875])\n",
    "\n",
    "\n",
    "a[-1][-1] = 999999"
   ]
  },
  {
   "cell_type": "code",
   "execution_count": 98,
   "id": "61fec60d",
   "metadata": {},
   "outputs": [
    {
     "data": {
      "text/plain": [
       "('xyz', 45, [8736, 999999])"
      ]
     },
     "execution_count": 98,
     "metadata": {},
     "output_type": "execute_result"
    }
   ],
   "source": [
    "a"
   ]
  },
  {
   "cell_type": "code",
   "execution_count": 99,
   "id": "5ddc87b3",
   "metadata": {},
   "outputs": [
    {
     "name": "stdout",
     "output_type": "stream",
     "text": [
      "['__add__', '__class__', '__class_getitem__', '__contains__', '__delattr__', '__dir__', '__doc__', '__eq__', '__format__', '__ge__', '__getattribute__', '__getitem__', '__getnewargs__', '__getstate__', '__gt__', '__hash__', '__init__', '__init_subclass__', '__iter__', '__le__', '__len__', '__lt__', '__mul__', '__ne__', '__new__', '__reduce__', '__reduce_ex__', '__repr__', '__rmul__', '__setattr__', '__sizeof__', '__str__', '__subclasshook__', 'count', 'index']\n"
     ]
    }
   ],
   "source": [
    "print(dir(tuple))"
   ]
  },
  {
   "cell_type": "code",
   "execution_count": 100,
   "id": "0ed19ef3",
   "metadata": {},
   "outputs": [
    {
     "data": {
      "text/plain": [
       "10"
      ]
     },
     "execution_count": 100,
     "metadata": {},
     "output_type": "execute_result"
    }
   ],
   "source": [
    "a = 2,3,4,3,3,2,5,5,5,55,5,55,5,5,5,55,5,5,5\n",
    "\n",
    "\n",
    "a.count(5)"
   ]
  },
  {
   "cell_type": "code",
   "execution_count": 101,
   "id": "690ba4eb",
   "metadata": {},
   "outputs": [
    {
     "data": {
      "text/plain": [
       "6"
      ]
     },
     "execution_count": 101,
     "metadata": {},
     "output_type": "execute_result"
    }
   ],
   "source": [
    "a = 2,3,4,3,3,2,5,5,5,55,5,55,5,5,5,55,5,5,5\n",
    "\n",
    "\n",
    "a.index(5)"
   ]
  },
  {
   "cell_type": "code",
   "execution_count": 102,
   "id": "e5178837",
   "metadata": {},
   "outputs": [
    {
     "ename": "ValueError",
     "evalue": "tuple.index(x): x not in tuple",
     "output_type": "error",
     "traceback": [
      "\u001b[1;31m---------------------------------------------------------------------------\u001b[0m",
      "\u001b[1;31mValueError\u001b[0m                                Traceback (most recent call last)",
      "Cell \u001b[1;32mIn[102], line 4\u001b[0m\n\u001b[0;32m      1\u001b[0m a \u001b[38;5;241m=\u001b[39m \u001b[38;5;241m2\u001b[39m,\u001b[38;5;241m3\u001b[39m,\u001b[38;5;241m4\u001b[39m,\u001b[38;5;241m3\u001b[39m,\u001b[38;5;241m3\u001b[39m,\u001b[38;5;241m2\u001b[39m,\u001b[38;5;241m5\u001b[39m,\u001b[38;5;241m5\u001b[39m,\u001b[38;5;241m5\u001b[39m,\u001b[38;5;241m55\u001b[39m,\u001b[38;5;241m5\u001b[39m,\u001b[38;5;241m55\u001b[39m,\u001b[38;5;241m5\u001b[39m,\u001b[38;5;241m5\u001b[39m,\u001b[38;5;241m5\u001b[39m,\u001b[38;5;241m55\u001b[39m,\u001b[38;5;241m5\u001b[39m,\u001b[38;5;241m5\u001b[39m,\u001b[38;5;241m5\u001b[39m\n\u001b[1;32m----> 4\u001b[0m a\u001b[38;5;241m.\u001b[39mindex(\u001b[38;5;241m500\u001b[39m)\n",
      "\u001b[1;31mValueError\u001b[0m: tuple.index(x): x not in tuple"
     ]
    }
   ],
   "source": [
    "a = 2,3,4,3,3,2,5,5,5,55,5,55,5,5,5,55,5,5,5\n",
    "\n",
    "\n",
    "a.index(500)"
   ]
  },
  {
   "cell_type": "markdown",
   "id": "2d9db787",
   "metadata": {},
   "source": [
    "# Set"
   ]
  },
  {
   "cell_type": "code",
   "execution_count": 103,
   "id": "05a17b45",
   "metadata": {},
   "outputs": [
    {
     "name": "stdout",
     "output_type": "stream",
     "text": [
      "{56, 34, 54} <class 'set'>\n"
     ]
    }
   ],
   "source": [
    "a = {34,54,56}\n",
    "\n",
    "print(a , type(a))"
   ]
  },
  {
   "cell_type": "code",
   "execution_count": null,
   "id": "d6c0e1ec",
   "metadata": {},
   "outputs": [],
   "source": [
    "a = {34,54,56}\n",
    "\n",
    "print(a , type(a))"
   ]
  },
  {
   "cell_type": "markdown",
   "id": "1c79e6a6",
   "metadata": {},
   "source": [
    "# Properties of set\n",
    "\n",
    "- Not a seq index , slicing not possible \n",
    "- Collection of unique values \n",
    "\n",
    "- Mutable data type \n",
    "- Cannot contain mutable data type"
   ]
  },
  {
   "cell_type": "code",
   "execution_count": 104,
   "id": "94cb5ff8",
   "metadata": {},
   "outputs": [
    {
     "ename": "TypeError",
     "evalue": "'set' object is not subscriptable",
     "output_type": "error",
     "traceback": [
      "\u001b[1;31m---------------------------------------------------------------------------\u001b[0m",
      "\u001b[1;31mTypeError\u001b[0m                                 Traceback (most recent call last)",
      "Cell \u001b[1;32mIn[104], line 3\u001b[0m\n\u001b[0;32m      1\u001b[0m a \u001b[38;5;241m=\u001b[39m {\u001b[38;5;241m34\u001b[39m,\u001b[38;5;241m54\u001b[39m,\u001b[38;5;241m56\u001b[39m}\n\u001b[1;32m----> 3\u001b[0m a[\u001b[38;5;241m0\u001b[39m]\n",
      "\u001b[1;31mTypeError\u001b[0m: 'set' object is not subscriptable"
     ]
    }
   ],
   "source": [
    "a = {34,54,56}\n",
    "\n",
    "a[0]"
   ]
  },
  {
   "cell_type": "code",
   "execution_count": 105,
   "id": "8de1c3d3",
   "metadata": {},
   "outputs": [
    {
     "name": "stdout",
     "output_type": "stream",
     "text": [
      "['__and__', '__class__', '__class_getitem__', '__contains__', '__delattr__', '__dir__', '__doc__', '__eq__', '__format__', '__ge__', '__getattribute__', '__getstate__', '__gt__', '__hash__', '__iand__', '__init__', '__init_subclass__', '__ior__', '__isub__', '__iter__', '__ixor__', '__le__', '__len__', '__lt__', '__ne__', '__new__', '__or__', '__rand__', '__reduce__', '__reduce_ex__', '__repr__', '__ror__', '__rsub__', '__rxor__', '__setattr__', '__sizeof__', '__str__', '__sub__', '__subclasshook__', '__xor__', 'add', 'clear', 'copy', 'difference', 'difference_update', 'discard', 'intersection', 'intersection_update', 'isdisjoint', 'issubset', 'issuperset', 'pop', 'remove', 'symmetric_difference', 'symmetric_difference_update', 'union', 'update']\n"
     ]
    }
   ],
   "source": [
    "print(dir(set))"
   ]
  },
  {
   "cell_type": "code",
   "execution_count": 110,
   "id": "0aab7431",
   "metadata": {},
   "outputs": [
    {
     "name": "stdout",
     "output_type": "stream",
     "text": [
      "{1, 2, 3, 4} 1233663906912\n",
      "None\n"
     ]
    }
   ],
   "source": [
    "a = {1,2,3,4}\n",
    "\n",
    "print(a , id(a))\n",
    "\n",
    "print(a.add(5))"
   ]
  },
  {
   "cell_type": "code",
   "execution_count": 111,
   "id": "6fbc17ba",
   "metadata": {},
   "outputs": [
    {
     "name": "stdout",
     "output_type": "stream",
     "text": [
      "{1, 2, 3, 4, 5} 1233663906912\n"
     ]
    }
   ],
   "source": [
    "print(a , id(a))"
   ]
  },
  {
   "cell_type": "code",
   "execution_count": 115,
   "id": "898de86a",
   "metadata": {},
   "outputs": [
    {
     "name": "stdout",
     "output_type": "stream",
     "text": [
      "{1, 2, 3, 4, (2, 3, 4)}\n"
     ]
    }
   ],
   "source": [
    "a = {1,2,3,4,(2,3,4)}\n",
    "\n",
    "\n",
    "print(a)"
   ]
  },
  {
   "cell_type": "code",
   "execution_count": 116,
   "id": "bee2fec2",
   "metadata": {},
   "outputs": [
    {
     "data": {
      "text/plain": [
       "{34, 54, 56}"
      ]
     },
     "execution_count": 116,
     "metadata": {},
     "output_type": "execute_result"
    }
   ],
   "source": [
    "a = {34,54,56,56,56,56,56,56,56}\n",
    "\n",
    "a"
   ]
  },
  {
   "cell_type": "code",
   "execution_count": 118,
   "id": "ea4da74c",
   "metadata": {},
   "outputs": [
    {
     "name": "stdout",
     "output_type": "stream",
     "text": [
      "set() <class 'set'>\n"
     ]
    }
   ],
   "source": [
    "a = set({})\n",
    "\n",
    "print(a , type(a))"
   ]
  },
  {
   "cell_type": "code",
   "execution_count": 130,
   "id": "b783c497",
   "metadata": {},
   "outputs": [
    {
     "data": {
      "text/plain": [
       "{'emp_1', 'emp_2', 'emp_3', 'emp_4'}"
      ]
     },
     "execution_count": 130,
     "metadata": {},
     "output_type": "execute_result"
    }
   ],
   "source": [
    "employees = set(['emp_1' , 'emp_2' , 'emp_3' , 'emp_4'])\n",
    "\n",
    "employees"
   ]
  },
  {
   "cell_type": "code",
   "execution_count": 129,
   "id": "75e35579",
   "metadata": {},
   "outputs": [
    {
     "data": {
      "text/plain": [
       "{'emp_2', 'emp_4'}"
      ]
     },
     "execution_count": 129,
     "metadata": {},
     "output_type": "execute_result"
    }
   ],
   "source": [
    "dev = set(['emp_2' , 'emp_4'])\n",
    "\n",
    "dev"
   ]
  },
  {
   "cell_type": "code",
   "execution_count": 128,
   "id": "5ced86c1",
   "metadata": {},
   "outputs": [
    {
     "data": {
      "text/plain": [
       "{'emp_1'}"
      ]
     },
     "execution_count": 128,
     "metadata": {},
     "output_type": "execute_result"
    }
   ],
   "source": [
    "prod = set(['emp_1'])\n",
    "\n",
    "prod"
   ]
  },
  {
   "cell_type": "code",
   "execution_count": 127,
   "id": "95d17a81",
   "metadata": {},
   "outputs": [
    {
     "data": {
      "text/plain": [
       "{'emp_3'}"
      ]
     },
     "execution_count": 127,
     "metadata": {},
     "output_type": "execute_result"
    }
   ],
   "source": [
    "qa = set(['emp_3'])\n",
    "\n",
    "qa"
   ]
  },
  {
   "cell_type": "code",
   "execution_count": 131,
   "id": "539cf9b5",
   "metadata": {},
   "outputs": [
    {
     "data": {
      "text/plain": [
       "{'emp_1', 'emp_3'}"
      ]
     },
     "execution_count": 131,
     "metadata": {},
     "output_type": "execute_result"
    }
   ],
   "source": [
    "employees - dev"
   ]
  },
  {
   "cell_type": "code",
   "execution_count": 135,
   "id": "d7eab183",
   "metadata": {},
   "outputs": [
    {
     "data": {
      "text/plain": [
       "{'emp_3'}"
      ]
     },
     "execution_count": 135,
     "metadata": {},
     "output_type": "execute_result"
    }
   ],
   "source": [
    "employees & qa"
   ]
  },
  {
   "cell_type": "code",
   "execution_count": 137,
   "id": "35e288c4",
   "metadata": {},
   "outputs": [
    {
     "data": {
      "text/plain": [
       "{'emp_1', 'emp_2', 'emp_3', 'emp_4'}"
      ]
     },
     "execution_count": 137,
     "metadata": {},
     "output_type": "execute_result"
    }
   ],
   "source": [
    "prod | qa | dev"
   ]
  },
  {
   "cell_type": "code",
   "execution_count": 138,
   "id": "4ee34297",
   "metadata": {},
   "outputs": [],
   "source": [
    "import pandas as pd"
   ]
  },
  {
   "cell_type": "code",
   "execution_count": 141,
   "id": "54ee2355",
   "metadata": {},
   "outputs": [
    {
     "data": {
      "text/html": [
       "<div>\n",
       "<style scoped>\n",
       "    .dataframe tbody tr th:only-of-type {\n",
       "        vertical-align: middle;\n",
       "    }\n",
       "\n",
       "    .dataframe tbody tr th {\n",
       "        vertical-align: top;\n",
       "    }\n",
       "\n",
       "    .dataframe thead th {\n",
       "        text-align: right;\n",
       "    }\n",
       "</style>\n",
       "<table border=\"1\" class=\"dataframe\">\n",
       "  <thead>\n",
       "    <tr style=\"text-align: right;\">\n",
       "      <th></th>\n",
       "      <th>city</th>\n",
       "      <th>temperature</th>\n",
       "    </tr>\n",
       "  </thead>\n",
       "  <tbody>\n",
       "    <tr>\n",
       "      <th>0</th>\n",
       "      <td>new york</td>\n",
       "      <td>21</td>\n",
       "    </tr>\n",
       "    <tr>\n",
       "      <th>1</th>\n",
       "      <td>chicago</td>\n",
       "      <td>14</td>\n",
       "    </tr>\n",
       "    <tr>\n",
       "      <th>2</th>\n",
       "      <td>orlando</td>\n",
       "      <td>35</td>\n",
       "    </tr>\n",
       "    <tr>\n",
       "      <th>3</th>\n",
       "      <td>baltimore</td>\n",
       "      <td>38</td>\n",
       "    </tr>\n",
       "  </tbody>\n",
       "</table>\n",
       "</div>"
      ],
      "text/plain": [
       "        city  temperature\n",
       "0   new york           21\n",
       "1    chicago           14\n",
       "2    orlando           35\n",
       "3  baltimore           38"
      ]
     },
     "execution_count": 141,
     "metadata": {},
     "output_type": "execute_result"
    }
   ],
   "source": [
    "df1 = pd.DataFrame({\n",
    "    \"city\": [\"new york\",\"chicago\",\"orlando\", \"baltimore\"],\n",
    "    \"temperature\": [21,14,35, 38],\n",
    "})\n",
    "df1"
   ]
  },
  {
   "cell_type": "code",
   "execution_count": 142,
   "id": "209f5aa7",
   "metadata": {},
   "outputs": [
    {
     "data": {
      "text/html": [
       "<div>\n",
       "<style scoped>\n",
       "    .dataframe tbody tr th:only-of-type {\n",
       "        vertical-align: middle;\n",
       "    }\n",
       "\n",
       "    .dataframe tbody tr th {\n",
       "        vertical-align: top;\n",
       "    }\n",
       "\n",
       "    .dataframe thead th {\n",
       "        text-align: right;\n",
       "    }\n",
       "</style>\n",
       "<table border=\"1\" class=\"dataframe\">\n",
       "  <thead>\n",
       "    <tr style=\"text-align: right;\">\n",
       "      <th></th>\n",
       "      <th>city</th>\n",
       "      <th>humidity</th>\n",
       "    </tr>\n",
       "  </thead>\n",
       "  <tbody>\n",
       "    <tr>\n",
       "      <th>0</th>\n",
       "      <td>chicago</td>\n",
       "      <td>65</td>\n",
       "    </tr>\n",
       "    <tr>\n",
       "      <th>1</th>\n",
       "      <td>new york</td>\n",
       "      <td>68</td>\n",
       "    </tr>\n",
       "    <tr>\n",
       "      <th>2</th>\n",
       "      <td>san diego</td>\n",
       "      <td>71</td>\n",
       "    </tr>\n",
       "  </tbody>\n",
       "</table>\n",
       "</div>"
      ],
      "text/plain": [
       "        city  humidity\n",
       "0    chicago        65\n",
       "1   new york        68\n",
       "2  san diego        71"
      ]
     },
     "execution_count": 142,
     "metadata": {},
     "output_type": "execute_result"
    }
   ],
   "source": [
    "df2 = pd.DataFrame({\n",
    "    \"city\": [\"chicago\",\"new york\",\"san diego\"],\n",
    "    \"humidity\": [65,68,71],\n",
    "})\n",
    "df2"
   ]
  },
  {
   "cell_type": "code",
   "execution_count": 145,
   "id": "f50693f5",
   "metadata": {},
   "outputs": [
    {
     "data": {
      "text/plain": [
       "{'baltimore', 'chicago', 'new york', 'orlando'}"
      ]
     },
     "execution_count": 145,
     "metadata": {},
     "output_type": "execute_result"
    }
   ],
   "source": [
    "a = set(df1['city'])\n",
    "\n",
    "a"
   ]
  },
  {
   "cell_type": "code",
   "execution_count": 146,
   "id": "5b23cbf8",
   "metadata": {},
   "outputs": [
    {
     "data": {
      "text/plain": [
       "{'chicago', 'new york', 'san diego'}"
      ]
     },
     "execution_count": 146,
     "metadata": {},
     "output_type": "execute_result"
    }
   ],
   "source": [
    "b = set(df2['city'])\n",
    "\n",
    "b"
   ]
  },
  {
   "cell_type": "code",
   "execution_count": 147,
   "id": "afff8144",
   "metadata": {},
   "outputs": [
    {
     "data": {
      "text/plain": [
       "{'baltimore', 'orlando'}"
      ]
     },
     "execution_count": 147,
     "metadata": {},
     "output_type": "execute_result"
    }
   ],
   "source": [
    "a - b"
   ]
  },
  {
   "cell_type": "code",
   "execution_count": 148,
   "id": "daabaa2f",
   "metadata": {},
   "outputs": [
    {
     "data": {
      "text/plain": [
       "{'san diego'}"
      ]
     },
     "execution_count": 148,
     "metadata": {},
     "output_type": "execute_result"
    }
   ],
   "source": [
    "b - a"
   ]
  },
  {
   "cell_type": "code",
   "execution_count": 149,
   "id": "819b9615",
   "metadata": {},
   "outputs": [
    {
     "data": {
      "text/plain": [
       "{'chicago', 'new york'}"
      ]
     },
     "execution_count": 149,
     "metadata": {},
     "output_type": "execute_result"
    }
   ],
   "source": [
    "a & b"
   ]
  },
  {
   "cell_type": "code",
   "execution_count": 150,
   "id": "f900f3f4",
   "metadata": {},
   "outputs": [
    {
     "data": {
      "text/plain": [
       "{'baltimore', 'chicago', 'new york', 'orlando', 'san diego'}"
      ]
     },
     "execution_count": 150,
     "metadata": {},
     "output_type": "execute_result"
    }
   ],
   "source": [
    "a | b"
   ]
  },
  {
   "cell_type": "code",
   "execution_count": 151,
   "id": "58acd291",
   "metadata": {},
   "outputs": [
    {
     "name": "stdout",
     "output_type": "stream",
     "text": [
      "['__and__', '__class__', '__class_getitem__', '__contains__', '__delattr__', '__dir__', '__doc__', '__eq__', '__format__', '__ge__', '__getattribute__', '__getstate__', '__gt__', '__hash__', '__iand__', '__init__', '__init_subclass__', '__ior__', '__isub__', '__iter__', '__ixor__', '__le__', '__len__', '__lt__', '__ne__', '__new__', '__or__', '__rand__', '__reduce__', '__reduce_ex__', '__repr__', '__ror__', '__rsub__', '__rxor__', '__setattr__', '__sizeof__', '__str__', '__sub__', '__subclasshook__', '__xor__', 'add', 'clear', 'copy', 'difference', 'difference_update', 'discard', 'intersection', 'intersection_update', 'isdisjoint', 'issubset', 'issuperset', 'pop', 'remove', 'symmetric_difference', 'symmetric_difference_update', 'union', 'update']\n"
     ]
    }
   ],
   "source": [
    "print(dir(set))"
   ]
  },
  {
   "cell_type": "code",
   "execution_count": null,
   "id": "e083fc4e",
   "metadata": {},
   "outputs": [],
   "source": []
  },
  {
   "cell_type": "code",
   "execution_count": null,
   "id": "75faf67a",
   "metadata": {},
   "outputs": [],
   "source": []
  }
 ],
 "metadata": {
  "kernelspec": {
   "display_name": "Python 3 (ipykernel)",
   "language": "python",
   "name": "python3"
  },
  "language_info": {
   "codemirror_mode": {
    "name": "ipython",
    "version": 3
   },
   "file_extension": ".py",
   "mimetype": "text/x-python",
   "name": "python",
   "nbconvert_exporter": "python",
   "pygments_lexer": "ipython3",
   "version": "3.11.4"
  }
 },
 "nbformat": 4,
 "nbformat_minor": 5
}
