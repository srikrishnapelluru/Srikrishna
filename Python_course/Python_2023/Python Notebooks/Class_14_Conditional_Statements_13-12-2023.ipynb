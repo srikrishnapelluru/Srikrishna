{
 "cells": [
  {
   "cell_type": "code",
   "execution_count": null,
   "id": "4071cb7d",
   "metadata": {},
   "outputs": [],
   "source": [
    "stat1\n",
    "stat2\n",
    "if condition:\n",
    "    stat3\n",
    "    stat4\n",
    "    stat5\n",
    "stat6"
   ]
  },
  {
   "cell_type": "code",
   "execution_count": null,
   "id": "aba5af09",
   "metadata": {},
   "outputs": [],
   "source": [
    "T ---> 1,2,3,4,5,6\n",
    "\n",
    "F ---> 1,2,6"
   ]
  },
  {
   "cell_type": "code",
   "execution_count": null,
   "id": "d94803f4",
   "metadata": {},
   "outputs": [],
   "source": [
    "stat1\n",
    "stat2\n",
    "if condition:\n",
    "    stat3\n",
    "    stat4\n",
    "    stat5\n",
    "else:\n",
    "    stat7\n",
    "    stat8\n",
    "    stat9\n",
    "stat6"
   ]
  },
  {
   "cell_type": "code",
   "execution_count": null,
   "id": "096d9bde",
   "metadata": {},
   "outputs": [],
   "source": [
    "T ---> 1,2,3,4,5,6\n",
    "\n",
    "F --> 1,2,7,8,9,6"
   ]
  },
  {
   "cell_type": "code",
   "execution_count": null,
   "id": "688f3d74",
   "metadata": {},
   "outputs": [],
   "source": [
    "stat1\n",
    "stat2\n",
    "if condition1:\n",
    "    stat3\n",
    "    stat4\n",
    "if condition2:\n",
    "    stat5\n",
    "    stat9\n",
    "if condition3:\n",
    "    stat10\n",
    "    stat11\n",
    "else:\n",
    "    stat7\n",
    "    stat8\n",
    "\n",
    "stat6"
   ]
  },
  {
   "cell_type": "code",
   "execution_count": null,
   "id": "5edeb82c",
   "metadata": {},
   "outputs": [],
   "source": [
    "if 1 & 3 are T rest all are F ---> 1,2,3,4,10,11,6"
   ]
  },
  {
   "cell_type": "code",
   "execution_count": 6,
   "id": "ba9825f2",
   "metadata": {},
   "outputs": [
    {
     "name": "stdout",
     "output_type": "stream",
     "text": [
      "Python\n",
      "SQL\n",
      "AWS\n"
     ]
    }
   ],
   "source": [
    "a = 10\n",
    "b = 20\n",
    "\n",
    "if a < b: # T\n",
    "    print('Python')\n",
    "if a > b: # F\n",
    "    print('JAVA')\n",
    "if a !=b: # T\n",
    "    print('SQL')\n",
    "else:\n",
    "    print('Big data')\n",
    "    \n",
    "print('AWS')"
   ]
  },
  {
   "cell_type": "code",
   "execution_count": 9,
   "id": "7c7a4181",
   "metadata": {},
   "outputs": [
    {
     "name": "stdout",
     "output_type": "stream",
     "text": [
      "SQL\n",
      "AWS\n"
     ]
    }
   ],
   "source": [
    "a = 10\n",
    "b = 20\n",
    "\n",
    "if a == b: # \n",
    "    print('Python')\n",
    "    print('HI')\n",
    "\n",
    "if a > b: # F\n",
    "    print('JAVA')\n",
    "if a !=b: # T\n",
    "    print('SQL')\n",
    "else:\n",
    "    print('Big data')\n",
    "    \n",
    "print('AWS')"
   ]
  },
  {
   "cell_type": "code",
   "execution_count": 10,
   "id": "dc5db952",
   "metadata": {},
   "outputs": [
    {
     "name": "stdout",
     "output_type": "stream",
     "text": [
      "Pyspark\n",
      "Big data\n",
      "AWS\n"
     ]
    }
   ],
   "source": [
    "a = 10\n",
    "b = 20\n",
    "\n",
    "if a == b: # F\n",
    "    print('Python')\n",
    "else:\n",
    "    print('Pyspark')\n",
    "if a > b: # F\n",
    "    print('JAVA')\n",
    "if a == b: # F\n",
    "    print('SQL')\n",
    "else:\n",
    "    print('Big data')\n",
    "    \n",
    "print('AWS')"
   ]
  },
  {
   "cell_type": "code",
   "execution_count": null,
   "id": "047550ae",
   "metadata": {},
   "outputs": [],
   "source": [
    "if , else, elif"
   ]
  },
  {
   "cell_type": "code",
   "execution_count": null,
   "id": "4b44393c",
   "metadata": {},
   "outputs": [],
   "source": [
    "stat1\n",
    "stat2\n",
    "if condition1:\n",
    "    stat3\n",
    "    stat4\n",
    "elif condition2:\n",
    "    stat5\n",
    "    stat9\n",
    "elif condition3:\n",
    "    stat10\n",
    "    stat11\n",
    "else:\n",
    "    stat7\n",
    "    stat8\n",
    "\n",
    "stat6"
   ]
  },
  {
   "cell_type": "code",
   "execution_count": null,
   "id": "4c03d21b",
   "metadata": {},
   "outputs": [],
   "source": [
    "stat1\n",
    "stat2\n",
    "if condition1:\n",
    "    stat3\n",
    "    stat4\n",
    "else:\n",
    "    stater2\n",
    "if condition2:\n",
    "    veg\n",
    "else:\n",
    "    no veg\n",
    "if condition3:\n",
    "    de1\n",
    "else:\n",
    "    de2\n",
    "\n",
    "stat6"
   ]
  },
  {
   "cell_type": "code",
   "execution_count": null,
   "id": "61251c05",
   "metadata": {},
   "outputs": [],
   "source": [
    "multiple if block are independent\n",
    "\n",
    "\n",
    "if , elif else -- is one block -- where you have a dependency with all the conditions"
   ]
  },
  {
   "cell_type": "code",
   "execution_count": null,
   "id": "9b219996",
   "metadata": {},
   "outputs": [],
   "source": [
    "a = 10\n",
    "b = 20\n",
    "\n",
    "if a == b: # F\n",
    "    print('Python')\n",
    "\n",
    "if a > b: # F\n",
    "    print('JAVA')\n",
    "    \n",
    "if a == b: # F\n",
    "    print('SQL')\n",
    "else:\n",
    "    print('Big data')\n",
    "    \n",
    "print('AWS')"
   ]
  },
  {
   "cell_type": "code",
   "execution_count": 11,
   "id": "a53306a9",
   "metadata": {},
   "outputs": [],
   "source": [
    "a = 'program'\n",
    "b = 'accounts'\n",
    "c = 'sales'\n",
    "d = 'mark'"
   ]
  },
  {
   "cell_type": "code",
   "execution_count": 12,
   "id": "733f49f0",
   "metadata": {},
   "outputs": [
    {
     "name": "stdout",
     "output_type": "stream",
     "text": [
      "Hired for sales team\n",
      "Requirement fullfilled\n"
     ]
    }
   ],
   "source": [
    "per = 'sales'\n",
    "\n",
    "if per == a:\n",
    "    print('Hired for dev')\n",
    "elif per == b:\n",
    "    print('Hired for accounts')\n",
    "elif per == c:\n",
    "    print('Hired for sales team')\n",
    "elif per == d:\n",
    "    print('Hired for marketing team')\n",
    "else:\n",
    "    print(\"Thank you we'll get back to you\")\n",
    "    \n",
    "print('Requirement fullfilled')"
   ]
  },
  {
   "cell_type": "code",
   "execution_count": 15,
   "id": "3a10a847",
   "metadata": {},
   "outputs": [
    {
     "ename": "SyntaxError",
     "evalue": "invalid syntax (745300651.py, line 7)",
     "output_type": "error",
     "traceback": [
      "\u001b[1;36m  Cell \u001b[1;32mIn[15], line 7\u001b[1;36m\u001b[0m\n\u001b[1;33m    elif per == b:\u001b[0m\n\u001b[1;37m    ^\u001b[0m\n\u001b[1;31mSyntaxError\u001b[0m\u001b[1;31m:\u001b[0m invalid syntax\n"
     ]
    }
   ],
   "source": [
    "per = 'sales'\n",
    "\n",
    "if per == a:\n",
    "    print('Hired for dev')\n",
    "    \n",
    "elif per == b:\n",
    "    print('Hired for accounts')\n",
    "elif per == c: # T\n",
    "    print('Hired for sales team')\n",
    "elif per == 'sales': # T\n",
    "    print('Hired for marketing team')\n",
    "else:\n",
    "    print(\"Thank you we'll get back to you\")\n",
    "    \n",
    "print('Requirement fullfilled')"
   ]
  },
  {
   "cell_type": "code",
   "execution_count": 16,
   "id": "4d68dca7",
   "metadata": {},
   "outputs": [
    {
     "name": "stdout",
     "output_type": "stream",
     "text": [
      "Manager\n",
      "junior\n",
      "WFH\n",
      "Planning for birthday\n"
     ]
    }
   ],
   "source": [
    "a = {'experience':15 , 'salary' : 30000 , 'loc' : 'chen'}\n",
    "\n",
    "\n",
    "if a['experience'] > 10:\n",
    "    print('Manager')\n",
    "else:\n",
    "    print('Develo')\n",
    "    \n",
    "if a['salary'] < 50000:\n",
    "    print('junior')\n",
    "else:\n",
    "    print('senior')\n",
    "    \n",
    "if a['loc'] == 'ban':\n",
    "    print('WFO')\n",
    "else:\n",
    "    print('WFH')\n",
    "    \n",
    "print('Planning for birthday')"
   ]
  },
  {
   "cell_type": "code",
   "execution_count": 17,
   "id": "45d9ffe5",
   "metadata": {},
   "outputs": [
    {
     "name": "stdout",
     "output_type": "stream",
     "text": [
      "Manager\n",
      "senior\n",
      "WFH\n",
      "Planning for birthday\n"
     ]
    }
   ],
   "source": [
    "a = {'experience':15 , 'salary' : 90000 , 'loc' : 'chen'}\n",
    "\n",
    "\n",
    "if a['experience'] > 10:\n",
    "    print('Manager')\n",
    "else:\n",
    "    print('Develo')\n",
    "    \n",
    "if a['salary'] < 50000:\n",
    "    print('junior')\n",
    "else:\n",
    "    print('senior')\n",
    "    \n",
    "if a['loc'] == 'ban':\n",
    "    print('WFO')\n",
    "else:\n",
    "    print('WFH')\n",
    "    \n",
    "print('Planning for birthday')"
   ]
  },
  {
   "cell_type": "code",
   "execution_count": 18,
   "id": "fe28c1ea",
   "metadata": {},
   "outputs": [
    {
     "name": "stdout",
     "output_type": "stream",
     "text": [
      "Manager\n",
      "WFH\n",
      "Planning for birthday\n"
     ]
    }
   ],
   "source": [
    "a = {'experience':15 , 'salary' : 90000 , 'loc' : 'chen'}\n",
    "\n",
    "\n",
    "if a['experience'] > 10: # T\n",
    "    print('Manager')\n",
    "    \n",
    "if a['salary'] < 50000: # F\n",
    "    print('junior')\n",
    "\n",
    "if a['loc'] == 'ban': # F\n",
    "    print('WFO')\n",
    "else:\n",
    "    print('WFH')\n",
    "    \n",
    "print('Planning for birthday')"
   ]
  },
  {
   "cell_type": "code",
   "execution_count": 19,
   "id": "ceabb467",
   "metadata": {},
   "outputs": [
    {
     "name": "stdout",
     "output_type": "stream",
     "text": [
      "Manager\n",
      "WFO\n",
      "Planning for birthday\n"
     ]
    }
   ],
   "source": [
    "a = {'experience':15 , 'salary' : 90000 , 'loc' : 'ban'}\n",
    "\n",
    "\n",
    "if a['experience'] > 10: # T\n",
    "    print('Manager')\n",
    "    \n",
    "if a['salary'] < 50000: # F\n",
    "    print('junior')\n",
    "\n",
    "if a['loc'] == 'ban': # T\n",
    "    print('WFO')\n",
    "else:\n",
    "    print('WFH')\n",
    "    \n",
    "print('Planning for birthday')"
   ]
  },
  {
   "cell_type": "code",
   "execution_count": 20,
   "id": "ca6d7b5e",
   "metadata": {},
   "outputs": [
    {
     "name": "stdout",
     "output_type": "stream",
     "text": [
      "Manager\n",
      "Planning for birthday\n"
     ]
    }
   ],
   "source": [
    "a = {'experience':15 , 'salary' : 90000 , 'loc' : 'ban'}\n",
    "\n",
    "\n",
    "if a['experience'] > 10: # T\n",
    "    print('Manager')\n",
    "    \n",
    "elif a['salary'] < 50000: # F\n",
    "    print('junior')\n",
    "\n",
    "elif a['loc'] == 'ban': # T\n",
    "    print('WFO')\n",
    "    \n",
    "else:\n",
    "    print('WFH')\n",
    "    \n",
    "print('Planning for birthday')"
   ]
  },
  {
   "cell_type": "markdown",
   "id": "f460749c",
   "metadata": {},
   "source": [
    "# Nested if condition"
   ]
  },
  {
   "cell_type": "code",
   "execution_count": null,
   "id": "087a0209",
   "metadata": {},
   "outputs": [],
   "source": [
    "if cond:\n",
    "    if condi:\n",
    "        stat\n",
    "    elif condi:\n",
    "        stat2\n",
    "    else:\n",
    "        stat3\n",
    "else:\n",
    "    print('hk')"
   ]
  },
  {
   "cell_type": "code",
   "execution_count": 24,
   "id": "bbaa3d29",
   "metadata": {},
   "outputs": [
    {
     "name": "stdout",
     "output_type": "stream",
     "text": [
      "Not hired\n"
     ]
    }
   ],
   "source": [
    "a = {'experience':5 , 'salary' : 4000 , 'loc' : 'ban'}\n",
    "\n",
    "\n",
    "\n",
    "if a['experience'] >= 10:\n",
    "    print('Hired')\n",
    "    if a['salary'] <= 50000:\n",
    "        print('Developer')\n",
    "    else:\n",
    "        print('Lead role')\n",
    "        \n",
    "    if a['loc'] == 'ban': \n",
    "        print('WFO') \n",
    "    else:\n",
    "        print('WFH')\n",
    "        \n",
    "else:\n",
    "    print('Not hired')"
   ]
  },
  {
   "cell_type": "code",
   "execution_count": 25,
   "id": "9f784c8a",
   "metadata": {},
   "outputs": [
    {
     "name": "stdout",
     "output_type": "stream",
     "text": [
      "Hired\n",
      "Developer\n",
      "WFO\n"
     ]
    }
   ],
   "source": [
    "a = {'experience':11 , 'salary' : 4000 , 'loc' : 'ban'}\n",
    "\n",
    "\n",
    "\n",
    "if a['experience'] >= 10:\n",
    "    print('Hired')\n",
    "    if a['salary'] <= 50000:\n",
    "        print('Developer')\n",
    "    else:\n",
    "        print('Lead role')\n",
    "        \n",
    "    if a['loc'] == 'ban': \n",
    "        print('WFO') \n",
    "    else:\n",
    "        print('WFH')\n",
    "        \n",
    "else:\n",
    "    print('Not hired')"
   ]
  },
  {
   "cell_type": "code",
   "execution_count": 27,
   "id": "5de89035",
   "metadata": {},
   "outputs": [
    {
     "name": "stdout",
     "output_type": "stream",
     "text": [
      "Hired\n",
      "Developer\n",
      "WFH\n",
      "Another task\n"
     ]
    }
   ],
   "source": [
    "a = {'experience':11 , 'salary' : 4000 , 'loc' : 'ban'}\n",
    "\n",
    "\n",
    "\n",
    "if a['experience'] >= 10:\n",
    "    print('Hired')\n",
    "    if a['salary'] <= 50000:\n",
    "        print('Developer')\n",
    "    else:\n",
    "        print('Lead role')\n",
    "        \n",
    "    if a['loc'] != 'ban': \n",
    "        print('WFO') \n",
    "    else:\n",
    "        print('WFH')\n",
    "        \n",
    "else:\n",
    "    print('Not hired')\n",
    "    \n",
    "print('Another task')"
   ]
  },
  {
   "cell_type": "code",
   "execution_count": 28,
   "id": "33d5e123",
   "metadata": {},
   "outputs": [
    {
     "name": "stdout",
     "output_type": "stream",
     "text": [
      "Hired\n",
      "Developer\n",
      "Another task\n"
     ]
    }
   ],
   "source": [
    "a = {'experience':11 , 'salary' : 4000 , 'loc' : 'ban'}\n",
    "\n",
    "\n",
    "\n",
    "if a['experience'] >= 10: # T\n",
    "    print('Hired')\n",
    "    if a['salary'] <= 50000: # T\n",
    "        print('Developer')\n",
    "      \n",
    "    elif a['loc'] == 'ban': # T\n",
    "        print('WFO') \n",
    "        \n",
    "    else:\n",
    "        print('WFH')\n",
    "        \n",
    "else:\n",
    "    print('Not hired')\n",
    "    \n",
    "print('Another task')"
   ]
  },
  {
   "cell_type": "markdown",
   "id": "c901829d",
   "metadata": {},
   "source": [
    "# Task 1\n",
    "\n",
    "- input 1-6\n",
    " 3 --> three\n",
    " 2 --> two\n",
    " \n",
    "- any number beyond or below this range\n",
    "    9\n",
    "    23.43\n",
    "    -4\n",
    "    Print('Number out of range')\n",
    "    \n",
    "- if within\n",
    "    2.3\n",
    "    4.5\n",
    "    print('Invalid number)\n"
   ]
  },
  {
   "cell_type": "code",
   "execution_count": 35,
   "id": "980e3a2d",
   "metadata": {},
   "outputs": [
    {
     "name": "stdout",
     "output_type": "stream",
     "text": [
      "Enter the number : 3.4\n",
      "Invalid number\n"
     ]
    }
   ],
   "source": [
    "a = eval(input('Enter the number : '))\n",
    "\n",
    "\n",
    "if a > 6 or a <1:\n",
    "    print('Number out of range')\n",
    "else:\n",
    "    if type(a) != int:\n",
    "        print('Invalid number')\n",
    "    elif a == 1:\n",
    "        print('One')\n",
    "    elif a == 2:\n",
    "        print('Two')\n",
    "    elif a == 3:\n",
    "        print('Three')\n",
    "    elif a == 4:\n",
    "        print('Four')\n",
    "    elif a == 5:\n",
    "        print('Five')\n",
    "    elif a == 6:\n",
    "        print('six')"
   ]
  },
  {
   "cell_type": "code",
   "execution_count": 39,
   "id": "d8afc41b",
   "metadata": {},
   "outputs": [
    {
     "name": "stdout",
     "output_type": "stream",
     "text": [
      "Enter the number : 9.5\n",
      "Number out of range\n"
     ]
    }
   ],
   "source": [
    "a = eval(input('Enter the number : '))\n",
    "\n",
    "d = {1:'One' , 2:'Two' , 3:'Three' , 4:'Four' , 5:'Five' , 6:'Six'}\n",
    "\n",
    "if a>6 or a < 1:\n",
    "    print('Number out of range')\n",
    "elif a in d:\n",
    "    print(d[a])\n",
    "else:\n",
    "    print('Invalid number')"
   ]
  },
  {
   "cell_type": "markdown",
   "id": "74b3541f",
   "metadata": {},
   "source": [
    "# Task 2 basic calc\n",
    "\n",
    "3 inputs from the user\n",
    "1 & 2--> enter a number\n",
    "\n",
    "3 --> (+,-,*,/) or (add , sub , mul , div)\n",
    "invalid operator"
   ]
  },
  {
   "cell_type": "code",
   "execution_count": 41,
   "id": "926bcbf9",
   "metadata": {},
   "outputs": [
    {
     "name": "stdout",
     "output_type": "stream",
     "text": [
      "Enter first number : 10\n",
      "Enter first number : 20\n",
      "Enter the op : +\n",
      "30\n"
     ]
    }
   ],
   "source": [
    "a = eval(input('Enter first number : '))\n",
    "b = eval(input('Enter first number : '))\n",
    "c = input('Enter the op : ').lower()\n",
    "\n",
    "\n",
    "if (c == '+') or (c == 'add'):\n",
    "    print(a+b)\n",
    "elif (c == '-') or (c == 'sub'):\n",
    "    print(a-b)\n",
    "elif (c == '*') or (c == 'mul'):\n",
    "    print(a*b)\n",
    "elif (c == '/') or (c == 'div'):\n",
    "    print(a/b)\n",
    "else:\n",
    "    print('Invalid op')"
   ]
  },
  {
   "cell_type": "code",
   "execution_count": 51,
   "id": "b25ee08f",
   "metadata": {},
   "outputs": [
    {
     "name": "stdout",
     "output_type": "stream",
     "text": [
      "Enter first number : 10\n",
      "Enter first number : 20\n",
      "Enter the op : add\n",
      "30\n"
     ]
    }
   ],
   "source": [
    "a = eval(input('Enter first number : '))\n",
    "b = eval(input('Enter first number : '))\n",
    "c = input('Enter the op : ').lower()\n",
    "\n",
    "\n",
    "d1 = {'+' : a+b , '-' : a-b , '*' : a *b , '/': a/b}\n",
    "d2 = {'add' : a+b , 'sub' : a-b , 'mul' : a *b , 'div': a/b}\n",
    "\n",
    "\n",
    "if (c in d1) or (c in d2):\n",
    "    print(d1.get(c) or d2.get(c))\n",
    "else:\n",
    "    print('Invalid operator')"
   ]
  },
  {
   "cell_type": "code",
   "execution_count": null,
   "id": "a35cc007",
   "metadata": {},
   "outputs": [],
   "source": [
    "a = eval(input('Enter first number : '))\n",
    "b = eval(input('Enter first number : '))\n",
    "c = input('Enter the op : ').lower()\n",
    "\n",
    "\n",
    "d1 = {'+' : a+b , '-' : a-b , '*' : a *b , '/': a/b}\n",
    "d2 = {'add' : a+b , 'sub' : a-b , 'mul' : a *b , 'div': a/b}\n",
    "\n",
    "\n",
    "if (c in d1):\n",
    "    print(d1.get(c))\n",
    "elif (c in d2):\n",
    "    print(d2.get(c))\n",
    "else:\n",
    "    print('Invalid operator')"
   ]
  },
  {
   "cell_type": "code",
   "execution_count": null,
   "id": "dda29e8f",
   "metadata": {},
   "outputs": [],
   "source": []
  },
  {
   "cell_type": "code",
   "execution_count": null,
   "id": "61f9b79c",
   "metadata": {},
   "outputs": [],
   "source": []
  }
 ],
 "metadata": {
  "kernelspec": {
   "display_name": "Python 3 (ipykernel)",
   "language": "python",
   "name": "python3"
  },
  "language_info": {
   "codemirror_mode": {
    "name": "ipython",
    "version": 3
   },
   "file_extension": ".py",
   "mimetype": "text/x-python",
   "name": "python",
   "nbconvert_exporter": "python",
   "pygments_lexer": "ipython3",
   "version": "3.11.4"
  }
 },
 "nbformat": 4,
 "nbformat_minor": 5
}
