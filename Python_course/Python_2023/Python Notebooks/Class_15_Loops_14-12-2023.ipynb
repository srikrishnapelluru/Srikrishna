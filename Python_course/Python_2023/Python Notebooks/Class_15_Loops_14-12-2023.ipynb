{
 "cells": [
  {
   "cell_type": "markdown",
   "id": "80deb33f",
   "metadata": {},
   "source": [
    "# for loop"
   ]
  },
  {
   "cell_type": "code",
   "execution_count": null,
   "id": "f7439c0c",
   "metadata": {},
   "outputs": [],
   "source": [
    "for var in iterable:\n",
    "    stat1\n",
    "    stat2"
   ]
  },
  {
   "cell_type": "code",
   "execution_count": null,
   "id": "298d4950",
   "metadata": {},
   "outputs": [],
   "source": [
    "- len\n",
    "\n",
    "- print(dir(object)) ---> __iter__"
   ]
  },
  {
   "cell_type": "code",
   "execution_count": 26,
   "id": "959d7211",
   "metadata": {},
   "outputs": [
    {
     "ename": "TypeError",
     "evalue": "'int' object is not iterable",
     "output_type": "error",
     "traceback": [
      "\u001b[1;31m---------------------------------------------------------------------------\u001b[0m",
      "\u001b[1;31mTypeError\u001b[0m                                 Traceback (most recent call last)",
      "Cell \u001b[1;32mIn[26], line 1\u001b[0m\n\u001b[1;32m----> 1\u001b[0m \u001b[38;5;28;01mfor\u001b[39;00m i \u001b[38;5;129;01min\u001b[39;00m \u001b[38;5;241m12345\u001b[39m:\n\u001b[0;32m      2\u001b[0m     \u001b[38;5;28mprint\u001b[39m(i)\n",
      "\u001b[1;31mTypeError\u001b[0m: 'int' object is not iterable"
     ]
    }
   ],
   "source": [
    "for i in 12345:\n",
    "    print(i)"
   ]
  },
  {
   "cell_type": "code",
   "execution_count": 20,
   "id": "2ba1bcdf",
   "metadata": {},
   "outputs": [
    {
     "name": "stdout",
     "output_type": "stream",
     "text": [
      "['__add__', '__class__', '__contains__', '__delattr__', '__dir__', '__doc__', '__eq__', '__format__', '__ge__', '__getattribute__', '__getitem__', '__getnewargs__', '__getstate__', '__gt__', '__hash__', '__init__', '__init_subclass__', '__iter__', '__le__', '__len__', '__lt__', '__mod__', '__mul__', '__ne__', '__new__', '__reduce__', '__reduce_ex__', '__repr__', '__rmod__', '__rmul__', '__setattr__', '__sizeof__', '__str__', '__subclasshook__', 'capitalize', 'casefold', 'center', 'count', 'encode', 'endswith', 'expandtabs', 'find', 'format', 'format_map', 'index', 'isalnum', 'isalpha', 'isascii', 'isdecimal', 'isdigit', 'isidentifier', 'islower', 'isnumeric', 'isprintable', 'isspace', 'istitle', 'isupper', 'join', 'ljust', 'lower', 'lstrip', 'maketrans', 'partition', 'removeprefix', 'removesuffix', 'replace', 'rfind', 'rindex', 'rjust', 'rpartition', 'rsplit', 'rstrip', 'split', 'splitlines', 'startswith', 'strip', 'swapcase', 'title', 'translate', 'upper', 'zfill']\n"
     ]
    }
   ],
   "source": [
    "print(dir(str))"
   ]
  },
  {
   "cell_type": "code",
   "execution_count": null,
   "id": "60cb440e",
   "metadata": {},
   "outputs": [],
   "source": [
    "for var in iterable: ---> Fixed amount of iterations\n",
    "    stat1\n",
    "    stat2"
   ]
  },
  {
   "cell_type": "code",
   "execution_count": 27,
   "id": "1b589e41",
   "metadata": {},
   "outputs": [],
   "source": [
    "for i in 'hi':\n",
    "    pass"
   ]
  },
  {
   "cell_type": "markdown",
   "id": "1108f50f",
   "metadata": {},
   "source": [
    "# While loop ---> For unknown iterations\n",
    "\n",
    "1. initialization\n",
    "2. condition checking\n",
    "3. inc / dec"
   ]
  },
  {
   "cell_type": "code",
   "execution_count": 32,
   "id": "b74210da",
   "metadata": {},
   "outputs": [
    {
     "name": "stdout",
     "output_type": "stream",
     "text": [
      "Hello world\n",
      "Hello world\n",
      "Hello world\n",
      "Hello world\n",
      "Hello world\n"
     ]
    }
   ],
   "source": [
    "i = 1 # initialization\n",
    "\n",
    "while i<= 5: # condition checking\n",
    "    print('Hello world')\n",
    "    i += 1 # inc"
   ]
  },
  {
   "cell_type": "code",
   "execution_count": 36,
   "id": "a45f785b",
   "metadata": {},
   "outputs": [
    {
     "name": "stdout",
     "output_type": "stream",
     "text": [
      "p\n",
      "yy\n",
      "ttt\n",
      "hhhh\n",
      "ooooo\n",
      "nnnnnn\n"
     ]
    }
   ],
   "source": [
    "a = 'python'\n",
    "\n",
    "# p\n",
    "# yy\n",
    "# ttt\n",
    "# hhhh\n",
    "# ooooo\n",
    "# nnnnnn\n",
    "\n",
    "print(a[0] * 1)\n",
    "print(a[1] * 2)\n",
    "print(a[2] * 3)\n",
    "print(a[3] * 4)\n",
    "print(a[4] * 5)\n",
    "print(a[5] * 6)"
   ]
  },
  {
   "cell_type": "code",
   "execution_count": 40,
   "id": "f5047128",
   "metadata": {},
   "outputs": [
    {
     "name": "stdout",
     "output_type": "stream",
     "text": [
      "p\n",
      "yy\n",
      "ttt\n",
      "hhhh\n",
      "ooooo\n",
      "nnnnnn\n"
     ]
    }
   ],
   "source": [
    "# For loop\n",
    "\n",
    "a = 'python'\n",
    "\n",
    "for i in range(len(a)):\n",
    "    print(a[i] * (i+1))"
   ]
  },
  {
   "cell_type": "code",
   "execution_count": 44,
   "id": "bde5265d",
   "metadata": {},
   "outputs": [
    {
     "name": "stdout",
     "output_type": "stream",
     "text": [
      "p\n",
      "yy\n",
      "ttt\n",
      "hhhh\n",
      "ooooo\n",
      "nnnnnn\n"
     ]
    }
   ],
   "source": [
    "# While loop\n",
    "\n",
    "i = 0\n",
    "\n",
    "while i < 6:\n",
    "    print(a[i] * (i+1))\n",
    "    i +=1"
   ]
  },
  {
   "cell_type": "code",
   "execution_count": 46,
   "id": "8aa7b8d4",
   "metadata": {},
   "outputs": [
    {
     "name": "stdout",
     "output_type": "stream",
     "text": [
      "p\n",
      "yy\n",
      "ttt\n",
      "hhhh\n",
      "ooooo\n",
      "nnnnnn\n"
     ]
    }
   ],
   "source": [
    "\n",
    "i = 0\n",
    "\n",
    "while i < len(a):\n",
    "    print(a[i] * (i+1))\n",
    "    i +=1"
   ]
  },
  {
   "cell_type": "code",
   "execution_count": null,
   "id": "41338e48",
   "metadata": {},
   "outputs": [],
   "source": [
    "# nnnnnn\n",
    "# ooooo\n",
    "# hhhh\n",
    "# ttt\n",
    "# yy\n",
    "# p"
   ]
  },
  {
   "cell_type": "code",
   "execution_count": 53,
   "id": "99015301",
   "metadata": {},
   "outputs": [
    {
     "name": "stdout",
     "output_type": "stream",
     "text": [
      "nnnnnn\n",
      "ooooo\n",
      "hhhh\n",
      "ttt\n",
      "yy\n",
      "p\n"
     ]
    }
   ],
   "source": [
    "a = 'python'\n",
    "\n",
    "i = len(a)\n",
    "\n",
    "\n",
    "while i > 0:\n",
    "    print(a[i-1] * i)\n",
    "    i -= 1"
   ]
  },
  {
   "cell_type": "code",
   "execution_count": 54,
   "id": "51e1e9da",
   "metadata": {},
   "outputs": [
    {
     "name": "stdout",
     "output_type": "stream",
     "text": [
      "nnnnnn\n",
      "ooooo\n",
      "hhhh\n",
      "ttt\n",
      "yy\n",
      "p\n"
     ]
    }
   ],
   "source": [
    "a = 'python'\n",
    "\n",
    "i = len(a)-1\n",
    "\n",
    "\n",
    "while i >= 0:\n",
    "    print(a[i] * (i+1))\n",
    "    i -= 1"
   ]
  },
  {
   "cell_type": "code",
   "execution_count": 79,
   "id": "8290f1f1",
   "metadata": {},
   "outputs": [
    {
     "name": "stdout",
     "output_type": "stream",
     "text": [
      "nnnnnn\n",
      "ooooo\n",
      "hhhh\n",
      "ttt\n",
      "yy\n",
      "p\n",
      "\n"
     ]
    }
   ],
   "source": [
    "a = 'python'\n",
    "\n",
    "i = len(a)\n",
    "\n",
    "\n",
    "while i >= 0:\n",
    "    print(a[i-1] * i)\n",
    "    i -= 1"
   ]
  },
  {
   "cell_type": "code",
   "execution_count": 80,
   "id": "79cb3be3",
   "metadata": {},
   "outputs": [
    {
     "name": "stdout",
     "output_type": "stream",
     "text": [
      "nnnnnn\n",
      "ooooo\n",
      "hhhh\n",
      "ttt\n",
      "yy\n",
      "p\n"
     ]
    }
   ],
   "source": [
    "a = 'python'\n",
    "\n",
    "i = len(a)\n",
    "\n",
    "\n",
    "while i > 0:\n",
    "    print(a[i-1] * i)\n",
    "    i -= 1"
   ]
  },
  {
   "cell_type": "markdown",
   "id": "1466357e",
   "metadata": {},
   "source": [
    "# Break , continue , pass"
   ]
  },
  {
   "cell_type": "markdown",
   "id": "85288845",
   "metadata": {},
   "source": [
    "# Break \n",
    "\n",
    "- It is used to break out of the loop"
   ]
  },
  {
   "cell_type": "code",
   "execution_count": 55,
   "id": "eb0e9a53",
   "metadata": {},
   "outputs": [
    {
     "data": {
      "text/plain": [
       "[0, 1, 2, 3, 4, 5, 6, 7, 8, 9]"
      ]
     },
     "execution_count": 55,
     "metadata": {},
     "output_type": "execute_result"
    }
   ],
   "source": [
    "list(range(10))"
   ]
  },
  {
   "cell_type": "code",
   "execution_count": 57,
   "id": "1d217196",
   "metadata": {},
   "outputs": [
    {
     "name": "stdout",
     "output_type": "stream",
     "text": [
      "0\n",
      "1\n",
      "2\n",
      "3\n",
      "4\n",
      "5\n",
      "6\n",
      "7\n",
      "8\n",
      "9\n",
      "Loop completed\n"
     ]
    }
   ],
   "source": [
    "for i in range(10):\n",
    "    print(i)\n",
    "print('Loop completed')"
   ]
  },
  {
   "cell_type": "code",
   "execution_count": 58,
   "id": "0154e936",
   "metadata": {},
   "outputs": [
    {
     "data": {
      "text/plain": [
       "[0, 1, 2, 3, 4, 5, 6, 7, 8, 9]"
      ]
     },
     "execution_count": 58,
     "metadata": {},
     "output_type": "execute_result"
    }
   ],
   "source": [
    "list(range(10))"
   ]
  },
  {
   "cell_type": "code",
   "execution_count": 59,
   "id": "1d7839f1",
   "metadata": {},
   "outputs": [
    {
     "name": "stdout",
     "output_type": "stream",
     "text": [
      "0\n",
      "1\n",
      "2\n",
      "Loop completed\n"
     ]
    }
   ],
   "source": [
    "for i in range(10):\n",
    "    if i == 3:\n",
    "        break\n",
    "    print(i)\n",
    "print('Loop completed')"
   ]
  },
  {
   "cell_type": "code",
   "execution_count": 61,
   "id": "d25af014",
   "metadata": {},
   "outputs": [
    {
     "name": "stdout",
     "output_type": "stream",
     "text": [
      "Enter a number : 34\n",
      "Enter a number : 54\n",
      "Enter a number : 546\n",
      "Enter a number : 567\n",
      "Enter a number : 765\n",
      "Enter a number : 45\n",
      "Enter a number : 54\n",
      "Enter a number : 56\n",
      "Enter a number : 56\n",
      "Enter a number : 67\n",
      "Enter a number : 67\n",
      "Enter a number : 56\n",
      "Enter a number : 56\n",
      "Enter a number : 56\n",
      "Enter a number : 56\n",
      "Enter a number : 56\n",
      "Enter a number : 65\n",
      "Enter a number : 6\n",
      "Enter a number : 6756\n",
      "Enter a number : 6556\n",
      "Enter a number : 0\n",
      "Loop completed\n"
     ]
    }
   ],
   "source": [
    "while True:\n",
    "    a = int(input('Enter a number : '))\n",
    "    if a == 0:\n",
    "        break\n",
    "        \n",
    "print('Loop completed')"
   ]
  },
  {
   "cell_type": "markdown",
   "id": "3c955928",
   "metadata": {},
   "source": [
    "# Continue\n",
    "\n",
    "- It only breaks the current iteration"
   ]
  },
  {
   "cell_type": "code",
   "execution_count": 62,
   "id": "daeb69d1",
   "metadata": {},
   "outputs": [
    {
     "data": {
      "text/plain": [
       "[0, 1, 2, 3, 4, 5, 6, 7, 8, 9]"
      ]
     },
     "execution_count": 62,
     "metadata": {},
     "output_type": "execute_result"
    }
   ],
   "source": [
    "list(range(10))"
   ]
  },
  {
   "cell_type": "code",
   "execution_count": 64,
   "id": "cea1d563",
   "metadata": {},
   "outputs": [
    {
     "name": "stdout",
     "output_type": "stream",
     "text": [
      "0\n",
      "1\n",
      "2\n",
      "Loop completed\n"
     ]
    }
   ],
   "source": [
    "for i in range(10):\n",
    "    if i == 3:\n",
    "        break\n",
    "    print(i)\n",
    "print('Loop completed')"
   ]
  },
  {
   "cell_type": "code",
   "execution_count": 63,
   "id": "ed6bede8",
   "metadata": {},
   "outputs": [
    {
     "name": "stdout",
     "output_type": "stream",
     "text": [
      "0\n",
      "1\n",
      "2\n",
      "4\n",
      "5\n",
      "6\n",
      "7\n",
      "8\n",
      "9\n",
      "Loop completed\n"
     ]
    }
   ],
   "source": [
    "for i in range(10):\n",
    "    if i == 3:\n",
    "        continue\n",
    "    print(i)\n",
    "print('Loop completed')"
   ]
  },
  {
   "cell_type": "markdown",
   "id": "6bad355d",
   "metadata": {},
   "source": [
    "# Pass"
   ]
  },
  {
   "cell_type": "code",
   "execution_count": 65,
   "id": "3884f092",
   "metadata": {},
   "outputs": [
    {
     "name": "stdout",
     "output_type": "stream",
     "text": [
      "0\n",
      "1\n",
      "2\n",
      "3\n",
      "4\n",
      "5\n",
      "6\n",
      "7\n",
      "8\n",
      "9\n",
      "Loop completed\n"
     ]
    }
   ],
   "source": [
    "for i in range(10):\n",
    "    if i == 3:\n",
    "        pass\n",
    "    print(i)\n",
    "print('Loop completed')"
   ]
  },
  {
   "cell_type": "code",
   "execution_count": 73,
   "id": "daebb519",
   "metadata": {},
   "outputs": [],
   "source": [
    "a = 77\n",
    "\n",
    "\n",
    "if a > 6 or a <1:\n",
    "    pass\n",
    "else:\n",
    "    if type(a) != int:\n",
    "        print('Invalid number')\n",
    "    elif a == 1:\n",
    "        print('One')\n",
    "    elif a == 2:\n",
    "        print('Two')\n",
    "    elif a == 3:\n",
    "        print('Three')\n",
    "    elif a == 4:\n",
    "        print('Four')\n",
    "    elif a == 5:\n",
    "        print('Five')\n",
    "    elif a == 6:\n",
    "        print('six')"
   ]
  },
  {
   "cell_type": "code",
   "execution_count": 76,
   "id": "1b017842",
   "metadata": {},
   "outputs": [
    {
     "name": "stdout",
     "output_type": "stream",
     "text": [
      "v1 FA\n",
      "v1 FB\n",
      "V2 FC\n",
      "v1 FD\n"
     ]
    }
   ],
   "source": [
    "lst = ['a' , 'b' , 'c' , 'd']\n",
    "\n",
    "\n",
    "for i in lst:\n",
    "    if i == 'a':\n",
    "        print('v1 FA')\n",
    "    if i == 'b':\n",
    "        print('v1 FB')\n",
    "    if i == 'c':\n",
    "        pass\n",
    "    if i == 'd':\n",
    "        print('v1 FD')\n",
    "        \n",
    "    if i == 'c':\n",
    "        print('V2 FC')"
   ]
  },
  {
   "cell_type": "code",
   "execution_count": 77,
   "id": "4aae1872",
   "metadata": {},
   "outputs": [
    {
     "name": "stdout",
     "output_type": "stream",
     "text": [
      "v1 FA\n",
      "v1 FB\n",
      "v1 FD\n"
     ]
    }
   ],
   "source": [
    "lst = ['a' , 'b' , 'c' , 'd']\n",
    "\n",
    "\n",
    "for i in lst:\n",
    "    if i == 'a':\n",
    "        print('v1 FA')\n",
    "    if i == 'b':\n",
    "        print('v1 FB')\n",
    "    if i == 'c':\n",
    "        continue\n",
    "    if i == 'd':\n",
    "        print('v1 FD')\n",
    "        \n",
    "    if i == 'c':\n",
    "        print('V2 FC')"
   ]
  },
  {
   "cell_type": "code",
   "execution_count": 78,
   "id": "ca966113",
   "metadata": {},
   "outputs": [
    {
     "name": "stdout",
     "output_type": "stream",
     "text": [
      "v1 FA\n",
      "v1 FB\n"
     ]
    }
   ],
   "source": [
    "lst = ['a' , 'b' , 'c' , 'd']\n",
    "\n",
    "\n",
    "for i in lst:\n",
    "    if i == 'a':\n",
    "        print('v1 FA')\n",
    "    if i == 'b':\n",
    "        print('v1 FB')\n",
    "    if i == 'c':\n",
    "        break\n",
    "    if i == 'd':\n",
    "        print('v1 FD')\n",
    "        \n",
    "    if i == 'c':\n",
    "        print('V2 FC')"
   ]
  },
  {
   "cell_type": "code",
   "execution_count": null,
   "id": "c3bf6950",
   "metadata": {},
   "outputs": [],
   "source": [
    "# CDM\n",
    "current = 0\n",
    "\n",
    "- enter the amount which you want to deposite?\n",
    "20\n",
    "print('xyz amount is deposited you current balance = 20')\n",
    "\n",
    "\n",
    "- do you want to deposit again ? y / n\n",
    "\n",
    "y ---> repeate the whole process from begining\n",
    "n --> Have a nice day and close the program"
   ]
  },
  {
   "cell_type": "code",
   "execution_count": 84,
   "id": "57ac89b5",
   "metadata": {},
   "outputs": [
    {
     "name": "stdout",
     "output_type": "stream",
     "text": [
      "enter the amount : 45454\n",
      "45454 has been deposited the current balance is 45454\n",
      "Do you want to retry ? y/n : y\n",
      "enter the amount : 10\n",
      "10 has been deposited the current balance is 45464\n",
      "Do you want to retry ? y/n : y\n",
      "enter the amount : 20\n",
      "20 has been deposited the current balance is 45484\n",
      "Do you want to retry ? y/n : n\n",
      "Have a nice day\n"
     ]
    }
   ],
   "source": [
    "bal = 0\n",
    "\n",
    "while True:\n",
    "    amt = eval(input('enter the amount : '))\n",
    "    bal += amt\n",
    "    print(f\"{amt} has been deposited the current balance is {bal}\")\n",
    "    d = input('Do you want to retry ? y/n : ')\n",
    "    if d == 'y':\n",
    "        continue\n",
    "    elif d == 'n': \n",
    "        print('Have a nice day')\n",
    "        break"
   ]
  },
  {
   "cell_type": "code",
   "execution_count": 87,
   "id": "c086e712",
   "metadata": {},
   "outputs": [],
   "source": [
    "lst = [34,345,546,56,56,565,45,34,434,34,343,4,34,34,34,34,34,3,43,54,545,65656,5]\n",
    "od = []\n",
    "\n",
    "for i in lst:\n",
    "    if i%2==0:\n",
    "        pass\n",
    "    else:\n",
    "        od.append(i)\n",
    "        "
   ]
  },
  {
   "cell_type": "code",
   "execution_count": 88,
   "id": "7d6f417c",
   "metadata": {},
   "outputs": [
    {
     "data": {
      "text/plain": [
       "[345, 565, 45, 343, 3, 43, 545, 5]"
      ]
     },
     "execution_count": 88,
     "metadata": {},
     "output_type": "execute_result"
    }
   ],
   "source": [
    "od"
   ]
  },
  {
   "cell_type": "code",
   "execution_count": 91,
   "id": "632930f8",
   "metadata": {},
   "outputs": [],
   "source": [
    "def function_1():\n",
    "    return 1\n",
    "\n",
    "def function_2():\n",
    "    return 2\n",
    "\n",
    "def function_3():\n",
    "    return 5\n",
    "\n",
    "def function_4():\n",
    "    return 4"
   ]
  },
  {
   "cell_type": "code",
   "execution_count": 93,
   "id": "87c962c8",
   "metadata": {},
   "outputs": [
    {
     "name": "stdout",
     "output_type": "stream",
     "text": [
      "function_3 i logically incorrect\n"
     ]
    }
   ],
   "source": [
    "if function_1() == 1:\n",
    "    pass\n",
    "else:\n",
    "    print('function_1 i logically incorrect')\n",
    "    \n",
    "if function_2() == 2:\n",
    "    pass\n",
    "else:\n",
    "    print('function_2 i logically incorrect')\n",
    "    \n",
    "if function_3() == 3:\n",
    "    pass\n",
    "else:\n",
    "    print('function_3 i logically incorrect')\n",
    "    \n",
    "if function_4() == 4:\n",
    "    pass\n",
    "else:\n",
    "    print('function_4 i logically incorrect')"
   ]
  },
  {
   "cell_type": "code",
   "execution_count": 94,
   "id": "d527689e",
   "metadata": {},
   "outputs": [],
   "source": [
    "a = 'python'"
   ]
  },
  {
   "cell_type": "code",
   "execution_count": 95,
   "id": "5f30998a",
   "metadata": {},
   "outputs": [
    {
     "name": "stdout",
     "output_type": "stream",
     "text": [
      "p\n",
      "y\n",
      "t\n",
      "h\n",
      "o\n",
      "n\n"
     ]
    }
   ],
   "source": [
    "for i in a:\n",
    "    print(i)"
   ]
  },
  {
   "cell_type": "code",
   "execution_count": 98,
   "id": "87a19c23",
   "metadata": {},
   "outputs": [
    {
     "name": "stdout",
     "output_type": "stream",
     "text": [
      "p\n",
      "y\n",
      "t\n",
      "h\n",
      "o\n",
      "n\n"
     ]
    }
   ],
   "source": [
    "i = 0\n",
    "\n",
    "while i < len(a):\n",
    "    print(a[i])\n",
    "    i += 1"
   ]
  },
  {
   "cell_type": "code",
   "execution_count": null,
   "id": "a26d05a6",
   "metadata": {},
   "outputs": [],
   "source": []
  }
 ],
 "metadata": {
  "kernelspec": {
   "display_name": "Python 3 (ipykernel)",
   "language": "python",
   "name": "python3"
  },
  "language_info": {
   "codemirror_mode": {
    "name": "ipython",
    "version": 3
   },
   "file_extension": ".py",
   "mimetype": "text/x-python",
   "name": "python",
   "nbconvert_exporter": "python",
   "pygments_lexer": "ipython3",
   "version": "3.11.4"
  }
 },
 "nbformat": 4,
 "nbformat_minor": 5
}
