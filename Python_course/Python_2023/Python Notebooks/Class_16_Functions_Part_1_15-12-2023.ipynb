{
 "cells": [
  {
   "cell_type": "code",
   "execution_count": 6,
   "id": "1d597787",
   "metadata": {},
   "outputs": [],
   "source": [
    "# Task - Solve by Mondays class, By using loop only\n",
    "\n",
    "lst = [['Sriram' , 29] ,  ['Mithun' , 37] , ['Chetan' , 27]  , ['Jayanth',37] , ['Santhosh' ,25] , ['Ashok' , 40]]\n",
    "\n",
    "\n",
    "\n",
    "output:- ['Santhosh' ,25] ,  ['Chetan' , 27] , ['Sriram' , 29] , ['Jayanth',37] , ['Mithun' , 37] , ['Ashok' , 40]"
   ]
  },
  {
   "cell_type": "markdown",
   "id": "51669bae",
   "metadata": {},
   "source": [
    "# Functions"
   ]
  },
  {
   "cell_type": "code",
   "execution_count": 7,
   "id": "532c1497",
   "metadata": {},
   "outputs": [
    {
     "name": "stdout",
     "output_type": "stream",
     "text": [
      "Palindrom\n",
      "57\n",
      "Not a palindrom\n",
      "90\n"
     ]
    }
   ],
   "source": [
    "# Task1 \n",
    "\n",
    "x = 'rotor'\n",
    "\n",
    "if x == x[::-1]:\n",
    "    print('Palindrom')\n",
    "else:\n",
    "    print('Not a palindrom')\n",
    "\n",
    "# Task 2\n",
    "\n",
    "a = 23\n",
    "b = 34\n",
    "\n",
    "print(a + b)\n",
    "\n",
    "# Task 3\n",
    "x = 'python'\n",
    "\n",
    "if x == x[::-1]:\n",
    "    print('Palindrom')\n",
    "else:\n",
    "    print('Not a palindrom')\n",
    "\n",
    "# Task 4\n",
    "a = 40\n",
    "b = 50\n",
    "\n",
    "print(a + b)"
   ]
  },
  {
   "cell_type": "code",
   "execution_count": null,
   "id": "746bbd75",
   "metadata": {},
   "outputs": [],
   "source": [
    "# best practice\n",
    "\n",
    "- Code should be understandable\n",
    "- code should as min lines as possible"
   ]
  },
  {
   "cell_type": "code",
   "execution_count": null,
   "id": "2f1853ad",
   "metadata": {},
   "outputs": [],
   "source": [
    "# Syntax of a function\n",
    "\n",
    "1. Function defination --> we define the code\n",
    "2. Function call --> We execute the code\n",
    "\n",
    "\n",
    "syntax:\n",
    "    \n",
    "1. Function defination\n",
    "    \n",
    "def function_name(parameters):\n",
    "    stat1\n",
    "    stat2\n",
    "    stat3\n",
    "    stat3\n",
    "    return stat4\n",
    "    \n",
    "2. Function call\n",
    "\n",
    "function_name(arguments)\n",
    "    \n",
    "\n",
    "# Things which are optional\n",
    "- parameters\n",
    "- return ----> By default every function returns None\n",
    "\n",
    "#### Note:- If parameters are given then it is very important to pass the arguments"
   ]
  },
  {
   "cell_type": "code",
   "execution_count": 10,
   "id": "9ba368dc",
   "metadata": {},
   "outputs": [
    {
     "name": "stdout",
     "output_type": "stream",
     "text": [
      "90\n"
     ]
    }
   ],
   "source": [
    "a = 40\n",
    "b = 50\n",
    "\n",
    "print(a + b)"
   ]
  },
  {
   "cell_type": "code",
   "execution_count": 11,
   "id": "046fc119",
   "metadata": {},
   "outputs": [],
   "source": [
    "# Function defination\n",
    "\n",
    "def adder():\n",
    "    print(40 + 50)"
   ]
  },
  {
   "cell_type": "code",
   "execution_count": 14,
   "id": "88f6da17",
   "metadata": {},
   "outputs": [
    {
     "name": "stdout",
     "output_type": "stream",
     "text": [
      "90\n",
      "90\n",
      "90\n",
      "90\n",
      "90\n",
      "90\n"
     ]
    }
   ],
   "source": [
    "# Function call\n",
    "\n",
    "adder()\n",
    "adder()\n",
    "adder()\n",
    "adder()\n",
    "adder()\n",
    "adder()"
   ]
  },
  {
   "cell_type": "code",
   "execution_count": 16,
   "id": "2c5dab1d",
   "metadata": {},
   "outputs": [],
   "source": [
    "def adder(n1 , n2):\n",
    "    print(n1 + n2)"
   ]
  },
  {
   "cell_type": "code",
   "execution_count": 20,
   "id": "2b61656b",
   "metadata": {},
   "outputs": [
    {
     "name": "stdout",
     "output_type": "stream",
     "text": [
      "30\n",
      "20\n",
      "50\n"
     ]
    }
   ],
   "source": [
    "adder(10 , 20)\n",
    "adder(10 , 10)\n",
    "adder(30 , 20)"
   ]
  },
  {
   "cell_type": "code",
   "execution_count": 21,
   "id": "98055743",
   "metadata": {},
   "outputs": [],
   "source": [
    "def palindrom(x):\n",
    "    if x == x[::-1]:\n",
    "        print('Palindrom')\n",
    "    else:\n",
    "        print('Not a palindrom')"
   ]
  },
  {
   "cell_type": "code",
   "execution_count": 24,
   "id": "8bcf8c81",
   "metadata": {},
   "outputs": [
    {
     "name": "stdout",
     "output_type": "stream",
     "text": [
      "Palindrom\n",
      "Not a palindrom\n",
      "Palindrom\n"
     ]
    }
   ],
   "source": [
    "palindrom('level')\n",
    "palindrom('python')\n",
    "palindrom('malayalam')"
   ]
  },
  {
   "cell_type": "code",
   "execution_count": 25,
   "id": "ed7e7c9f",
   "metadata": {},
   "outputs": [],
   "source": [
    "def palindrom(x):\n",
    "    '''This is a function\n",
    "    that will print a word is palindrom or not'''\n",
    "    if x == x[::-1]:\n",
    "        print('Palindrom')\n",
    "    else:\n",
    "        print('Not a palindrom')"
   ]
  },
  {
   "cell_type": "code",
   "execution_count": null,
   "id": "5562513d",
   "metadata": {},
   "outputs": [],
   "source": [
    "palindrom('level')"
   ]
  },
  {
   "cell_type": "markdown",
   "id": "17f9dae7",
   "metadata": {},
   "source": [
    "# Types of arguments\n",
    "\n",
    "- positional arguments\n",
    "- keyword arguments\n",
    "- default arguments\n",
    "- variable length args"
   ]
  },
  {
   "cell_type": "markdown",
   "id": "1deaadc2",
   "metadata": {},
   "source": [
    "# positional arguments\n",
    "\n",
    "\n",
    "- order is important\n",
    "- num of args should be equal to the no parameters"
   ]
  },
  {
   "cell_type": "code",
   "execution_count": 29,
   "id": "251ed10f",
   "metadata": {},
   "outputs": [
    {
     "name": "stdout",
     "output_type": "stream",
     "text": [
      "Age :  34\n",
      "Salary :  4875634875\n",
      "Name :  xyz\n"
     ]
    }
   ],
   "source": [
    "def emp_info(name , age , salary):\n",
    "    print('Age : ' ,age )\n",
    "    print('Salary : ' , salary)\n",
    "    print('Name : ' , name)\n",
    "    \n",
    "    \n",
    "emp_info('xyz' , 34 , 4875634875)"
   ]
  },
  {
   "cell_type": "code",
   "execution_count": 30,
   "id": "d7ea8b81",
   "metadata": {},
   "outputs": [
    {
     "name": "stdout",
     "output_type": "stream",
     "text": [
      "Age :  4875634875\n",
      "Salary :  xyz\n",
      "Name :  34\n"
     ]
    }
   ],
   "source": [
    "# order is important\n",
    "\n",
    "def emp_info(name , age , salary):\n",
    "    print('Age : ' ,age )\n",
    "    print('Salary : ' , salary)\n",
    "    print('Name : ' , name)\n",
    "    \n",
    "    \n",
    "emp_info(34 , 4875634875 , 'xyz' )"
   ]
  },
  {
   "cell_type": "code",
   "execution_count": 31,
   "id": "df85a852",
   "metadata": {},
   "outputs": [
    {
     "ename": "TypeError",
     "evalue": "emp_info() missing 1 required positional argument: 'salary'",
     "output_type": "error",
     "traceback": [
      "\u001b[1;31m---------------------------------------------------------------------------\u001b[0m",
      "\u001b[1;31mTypeError\u001b[0m                                 Traceback (most recent call last)",
      "Cell \u001b[1;32mIn[31], line 9\u001b[0m\n\u001b[0;32m      5\u001b[0m     \u001b[38;5;28mprint\u001b[39m(\u001b[38;5;124m'\u001b[39m\u001b[38;5;124mSalary : \u001b[39m\u001b[38;5;124m'\u001b[39m , salary)\n\u001b[0;32m      6\u001b[0m     \u001b[38;5;28mprint\u001b[39m(\u001b[38;5;124m'\u001b[39m\u001b[38;5;124mName : \u001b[39m\u001b[38;5;124m'\u001b[39m , name)\n\u001b[1;32m----> 9\u001b[0m emp_info(\u001b[38;5;241m34\u001b[39m , \u001b[38;5;241m4875634875\u001b[39m  )\n",
      "\u001b[1;31mTypeError\u001b[0m: emp_info() missing 1 required positional argument: 'salary'"
     ]
    }
   ],
   "source": [
    "# num of args should be equal to the no parameters\n",
    "\n",
    "def emp_info(name , age , salary):\n",
    "    print('Age : ' ,age )\n",
    "    print('Salary : ' , salary)\n",
    "    print('Name : ' , name)\n",
    "    \n",
    "    \n",
    "emp_info(34 , 4875634875  )"
   ]
  },
  {
   "cell_type": "markdown",
   "id": "382fa7af",
   "metadata": {},
   "source": [
    "# Keyword arguments"
   ]
  },
  {
   "cell_type": "code",
   "execution_count": 32,
   "id": "56512142",
   "metadata": {},
   "outputs": [
    {
     "name": "stdout",
     "output_type": "stream",
     "text": [
      "Age :  34\n",
      "Salary :  4875634875\n",
      "Name :  xyz\n"
     ]
    }
   ],
   "source": [
    "def emp_info(name , age , salary):\n",
    "    print('Age : ' ,age )\n",
    "    print('Salary : ' , salary)\n",
    "    print('Name : ' , name)\n",
    "    \n",
    "    \n",
    "emp_info(name = 'xyz' , age = 34 , salary= 4875634875)"
   ]
  },
  {
   "cell_type": "code",
   "execution_count": 33,
   "id": "18de6ad1",
   "metadata": {},
   "outputs": [
    {
     "name": "stdout",
     "output_type": "stream",
     "text": [
      "Age :  34\n",
      "Salary :  4875634875\n",
      "Name :  xyz\n"
     ]
    }
   ],
   "source": [
    "def emp_info(name , age , salary):\n",
    "    print('Age : ' ,age )\n",
    "    print('Salary : ' , salary)\n",
    "    print('Name : ' , name)\n",
    "    \n",
    "    \n",
    "emp_info( age = 34 , salary= 4875634875 , name = 'xyz' )"
   ]
  },
  {
   "cell_type": "code",
   "execution_count": 34,
   "id": "cc06fcc4",
   "metadata": {},
   "outputs": [
    {
     "name": "stdout",
     "output_type": "stream",
     "text": [
      "Age :  34\n",
      "Salary :  4875634875\n",
      "Name :  xyz\n"
     ]
    }
   ],
   "source": [
    "def emp_info(name , age , salary):\n",
    "    print('Age : ' ,age )\n",
    "    print('Salary : ' , salary)\n",
    "    print('Name : ' , name)\n",
    "    \n",
    "    \n",
    "emp_info('xyz' ,age = 34 , salary= 4875634875 )"
   ]
  },
  {
   "cell_type": "code",
   "execution_count": 35,
   "id": "0689c0a3",
   "metadata": {},
   "outputs": [
    {
     "ename": "SyntaxError",
     "evalue": "positional argument follows keyword argument (2791976093.py, line 7)",
     "output_type": "error",
     "traceback": [
      "\u001b[1;36m  Cell \u001b[1;32mIn[35], line 7\u001b[1;36m\u001b[0m\n\u001b[1;33m    emp_info(age = 34 , salary= 4875634875 , 'xyz')\u001b[0m\n\u001b[1;37m                                                  ^\u001b[0m\n\u001b[1;31mSyntaxError\u001b[0m\u001b[1;31m:\u001b[0m positional argument follows keyword argument\n"
     ]
    }
   ],
   "source": [
    "def emp_info(name , age , salary):\n",
    "    print('Age : ' ,age )\n",
    "    print('Salary : ' , salary)\n",
    "    print('Name : ' , name)\n",
    "    \n",
    "    \n",
    "emp_info(age = 34 , salary= 4875634875 , 'xyz')"
   ]
  },
  {
   "cell_type": "markdown",
   "id": "7b7e9c35",
   "metadata": {},
   "source": [
    "# Note: positional argument follows keyword argument"
   ]
  },
  {
   "cell_type": "code",
   "execution_count": 36,
   "id": "44e8e3fa",
   "metadata": {},
   "outputs": [
    {
     "name": "stdout",
     "output_type": "stream",
     "text": [
      "Age :  34\n",
      "Salary :  4875634875\n",
      "Name :  xyz\n"
     ]
    }
   ],
   "source": [
    "def emp_info(name , age , salary):\n",
    "    print('Age : ' ,age )\n",
    "    print('Salary : ' , salary)\n",
    "    print('Name : ' , name)\n",
    "    \n",
    "    \n",
    "emp_info('xyz' ,age = 34 , salary= 4875634875 )"
   ]
  },
  {
   "cell_type": "code",
   "execution_count": 37,
   "id": "b75d6b0e",
   "metadata": {},
   "outputs": [
    {
     "ename": "TypeError",
     "evalue": "emp_info() got multiple values for argument 'age'",
     "output_type": "error",
     "traceback": [
      "\u001b[1;31m---------------------------------------------------------------------------\u001b[0m",
      "\u001b[1;31mTypeError\u001b[0m                                 Traceback (most recent call last)",
      "Cell \u001b[1;32mIn[37], line 7\u001b[0m\n\u001b[0;32m      3\u001b[0m     \u001b[38;5;28mprint\u001b[39m(\u001b[38;5;124m'\u001b[39m\u001b[38;5;124mSalary : \u001b[39m\u001b[38;5;124m'\u001b[39m , salary)\n\u001b[0;32m      4\u001b[0m     \u001b[38;5;28mprint\u001b[39m(\u001b[38;5;124m'\u001b[39m\u001b[38;5;124mName : \u001b[39m\u001b[38;5;124m'\u001b[39m , name)\n\u001b[1;32m----> 7\u001b[0m emp_info(\u001b[38;5;124m'\u001b[39m\u001b[38;5;124mxyz\u001b[39m\u001b[38;5;124m'\u001b[39m ,\u001b[38;5;241m4545455345345\u001b[39m,age \u001b[38;5;241m=\u001b[39m \u001b[38;5;241m34\u001b[39m )\n",
      "\u001b[1;31mTypeError\u001b[0m: emp_info() got multiple values for argument 'age'"
     ]
    }
   ],
   "source": [
    "def emp_info(name , age , salary):\n",
    "    print('Age : ' ,age )\n",
    "    print('Salary : ' , salary)\n",
    "    print('Name : ' , name)\n",
    "    \n",
    "    \n",
    "emp_info('xyz' ,4545455345345,age = 34 )"
   ]
  },
  {
   "cell_type": "code",
   "execution_count": 38,
   "id": "2a0acad3",
   "metadata": {},
   "outputs": [
    {
     "ename": "SyntaxError",
     "evalue": "positional argument follows keyword argument (1581093918.py, line 7)",
     "output_type": "error",
     "traceback": [
      "\u001b[1;36m  Cell \u001b[1;32mIn[38], line 7\u001b[1;36m\u001b[0m\n\u001b[1;33m    emp_info('xyz' , age = 34 , 4545455345345 )\u001b[0m\n\u001b[1;37m                                              ^\u001b[0m\n\u001b[1;31mSyntaxError\u001b[0m\u001b[1;31m:\u001b[0m positional argument follows keyword argument\n"
     ]
    }
   ],
   "source": [
    "def emp_info(name , age , salary):\n",
    "    print('Age : ' ,age )\n",
    "    print('Salary : ' , salary)\n",
    "    print('Name : ' , name)\n",
    "    \n",
    "    \n",
    "emp_info('xyz' , age = 34 , 4545455345345 )"
   ]
  },
  {
   "cell_type": "code",
   "execution_count": 39,
   "id": "6e2f30ab",
   "metadata": {},
   "outputs": [
    {
     "name": "stdout",
     "output_type": "stream",
     "text": [
      "Age :  34\n",
      "Salary :  4545455345345\n",
      "Name :  xyz\n"
     ]
    }
   ],
   "source": [
    "def emp_info(name , age , salary):\n",
    "    print('Age : ' ,age )\n",
    "    print('Salary : ' , salary)\n",
    "    print('Name : ' , name)\n",
    "    \n",
    "    \n",
    "emp_info('xyz' , age = 34 , salary= 4545455345345 )"
   ]
  },
  {
   "cell_type": "markdown",
   "id": "01f048de",
   "metadata": {},
   "source": [
    "# Default arguments"
   ]
  },
  {
   "cell_type": "code",
   "execution_count": 56,
   "id": "a8eb6b63",
   "metadata": {},
   "outputs": [
    {
     "name": "stdout",
     "output_type": "stream",
     "text": [
      "Age :  34\n",
      "Salary :  56565466\n",
      "Name :  xyz\n",
      "location :  GOA\n",
      "pin :  454545\n"
     ]
    }
   ],
   "source": [
    "def emp_info(name , age , salary , location = 'GOA' , pin = 454545):\n",
    "    print('Age : ' ,age )\n",
    "    print('Salary : ' , salary)\n",
    "    print('Name : ' , name)\n",
    "    print('location : ' , location)\n",
    "    print('pin : ' , pin)\n",
    "    \n",
    "    \n",
    "emp_info('xyz' , 34 , 56565466)"
   ]
  },
  {
   "cell_type": "code",
   "execution_count": 57,
   "id": "9e60b122",
   "metadata": {},
   "outputs": [
    {
     "name": "stdout",
     "output_type": "stream",
     "text": [
      "Age :  34\n",
      "Salary :  56565466\n",
      "Name :  xyz\n",
      "location :  Bang\n",
      "pin :  5654645\n"
     ]
    }
   ],
   "source": [
    "def emp_info(name , age , salary , location = 'GOA' , pin = 454545):\n",
    "    print('Age : ' ,age )\n",
    "    print('Salary : ' , salary)\n",
    "    print('Name : ' , name)\n",
    "    print('location : ' , location)\n",
    "    print('pin : ' , pin)\n",
    "    \n",
    "    \n",
    "emp_info('xyz' , 34 , 56565466 , 'Bang' , 5654645)"
   ]
  },
  {
   "cell_type": "code",
   "execution_count": 58,
   "id": "3df48cbc",
   "metadata": {},
   "outputs": [
    {
     "name": "stdout",
     "output_type": "stream",
     "text": [
      "Age :  34\n",
      "Salary :  56565466\n",
      "Name :  xyz\n",
      "location :  Bang\n",
      "pin :  5654645\n"
     ]
    }
   ],
   "source": [
    "def emp_info(name , age , salary , location = 'GOA' , pin = 454545):\n",
    "    print('Age : ' ,age )\n",
    "    print('Salary : ' , salary)\n",
    "    print('Name : ' , name)\n",
    "    print('location : ' , location)\n",
    "    print('pin : ' , pin)\n",
    "    \n",
    "    \n",
    "emp_info('xyz' , 34 , 56565466 , location= 'Bang' , pin= 5654645)"
   ]
  },
  {
   "cell_type": "code",
   "execution_count": 59,
   "id": "7d0f9088",
   "metadata": {},
   "outputs": [
    {
     "name": "stdout",
     "output_type": "stream",
     "text": [
      "Age :  34\n",
      "Salary :  56565466\n",
      "Name :  xyz\n",
      "location :  GOA\n",
      "pin :  5654645\n"
     ]
    }
   ],
   "source": [
    "def emp_info(name , age , salary , location = 'GOA' , pin = 454545):\n",
    "    print('Age : ' ,age )\n",
    "    print('Salary : ' , salary)\n",
    "    print('Name : ' , name)\n",
    "    print('location : ' , location)\n",
    "    print('pin : ' , pin)\n",
    "    \n",
    "    \n",
    "emp_info('xyz' , 34 , 56565466 ,  pin= 5654645)"
   ]
  },
  {
   "cell_type": "code",
   "execution_count": 60,
   "id": "f7707268",
   "metadata": {},
   "outputs": [
    {
     "ename": "SyntaxError",
     "evalue": "non-default argument follows default argument (3197550454.py, line 1)",
     "output_type": "error",
     "traceback": [
      "\u001b[1;36m  Cell \u001b[1;32mIn[60], line 1\u001b[1;36m\u001b[0m\n\u001b[1;33m    def emp_info(location = 'GOA' , pin = 454545 , name , age , salary ):\u001b[0m\n\u001b[1;37m                                                   ^\u001b[0m\n\u001b[1;31mSyntaxError\u001b[0m\u001b[1;31m:\u001b[0m non-default argument follows default argument\n"
     ]
    }
   ],
   "source": [
    "def emp_info(location = 'GOA' , pin = 454545 , name , age , salary ):\n",
    "    print('Age : ' ,age )\n",
    "    print('Salary : ' , salary)\n",
    "    print('Name : ' , name)\n",
    "    print('location : ' , location)\n",
    "    print('pin : ' , pin)\n",
    "    \n",
    "    \n",
    "emp_info('xyz' , 34 , 56565466 ,  pin= 5654645)"
   ]
  },
  {
   "cell_type": "code",
   "execution_count": 61,
   "id": "9b48ffc7",
   "metadata": {},
   "outputs": [
    {
     "ename": "SyntaxError",
     "evalue": "positional argument follows keyword argument (2964365383.py, line 9)",
     "output_type": "error",
     "traceback": [
      "\u001b[1;36m  Cell \u001b[1;32mIn[61], line 9\u001b[1;36m\u001b[0m\n\u001b[1;33m    emp_info(pin= 5654645 , 'xyz' , 34 , 56565466 )\u001b[0m\n\u001b[1;37m                                                  ^\u001b[0m\n\u001b[1;31mSyntaxError\u001b[0m\u001b[1;31m:\u001b[0m positional argument follows keyword argument\n"
     ]
    }
   ],
   "source": [
    "def emp_info(name , age , salary , location = 'GOA' , pin = 454545):\n",
    "    print('Age : ' ,age )\n",
    "    print('Salary : ' , salary)\n",
    "    print('Name : ' , name)\n",
    "    print('location : ' , location)\n",
    "    print('pin : ' , pin)\n",
    "    \n",
    "    \n",
    "emp_info(pin= 5654645 , 'xyz' , 34 , 56565466 )"
   ]
  },
  {
   "cell_type": "code",
   "execution_count": 62,
   "id": "f5fd7fd5",
   "metadata": {},
   "outputs": [
    {
     "name": "stdout",
     "output_type": "stream",
     "text": [
      "temp:  45\n",
      "humidity:  56\n",
      "time:  00:00\n",
      "prediction:  Rainy\n"
     ]
    }
   ],
   "source": [
    "def temp_day(temp, humidity, time = \"00:00\", prediction= None):\n",
    "    \"\"\"please Enter the temp in degree celcius\"\"\"\n",
    "    print(\"temp: \",temp)\n",
    "    print(\"humidity: \",humidity)\n",
    "    print(\"time: \",time)\n",
    "    print(\"prediction: \",prediction)\n",
    "\n",
    "    \n",
    "temp_day(45 , 56 , prediction= 'Rainy')"
   ]
  },
  {
   "cell_type": "markdown",
   "id": "69c74d9f",
   "metadata": {},
   "source": [
    "# Variable length args\n",
    "\n",
    "(*args, **kwargs)\n",
    "\n",
    "\n",
    "*args ---> Takes the variable length position arguments and store it in the for of tuple\n",
    "\n",
    "**kwargs --> Takes the variable length keyword arguments and store it in the for of dict"
   ]
  },
  {
   "cell_type": "code",
   "execution_count": 63,
   "id": "93d81303",
   "metadata": {},
   "outputs": [],
   "source": [
    "def adder(a , b):\n",
    "    print(a + b)"
   ]
  },
  {
   "cell_type": "code",
   "execution_count": 66,
   "id": "e214901f",
   "metadata": {},
   "outputs": [
    {
     "name": "stdout",
     "output_type": "stream",
     "text": [
      "30\n"
     ]
    }
   ],
   "source": [
    "adder(10,20)"
   ]
  },
  {
   "cell_type": "code",
   "execution_count": 67,
   "id": "68428ab5",
   "metadata": {},
   "outputs": [],
   "source": [
    "def adder(*args):\n",
    "    print(args , type(args))"
   ]
  },
  {
   "cell_type": "code",
   "execution_count": 69,
   "id": "924ee90d",
   "metadata": {},
   "outputs": [
    {
     "name": "stdout",
     "output_type": "stream",
     "text": [
      "(10, 20, 34, 45, 56, 657, 67, 67, 6767, 56, 56, 5656, 56, 5656, 67, 67, 67) <class 'tuple'>\n"
     ]
    }
   ],
   "source": [
    "adder(10,20,34,45,56,657,67,67,6767,56,56,5656,56,5656,67,67,67)"
   ]
  },
  {
   "cell_type": "code",
   "execution_count": 70,
   "id": "306a8c0a",
   "metadata": {},
   "outputs": [],
   "source": [
    "def adder(*args):\n",
    "    print(sum(args))"
   ]
  },
  {
   "cell_type": "code",
   "execution_count": 72,
   "id": "90ca5ee5",
   "metadata": {},
   "outputs": [
    {
     "name": "stdout",
     "output_type": "stream",
     "text": [
      "37\n"
     ]
    }
   ],
   "source": [
    "adder(10,20,1,1,2,1,1,1)"
   ]
  },
  {
   "cell_type": "code",
   "execution_count": 74,
   "id": "4b740b01",
   "metadata": {},
   "outputs": [],
   "source": [
    "def adder(*a):\n",
    "    print(a , type(a))"
   ]
  },
  {
   "cell_type": "code",
   "execution_count": 77,
   "id": "b0799ce5",
   "metadata": {},
   "outputs": [
    {
     "name": "stdout",
     "output_type": "stream",
     "text": [
      "(10, 20, 43.54, 1, 1, 2, 1, 1, 1) <class 'tuple'>\n"
     ]
    }
   ],
   "source": [
    "adder(10,20 , 43.54,1,1,2,1,1,1)"
   ]
  },
  {
   "cell_type": "code",
   "execution_count": 78,
   "id": "71b46b8b",
   "metadata": {},
   "outputs": [],
   "source": [
    "def adder(**kwargs):\n",
    "    print(kwargs , type(kwargs))"
   ]
  },
  {
   "cell_type": "code",
   "execution_count": 79,
   "id": "f428170c",
   "metadata": {},
   "outputs": [
    {
     "name": "stdout",
     "output_type": "stream",
     "text": [
      "{'name': 'xyz', 'age': 34} <class 'dict'>\n"
     ]
    }
   ],
   "source": [
    "adder(name = 'xyz' , age = 34)"
   ]
  },
  {
   "cell_type": "code",
   "execution_count": 80,
   "id": "a5149042",
   "metadata": {},
   "outputs": [],
   "source": [
    "def adder(*args , **kwargs):\n",
    "    print(args , type(args))\n",
    "    print(kwargs , type(kwargs))"
   ]
  },
  {
   "cell_type": "code",
   "execution_count": 83,
   "id": "9cae4b07",
   "metadata": {},
   "outputs": [
    {
     "name": "stdout",
     "output_type": "stream",
     "text": [
      "(234, 34, 45, 45, 56, 'xyz') <class 'tuple'>\n",
      "{'age': 43} <class 'dict'>\n"
     ]
    }
   ],
   "source": [
    "adder(234,34,45,45,56 ,  'xyz' , age = 43)"
   ]
  },
  {
   "cell_type": "markdown",
   "id": "dea1936a",
   "metadata": {},
   "source": [
    "# Task 2"
   ]
  },
  {
   "cell_type": "code",
   "execution_count": 84,
   "id": "1daa65e3",
   "metadata": {},
   "outputs": [],
   "source": [
    "\n",
    "emp_data = {'emp_1' : {'name':'Salahudin' , 'age':45 , 'salary':5464564565 },\n",
    "           'emp_2' : {'name':'Sriram' , 'age':34 , 'salary':5656546546 } ,\n",
    "           'emp_3' : {'name':'Abhishek' , 'age':28 , 'salary':7675675676 },\n",
    "           'emp_4' : {'name':'Anshul' , 'age':27 , 'salary':6878678687 },\n",
    "           'emp_5' : {'name':'Nabia' , 'age':25 , 'salary':6786765765 }}"
   ]
  },
  {
   "cell_type": "code",
   "execution_count": 86,
   "id": "d3cd401c",
   "metadata": {},
   "outputs": [],
   "source": [
    "\n",
    "def emp_adder(name , age , salary):\n",
    "    key = f\"emp_{len(emp_data)+1}\"\n",
    "    emp_data.setdefault(key , {'name':name , 'age':age , 'salary':salary})\n"
   ]
  },
  {
   "cell_type": "code",
   "execution_count": 91,
   "id": "5b59984b",
   "metadata": {},
   "outputs": [
    {
     "ename": "TypeError",
     "evalue": "emp_adder() got an unexpected keyword argument 'loc'",
     "output_type": "error",
     "traceback": [
      "\u001b[1;31m---------------------------------------------------------------------------\u001b[0m",
      "\u001b[1;31mTypeError\u001b[0m                                 Traceback (most recent call last)",
      "Cell \u001b[1;32mIn[91], line 1\u001b[0m\n\u001b[1;32m----> 1\u001b[0m emp_adder(\u001b[38;5;124m'\u001b[39m\u001b[38;5;124mabc\u001b[39m\u001b[38;5;124m'\u001b[39m , \u001b[38;5;241m34\u001b[39m , \u001b[38;5;241m67567567\u001b[39m , loc \u001b[38;5;241m=\u001b[39m \u001b[38;5;124m'\u001b[39m\u001b[38;5;124mgoa\u001b[39m\u001b[38;5;124m'\u001b[39m , pan \u001b[38;5;241m=\u001b[39m \u001b[38;5;241m343\u001b[39m)\n",
      "\u001b[1;31mTypeError\u001b[0m: emp_adder() got an unexpected keyword argument 'loc'"
     ]
    }
   ],
   "source": [
    "emp_adder('abc' , 34 , 67567567 , loc = 'goa' , pan = 343)"
   ]
  },
  {
   "cell_type": "code",
   "execution_count": 90,
   "id": "c0cf602d",
   "metadata": {},
   "outputs": [
    {
     "data": {
      "text/plain": [
       "{'emp_1': {'name': 'Salahudin', 'age': 45, 'salary': 5464564565},\n",
       " 'emp_2': {'name': 'Sriram', 'age': 34, 'salary': 5656546546},\n",
       " 'emp_3': {'name': 'Abhishek', 'age': 28, 'salary': 7675675676},\n",
       " 'emp_4': {'name': 'Anshul', 'age': 27, 'salary': 6878678687},\n",
       " 'emp_5': {'name': 'Nabia', 'age': 25, 'salary': 6786765765},\n",
       " 'emp_6': {'name': 'xyz', 'age': 34, 'salary': 67567567},\n",
       " 'emp_7': {'name': 'abc', 'age': 34, 'salary': 67567567}}"
      ]
     },
     "execution_count": 90,
     "metadata": {},
     "output_type": "execute_result"
    }
   ],
   "source": [
    "emp_data"
   ]
  },
  {
   "cell_type": "markdown",
   "id": "e051d9e9",
   "metadata": {},
   "source": [
    "# Return "
   ]
  },
  {
   "cell_type": "code",
   "execution_count": null,
   "id": "205976d4",
   "metadata": {},
   "outputs": [],
   "source": [
    "tries = 0\n",
    "Intial_Balance=1000 \n",
    "current_balance=int(a+Intial_Balance) \n",
    "\n",
    "while True:\n",
    "    tries = tries+1\n",
    "    a=int(input('Enter the amount you want to deposit in No Rs:')) \n",
    "    print(f\"You have deposied Rs {a} and current_balance is Rs {current_balance}\") \n",
    "    print(\"If you want to deposit again pls press 'y' or else pls press'n': \") \n",
    "    Decision=str(input()).lower()\n",
    "    if (Decision == 'y') and (tries <= 5):\n",
    "        continue\n",
    "    else:\n",
    "        print('Message')\n",
    "        break"
   ]
  }
 ],
 "metadata": {
  "kernelspec": {
   "display_name": "Python 3 (ipykernel)",
   "language": "python",
   "name": "python3"
  },
  "language_info": {
   "codemirror_mode": {
    "name": "ipython",
    "version": 3
   },
   "file_extension": ".py",
   "mimetype": "text/x-python",
   "name": "python",
   "nbconvert_exporter": "python",
   "pygments_lexer": "ipython3",
   "version": "3.11.4"
  }
 },
 "nbformat": 4,
 "nbformat_minor": 5
}
