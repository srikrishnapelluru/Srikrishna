{
 "cells": [
  {
   "cell_type": "markdown",
   "id": "ea90d2ab",
   "metadata": {},
   "source": [
    "# Global and Local variables"
   ]
  },
  {
   "cell_type": "code",
   "execution_count": 8,
   "id": "00a5ad3f",
   "metadata": {},
   "outputs": [
    {
     "name": "stdout",
     "output_type": "stream",
     "text": [
      "60\n",
      "0\n",
      "10\n",
      "20\n"
     ]
    },
    {
     "ename": "NameError",
     "evalue": "name 'c' is not defined",
     "output_type": "error",
     "traceback": [
      "\u001b[1;31m---------------------------------------------------------------------------\u001b[0m",
      "\u001b[1;31mNameError\u001b[0m                                 Traceback (most recent call last)",
      "Cell \u001b[1;32mIn[8], line 16\u001b[0m\n\u001b[0;32m     14\u001b[0m \u001b[38;5;28mprint\u001b[39m(x)\n\u001b[0;32m     15\u001b[0m \u001b[38;5;28mprint\u001b[39m(y)\n\u001b[1;32m---> 16\u001b[0m \u001b[38;5;28mprint\u001b[39m(c)\n\u001b[0;32m     17\u001b[0m \u001b[38;5;28mprint\u001b[39m(d)\n",
      "\u001b[1;31mNameError\u001b[0m: name 'c' is not defined"
     ]
    }
   ],
   "source": [
    "x = 10\n",
    "y = 20\n",
    "\n",
    "\n",
    "def adder(a,b):\n",
    "    c = a+b\n",
    "    d = x + y\n",
    "    print(c)\n",
    "    print(d)\n",
    "    \n",
    "adder(30,30)\n",
    "\n",
    "\n",
    "print(x)\n",
    "print(y)\n",
    "print(c)\n",
    "print(d)"
   ]
  },
  {
   "cell_type": "code",
   "execution_count": 14,
   "id": "e0921832",
   "metadata": {},
   "outputs": [],
   "source": [
    "def evn_seperator(l):\n",
    "    global even_list\n",
    "    even_list = []\n",
    "    for i in l:\n",
    "        if i%2==0:\n",
    "            even_list.append(i)\n",
    "    print(even_list)"
   ]
  },
  {
   "cell_type": "code",
   "execution_count": 15,
   "id": "7f47e3e9",
   "metadata": {},
   "outputs": [
    {
     "name": "stdout",
     "output_type": "stream",
     "text": [
      "[34, 54, 576, 756]\n"
     ]
    }
   ],
   "source": [
    "lst = [423,34,53,54,665,65,567,576,756]\n",
    "\n",
    "evn_seperator(lst)"
   ]
  },
  {
   "cell_type": "code",
   "execution_count": 16,
   "id": "7eca758f",
   "metadata": {},
   "outputs": [
    {
     "data": {
      "text/plain": [
       "[34, 54, 576, 756]"
      ]
     },
     "execution_count": 16,
     "metadata": {},
     "output_type": "execute_result"
    }
   ],
   "source": [
    "even_list"
   ]
  },
  {
   "cell_type": "markdown",
   "id": "caa4c943",
   "metadata": {},
   "source": [
    "# Return \n",
    "\n",
    "- It is optional\n",
    "- If the return is not used by default every function returns None\n",
    "- We use return to bring any value outside the function\n",
    "- A return can be used only once inside a function\n",
    "- You can return any data type"
   ]
  },
  {
   "cell_type": "code",
   "execution_count": 17,
   "id": "8c5639e8",
   "metadata": {},
   "outputs": [
    {
     "name": "stdout",
     "output_type": "stream",
     "text": [
      "30\n"
     ]
    }
   ],
   "source": [
    "def adder(a,b):\n",
    "    print(a + b)\n",
    "    \n",
    "    \n",
    "adder(10,20)"
   ]
  },
  {
   "cell_type": "code",
   "execution_count": 23,
   "id": "e71cab67",
   "metadata": {},
   "outputs": [
    {
     "name": "stdout",
     "output_type": "stream",
     "text": [
      "30\n"
     ]
    }
   ],
   "source": [
    "def adder(a,b):\n",
    "    c = a + b\n",
    "    print(c)\n",
    "        \n",
    "re = adder(10,20)"
   ]
  },
  {
   "cell_type": "code",
   "execution_count": 24,
   "id": "3b972d4f",
   "metadata": {},
   "outputs": [
    {
     "name": "stdout",
     "output_type": "stream",
     "text": [
      "None\n"
     ]
    }
   ],
   "source": [
    "print(re)"
   ]
  },
  {
   "cell_type": "code",
   "execution_count": 25,
   "id": "1763be3c",
   "metadata": {},
   "outputs": [],
   "source": [
    "def adder(a,b):\n",
    "    c = a + b\n",
    "    return c\n",
    "        \n",
    "re = adder(10,20)"
   ]
  },
  {
   "cell_type": "code",
   "execution_count": 26,
   "id": "5fc65243",
   "metadata": {},
   "outputs": [
    {
     "name": "stdout",
     "output_type": "stream",
     "text": [
      "30\n"
     ]
    }
   ],
   "source": [
    "print(re)"
   ]
  },
  {
   "cell_type": "code",
   "execution_count": 22,
   "id": "3204ae26",
   "metadata": {},
   "outputs": [
    {
     "data": {
      "text/plain": [
       "30"
      ]
     },
     "execution_count": 22,
     "metadata": {},
     "output_type": "execute_result"
    }
   ],
   "source": [
    "def adder(a,b):\n",
    "    c = a + b\n",
    "    return c\n",
    "        \n",
    "adder(10,20)"
   ]
  },
  {
   "cell_type": "code",
   "execution_count": 28,
   "id": "b94f8c13",
   "metadata": {},
   "outputs": [
    {
     "data": {
      "text/plain": [
       "[23, 34, 45, 54]"
      ]
     },
     "execution_count": 28,
     "metadata": {},
     "output_type": "execute_result"
    }
   ],
   "source": [
    "def adder(a,b):\n",
    "    c = a + b\n",
    "    return [23,34,45,54]\n",
    "        \n",
    "adder(10,20)"
   ]
  },
  {
   "cell_type": "code",
   "execution_count": 29,
   "id": "46c36018",
   "metadata": {},
   "outputs": [
    {
     "data": {
      "text/plain": [
       "';Hi'"
      ]
     },
     "execution_count": 29,
     "metadata": {},
     "output_type": "execute_result"
    }
   ],
   "source": [
    "def adder(a,b):\n",
    "    c = a + b\n",
    "    return 'Hi'\n",
    "        \n",
    "adder(10,20)"
   ]
  },
  {
   "cell_type": "code",
   "execution_count": 31,
   "id": "bb6e97d2",
   "metadata": {},
   "outputs": [
    {
     "data": {
      "text/plain": [
       "{'a': 5}"
      ]
     },
     "execution_count": 31,
     "metadata": {},
     "output_type": "execute_result"
    }
   ],
   "source": [
    "def adder(a,b):\n",
    "    c = a + b\n",
    "    return {'a':5}\n",
    "        \n",
    "adder(10,20)"
   ]
  },
  {
   "cell_type": "code",
   "execution_count": 34,
   "id": "b299da54",
   "metadata": {},
   "outputs": [
    {
     "data": {
      "text/plain": [
       "30"
      ]
     },
     "execution_count": 34,
     "metadata": {},
     "output_type": "execute_result"
    }
   ],
   "source": [
    "def adder(a,b):\n",
    "    c = a + b\n",
    "    d = a - b\n",
    "    return c\n",
    "    return d\n",
    "        \n",
    "adder(10,20)"
   ]
  },
  {
   "cell_type": "code",
   "execution_count": 35,
   "id": "c7484546",
   "metadata": {},
   "outputs": [
    {
     "data": {
      "text/plain": [
       "(30, -10)"
      ]
     },
     "execution_count": 35,
     "metadata": {},
     "output_type": "execute_result"
    }
   ],
   "source": [
    "def adder(a,b):\n",
    "    c = a + b\n",
    "    d = a - b\n",
    "    return c,d\n",
    "        \n",
    "adder(10,20)"
   ]
  },
  {
   "cell_type": "code",
   "execution_count": null,
   "id": "f77b6409",
   "metadata": {},
   "outputs": [],
   "source": [
    "def adder(a,b):\n",
    "    c = a + b\n",
    "    d = a - b\n",
    "    return c\n",
    "    return d\n",
    "        \n",
    "adder(10,20)"
   ]
  },
  {
   "cell_type": "code",
   "execution_count": 36,
   "id": "529b7446",
   "metadata": {},
   "outputs": [],
   "source": [
    "def palindrom(x):\n",
    "    if x == x[::-1]:\n",
    "        return ('Palindrom')\n",
    "    else:\n",
    "        return ('Not a palindrom')"
   ]
  },
  {
   "cell_type": "code",
   "execution_count": 61,
   "id": "c5f2647c",
   "metadata": {},
   "outputs": [
    {
     "data": {
      "text/plain": [
       "'Palindrom'"
      ]
     },
     "execution_count": 61,
     "metadata": {},
     "output_type": "execute_result"
    }
   ],
   "source": [
    "a = 'level'\n",
    "\n",
    "palindrom(a)"
   ]
  },
  {
   "cell_type": "code",
   "execution_count": 38,
   "id": "6705bb8a",
   "metadata": {},
   "outputs": [
    {
     "data": {
      "text/plain": [
       "'Not a palindrom'"
      ]
     },
     "execution_count": 38,
     "metadata": {},
     "output_type": "execute_result"
    }
   ],
   "source": [
    "palindrom('python')"
   ]
  },
  {
   "cell_type": "code",
   "execution_count": 51,
   "id": "1a188e1f",
   "metadata": {},
   "outputs": [],
   "source": [
    "def fun(a,b):\n",
    "    global c\n",
    "    global d\n",
    "    c = a+b\n",
    "    d = a-b\n",
    "    i = 0\n",
    "    while i<5:\n",
    "        j = 'Hello'\n",
    "        i += 1\n",
    "    print(j)"
   ]
  },
  {
   "cell_type": "code",
   "execution_count": 52,
   "id": "b84f1612",
   "metadata": {},
   "outputs": [
    {
     "name": "stdout",
     "output_type": "stream",
     "text": [
      "Hello\n"
     ]
    }
   ],
   "source": [
    "fun(10, 20)"
   ]
  },
  {
   "cell_type": "code",
   "execution_count": 55,
   "id": "fe011849",
   "metadata": {},
   "outputs": [],
   "source": [
    "lst = [23,3,4,4,5,56,6,6,7,7,8,8,99,9,9,0,6,54]\n",
    "\n",
    "\n",
    "# Func \n",
    "\n",
    "def seperator(l):\n",
    "    e_l = []\n",
    "    o_l = []\n",
    "    for i in l:\n",
    "        if i%2==0:\n",
    "            e_l.append(i)\n",
    "        else:\n",
    "            o_l.append(i)\n",
    "    return e_l , o_l\n",
    "    \n",
    "    \n",
    "even , odd = seperator(lst)"
   ]
  },
  {
   "cell_type": "code",
   "execution_count": 56,
   "id": "653b8ba1",
   "metadata": {},
   "outputs": [
    {
     "name": "stdout",
     "output_type": "stream",
     "text": [
      "[4, 4, 56, 6, 6, 8, 8, 0, 6, 54]\n"
     ]
    }
   ],
   "source": [
    "print(even)"
   ]
  },
  {
   "cell_type": "code",
   "execution_count": 57,
   "id": "8b66b722",
   "metadata": {},
   "outputs": [
    {
     "name": "stdout",
     "output_type": "stream",
     "text": [
      "[23, 3, 5, 7, 7, 99, 9, 9]\n"
     ]
    }
   ],
   "source": [
    "print(odd)"
   ]
  },
  {
   "cell_type": "code",
   "execution_count": null,
   "id": "cda419c4",
   "metadata": {},
   "outputs": [],
   "source": [
    "lst = [23,3,4,4,5,56,6,6,7,7,8,8,99,9,9,0,6,54]\n",
    "\n",
    "\n",
    "# Func \n",
    "\n",
    "def seperator(l):\n",
    "    e_l = []\n",
    "    o_l = []\n",
    "    for i in l:\n",
    "        if i%2==0:\n",
    "            e_l.append(i)\n",
    "        else:\n",
    "            o_l.append(i)\n",
    "    return e_l , o_l\n",
    "    \n",
    "    \n",
    "even , odd = seperator(lst)"
   ]
  },
  {
   "cell_type": "code",
   "execution_count": 1,
   "id": "fb52a165",
   "metadata": {},
   "outputs": [
    {
     "data": {
      "text/plain": [
       "(30, -10)"
      ]
     },
     "execution_count": 1,
     "metadata": {},
     "output_type": "execute_result"
    }
   ],
   "source": [
    "def adder(a,b):\n",
    "    c = a + b\n",
    "    d = a - b\n",
    "    return c,d\n",
    "        \n",
    "adder(10,20)"
   ]
  },
  {
   "cell_type": "code",
   "execution_count": 2,
   "id": "3c214e10",
   "metadata": {},
   "outputs": [
    {
     "ename": "NameError",
     "evalue": "name 'c' is not defined",
     "output_type": "error",
     "traceback": [
      "\u001b[1;31m---------------------------------------------------------------------------\u001b[0m",
      "\u001b[1;31mNameError\u001b[0m                                 Traceback (most recent call last)",
      "Cell \u001b[1;32mIn[2], line 1\u001b[0m\n\u001b[1;32m----> 1\u001b[0m c\n",
      "\u001b[1;31mNameError\u001b[0m: name 'c' is not defined"
     ]
    }
   ],
   "source": [
    "c"
   ]
  },
  {
   "cell_type": "code",
   "execution_count": 1,
   "id": "d4ff4c8b",
   "metadata": {},
   "outputs": [],
   "source": [
    "def adder(a,b):\n",
    "    global c\n",
    "    global d\n",
    "    c = a + b\n",
    "    d = a - b\n",
    "    \n",
    "adder(10,20)"
   ]
  },
  {
   "cell_type": "code",
   "execution_count": 2,
   "id": "7d1a82e6",
   "metadata": {},
   "outputs": [
    {
     "data": {
      "text/plain": [
       "30"
      ]
     },
     "execution_count": 2,
     "metadata": {},
     "output_type": "execute_result"
    }
   ],
   "source": [
    "c"
   ]
  },
  {
   "cell_type": "code",
   "execution_count": 8,
   "id": "58c7c0dc",
   "metadata": {},
   "outputs": [
    {
     "data": {
      "text/plain": [
       "[4, 4, 56, 6, 6, 8, 8, 0, 6, 54]"
      ]
     },
     "execution_count": 8,
     "metadata": {},
     "output_type": "execute_result"
    }
   ],
   "source": [
    "lst = [23,3,4,4,5,56,6,6,7,7,8,8,99,9,9,0,6,54]\n",
    "\n",
    "\n",
    "# Func \n",
    "\n",
    "def seperator(l):\n",
    "    e_l = []\n",
    "    for i in l:\n",
    "        if i%2==0:\n",
    "            e_l.append(i)\n",
    "            \n",
    "    return e_l\n",
    "           \n",
    "seperator(lst)"
   ]
  },
  {
   "cell_type": "code",
   "execution_count": 11,
   "id": "72b772a5",
   "metadata": {},
   "outputs": [
    {
     "data": {
      "text/plain": [
       "[4, 4, 56, 6, 6, 8, 8, 0, 6, 54]"
      ]
     },
     "execution_count": 11,
     "metadata": {},
     "output_type": "execute_result"
    }
   ],
   "source": [
    "lst = [23,3,4,4,5,56,6,6,7,7,8,8,99,9,9,0,6,54]\n",
    "\n",
    "\n",
    "# Func \n",
    "\n",
    "def seperator(l):\n",
    "    e_l = []\n",
    "    for i in l:\n",
    "        if i%2==0:\n",
    "            yield i \n",
    "           \n",
    "list(seperator(lst))"
   ]
  },
  {
   "cell_type": "code",
   "execution_count": 10,
   "id": "f9f33b49",
   "metadata": {},
   "outputs": [
    {
     "data": {
      "text/plain": [
       "4"
      ]
     },
     "execution_count": 10,
     "metadata": {},
     "output_type": "execute_result"
    }
   ],
   "source": [
    "lst = [23,3,4,4,5,56,6,6,7,7,8,8,99,9,9,0,6,54]\n",
    "\n",
    "\n",
    "# Func \n",
    "\n",
    "def seperator(l):\n",
    "    e_l = []\n",
    "    for i in l:\n",
    "        if i%2==0:\n",
    "            return i \n",
    "           \n",
    "seperator(lst)"
   ]
  },
  {
   "cell_type": "code",
   "execution_count": 12,
   "id": "d2df09b6",
   "metadata": {},
   "outputs": [],
   "source": [
    "lst = 'xyz@gmail.com' , 'abc@yahoo.com' , 'pqr@gmail.com'"
   ]
  },
  {
   "cell_type": "code",
   "execution_count": 13,
   "id": "ece8b0c7",
   "metadata": {},
   "outputs": [],
   "source": [
    "def funct(l):\n",
    "    g = []\n",
    "    for i in l:\n",
    "        if i.endswith('gmail.com'):\n",
    "            g.append(i)\n",
    "            \n",
    "    return g"
   ]
  },
  {
   "cell_type": "code",
   "execution_count": 14,
   "id": "472d78f5",
   "metadata": {},
   "outputs": [
    {
     "data": {
      "text/plain": [
       "['xyz@gmail.com', 'pqr@gmail.com']"
      ]
     },
     "execution_count": 14,
     "metadata": {},
     "output_type": "execute_result"
    }
   ],
   "source": [
    "funct(lst)"
   ]
  },
  {
   "cell_type": "code",
   "execution_count": 15,
   "id": "a1fb74ae",
   "metadata": {},
   "outputs": [],
   "source": [
    "def funct(l):\n",
    "    for i in l:\n",
    "        if i.endswith('gmail.com'):\n",
    "            yield i"
   ]
  },
  {
   "cell_type": "code",
   "execution_count": 17,
   "id": "763d2e5d",
   "metadata": {},
   "outputs": [
    {
     "data": {
      "text/plain": [
       "['xyz@gmail.com', 'pqr@gmail.com']"
      ]
     },
     "execution_count": 17,
     "metadata": {},
     "output_type": "execute_result"
    }
   ],
   "source": [
    "list(funct(lst))"
   ]
  },
  {
   "cell_type": "code",
   "execution_count": 21,
   "id": "3e543131",
   "metadata": {},
   "outputs": [
    {
     "name": "stdout",
     "output_type": "stream",
     "text": [
      "xyz@gmail.com\n",
      "pqr@gmail.com\n"
     ]
    }
   ],
   "source": [
    "for i in funct(lst):\n",
    "    print(i)"
   ]
  },
  {
   "cell_type": "code",
   "execution_count": 23,
   "id": "9b922fa5",
   "metadata": {},
   "outputs": [],
   "source": [
    "lst = ['akzelxw@hotmail.com', \n",
    " 'elum@gmail.com', \n",
    " 'akbar.caakaterasu@gmail.com', \n",
    " 'akarui.kibuno@gmail.com', \n",
    " 'ajsparkchick@hotmail.com', \n",
    " 'ajmeia@yahoo.com', \n",
    " 'ajhnstn87@gmail.com', \n",
    " 'ailuvzhoko4@hotmail.com', \n",
    " 'ailuvzhoko3@hotmail.com', \n",
    " 'ailuvzhoko2@hotmail.com', \n",
    " 'ailuvzhoko@hotmail.com', \n",
    " 'aillensiquioco@aol.com', \n",
    " 'ahmovic_ines@hotmail.com', \n",
    " 'ahmed_g300@yahoo.com', \n",
    " 'ahmadjazlan@gmail.com', \n",
    " 'ahmad_ridho19@yahoo.com']\n",
    "\n",
    "\n",
    "\n",
    "# Extract the user names of gmail id?\n",
    "\n",
    "def extract_gmail_usernames(l):\n",
    "    for i in l:\n",
    "        if i.endswith('gmail.com'):\n",
    "            yield i.split('@')[0]"
   ]
  },
  {
   "cell_type": "code",
   "execution_count": 26,
   "id": "d17afbfc",
   "metadata": {},
   "outputs": [
    {
     "data": {
      "text/plain": [
       "['elum', 'akbar.caakaterasu', 'akarui.kibuno', 'ajhnstn87', 'ahmadjazlan']"
      ]
     },
     "execution_count": 26,
     "metadata": {},
     "output_type": "execute_result"
    }
   ],
   "source": [
    "list(extract_gmail_usernames(l = lst))"
   ]
  },
  {
   "cell_type": "code",
   "execution_count": 27,
   "id": "1233b000",
   "metadata": {},
   "outputs": [
    {
     "data": {
      "text/plain": [
       "['elum', 'akbar.caakaterasu', 'akarui.kibuno', 'ajhnstn87', 'ahmadjazlan']"
      ]
     },
     "execution_count": 27,
     "metadata": {},
     "output_type": "execute_result"
    }
   ],
   "source": [
    "list(extract_gmail_usernames(l = lst))"
   ]
  },
  {
   "cell_type": "code",
   "execution_count": 28,
   "id": "e0e8353e",
   "metadata": {},
   "outputs": [],
   "source": [
    "lst = ['akzelxw@hotmail.com', \n",
    " 'elum@gmail.com', \n",
    " 'akbar.caakaterasu@gmail.com', \n",
    " 'akarui.kibuno@gmail.com', \n",
    " 'ajsparkchick@hotmail.com', \n",
    " 'ajmeia@yahoo.com', \n",
    " 'ajhnstn87@gmail.com', \n",
    " 'ailuvzhoko4@hotmail.com', \n",
    " 'ailuvzhoko3@hotmail.com', \n",
    " 'ailuvzhoko2@hotmail.com', \n",
    " 'ailuvzhoko@hotmail.com', \n",
    " 'aillensiquioco@aol.com', \n",
    " 'ahmovic_ines@hotmail.com', \n",
    " 'ahmed_g300@yahoo.com', \n",
    " 'ahmadjazlan@gmail.com', \n",
    " 'ahmad_ridho19@yahoo.com']\n",
    "\n",
    "\n",
    "\n",
    "# Extract the user names of gmail id?\n",
    "\n",
    "def extract_gmail_usernames(l):\n",
    "    g = []\n",
    "    for i in l:\n",
    "        if i.endswith('gmail.com'):\n",
    "            g.append(i.split('@')[0])\n",
    "    return g"
   ]
  },
  {
   "cell_type": "code",
   "execution_count": 29,
   "id": "029cc9a1",
   "metadata": {},
   "outputs": [
    {
     "data": {
      "text/plain": [
       "['elum', 'akbar.caakaterasu', 'akarui.kibuno', 'ajhnstn87', 'ahmadjazlan']"
      ]
     },
     "execution_count": 29,
     "metadata": {},
     "output_type": "execute_result"
    }
   ],
   "source": [
    "extract_gmail_usernames(l = lst)"
   ]
  },
  {
   "cell_type": "code",
   "execution_count": 30,
   "id": "ae531203",
   "metadata": {},
   "outputs": [
    {
     "name": "stdout",
     "output_type": "stream",
     "text": [
      "None\n"
     ]
    }
   ],
   "source": [
    "l = [2,3,4,5]\n",
    "\n",
    "print(l.append(100))"
   ]
  },
  {
   "cell_type": "code",
   "execution_count": 31,
   "id": "24b12c65",
   "metadata": {},
   "outputs": [
    {
     "data": {
      "text/plain": [
       "[2, 3, 4, 5, 100]"
      ]
     },
     "execution_count": 31,
     "metadata": {},
     "output_type": "execute_result"
    }
   ],
   "source": [
    "l"
   ]
  },
  {
   "cell_type": "code",
   "execution_count": null,
   "id": "5c8d69c5",
   "metadata": {},
   "outputs": [],
   "source": [
    "2,3,4,5,10\n",
    "\n",
    "\n",
    "None"
   ]
  },
  {
   "cell_type": "markdown",
   "id": "8ee69070",
   "metadata": {},
   "source": [
    "# Recursive function"
   ]
  },
  {
   "cell_type": "code",
   "execution_count": 32,
   "id": "40fcf71d",
   "metadata": {},
   "outputs": [],
   "source": [
    "\n",
    "lst = [['Sriram' , 29] ,  ['Mithun' , 37] , ['Chetan' , 27]  , ['Jayanth',37] , ['Santhosh' ,25] , ['Ashok' , 40]]\n",
    "\n",
    "\n",
    "\n",
    "# output:- ['Santhosh' ,25] ,  ['Chetan' , 27] , ['Sriram' , 29] , ['Jayanth',37] , ['Mithun' , 37] , ['Ashok' , 40]"
   ]
  },
  {
   "cell_type": "code",
   "execution_count": 34,
   "id": "307607b5",
   "metadata": {},
   "outputs": [
    {
     "name": "stdout",
     "output_type": "stream",
     "text": [
      "[['Santhosh', 25], ['Chetan', 27], ['Sriram', 29], ['Abc', 37], ['Jayanth', 37], ['Mithun', 37], ['Ashok', 40]]\n"
     ]
    }
   ],
   "source": [
    "lst = [['Sriram' , 29] ,  ['Mithun' , 37] , ['Chetan' , 27]  , ['Jayanth',37] ,['Abc',37] \n",
    "       , ['Santhosh' ,25] , ['Ashok' , 40]]\n",
    "\n",
    "\n",
    "for i in range(len(lst)):\n",
    "    for j in range(len(lst)-1-i): #0,1,2\n",
    "        if(lst[i][-1] > lst[j+1+i][-1]):\n",
    "            local=lst[i]\n",
    "            lst[i]=lst[j+1+i]\n",
    "            lst[j+1+i]=local\n",
    "        elif(lst[i][-1] == lst[j+1+i][-1]):\n",
    "            if(lst[i][0] > lst[j+1+i][0]):\n",
    "                local=lst[i]\n",
    "                lst[i]=lst[j+1+i]\n",
    "                lst[j+1+i]=local\n",
    "            \n",
    "print(lst)\n"
   ]
  },
  {
   "cell_type": "code",
   "execution_count": 44,
   "id": "9c06dcde",
   "metadata": {},
   "outputs": [
    {
     "name": "stdout",
     "output_type": "stream",
     "text": [
      "[['Santhosh', 25], ['Chetan', 27], ['Sriram', 29], ['Jayanth', 37], ['Mithun', 37], ['Abc', 37], ['Ashok', 40]]\n"
     ]
    }
   ],
   "source": [
    "lst = [['Sriram', 29], ['Mithun', 37], ['Chetan', 27] , ['Jayanth', 37], ['Santhosh', 25], ['Ashok', 40] , ['Abc',37]]\n",
    "\n",
    "for i in range(len(lst) - 1):\n",
    "    for j in range(i + 1, len(lst)):\n",
    "        if lst[i][1] > lst[j][1]:\n",
    "            lst[i], lst[j] = lst[j], lst[i]\n",
    "\n",
    "print(lst)\n"
   ]
  },
  {
   "cell_type": "code",
   "execution_count": 38,
   "id": "1daf6c1e",
   "metadata": {},
   "outputs": [
    {
     "name": "stdout",
     "output_type": "stream",
     "text": [
      "[['Santhosh', 25], ['Chetan', 27], ['Sriram', 29], ['Abc', 37], ['Jayanth', 37], ['Mithun', 37], ['Ashok', 40]]\n"
     ]
    }
   ],
   "source": [
    "lst = [['Sriram' , 29] ,  ['Mithun' , 37] , ['Chetan' , 27]  , ['Jayanth',37], ['Santhosh' ,25] , ['Ashok' , 40] ,['Abc',37] ]\n",
    "\n",
    "\n",
    "for i in range(len(lst)):\n",
    "    for j in range(len(lst)-1-i): #0,1,2\n",
    "        if(lst[i][-1] > lst[j+1+i][-1]):\n",
    "            local=lst[i]\n",
    "            lst[i]=lst[j+1+i]\n",
    "            lst[j+1+i]=local\n",
    "        elif(lst[i][-1] == lst[j+1+i][-1]):\n",
    "            if(lst[i][0] > lst[j+1+i][0]):\n",
    "                local=lst[i]\n",
    "                lst[i]=lst[j+1+i]\n",
    "                lst[j+1+i]=local\n",
    "            \n",
    "print(lst)\n"
   ]
  },
  {
   "cell_type": "code",
   "execution_count": 40,
   "id": "10d2dc40",
   "metadata": {},
   "outputs": [],
   "source": [
    "lst = [['Sriram', 29], ['Mithun', 37], ['Chetan', 27] , ['Jayanth', 37], ['Santhosh', 25], ['Ashok', 40] , ['Abc',37]]\n",
    "\n",
    "for i in range()\n"
   ]
  },
  {
   "cell_type": "code",
   "execution_count": null,
   "id": "8c2861ac",
   "metadata": {},
   "outputs": [],
   "source": []
  },
  {
   "cell_type": "code",
   "execution_count": 49,
   "id": "733d08ea",
   "metadata": {},
   "outputs": [
    {
     "data": {
      "text/plain": [
       "['23', '3', '342', '45333', '4556', '566']"
      ]
     },
     "execution_count": 49,
     "metadata": {},
     "output_type": "execute_result"
    }
   ],
   "source": [
    "lst = ['23','342','45333','4556','566' , '3']\n",
    "\n",
    "\n",
    "lst.sort()\n",
    "\n",
    "lst"
   ]
  },
  {
   "cell_type": "code",
   "execution_count": 48,
   "id": "4ef315c8",
   "metadata": {},
   "outputs": [
    {
     "data": {
      "text/plain": [
       "['3', '23', '342', '566', '4556', '45333']"
      ]
     },
     "execution_count": 48,
     "metadata": {},
     "output_type": "execute_result"
    }
   ],
   "source": [
    "lst = ['23','342','45333','4556','566' , '3']\n",
    "\n",
    "lst.sort(key = len)\n",
    "\n",
    "lst"
   ]
  },
  {
   "cell_type": "code",
   "execution_count": 66,
   "id": "4c5fc05d",
   "metadata": {},
   "outputs": [
    {
     "name": "stdout",
     "output_type": "stream",
     "text": [
      "[['Santhosh', 25], ['Chetan', 27], ['Sriram', 29], ['Abc', 37], ['Jayanth', 37], ['Mithun', 37], ['Ashok', 40]]\n"
     ]
    }
   ],
   "source": [
    "def fun(a):\n",
    "    return a[-1]\n",
    "\n",
    "def func_1(m):\n",
    "    n = m[0]\n",
    "    return ord(n[0])\n",
    "\n",
    "\n",
    "lst = [['Sriram', 29], ['Mithun', 37], ['Chetan', 27] , ['Jayanth', 37], ['Santhosh', 25], ['Ashok', 40] , ['Abc',37]]\n",
    "\n",
    "lst.sort(key = func_1)\n",
    "\n",
    "lst.sort(key = fun)\n",
    "\n",
    "print(lst)"
   ]
  },
  {
   "cell_type": "code",
   "execution_count": 84,
   "id": "58531050",
   "metadata": {},
   "outputs": [
    {
     "name": "stdout",
     "output_type": "stream",
     "text": [
      "[['Santhosh', 25], ['Chetan', 27], ['Sriram', 29], ['Abc', 37], ['Jayanth', 37], ['Mithun', 37], ['Ashok', 40]]\n"
     ]
    }
   ],
   "source": [
    "lst = [['Abc',37] , ['Sriram', 29], ['Mithun', 37], ['Chetan', 27] , ['Jayanth', 37], ['Santhosh', 25], ['Ashok', 40]]\n",
    "\n",
    "\n",
    "for i in range(len(lst)):\n",
    "    for j in range(len(lst) - i - 1):\n",
    "        if  lst[j][-1] == lst[j+1][-1]:\n",
    "            if lst[j][0] > lst[j+1][0]:\n",
    "                lst[j] , lst[j+1] = lst[j+1] , lst[j]\n",
    "        elif lst[j][-1] > lst[j+1][-1]:\n",
    "            lst[j] , lst[j+1] = lst[j+1] , lst[j]\n",
    "\n",
    "            \n",
    "print(lst)"
   ]
  },
  {
   "cell_type": "code",
   "execution_count": null,
   "id": "bcc5329a",
   "metadata": {},
   "outputs": [],
   "source": []
  }
 ],
 "metadata": {
  "kernelspec": {
   "display_name": "Python 3 (ipykernel)",
   "language": "python",
   "name": "python3"
  },
  "language_info": {
   "codemirror_mode": {
    "name": "ipython",
    "version": 3
   },
   "file_extension": ".py",
   "mimetype": "text/x-python",
   "name": "python",
   "nbconvert_exporter": "python",
   "pygments_lexer": "ipython3",
   "version": "3.11.4"
  }
 },
 "nbformat": 4,
 "nbformat_minor": 5
}
