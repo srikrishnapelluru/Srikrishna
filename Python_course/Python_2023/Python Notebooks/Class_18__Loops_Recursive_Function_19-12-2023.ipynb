{
 "cells": [
  {
   "cell_type": "code",
   "execution_count": 1,
   "id": "23d7b746",
   "metadata": {},
   "outputs": [],
   "source": [
    "lst = [43,23,45,65,34,76,34]"
   ]
  },
  {
   "cell_type": "code",
   "execution_count": null,
   "id": "dd2ccb34",
   "metadata": {},
   "outputs": [],
   "source": [
    "- ascending"
   ]
  },
  {
   "cell_type": "code",
   "execution_count": null,
   "id": "e94d7b37",
   "metadata": {},
   "outputs": [],
   "source": [
    "43,23,45,65,34,76,34\n",
    "\n",
    "23,43,45,65,34,76,34\n",
    "\n",
    "23,43,45,65,34,76,34\n",
    "\n",
    "23,43,45,65,34,76,34\n",
    "\n",
    "23,43,45,34,65,76,34\n",
    "\n",
    "23,43,45,34,65,76,34\n",
    "\n",
    "23,43,45,34,65,34,76"
   ]
  },
  {
   "cell_type": "code",
   "execution_count": 34,
   "id": "f5cf44ee",
   "metadata": {},
   "outputs": [],
   "source": [
    "lst = [43,23,45,65,34,76,34]"
   ]
  },
  {
   "cell_type": "code",
   "execution_count": 35,
   "id": "40d555d4",
   "metadata": {},
   "outputs": [
    {
     "name": "stdout",
     "output_type": "stream",
     "text": [
      "0\n",
      "1\n",
      "2\n",
      "3\n",
      "4\n",
      "5\n",
      "6\n"
     ]
    }
   ],
   "source": [
    "for i in range(len(lst)):\n",
    "    print(i)"
   ]
  },
  {
   "cell_type": "code",
   "execution_count": 39,
   "id": "0b914dce",
   "metadata": {
    "scrolled": true
   },
   "outputs": [
    {
     "data": {
      "text/plain": [
       "[76, 65, 45, 43, 34, 34, 23]"
      ]
     },
     "execution_count": 39,
     "metadata": {},
     "output_type": "execute_result"
    }
   ],
   "source": [
    "lst = [43,23,45,65,34,76,34]\n",
    "for j in range(len(lst)):\n",
    "    for i in range(len(lst)- j  - 1):\n",
    "        if lst[i]< lst[i+1]:\n",
    "            lst[i] , lst[i+1] = lst[i+1] , lst[i]\n",
    "            \n",
    "            \n",
    "lst"
   ]
  },
  {
   "cell_type": "code",
   "execution_count": 50,
   "id": "a0f75623",
   "metadata": {},
   "outputs": [],
   "source": [
    "lst = [43,23,45,65,34,76,34]"
   ]
  },
  {
   "cell_type": "code",
   "execution_count": 55,
   "id": "5e0a2b2f",
   "metadata": {},
   "outputs": [],
   "source": [
    "for i in range(len(lst)-j - 1):\n",
    "        if lst[i]> lst[i+1]:\n",
    "            lst[i] , lst[i+1] = lst[i+1] , lst[i]"
   ]
  },
  {
   "cell_type": "code",
   "execution_count": 58,
   "id": "c6c11cb7",
   "metadata": {},
   "outputs": [
    {
     "name": "stdout",
     "output_type": "stream",
     "text": [
      "0\n",
      "1\n",
      "2\n",
      "3\n",
      "4\n",
      "5\n",
      "6\n"
     ]
    }
   ],
   "source": [
    "for j in range(len(lst)):\n",
    "    for i in range(len(lst)-j - 1):\n",
    "        if lst[i]> lst[i+1]:\n",
    "            lst[i] , lst[i+1] = lst[i+1] , lst[i]"
   ]
  },
  {
   "cell_type": "code",
   "execution_count": 59,
   "id": "27b2464c",
   "metadata": {},
   "outputs": [
    {
     "name": "stdout",
     "output_type": "stream",
     "text": [
      "[['Santhosh', 25], ['Chetan', 27], ['Sriram', 29], ['Abc', 37], ['Jayanth', 37], ['Mithun', 37], ['Ashok', 40]]\n"
     ]
    }
   ],
   "source": [
    "lst = [['Abc',37] , ['Sriram', 29], ['Mithun', 37], ['Chetan', 27] , ['Jayanth', 37], ['Santhosh', 25], ['Ashok', 40]]\n",
    "\n",
    "\n",
    "for i in range(len(lst)):\n",
    "    for j in range(len(lst) - i - 1):\n",
    "        if  lst[j][-1] == lst[j+1][-1]:\n",
    "            if lst[j][0] > lst[j+1][0]:\n",
    "                lst[j] , lst[j+1] = lst[j+1] , lst[j]\n",
    "        elif lst[j][-1] > lst[j+1][-1]:\n",
    "            lst[j] , lst[j+1] = lst[j+1] , lst[j]\n",
    "\n",
    "            \n",
    "print(lst)"
   ]
  },
  {
   "cell_type": "code",
   "execution_count": 96,
   "id": "17103278",
   "metadata": {},
   "outputs": [
    {
     "data": {
      "text/plain": [
       "[['Santhosh', 25, 2],\n",
       " ['Sriram', 29, 3],\n",
       " ['Chetan', 27, 4],\n",
       " ['Abc', 37, 8],\n",
       " ['Salahudin', 37, 8],\n",
       " ['Mithun', 38, 8],\n",
       " ['Jayanth', 37, 13],\n",
       " ['Ashok', 40, 17]]"
      ]
     },
     "execution_count": 96,
     "metadata": {},
     "output_type": "execute_result"
    }
   ],
   "source": [
    "lst = [['Salahudin',37, 8] , ['Sriram', 29 , 3], ['Mithun', 38 , 8],\n",
    "       ['Chetan', 27 , 4] , ['Jayanth', 37 , 13], ['Santhosh', 25 , 2], ['Ashok', 40 , 17] , ['Abc' , 37 , 8]]\n",
    "\n",
    "# - 1. Sort my data  exp\n",
    "# - 2. Sort the data grades\n",
    "# - 3. alphabetic order \n",
    "\n",
    "for i in range(len(lst)):\n",
    "    for j in range(len(lst)-1-i):\n",
    "        if lst[j][-1]>lst[j+1][-1]: # exp\n",
    "            lst[j] , lst[j+1] = lst[j+1] , lst[j]\n",
    "        elif lst[j][-1] == lst[j+1][-1]: # Grades\n",
    "            if lst[j][1] > lst[j+1][1]:\n",
    "                lst[j] , lst[j+1] = lst[j+1] , lst[j]\n",
    "            elif lst[j][1] == lst[j+1][1]: # Alpha\n",
    "                if lst[j][0] > lst[j+1][0]:\n",
    "                    lst[j] , lst[j+1] = lst[j+1] , lst[j]\n",
    "            \n",
    "            \n",
    "lst"
   ]
  },
  {
   "cell_type": "code",
   "execution_count": 102,
   "id": "665609a3",
   "metadata": {},
   "outputs": [
    {
     "data": {
      "text/plain": [
       "[['Santhosh', 25, 2],\n",
       " ['Sriram', 29, 3],\n",
       " ['Chetan', 27, 4],\n",
       " ['Abc', 37, 8],\n",
       " ['Salahudin', 37, 8],\n",
       " ['Mithun', 38, 8],\n",
       " ['Jayanth', 37, 13],\n",
       " ['Ashok', 40, 17]]"
      ]
     },
     "execution_count": 102,
     "metadata": {},
     "output_type": "execute_result"
    }
   ],
   "source": [
    "lst = [['Salahudin',37, 8] , ['Sriram', 29 , 3], ['Mithun', 38 , 8],\n",
    "       ['Chetan', 27 , 4] , ['Jayanth', 37 , 13], ['Santhosh', 25 , 2], ['Ashok', 40 , 17] , ['Abc' , 37 , 8]]\n",
    "\n",
    "def exp(a):\n",
    "    return a[-1]\n",
    "\n",
    "\n",
    "def grades(a):\n",
    "    return a[-2]\n",
    "\n",
    "\n",
    "def names(a):\n",
    "    return a[0]\n",
    "\n",
    "\n",
    "lst.sort(key = names)\n",
    "lst.sort(key = grades)\n",
    "lst.sort(key = exp)\n",
    "\n",
    "lst"
   ]
  },
  {
   "cell_type": "code",
   "execution_count": 91,
   "id": "160fac59",
   "metadata": {},
   "outputs": [
    {
     "data": {
      "text/html": [
       "<div>\n",
       "<style scoped>\n",
       "    .dataframe tbody tr th:only-of-type {\n",
       "        vertical-align: middle;\n",
       "    }\n",
       "\n",
       "    .dataframe tbody tr th {\n",
       "        vertical-align: top;\n",
       "    }\n",
       "\n",
       "    .dataframe thead th {\n",
       "        text-align: right;\n",
       "    }\n",
       "</style>\n",
       "<table border=\"1\" class=\"dataframe\">\n",
       "  <thead>\n",
       "    <tr style=\"text-align: right;\">\n",
       "      <th></th>\n",
       "      <th>Name</th>\n",
       "      <th>Grade</th>\n",
       "      <th>Exp</th>\n",
       "    </tr>\n",
       "  </thead>\n",
       "  <tbody>\n",
       "    <tr>\n",
       "      <th>0</th>\n",
       "      <td>Santhosh</td>\n",
       "      <td>25</td>\n",
       "      <td>2</td>\n",
       "    </tr>\n",
       "    <tr>\n",
       "      <th>1</th>\n",
       "      <td>Sriram</td>\n",
       "      <td>29</td>\n",
       "      <td>3</td>\n",
       "    </tr>\n",
       "    <tr>\n",
       "      <th>2</th>\n",
       "      <td>Chetan</td>\n",
       "      <td>27</td>\n",
       "      <td>4</td>\n",
       "    </tr>\n",
       "    <tr>\n",
       "      <th>3</th>\n",
       "      <td>Abc</td>\n",
       "      <td>37</td>\n",
       "      <td>8</td>\n",
       "    </tr>\n",
       "    <tr>\n",
       "      <th>4</th>\n",
       "      <td>Salahudin</td>\n",
       "      <td>37</td>\n",
       "      <td>8</td>\n",
       "    </tr>\n",
       "    <tr>\n",
       "      <th>5</th>\n",
       "      <td>Mithun</td>\n",
       "      <td>38</td>\n",
       "      <td>8</td>\n",
       "    </tr>\n",
       "    <tr>\n",
       "      <th>6</th>\n",
       "      <td>Jayanth</td>\n",
       "      <td>37</td>\n",
       "      <td>13</td>\n",
       "    </tr>\n",
       "    <tr>\n",
       "      <th>7</th>\n",
       "      <td>Ashok</td>\n",
       "      <td>40</td>\n",
       "      <td>17</td>\n",
       "    </tr>\n",
       "  </tbody>\n",
       "</table>\n",
       "</div>"
      ],
      "text/plain": [
       "        Name  Grade  Exp\n",
       "0   Santhosh     25    2\n",
       "1     Sriram     29    3\n",
       "2     Chetan     27    4\n",
       "3        Abc     37    8\n",
       "4  Salahudin     37    8\n",
       "5     Mithun     38    8\n",
       "6    Jayanth     37   13\n",
       "7      Ashok     40   17"
      ]
     },
     "execution_count": 91,
     "metadata": {},
     "output_type": "execute_result"
    }
   ],
   "source": [
    "lst = [['Salahudin',37, 8] , ['Sriram', 29 , 3], ['Mithun', 38 , 8],\n",
    "       ['Chetan', 27 , 4] , ['Jayanth', 37 , 13], ['Santhosh', 25 , 2], ['Ashok', 40 , 17] , ['Abc' , 37 , 8]]\n",
    "\n",
    "import pandas as pd\n",
    "df = pd.DataFrame(lst , columns = ['Name' , 'Grade' , 'Exp'])\n",
    "df.sort_values(by = ['Exp' , 'Grade' , 'Name'] , ignore_index= True)"
   ]
  },
  {
   "cell_type": "markdown",
   "id": "cd4edf6d",
   "metadata": {},
   "source": [
    "# Recursive function\n",
    "\n",
    "- A function calling itself again and again is called recursive function"
   ]
  },
  {
   "cell_type": "code",
   "execution_count": 103,
   "id": "23785508",
   "metadata": {},
   "outputs": [],
   "source": [
    "def funct():\n",
    "    a = int(input('Enter a number : '))\n",
    "    if a == 0:\n",
    "        print('Ending the function')\n",
    "    else:\n",
    "        return funct()"
   ]
  },
  {
   "cell_type": "code",
   "execution_count": null,
   "id": "d53081dc",
   "metadata": {},
   "outputs": [],
   "source": [
    "funct()"
   ]
  },
  {
   "cell_type": "code",
   "execution_count": null,
   "id": "bfea6fb5",
   "metadata": {},
   "outputs": [],
   "source": [
    "bal = 0\n",
    "\n",
    "while True:\n",
    "    amt = eval(input('enter the amount : '))\n",
    "    bal += amt\n",
    "    print(f\"{amt} has been deposited the current balance is {bal}\")\n",
    "    d = input('Do you want to retry ? y/n : ')\n",
    "    if d == 'y':\n",
    "        continue\n",
    "    elif d == 'n': \n",
    "        print('Have a nice day')\n",
    "        break"
   ]
  },
  {
   "cell_type": "code",
   "execution_count": 137,
   "id": "d0578404",
   "metadata": {},
   "outputs": [
    {
     "name": "stdout",
     "output_type": "stream",
     "text": [
      "enter the amount : 100\n",
      "100 has been deposited the current balance is 100\n",
      "Do you want to retry ? y/n : y\n",
      "enter the amount : 200\n",
      "200 has been deposited the current balance is 300\n",
      "Do you want to retry ? y/n : n\n"
     ]
    },
    {
     "data": {
      "text/plain": [
       "'Have a nice day'"
      ]
     },
     "execution_count": 137,
     "metadata": {},
     "output_type": "execute_result"
    }
   ],
   "source": [
    "bal = 0\n",
    "\n",
    "def cdm():\n",
    "    global bal\n",
    "    amt = eval(input('enter the amount : '))\n",
    "    bal += amt\n",
    "    print(f\"{amt} has been deposited the current balance is {bal}\")\n",
    "    d = input('Do you want to retry ? y/n : ')\n",
    "    if d == 'y':\n",
    "        return cdm()\n",
    "    elif d == 'n': \n",
    "        return 'Have a nice day'\n",
    "        \n",
    "cdm()"
   ]
  },
  {
   "cell_type": "code",
   "execution_count": 138,
   "id": "028c6e97",
   "metadata": {},
   "outputs": [
    {
     "data": {
      "text/plain": [
       "300"
      ]
     },
     "execution_count": 138,
     "metadata": {},
     "output_type": "execute_result"
    }
   ],
   "source": [
    "bal"
   ]
  },
  {
   "cell_type": "code",
   "execution_count": 144,
   "id": "e784d3e8",
   "metadata": {},
   "outputs": [
    {
     "name": "stdout",
     "output_type": "stream",
     "text": [
      "Enter a number : 5\n",
      "Enter a number : 0\n",
      "Ending the function\n"
     ]
    }
   ],
   "source": [
    "def funct():\n",
    "    a = int(input('Enter a number : '))\n",
    "    if a == 0:\n",
    "        return 'Ending the function'\n",
    "    else:\n",
    "        return funct()\n",
    "        \n",
    "print(funct())"
   ]
  },
  {
   "cell_type": "code",
   "execution_count": 143,
   "id": "bee2eb4b",
   "metadata": {},
   "outputs": [
    {
     "data": {
      "text/plain": [
       "120"
      ]
     },
     "execution_count": 143,
     "metadata": {},
     "output_type": "execute_result"
    }
   ],
   "source": [
    "def fact(num):\n",
    "    if num == 0:\n",
    "        return 1\n",
    "    else:\n",
    "        return num * fact(num-1)\n",
    "    \n",
    "fact(5)"
   ]
  },
  {
   "cell_type": "code",
   "execution_count": null,
   "id": "8fccf398",
   "metadata": {},
   "outputs": [],
   "source": [
    "def CDM(bal = 0): \n",
    "    amt = eval(input(\"enter the amount:  \"))\n",
    "    bal += amt\n",
    "    print(f\"{amt} has been credited, the current bal is {bal}\")\n",
    "    d = input(\"do you want to retry? y/n:   \")\n",
    "    if d == \"y\":\n",
    "        return CDM(bal+= amt)\n",
    "    elif d == \"n\":\n",
    "        print(\"have a nice day!\")\n"
   ]
  },
  {
   "cell_type": "code",
   "execution_count": 161,
   "id": "9f0833c9",
   "metadata": {},
   "outputs": [
    {
     "name": "stdout",
     "output_type": "stream",
     "text": [
      "enter the amount : 10\n",
      "10 has been deposited the current balance is 10\n",
      "Do you want to retry ? y/n : y\n",
      "enter the amount : 20\n",
      "20 has been deposited the current balance is 30\n",
      "Do you want to retry ? y/n : n\n"
     ]
    }
   ],
   "source": [
    "bal = 0\n",
    "\n",
    "def cdm():\n",
    "    global bal\n",
    "    amt = eval(input('enter the amount : '))\n",
    "    bal += amt\n",
    "    print(f\"{amt} has been deposited the current balance is {bal}\")\n",
    "    d = input('Do you want to retry ? y/n : ')\n",
    "    if d == 'y':\n",
    "        return cdm()\n",
    "    elif d == 'n': \n",
    "        return amt\n",
    "        \n",
    "re = cdm()"
   ]
  },
  {
   "cell_type": "code",
   "execution_count": 162,
   "id": "c12d61a4",
   "metadata": {},
   "outputs": [
    {
     "name": "stdout",
     "output_type": "stream",
     "text": [
      "20\n"
     ]
    }
   ],
   "source": [
    "print(re)"
   ]
  },
  {
   "cell_type": "code",
   "execution_count": null,
   "id": "6c1d3e3b",
   "metadata": {},
   "outputs": [],
   "source": [
    "None\n",
    "\n",
    "'Have a nice day'"
   ]
  },
  {
   "cell_type": "code",
   "execution_count": 157,
   "id": "ed1b732f",
   "metadata": {},
   "outputs": [
    {
     "name": "stdout",
     "output_type": "stream",
     "text": [
      "Enter a number : 5\n",
      "Enter a number : 0\n",
      "None\n"
     ]
    }
   ],
   "source": [
    "def funct():\n",
    "    a = int(input('Enter a number : '))\n",
    "    if a == 0:\n",
    "        return 'Hi'\n",
    "    else:\n",
    "        funct()\n",
    "        \n",
    "print(funct())"
   ]
  },
  {
   "cell_type": "markdown",
   "id": "2688e96a",
   "metadata": {},
   "source": [
    "# Lambda map reduce filter"
   ]
  },
  {
   "cell_type": "code",
   "execution_count": null,
   "id": "eb495246",
   "metadata": {},
   "outputs": [],
   "source": []
  },
  {
   "cell_type": "code",
   "execution_count": null,
   "id": "b0a7ffa1",
   "metadata": {},
   "outputs": [],
   "source": []
  },
  {
   "cell_type": "code",
   "execution_count": null,
   "id": "efca4be3",
   "metadata": {},
   "outputs": [],
   "source": []
  }
 ],
 "metadata": {
  "kernelspec": {
   "display_name": "Python 3 (ipykernel)",
   "language": "python",
   "name": "python3"
  },
  "language_info": {
   "codemirror_mode": {
    "name": "ipython",
    "version": 3
   },
   "file_extension": ".py",
   "mimetype": "text/x-python",
   "name": "python",
   "nbconvert_exporter": "python",
   "pygments_lexer": "ipython3",
   "version": "3.11.4"
  }
 },
 "nbformat": 4,
 "nbformat_minor": 5
}
