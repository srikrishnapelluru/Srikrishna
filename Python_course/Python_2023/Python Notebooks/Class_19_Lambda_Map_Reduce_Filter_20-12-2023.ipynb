{
 "cells": [
  {
   "cell_type": "markdown",
   "id": "84adf592",
   "metadata": {},
   "source": [
    "# Lambda - anonymous function\n",
    "\n",
    "\n",
    "- A function without a name"
   ]
  },
  {
   "cell_type": "code",
   "execution_count": null,
   "id": "c50c3ce8",
   "metadata": {},
   "outputs": [],
   "source": [
    "def funct_name(parameters):\n",
    "    stat1\n",
    "    stat2\n",
    "    stat3\n",
    "    \n",
    "funct_name(arguments)"
   ]
  },
  {
   "cell_type": "code",
   "execution_count": null,
   "id": "cd5a3ba7",
   "metadata": {},
   "outputs": [],
   "source": [
    "syntax\n",
    "\n",
    "lambda arguments: expression\n",
    "\n",
    "\n",
    "- A lambda function can have n number of arguments but only 1 expression is allowed"
   ]
  },
  {
   "cell_type": "code",
   "execution_count": 2,
   "id": "1244c2fa",
   "metadata": {},
   "outputs": [
    {
     "data": {
      "text/plain": [
       "30"
      ]
     },
     "execution_count": 2,
     "metadata": {},
     "output_type": "execute_result"
    }
   ],
   "source": [
    "def adder(a,b):\n",
    "    c = a+b\n",
    "    return c\n",
    "\n",
    "adder(10,20)"
   ]
  },
  {
   "cell_type": "code",
   "execution_count": null,
   "id": "64111039",
   "metadata": {},
   "outputs": [],
   "source": [
    "lambda a,b: a+b"
   ]
  },
  {
   "cell_type": "code",
   "execution_count": 3,
   "id": "f4ad702f",
   "metadata": {},
   "outputs": [],
   "source": [
    "# Method 1 \n",
    "\n",
    "x = lambda a,b: a+b"
   ]
  },
  {
   "cell_type": "code",
   "execution_count": 4,
   "id": "54a81db9",
   "metadata": {},
   "outputs": [
    {
     "data": {
      "text/plain": [
       "30"
      ]
     },
     "execution_count": 4,
     "metadata": {},
     "output_type": "execute_result"
    }
   ],
   "source": [
    "x(10,20)"
   ]
  },
  {
   "cell_type": "code",
   "execution_count": 5,
   "id": "ebcdc73f",
   "metadata": {},
   "outputs": [
    {
     "data": {
      "text/plain": [
       "30"
      ]
     },
     "execution_count": 5,
     "metadata": {},
     "output_type": "execute_result"
    }
   ],
   "source": [
    "# Method 2\n",
    "\n",
    "(lambda a,b: a+b)(10,20)"
   ]
  },
  {
   "cell_type": "code",
   "execution_count": 7,
   "id": "8f493324",
   "metadata": {},
   "outputs": [
    {
     "data": {
      "text/plain": [
       "(30, -10)"
      ]
     },
     "execution_count": 7,
     "metadata": {},
     "output_type": "execute_result"
    }
   ],
   "source": [
    "def adder(a,b):\n",
    "    c = a+b\n",
    "    d = a-b\n",
    "    return c,d\n",
    "\n",
    "adder(10,20)"
   ]
  },
  {
   "cell_type": "code",
   "execution_count": 8,
   "id": "5a033c4c",
   "metadata": {},
   "outputs": [
    {
     "name": "stderr",
     "output_type": "stream",
     "text": [
      "<>:1: SyntaxWarning: 'tuple' object is not callable; perhaps you missed a comma?\n",
      "<>:1: SyntaxWarning: 'tuple' object is not callable; perhaps you missed a comma?\n",
      "C:\\Users\\Mohammed Israr\\AppData\\Local\\Temp\\ipykernel_11404\\241315070.py:1: SyntaxWarning: 'tuple' object is not callable; perhaps you missed a comma?\n",
      "  (lambda a,b: a+b, a-b)(10,20)\n",
      "C:\\Users\\Mohammed Israr\\AppData\\Local\\Temp\\ipykernel_11404\\241315070.py:1: SyntaxWarning: 'tuple' object is not callable; perhaps you missed a comma?\n",
      "  (lambda a,b: a+b, a-b)(10,20)\n",
      "C:\\Users\\Mohammed Israr\\AppData\\Local\\Temp\\ipykernel_11404\\241315070.py:1: SyntaxWarning: 'tuple' object is not callable; perhaps you missed a comma?\n",
      "  (lambda a,b: a+b, a-b)(10,20)\n",
      "C:\\Users\\Mohammed Israr\\AppData\\Local\\Temp\\ipykernel_11404\\241315070.py:1: SyntaxWarning: 'tuple' object is not callable; perhaps you missed a comma?\n",
      "  (lambda a,b: a+b, a-b)(10,20)\n",
      "C:\\Users\\Mohammed Israr\\AppData\\Local\\Temp\\ipykernel_11404\\241315070.py:1: SyntaxWarning: 'tuple' object is not callable; perhaps you missed a comma?\n",
      "  (lambda a,b: a+b, a-b)(10,20)\n",
      "C:\\Users\\Mohammed Israr\\AppData\\Local\\Temp\\ipykernel_11404\\241315070.py:1: SyntaxWarning: 'tuple' object is not callable; perhaps you missed a comma?\n",
      "  (lambda a,b: a+b, a-b)(10,20)\n",
      "C:\\Users\\Mohammed Israr\\AppData\\Local\\Temp\\ipykernel_11404\\241315070.py:1: SyntaxWarning: 'tuple' object is not callable; perhaps you missed a comma?\n",
      "  (lambda a,b: a+b, a-b)(10,20)\n"
     ]
    },
    {
     "ename": "NameError",
     "evalue": "name 'a' is not defined",
     "output_type": "error",
     "traceback": [
      "\u001b[1;31m---------------------------------------------------------------------------\u001b[0m",
      "\u001b[1;31mNameError\u001b[0m                                 Traceback (most recent call last)",
      "Cell \u001b[1;32mIn[8], line 1\u001b[0m\n\u001b[1;32m----> 1\u001b[0m (\u001b[38;5;28;01mlambda\u001b[39;00m a,b: a\u001b[38;5;241m+\u001b[39mb, a\u001b[38;5;241m-\u001b[39mb)(\u001b[38;5;241m10\u001b[39m,\u001b[38;5;241m20\u001b[39m)\n",
      "\u001b[1;31mNameError\u001b[0m: name 'a' is not defined"
     ]
    }
   ],
   "source": [
    "(lambda a,b: a+b, a-b)(10,20)"
   ]
  },
  {
   "cell_type": "code",
   "execution_count": 11,
   "id": "59ada2f0",
   "metadata": {},
   "outputs": [
    {
     "data": {
      "text/plain": [
       "30"
      ]
     },
     "execution_count": 11,
     "metadata": {},
     "output_type": "execute_result"
    }
   ],
   "source": [
    "(lambda a,b: a+b)(10,20)"
   ]
  },
  {
   "cell_type": "code",
   "execution_count": 14,
   "id": "8ae8e56a",
   "metadata": {},
   "outputs": [
    {
     "data": {
      "text/plain": [
       "'Even'"
      ]
     },
     "execution_count": 14,
     "metadata": {},
     "output_type": "execute_result"
    }
   ],
   "source": [
    "n = 44\n",
    "def o_e(a):\n",
    "    if a%2==0:\n",
    "        return 'Even'\n",
    "    else:\n",
    "        return 'Odd'\n",
    "o_e(n)"
   ]
  },
  {
   "cell_type": "code",
   "execution_count": 15,
   "id": "6012ea09",
   "metadata": {},
   "outputs": [
    {
     "data": {
      "text/plain": [
       "'Even'"
      ]
     },
     "execution_count": 15,
     "metadata": {},
     "output_type": "execute_result"
    }
   ],
   "source": [
    "(lambda a: 'Even' if a%2==0 else 'odd')(46)"
   ]
  },
  {
   "cell_type": "code",
   "execution_count": 16,
   "id": "a5f9035c",
   "metadata": {},
   "outputs": [
    {
     "data": {
      "text/plain": [
       "'odd'"
      ]
     },
     "execution_count": 16,
     "metadata": {},
     "output_type": "execute_result"
    }
   ],
   "source": [
    "(lambda a: 'Even' if a%2==0 else 'odd')(45)"
   ]
  },
  {
   "cell_type": "code",
   "execution_count": 19,
   "id": "c9736f5f",
   "metadata": {},
   "outputs": [
    {
     "data": {
      "text/plain": [
       "'Not a palindrom'"
      ]
     },
     "execution_count": 19,
     "metadata": {},
     "output_type": "execute_result"
    }
   ],
   "source": [
    "def palindrom(x):\n",
    "    if x == x[::-1]:\n",
    "        return ('Palindrom')\n",
    "    else:\n",
    "        return ('Not a palindrom')\n",
    "    \n",
    "palindrom('python')"
   ]
  },
  {
   "cell_type": "code",
   "execution_count": 21,
   "id": "fffe7396",
   "metadata": {},
   "outputs": [
    {
     "data": {
      "text/plain": [
       "'Not a palindrom'"
      ]
     },
     "execution_count": 21,
     "metadata": {},
     "output_type": "execute_result"
    }
   ],
   "source": [
    "(lambda x: 'Palindrom' if x == x[::-1] else 'Not a palindrom')('python')"
   ]
  },
  {
   "cell_type": "markdown",
   "id": "314e2949",
   "metadata": {},
   "source": [
    "# map\n",
    "\n",
    "map takes compulsarily 2 args\n",
    "\n",
    "1. function\n",
    "2. seq"
   ]
  },
  {
   "cell_type": "code",
   "execution_count": 22,
   "id": "04506042",
   "metadata": {},
   "outputs": [
    {
     "data": {
      "text/plain": [
       "'Even'"
      ]
     },
     "execution_count": 22,
     "metadata": {},
     "output_type": "execute_result"
    }
   ],
   "source": [
    "(lambda a: 'Even' if a%2==0 else 'odd')(46)"
   ]
  },
  {
   "cell_type": "code",
   "execution_count": null,
   "id": "d1c7ac07",
   "metadata": {},
   "outputs": [],
   "source": [
    "n = 44\n",
    "def edd_even(a):\n",
    "    if a%2==0:\n",
    "        return 'Even'\n",
    "    else:\n",
    "        return 'Odd'\n",
    "o_e(n)"
   ]
  },
  {
   "cell_type": "code",
   "execution_count": 29,
   "id": "61b1f4e8",
   "metadata": {},
   "outputs": [
    {
     "data": {
      "text/plain": [
       "['Odd',\n",
       " 'Odd',\n",
       " 'Even',\n",
       " 'Even',\n",
       " 'Even',\n",
       " 'Odd',\n",
       " 'Odd',\n",
       " 'Even',\n",
       " 'Even',\n",
       " 'Odd',\n",
       " 'Odd',\n",
       " 'Even',\n",
       " 'Even']"
      ]
     },
     "execution_count": 29,
     "metadata": {},
     "output_type": "execute_result"
    }
   ],
   "source": [
    "l = [3,43,4,56,6,7,87,8,8,89,9,8,6]\n",
    "\n",
    "\n",
    "list(map(edd_even , l))"
   ]
  },
  {
   "cell_type": "code",
   "execution_count": 27,
   "id": "45786602",
   "metadata": {},
   "outputs": [
    {
     "data": {
      "text/plain": [
       "['odd',\n",
       " 'odd',\n",
       " 'Even',\n",
       " 'Even',\n",
       " 'Even',\n",
       " 'odd',\n",
       " 'odd',\n",
       " 'Even',\n",
       " 'Even',\n",
       " 'odd',\n",
       " 'odd',\n",
       " 'Even',\n",
       " 'Even']"
      ]
     },
     "execution_count": 27,
     "metadata": {},
     "output_type": "execute_result"
    }
   ],
   "source": [
    "l = [3,43,4,56,6,7,87,8,8,89,9,8,6]\n",
    "\n",
    "\n",
    "list(map((lambda a: 'Even' if a%2==0 else 'odd') , l))"
   ]
  },
  {
   "cell_type": "code",
   "execution_count": 32,
   "id": "07494faa",
   "metadata": {},
   "outputs": [
    {
     "data": {
      "text/plain": [
       "['Palindrom', 'Palindrom', 'Palindrom', 'Not a palindrom', 'Not a palindrom']"
      ]
     },
     "execution_count": 32,
     "metadata": {},
     "output_type": "execute_result"
    }
   ],
   "source": [
    "lst = ['level' , 'rotor' , 'racecar' , 'hello' , 'world']\n",
    "\n",
    "list(map(palindrom , lst))"
   ]
  },
  {
   "cell_type": "code",
   "execution_count": 33,
   "id": "7bbfad8e",
   "metadata": {},
   "outputs": [
    {
     "data": {
      "text/plain": [
       "['Palindrom', 'Palindrom', 'Palindrom', 'Not a palindrom', 'Not a palindrom']"
      ]
     },
     "execution_count": 33,
     "metadata": {},
     "output_type": "execute_result"
    }
   ],
   "source": [
    "lst = ['level' , 'rotor' , 'racecar' , 'hello' , 'world']\n",
    "\n",
    "list(map((lambda x: 'Palindrom' if x == x[::-1] else 'Not a palindrom') , lst))"
   ]
  },
  {
   "cell_type": "code",
   "execution_count": 38,
   "id": "8de2bc3e",
   "metadata": {},
   "outputs": [],
   "source": [
    "a = [1,2,3,4,5]\n",
    "b = [6,7,8,9,10]"
   ]
  },
  {
   "cell_type": "code",
   "execution_count": 39,
   "id": "40de0b97",
   "metadata": {},
   "outputs": [
    {
     "data": {
      "text/plain": [
       "[7, 9, 11, 13, 15]"
      ]
     },
     "execution_count": 39,
     "metadata": {},
     "output_type": "execute_result"
    }
   ],
   "source": [
    "list(map((lambda x,y: x+y) , a,b))"
   ]
  },
  {
   "cell_type": "code",
   "execution_count": 40,
   "id": "0b0830d8",
   "metadata": {},
   "outputs": [],
   "source": [
    "def funct(x,y):\n",
    "    return x+y"
   ]
  },
  {
   "cell_type": "code",
   "execution_count": 41,
   "id": "d8216525",
   "metadata": {},
   "outputs": [
    {
     "data": {
      "text/plain": [
       "30"
      ]
     },
     "execution_count": 41,
     "metadata": {},
     "output_type": "execute_result"
    }
   ],
   "source": [
    "funct(10,20)"
   ]
  },
  {
   "cell_type": "code",
   "execution_count": 43,
   "id": "fd1b8663",
   "metadata": {},
   "outputs": [
    {
     "data": {
      "text/plain": [
       "[7, 9, 11, 13, 15]"
      ]
     },
     "execution_count": 43,
     "metadata": {},
     "output_type": "execute_result"
    }
   ],
   "source": [
    "a = [1,2,3,4,5]\n",
    "b = [6,7,8,9,10]\n",
    "\n",
    "list(map( funct , a,b))"
   ]
  },
  {
   "cell_type": "code",
   "execution_count": 57,
   "id": "8f836e6e",
   "metadata": {},
   "outputs": [
    {
     "data": {
      "text/plain": [
       "[80.0, 79.0, 60.0, 68.18, 85.0, 70.77]"
      ]
     },
     "execution_count": 57,
     "metadata": {},
     "output_type": "execute_result"
    }
   ],
   "source": [
    "marks_scored = [96 , 79 , 48 , 75 , 85 , 92]\n",
    "\n",
    "total_marks = [120 , 100 , 80 , 110 , 100 , 130]\n",
    "\n",
    "\n",
    "list(map((lambda x,y:round((x/y)*100 , 2) ) , marks_scored , total_marks))"
   ]
  },
  {
   "cell_type": "markdown",
   "id": "81fb5547",
   "metadata": {},
   "source": [
    "# Reduce"
   ]
  },
  {
   "cell_type": "code",
   "execution_count": 58,
   "id": "30e84487",
   "metadata": {},
   "outputs": [
    {
     "data": {
      "text/plain": [
       "48"
      ]
     },
     "execution_count": 58,
     "metadata": {},
     "output_type": "execute_result"
    }
   ],
   "source": [
    "lst = [96 , 79 , 48 , 75 , 85 , 92]\n",
    "\n",
    "\n",
    "min(lst)"
   ]
  },
  {
   "cell_type": "code",
   "execution_count": 61,
   "id": "33ca6623",
   "metadata": {},
   "outputs": [],
   "source": [
    "from functools import reduce"
   ]
  },
  {
   "cell_type": "code",
   "execution_count": 62,
   "id": "496fa822",
   "metadata": {},
   "outputs": [
    {
     "data": {
      "text/plain": [
       "48"
      ]
     },
     "execution_count": 62,
     "metadata": {},
     "output_type": "execute_result"
    }
   ],
   "source": [
    "lst = [96 , 79 , 48 , 75 , 85 , 92]\n",
    "\n",
    "reduce((lambda x,y: x if x<y else y) , lst)"
   ]
  },
  {
   "cell_type": "code",
   "execution_count": 64,
   "id": "5bf44f22",
   "metadata": {},
   "outputs": [
    {
     "data": {
      "text/plain": [
       "15"
      ]
     },
     "execution_count": 64,
     "metadata": {},
     "output_type": "execute_result"
    }
   ],
   "source": [
    "lst = [1,2,3,4,5]\n",
    "\n",
    "reduce((lambda x,y: x+y) , lst)"
   ]
  },
  {
   "cell_type": "code",
   "execution_count": 69,
   "id": "95c2c4f8",
   "metadata": {},
   "outputs": [
    {
     "data": {
      "text/plain": [
       "15"
      ]
     },
     "execution_count": 69,
     "metadata": {},
     "output_type": "execute_result"
    }
   ],
   "source": [
    "lst = [1,2,3,4,5]\n",
    "\n",
    "sum(lst)"
   ]
  },
  {
   "cell_type": "code",
   "execution_count": null,
   "id": "6193543a",
   "metadata": {},
   "outputs": [],
   "source": [
    "1,2,3,4,5\n",
    "\n",
    "3,3,4,5\n",
    "\n",
    "6,4,5\n",
    "\n",
    "10,5\n",
    "\n",
    "15"
   ]
  },
  {
   "cell_type": "code",
   "execution_count": 65,
   "id": "baa5baf1",
   "metadata": {},
   "outputs": [
    {
     "data": {
      "text/plain": [
       "2"
      ]
     },
     "execution_count": 65,
     "metadata": {},
     "output_type": "execute_result"
    }
   ],
   "source": [
    "lst = [96 , 79 , 48 , 75 , 85 , 2]\n",
    "\n",
    "reduce((lambda x,y: x if x<y else y) , lst)"
   ]
  },
  {
   "cell_type": "code",
   "execution_count": null,
   "id": "57e22c50",
   "metadata": {},
   "outputs": [],
   "source": [
    "96 , 79 , 48 , 75 , 85 , 2\n",
    "\n",
    "79,48 , 75 , 85 , 2\n",
    "\n",
    "48, 75 , 85 , 2\n",
    "\n",
    "48,85,2\n",
    "\n",
    "48,2\n",
    "\n",
    "2"
   ]
  },
  {
   "cell_type": "code",
   "execution_count": 66,
   "id": "69b9ffa4",
   "metadata": {},
   "outputs": [
    {
     "data": {
      "text/plain": [
       "96"
      ]
     },
     "execution_count": 66,
     "metadata": {},
     "output_type": "execute_result"
    }
   ],
   "source": [
    "lst = [96 , 79 , 48 , 75 , 85 , 2]\n",
    "\n",
    "reduce((lambda x,y: x if x>y else y) , lst)"
   ]
  },
  {
   "cell_type": "markdown",
   "id": "86a49bc6",
   "metadata": {},
   "source": [
    "# Filter\n",
    "\n",
    "- A function should be created in a such a manner that it return only true or false\n"
   ]
  },
  {
   "cell_type": "code",
   "execution_count": 70,
   "id": "371f150c",
   "metadata": {},
   "outputs": [],
   "source": [
    "lst = [96 , 79 , 48 , 75 , 85 , 2]"
   ]
  },
  {
   "cell_type": "code",
   "execution_count": 72,
   "id": "d96294e6",
   "metadata": {},
   "outputs": [
    {
     "data": {
      "text/plain": [
       "True"
      ]
     },
     "execution_count": 72,
     "metadata": {},
     "output_type": "execute_result"
    }
   ],
   "source": [
    "78 % 2 == 0"
   ]
  },
  {
   "cell_type": "code",
   "execution_count": 73,
   "id": "c0122973",
   "metadata": {},
   "outputs": [],
   "source": [
    "def funct(a):\n",
    "    return a%2==0"
   ]
  },
  {
   "cell_type": "code",
   "execution_count": 75,
   "id": "49ceec8d",
   "metadata": {},
   "outputs": [
    {
     "data": {
      "text/plain": [
       "[96, 48, 2]"
      ]
     },
     "execution_count": 75,
     "metadata": {},
     "output_type": "execute_result"
    }
   ],
   "source": [
    "list(filter(funct , lst))"
   ]
  },
  {
   "cell_type": "code",
   "execution_count": 76,
   "id": "e58dba70",
   "metadata": {},
   "outputs": [
    {
     "data": {
      "text/plain": [
       "[96, 48, 2]"
      ]
     },
     "execution_count": 76,
     "metadata": {},
     "output_type": "execute_result"
    }
   ],
   "source": [
    "list(filter((lambda x : x%2==0) , lst))"
   ]
  },
  {
   "cell_type": "code",
   "execution_count": 77,
   "id": "211ca1d0",
   "metadata": {},
   "outputs": [
    {
     "data": {
      "text/plain": [
       "[79, 75, 85]"
      ]
     },
     "execution_count": 77,
     "metadata": {},
     "output_type": "execute_result"
    }
   ],
   "source": [
    "list(filter((lambda x : x%2!=0) , lst))"
   ]
  },
  {
   "cell_type": "code",
   "execution_count": 79,
   "id": "1569663e",
   "metadata": {},
   "outputs": [
    {
     "data": {
      "text/plain": [
       "['elum@gmail.com',\n",
       " 'akbar.caakaterasu@gmail.com',\n",
       " 'akarui.kibuno@gmail.com',\n",
       " 'ajhnstn87@gmail.com',\n",
       " 'ahmadjazlan@gmail.com']"
      ]
     },
     "execution_count": 79,
     "metadata": {},
     "output_type": "execute_result"
    }
   ],
   "source": [
    "lst = ['akzelxw@hotmail.com', \n",
    " 'elum@gmail.com', \n",
    " 'akbar.caakaterasu@gmail.com', \n",
    " 'akarui.kibuno@gmail.com', \n",
    " 'ajsparkchick@hotmail.com', \n",
    " 'ajmeia@yahoo.com', \n",
    " 'ajhnstn87@gmail.com', \n",
    " 'ailuvzhoko4@hotmail.com', \n",
    " 'ailuvzhoko3@hotmail.com', \n",
    " 'ailuvzhoko2@hotmail.com', \n",
    " 'ailuvzhoko@hotmail.com', \n",
    " 'aillensiquioco@aol.com', \n",
    " 'ahmovic_ines@hotmail.com', \n",
    " 'ahmed_g300@yahoo.com', \n",
    " 'ahmadjazlan@gmail.com', \n",
    " 'ahmad_ridho19@yahoo.com']\n",
    "\n",
    "list(filter((lambda x: 'gmail' in x) , lst))"
   ]
  },
  {
   "cell_type": "code",
   "execution_count": 91,
   "id": "4c39148e",
   "metadata": {},
   "outputs": [
    {
     "data": {
      "text/html": [
       "<div>\n",
       "<style scoped>\n",
       "    .dataframe tbody tr th:only-of-type {\n",
       "        vertical-align: middle;\n",
       "    }\n",
       "\n",
       "    .dataframe tbody tr th {\n",
       "        vertical-align: top;\n",
       "    }\n",
       "\n",
       "    .dataframe thead th {\n",
       "        text-align: right;\n",
       "    }\n",
       "</style>\n",
       "<table border=\"1\" class=\"dataframe\">\n",
       "  <thead>\n",
       "    <tr style=\"text-align: right;\">\n",
       "      <th></th>\n",
       "      <th>day</th>\n",
       "      <th>temperature</th>\n",
       "      <th>windspeed</th>\n",
       "      <th>event</th>\n",
       "    </tr>\n",
       "  </thead>\n",
       "  <tbody>\n",
       "    <tr>\n",
       "      <th>0</th>\n",
       "      <td>1/1/2017</td>\n",
       "      <td>32</td>\n",
       "      <td>45</td>\n",
       "      <td>Rain</td>\n",
       "    </tr>\n",
       "    <tr>\n",
       "      <th>1</th>\n",
       "      <td>1/2/2017</td>\n",
       "      <td>35</td>\n",
       "      <td>25</td>\n",
       "      <td>Sunny</td>\n",
       "    </tr>\n",
       "    <tr>\n",
       "      <th>2</th>\n",
       "      <td>1/3/2017</td>\n",
       "      <td>28</td>\n",
       "      <td>66</td>\n",
       "      <td>Snow</td>\n",
       "    </tr>\n",
       "    <tr>\n",
       "      <th>3</th>\n",
       "      <td>1/4/2017</td>\n",
       "      <td>24</td>\n",
       "      <td>7</td>\n",
       "      <td>Snow</td>\n",
       "    </tr>\n",
       "    <tr>\n",
       "      <th>4</th>\n",
       "      <td>1/5/2017</td>\n",
       "      <td>32</td>\n",
       "      <td>18</td>\n",
       "      <td>Rain</td>\n",
       "    </tr>\n",
       "    <tr>\n",
       "      <th>5</th>\n",
       "      <td>1/6/2017</td>\n",
       "      <td>31</td>\n",
       "      <td>35</td>\n",
       "      <td>Sunny</td>\n",
       "    </tr>\n",
       "  </tbody>\n",
       "</table>\n",
       "</div>"
      ],
      "text/plain": [
       "        day  temperature  windspeed  event\n",
       "0  1/1/2017           32         45   Rain\n",
       "1  1/2/2017           35         25  Sunny\n",
       "2  1/3/2017           28         66   Snow\n",
       "3  1/4/2017           24          7   Snow\n",
       "4  1/5/2017           32         18   Rain\n",
       "5  1/6/2017           31         35  Sunny"
      ]
     },
     "execution_count": 91,
     "metadata": {},
     "output_type": "execute_result"
    }
   ],
   "source": [
    "import pandas as pd\n",
    "\n",
    "d = {'day': {0: '1/1/2017',\n",
    "  1: '1/2/2017',\n",
    "  2: '1/3/2017',\n",
    "  3: '1/4/2017',\n",
    "  4: '1/5/2017',\n",
    "  5: '1/6/2017'},\n",
    " 'temperature': {0: 32, 1: 35, 2: 28, 3: 24, 4: 32, 5: 31},\n",
    " 'windspeed': {0: 45, 1: 25, 2: 66, 3: 7, 4: 18, 5: 35},\n",
    " 'event': {0: 'Rain', 1: 'Sunny', 2: 'Snow', 3: 'Snow', 4: 'Rain', 5: 'Sunny'}}\n",
    "\n",
    "\n",
    "df = pd.DataFrame(d)\n",
    "\n",
    "df"
   ]
  },
  {
   "cell_type": "code",
   "execution_count": 95,
   "id": "48775a14",
   "metadata": {},
   "outputs": [
    {
     "data": {
      "text/plain": [
       "[45, 35, 66, 24, 32, 35]"
      ]
     },
     "execution_count": 95,
     "metadata": {},
     "output_type": "execute_result"
    }
   ],
   "source": [
    "list(map((lambda a,b:a if a>b else b) ,df['temperature'],df['windspeed']))"
   ]
  },
  {
   "cell_type": "code",
   "execution_count": 94,
   "id": "c56b5de6",
   "metadata": {},
   "outputs": [
    {
     "data": {
      "text/plain": [
       "[45, 35, 66, 24, 32, 35]"
      ]
     },
     "execution_count": 94,
     "metadata": {},
     "output_type": "execute_result"
    }
   ],
   "source": [
    "list(map(max ,df['temperature'],df['windspeed']))"
   ]
  },
  {
   "cell_type": "code",
   "execution_count": null,
   "id": "b9351aa5",
   "metadata": {},
   "outputs": [],
   "source": []
  }
 ],
 "metadata": {
  "kernelspec": {
   "display_name": "Python 3 (ipykernel)",
   "language": "python",
   "name": "python3"
  },
  "language_info": {
   "codemirror_mode": {
    "name": "ipython",
    "version": 3
   },
   "file_extension": ".py",
   "mimetype": "text/x-python",
   "name": "python",
   "nbconvert_exporter": "python",
   "pygments_lexer": "ipython3",
   "version": "3.11.4"
  }
 },
 "nbformat": 4,
 "nbformat_minor": 5
}
