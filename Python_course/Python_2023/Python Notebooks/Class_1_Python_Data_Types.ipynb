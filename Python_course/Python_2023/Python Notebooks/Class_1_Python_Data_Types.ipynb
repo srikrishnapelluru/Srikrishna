{
 "cells": [
  {
   "cell_type": "code",
   "execution_count": 1,
   "id": "3009c940",
   "metadata": {},
   "outputs": [
    {
     "name": "stdout",
     "output_type": "stream",
     "text": [
      "30\n"
     ]
    }
   ],
   "source": [
    "a = 10\n",
    "b = 20\n",
    "\n",
    "\n",
    "print(a + b)"
   ]
  },
  {
   "cell_type": "code",
   "execution_count": 3,
   "id": "432083a6",
   "metadata": {},
   "outputs": [
    {
     "name": "stdout",
     "output_type": "stream",
     "text": [
      "30\n"
     ]
    }
   ],
   "source": [
    "a = 10\n",
    "b = 20\n",
    "\n",
    "print(a + b)"
   ]
  },
  {
   "cell_type": "code",
   "execution_count": null,
   "id": "6e610b93",
   "metadata": {},
   "outputs": [],
   "source": [
    "# 2 Types of cells \n",
    "\n",
    "- coding cell -Can write \n",
    "- markdown cell"
   ]
  },
  {
   "cell_type": "code",
   "execution_count": 4,
   "id": "99fed1c2",
   "metadata": {},
   "outputs": [
    {
     "name": "stdout",
     "output_type": "stream",
     "text": [
      "30\n"
     ]
    }
   ],
   "source": [
    "a = 10\n",
    "b = 20\n",
    "\n",
    "print(a + b)"
   ]
  },
  {
   "cell_type": "markdown",
   "id": "e2c315a5",
   "metadata": {},
   "source": [
    "a = 10\n",
    "b = 20\n",
    "\n",
    "print(a + b)"
   ]
  },
  {
   "cell_type": "markdown",
   "id": "7fae4905",
   "metadata": {},
   "source": [
    "# Heading 1\n",
    "## Heading 2\n",
    "### Heading 3\n",
    "#### Heading 4\n",
    "##### Heading 5\n",
    "\n",
    "1. Point 1\n",
    "2. Point 2\n",
    "\n",
    "\n",
    "- point 3\n",
    "* point 4\n",
    "- point 5"
   ]
  },
  {
   "cell_type": "markdown",
   "id": "101bfabb",
   "metadata": {},
   "source": [
    "# Data types\n",
    "\n",
    "\n",
    "1. Fundamental -Basic data types\n",
    "- int - Any number without a decimal point eg:- -99 , 0 , 99\n",
    "- float - Any number with a decimal point eg:- -99.0 , 0.34 , 99.454\n",
    "- complex - Any number that can be represented in a+bj , where a is the real number and b is the imag\n",
    "- bool - True / False\n",
    "- None - Null\n",
    "- string - Anything that is written inside '..' , \"..\" , '''..''' , \"\"\"..\"\"\"\n",
    "\n",
    "\n",
    "2. Derived data types\n",
    "- list\n",
    "- tuple \n",
    "- set\n",
    "- dictionary\n"
   ]
  },
  {
   "cell_type": "code",
   "execution_count": 9,
   "id": "5158b4aa",
   "metadata": {},
   "outputs": [
    {
     "name": "stdout",
     "output_type": "stream",
     "text": [
      "0 <class 'int'>\n"
     ]
    }
   ],
   "source": [
    "a = 0\n",
    "\n",
    "print(a , type(a))"
   ]
  },
  {
   "cell_type": "code",
   "execution_count": 12,
   "id": "9b2a994a",
   "metadata": {},
   "outputs": [
    {
     "name": "stdout",
     "output_type": "stream",
     "text": [
      "45.0 <class 'float'>\n"
     ]
    }
   ],
   "source": [
    "a = 45.00000\n",
    "\n",
    "print(a , type(a))"
   ]
  },
  {
   "cell_type": "code",
   "execution_count": 21,
   "id": "e483400b",
   "metadata": {},
   "outputs": [
    {
     "name": "stdout",
     "output_type": "stream",
     "text": [
      "(23+8j) <class 'complex'>\n"
     ]
    }
   ],
   "source": [
    "a = 23+8j\n",
    "\n",
    "print(a , type(a))"
   ]
  },
  {
   "cell_type": "code",
   "execution_count": 25,
   "id": "58450ffc",
   "metadata": {},
   "outputs": [
    {
     "name": "stdout",
     "output_type": "stream",
     "text": [
      "(23+8j) <class 'complex'>\n"
     ]
    }
   ],
   "source": [
    "a = 23+8j\n",
    "\n",
    "print(a , type(a))"
   ]
  },
  {
   "cell_type": "code",
   "execution_count": 23,
   "id": "9d2b244a",
   "metadata": {},
   "outputs": [
    {
     "name": "stdout",
     "output_type": "stream",
     "text": [
      "23.0\n"
     ]
    }
   ],
   "source": [
    "print(a.real)"
   ]
  },
  {
   "cell_type": "code",
   "execution_count": 24,
   "id": "674463db",
   "metadata": {},
   "outputs": [
    {
     "name": "stdout",
     "output_type": "stream",
     "text": [
      "8.0\n"
     ]
    }
   ],
   "source": [
    "print(a.imag)"
   ]
  },
  {
   "cell_type": "code",
   "execution_count": 27,
   "id": "da099dad",
   "metadata": {},
   "outputs": [
    {
     "name": "stdout",
     "output_type": "stream",
     "text": [
      "False <class 'bool'>\n"
     ]
    }
   ],
   "source": [
    "a = False\n",
    "\n",
    "print(a , type(a))"
   ]
  },
  {
   "cell_type": "code",
   "execution_count": 28,
   "id": "ae323b77",
   "metadata": {},
   "outputs": [
    {
     "name": "stdout",
     "output_type": "stream",
     "text": [
      "None <class 'NoneType'>\n"
     ]
    }
   ],
   "source": [
    "a = None\n",
    "\n",
    "print(a , type(a))"
   ]
  },
  {
   "cell_type": "code",
   "execution_count": 30,
   "id": "06dcbee7",
   "metadata": {},
   "outputs": [],
   "source": [
    "data = [1,2,None,4,5]"
   ]
  },
  {
   "cell_type": "code",
   "execution_count": 31,
   "id": "7192fd31",
   "metadata": {},
   "outputs": [
    {
     "data": {
      "text/plain": [
       "3.0"
      ]
     },
     "execution_count": 31,
     "metadata": {},
     "output_type": "execute_result"
    }
   ],
   "source": [
    "15 / 5"
   ]
  },
  {
   "cell_type": "code",
   "execution_count": 32,
   "id": "effd4823",
   "metadata": {},
   "outputs": [
    {
     "data": {
      "text/plain": [
       "2.4"
      ]
     },
     "execution_count": 32,
     "metadata": {},
     "output_type": "execute_result"
    }
   ],
   "source": [
    "12/5"
   ]
  },
  {
   "cell_type": "code",
   "execution_count": 33,
   "id": "6481398d",
   "metadata": {},
   "outputs": [
    {
     "data": {
      "text/plain": [
       "3.0"
      ]
     },
     "execution_count": 33,
     "metadata": {},
     "output_type": "execute_result"
    }
   ],
   "source": [
    "12/4"
   ]
  },
  {
   "cell_type": "code",
   "execution_count": null,
   "id": "64121915",
   "metadata": {},
   "outputs": [],
   "source": [
    "col_1         col_2\n",
    "\n",
    "3            4\n",
    "4            4\n",
    "5             None\n",
    "6            5\n",
    "67              4"
   ]
  },
  {
   "cell_type": "code",
   "execution_count": 38,
   "id": "a5e03f9f",
   "metadata": {},
   "outputs": [
    {
     "name": "stdout",
     "output_type": "stream",
     "text": [
      "this is pythons class <class 'str'>\n"
     ]
    }
   ],
   "source": [
    "a = 'this is pythons class'\n",
    "\n",
    "print(a , type(a))"
   ]
  },
  {
   "cell_type": "code",
   "execution_count": 39,
   "id": "0a8f4aed",
   "metadata": {},
   "outputs": [
    {
     "ename": "SyntaxError",
     "evalue": "unterminated string literal (detected at line 1) (4221937925.py, line 1)",
     "output_type": "error",
     "traceback": [
      "\u001b[1;36m  Cell \u001b[1;32mIn[39], line 1\u001b[1;36m\u001b[0m\n\u001b[1;33m    a = 'this is python's class'\u001b[0m\n\u001b[1;37m                               ^\u001b[0m\n\u001b[1;31mSyntaxError\u001b[0m\u001b[1;31m:\u001b[0m unterminated string literal (detected at line 1)\n"
     ]
    }
   ],
   "source": [
    "a = 'this is python's class'\n",
    "\n",
    "print(a , type(a))"
   ]
  },
  {
   "cell_type": "code",
   "execution_count": 40,
   "id": "9bdd2f65",
   "metadata": {},
   "outputs": [
    {
     "name": "stdout",
     "output_type": "stream",
     "text": [
      "this is python's class <class 'str'>\n"
     ]
    }
   ],
   "source": [
    "a = \"this is python's class\"\n",
    "\n",
    "print(a , type(a))"
   ]
  },
  {
   "cell_type": "code",
   "execution_count": 41,
   "id": "c56145f2",
   "metadata": {},
   "outputs": [
    {
     "ename": "SyntaxError",
     "evalue": "unterminated string literal (detected at line 1) (2969392692.py, line 1)",
     "output_type": "error",
     "traceback": [
      "\u001b[1;36m  Cell \u001b[1;32mIn[41], line 1\u001b[1;36m\u001b[0m\n\u001b[1;33m    a = \"this\u001b[0m\n\u001b[1;37m        ^\u001b[0m\n\u001b[1;31mSyntaxError\u001b[0m\u001b[1;31m:\u001b[0m unterminated string literal (detected at line 1)\n"
     ]
    }
   ],
   "source": [
    "a = \"this \n",
    "is \n",
    "python's \n",
    "class\"\n",
    "\n",
    "print(a , type(a))"
   ]
  },
  {
   "cell_type": "code",
   "execution_count": 45,
   "id": "9842cd07",
   "metadata": {},
   "outputs": [
    {
     "name": "stdout",
     "output_type": "stream",
     "text": [
      "this \n",
      "is \n",
      "python's \n",
      "class <class 'str'>\n"
     ]
    }
   ],
   "source": [
    "a = '''this \n",
    "is \n",
    "python's \n",
    "class'''\n",
    "\n",
    "print(a , type(a))"
   ]
  },
  {
   "cell_type": "code",
   "execution_count": 43,
   "id": "6e976451",
   "metadata": {},
   "outputs": [
    {
     "name": "stdout",
     "output_type": "stream",
     "text": [
      "this \n",
      "is \n",
      "python's \n",
      "class <class 'str'>\n"
     ]
    }
   ],
   "source": [
    "a = \"\"\"this \n",
    "is \n",
    "python's \n",
    "class\"\"\"\n",
    "\n",
    "print(a , type(a))"
   ]
  },
  {
   "cell_type": "markdown",
   "id": "4506879a",
   "metadata": {},
   "source": [
    "Anything written inside []\n",
    "\n",
    "- Mutable"
   ]
  },
  {
   "cell_type": "code",
   "execution_count": 46,
   "id": "d967a8fb",
   "metadata": {},
   "outputs": [
    {
     "name": "stdout",
     "output_type": "stream",
     "text": [
      "[23, 34, 45, 56, 56] <class 'list'>\n"
     ]
    }
   ],
   "source": [
    "a = [23,34,45,56,56]\n",
    "\n",
    "print(a , type(a))"
   ]
  },
  {
   "cell_type": "code",
   "execution_count": 50,
   "id": "1eec0035",
   "metadata": {},
   "outputs": [
    {
     "data": {
      "text/plain": [
       "[23, 34, 50, 56, 56]"
      ]
     },
     "execution_count": 50,
     "metadata": {},
     "output_type": "execute_result"
    }
   ],
   "source": [
    "a = [23,34,45,56,56]\n",
    "\n",
    "a[2] = 50\n",
    "\n",
    "a"
   ]
  },
  {
   "cell_type": "markdown",
   "id": "c97f4a8e",
   "metadata": {},
   "source": [
    "Anything written inside ()\n",
    "\n",
    "- Immuable "
   ]
  },
  {
   "cell_type": "code",
   "execution_count": 47,
   "id": "b58a792e",
   "metadata": {},
   "outputs": [
    {
     "name": "stdout",
     "output_type": "stream",
     "text": [
      "(23, 34, 45, 56, 56) <class 'tuple'>\n"
     ]
    }
   ],
   "source": [
    "a = (23,34,45,56,56)\n",
    "\n",
    "print(a , type(a))"
   ]
  },
  {
   "cell_type": "code",
   "execution_count": 51,
   "id": "365e04fb",
   "metadata": {},
   "outputs": [
    {
     "ename": "TypeError",
     "evalue": "'tuple' object does not support item assignment",
     "output_type": "error",
     "traceback": [
      "\u001b[1;31m---------------------------------------------------------------------------\u001b[0m",
      "\u001b[1;31mTypeError\u001b[0m                                 Traceback (most recent call last)",
      "Cell \u001b[1;32mIn[51], line 3\u001b[0m\n\u001b[0;32m      1\u001b[0m a \u001b[38;5;241m=\u001b[39m (\u001b[38;5;241m23\u001b[39m,\u001b[38;5;241m34\u001b[39m,\u001b[38;5;241m45\u001b[39m,\u001b[38;5;241m56\u001b[39m,\u001b[38;5;241m56\u001b[39m)\n\u001b[1;32m----> 3\u001b[0m a[\u001b[38;5;241m2\u001b[39m] \u001b[38;5;241m=\u001b[39m \u001b[38;5;241m50\u001b[39m\n\u001b[0;32m      5\u001b[0m a\n",
      "\u001b[1;31mTypeError\u001b[0m: 'tuple' object does not support item assignment"
     ]
    }
   ],
   "source": [
    "a = (23,34,45,56,56)\n",
    "\n",
    "a[2] = 50\n",
    "\n",
    "a"
   ]
  },
  {
   "cell_type": "markdown",
   "id": "8243554c",
   "metadata": {},
   "source": [
    "Anything written inside {}"
   ]
  },
  {
   "cell_type": "code",
   "execution_count": 48,
   "id": "3c7e29bc",
   "metadata": {},
   "outputs": [
    {
     "name": "stdout",
     "output_type": "stream",
     "text": [
      "{56, 34, 45, 23} <class 'set'>\n"
     ]
    }
   ],
   "source": [
    "a = {23,34,45,56}\n",
    "\n",
    "print(a , type(a))"
   ]
  },
  {
   "cell_type": "code",
   "execution_count": null,
   "id": "d31882c4",
   "metadata": {},
   "outputs": [],
   "source": [
    "col_1_AGE         col_2_PAN\n",
    "\n",
    "34              44565465\n",
    "45              4456546\n",
    "45              456456546\n",
    "63              554645645\n",
    "67              454665465"
   ]
  },
  {
   "cell_type": "code",
   "execution_count": 52,
   "id": "fbc32e18",
   "metadata": {},
   "outputs": [
    {
     "name": "stdout",
     "output_type": "stream",
     "text": [
      "{56, 34, 45, 23} <class 'set'>\n"
     ]
    }
   ],
   "source": [
    "a = {23,34,45,56,56}\n",
    "\n",
    "print(a , type(a))"
   ]
  },
  {
   "cell_type": "code",
   "execution_count": 53,
   "id": "6a85eda8",
   "metadata": {},
   "outputs": [],
   "source": [
    "a = ['xyz' , 'abc' , 'pqr' , 'myz']\n",
    "b = ['a' , 'b' , 'a' , 'c']"
   ]
  },
  {
   "cell_type": "code",
   "execution_count": 54,
   "id": "9675b364",
   "metadata": {},
   "outputs": [
    {
     "data": {
      "text/plain": [
       "{'a', 'b', 'c'}"
      ]
     },
     "execution_count": 54,
     "metadata": {},
     "output_type": "execute_result"
    }
   ],
   "source": [
    "set(b)"
   ]
  },
  {
   "cell_type": "code",
   "execution_count": 55,
   "id": "63d0023e",
   "metadata": {},
   "outputs": [
    {
     "name": "stdout",
     "output_type": "stream",
     "text": [
      "{'Name': 'abc', 'Age': 42, 'Salary': 7657667576} <class 'dict'>\n"
     ]
    }
   ],
   "source": [
    "a = {'Name' : 'abc' , 'Age' :42 , 'Salary' : 7657667576}\n",
    "\n",
    "print(a , type(a))"
   ]
  },
  {
   "cell_type": "code",
   "execution_count": 60,
   "id": "672bb17a",
   "metadata": {},
   "outputs": [
    {
     "name": "stdout",
     "output_type": "stream",
     "text": [
      "{67: 'abc', 'Age': 42, 'Salary': 7657667576} <class 'dict'>\n"
     ]
    }
   ],
   "source": [
    "a = {67 : 'abc' , 'Age' :42 , 'Salary' : 7657667576}\n",
    "\n",
    "print(a , type(a))"
   ]
  },
  {
   "cell_type": "markdown",
   "id": "fcc38376",
   "metadata": {},
   "source": [
    "# Identifier rules\n",
    "\n",
    "- allowed char are a-z,A-Z , 0-9 , _\n",
    "- Not allowed char are special char\n",
    "- You cannot start with a number\n",
    "- Cannot use reserved \n",
    "- should not use built in function"
   ]
  },
  {
   "cell_type": "code",
   "execution_count": 62,
   "id": "d716d4b9",
   "metadata": {},
   "outputs": [],
   "source": [
    "DATA_science123 = 100"
   ]
  },
  {
   "cell_type": "code",
   "execution_count": 63,
   "id": "f33456a6",
   "metadata": {},
   "outputs": [
    {
     "ename": "SyntaxError",
     "evalue": "cannot assign to expression here. Maybe you meant '==' instead of '='? (2017008666.py, line 1)",
     "output_type": "error",
     "traceback": [
      "\u001b[1;36m  Cell \u001b[1;32mIn[63], line 1\u001b[1;36m\u001b[0m\n\u001b[1;33m    DATA_science@123 = 100\u001b[0m\n\u001b[1;37m    ^\u001b[0m\n\u001b[1;31mSyntaxError\u001b[0m\u001b[1;31m:\u001b[0m cannot assign to expression here. Maybe you meant '==' instead of '='?\n"
     ]
    }
   ],
   "source": [
    "DATA_science@123 = 100"
   ]
  },
  {
   "cell_type": "code",
   "execution_count": 64,
   "id": "c5caaefb",
   "metadata": {},
   "outputs": [
    {
     "ename": "SyntaxError",
     "evalue": "invalid syntax (3811757766.py, line 1)",
     "output_type": "error",
     "traceback": [
      "\u001b[1;36m  Cell \u001b[1;32mIn[64], line 1\u001b[1;36m\u001b[0m\n\u001b[1;33m    DATA_science 123 = 100\u001b[0m\n\u001b[1;37m                 ^\u001b[0m\n\u001b[1;31mSyntaxError\u001b[0m\u001b[1;31m:\u001b[0m invalid syntax\n"
     ]
    }
   ],
   "source": [
    "DATA_science 123 = 100"
   ]
  },
  {
   "cell_type": "code",
   "execution_count": 65,
   "id": "692f58cd",
   "metadata": {},
   "outputs": [],
   "source": [
    "DATA_science123 = 100"
   ]
  },
  {
   "cell_type": "code",
   "execution_count": 66,
   "id": "84105b28",
   "metadata": {},
   "outputs": [
    {
     "ename": "SyntaxError",
     "evalue": "invalid decimal literal (3882726106.py, line 1)",
     "output_type": "error",
     "traceback": [
      "\u001b[1;36m  Cell \u001b[1;32mIn[66], line 1\u001b[1;36m\u001b[0m\n\u001b[1;33m    123DATA_science123 = 100\u001b[0m\n\u001b[1;37m      ^\u001b[0m\n\u001b[1;31mSyntaxError\u001b[0m\u001b[1;31m:\u001b[0m invalid decimal literal\n"
     ]
    }
   ],
   "source": [
    "123DATA_science123 = 100"
   ]
  },
  {
   "cell_type": "code",
   "execution_count": 67,
   "id": "2b04d13c",
   "metadata": {},
   "outputs": [],
   "source": [
    "_123DATA_science123 = 100"
   ]
  },
  {
   "cell_type": "code",
   "execution_count": 68,
   "id": "28e4649d",
   "metadata": {},
   "outputs": [],
   "source": [
    "A = 10\n",
    "a = 20"
   ]
  },
  {
   "cell_type": "code",
   "execution_count": 69,
   "id": "332eab3c",
   "metadata": {},
   "outputs": [
    {
     "name": "stdout",
     "output_type": "stream",
     "text": [
      "10\n"
     ]
    }
   ],
   "source": [
    "print(A)"
   ]
  },
  {
   "cell_type": "code",
   "execution_count": 70,
   "id": "d2edf41c",
   "metadata": {},
   "outputs": [
    {
     "ename": "SyntaxError",
     "evalue": "cannot assign to False (1890883486.py, line 1)",
     "output_type": "error",
     "traceback": [
      "\u001b[1;36m  Cell \u001b[1;32mIn[70], line 1\u001b[1;36m\u001b[0m\n\u001b[1;33m    False = 99\u001b[0m\n\u001b[1;37m    ^\u001b[0m\n\u001b[1;31mSyntaxError\u001b[0m\u001b[1;31m:\u001b[0m cannot assign to False\n"
     ]
    }
   ],
   "source": [
    "False = 99"
   ]
  },
  {
   "cell_type": "code",
   "execution_count": 71,
   "id": "4a2dd8ea",
   "metadata": {},
   "outputs": [
    {
     "ename": "SyntaxError",
     "evalue": "invalid syntax (3421561296.py, line 1)",
     "output_type": "error",
     "traceback": [
      "\u001b[1;36m  Cell \u001b[1;32mIn[71], line 1\u001b[1;36m\u001b[0m\n\u001b[1;33m    global = 88\u001b[0m\n\u001b[1;37m           ^\u001b[0m\n\u001b[1;31mSyntaxError\u001b[0m\u001b[1;31m:\u001b[0m invalid syntax\n"
     ]
    }
   ],
   "source": [
    "global = 88"
   ]
  },
  {
   "cell_type": "code",
   "execution_count": 72,
   "id": "9e19467d",
   "metadata": {},
   "outputs": [
    {
     "name": "stdout",
     "output_type": "stream",
     "text": [
      "['False', 'None', 'True', 'and', 'as', 'assert', 'async', 'await', 'break', 'class', 'continue', 'def', 'del', 'elif', 'else', 'except', 'finally', 'for', 'from', 'global', 'if', 'import', 'in', 'is', 'lambda', 'nonlocal', 'not', 'or', 'pass', 'raise', 'return', 'try', 'while', 'with', 'yield']\n"
     ]
    }
   ],
   "source": [
    "import keyword \n",
    "print(keyword.kwlist)"
   ]
  },
  {
   "cell_type": "code",
   "execution_count": 73,
   "id": "c181df1d",
   "metadata": {},
   "outputs": [
    {
     "ename": "SyntaxError",
     "evalue": "cannot assign to False (1890883486.py, line 1)",
     "output_type": "error",
     "traceback": [
      "\u001b[1;36m  Cell \u001b[1;32mIn[73], line 1\u001b[1;36m\u001b[0m\n\u001b[1;33m    False = 99\u001b[0m\n\u001b[1;37m    ^\u001b[0m\n\u001b[1;31mSyntaxError\u001b[0m\u001b[1;31m:\u001b[0m cannot assign to False\n"
     ]
    }
   ],
   "source": [
    "False = 99"
   ]
  },
  {
   "cell_type": "code",
   "execution_count": 74,
   "id": "0d591871",
   "metadata": {},
   "outputs": [],
   "source": [
    "false = 99"
   ]
  },
  {
   "cell_type": "code",
   "execution_count": 75,
   "id": "33c68ca9",
   "metadata": {},
   "outputs": [
    {
     "name": "stdout",
     "output_type": "stream",
     "text": [
      "99\n"
     ]
    }
   ],
   "source": [
    "str = 99\n",
    "\n",
    "print(str)"
   ]
  },
  {
   "cell_type": "code",
   "execution_count": 76,
   "id": "ead4733b",
   "metadata": {},
   "outputs": [
    {
     "name": "stdout",
     "output_type": "stream",
     "text": [
      "['ArithmeticError', 'AssertionError', 'AttributeError', 'BaseException', 'BaseExceptionGroup', 'BlockingIOError', 'BrokenPipeError', 'BufferError', 'BytesWarning', 'ChildProcessError', 'ConnectionAbortedError', 'ConnectionError', 'ConnectionRefusedError', 'ConnectionResetError', 'DeprecationWarning', 'EOFError', 'Ellipsis', 'EncodingWarning', 'EnvironmentError', 'Exception', 'ExceptionGroup', 'False', 'FileExistsError', 'FileNotFoundError', 'FloatingPointError', 'FutureWarning', 'GeneratorExit', 'IOError', 'ImportError', 'ImportWarning', 'IndentationError', 'IndexError', 'InterruptedError', 'IsADirectoryError', 'KeyError', 'KeyboardInterrupt', 'LookupError', 'MemoryError', 'ModuleNotFoundError', 'NameError', 'None', 'NotADirectoryError', 'NotImplemented', 'NotImplementedError', 'OSError', 'OverflowError', 'PendingDeprecationWarning', 'PermissionError', 'ProcessLookupError', 'RecursionError', 'ReferenceError', 'ResourceWarning', 'RuntimeError', 'RuntimeWarning', 'StopAsyncIteration', 'StopIteration', 'SyntaxError', 'SyntaxWarning', 'SystemError', 'SystemExit', 'TabError', 'TimeoutError', 'True', 'TypeError', 'UnboundLocalError', 'UnicodeDecodeError', 'UnicodeEncodeError', 'UnicodeError', 'UnicodeTranslateError', 'UnicodeWarning', 'UserWarning', 'ValueError', 'Warning', 'WindowsError', 'ZeroDivisionError', '__IPYTHON__', '__build_class__', '__debug__', '__doc__', '__import__', '__loader__', '__name__', '__package__', '__spec__', 'abs', 'aiter', 'all', 'anext', 'any', 'ascii', 'bin', 'bool', 'breakpoint', 'bytearray', 'bytes', 'callable', 'chr', 'classmethod', 'compile', 'complex', 'copyright', 'credits', 'delattr', 'dict', 'dir', 'display', 'divmod', 'enumerate', 'eval', 'exec', 'execfile', 'filter', 'float', 'format', 'frozenset', 'get_ipython', 'getattr', 'globals', 'hasattr', 'hash', 'help', 'hex', 'id', 'input', 'int', 'isinstance', 'issubclass', 'iter', 'len', 'license', 'list', 'locals', 'map', 'max', 'memoryview', 'min', 'next', 'object', 'oct', 'open', 'ord', 'pow', 'print', 'property', 'range', 'repr', 'reversed', 'round', 'runfile', 'set', 'setattr', 'slice', 'sorted', 'staticmethod', 'str', 'sum', 'super', 'tuple', 'type', 'vars', 'zip']\n"
     ]
    }
   ],
   "source": [
    "print(dir(__builtins__))"
   ]
  },
  {
   "cell_type": "code",
   "execution_count": 77,
   "id": "90c90580",
   "metadata": {},
   "outputs": [
    {
     "data": {
      "text/plain": [
       "15"
      ]
     },
     "execution_count": 77,
     "metadata": {},
     "output_type": "execute_result"
    }
   ],
   "source": [
    "sum([1,2,3,4,5])"
   ]
  },
  {
   "cell_type": "code",
   "execution_count": 78,
   "id": "b3335560",
   "metadata": {},
   "outputs": [],
   "source": [
    "sum = 100"
   ]
  },
  {
   "cell_type": "code",
   "execution_count": 79,
   "id": "271d478b",
   "metadata": {},
   "outputs": [
    {
     "name": "stdout",
     "output_type": "stream",
     "text": [
      "100\n"
     ]
    }
   ],
   "source": [
    "print(sum)"
   ]
  },
  {
   "cell_type": "code",
   "execution_count": 80,
   "id": "7c2b011f",
   "metadata": {},
   "outputs": [
    {
     "ename": "TypeError",
     "evalue": "'int' object is not callable",
     "output_type": "error",
     "traceback": [
      "\u001b[1;31m---------------------------------------------------------------------------\u001b[0m",
      "\u001b[1;31mTypeError\u001b[0m                                 Traceback (most recent call last)",
      "Cell \u001b[1;32mIn[80], line 1\u001b[0m\n\u001b[1;32m----> 1\u001b[0m \u001b[38;5;28msum\u001b[39m([\u001b[38;5;241m1\u001b[39m,\u001b[38;5;241m2\u001b[39m,\u001b[38;5;241m3\u001b[39m,\u001b[38;5;241m4\u001b[39m,\u001b[38;5;241m5\u001b[39m])\n",
      "\u001b[1;31mTypeError\u001b[0m: 'int' object is not callable"
     ]
    }
   ],
   "source": [
    "sum([1,2,3,4,5])"
   ]
  },
  {
   "cell_type": "code",
   "execution_count": 1,
   "id": "a51493df",
   "metadata": {},
   "outputs": [
    {
     "data": {
      "text/plain": [
       "15"
      ]
     },
     "execution_count": 1,
     "metadata": {},
     "output_type": "execute_result"
    }
   ],
   "source": [
    "sum([1,2,3,4,5])"
   ]
  },
  {
   "cell_type": "markdown",
   "id": "d94fbbf8",
   "metadata": {},
   "source": [
    "# Type casting , Input output"
   ]
  },
  {
   "cell_type": "code",
   "execution_count": null,
   "id": "39f69beb",
   "metadata": {},
   "outputs": [],
   "source": []
  },
  {
   "cell_type": "code",
   "execution_count": null,
   "id": "dc1fe36b",
   "metadata": {},
   "outputs": [],
   "source": []
  }
 ],
 "metadata": {
  "kernelspec": {
   "display_name": "Python 3 (ipykernel)",
   "language": "python",
   "name": "python3"
  },
  "language_info": {
   "codemirror_mode": {
    "name": "ipython",
    "version": 3
   },
   "file_extension": ".py",
   "mimetype": "text/x-python",
   "name": "python",
   "nbconvert_exporter": "python",
   "pygments_lexer": "ipython3",
   "version": "3.11.4"
  }
 },
 "nbformat": 4,
 "nbformat_minor": 5
}
