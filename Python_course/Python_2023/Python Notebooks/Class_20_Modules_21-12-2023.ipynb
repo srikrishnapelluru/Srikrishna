{
 "cells": [
  {
   "cell_type": "code",
   "execution_count": 7,
   "id": "6df8c2cf",
   "metadata": {},
   "outputs": [
    {
     "data": {
      "text/html": [
       "<div>\n",
       "<style scoped>\n",
       "    .dataframe tbody tr th:only-of-type {\n",
       "        vertical-align: middle;\n",
       "    }\n",
       "\n",
       "    .dataframe tbody tr th {\n",
       "        vertical-align: top;\n",
       "    }\n",
       "\n",
       "    .dataframe thead th {\n",
       "        text-align: right;\n",
       "    }\n",
       "</style>\n",
       "<table border=\"1\" class=\"dataframe\">\n",
       "  <thead>\n",
       "    <tr style=\"text-align: right;\">\n",
       "      <th></th>\n",
       "      <th>day</th>\n",
       "      <th>temperature</th>\n",
       "      <th>windspeed</th>\n",
       "      <th>event</th>\n",
       "    </tr>\n",
       "  </thead>\n",
       "  <tbody>\n",
       "    <tr>\n",
       "      <th>0</th>\n",
       "      <td>1/1/2017</td>\n",
       "      <td>32</td>\n",
       "      <td>45</td>\n",
       "      <td>Rain</td>\n",
       "    </tr>\n",
       "    <tr>\n",
       "      <th>1</th>\n",
       "      <td>1/2/2017</td>\n",
       "      <td>35</td>\n",
       "      <td>25</td>\n",
       "      <td>Sunny</td>\n",
       "    </tr>\n",
       "    <tr>\n",
       "      <th>2</th>\n",
       "      <td>1/03/2017</td>\n",
       "      <td>28</td>\n",
       "      <td>66</td>\n",
       "      <td>Snow</td>\n",
       "    </tr>\n",
       "    <tr>\n",
       "      <th>3</th>\n",
       "      <td>1/4/2017</td>\n",
       "      <td>24</td>\n",
       "      <td>7</td>\n",
       "      <td>Snow</td>\n",
       "    </tr>\n",
       "    <tr>\n",
       "      <th>4</th>\n",
       "      <td>1/05/2017</td>\n",
       "      <td>32</td>\n",
       "      <td>18</td>\n",
       "      <td>Rain</td>\n",
       "    </tr>\n",
       "    <tr>\n",
       "      <th>5</th>\n",
       "      <td>1/6/2017</td>\n",
       "      <td>31</td>\n",
       "      <td>35</td>\n",
       "      <td>Sunny</td>\n",
       "    </tr>\n",
       "  </tbody>\n",
       "</table>\n",
       "</div>"
      ],
      "text/plain": [
       "         day  temperature  windspeed  event\n",
       "0   1/1/2017           32         45   Rain\n",
       "1   1/2/2017           35         25  Sunny\n",
       "2  1/03/2017           28         66   Snow\n",
       "3   1/4/2017           24          7   Snow\n",
       "4  1/05/2017           32         18   Rain\n",
       "5   1/6/2017           31         35  Sunny"
      ]
     },
     "execution_count": 7,
     "metadata": {},
     "output_type": "execute_result"
    }
   ],
   "source": [
    "import pandas as pd\n",
    "\n",
    "d = {'day': {0: '1/1/2017',\n",
    "  1: '1/2/2017',\n",
    "  2: '1/03/2017',\n",
    "  3: '1/4/2017',\n",
    "  4: '1/05/2017',\n",
    "  5: '1/6/2017'},\n",
    " 'temperature': {0: 32, 1: 35, 2: 28, 3: 24, 4: 32, 5: 31},\n",
    " 'windspeed': {0: 45, 1: 25, 2: 66, 3: 7, 4: 18, 5: 35},\n",
    " 'event': {0: 'Rain', 1: 'Sunny', 2: 'Snow', 3: 'Snow', 4: 'Rain', 5: 'Sunny'}}\n",
    "\n",
    "\n",
    "df = pd.DataFrame(d)\n",
    "\n",
    "df"
   ]
  },
  {
   "cell_type": "code",
   "execution_count": 13,
   "id": "c7df1f30",
   "metadata": {},
   "outputs": [
    {
     "data": {
      "text/html": [
       "<div>\n",
       "<style scoped>\n",
       "    .dataframe tbody tr th:only-of-type {\n",
       "        vertical-align: middle;\n",
       "    }\n",
       "\n",
       "    .dataframe tbody tr th {\n",
       "        vertical-align: top;\n",
       "    }\n",
       "\n",
       "    .dataframe thead th {\n",
       "        text-align: right;\n",
       "    }\n",
       "</style>\n",
       "<table border=\"1\" class=\"dataframe\">\n",
       "  <thead>\n",
       "    <tr style=\"text-align: right;\">\n",
       "      <th></th>\n",
       "      <th>day</th>\n",
       "      <th>temperature</th>\n",
       "      <th>windspeed</th>\n",
       "      <th>event</th>\n",
       "      <th>month</th>\n",
       "    </tr>\n",
       "  </thead>\n",
       "  <tbody>\n",
       "    <tr>\n",
       "      <th>0</th>\n",
       "      <td>1/1/2017</td>\n",
       "      <td>32</td>\n",
       "      <td>45</td>\n",
       "      <td>Rain</td>\n",
       "      <td>1</td>\n",
       "    </tr>\n",
       "    <tr>\n",
       "      <th>1</th>\n",
       "      <td>1/2/2017</td>\n",
       "      <td>35</td>\n",
       "      <td>25</td>\n",
       "      <td>Sunny</td>\n",
       "      <td>2</td>\n",
       "    </tr>\n",
       "    <tr>\n",
       "      <th>2</th>\n",
       "      <td>1/03/2017</td>\n",
       "      <td>28</td>\n",
       "      <td>66</td>\n",
       "      <td>Snow</td>\n",
       "      <td>03</td>\n",
       "    </tr>\n",
       "    <tr>\n",
       "      <th>3</th>\n",
       "      <td>1/4/2017</td>\n",
       "      <td>24</td>\n",
       "      <td>7</td>\n",
       "      <td>Snow</td>\n",
       "      <td>4</td>\n",
       "    </tr>\n",
       "    <tr>\n",
       "      <th>4</th>\n",
       "      <td>1/05/2017</td>\n",
       "      <td>32</td>\n",
       "      <td>18</td>\n",
       "      <td>Rain</td>\n",
       "      <td>05</td>\n",
       "    </tr>\n",
       "    <tr>\n",
       "      <th>5</th>\n",
       "      <td>1/6/2017</td>\n",
       "      <td>31</td>\n",
       "      <td>35</td>\n",
       "      <td>Sunny</td>\n",
       "      <td>6</td>\n",
       "    </tr>\n",
       "  </tbody>\n",
       "</table>\n",
       "</div>"
      ],
      "text/plain": [
       "         day  temperature  windspeed  event month\n",
       "0   1/1/2017           32         45   Rain     1\n",
       "1   1/2/2017           35         25  Sunny     2\n",
       "2  1/03/2017           28         66   Snow    03\n",
       "3   1/4/2017           24          7   Snow     4\n",
       "4  1/05/2017           32         18   Rain    05\n",
       "5   1/6/2017           31         35  Sunny     6"
      ]
     },
     "execution_count": 13,
     "metadata": {},
     "output_type": "execute_result"
    }
   ],
   "source": [
    "df['month'] = list(map((lambda x: x.split('/')[1]) , df['day']))\n",
    "\n",
    "df"
   ]
  },
  {
   "cell_type": "code",
   "execution_count": 6,
   "id": "6180cb08",
   "metadata": {},
   "outputs": [
    {
     "data": {
      "text/html": [
       "<div>\n",
       "<style scoped>\n",
       "    .dataframe tbody tr th:only-of-type {\n",
       "        vertical-align: middle;\n",
       "    }\n",
       "\n",
       "    .dataframe tbody tr th {\n",
       "        vertical-align: top;\n",
       "    }\n",
       "\n",
       "    .dataframe thead th {\n",
       "        text-align: right;\n",
       "    }\n",
       "</style>\n",
       "<table border=\"1\" class=\"dataframe\">\n",
       "  <thead>\n",
       "    <tr style=\"text-align: right;\">\n",
       "      <th></th>\n",
       "      <th>Car ID</th>\n",
       "      <th>Brand</th>\n",
       "      <th>Model</th>\n",
       "      <th>Year</th>\n",
       "      <th>Color</th>\n",
       "      <th>Mileage</th>\n",
       "      <th>Price</th>\n",
       "      <th>Location</th>\n",
       "    </tr>\n",
       "  </thead>\n",
       "  <tbody>\n",
       "    <tr>\n",
       "      <th>0</th>\n",
       "      <td>1</td>\n",
       "      <td>Toyota</td>\n",
       "      <td>Camry</td>\n",
       "      <td>2018</td>\n",
       "      <td>White</td>\n",
       "      <td>45000</td>\n",
       "      <td>18000</td>\n",
       "      <td>Los Angeles</td>\n",
       "    </tr>\n",
       "    <tr>\n",
       "      <th>1</th>\n",
       "      <td>2</td>\n",
       "      <td>Honda</td>\n",
       "      <td>Civic</td>\n",
       "      <td>2019</td>\n",
       "      <td>Blue</td>\n",
       "      <td>35000</td>\n",
       "      <td>16000</td>\n",
       "      <td>New York</td>\n",
       "    </tr>\n",
       "    <tr>\n",
       "      <th>2</th>\n",
       "      <td>3</td>\n",
       "      <td>Ford</td>\n",
       "      <td>Focus</td>\n",
       "      <td>2017</td>\n",
       "      <td>Silver</td>\n",
       "      <td>55000</td>\n",
       "      <td>14000</td>\n",
       "      <td>Chicago</td>\n",
       "    </tr>\n",
       "    <tr>\n",
       "      <th>3</th>\n",
       "      <td>4</td>\n",
       "      <td>Chevrolet</td>\n",
       "      <td>Cruze</td>\n",
       "      <td>2016</td>\n",
       "      <td>Red</td>\n",
       "      <td>60000</td>\n",
       "      <td>12000</td>\n",
       "      <td>Miami</td>\n",
       "    </tr>\n",
       "    <tr>\n",
       "      <th>4</th>\n",
       "      <td>5</td>\n",
       "      <td>Hyundai</td>\n",
       "      <td>Elantra</td>\n",
       "      <td>2018</td>\n",
       "      <td>Black</td>\n",
       "      <td>40000</td>\n",
       "      <td>15000</td>\n",
       "      <td>San Francisco</td>\n",
       "    </tr>\n",
       "  </tbody>\n",
       "</table>\n",
       "</div>"
      ],
      "text/plain": [
       "   Car ID      Brand    Model  Year   Color  Mileage  Price       Location\n",
       "0       1     Toyota    Camry  2018   White    45000  18000    Los Angeles\n",
       "1       2      Honda    Civic  2019    Blue    35000  16000       New York\n",
       "2       3       Ford    Focus  2017  Silver    55000  14000        Chicago\n",
       "3       4  Chevrolet    Cruze  2016     Red    60000  12000          Miami\n",
       "4       5    Hyundai  Elantra  2018   Black    40000  15000  San Francisco"
      ]
     },
     "execution_count": 6,
     "metadata": {},
     "output_type": "execute_result"
    }
   ],
   "source": [
    "import pandas as pd\n",
    "\n",
    "d = {'Car ID': {0: 1, 1: 2, 2: 3, 3: 4, 4: 5},\n",
    " 'Brand': {0: 'Toyota', 1: 'Honda', 2: 'Ford', 3: 'Chevrolet', 4: 'Hyundai'},\n",
    " 'Model': {0: 'Camry', 1: 'Civic', 2: 'Focus', 3: 'Cruze', 4: 'Elantra'},\n",
    " 'Year': {0: 2018, 1: 2019, 2: 2017, 3: 2016, 4: 2018},\n",
    " 'Color': {0: 'White', 1: 'Blue', 2: 'Silver', 3: 'Red', 4: 'Black'},\n",
    " 'Mileage': {0: 45000, 1: 35000, 2: 55000, 3: 60000, 4: 40000},\n",
    " 'Price': {0: 18000, 1: 16000, 2: 14000, 3: 12000, 4: 15000},\n",
    " 'Location': {0: 'Los Angeles',\n",
    "  1: 'New York',\n",
    "  2: 'Chicago',\n",
    "  3: 'Miami',\n",
    "  4: 'San Francisco'}}\n",
    "\n",
    "\n",
    "df_2 = pd.DataFrame(d)\n",
    "\n",
    "df_2"
   ]
  },
  {
   "cell_type": "code",
   "execution_count": 27,
   "id": "a3da662b",
   "metadata": {},
   "outputs": [
    {
     "data": {
      "text/plain": [
       "['Toyota_Camry',\n",
       " 'Honda_Civic',\n",
       " 'Ford_Focus',\n",
       " 'Chevrolet_Cruze',\n",
       " 'Hyundai_Elantra']"
      ]
     },
     "execution_count": 27,
     "metadata": {},
     "output_type": "execute_result"
    }
   ],
   "source": [
    "list(map((lambda x,y: f\"{x}_{y}\") , df_2['Brand'] , df_2['Model']))"
   ]
  },
  {
   "cell_type": "markdown",
   "id": "9e4fce4b",
   "metadata": {},
   "source": [
    "# Modules\n",
    "- A python file with .py as an extension\n",
    "\n",
    "Types of modules\n",
    "1. Builtin modules - datetime , os , sys , random , math\n",
    "2. user defined modules - \n",
    "\n",
    "\n",
    "Modular coding\n",
    "\n",
    "Flipkart --> payments\n",
    "\n",
    "COD\n",
    "debit\n",
    "credi\n",
    "onli\n",
    "upi"
   ]
  },
  {
   "cell_type": "code",
   "execution_count": 29,
   "id": "bf94feb1",
   "metadata": {},
   "outputs": [
    {
     "data": {
      "text/html": [
       "<div>\n",
       "<style scoped>\n",
       "    .dataframe tbody tr th:only-of-type {\n",
       "        vertical-align: middle;\n",
       "    }\n",
       "\n",
       "    .dataframe tbody tr th {\n",
       "        vertical-align: top;\n",
       "    }\n",
       "\n",
       "    .dataframe thead th {\n",
       "        text-align: right;\n",
       "    }\n",
       "</style>\n",
       "<table border=\"1\" class=\"dataframe\">\n",
       "  <thead>\n",
       "    <tr style=\"text-align: right;\">\n",
       "      <th></th>\n",
       "      <th>Car ID</th>\n",
       "      <th>Brand</th>\n",
       "      <th>Model</th>\n",
       "      <th>Year</th>\n",
       "      <th>Color</th>\n",
       "      <th>Mileage</th>\n",
       "      <th>Price</th>\n",
       "      <th>Location</th>\n",
       "    </tr>\n",
       "  </thead>\n",
       "  <tbody>\n",
       "    <tr>\n",
       "      <th>0</th>\n",
       "      <td>1</td>\n",
       "      <td>Toyota</td>\n",
       "      <td>Camry</td>\n",
       "      <td>2018</td>\n",
       "      <td>White</td>\n",
       "      <td>45000</td>\n",
       "      <td>18000</td>\n",
       "      <td>Los Angeles</td>\n",
       "    </tr>\n",
       "    <tr>\n",
       "      <th>1</th>\n",
       "      <td>2</td>\n",
       "      <td>Honda</td>\n",
       "      <td>Civic</td>\n",
       "      <td>2019</td>\n",
       "      <td>Blue</td>\n",
       "      <td>35000</td>\n",
       "      <td>16000</td>\n",
       "      <td>New York</td>\n",
       "    </tr>\n",
       "    <tr>\n",
       "      <th>2</th>\n",
       "      <td>3</td>\n",
       "      <td>Ford</td>\n",
       "      <td>Focus</td>\n",
       "      <td>2017</td>\n",
       "      <td>Silver</td>\n",
       "      <td>55000</td>\n",
       "      <td>14000</td>\n",
       "      <td>Chicago</td>\n",
       "    </tr>\n",
       "    <tr>\n",
       "      <th>3</th>\n",
       "      <td>4</td>\n",
       "      <td>Chevrolet</td>\n",
       "      <td>Cruze</td>\n",
       "      <td>2016</td>\n",
       "      <td>Red</td>\n",
       "      <td>60000</td>\n",
       "      <td>12000</td>\n",
       "      <td>Miami</td>\n",
       "    </tr>\n",
       "    <tr>\n",
       "      <th>4</th>\n",
       "      <td>5</td>\n",
       "      <td>Hyundai</td>\n",
       "      <td>Elantra</td>\n",
       "      <td>2018</td>\n",
       "      <td>Black</td>\n",
       "      <td>40000</td>\n",
       "      <td>15000</td>\n",
       "      <td>San Francisco</td>\n",
       "    </tr>\n",
       "  </tbody>\n",
       "</table>\n",
       "</div>"
      ],
      "text/plain": [
       "   Car ID      Brand    Model  Year   Color  Mileage  Price       Location\n",
       "0       1     Toyota    Camry  2018   White    45000  18000    Los Angeles\n",
       "1       2      Honda    Civic  2019    Blue    35000  16000       New York\n",
       "2       3       Ford    Focus  2017  Silver    55000  14000        Chicago\n",
       "3       4  Chevrolet    Cruze  2016     Red    60000  12000          Miami\n",
       "4       5    Hyundai  Elantra  2018   Black    40000  15000  San Francisco"
      ]
     },
     "execution_count": 29,
     "metadata": {},
     "output_type": "execute_result"
    }
   ],
   "source": [
    "df_2"
   ]
  },
  {
   "cell_type": "code",
   "execution_count": 30,
   "id": "3eb5a177",
   "metadata": {},
   "outputs": [],
   "source": [
    "def adder(a,b):\n",
    "    return a+b"
   ]
  },
  {
   "cell_type": "code",
   "execution_count": 31,
   "id": "629b1970",
   "metadata": {},
   "outputs": [
    {
     "data": {
      "text/plain": [
       "30"
      ]
     },
     "execution_count": 31,
     "metadata": {},
     "output_type": "execute_result"
    }
   ],
   "source": [
    "adder(10,20)"
   ]
  },
  {
   "cell_type": "markdown",
   "id": "1e455ce2",
   "metadata": {},
   "source": [
    "# Importing a module\n",
    "\n"
   ]
  },
  {
   "cell_type": "code",
   "execution_count": 1,
   "id": "18224718",
   "metadata": {},
   "outputs": [
    {
     "name": "stdout",
     "output_type": "stream",
     "text": [
      "['In', 'Out', '_', '__', '___', '__builtin__', '__builtins__', '__doc__', '__loader__', '__name__', '__package__', '__spec__', '_dh', '_i', '_i1', '_ih', '_ii', '_iii', '_oh', 'exit', 'get_ipython', 'open', 'quit']\n"
     ]
    }
   ],
   "source": [
    "# Global name space , variable memory , stack mem\n",
    "\n",
    "print(dir())"
   ]
  },
  {
   "cell_type": "code",
   "execution_count": 2,
   "id": "ac009e07",
   "metadata": {},
   "outputs": [],
   "source": [
    "a = 10"
   ]
  },
  {
   "cell_type": "code",
   "execution_count": 3,
   "id": "579a03a3",
   "metadata": {},
   "outputs": [
    {
     "name": "stdout",
     "output_type": "stream",
     "text": [
      "['In', 'Out', '_', '__', '___', '__builtin__', '__builtins__', '__doc__', '__loader__', '__name__', '__package__', '__spec__', '_dh', '_i', '_i1', '_i2', '_i3', '_ih', '_ii', '_iii', '_oh', 'a', 'exit', 'get_ipython', 'open', 'quit']\n"
     ]
    }
   ],
   "source": [
    "print(dir())"
   ]
  },
  {
   "cell_type": "code",
   "execution_count": 4,
   "id": "692b65a0",
   "metadata": {},
   "outputs": [
    {
     "data": {
      "text/plain": [
       "10"
      ]
     },
     "execution_count": 4,
     "metadata": {},
     "output_type": "execute_result"
    }
   ],
   "source": [
    "a"
   ]
  },
  {
   "cell_type": "code",
   "execution_count": 5,
   "id": "04617a59",
   "metadata": {},
   "outputs": [
    {
     "ename": "NameError",
     "evalue": "name 'b' is not defined",
     "output_type": "error",
     "traceback": [
      "\u001b[1;31m---------------------------------------------------------------------------\u001b[0m",
      "\u001b[1;31mNameError\u001b[0m                                 Traceback (most recent call last)",
      "Cell \u001b[1;32mIn[5], line 1\u001b[0m\n\u001b[1;32m----> 1\u001b[0m b\n",
      "\u001b[1;31mNameError\u001b[0m: name 'b' is not defined"
     ]
    }
   ],
   "source": [
    "b"
   ]
  },
  {
   "cell_type": "code",
   "execution_count": 6,
   "id": "f3d7d91e",
   "metadata": {},
   "outputs": [],
   "source": [
    "def adder(a,b):\n",
    "    return a+b"
   ]
  },
  {
   "cell_type": "code",
   "execution_count": 7,
   "id": "f739ec37",
   "metadata": {},
   "outputs": [
    {
     "name": "stdout",
     "output_type": "stream",
     "text": [
      "['In', 'Out', '_', '_4', '__', '___', '__builtin__', '__builtins__', '__doc__', '__loader__', '__name__', '__package__', '__spec__', '_dh', '_i', '_i1', '_i2', '_i3', '_i4', '_i5', '_i6', '_i7', '_ih', '_ii', '_iii', '_oh', 'a', 'adder', 'exit', 'get_ipython', 'open', 'quit']\n"
     ]
    }
   ],
   "source": [
    "print(dir())"
   ]
  },
  {
   "cell_type": "markdown",
   "id": "4a00d9f8",
   "metadata": {},
   "source": [
    "# 1st method"
   ]
  },
  {
   "cell_type": "code",
   "execution_count": 1,
   "id": "cf54f33a",
   "metadata": {},
   "outputs": [
    {
     "name": "stdout",
     "output_type": "stream",
     "text": [
      "['In', 'Out', '_', '__', '___', '__builtin__', '__builtins__', '__doc__', '__loader__', '__name__', '__package__', '__spec__', '_dh', '_i', '_i1', '_ih', '_ii', '_iii', '_oh', 'exit', 'get_ipython', 'open', 'quit']\n",
      "\n",
      "\n",
      "['In', 'Out', '_', '__', '___', '__builtin__', '__builtins__', '__doc__', '__loader__', '__name__', '__package__', '__spec__', '_dh', '_i', '_i1', '_ih', '_ii', '_iii', '_oh', 'exit', 'get_ipython', 'math', 'open', 'quit']\n"
     ]
    }
   ],
   "source": [
    "print(dir() ,end = '\\n\\n\\n')\n",
    "\n",
    "\n",
    "import math\n",
    "\n",
    "\n",
    "print(dir())"
   ]
  },
  {
   "cell_type": "code",
   "execution_count": 2,
   "id": "7c9d5ecc",
   "metadata": {},
   "outputs": [
    {
     "name": "stdout",
     "output_type": "stream",
     "text": [
      "['__doc__', '__loader__', '__name__', '__package__', '__spec__', 'acos', 'acosh', 'asin', 'asinh', 'atan', 'atan2', 'atanh', 'cbrt', 'ceil', 'comb', 'copysign', 'cos', 'cosh', 'degrees', 'dist', 'e', 'erf', 'erfc', 'exp', 'exp2', 'expm1', 'fabs', 'factorial', 'floor', 'fmod', 'frexp', 'fsum', 'gamma', 'gcd', 'hypot', 'inf', 'isclose', 'isfinite', 'isinf', 'isnan', 'isqrt', 'lcm', 'ldexp', 'lgamma', 'log', 'log10', 'log1p', 'log2', 'modf', 'nan', 'nextafter', 'perm', 'pi', 'pow', 'prod', 'radians', 'remainder', 'sin', 'sinh', 'sqrt', 'tan', 'tanh', 'tau', 'trunc', 'ulp']\n"
     ]
    }
   ],
   "source": [
    "print(dir(math))"
   ]
  },
  {
   "cell_type": "code",
   "execution_count": 3,
   "id": "c3df5154",
   "metadata": {},
   "outputs": [
    {
     "data": {
      "text/plain": [
       "3.0"
      ]
     },
     "execution_count": 3,
     "metadata": {},
     "output_type": "execute_result"
    }
   ],
   "source": [
    "math.sqrt(9)"
   ]
  },
  {
   "cell_type": "code",
   "execution_count": 4,
   "id": "2f9b3df8",
   "metadata": {},
   "outputs": [
    {
     "name": "stdout",
     "output_type": "stream",
     "text": [
      "['In', 'Out', '_', '_3', '__', '___', '__builtin__', '__builtins__', '__doc__', '__loader__', '__name__', '__package__', '__spec__', '_dh', '_i', '_i1', '_i2', '_i3', '_i4', '_ih', '_ii', '_iii', '_oh', 'exit', 'get_ipython', 'math', 'open', 'quit']\n"
     ]
    }
   ],
   "source": [
    "print(dir())"
   ]
  },
  {
   "cell_type": "markdown",
   "id": "2347eba4",
   "metadata": {},
   "source": [
    "# 2nd method"
   ]
  },
  {
   "cell_type": "code",
   "execution_count": 1,
   "id": "f30f8e4a",
   "metadata": {},
   "outputs": [
    {
     "name": "stdout",
     "output_type": "stream",
     "text": [
      "['In', 'Out', '_', '__', '___', '__builtin__', '__builtins__', '__doc__', '__loader__', '__name__', '__package__', '__spec__', '_dh', '_i', '_i1', '_ih', '_ii', '_iii', '_oh', 'exit', 'get_ipython', 'open', 'quit']\n",
      "\n",
      "\n",
      "['In', 'Out', '_', '__', '___', '__builtin__', '__builtins__', '__doc__', '__loader__', '__name__', '__package__', '__spec__', '_dh', '_i', '_i1', '_ih', '_ii', '_iii', '_oh', 'exit', 'get_ipython', 'math', 'open', 'quit']\n"
     ]
    }
   ],
   "source": [
    "print(dir() ,end = '\\n\\n\\n')\n",
    "\n",
    "\n",
    "import math\n",
    "\n",
    "\n",
    "print(dir())"
   ]
  },
  {
   "cell_type": "code",
   "execution_count": 1,
   "id": "ec7fe0f8",
   "metadata": {},
   "outputs": [
    {
     "name": "stdout",
     "output_type": "stream",
     "text": [
      "['In', 'Out', '_', '__', '___', '__builtin__', '__builtins__', '__doc__', '__loader__', '__name__', '__package__', '__spec__', '_dh', '_i', '_i1', '_ih', '_ii', '_iii', '_oh', 'exit', 'get_ipython', 'open', 'quit']\n",
      "\n",
      "\n",
      "['In', 'Out', '_', '__', '___', '__builtin__', '__builtins__', '__doc__', '__loader__', '__name__', '__package__', '__spec__', '_dh', '_i', '_i1', '_ih', '_ii', '_iii', '_oh', 'acos', 'acosh', 'asin', 'asinh', 'atan', 'atan2', 'atanh', 'cbrt', 'ceil', 'comb', 'copysign', 'cos', 'cosh', 'degrees', 'dist', 'e', 'erf', 'erfc', 'exit', 'exp', 'exp2', 'expm1', 'fabs', 'factorial', 'floor', 'fmod', 'frexp', 'fsum', 'gamma', 'gcd', 'get_ipython', 'hypot', 'inf', 'isclose', 'isfinite', 'isinf', 'isnan', 'isqrt', 'lcm', 'ldexp', 'lgamma', 'log', 'log10', 'log1p', 'log2', 'modf', 'nan', 'nextafter', 'open', 'perm', 'pi', 'pow', 'prod', 'quit', 'radians', 'remainder', 'sin', 'sinh', 'sqrt', 'tan', 'tanh', 'tau', 'trunc', 'ulp']\n"
     ]
    }
   ],
   "source": [
    "print(dir() ,end = '\\n\\n\\n')\n",
    "\n",
    "\n",
    "from math import *\n",
    "\n",
    "\n",
    "print(dir())"
   ]
  },
  {
   "cell_type": "code",
   "execution_count": 3,
   "id": "bd115840",
   "metadata": {},
   "outputs": [
    {
     "data": {
      "text/plain": [
       "3.0"
      ]
     },
     "execution_count": 3,
     "metadata": {},
     "output_type": "execute_result"
    }
   ],
   "source": [
    "sqrt(9)"
   ]
  },
  {
   "cell_type": "markdown",
   "id": "4321f4a8",
   "metadata": {},
   "source": [
    "# 3rd method"
   ]
  },
  {
   "cell_type": "code",
   "execution_count": 1,
   "id": "1746c7d6",
   "metadata": {},
   "outputs": [
    {
     "name": "stdout",
     "output_type": "stream",
     "text": [
      "['In', 'Out', '_', '__', '___', '__builtin__', '__builtins__', '__doc__', '__loader__', '__name__', '__package__', '__spec__', '_dh', '_i', '_i1', '_ih', '_ii', '_iii', '_oh', 'exit', 'get_ipython', 'open', 'quit']\n",
      "\n",
      "\n",
      "['In', 'Out', '_', '__', '___', '__builtin__', '__builtins__', '__doc__', '__loader__', '__name__', '__package__', '__spec__', '_dh', '_i', '_i1', '_ih', '_ii', '_iii', '_oh', 'exit', 'get_ipython', 'open', 'quit', 'sqrt']\n"
     ]
    }
   ],
   "source": [
    "print(dir() ,end = '\\n\\n\\n')\n",
    "\n",
    "\n",
    "from math import sqrt\n",
    "\n",
    "\n",
    "print(dir())"
   ]
  },
  {
   "cell_type": "code",
   "execution_count": 3,
   "id": "76dd90ee",
   "metadata": {},
   "outputs": [
    {
     "name": "stdout",
     "output_type": "stream",
     "text": [
      "['In', 'Out', '_', '__', '___', '__builtin__', '__builtins__', '__doc__', '__loader__', '__name__', '__package__', '__spec__', '_dh', '_i', '_i1', '_i2', '_i3', '_ih', '_ii', '_iii', '_oh', 'exit', 'get_ipython', 'open', 'quit', 'sqrt']\n",
      "\n",
      "\n",
      "['In', 'Out', '_', '__', '___', '__builtin__', '__builtins__', '__doc__', '__loader__', '__name__', '__package__', '__spec__', '_dh', '_i', '_i1', '_i2', '_i3', '_ih', '_ii', '_iii', '_oh', 'exit', 'get_ipython', 'open', 'quit', 'sin', 'sqrt', 'tan']\n"
     ]
    }
   ],
   "source": [
    "print(dir() ,end = '\\n\\n\\n')\n",
    "\n",
    "\n",
    "from math import sqrt,tan,sin\n",
    "\n",
    "\n",
    "print(dir())"
   ]
  },
  {
   "cell_type": "code",
   "execution_count": 2,
   "id": "9b6a034a",
   "metadata": {},
   "outputs": [
    {
     "data": {
      "text/plain": [
       "3.0"
      ]
     },
     "execution_count": 2,
     "metadata": {},
     "output_type": "execute_result"
    }
   ],
   "source": [
    "sqrt(9)"
   ]
  },
  {
   "cell_type": "markdown",
   "id": "d243bf65",
   "metadata": {},
   "source": [
    "# Aliasing"
   ]
  },
  {
   "cell_type": "code",
   "execution_count": 1,
   "id": "9a3fa4d0",
   "metadata": {},
   "outputs": [
    {
     "name": "stdout",
     "output_type": "stream",
     "text": [
      "['In', 'Out', '_', '__', '___', '__builtin__', '__builtins__', '__doc__', '__loader__', '__name__', '__package__', '__spec__', '_dh', '_i', '_i1', '_ih', '_ii', '_iii', '_oh', 'exit', 'get_ipython', 'open', 'quit']\n",
      "\n",
      "\n",
      "['In', 'Out', '_', '__', '___', '__builtin__', '__builtins__', '__doc__', '__loader__', '__name__', '__package__', '__spec__', '_dh', '_i', '_i1', '_ih', '_ii', '_iii', '_oh', 'exit', 'get_ipython', 'mt', 'open', 'quit']\n"
     ]
    }
   ],
   "source": [
    "print(dir() ,end = '\\n\\n\\n')\n",
    "\n",
    "\n",
    "import math as mt\n",
    "\n",
    "\n",
    "print(dir())"
   ]
  },
  {
   "cell_type": "code",
   "execution_count": 2,
   "id": "d62b26f4",
   "metadata": {},
   "outputs": [
    {
     "data": {
      "text/plain": [
       "3.0"
      ]
     },
     "execution_count": 2,
     "metadata": {},
     "output_type": "execute_result"
    }
   ],
   "source": [
    "mt.sqrt(9)"
   ]
  },
  {
   "cell_type": "markdown",
   "id": "97e82395",
   "metadata": {},
   "source": [
    "# User defined module"
   ]
  },
  {
   "cell_type": "code",
   "execution_count": 1,
   "id": "97c88b21",
   "metadata": {},
   "outputs": [
    {
     "name": "stdout",
     "output_type": "stream",
     "text": [
      "['In', 'Out', '_', '__', '___', '__builtin__', '__builtins__', '__doc__', '__loader__', '__name__', '__package__', '__spec__', '_dh', '_i', '_i1', '_ih', '_ii', '_iii', '_oh', 'exit', 'get_ipython', 'open', 'quit']\n",
      "\n",
      "\n",
      "['In', 'Out', '_', '__', '___', '__builtin__', '__builtins__', '__doc__', '__loader__', '__name__', '__package__', '__spec__', '_dh', '_i', '_i1', '_ih', '_ii', '_iii', '_oh', 'ccm', 'exit', 'get_ipython', 'open', 'quit']\n"
     ]
    }
   ],
   "source": [
    "print(dir() ,end = '\\n\\n\\n')\n",
    "\n",
    "\n",
    "import credit_card_module as ccm\n",
    "\n",
    "\n",
    "print(dir())"
   ]
  },
  {
   "cell_type": "code",
   "execution_count": 2,
   "id": "fdb53ba6",
   "metadata": {},
   "outputs": [
    {
     "name": "stdout",
     "output_type": "stream",
     "text": [
      "['__builtins__', '__cached__', '__doc__', '__file__', '__loader__', '__name__', '__package__', '__spec__', 'adder', 'palindrom']\n"
     ]
    }
   ],
   "source": [
    "print(dir(ccm))"
   ]
  },
  {
   "cell_type": "code",
   "execution_count": 3,
   "id": "24cce9d7",
   "metadata": {},
   "outputs": [
    {
     "data": {
      "text/plain": [
       "30"
      ]
     },
     "execution_count": 3,
     "metadata": {},
     "output_type": "execute_result"
    }
   ],
   "source": [
    "ccm.adder(10,20)"
   ]
  },
  {
   "cell_type": "markdown",
   "id": "abe13bad",
   "metadata": {},
   "source": [
    "# Giving the user defined path"
   ]
  },
  {
   "cell_type": "code",
   "execution_count": 1,
   "id": "4dcb7ff5",
   "metadata": {},
   "outputs": [
    {
     "ename": "ModuleNotFoundError",
     "evalue": "No module named 'credit_card_module'",
     "output_type": "error",
     "traceback": [
      "\u001b[1;31m---------------------------------------------------------------------------\u001b[0m",
      "\u001b[1;31mModuleNotFoundError\u001b[0m                       Traceback (most recent call last)",
      "Cell \u001b[1;32mIn[1], line 1\u001b[0m\n\u001b[1;32m----> 1\u001b[0m \u001b[38;5;28;01mimport\u001b[39;00m \u001b[38;5;21;01mcredit_card_module\u001b[39;00m \u001b[38;5;28;01mas\u001b[39;00m \u001b[38;5;21;01mccm\u001b[39;00m\n",
      "\u001b[1;31mModuleNotFoundError\u001b[0m: No module named 'credit_card_module'"
     ]
    }
   ],
   "source": [
    "import credit_card_module as ccm"
   ]
  },
  {
   "cell_type": "code",
   "execution_count": 2,
   "id": "d15328d4",
   "metadata": {},
   "outputs": [
    {
     "name": "stdout",
     "output_type": "stream",
     "text": [
      "['C:\\\\Users\\\\Mohammed Israr\\\\Desktop\\\\Ongoing classes\\\\17_Nov_Weekday', 'C:\\\\Users\\\\Mohammed Israr\\\\anaconda3\\\\python311.zip', 'C:\\\\Users\\\\Mohammed Israr\\\\anaconda3\\\\DLLs', 'C:\\\\Users\\\\Mohammed Israr\\\\anaconda3\\\\Lib', 'C:\\\\Users\\\\Mohammed Israr\\\\anaconda3', '', 'C:\\\\Users\\\\Mohammed Israr\\\\anaconda3\\\\Lib\\\\site-packages', 'C:\\\\Users\\\\Mohammed Israr\\\\anaconda3\\\\Lib\\\\site-packages\\\\win32', 'C:\\\\Users\\\\Mohammed Israr\\\\anaconda3\\\\Lib\\\\site-packages\\\\win32\\\\lib', 'C:\\\\Users\\\\Mohammed Israr\\\\anaconda3\\\\Lib\\\\site-packages\\\\Pythonwin']\n"
     ]
    }
   ],
   "source": [
    "import sys\n",
    "print(sys.path)"
   ]
  },
  {
   "cell_type": "code",
   "execution_count": 3,
   "id": "58b056b3",
   "metadata": {},
   "outputs": [],
   "source": [
    "new_path = 'C:\\\\Users\\\\Mohammed Israr\\\\Desktop\\\\flipkart_modules'"
   ]
  },
  {
   "cell_type": "code",
   "execution_count": 4,
   "id": "1693df95",
   "metadata": {},
   "outputs": [],
   "source": [
    "sys.path.append(new_path)"
   ]
  },
  {
   "cell_type": "code",
   "execution_count": 5,
   "id": "d0964ac5",
   "metadata": {},
   "outputs": [
    {
     "name": "stdout",
     "output_type": "stream",
     "text": [
      "['C:\\\\Users\\\\Mohammed Israr\\\\Desktop\\\\Ongoing classes\\\\17_Nov_Weekday', 'C:\\\\Users\\\\Mohammed Israr\\\\anaconda3\\\\python311.zip', 'C:\\\\Users\\\\Mohammed Israr\\\\anaconda3\\\\DLLs', 'C:\\\\Users\\\\Mohammed Israr\\\\anaconda3\\\\Lib', 'C:\\\\Users\\\\Mohammed Israr\\\\anaconda3', '', 'C:\\\\Users\\\\Mohammed Israr\\\\anaconda3\\\\Lib\\\\site-packages', 'C:\\\\Users\\\\Mohammed Israr\\\\anaconda3\\\\Lib\\\\site-packages\\\\win32', 'C:\\\\Users\\\\Mohammed Israr\\\\anaconda3\\\\Lib\\\\site-packages\\\\win32\\\\lib', 'C:\\\\Users\\\\Mohammed Israr\\\\anaconda3\\\\Lib\\\\site-packages\\\\Pythonwin', 'C:\\\\Users\\\\Mohammed Israr\\\\Desktop\\\\flipkart_modules']\n"
     ]
    }
   ],
   "source": [
    "print(sys.path)"
   ]
  },
  {
   "cell_type": "code",
   "execution_count": 6,
   "id": "b07a2274",
   "metadata": {},
   "outputs": [],
   "source": [
    "import credit_card_module as ccm"
   ]
  },
  {
   "cell_type": "code",
   "execution_count": 7,
   "id": "c55e953c",
   "metadata": {},
   "outputs": [
    {
     "data": {
      "text/plain": [
       "24"
      ]
     },
     "execution_count": 7,
     "metadata": {},
     "output_type": "execute_result"
    }
   ],
   "source": [
    "ccm.adder(12,12)"
   ]
  },
  {
   "cell_type": "markdown",
   "id": "f2883b2e",
   "metadata": {},
   "source": [
    "# __name__"
   ]
  },
  {
   "cell_type": "code",
   "execution_count": 1,
   "id": "49fdf90f",
   "metadata": {},
   "outputs": [
    {
     "name": "stdout",
     "output_type": "stream",
     "text": [
      "30\n"
     ]
    }
   ],
   "source": [
    "import credit_card_module as ccm"
   ]
  },
  {
   "cell_type": "code",
   "execution_count": 1,
   "id": "890bb78b",
   "metadata": {},
   "outputs": [
    {
     "name": "stdout",
     "output_type": "stream",
     "text": [
      "30\n"
     ]
    }
   ],
   "source": [
    "def adder(a,b):\n",
    "    '''This function adds 2 numbers'''\n",
    "    return a+b\n",
    "\n",
    "def palindrom(x):\n",
    "    '''This function returns is a word is palindrom or not'''\n",
    "    if x == x[::-1]:\n",
    "        return 'Palindrom'\n",
    "    else:\n",
    "        return 'Not a palindrom'\n",
    "    \n",
    "if __name__ == '__main__':    \n",
    "    a = 10\n",
    "    b = 20\n",
    "\n",
    "    print(a +b)"
   ]
  },
  {
   "cell_type": "code",
   "execution_count": 1,
   "id": "83a5928d",
   "metadata": {},
   "outputs": [],
   "source": [
    "import credit_card_module as ccm"
   ]
  },
  {
   "cell_type": "code",
   "execution_count": 1,
   "id": "322ff1d2",
   "metadata": {},
   "outputs": [
    {
     "name": "stdout",
     "output_type": "stream",
     "text": [
      "30\n",
      "hello world\n"
     ]
    }
   ],
   "source": [
    "import credit_card_module as ccm"
   ]
  },
  {
   "cell_type": "code",
   "execution_count": 1,
   "id": "7c26d598",
   "metadata": {},
   "outputs": [],
   "source": [
    "import credit_card_module as ccm"
   ]
  },
  {
   "cell_type": "code",
   "execution_count": 2,
   "id": "76bb3b7a",
   "metadata": {},
   "outputs": [
    {
     "name": "stdout",
     "output_type": "stream",
     "text": [
      "30\n",
      "hello world\n"
     ]
    }
   ],
   "source": [
    "def adder(a,b):\n",
    "    '''This function adds 2 numbers'''\n",
    "    return a+b\n",
    "\n",
    "def palindrom(x):\n",
    "    '''This function returns is a word is palindrom or not'''\n",
    "    if x == x[::-1]:\n",
    "        return 'Palindrom'\n",
    "    else:\n",
    "        return 'Not a palindrom'\n",
    "    \n",
    "\n",
    "    \n",
    "if __name__ == '__main__':    \n",
    "    a = 10\n",
    "    b = 20\n",
    "    print(a +b)\n",
    "    print('hello world')"
   ]
  },
  {
   "cell_type": "code",
   "execution_count": 1,
   "id": "2c8b6b47",
   "metadata": {},
   "outputs": [],
   "source": [
    "import credit_card_module as ccm"
   ]
  },
  {
   "cell_type": "code",
   "execution_count": 5,
   "id": "15a1c7bc",
   "metadata": {},
   "outputs": [
    {
     "name": "stdout",
     "output_type": "stream",
     "text": [
      "Adder has a logical error\n"
     ]
    }
   ],
   "source": [
    "def adder(a,b):\n",
    "    '''This function adds 2 numbers'''\n",
    "    return a+b+1\n",
    "\n",
    "def palindrom(x):\n",
    "    '''This function returns is a word is palindrom or not'''\n",
    "    if x == x[::-1]:\n",
    "        return 'Palindrom'\n",
    "    else:\n",
    "        return 'Not a palindrom'\n",
    "    \n",
    "\n",
    "    \n",
    "if __name__ == '__main__':    \n",
    "    if adder(10,20) == 30:\n",
    "        pass\n",
    "    else:\n",
    "        print('Adder has a logical error')\n",
    "        \n",
    "    if palindrom('level') == 'Palindrom':\n",
    "        pass\n",
    "    else:\n",
    "        print('Palindrom has a logical error')"
   ]
  },
  {
   "cell_type": "code",
   "execution_count": null,
   "id": "7c1a69dd",
   "metadata": {},
   "outputs": [],
   "source": [
    "'do this' if codition else 'do this'"
   ]
  },
  {
   "cell_type": "code",
   "execution_count": null,
   "id": "667d34e9",
   "metadata": {},
   "outputs": [],
   "source": [
    "'do this' if codition 'op2' if condition else 'do this'"
   ]
  }
 ],
 "metadata": {
  "kernelspec": {
   "display_name": "Python 3 (ipykernel)",
   "language": "python",
   "name": "python3"
  },
  "language_info": {
   "codemirror_mode": {
    "name": "ipython",
    "version": 3
   },
   "file_extension": ".py",
   "mimetype": "text/x-python",
   "name": "python",
   "nbconvert_exporter": "python",
   "pygments_lexer": "ipython3",
   "version": "3.11.4"
  }
 },
 "nbformat": 4,
 "nbformat_minor": 5
}
