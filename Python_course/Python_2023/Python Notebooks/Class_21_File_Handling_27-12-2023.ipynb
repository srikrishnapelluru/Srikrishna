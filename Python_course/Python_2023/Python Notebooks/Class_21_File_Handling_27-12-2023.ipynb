{
 "cells": [
  {
   "cell_type": "code",
   "execution_count": null,
   "id": "bcee5173",
   "metadata": {},
   "outputs": [],
   "source": [
    "Text files --> .txt , .csv , .pdf \n",
    "\n",
    "\n",
    "binary files ---> images , videos , audio"
   ]
  },
  {
   "cell_type": "code",
   "execution_count": null,
   "id": "af9c7f15",
   "metadata": {},
   "outputs": [],
   "source": [
    "# Point to keep in mind while working with file handling\n",
    "\n",
    "\n",
    "1. To read or write inside a file we first need to open the file\n",
    "\n",
    " syntax \n",
    "    var = open('file_name.ext' , 'mode')\n",
    "    var.close()\n",
    "    \n",
    "    closing a file is important otherwise the changes will not reflect in the file\n",
    "    \n",
    "    \n",
    "2. Data read from the file will always br in a form of string data type\n",
    "\n",
    "\n",
    "3. Modes of operation --> Text files\n",
    "\n",
    "- read mode ---> 'r'\n",
    "- write mode ---> 'w'\n",
    "- append mode ---> 'a'\n",
    "- read and write mode ---> 'r+'\n",
    "- write and read mode ---> 'w+'\n",
    "- append and read mode ---> 'a+'\n",
    "\n",
    "\n",
    "4. Modes of operation --> binary files\n",
    "\n",
    "- read mode ---> 'rb'\n",
    "- write mode ---> 'wb'\n",
    "- append mode ---> 'ab'\n",
    "- read and write mode ---> 'r+b'\n",
    "- write and read mode ---> 'w+b'\n",
    "- append and read mode ---> 'a+b'\n",
    "\n",
    "5. Methods on file objects\n",
    "\n",
    "- read() --> Read the content from the file\n",
    "- Write() ---> Write the content into the file\n",
    "- tell() --> Tells the postition of the cursor\n",
    "- seek() --> Move the cursor to the specific index location\n",
    "- flush()"
   ]
  },
  {
   "cell_type": "code",
   "execution_count": null,
   "id": "762a6f4a",
   "metadata": {},
   "outputs": [],
   "source": [
    "# read mode ---> 'r'\n",
    "\n",
    "- If the file does not exist read mode will throw an FileNotFound error\n",
    "- If the file exist, It'll open the file and places the cursor at the begining of the file\n",
    "- You are only allowed to read the data from the file, But not allowed to write into the file"
   ]
  },
  {
   "cell_type": "code",
   "execution_count": 6,
   "id": "9281676c",
   "metadata": {},
   "outputs": [
    {
     "ename": "FileNotFoundError",
     "evalue": "[Errno 2] No such file or directory: 'file_handling/read_mode.txt'",
     "output_type": "error",
     "traceback": [
      "\u001b[1;31m---------------------------------------------------------------------------\u001b[0m",
      "\u001b[1;31mFileNotFoundError\u001b[0m                         Traceback (most recent call last)",
      "Cell \u001b[1;32mIn[6], line 4\u001b[0m\n\u001b[0;32m      1\u001b[0m \u001b[38;5;66;03m# If the file does not exist read mode will throw an FileNotFound error\u001b[39;00m\n\u001b[1;32m----> 4\u001b[0m f \u001b[38;5;241m=\u001b[39m \u001b[38;5;28mopen\u001b[39m(\u001b[38;5;124m'\u001b[39m\u001b[38;5;124mfile_handling/read_mode.txt\u001b[39m\u001b[38;5;124m'\u001b[39m , \u001b[38;5;124m'\u001b[39m\u001b[38;5;124mr\u001b[39m\u001b[38;5;124m'\u001b[39m)\n",
      "File \u001b[1;32m~\\anaconda3\\Lib\\site-packages\\IPython\\core\\interactiveshell.py:284\u001b[0m, in \u001b[0;36m_modified_open\u001b[1;34m(file, *args, **kwargs)\u001b[0m\n\u001b[0;32m    277\u001b[0m \u001b[38;5;28;01mif\u001b[39;00m file \u001b[38;5;129;01min\u001b[39;00m {\u001b[38;5;241m0\u001b[39m, \u001b[38;5;241m1\u001b[39m, \u001b[38;5;241m2\u001b[39m}:\n\u001b[0;32m    278\u001b[0m     \u001b[38;5;28;01mraise\u001b[39;00m \u001b[38;5;167;01mValueError\u001b[39;00m(\n\u001b[0;32m    279\u001b[0m         \u001b[38;5;124mf\u001b[39m\u001b[38;5;124m\"\u001b[39m\u001b[38;5;124mIPython won\u001b[39m\u001b[38;5;124m'\u001b[39m\u001b[38;5;124mt let you open fd=\u001b[39m\u001b[38;5;132;01m{\u001b[39;00mfile\u001b[38;5;132;01m}\u001b[39;00m\u001b[38;5;124m by default \u001b[39m\u001b[38;5;124m\"\u001b[39m\n\u001b[0;32m    280\u001b[0m         \u001b[38;5;124m\"\u001b[39m\u001b[38;5;124mas it is likely to crash IPython. If you know what you are doing, \u001b[39m\u001b[38;5;124m\"\u001b[39m\n\u001b[0;32m    281\u001b[0m         \u001b[38;5;124m\"\u001b[39m\u001b[38;5;124myou can use builtins\u001b[39m\u001b[38;5;124m'\u001b[39m\u001b[38;5;124m open.\u001b[39m\u001b[38;5;124m\"\u001b[39m\n\u001b[0;32m    282\u001b[0m     )\n\u001b[1;32m--> 284\u001b[0m \u001b[38;5;28;01mreturn\u001b[39;00m io_open(file, \u001b[38;5;241m*\u001b[39margs, \u001b[38;5;241m*\u001b[39m\u001b[38;5;241m*\u001b[39mkwargs)\n",
      "\u001b[1;31mFileNotFoundError\u001b[0m: [Errno 2] No such file or directory: 'file_handling/read_mode.txt'"
     ]
    }
   ],
   "source": [
    "# If the file does not exist read mode will throw an FileNotFound error\n",
    "\n",
    "\n",
    "f = open('file_handling/read_mode.txt' , 'r')"
   ]
  },
  {
   "cell_type": "code",
   "execution_count": 9,
   "id": "b8e38a0d",
   "metadata": {},
   "outputs": [
    {
     "name": "stdout",
     "output_type": "stream",
     "text": [
      "0\n"
     ]
    }
   ],
   "source": [
    "# If the file exist, It'll open the file and places the cursor at the begining of the file\n",
    "\n",
    "\n",
    "f = open('file_handling/read_mode.txt' , 'r')\n",
    "\n",
    "print(f.tell())"
   ]
  },
  {
   "cell_type": "code",
   "execution_count": 10,
   "id": "13ada488",
   "metadata": {},
   "outputs": [
    {
     "name": "stdout",
     "output_type": "stream",
     "text": [
      "0\n",
      "hello world <class 'str'>\n"
     ]
    }
   ],
   "source": [
    "\n",
    "f = open('file_handling/read_mode.txt' , 'r')\n",
    "\n",
    "print(f.tell())\n",
    "\n",
    "data = f.read()\n",
    "\n",
    "print(data , type(data))"
   ]
  },
  {
   "cell_type": "code",
   "execution_count": 11,
   "id": "bbcbb6a4",
   "metadata": {},
   "outputs": [
    {
     "name": "stdout",
     "output_type": "stream",
     "text": [
      "0\n",
      "5412232554 <class 'str'>\n"
     ]
    }
   ],
   "source": [
    "\n",
    "f = open('file_handling/read_mode.txt' , 'r')\n",
    "\n",
    "print(f.tell())\n",
    "\n",
    "data = f.read()\n",
    "\n",
    "print(data , type(data))"
   ]
  },
  {
   "cell_type": "code",
   "execution_count": 13,
   "id": "885bb098",
   "metadata": {},
   "outputs": [
    {
     "data": {
      "text/plain": [
       "5412232554"
      ]
     },
     "execution_count": 13,
     "metadata": {},
     "output_type": "execute_result"
    }
   ],
   "source": [
    "int(data)"
   ]
  },
  {
   "cell_type": "code",
   "execution_count": 14,
   "id": "f56f6e87",
   "metadata": {},
   "outputs": [
    {
     "name": "stdout",
     "output_type": "stream",
     "text": [
      "0\n",
      "hello world\n",
      "11\n"
     ]
    }
   ],
   "source": [
    "\n",
    "f = open('file_handling/read_mode.txt' , 'r')\n",
    "\n",
    "print(f.tell())\n",
    "\n",
    "print(f.read())\n",
    "\n",
    "print(f.tell())"
   ]
  },
  {
   "cell_type": "code",
   "execution_count": 15,
   "id": "ae244be4",
   "metadata": {},
   "outputs": [
    {
     "name": "stdout",
     "output_type": "stream",
     "text": [
      "0\n",
      "world\n"
     ]
    }
   ],
   "source": [
    "\n",
    "f = open('file_handling/read_mode.txt' , 'r')\n",
    "\n",
    "print(f.tell())\n",
    "\n",
    "f.seek(6)\n",
    "\n",
    "print(f.read())\n"
   ]
  },
  {
   "cell_type": "code",
   "execution_count": 20,
   "id": "be607aaa",
   "metadata": {},
   "outputs": [
    {
     "name": "stdout",
     "output_type": "stream",
     "text": [
      "0\n",
      "world\n"
     ]
    }
   ],
   "source": [
    "\n",
    "f = open('file_handling/read_mode.txt' , 'r')\n",
    "\n",
    "print(f.tell())\n",
    "\n",
    "f.seek(6)\n",
    "\n",
    "print(f.read())\n"
   ]
  },
  {
   "cell_type": "code",
   "execution_count": 17,
   "id": "3f68572d",
   "metadata": {},
   "outputs": [
    {
     "name": "stdout",
     "output_type": "stream",
     "text": [
      "hello world\n"
     ]
    },
    {
     "ename": "UnsupportedOperation",
     "evalue": "not writable",
     "output_type": "error",
     "traceback": [
      "\u001b[1;31m---------------------------------------------------------------------------\u001b[0m",
      "\u001b[1;31mUnsupportedOperation\u001b[0m                      Traceback (most recent call last)",
      "Cell \u001b[1;32mIn[17], line 6\u001b[0m\n\u001b[0;32m      1\u001b[0m f \u001b[38;5;241m=\u001b[39m \u001b[38;5;28mopen\u001b[39m(\u001b[38;5;124m'\u001b[39m\u001b[38;5;124mfile_handling/read_mode.txt\u001b[39m\u001b[38;5;124m'\u001b[39m , \u001b[38;5;124m'\u001b[39m\u001b[38;5;124mr\u001b[39m\u001b[38;5;124m'\u001b[39m)\n\u001b[0;32m      4\u001b[0m \u001b[38;5;28mprint\u001b[39m(f\u001b[38;5;241m.\u001b[39mread())\n\u001b[1;32m----> 6\u001b[0m f\u001b[38;5;241m.\u001b[39mwrite(\u001b[38;5;124m'\u001b[39m\u001b[38;5;124mNew_data\u001b[39m\u001b[38;5;124m'\u001b[39m)\n",
      "\u001b[1;31mUnsupportedOperation\u001b[0m: not writable"
     ]
    }
   ],
   "source": [
    "\n",
    "f = open('file_handling/read_mode.txt' , 'r')\n",
    "\n",
    "\n",
    "print(f.read())\n",
    "\n",
    "f.write('New_data')"
   ]
  },
  {
   "cell_type": "code",
   "execution_count": null,
   "id": "9e7fa6fb",
   "metadata": {},
   "outputs": [],
   "source": [
    "# write mode ---> 'w'\n",
    "\n",
    "- If the file does not exist write mode will create a file with that name and extension\n",
    "- If the file exist, It'll open the file and deletes the previous data\n",
    "- in write mode you can only write the data into the file but never read the data from it\n"
   ]
  },
  {
   "cell_type": "code",
   "execution_count": 21,
   "id": "9bbe17ef",
   "metadata": {},
   "outputs": [],
   "source": [
    "# If the file does not exist write mode will create a file with that name and extension\n",
    "\n",
    "f = open('file_handling/write_mode.txt' , 'w')\n",
    "\n"
   ]
  },
  {
   "cell_type": "code",
   "execution_count": 22,
   "id": "97d93881",
   "metadata": {},
   "outputs": [],
   "source": [
    "# If the file is present\n",
    "\n",
    "f = open('file_handling/write_mode.txt' , 'w')\n"
   ]
  },
  {
   "cell_type": "code",
   "execution_count": 26,
   "id": "e035758d",
   "metadata": {},
   "outputs": [
    {
     "name": "stdout",
     "output_type": "stream",
     "text": [
      "0\n"
     ]
    }
   ],
   "source": [
    "f = open('file_handling/write_mode.txt' , 'w')\n",
    "\n",
    "print(f.tell())\n",
    "\n",
    "f.write('hello world')\n",
    "\n",
    "f.close()"
   ]
  },
  {
   "cell_type": "code",
   "execution_count": 27,
   "id": "7ad0c36e",
   "metadata": {},
   "outputs": [
    {
     "name": "stdout",
     "output_type": "stream",
     "text": [
      "0\n"
     ]
    }
   ],
   "source": [
    "f = open('file_handling/write_mode.txt' , 'w')\n",
    "\n",
    "print(f.tell())\n",
    "\n",
    "f.write('hello world')\n",
    "\n",
    "f.seek(6)\n",
    "\n",
    "f.write('new_data')\n",
    "\n",
    "f.close()"
   ]
  },
  {
   "cell_type": "code",
   "execution_count": 28,
   "id": "55cb03b6",
   "metadata": {},
   "outputs": [
    {
     "name": "stdout",
     "output_type": "stream",
     "text": [
      "0\n"
     ]
    },
    {
     "ename": "UnsupportedOperation",
     "evalue": "not readable",
     "output_type": "error",
     "traceback": [
      "\u001b[1;31m---------------------------------------------------------------------------\u001b[0m",
      "\u001b[1;31mUnsupportedOperation\u001b[0m                      Traceback (most recent call last)",
      "Cell \u001b[1;32mIn[28], line 12\u001b[0m\n\u001b[0;32m      9\u001b[0m f\u001b[38;5;241m.\u001b[39mwrite(\u001b[38;5;124m'\u001b[39m\u001b[38;5;124mnew_data\u001b[39m\u001b[38;5;124m'\u001b[39m)\n\u001b[0;32m     11\u001b[0m f\u001b[38;5;241m.\u001b[39mseek(\u001b[38;5;241m0\u001b[39m)\n\u001b[1;32m---> 12\u001b[0m \u001b[38;5;28mprint\u001b[39m(f\u001b[38;5;241m.\u001b[39mread())\n\u001b[0;32m     14\u001b[0m f\u001b[38;5;241m.\u001b[39mclose()\n",
      "\u001b[1;31mUnsupportedOperation\u001b[0m: not readable"
     ]
    }
   ],
   "source": [
    "f = open('file_handling/write_mode.txt' , 'w')\n",
    "\n",
    "print(f.tell())\n",
    "\n",
    "f.write('hello world')\n",
    "\n",
    "f.seek(6)\n",
    "\n",
    "f.write('new_data')\n",
    "\n",
    "f.seek(0)\n",
    "print(f.read())\n",
    "\n",
    "f.close()"
   ]
  },
  {
   "cell_type": "code",
   "execution_count": null,
   "id": "5536d1a0",
   "metadata": {},
   "outputs": [],
   "source": [
    "# Append mode --> 'a'\n",
    "\n",
    "- If the file does not exist write mode will create a file with that name and extension\n",
    "- If the file exist, It'll open the file and place the cursor at the end of the file\n",
    "- in write mode you can only write the data into the file but never read the data from it\n",
    "- You can never overwrite the existing data"
   ]
  },
  {
   "cell_type": "code",
   "execution_count": 29,
   "id": "4dbab2f8",
   "metadata": {},
   "outputs": [],
   "source": [
    "# File does not exist\n",
    "\n",
    "f = open('file_handling/append_mode.txt' , 'a')\n"
   ]
  },
  {
   "cell_type": "code",
   "execution_count": 30,
   "id": "cf2ddd48",
   "metadata": {},
   "outputs": [
    {
     "name": "stdout",
     "output_type": "stream",
     "text": [
      "11\n"
     ]
    }
   ],
   "source": [
    "# File does exist\n",
    "\n",
    "f = open('file_handling/append_mode.txt' , 'a')\n",
    "\n",
    "\n",
    "print(f.tell())"
   ]
  },
  {
   "cell_type": "code",
   "execution_count": 31,
   "id": "39cc7d9c",
   "metadata": {},
   "outputs": [
    {
     "name": "stdout",
     "output_type": "stream",
     "text": [
      "11\n"
     ]
    }
   ],
   "source": [
    "\n",
    "f = open('file_handling/append_mode.txt' , 'a')\n",
    "\n",
    "\n",
    "print(f.tell())\n",
    "\n",
    "f.write('New_data')\n",
    "\n",
    "f.close()"
   ]
  },
  {
   "cell_type": "code",
   "execution_count": 43,
   "id": "c2167221",
   "metadata": {},
   "outputs": [
    {
     "name": "stdout",
     "output_type": "stream",
     "text": [
      "119\n",
      "135\n"
     ]
    }
   ],
   "source": [
    "\n",
    "f = open('file_handling/append_mode.txt' , 'a')\n",
    "\n",
    "\n",
    "print(f.tell())\n",
    "\n",
    "f.write(('*'*8)+'New_data')\n",
    "print(f.tell())\n",
    "\n",
    "f.close()\n",
    "\n"
   ]
  },
  {
   "cell_type": "code",
   "execution_count": null,
   "id": "f60e768f",
   "metadata": {},
   "outputs": [],
   "source": [
    "\n",
    "f = open('file_handling/append_mode.txt' , 'a')\n",
    "\n",
    "\n",
    "print(f.tell())\n",
    "\n",
    "f.write('New_data')\n",
    "\n",
    "f.close()"
   ]
  },
  {
   "cell_type": "code",
   "execution_count": 47,
   "id": "ae1f07c5",
   "metadata": {},
   "outputs": [],
   "source": [
    "l2 = ['abc' ,43 ,454545]\n",
    "\n",
    "l = ['xyz',23 , 436565]"
   ]
  },
  {
   "cell_type": "code",
   "execution_count": 44,
   "id": "ac1d2b1d",
   "metadata": {},
   "outputs": [],
   "source": [
    "f = open('file_handling/append_mode.txt' , 'a')"
   ]
  },
  {
   "cell_type": "code",
   "execution_count": 45,
   "id": "7c7b4495",
   "metadata": {},
   "outputs": [
    {
     "data": {
      "text/plain": [
       "<_io.TextIOWrapper name='file_handling/append_mode.txt' mode='a' encoding='cp1252'>"
      ]
     },
     "execution_count": 45,
     "metadata": {},
     "output_type": "execute_result"
    }
   ],
   "source": [
    "f"
   ]
  },
  {
   "cell_type": "code",
   "execution_count": 48,
   "id": "ad1038b0",
   "metadata": {},
   "outputs": [],
   "source": [
    "for i in l:\n",
    "    f.write(f\",{i}\")"
   ]
  },
  {
   "cell_type": "code",
   "execution_count": 49,
   "id": "c8f3e9be",
   "metadata": {},
   "outputs": [
    {
     "data": {
      "text/plain": [
       "1"
      ]
     },
     "execution_count": 49,
     "metadata": {},
     "output_type": "execute_result"
    }
   ],
   "source": [
    "f.write('\\n')"
   ]
  },
  {
   "cell_type": "code",
   "execution_count": 50,
   "id": "2212647e",
   "metadata": {},
   "outputs": [],
   "source": [
    "for i in l2:\n",
    "    f.write(f\",{i}\")"
   ]
  },
  {
   "cell_type": "code",
   "execution_count": 51,
   "id": "fd742a4c",
   "metadata": {},
   "outputs": [],
   "source": [
    "f.close()"
   ]
  },
  {
   "cell_type": "code",
   "execution_count": 56,
   "id": "3afb3e95",
   "metadata": {},
   "outputs": [
    {
     "name": "stdout",
     "output_type": "stream",
     "text": [
      "11\n",
      "6\n"
     ]
    }
   ],
   "source": [
    "\n",
    "f = open('file_handling/append_mode.txt' , 'a')\n",
    "\n",
    "\n",
    "print(f.tell())\n",
    "\n",
    "f.seek(6)\n",
    "\n",
    "print(f.tell())\n",
    "\n",
    "f.write('New_data')\n",
    "\n",
    "f.close()"
   ]
  },
  {
   "cell_type": "code",
   "execution_count": 57,
   "id": "b484ca28",
   "metadata": {},
   "outputs": [
    {
     "name": "stdout",
     "output_type": "stream",
     "text": [
      "19\n"
     ]
    },
    {
     "ename": "UnsupportedOperation",
     "evalue": "not readable",
     "output_type": "error",
     "traceback": [
      "\u001b[1;31m---------------------------------------------------------------------------\u001b[0m",
      "\u001b[1;31mUnsupportedOperation\u001b[0m                      Traceback (most recent call last)",
      "Cell \u001b[1;32mIn[57], line 8\u001b[0m\n\u001b[0;32m      4\u001b[0m \u001b[38;5;28mprint\u001b[39m(f\u001b[38;5;241m.\u001b[39mtell())\n\u001b[0;32m      6\u001b[0m f\u001b[38;5;241m.\u001b[39mseek(\u001b[38;5;241m0\u001b[39m)\n\u001b[1;32m----> 8\u001b[0m f\u001b[38;5;241m.\u001b[39mread()\n\u001b[0;32m     10\u001b[0m f\u001b[38;5;241m.\u001b[39mclose()\n",
      "\u001b[1;31mUnsupportedOperation\u001b[0m: not readable"
     ]
    }
   ],
   "source": [
    "\n",
    "f = open('file_handling/append_mode.txt' , 'a')\n",
    "\n",
    "\n",
    "print(f.tell())\n",
    "\n",
    "f.seek(0)\n",
    "\n",
    "f.read()\n",
    "\n",
    "f.close()"
   ]
  },
  {
   "cell_type": "markdown",
   "id": "6a67d627",
   "metadata": {},
   "source": [
    "# read and write mode ---> 'r+'\n",
    "\n",
    "- If the file does not exist read mode will throw an FileNotFound error\n",
    "- If the file exist, It'll open the file and places the cursor at the begining of the file\n",
    "- you can read and write into file"
   ]
  },
  {
   "cell_type": "code",
   "execution_count": 58,
   "id": "1db23c5a",
   "metadata": {},
   "outputs": [
    {
     "ename": "FileNotFoundError",
     "evalue": "[Errno 2] No such file or directory: 'file_handling/read_write_mode.txt'",
     "output_type": "error",
     "traceback": [
      "\u001b[1;31m---------------------------------------------------------------------------\u001b[0m",
      "\u001b[1;31mFileNotFoundError\u001b[0m                         Traceback (most recent call last)",
      "Cell \u001b[1;32mIn[58], line 1\u001b[0m\n\u001b[1;32m----> 1\u001b[0m f \u001b[38;5;241m=\u001b[39m \u001b[38;5;28mopen\u001b[39m(\u001b[38;5;124m'\u001b[39m\u001b[38;5;124mfile_handling/read_write_mode.txt\u001b[39m\u001b[38;5;124m'\u001b[39m , \u001b[38;5;124m'\u001b[39m\u001b[38;5;124mr+\u001b[39m\u001b[38;5;124m'\u001b[39m)\n",
      "File \u001b[1;32m~\\anaconda3\\Lib\\site-packages\\IPython\\core\\interactiveshell.py:284\u001b[0m, in \u001b[0;36m_modified_open\u001b[1;34m(file, *args, **kwargs)\u001b[0m\n\u001b[0;32m    277\u001b[0m \u001b[38;5;28;01mif\u001b[39;00m file \u001b[38;5;129;01min\u001b[39;00m {\u001b[38;5;241m0\u001b[39m, \u001b[38;5;241m1\u001b[39m, \u001b[38;5;241m2\u001b[39m}:\n\u001b[0;32m    278\u001b[0m     \u001b[38;5;28;01mraise\u001b[39;00m \u001b[38;5;167;01mValueError\u001b[39;00m(\n\u001b[0;32m    279\u001b[0m         \u001b[38;5;124mf\u001b[39m\u001b[38;5;124m\"\u001b[39m\u001b[38;5;124mIPython won\u001b[39m\u001b[38;5;124m'\u001b[39m\u001b[38;5;124mt let you open fd=\u001b[39m\u001b[38;5;132;01m{\u001b[39;00mfile\u001b[38;5;132;01m}\u001b[39;00m\u001b[38;5;124m by default \u001b[39m\u001b[38;5;124m\"\u001b[39m\n\u001b[0;32m    280\u001b[0m         \u001b[38;5;124m\"\u001b[39m\u001b[38;5;124mas it is likely to crash IPython. If you know what you are doing, \u001b[39m\u001b[38;5;124m\"\u001b[39m\n\u001b[0;32m    281\u001b[0m         \u001b[38;5;124m\"\u001b[39m\u001b[38;5;124myou can use builtins\u001b[39m\u001b[38;5;124m'\u001b[39m\u001b[38;5;124m open.\u001b[39m\u001b[38;5;124m\"\u001b[39m\n\u001b[0;32m    282\u001b[0m     )\n\u001b[1;32m--> 284\u001b[0m \u001b[38;5;28;01mreturn\u001b[39;00m io_open(file, \u001b[38;5;241m*\u001b[39margs, \u001b[38;5;241m*\u001b[39m\u001b[38;5;241m*\u001b[39mkwargs)\n",
      "\u001b[1;31mFileNotFoundError\u001b[0m: [Errno 2] No such file or directory: 'file_handling/read_write_mode.txt'"
     ]
    }
   ],
   "source": [
    "\n",
    "f = open('file_handling/read_write_mode.txt' , 'r+')"
   ]
  },
  {
   "cell_type": "code",
   "execution_count": 60,
   "id": "b0ce5264",
   "metadata": {},
   "outputs": [
    {
     "name": "stdout",
     "output_type": "stream",
     "text": [
      "0\n"
     ]
    }
   ],
   "source": [
    "\n",
    "f = open('file_handling/read_write_mode.txt' , 'r+')\n",
    "\n",
    "print(f.tell())"
   ]
  },
  {
   "cell_type": "code",
   "execution_count": 62,
   "id": "f84cabe5",
   "metadata": {},
   "outputs": [
    {
     "name": "stdout",
     "output_type": "stream",
     "text": [
      "0\n",
      "hello world\n"
     ]
    }
   ],
   "source": [
    "\n",
    "f = open('file_handling/read_write_mode.txt' , 'r+')\n",
    "\n",
    "print(f.tell())\n",
    "\n",
    "print(f.read())\n",
    "\n",
    "f.write('New_data')\n",
    "\n",
    "f.close()"
   ]
  },
  {
   "cell_type": "code",
   "execution_count": 63,
   "id": "af0c3b5b",
   "metadata": {},
   "outputs": [
    {
     "name": "stdout",
     "output_type": "stream",
     "text": [
      "0\n"
     ]
    }
   ],
   "source": [
    "\n",
    "f = open('file_handling/read_write_mode.txt' , 'r+')\n",
    "\n",
    "print(f.tell())\n",
    "\n",
    "f.write('New_data')\n",
    "\n",
    "f.close()"
   ]
  },
  {
   "cell_type": "markdown",
   "id": "2a4e5572",
   "metadata": {},
   "source": [
    "# write and read mode ---> 'w+'\n",
    "\n",
    "- If the file does not exist write mode will create a file with that name and extension\n",
    "- If the file exist, It'll open the file and deletes the previous data\n",
    "- you can read and write into the file\n"
   ]
  },
  {
   "cell_type": "code",
   "execution_count": 64,
   "id": "cea20707",
   "metadata": {},
   "outputs": [],
   "source": [
    "\n",
    "f = open('file_handling/write_read_mode.txt' , 'w+')\n"
   ]
  },
  {
   "cell_type": "code",
   "execution_count": 66,
   "id": "dae05e04",
   "metadata": {},
   "outputs": [],
   "source": [
    "\n",
    "f = open('file_handling/write_read_mode.txt' , 'w+')\n",
    "\n",
    "\n",
    "f.write('New_insert')\n",
    "\n",
    "f.close()"
   ]
  },
  {
   "cell_type": "code",
   "execution_count": 67,
   "id": "6b9196a1",
   "metadata": {},
   "outputs": [],
   "source": [
    "\n",
    "f = open('file_handling/write_read_mode.txt' , 'w+')\n",
    "\n",
    "\n",
    "f.write('New_insert')\n",
    "f.seek(4)\n",
    "\n",
    "f.write('Hello world')\n",
    "\n",
    "f.close()"
   ]
  },
  {
   "cell_type": "code",
   "execution_count": 69,
   "id": "a09fa7b1",
   "metadata": {},
   "outputs": [
    {
     "name": "stdout",
     "output_type": "stream",
     "text": [
      "New_Hello world\n"
     ]
    }
   ],
   "source": [
    "\n",
    "f = open('file_handling/write_read_mode.txt' , 'w+')\n",
    "\n",
    "\n",
    "f.write('New_insert')\n",
    "f.seek(4)\n",
    "\n",
    "f.write('Hello world')\n",
    "\n",
    "f.seek(0)\n",
    "\n",
    "print(f.read())\n",
    "\n",
    "f.close()"
   ]
  },
  {
   "cell_type": "code",
   "execution_count": null,
   "id": "af2a7a60",
   "metadata": {},
   "outputs": [],
   "source": [
    "# Append and read mode --> 'a+'\n",
    "\n",
    "- If the file does not exist write mode will create a file with that name and extension\n",
    "- If the file exist, It'll open the file and place the cursor at the end of the file\n",
    "- you can write and read from the file\n",
    "- You can never overwrite the existing data"
   ]
  },
  {
   "cell_type": "code",
   "execution_count": 70,
   "id": "32d34e4e",
   "metadata": {},
   "outputs": [],
   "source": [
    "f = open('file_handling/append_read_mode.txt' , 'a+')\n"
   ]
  },
  {
   "cell_type": "code",
   "execution_count": 71,
   "id": "f779f1a1",
   "metadata": {},
   "outputs": [
    {
     "name": "stdout",
     "output_type": "stream",
     "text": [
      "5\n"
     ]
    }
   ],
   "source": [
    "f = open('file_handling/append_read_mode.txt' , 'a+')\n",
    "\n",
    "\n",
    "print(f.tell())"
   ]
  },
  {
   "cell_type": "code",
   "execution_count": 73,
   "id": "ba4645cd",
   "metadata": {},
   "outputs": [
    {
     "name": "stdout",
     "output_type": "stream",
     "text": [
      "5\n",
      "Hello\n"
     ]
    }
   ],
   "source": [
    "f = open('file_handling/append_read_mode.txt' , 'a+')\n",
    "\n",
    "\n",
    "print(f.tell())\n",
    "f.seek(0)\n",
    "\n",
    "print(f.read())\n",
    "\n",
    "f.write('New_insert')\n",
    "\n",
    "f.close()"
   ]
  },
  {
   "cell_type": "markdown",
   "id": "e9d8c129",
   "metadata": {},
   "source": [
    "# Methods that are similar to read function\n",
    "\n",
    "\n",
    "- read() - Reads the complete data from the current postion\n",
    "- read(char) - Reads the specified char from the current position\n",
    "- readline() - Reads only the current line from the current position\n",
    "- readlines() - reads the complete data but it'l return in a form of list data"
   ]
  },
  {
   "cell_type": "code",
   "execution_count": 74,
   "id": "30f92ce3",
   "metadata": {},
   "outputs": [
    {
     "data": {
      "text/plain": [
       "'Dhoni plays for csk\\nVirat plays for rcb\\nRohit plays for MI'"
      ]
     },
     "execution_count": 74,
     "metadata": {},
     "output_type": "execute_result"
    }
   ],
   "source": [
    "f = open('file_handling/append_read_mode.txt' , 'r')\n",
    "\n",
    "\n",
    "f.read()"
   ]
  },
  {
   "cell_type": "code",
   "execution_count": 75,
   "id": "fcbe099a",
   "metadata": {},
   "outputs": [
    {
     "data": {
      "text/plain": [
       "'plays for csk\\nVirat plays for rcb\\nRohit plays for MI'"
      ]
     },
     "execution_count": 75,
     "metadata": {},
     "output_type": "execute_result"
    }
   ],
   "source": [
    "f = open('file_handling/append_read_mode.txt' , 'r')\n",
    "\n",
    "f.seek(6)\n",
    "f.read()"
   ]
  },
  {
   "cell_type": "code",
   "execution_count": 76,
   "id": "d2917e18",
   "metadata": {},
   "outputs": [
    {
     "data": {
      "text/plain": [
       "'plays'"
      ]
     },
     "execution_count": 76,
     "metadata": {},
     "output_type": "execute_result"
    }
   ],
   "source": [
    "f = open('file_handling/append_read_mode.txt' , 'r')\n",
    "\n",
    "f.seek(6)\n",
    "\n",
    "f.read(5)"
   ]
  },
  {
   "cell_type": "code",
   "execution_count": 77,
   "id": "52000d64",
   "metadata": {},
   "outputs": [
    {
     "data": {
      "text/plain": [
       "'plays for csk\\n'"
      ]
     },
     "execution_count": 77,
     "metadata": {},
     "output_type": "execute_result"
    }
   ],
   "source": [
    "f = open('file_handling/append_read_mode.txt' , 'r')\n",
    "\n",
    "f.seek(6)\n",
    "\n",
    "f.readline()"
   ]
  },
  {
   "cell_type": "code",
   "execution_count": 78,
   "id": "f592587c",
   "metadata": {},
   "outputs": [
    {
     "data": {
      "text/plain": [
       "['plays for csk\\n', 'Virat plays for rcb\\n', 'Rohit plays for MI']"
      ]
     },
     "execution_count": 78,
     "metadata": {},
     "output_type": "execute_result"
    }
   ],
   "source": [
    "f = open('file_handling/append_read_mode.txt' , 'r')\n",
    "\n",
    "f.seek(6)\n",
    "\n",
    "f.readlines()"
   ]
  },
  {
   "cell_type": "code",
   "execution_count": 79,
   "id": "b8c3794e",
   "metadata": {},
   "outputs": [
    {
     "data": {
      "text/plain": [
       "['Dhoni plays for csk\\n', 'Virat plays for rcb\\n', 'Rohit plays for MI']"
      ]
     },
     "execution_count": 79,
     "metadata": {},
     "output_type": "execute_result"
    }
   ],
   "source": [
    "f = open('file_handling/append_read_mode.txt' , 'r')\n",
    "\n",
    "\n",
    "\n",
    "f.readlines()"
   ]
  },
  {
   "cell_type": "code",
   "execution_count": 80,
   "id": "e3c1d62f",
   "metadata": {},
   "outputs": [
    {
     "data": {
      "text/plain": [
       "'Dhoni plays for csk\\nVirat plays for rcb\\nRohit plays for MI'"
      ]
     },
     "execution_count": 80,
     "metadata": {},
     "output_type": "execute_result"
    }
   ],
   "source": [
    "f = open('file_handling/append_read_mode.txt' , 'r')\n",
    "\n",
    "\n",
    "f.read()"
   ]
  },
  {
   "cell_type": "code",
   "execution_count": 81,
   "id": "8e6688cc",
   "metadata": {},
   "outputs": [
    {
     "name": "stdout",
     "output_type": "stream",
     "text": [
      "58\n",
      "Dhoni plays for csk\n",
      "Virat plays for rcb\n",
      "Rohit plays for MI\n"
     ]
    }
   ],
   "source": [
    "f = open('file_handling/append_read_mode.txt' , 'a+')\n",
    "\n",
    "\n",
    "print(f.tell())\n",
    "f.seek(0)\n",
    "\n",
    "print(f.read())\n",
    "\n",
    "f.write('\\nNew_insert')\n",
    "\n",
    "f.close()"
   ]
  },
  {
   "cell_type": "code",
   "execution_count": 82,
   "id": "f4bba682",
   "metadata": {},
   "outputs": [
    {
     "name": "stdout",
     "output_type": "stream",
     "text": [
      "70\n",
      "Dhoni plays for csk\n",
      "Virat plays for rcb\n",
      "Rohit plays for MI\n",
      "New_insert\n"
     ]
    }
   ],
   "source": [
    "with open('file_handling/append_read_mode.txt' , 'a+') as f:\n",
    "    print(f.tell())\n",
    "    f.seek(0)\n",
    "    print(f.read())\n",
    "    f.write('\\nNew_insert')\n",
    "    \n",
    "    \n",
    "print()"
   ]
  },
  {
   "cell_type": "code",
   "execution_count": null,
   "id": "08483380",
   "metadata": {},
   "outputs": [],
   "source": []
  }
 ],
 "metadata": {
  "kernelspec": {
   "display_name": "Python 3 (ipykernel)",
   "language": "python",
   "name": "python3"
  },
  "language_info": {
   "codemirror_mode": {
    "name": "ipython",
    "version": 3
   },
   "file_extension": ".py",
   "mimetype": "text/x-python",
   "name": "python",
   "nbconvert_exporter": "python",
   "pygments_lexer": "ipython3",
   "version": "3.11.4"
  }
 },
 "nbformat": 4,
 "nbformat_minor": 5
}
