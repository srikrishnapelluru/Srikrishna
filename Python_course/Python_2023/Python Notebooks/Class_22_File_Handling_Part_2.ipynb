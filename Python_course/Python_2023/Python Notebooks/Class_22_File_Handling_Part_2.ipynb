{
 "cells": [
  {
   "cell_type": "markdown",
   "id": "8a66b307",
   "metadata": {},
   "source": [
    "# Task 1\n",
    "\n",
    "1. Totally how many char are present ?\n",
    "2. Total number of words\n",
    "3. Total lines in the file"
   ]
  },
  {
   "cell_type": "code",
   "execution_count": 4,
   "id": "84b6576b",
   "metadata": {},
   "outputs": [
    {
     "name": "stdout",
     "output_type": "stream",
     "text": [
      "370\n",
      "59\n",
      "11\n"
     ]
    }
   ],
   "source": [
    "with open('file_handling/poem.txt' , 'r') as f:\n",
    "    no_of_char = len(f.read())\n",
    "    f.seek(0)\n",
    "    no_of_words = len(f.read().split())\n",
    "    f.seek(0)\n",
    "    no_of_lines = len(f.readlines()[::2])\n",
    "    \n",
    "print(no_of_char)\n",
    "print(no_of_words)\n",
    "print(no_of_lines)"
   ]
  },
  {
   "cell_type": "code",
   "execution_count": 7,
   "id": "ec9a5cbd",
   "metadata": {},
   "outputs": [
    {
     "data": {
      "text/plain": [
       "'2023-1228  07:39:56 AM'"
      ]
     },
     "execution_count": 7,
     "metadata": {},
     "output_type": "execute_result"
    }
   ],
   "source": [
    "import time\n",
    "\n",
    "time.strftime('%Y-%m%d  %I:%M:%S %p')"
   ]
  },
  {
   "cell_type": "code",
   "execution_count": null,
   "id": "2a9881c2",
   "metadata": {},
   "outputs": [],
   "source": [
    "%Y  Year with century as a decimal number.\n",
    "%m  Month as a decimal number [01,12].\n",
    "%d  Day of the month as a decimal number [01,31].\n",
    "%H  Hour (24-hour clock) as a decimal number [00,23].\n",
    "%M  Minute as a decimal number [00,59].\n",
    "%S  Second as a decimal number [00,61].\n",
    "%z  Time zone offset from UTC.\n",
    "%a  Locale's abbreviated weekday name.\n",
    "%A  Locale's full weekday name.\n",
    "%b  Locale's abbreviated month name.\n",
    "%B  Locale's full month name.\n",
    "%c  Locale's appropriate date and time representation.\n",
    "%I  Hour (12-hour clock) as a decimal number [01,12].\n",
    "%p  Locale's equivalent of either AM or PM."
   ]
  },
  {
   "cell_type": "code",
   "execution_count": 14,
   "id": "fba0bf8a",
   "metadata": {},
   "outputs": [
    {
     "name": "stdout",
     "output_type": "stream",
     "text": [
      "Enter a number : 20\n",
      "Enter a number : 30\n",
      "2023-1228  07:58:10 AM --> The addition of 20 & 30 is 50\n",
      "\n"
     ]
    }
   ],
   "source": [
    "import time\n",
    "\n",
    "\n",
    "\n",
    "\n",
    "a = eval(input('Enter a number : '))\n",
    "b = eval(input('Enter a number : '))\n",
    "\n",
    "re = f\"{time.strftime('%Y-%m%d  %I:%M:%S %p')} --> The addition of {a} & {b} is {a+b}\\n\"\n",
    "\n",
    "print(re)\n",
    "\n",
    "with open('file_handling/results.txt' , 'a') as f:\n",
    "    f.write(re)"
   ]
  },
  {
   "cell_type": "markdown",
   "id": "9730bf1e",
   "metadata": {},
   "source": [
    "# Task 3\n",
    "\n",
    "convert png to jpeg image"
   ]
  },
  {
   "cell_type": "code",
   "execution_count": 17,
   "id": "a5c4d667",
   "metadata": {},
   "outputs": [],
   "source": [
    "with open('file_handling/img.png' , 'rb') as f:\n",
    "    data = f.read()\n",
    "    \n",
    "with open('file_handling/img.jpeg' , 'wb') as f1:\n",
    "    f1.write(data)"
   ]
  },
  {
   "cell_type": "markdown",
   "id": "385e940c",
   "metadata": {},
   "source": [
    "# Task 4"
   ]
  },
  {
   "cell_type": "code",
   "execution_count": null,
   "id": "f4f9f1ee",
   "metadata": {},
   "outputs": [],
   "source": [
    "bal = 0\n",
    "\n",
    "def cdm():\n",
    "    global bal\n",
    "    amt = eval(input('enter the amount : '))\n",
    "    bal += amt\n",
    "    print(f\"{amt} has been deposited the current balance is {bal}\")\n",
    "    d = input('Do you want to retry ? y/n : ')\n",
    "    if d == 'y':\n",
    "        return cdm()\n",
    "    elif d == 'n': \n",
    "        return 'Have a nice day'\n",
    "        \n",
    "cdm()"
   ]
  },
  {
   "cell_type": "code",
   "execution_count": null,
   "id": "41ff64bc",
   "metadata": {},
   "outputs": [],
   "source": [
    "cdm_log.txt"
   ]
  },
  {
   "cell_type": "code",
   "execution_count": 20,
   "id": "11abaa4d",
   "metadata": {},
   "outputs": [
    {
     "data": {
      "text/plain": [
       "['Deep into that darkness peering,\\n',\n",
       " '\\n',\n",
       " 'Long I stood there, wondering, fearing,\\n',\n",
       " '\\n',\n",
       " 'Doubting, dreaming dreams no mortals\\n',\n",
       " '\\n',\n",
       " 'Ever dared to dream before;\\n',\n",
       " '\\n',\n",
       " 'But the silence was unbroken,\\n',\n",
       " '\\n',\n",
       " 'And the stillness gave no token,\\n',\n",
       " '\\n',\n",
       " 'And the only word there spoken\\n',\n",
       " '\\n',\n",
       " 'Was the whispered word, \"Lenore!\"\\n',\n",
       " '\\n',\n",
       " 'This I whispered, and an echo\\n',\n",
       " '\\n',\n",
       " 'Murmured back the word, \"Lenore!\"\\n',\n",
       " '\\n',\n",
       " 'Merely this, and nothing more.']"
      ]
     },
     "execution_count": 20,
     "metadata": {},
     "output_type": "execute_result"
    }
   ],
   "source": [
    "f = open('file_handling/poem.txt' , 'r')\n",
    "\n",
    "f.readlines()"
   ]
  },
  {
   "cell_type": "code",
   "execution_count": 31,
   "id": "214ce492",
   "metadata": {},
   "outputs": [],
   "source": [
    "f = open('file_handling/poem.txt' , 'r')"
   ]
  },
  {
   "cell_type": "code",
   "execution_count": 32,
   "id": "bb420ba8",
   "metadata": {},
   "outputs": [
    {
     "data": {
      "text/plain": [
       "['Deep into that darkness peering,\\n',\n",
       " '\\n',\n",
       " 'Long I stood there, wondering, fearing,\\n',\n",
       " '\\n',\n",
       " 'Doubting, dreaming dreams no mortals\\n']"
      ]
     },
     "execution_count": 32,
     "metadata": {},
     "output_type": "execute_result"
    }
   ],
   "source": [
    "f.readlines(100)"
   ]
  },
  {
   "cell_type": "code",
   "execution_count": 33,
   "id": "81e78fa6",
   "metadata": {},
   "outputs": [
    {
     "data": {
      "text/plain": [
       "['\\n',\n",
       " 'Ever dared to dream before;\\n',\n",
       " '\\n',\n",
       " 'But the silence was unbroken,\\n',\n",
       " '\\n',\n",
       " 'And the stillness gave no token,\\n',\n",
       " '\\n',\n",
       " 'And the only word there spoken\\n']"
      ]
     },
     "execution_count": 33,
     "metadata": {},
     "output_type": "execute_result"
    }
   ],
   "source": [
    "f.readlines(100)"
   ]
  },
  {
   "cell_type": "code",
   "execution_count": 34,
   "id": "39d288ea",
   "metadata": {},
   "outputs": [
    {
     "data": {
      "text/plain": [
       "['\\n',\n",
       " 'Was the whispered word, \"Lenore!\"\\n',\n",
       " '\\n',\n",
       " 'This I whispered, and an echo\\n',\n",
       " '\\n',\n",
       " 'Murmured back the word, \"Lenore!\"\\n']"
      ]
     },
     "execution_count": 34,
     "metadata": {},
     "output_type": "execute_result"
    }
   ],
   "source": [
    "f.readlines(100)"
   ]
  },
  {
   "cell_type": "code",
   "execution_count": 35,
   "id": "0eb49289",
   "metadata": {},
   "outputs": [
    {
     "data": {
      "text/plain": [
       "['\\n', 'Merely this, and nothing more.']"
      ]
     },
     "execution_count": 35,
     "metadata": {},
     "output_type": "execute_result"
    }
   ],
   "source": [
    "f.readlines(100)"
   ]
  },
  {
   "cell_type": "code",
   "execution_count": 36,
   "id": "288ce77f",
   "metadata": {},
   "outputs": [
    {
     "data": {
      "text/plain": [
       "[]"
      ]
     },
     "execution_count": 36,
     "metadata": {},
     "output_type": "execute_result"
    }
   ],
   "source": [
    "f.readlines(100)"
   ]
  },
  {
   "cell_type": "code",
   "execution_count": null,
   "id": "03464abb",
   "metadata": {},
   "outputs": [],
   "source": []
  }
 ],
 "metadata": {
  "kernelspec": {
   "display_name": "Python 3 (ipykernel)",
   "language": "python",
   "name": "python3"
  },
  "language_info": {
   "codemirror_mode": {
    "name": "ipython",
    "version": 3
   },
   "file_extension": ".py",
   "mimetype": "text/x-python",
   "name": "python",
   "nbconvert_exporter": "python",
   "pygments_lexer": "ipython3",
   "version": "3.11.4"
  }
 },
 "nbformat": 4,
 "nbformat_minor": 5
}
