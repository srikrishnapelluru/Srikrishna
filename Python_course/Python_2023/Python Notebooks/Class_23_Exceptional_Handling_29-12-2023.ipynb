{
 "cells": [
  {
   "cell_type": "code",
   "execution_count": 11,
   "id": "431fa6d1",
   "metadata": {},
   "outputs": [],
   "source": [
    "f = open('file_handling/poem_3.txt' , 'x')"
   ]
  },
  {
   "cell_type": "markdown",
   "id": "7fbbf780",
   "metadata": {},
   "source": [
    "# Exceptional handling\n",
    "\n",
    "- Handling the error\n",
    "\n",
    "\n",
    "- Type of error\n",
    "\n",
    "1. compile time errors :- syantax , indentation\n",
    "2. runtime error :- TypeError , NameError , Valueerror , zero division error\n",
    "3. logical error --> \n",
    "\n",
    "\n",
    "Exceptional handling can hand only run time error"
   ]
  },
  {
   "cell_type": "code",
   "execution_count": 24,
   "id": "3f2c717a",
   "metadata": {},
   "outputs": [
    {
     "ename": "SyntaxError",
     "evalue": "cannot assign to True (1488504101.py, line 1)",
     "output_type": "error",
     "traceback": [
      "\u001b[1;36m  Cell \u001b[1;32mIn[24], line 1\u001b[1;36m\u001b[0m\n\u001b[1;33m    True = 100\u001b[0m\n\u001b[1;37m    ^\u001b[0m\n\u001b[1;31mSyntaxError\u001b[0m\u001b[1;31m:\u001b[0m cannot assign to True\n"
     ]
    }
   ],
   "source": [
    "True = 100"
   ]
  },
  {
   "cell_type": "code",
   "execution_count": 18,
   "id": "402a5421",
   "metadata": {},
   "outputs": [
    {
     "ename": "IndentationError",
     "evalue": "expected an indented block after 'if' statement on line 4 (49126312.py, line 5)",
     "output_type": "error",
     "traceback": [
      "\u001b[1;36m  Cell \u001b[1;32mIn[18], line 5\u001b[1;36m\u001b[0m\n\u001b[1;33m    print('Hello')\u001b[0m\n\u001b[1;37m    ^\u001b[0m\n\u001b[1;31mIndentationError\u001b[0m\u001b[1;31m:\u001b[0m expected an indented block after 'if' statement on line 4\n"
     ]
    }
   ],
   "source": [
    "a = 10\n",
    "b = 20\n",
    "\n",
    "if a<b:\n",
    "print('Hello')"
   ]
  },
  {
   "cell_type": "code",
   "execution_count": 19,
   "id": "db2b138b",
   "metadata": {},
   "outputs": [
    {
     "name": "stdout",
     "output_type": "stream",
     "text": [
      "10\n"
     ]
    },
    {
     "ename": "TypeError",
     "evalue": "unsupported operand type(s) for +: 'int' and 'str'",
     "output_type": "error",
     "traceback": [
      "\u001b[1;31m---------------------------------------------------------------------------\u001b[0m",
      "\u001b[1;31mTypeError\u001b[0m                                 Traceback (most recent call last)",
      "Cell \u001b[1;32mIn[19], line 6\u001b[0m\n\u001b[0;32m      2\u001b[0m b \u001b[38;5;241m=\u001b[39m \u001b[38;5;124m'\u001b[39m\u001b[38;5;124mstr\u001b[39m\u001b[38;5;124m'\u001b[39m\n\u001b[0;32m      5\u001b[0m \u001b[38;5;28mprint\u001b[39m(a)\n\u001b[1;32m----> 6\u001b[0m \u001b[38;5;28mprint\u001b[39m(a \u001b[38;5;241m+\u001b[39m b)\n",
      "\u001b[1;31mTypeError\u001b[0m: unsupported operand type(s) for +: 'int' and 'str'"
     ]
    }
   ],
   "source": [
    "a = 10\n",
    "b = 'str'\n",
    "\n",
    "\n",
    "print(a)\n",
    "print(a + b)"
   ]
  },
  {
   "cell_type": "code",
   "execution_count": 21,
   "id": "46612698",
   "metadata": {},
   "outputs": [
    {
     "name": "stdout",
     "output_type": "stream",
     "text": [
      "10\n"
     ]
    },
    {
     "ename": "ZeroDivisionError",
     "evalue": "division by zero",
     "output_type": "error",
     "traceback": [
      "\u001b[1;31m---------------------------------------------------------------------------\u001b[0m",
      "\u001b[1;31mZeroDivisionError\u001b[0m                         Traceback (most recent call last)",
      "Cell \u001b[1;32mIn[21], line 6\u001b[0m\n\u001b[0;32m      2\u001b[0m b \u001b[38;5;241m=\u001b[39m \u001b[38;5;124m'\u001b[39m\u001b[38;5;124mstr\u001b[39m\u001b[38;5;124m'\u001b[39m\n\u001b[0;32m      5\u001b[0m \u001b[38;5;28mprint\u001b[39m(a)\n\u001b[1;32m----> 6\u001b[0m \u001b[38;5;241m34\u001b[39m \u001b[38;5;241m/\u001b[39m\u001b[38;5;241m0\u001b[39m\n",
      "\u001b[1;31mZeroDivisionError\u001b[0m: division by zero"
     ]
    }
   ],
   "source": [
    "a = 10\n",
    "b = 'str'\n",
    "\n",
    "\n",
    "print(a)\n",
    "34 /0"
   ]
  },
  {
   "cell_type": "code",
   "execution_count": 23,
   "id": "5922e7a6",
   "metadata": {},
   "outputs": [
    {
     "name": "stdout",
     "output_type": "stream",
     "text": [
      "-10\n"
     ]
    }
   ],
   "source": [
    "a = 10\n",
    "b = 20\n",
    "\n",
    "\n",
    "print(a - b)"
   ]
  },
  {
   "cell_type": "code",
   "execution_count": null,
   "id": "e311e414",
   "metadata": {},
   "outputs": [],
   "source": [
    "# Keywords used in exceptional handling\n",
    "\n",
    "- try\n",
    "- except\n",
    "- else\n",
    "- finally\n",
    "- raise"
   ]
  },
  {
   "cell_type": "code",
   "execution_count": null,
   "id": "eb2affc1",
   "metadata": {},
   "outputs": [],
   "source": [
    "try:\n",
    "    # any code that might give an run time error\n",
    "except:\n",
    "    # back up code which will execute if you try block fails"
   ]
  },
  {
   "cell_type": "code",
   "execution_count": 26,
   "id": "260185cd",
   "metadata": {},
   "outputs": [
    {
     "ename": "ZeroDivisionError",
     "evalue": "division by zero",
     "output_type": "error",
     "traceback": [
      "\u001b[1;31m---------------------------------------------------------------------------\u001b[0m",
      "\u001b[1;31mZeroDivisionError\u001b[0m                         Traceback (most recent call last)",
      "Cell \u001b[1;32mIn[26], line 5\u001b[0m\n\u001b[0;32m      1\u001b[0m a \u001b[38;5;241m=\u001b[39m \u001b[38;5;241m10\u001b[39m\n\u001b[0;32m      2\u001b[0m b \u001b[38;5;241m=\u001b[39m \u001b[38;5;241m0\u001b[39m\n\u001b[1;32m----> 5\u001b[0m \u001b[38;5;28mprint\u001b[39m(a \u001b[38;5;241m/\u001b[39m b)\n",
      "\u001b[1;31mZeroDivisionError\u001b[0m: division by zero"
     ]
    }
   ],
   "source": [
    "a = 10\n",
    "b = 0\n",
    "\n",
    "\n",
    "print(a / b)"
   ]
  },
  {
   "cell_type": "code",
   "execution_count": 29,
   "id": "4b756084",
   "metadata": {},
   "outputs": [
    {
     "name": "stdout",
     "output_type": "stream",
     "text": [
      "Back up code\n"
     ]
    }
   ],
   "source": [
    "a = 10\n",
    "b = 'abc'\n",
    "\n",
    "try:\n",
    "    print(a / b)\n",
    "except:\n",
    "    print('Back up code')"
   ]
  },
  {
   "cell_type": "code",
   "execution_count": 32,
   "id": "83ca4c64",
   "metadata": {},
   "outputs": [
    {
     "ename": "ZeroDivisionError",
     "evalue": "division by zero",
     "output_type": "error",
     "traceback": [
      "\u001b[1;31m---------------------------------------------------------------------------\u001b[0m",
      "\u001b[1;31mZeroDivisionError\u001b[0m                         Traceback (most recent call last)",
      "Cell \u001b[1;32mIn[32], line 5\u001b[0m\n\u001b[0;32m      1\u001b[0m a \u001b[38;5;241m=\u001b[39m \u001b[38;5;241m10\u001b[39m\n\u001b[0;32m      2\u001b[0m b \u001b[38;5;241m=\u001b[39m \u001b[38;5;241m0\u001b[39m\n\u001b[1;32m----> 5\u001b[0m \u001b[38;5;28mprint\u001b[39m(a \u001b[38;5;241m/\u001b[39m b)\n\u001b[0;32m      7\u001b[0m \u001b[38;5;28mprint\u001b[39m(\u001b[38;5;124m'\u001b[39m\u001b[38;5;124mNext function\u001b[39m\u001b[38;5;124m'\u001b[39m)\n",
      "\u001b[1;31mZeroDivisionError\u001b[0m: division by zero"
     ]
    }
   ],
   "source": [
    "a = 10\n",
    "b = 0\n",
    "\n",
    "\n",
    "print(a / b)\n",
    "\n",
    "print('Next function')"
   ]
  },
  {
   "cell_type": "code",
   "execution_count": 33,
   "id": "ac8d6d9c",
   "metadata": {},
   "outputs": [
    {
     "name": "stdout",
     "output_type": "stream",
     "text": [
      "5.0\n",
      "Next function\n"
     ]
    }
   ],
   "source": [
    "a = 10\n",
    "b = 2\n",
    "\n",
    "try:\n",
    "    print(a / b)\n",
    "except:\n",
    "    print('backup code')\n",
    "    \n",
    "print('Next function')"
   ]
  },
  {
   "cell_type": "code",
   "execution_count": 34,
   "id": "900d61a0",
   "metadata": {},
   "outputs": [
    {
     "name": "stdout",
     "output_type": "stream",
     "text": [
      "backup code\n",
      "Next function\n"
     ]
    }
   ],
   "source": [
    "a = 10\n",
    "b = 0\n",
    "\n",
    "try:\n",
    "    print(a / b)\n",
    "except:\n",
    "    print('backup code')\n",
    "    \n",
    "print('Next function')"
   ]
  },
  {
   "cell_type": "code",
   "execution_count": 37,
   "id": "f25ee228",
   "metadata": {},
   "outputs": [
    {
     "name": "stdout",
     "output_type": "stream",
     "text": [
      "enter a number : 672576\n",
      "enter a number : 687\n",
      "979.0043668122271\n",
      "Next function\n"
     ]
    }
   ],
   "source": [
    "\n",
    "\n",
    "try:\n",
    "    a = eval(input('enter a number : '))\n",
    "    b = eval(input('enter a number : '))\n",
    "    print(a / b)\n",
    "    \n",
    "except:\n",
    "    print('backup code')\n",
    "    \n",
    "print('Next function')"
   ]
  },
  {
   "cell_type": "code",
   "execution_count": null,
   "id": "c2963a42",
   "metadata": {},
   "outputs": [],
   "source": [
    "try:\n",
    "    a = eval(input('enter a number : '))\n",
    "    b = eval(input('enter a number : '))\n",
    "    print(a / b)\n",
    "    \n",
    "except:\n",
    "    print('backup code')\n",
    "    \n",
    "print('Next function')"
   ]
  },
  {
   "cell_type": "code",
   "execution_count": null,
   "id": "e9879da3",
   "metadata": {},
   "outputs": [],
   "source": [
    "try:\n",
    "    # any code that might give an run time error\n",
    "except:\n",
    "    # back up code which will execute if you try block fails\n",
    "else:\n",
    "    # If the try block does not fail"
   ]
  },
  {
   "cell_type": "code",
   "execution_count": 42,
   "id": "01b47e64",
   "metadata": {},
   "outputs": [
    {
     "name": "stdout",
     "output_type": "stream",
     "text": [
      "3.3333333333333335\n",
      "Continuation code\n",
      "Next function\n"
     ]
    }
   ],
   "source": [
    "a = 10\n",
    "b = 3\n",
    "    \n",
    "try:\n",
    "    print(a / b)\n",
    "except:\n",
    "    print('backup code')\n",
    "else:\n",
    "    print('Continuation code')\n",
    "    \n",
    "print('Next function')"
   ]
  },
  {
   "cell_type": "code",
   "execution_count": 43,
   "id": "056e96a6",
   "metadata": {},
   "outputs": [
    {
     "name": "stdout",
     "output_type": "stream",
     "text": [
      "backup code\n",
      "Next function\n"
     ]
    }
   ],
   "source": [
    "a = 10\n",
    "b = 'abc'\n",
    "    \n",
    "try:\n",
    "    print(a / b)\n",
    "except:\n",
    "    print('backup code')\n",
    "else:\n",
    "    print('Continuation code')\n",
    "    \n",
    "print('Next function')"
   ]
  },
  {
   "cell_type": "markdown",
   "id": "d10a988e",
   "metadata": {},
   "source": [
    "# Finally"
   ]
  },
  {
   "cell_type": "code",
   "execution_count": 44,
   "id": "2692e742",
   "metadata": {},
   "outputs": [
    {
     "name": "stdout",
     "output_type": "stream",
     "text": [
      "5.0\n",
      "Continuation code\n",
      "Very important part of code\n",
      "Next function\n"
     ]
    }
   ],
   "source": [
    "a = 10\n",
    "b = 2\n",
    "    \n",
    "try:\n",
    "    print(a / b)\n",
    "except:\n",
    "    print('backup code')\n",
    "else:\n",
    "    print('Continuation code')\n",
    "finally:\n",
    "    print('Very important part of code')\n",
    "    \n",
    "print('Next function')"
   ]
  },
  {
   "cell_type": "code",
   "execution_count": 45,
   "id": "4cfc67b4",
   "metadata": {},
   "outputs": [
    {
     "name": "stdout",
     "output_type": "stream",
     "text": [
      "backup code\n",
      "Very important part of code\n",
      "Next function\n"
     ]
    }
   ],
   "source": [
    "a = 10\n",
    "b = 'abc'\n",
    "    \n",
    "try:\n",
    "    print(a / b)\n",
    "except:\n",
    "    print('backup code')\n",
    "else:\n",
    "    print('Continuation code')\n",
    "finally:\n",
    "    print('Very important part of code')\n",
    "    \n",
    "print('Next function')"
   ]
  },
  {
   "cell_type": "code",
   "execution_count": 46,
   "id": "4224f4ed",
   "metadata": {},
   "outputs": [
    {
     "name": "stdout",
     "output_type": "stream",
     "text": [
      "Very important part of code\n"
     ]
    },
    {
     "ename": "TypeError",
     "evalue": "unsupported operand type(s) for +: 'int' and 'str'",
     "output_type": "error",
     "traceback": [
      "\u001b[1;31m---------------------------------------------------------------------------\u001b[0m",
      "\u001b[1;31mTypeError\u001b[0m                                 Traceback (most recent call last)",
      "Cell \u001b[1;32mIn[46], line 5\u001b[0m\n\u001b[0;32m      4\u001b[0m \u001b[38;5;28;01mtry\u001b[39;00m:\n\u001b[1;32m----> 5\u001b[0m     \u001b[38;5;28mprint\u001b[39m(a \u001b[38;5;241m/\u001b[39m b)\n\u001b[0;32m      6\u001b[0m \u001b[38;5;28;01mexcept\u001b[39;00m:\n",
      "\u001b[1;31mTypeError\u001b[0m: unsupported operand type(s) for /: 'int' and 'str'",
      "\nDuring handling of the above exception, another exception occurred:\n",
      "\u001b[1;31mTypeError\u001b[0m                                 Traceback (most recent call last)",
      "Cell \u001b[1;32mIn[46], line 7\u001b[0m\n\u001b[0;32m      5\u001b[0m     \u001b[38;5;28mprint\u001b[39m(a \u001b[38;5;241m/\u001b[39m b)\n\u001b[0;32m      6\u001b[0m \u001b[38;5;28;01mexcept\u001b[39;00m:\n\u001b[1;32m----> 7\u001b[0m     \u001b[38;5;28mprint\u001b[39m(a \u001b[38;5;241m+\u001b[39m b)\n\u001b[0;32m      8\u001b[0m \u001b[38;5;28;01melse\u001b[39;00m:\n\u001b[0;32m      9\u001b[0m     \u001b[38;5;28mprint\u001b[39m(\u001b[38;5;124m'\u001b[39m\u001b[38;5;124mContinuation code\u001b[39m\u001b[38;5;124m'\u001b[39m)\n",
      "\u001b[1;31mTypeError\u001b[0m: unsupported operand type(s) for +: 'int' and 'str'"
     ]
    }
   ],
   "source": [
    "a = 10\n",
    "b = 'abc'\n",
    "    \n",
    "try:\n",
    "    print(a / b)\n",
    "except:\n",
    "    print(a + b)\n",
    "else:\n",
    "    print('Continuation code')\n",
    "finally:\n",
    "    print('Very important part of code')\n",
    "    \n",
    "print('Next function')"
   ]
  },
  {
   "cell_type": "markdown",
   "id": "90e5ca6a",
   "metadata": {},
   "source": [
    "# Showing the errors for the user"
   ]
  },
  {
   "cell_type": "code",
   "execution_count": 48,
   "id": "e36c82ff",
   "metadata": {},
   "outputs": [
    {
     "name": "stdout",
     "output_type": "stream",
     "text": [
      "Backup code\n",
      "Next function\n"
     ]
    }
   ],
   "source": [
    "a = 10\n",
    "b = 0\n",
    "    \n",
    "try:\n",
    "    print(a / b)\n",
    "except:\n",
    "    print('Backup code')\n",
    "    \n",
    "print('Next function')"
   ]
  },
  {
   "cell_type": "code",
   "execution_count": 49,
   "id": "219ae541",
   "metadata": {},
   "outputs": [
    {
     "ename": "ZeroDivisionError",
     "evalue": "division by zero",
     "output_type": "error",
     "traceback": [
      "\u001b[1;31m---------------------------------------------------------------------------\u001b[0m",
      "\u001b[1;31mZeroDivisionError\u001b[0m                         Traceback (most recent call last)",
      "Cell \u001b[1;32mIn[49], line 1\u001b[0m\n\u001b[1;32m----> 1\u001b[0m \u001b[38;5;241m34\u001b[39m \u001b[38;5;241m/\u001b[39m\u001b[38;5;241m0\u001b[39m\n",
      "\u001b[1;31mZeroDivisionError\u001b[0m: division by zero"
     ]
    }
   ],
   "source": [
    "34 /0"
   ]
  },
  {
   "cell_type": "code",
   "execution_count": 50,
   "id": "cee5271d",
   "metadata": {},
   "outputs": [
    {
     "name": "stdout",
     "output_type": "stream",
     "text": [
      "division by zero\n",
      "Backup code\n",
      "Next function\n"
     ]
    }
   ],
   "source": [
    "a = 10\n",
    "b = 0\n",
    "    \n",
    "try:\n",
    "    print(a / b)\n",
    "except Exception as e:\n",
    "    print(e)\n",
    "    print('Backup code')\n",
    "    \n",
    "print('Next function')"
   ]
  },
  {
   "cell_type": "code",
   "execution_count": 51,
   "id": "71227721",
   "metadata": {},
   "outputs": [
    {
     "name": "stdout",
     "output_type": "stream",
     "text": [
      "unsupported operand type(s) for /: 'int' and 'str'\n",
      "Backup code\n",
      "Next function\n"
     ]
    }
   ],
   "source": [
    "a = 10\n",
    "b = 'abc'\n",
    "    \n",
    "try:\n",
    "    print(a / b)\n",
    "except Exception as e:\n",
    "    print(e)\n",
    "    print('Backup code')\n",
    "    \n",
    "print('Next function')"
   ]
  },
  {
   "cell_type": "code",
   "execution_count": 53,
   "id": "a240b862",
   "metadata": {},
   "outputs": [
    {
     "name": "stdout",
     "output_type": "stream",
     "text": [
      "Backup code if failed due to ZeroDivisionError\n",
      "Next function\n"
     ]
    }
   ],
   "source": [
    "a = 10\n",
    "b = 0\n",
    "    \n",
    "try:\n",
    "    print(a / b)\n",
    "except ZeroDivisionError:\n",
    "    print('Backup code if failed due to ZeroDivisionError')\n",
    "except TypeError:\n",
    "    print('Backup code if failed due to TypeError')\n",
    "    \n",
    "print('Next function')"
   ]
  },
  {
   "cell_type": "code",
   "execution_count": 54,
   "id": "1bcd6e04",
   "metadata": {},
   "outputs": [
    {
     "name": "stdout",
     "output_type": "stream",
     "text": [
      "Backup code if failed due to TypeError\n",
      "Next function\n"
     ]
    }
   ],
   "source": [
    "a = 10\n",
    "b = 'abc'\n",
    "    \n",
    "try:\n",
    "    print(a / b)\n",
    "except ZeroDivisionError:\n",
    "    print('Backup code if failed due to ZeroDivisionError')\n",
    "except TypeError:\n",
    "    print('Backup code if failed due to TypeError')\n",
    "    \n",
    "print('Next function')"
   ]
  },
  {
   "cell_type": "code",
   "execution_count": 57,
   "id": "a1ce1ad1",
   "metadata": {},
   "outputs": [
    {
     "ename": "NameError",
     "evalue": "name 'c' is not defined",
     "output_type": "error",
     "traceback": [
      "\u001b[1;31m---------------------------------------------------------------------------\u001b[0m",
      "\u001b[1;31mNameError\u001b[0m                                 Traceback (most recent call last)",
      "Cell \u001b[1;32mIn[57], line 5\u001b[0m\n\u001b[0;32m      2\u001b[0m b \u001b[38;5;241m=\u001b[39m \u001b[38;5;124m'\u001b[39m\u001b[38;5;124mabc\u001b[39m\u001b[38;5;124m'\u001b[39m\n\u001b[0;32m      4\u001b[0m \u001b[38;5;28;01mtry\u001b[39;00m:\n\u001b[1;32m----> 5\u001b[0m     \u001b[38;5;28mprint\u001b[39m(a \u001b[38;5;241m/\u001b[39m c)\n\u001b[0;32m      6\u001b[0m \u001b[38;5;28;01mexcept\u001b[39;00m \u001b[38;5;167;01mZeroDivisionError\u001b[39;00m:\n\u001b[0;32m      7\u001b[0m     \u001b[38;5;28mprint\u001b[39m(\u001b[38;5;124m'\u001b[39m\u001b[38;5;124mBackup code if failed due to ZeroDivisionError\u001b[39m\u001b[38;5;124m'\u001b[39m)\n",
      "\u001b[1;31mNameError\u001b[0m: name 'c' is not defined"
     ]
    }
   ],
   "source": [
    "a = 10\n",
    "b = 'abc'\n",
    "    \n",
    "try:\n",
    "    print(a / c)\n",
    "    \n",
    "except ZeroDivisionError:\n",
    "    print('Backup code if failed due to ZeroDivisionError')\n",
    "    \n",
    "except TypeError:\n",
    "    print('Backup code if failed due to TypeError')\n",
    "    \n",
    "print('Next function')"
   ]
  },
  {
   "cell_type": "code",
   "execution_count": 55,
   "id": "b7d5f439",
   "metadata": {},
   "outputs": [
    {
     "ename": "NameError",
     "evalue": "name 'c' is not defined",
     "output_type": "error",
     "traceback": [
      "\u001b[1;31m---------------------------------------------------------------------------\u001b[0m",
      "\u001b[1;31mNameError\u001b[0m                                 Traceback (most recent call last)",
      "Cell \u001b[1;32mIn[55], line 1\u001b[0m\n\u001b[1;32m----> 1\u001b[0m c\n",
      "\u001b[1;31mNameError\u001b[0m: name 'c' is not defined"
     ]
    }
   ],
   "source": [
    "c"
   ]
  },
  {
   "cell_type": "code",
   "execution_count": 56,
   "id": "97fa2dc5",
   "metadata": {},
   "outputs": [
    {
     "name": "stdout",
     "output_type": "stream",
     "text": [
      "['ArithmeticError', 'AssertionError', 'AttributeError', 'BaseException', 'BaseExceptionGroup', 'BlockingIOError', 'BrokenPipeError', 'BufferError', 'BytesWarning', 'ChildProcessError', 'ConnectionAbortedError', 'ConnectionError', 'ConnectionRefusedError', 'ConnectionResetError', 'DeprecationWarning', 'EOFError', 'Ellipsis', 'EncodingWarning', 'EnvironmentError', 'Exception', 'ExceptionGroup', 'False', 'FileExistsError', 'FileNotFoundError', 'FloatingPointError', 'FutureWarning', 'GeneratorExit', 'IOError', 'ImportError', 'ImportWarning', 'IndentationError', 'IndexError', 'InterruptedError', 'IsADirectoryError', 'KeyError', 'KeyboardInterrupt', 'LookupError', 'MemoryError', 'ModuleNotFoundError', 'NameError', 'None', 'NotADirectoryError', 'NotImplemented', 'NotImplementedError', 'OSError', 'OverflowError', 'PendingDeprecationWarning', 'PermissionError', 'ProcessLookupError', 'RecursionError', 'ReferenceError', 'ResourceWarning', 'RuntimeError', 'RuntimeWarning', 'StopAsyncIteration', 'StopIteration', 'SyntaxError', 'SyntaxWarning', 'SystemError', 'SystemExit', 'TabError', 'TimeoutError', 'True', 'TypeError', 'UnboundLocalError', 'UnicodeDecodeError', 'UnicodeEncodeError', 'UnicodeError', 'UnicodeTranslateError', 'UnicodeWarning', 'UserWarning', 'ValueError', 'Warning', 'WindowsError', 'ZeroDivisionError', '__IPYTHON__', '__build_class__', '__debug__', '__doc__', '__import__', '__loader__', '__name__', '__package__', '__spec__', 'abs', 'aiter', 'all', 'anext', 'any', 'ascii', 'bin', 'bool', 'breakpoint', 'bytearray', 'bytes', 'callable', 'chr', 'classmethod', 'compile', 'complex', 'copyright', 'credits', 'delattr', 'dict', 'dir', 'display', 'divmod', 'enumerate', 'eval', 'exec', 'execfile', 'filter', 'float', 'format', 'frozenset', 'get_ipython', 'getattr', 'globals', 'hasattr', 'hash', 'help', 'hex', 'id', 'input', 'int', 'isinstance', 'issubclass', 'iter', 'len', 'license', 'list', 'locals', 'map', 'max', 'memoryview', 'min', 'next', 'object', 'oct', 'open', 'ord', 'pow', 'print', 'property', 'range', 'repr', 'reversed', 'round', 'runfile', 'set', 'setattr', 'slice', 'sorted', 'staticmethod', 'str', 'sum', 'super', 'tuple', 'type', 'vars', 'zip']\n"
     ]
    }
   ],
   "source": [
    "# List of error\n",
    "\n",
    "print(dir(__builtins__))"
   ]
  },
  {
   "cell_type": "code",
   "execution_count": 59,
   "id": "d5ca5db6",
   "metadata": {},
   "outputs": [
    {
     "name": "stdout",
     "output_type": "stream",
     "text": [
      "common back up\n",
      "Next function\n"
     ]
    }
   ],
   "source": [
    "a = 10\n",
    "b = 'abc'\n",
    "    \n",
    "try:\n",
    "    print(a / c)\n",
    "    \n",
    "except ZeroDivisionError:\n",
    "    print('Backup code if failed due to ZeroDivisionError')\n",
    "    \n",
    "except TypeError:\n",
    "    print('Backup code if failed due to TypeError')\n",
    "    \n",
    "except Exception:\n",
    "    print('common back up')\n",
    "    \n",
    "print('Next function')"
   ]
  },
  {
   "cell_type": "markdown",
   "id": "e5b3cc1d",
   "metadata": {},
   "source": [
    "# Error logging"
   ]
  },
  {
   "cell_type": "code",
   "execution_count": 61,
   "id": "330df663",
   "metadata": {},
   "outputs": [
    {
     "data": {
      "text/plain": [
       "'2023-12-29  08:57:55 AM'"
      ]
     },
     "execution_count": 61,
     "metadata": {},
     "output_type": "execute_result"
    }
   ],
   "source": [
    "import time\n",
    "\n",
    "time.strftime('%Y-%m-%d  %I:%M:%S %p')"
   ]
  },
  {
   "cell_type": "code",
   "execution_count": 67,
   "id": "3fd6028d",
   "metadata": {},
   "outputs": [
    {
     "name": "stdout",
     "output_type": "stream",
     "text": [
      "division by zero\n",
      "backup code\n",
      "Next function\n"
     ]
    }
   ],
   "source": [
    "a = 10\n",
    "b = 0\n",
    "f = open('file_handling/error_loging.txt' , 'a')\n",
    "    \n",
    "try:\n",
    "    print(a / b)\n",
    "    \n",
    "except Exception as e:\n",
    "    f.write(f\"{time.strftime('%Y-%m-%d  %I:%M:%S %p')} --> {e}\\n\")\n",
    "    print(e)\n",
    "    print('backup code')\n",
    "finally:\n",
    "    f.close()\n",
    "    \n",
    "print('Next function')"
   ]
  },
  {
   "cell_type": "markdown",
   "id": "69f19a7d",
   "metadata": {},
   "source": [
    "# Raise"
   ]
  },
  {
   "cell_type": "code",
   "execution_count": 72,
   "id": "93abcedc",
   "metadata": {},
   "outputs": [
    {
     "name": "stdout",
     "output_type": "stream",
     "text": [
      "10\n"
     ]
    },
    {
     "ename": "ZeroDivisionError",
     "evalue": "",
     "output_type": "error",
     "traceback": [
      "\u001b[1;31m---------------------------------------------------------------------------\u001b[0m",
      "\u001b[1;31mZeroDivisionError\u001b[0m                         Traceback (most recent call last)",
      "Cell \u001b[1;32mIn[72], line 5\u001b[0m\n\u001b[0;32m      2\u001b[0m b \u001b[38;5;241m=\u001b[39m \u001b[38;5;241m30\u001b[39m\n\u001b[0;32m      4\u001b[0m \u001b[38;5;28mprint\u001b[39m(a)\n\u001b[1;32m----> 5\u001b[0m \u001b[38;5;28;01mraise\u001b[39;00m \u001b[38;5;167;01mZeroDivisionError\u001b[39;00m\n\u001b[0;32m      6\u001b[0m \u001b[38;5;28mprint\u001b[39m(b)\n",
      "\u001b[1;31mZeroDivisionError\u001b[0m: "
     ]
    }
   ],
   "source": [
    "a = 10\n",
    "b = 30\n",
    "\n",
    "print(a)\n",
    "raise ZeroDivisionError\n",
    "print(b)"
   ]
  },
  {
   "cell_type": "code",
   "execution_count": 73,
   "id": "0d70aa2e",
   "metadata": {},
   "outputs": [
    {
     "name": "stdout",
     "output_type": "stream",
     "text": [
      "10\n"
     ]
    },
    {
     "ename": "ZeroDivisionError",
     "evalue": "Custom message",
     "output_type": "error",
     "traceback": [
      "\u001b[1;31m---------------------------------------------------------------------------\u001b[0m",
      "\u001b[1;31mZeroDivisionError\u001b[0m                         Traceback (most recent call last)",
      "Cell \u001b[1;32mIn[73], line 5\u001b[0m\n\u001b[0;32m      2\u001b[0m b \u001b[38;5;241m=\u001b[39m \u001b[38;5;241m30\u001b[39m\n\u001b[0;32m      4\u001b[0m \u001b[38;5;28mprint\u001b[39m(a)\n\u001b[1;32m----> 5\u001b[0m \u001b[38;5;28;01mraise\u001b[39;00m \u001b[38;5;167;01mZeroDivisionError\u001b[39;00m(\u001b[38;5;124m'\u001b[39m\u001b[38;5;124mCustom message\u001b[39m\u001b[38;5;124m'\u001b[39m)\n\u001b[0;32m      6\u001b[0m \u001b[38;5;28mprint\u001b[39m(b)\n",
      "\u001b[1;31mZeroDivisionError\u001b[0m: Custom message"
     ]
    }
   ],
   "source": [
    "a = 10\n",
    "b = 30\n",
    "\n",
    "print(a)\n",
    "raise ZeroDivisionError('Custom message')\n",
    "print(b)"
   ]
  },
  {
   "cell_type": "code",
   "execution_count": null,
   "id": "d2b21c13",
   "metadata": {},
   "outputs": [],
   "source": [
    "QA_error --> The data "
   ]
  },
  {
   "cell_type": "markdown",
   "id": "d1f6cc1a",
   "metadata": {},
   "source": [
    "# Creating an custom error"
   ]
  },
  {
   "cell_type": "code",
   "execution_count": 74,
   "id": "23de2058",
   "metadata": {},
   "outputs": [],
   "source": [
    "class LearbayError(Exception):\n",
    "    def __init__(self , msg = None):\n",
    "        self.msg = msg"
   ]
  },
  {
   "cell_type": "code",
   "execution_count": 75,
   "id": "f108fa2c",
   "metadata": {},
   "outputs": [
    {
     "name": "stdout",
     "output_type": "stream",
     "text": [
      "10\n"
     ]
    },
    {
     "ename": "LearbayError",
     "evalue": "",
     "output_type": "error",
     "traceback": [
      "\u001b[1;31m---------------------------------------------------------------------------\u001b[0m",
      "\u001b[1;31mLearbayError\u001b[0m                              Traceback (most recent call last)",
      "Cell \u001b[1;32mIn[75], line 5\u001b[0m\n\u001b[0;32m      2\u001b[0m b \u001b[38;5;241m=\u001b[39m \u001b[38;5;241m30\u001b[39m\n\u001b[0;32m      4\u001b[0m \u001b[38;5;28mprint\u001b[39m(a)\n\u001b[1;32m----> 5\u001b[0m \u001b[38;5;28;01mraise\u001b[39;00m LearbayError\n\u001b[0;32m      6\u001b[0m \u001b[38;5;28mprint\u001b[39m(b)\n",
      "\u001b[1;31mLearbayError\u001b[0m: "
     ]
    }
   ],
   "source": [
    "a = 10\n",
    "b = 30\n",
    "\n",
    "print(a)\n",
    "raise LearbayError\n",
    "print(b)"
   ]
  },
  {
   "cell_type": "code",
   "execution_count": 76,
   "id": "fcf1de82",
   "metadata": {},
   "outputs": [
    {
     "name": "stdout",
     "output_type": "stream",
     "text": [
      "10\n"
     ]
    },
    {
     "ename": "LearbayError",
     "evalue": "Message",
     "output_type": "error",
     "traceback": [
      "\u001b[1;31m---------------------------------------------------------------------------\u001b[0m",
      "\u001b[1;31mLearbayError\u001b[0m                              Traceback (most recent call last)",
      "Cell \u001b[1;32mIn[76], line 5\u001b[0m\n\u001b[0;32m      2\u001b[0m b \u001b[38;5;241m=\u001b[39m \u001b[38;5;241m30\u001b[39m\n\u001b[0;32m      4\u001b[0m \u001b[38;5;28mprint\u001b[39m(a)\n\u001b[1;32m----> 5\u001b[0m \u001b[38;5;28;01mraise\u001b[39;00m LearbayError(\u001b[38;5;124m'\u001b[39m\u001b[38;5;124mMessage\u001b[39m\u001b[38;5;124m'\u001b[39m)\n\u001b[0;32m      6\u001b[0m \u001b[38;5;28mprint\u001b[39m(b)\n",
      "\u001b[1;31mLearbayError\u001b[0m: Message"
     ]
    }
   ],
   "source": [
    "a = 10\n",
    "b = 30\n",
    "\n",
    "print(a)\n",
    "raise LearbayError('Message')\n",
    "print(b)"
   ]
  },
  {
   "cell_type": "code",
   "execution_count": 77,
   "id": "fa0d56b6",
   "metadata": {},
   "outputs": [],
   "source": [
    "class InputError(Exception):\n",
    "    def __init__(self , msg = None):\n",
    "        self.msg = msg"
   ]
  },
  {
   "cell_type": "code",
   "execution_count": null,
   "id": "e744bc61",
   "metadata": {},
   "outputs": [],
   "source": [
    "# an input from the user \n",
    "\n",
    "\n",
    "validate the pan card ---> if pan == 10 --> Validation is su\n",
    "if not == 10 raise one error\n",
    "\n",
    "\n",
    "catch that error and ask if the user want to retry y / N ?\n",
    "\n",
    "if Y --> repeated whole process\n",
    "n --> have a nice dat and close the program"
   ]
  },
  {
   "cell_type": "code",
   "execution_count": 80,
   "id": "7ccd51cd",
   "metadata": {},
   "outputs": [
    {
     "name": "stdout",
     "output_type": "stream",
     "text": [
      "Enter PAN Card Number: 223\n",
      "Invalid PAN Card Number\n",
      "Do you want to retry? (y/n) : y\n",
      "Enter PAN Card Number: 4354\n",
      "Invalid PAN Card Number\n",
      "Do you want to retry? (y/n) : y\n",
      "Enter PAN Card Number: 1234567899\n",
      "Validation Successful.\n"
     ]
    }
   ],
   "source": [
    "class PANValidationError(Exception):\n",
    "    def __init__(self, msg = None):\n",
    "        self.msg = msg\n",
    "        \n",
    "\n",
    "def isPANValid(pan_num):\n",
    "    if len(pan_num) == 10:\n",
    "        return True\n",
    "    else:\n",
    "        raise PANValidationError(\"Invalid PAN Card Number\")\n",
    "        \n",
    "def main():\n",
    "    while True:\n",
    "        pan_num = input(\"Enter PAN Card Number: \")\n",
    "        try:\n",
    "            if isPANValid(pan_num):\n",
    "                print(\"Validation Successful.\")\n",
    "                break\n",
    "        except Exception as e:\n",
    "            print(e)\n",
    "            op = input(\"Do you want to retry? (y/n) : \")\n",
    "            if op.lower() != 'y':\n",
    "                print(\"Have a nice day\")\n",
    "                break\n",
    "                \n",
    "main()"
   ]
  },
  {
   "cell_type": "code",
   "execution_count": 81,
   "id": "1db95f94",
   "metadata": {},
   "outputs": [
    {
     "name": "stdout",
     "output_type": "stream",
     "text": [
      "enter Pan Card:\t34\n",
      "Want to retry(Y/N)?:\ty\n",
      "enter Pan Card:\t45\n",
      "Want to retry(Y/N)?:\ty\n",
      "enter Pan Card:\t1234567899\n",
      "validation is successful\n"
     ]
    }
   ],
   "source": [
    "class InputErrors(Exception):\n",
    "    def __init__(self, msg = None):\n",
    "        self.msg = msg\n",
    "\n",
    "\n",
    "retry = \"Y\"\n",
    "while retry == 'Y':\n",
    "        firstData = input(\"enter Pan Card:\\t\")\n",
    "        if len(firstData) == 10:\n",
    "            print(\"validation is successful\")\n",
    "            retry = \"N\"\n",
    "        else:\n",
    "            try: \n",
    "                raise InputErrors(\"Invalid \")\n",
    "            except: \n",
    "                retry = input(\"Want to retry(Y/N)?:\\t\").upper()\n",
    "                if retry != 'Y': \n",
    "                    print(\"Have a nice day!!\")\n"
   ]
  },
  {
   "cell_type": "code",
   "execution_count": 82,
   "id": "37554ed2",
   "metadata": {},
   "outputs": [
    {
     "name": "stdout",
     "output_type": "stream",
     "text": [
      "Enter the pan : 23\n",
      "Wrong pan details\n",
      "Do you want to retry ?y/n : y\n",
      "Enter the pan : 435\n",
      "Wrong pan details\n",
      "Do you want to retry ?y/n : y\n",
      "Enter the pan : 1234567898\n"
     ]
    },
    {
     "data": {
      "text/plain": [
       "'Validation is successfull'"
      ]
     },
     "execution_count": 82,
     "metadata": {},
     "output_type": "execute_result"
    }
   ],
   "source": [
    "class InputError(Exception):\n",
    "    def __init__(self , msg = None):\n",
    "        self.msg = msg\n",
    "        \n",
    "def funct():\n",
    "    pan = input('Enter the pan : ')\n",
    "    try:\n",
    "        if len(pan) == 10:\n",
    "            return 'Validation is successfull'\n",
    "        else:\n",
    "            raise InputError('Wrong pan details')\n",
    "    except InputError as e:\n",
    "        print(e)\n",
    "        d = input('Do you want to retry ?y/n : ')\n",
    "        if d == 'y':\n",
    "            return funct()\n",
    "        else:\n",
    "            return 'have a nice day'\n",
    "        \n",
    "        \n",
    "funct()"
   ]
  },
  {
   "cell_type": "code",
   "execution_count": 86,
   "id": "b0824712",
   "metadata": {},
   "outputs": [
    {
     "name": "stdout",
     "output_type": "stream",
     "text": [
      "enter the PAN number: 34\n",
      "Do you wish to try again : yes/noy\n",
      "enter the PAN number: 1234567890\n",
      "validation is successful\n"
     ]
    }
   ],
   "source": [
    "class inputerror(Exception):\n",
    "    def __init__(self,msg= \"The PAN entered is INVALID\"):\n",
    "        self.msg = msg\n",
    "\n",
    "\n",
    "def Pancard():\n",
    "    try:\n",
    "        a = input(\"enter the PAN number: \")\n",
    "        if len(a)==10:\n",
    "            print(\"validation is successful\")\n",
    "        else:\n",
    "            raise inputerror\n",
    "            \n",
    "    except Exception as e:\n",
    "            print(e)\n",
    "            y = input(\"Do you wish to try again : yes/no\")\n",
    "            if (y == \"yes\")or (y == \"y\"):\n",
    "                return Pancard()\n",
    "            else:\n",
    "                print(\"have a nice day!\")\n",
    "Pancard()"
   ]
  },
  {
   "cell_type": "markdown",
   "id": "c31de952",
   "metadata": {},
   "source": [
    "# Regular expression - REGEX"
   ]
  },
  {
   "cell_type": "code",
   "execution_count": null,
   "id": "d5f824cc",
   "metadata": {},
   "outputs": [],
   "source": []
  }
 ],
 "metadata": {
  "kernelspec": {
   "display_name": "Python 3 (ipykernel)",
   "language": "python",
   "name": "python3"
  },
  "language_info": {
   "codemirror_mode": {
    "name": "ipython",
    "version": 3
   },
   "file_extension": ".py",
   "mimetype": "text/x-python",
   "name": "python",
   "nbconvert_exporter": "python",
   "pygments_lexer": "ipython3",
   "version": "3.11.4"
  }
 },
 "nbformat": 4,
 "nbformat_minor": 5
}
