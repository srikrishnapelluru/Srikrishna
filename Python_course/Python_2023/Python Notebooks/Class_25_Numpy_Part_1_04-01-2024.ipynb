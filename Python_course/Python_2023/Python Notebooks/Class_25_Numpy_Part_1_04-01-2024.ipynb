{
 "cells": [
  {
   "cell_type": "markdown",
   "id": "736c174b",
   "metadata": {},
   "source": [
    "# Numpy - Numerical python\n",
    "\n",
    "\n",
    "- It is a python library used to compute and process single or multi dimensional arrays\n",
    "- It is written in C\n",
    "- An Array should be a homegeneous data"
   ]
  },
  {
   "cell_type": "code",
   "execution_count": null,
   "id": "e3460110",
   "metadata": {},
   "outputs": [],
   "source": [
    "code --> converted --> kernel --> converted --> output\n",
    "\n",
    "code  --> kernel --> output"
   ]
  },
  {
   "cell_type": "code",
   "execution_count": 22,
   "id": "f12f24c1",
   "metadata": {},
   "outputs": [
    {
     "name": "stdout",
     "output_type": "stream",
     "text": [
      "Requirement already satisfied: numpy in c:\\users\\mohammed israr\\anaconda3\\lib\\site-packages (1.24.3)\n",
      "Note: you may need to restart the kernel to use updated packages.\n"
     ]
    }
   ],
   "source": [
    "pip install numpy"
   ]
  },
  {
   "cell_type": "code",
   "execution_count": 23,
   "id": "0c160bf6",
   "metadata": {},
   "outputs": [],
   "source": [
    "import numpy as np"
   ]
  },
  {
   "cell_type": "code",
   "execution_count": null,
   "id": "974d7919",
   "metadata": {},
   "outputs": [],
   "source": [
    "Maths --> Matrix\n",
    "program --> Arrays\n",
    "Deep learning --> Tensor"
   ]
  },
  {
   "cell_type": "markdown",
   "id": "c1b20066",
   "metadata": {},
   "source": [
    "# Creating an array"
   ]
  },
  {
   "cell_type": "markdown",
   "id": "dad216cc",
   "metadata": {},
   "source": [
    "## array function"
   ]
  },
  {
   "cell_type": "code",
   "execution_count": 26,
   "id": "ffef2fe3",
   "metadata": {},
   "outputs": [
    {
     "name": "stdout",
     "output_type": "stream",
     "text": [
      "[34, 45, 56, 67] <class 'list'>\n",
      "[34 45 56 67]\n"
     ]
    }
   ],
   "source": [
    "lst = [34,45,56,67]\n",
    "\n",
    "\n",
    "print(lst , type(lst))\n",
    "\n",
    "\n",
    "arr = np.array(lst)\n",
    "\n",
    "\n",
    "print(arr)"
   ]
  },
  {
   "cell_type": "code",
   "execution_count": 30,
   "id": "39178c21",
   "metadata": {},
   "outputs": [
    {
     "name": "stdout",
     "output_type": "stream",
     "text": [
      "(34, 45, 56, 67) <class 'tuple'>\n",
      "[34 45 56 67] <class 'numpy.ndarray'>\n"
     ]
    }
   ],
   "source": [
    "lst = (34,45,56,67)\n",
    "\n",
    "\n",
    "print(lst , type(lst))\n",
    "\n",
    "\n",
    "arr = np.array(lst)\n",
    "\n",
    "\n",
    "print(arr , type(arr))"
   ]
  },
  {
   "cell_type": "code",
   "execution_count": 33,
   "id": "29950f17",
   "metadata": {},
   "outputs": [
    {
     "name": "stdout",
     "output_type": "stream",
     "text": [
      "[[1 2 3]\n",
      " [4 5 6]\n",
      " [4 5 6]\n",
      " [4 5 6]\n",
      " [4 5 6]]\n"
     ]
    }
   ],
   "source": [
    "lst = [[1,2,3] , [4,5,6] , [4,5,6] , [4,5,6] ,[4,5,6]]\n",
    "\n",
    "arr = np.array(lst)\n",
    "\n",
    "\n",
    "print(arr)"
   ]
  },
  {
   "cell_type": "code",
   "execution_count": 34,
   "id": "3c587758",
   "metadata": {},
   "outputs": [
    {
     "name": "stdout",
     "output_type": "stream",
     "text": [
      "[[[ 1  2  3]\n",
      "  [ 4  5  6]]\n",
      "\n",
      " [[11 12 13]\n",
      "  [14 15 16]]]\n"
     ]
    }
   ],
   "source": [
    "lst = [[[1,2,3] , [4,5,6]] ,[[11,12,13] , [14,15,16]]]\n",
    "\n",
    "arr = np.array(lst)\n",
    "\n",
    "\n",
    "print(arr)"
   ]
  },
  {
   "cell_type": "code",
   "execution_count": 35,
   "id": "170c9051",
   "metadata": {},
   "outputs": [
    {
     "name": "stdout",
     "output_type": "stream",
     "text": [
      "[[[ 1  2  3]\n",
      "  [ 4  5  6]]\n",
      "\n",
      " [[11 12 13]\n",
      "  [14 15 16]]\n",
      "\n",
      " [[11 12 13]\n",
      "  [14 15 16]]\n",
      "\n",
      " [[11 12 13]\n",
      "  [14 15 16]]]\n"
     ]
    }
   ],
   "source": [
    "lst = [[[1,2,3] , [4,5,6]] ,[[11,12,13] , [14,15,16]] ,[[11,12,13] , [14,15,16]] ,[[11,12,13] , [14,15,16]]]\n",
    "\n",
    "arr = np.array(lst)\n",
    "\n",
    "\n",
    "print(arr)"
   ]
  },
  {
   "cell_type": "code",
   "execution_count": 38,
   "id": "8852039b",
   "metadata": {},
   "outputs": [
    {
     "name": "stdout",
     "output_type": "stream",
     "text": [
      "[[1 2 3]\n",
      " [4 5 6]]\n"
     ]
    }
   ],
   "source": [
    "# Few important attributes \n",
    "\n",
    "lst = [[1,2,3] , [4,5,6] ]\n",
    "\n",
    "arr = np.array(lst)\n",
    "\n",
    "\n",
    "print(arr)"
   ]
  },
  {
   "cell_type": "code",
   "execution_count": 41,
   "id": "12d04709",
   "metadata": {},
   "outputs": [
    {
     "name": "stdout",
     "output_type": "stream",
     "text": [
      "6\n",
      "(2, 3)\n",
      "2\n"
     ]
    }
   ],
   "source": [
    "# size --> Totalelements in the array\n",
    "\n",
    "print(arr.size)\n",
    "\n",
    "\n",
    "# Shape ---> The shape of the array\n",
    "\n",
    "print(arr.shape)\n",
    "\n",
    "# ndim --> dimension of the array\n",
    "\n",
    "print(arr.ndim)"
   ]
  },
  {
   "cell_type": "code",
   "execution_count": 42,
   "id": "752403da",
   "metadata": {},
   "outputs": [
    {
     "name": "stdout",
     "output_type": "stream",
     "text": [
      "[[[1 2 3]\n",
      "  [4 5 6]]\n",
      "\n",
      " [[1 2 3]\n",
      "  [4 5 6]]]\n"
     ]
    }
   ],
   "source": [
    "lst = [[[1,2,3] , [4,5,6]] , [[1,2,3] , [4,5,6]]]\n",
    "\n",
    "arr = np.array(lst)\n",
    "\n",
    "\n",
    "print(arr)"
   ]
  },
  {
   "cell_type": "code",
   "execution_count": 43,
   "id": "40358571",
   "metadata": {},
   "outputs": [
    {
     "name": "stdout",
     "output_type": "stream",
     "text": [
      "12\n",
      "(2, 2, 3)\n",
      "3\n"
     ]
    }
   ],
   "source": [
    "# size --> Total elements in the array\n",
    "\n",
    "print(arr.size)\n",
    "\n",
    "\n",
    "# Shape ---> The shape of the array (depth , rows, columns)\n",
    "\n",
    "print(arr.shape)\n",
    "\n",
    "# ndim --> dimension of the array\n",
    "\n",
    "print(arr.ndim)"
   ]
  },
  {
   "cell_type": "markdown",
   "id": "c660e7fd",
   "metadata": {},
   "source": [
    "# 2. Creating an array using an arange function"
   ]
  },
  {
   "cell_type": "code",
   "execution_count": 47,
   "id": "f418ea13",
   "metadata": {},
   "outputs": [
    {
     "data": {
      "text/plain": [
       "[0, 1, 2, 3, 4, 5, 6, 7, 8, 9]"
      ]
     },
     "execution_count": 47,
     "metadata": {},
     "output_type": "execute_result"
    }
   ],
   "source": [
    "list(range(10))"
   ]
  },
  {
   "cell_type": "code",
   "execution_count": 48,
   "id": "9bf9a5c6",
   "metadata": {},
   "outputs": [
    {
     "data": {
      "text/plain": [
       "array([0, 1, 2, 3, 4, 5, 6, 7, 8, 9])"
      ]
     },
     "execution_count": 48,
     "metadata": {},
     "output_type": "execute_result"
    }
   ],
   "source": [
    "np.arange(10)"
   ]
  },
  {
   "cell_type": "code",
   "execution_count": 49,
   "id": "b1da7bad",
   "metadata": {},
   "outputs": [
    {
     "data": {
      "text/plain": [
       "[5, 6, 7, 8, 9]"
      ]
     },
     "execution_count": 49,
     "metadata": {},
     "output_type": "execute_result"
    }
   ],
   "source": [
    "list(range(5,10))"
   ]
  },
  {
   "cell_type": "code",
   "execution_count": 50,
   "id": "593228a4",
   "metadata": {},
   "outputs": [
    {
     "data": {
      "text/plain": [
       "array([5, 6, 7, 8, 9])"
      ]
     },
     "execution_count": 50,
     "metadata": {},
     "output_type": "execute_result"
    }
   ],
   "source": [
    "np.arange(5,10)"
   ]
  },
  {
   "cell_type": "code",
   "execution_count": 51,
   "id": "bcdbce89",
   "metadata": {},
   "outputs": [
    {
     "data": {
      "text/plain": [
       "array([1, 3, 5, 7, 9])"
      ]
     },
     "execution_count": 51,
     "metadata": {},
     "output_type": "execute_result"
    }
   ],
   "source": [
    "np.arange(1,10,2)"
   ]
  },
  {
   "cell_type": "code",
   "execution_count": 52,
   "id": "f82b27ac",
   "metadata": {},
   "outputs": [
    {
     "ename": "TypeError",
     "evalue": "'float' object cannot be interpreted as an integer",
     "output_type": "error",
     "traceback": [
      "\u001b[1;31m---------------------------------------------------------------------------\u001b[0m",
      "\u001b[1;31mTypeError\u001b[0m                                 Traceback (most recent call last)",
      "Cell \u001b[1;32mIn[52], line 1\u001b[0m\n\u001b[1;32m----> 1\u001b[0m \u001b[38;5;28mlist\u001b[39m(\u001b[38;5;28mrange\u001b[39m(\u001b[38;5;241m5.5\u001b[39m,\u001b[38;5;241m10.5\u001b[39m))\n",
      "\u001b[1;31mTypeError\u001b[0m: 'float' object cannot be interpreted as an integer"
     ]
    }
   ],
   "source": [
    "list(range(5.5,10.5))"
   ]
  },
  {
   "cell_type": "code",
   "execution_count": 53,
   "id": "9d29a2ae",
   "metadata": {},
   "outputs": [
    {
     "data": {
      "text/plain": [
       "array([5.5, 6.5, 7.5, 8.5, 9.5])"
      ]
     },
     "execution_count": 53,
     "metadata": {},
     "output_type": "execute_result"
    }
   ],
   "source": [
    "np.arange(5.5,10.5)"
   ]
  },
  {
   "cell_type": "code",
   "execution_count": 57,
   "id": "5d1c7ea1",
   "metadata": {},
   "outputs": [
    {
     "data": {
      "text/plain": [
       "array(['2024-01-01', '2024-01-02', '2024-01-03', '2024-01-04',\n",
       "       '2024-01-05', '2024-01-06', '2024-01-07', '2024-01-08',\n",
       "       '2024-01-09'], dtype='datetime64[D]')"
      ]
     },
     "execution_count": 57,
     "metadata": {},
     "output_type": "execute_result"
    }
   ],
   "source": [
    "np.arange('2024-01-01' , '2024-01-10' , dtype ='datetime64') "
   ]
  },
  {
   "cell_type": "code",
   "execution_count": 59,
   "id": "b71d408d",
   "metadata": {},
   "outputs": [
    {
     "data": {
      "text/plain": [
       "array(['2024-01-01', '2024-01-08', '2024-01-15', '2024-01-22',\n",
       "       '2024-01-29'], dtype='datetime64[D]')"
      ]
     },
     "execution_count": 59,
     "metadata": {},
     "output_type": "execute_result"
    }
   ],
   "source": [
    "# monday for jan\n",
    "\n",
    "np.arange('2024-01-01', '2024-01-31', 7, dtype='datetime64')"
   ]
  },
  {
   "cell_type": "code",
   "execution_count": 58,
   "id": "15424e72",
   "metadata": {},
   "outputs": [
    {
     "name": "stdout",
     "output_type": "stream",
     "text": [
      "['2024-01-01' '2024-01-02' '2024-01-03' '2024-01-04' '2024-01-05'\n",
      " '2024-01-06' '2024-01-07' '2024-01-08' '2024-01-09']\n"
     ]
    }
   ],
   "source": [
    "print(np.arange('2024-01-01' , '2024-01-10' , dtype ='datetime64') )"
   ]
  },
  {
   "cell_type": "code",
   "execution_count": 64,
   "id": "58f57f13",
   "metadata": {},
   "outputs": [
    {
     "name": "stdout",
     "output_type": "stream",
     "text": [
      "['2024-01-01' '2024-01-02' '2024-01-03' '2024-01-04' '2024-01-05'\n",
      " '2024-01-06' '2024-01-07' '2024-01-08' '2024-01-09' '2024-01-10']\n"
     ]
    }
   ],
   "source": [
    "print(np.arange('2024-01-01' , '2024-01-11' , dtype ='datetime64') )"
   ]
  },
  {
   "cell_type": "code",
   "execution_count": 68,
   "id": "027d0e5c",
   "metadata": {},
   "outputs": [
    {
     "data": {
      "text/plain": [
       "array([ 0,  1,  2,  3,  4,  5,  6,  7,  8,  9, 10])"
      ]
     },
     "execution_count": 68,
     "metadata": {},
     "output_type": "execute_result"
    }
   ],
   "source": [
    "np.arange(11)"
   ]
  },
  {
   "cell_type": "code",
   "execution_count": 73,
   "id": "e53e7f65",
   "metadata": {},
   "outputs": [
    {
     "data": {
      "text/plain": [
       "array([ 0.,  1.,  2.,  3.,  4.,  5.,  6.,  7.,  8.,  9., 10.])"
      ]
     },
     "execution_count": 73,
     "metadata": {},
     "output_type": "execute_result"
    }
   ],
   "source": [
    "np.linspace(0,10,11 )"
   ]
  },
  {
   "cell_type": "code",
   "execution_count": 70,
   "id": "729df68c",
   "metadata": {},
   "outputs": [
    {
     "data": {
      "text/plain": [
       "array([ 0,  1,  2,  3,  4,  5,  6,  7,  8,  9, 10])"
      ]
     },
     "execution_count": 70,
     "metadata": {},
     "output_type": "execute_result"
    }
   ],
   "source": [
    "np.linspace(0,10,11 , dtype = int)"
   ]
  },
  {
   "cell_type": "code",
   "execution_count": 72,
   "id": "7f3dc00b",
   "metadata": {},
   "outputs": [
    {
     "data": {
      "text/plain": [
       "array([ 0.        ,  0.1010101 ,  0.2020202 ,  0.3030303 ,  0.4040404 ,\n",
       "        0.50505051,  0.60606061,  0.70707071,  0.80808081,  0.90909091,\n",
       "        1.01010101,  1.11111111,  1.21212121,  1.31313131,  1.41414141,\n",
       "        1.51515152,  1.61616162,  1.71717172,  1.81818182,  1.91919192,\n",
       "        2.02020202,  2.12121212,  2.22222222,  2.32323232,  2.42424242,\n",
       "        2.52525253,  2.62626263,  2.72727273,  2.82828283,  2.92929293,\n",
       "        3.03030303,  3.13131313,  3.23232323,  3.33333333,  3.43434343,\n",
       "        3.53535354,  3.63636364,  3.73737374,  3.83838384,  3.93939394,\n",
       "        4.04040404,  4.14141414,  4.24242424,  4.34343434,  4.44444444,\n",
       "        4.54545455,  4.64646465,  4.74747475,  4.84848485,  4.94949495,\n",
       "        5.05050505,  5.15151515,  5.25252525,  5.35353535,  5.45454545,\n",
       "        5.55555556,  5.65656566,  5.75757576,  5.85858586,  5.95959596,\n",
       "        6.06060606,  6.16161616,  6.26262626,  6.36363636,  6.46464646,\n",
       "        6.56565657,  6.66666667,  6.76767677,  6.86868687,  6.96969697,\n",
       "        7.07070707,  7.17171717,  7.27272727,  7.37373737,  7.47474747,\n",
       "        7.57575758,  7.67676768,  7.77777778,  7.87878788,  7.97979798,\n",
       "        8.08080808,  8.18181818,  8.28282828,  8.38383838,  8.48484848,\n",
       "        8.58585859,  8.68686869,  8.78787879,  8.88888889,  8.98989899,\n",
       "        9.09090909,  9.19191919,  9.29292929,  9.39393939,  9.49494949,\n",
       "        9.5959596 ,  9.6969697 ,  9.7979798 ,  9.8989899 , 10.        ])"
      ]
     },
     "execution_count": 72,
     "metadata": {},
     "output_type": "execute_result"
    }
   ],
   "source": [
    "np.linspace(0,10,100)"
   ]
  },
  {
   "cell_type": "markdown",
   "id": "eb7a54f4",
   "metadata": {},
   "source": [
    "# Zeros , zero's like"
   ]
  },
  {
   "cell_type": "code",
   "execution_count": 74,
   "id": "8ad5a42e",
   "metadata": {},
   "outputs": [
    {
     "data": {
      "text/plain": [
       "array([[0., 0., 0.],\n",
       "       [0., 0., 0.]])"
      ]
     },
     "execution_count": 74,
     "metadata": {},
     "output_type": "execute_result"
    }
   ],
   "source": [
    "np.zeros((2,3))"
   ]
  },
  {
   "cell_type": "code",
   "execution_count": 75,
   "id": "ed1b4170",
   "metadata": {},
   "outputs": [
    {
     "data": {
      "text/plain": [
       "array([[0, 0, 0],\n",
       "       [0, 0, 0]])"
      ]
     },
     "execution_count": 75,
     "metadata": {},
     "output_type": "execute_result"
    }
   ],
   "source": [
    "np.zeros((2,3) , dtype = int)"
   ]
  },
  {
   "cell_type": "code",
   "execution_count": 76,
   "id": "929ea072",
   "metadata": {},
   "outputs": [
    {
     "data": {
      "text/plain": [
       "array([0, 0, 0, 0, 0, 0])"
      ]
     },
     "execution_count": 76,
     "metadata": {},
     "output_type": "execute_result"
    }
   ],
   "source": [
    "np.zeros((6,) , dtype = int)"
   ]
  },
  {
   "cell_type": "code",
   "execution_count": 77,
   "id": "5c30aeb6",
   "metadata": {},
   "outputs": [
    {
     "data": {
      "text/plain": [
       "array([[0, 0, 0, 0],\n",
       "       [0, 0, 0, 0],\n",
       "       [0, 0, 0, 0],\n",
       "       [0, 0, 0, 0],\n",
       "       [0, 0, 0, 0],\n",
       "       [0, 0, 0, 0]])"
      ]
     },
     "execution_count": 77,
     "metadata": {},
     "output_type": "execute_result"
    }
   ],
   "source": [
    "np.zeros((6,4) , dtype = int)"
   ]
  },
  {
   "cell_type": "code",
   "execution_count": 93,
   "id": "3a289c42",
   "metadata": {},
   "outputs": [
    {
     "name": "stdout",
     "output_type": "stream",
     "text": [
      "[[[ 1  2  3]\n",
      "  [ 4  5  6]]\n",
      "\n",
      " [[11 12 13]\n",
      "  [14 15 16]]]\n"
     ]
    }
   ],
   "source": [
    "lst = [[[1,2,3] , [4,5,6]] ,[[11,12,13] , [14,15,16]]]\n",
    "\n",
    "arr = np.array(lst)\n",
    "\n",
    "\n",
    "print(arr)"
   ]
  },
  {
   "cell_type": "code",
   "execution_count": 85,
   "id": "0cf1dfd5",
   "metadata": {},
   "outputs": [
    {
     "data": {
      "text/plain": [
       "array([[[0, 0, 0],\n",
       "        [0, 0, 0]],\n",
       "\n",
       "       [[0, 0, 0],\n",
       "        [0, 0, 0]]])"
      ]
     },
     "execution_count": 85,
     "metadata": {},
     "output_type": "execute_result"
    }
   ],
   "source": [
    "np.zeros_like(arr)"
   ]
  },
  {
   "cell_type": "code",
   "execution_count": 86,
   "id": "43a7e53e",
   "metadata": {},
   "outputs": [
    {
     "data": {
      "text/plain": [
       "array([[[ 1,  2,  3],\n",
       "        [ 4,  5,  6]],\n",
       "\n",
       "       [[11, 12, 13],\n",
       "        [14, 15, 16]]])"
      ]
     },
     "execution_count": 86,
     "metadata": {},
     "output_type": "execute_result"
    }
   ],
   "source": [
    "arr"
   ]
  },
  {
   "cell_type": "markdown",
   "id": "1de40300",
   "metadata": {},
   "source": [
    "# ones , ones like"
   ]
  },
  {
   "cell_type": "code",
   "execution_count": 83,
   "id": "4360a701",
   "metadata": {},
   "outputs": [
    {
     "data": {
      "text/plain": [
       "array([[1, 1, 1],\n",
       "       [1, 1, 1]])"
      ]
     },
     "execution_count": 83,
     "metadata": {},
     "output_type": "execute_result"
    }
   ],
   "source": [
    "np.ones((2,3) , dtype = int)"
   ]
  },
  {
   "cell_type": "code",
   "execution_count": 98,
   "id": "18c2c0fb",
   "metadata": {},
   "outputs": [
    {
     "name": "stdout",
     "output_type": "stream",
     "text": [
      "[[[ 1  2  3]\n",
      "  [ 4  5  6]]\n",
      "\n",
      " [[11 12 13]\n",
      "  [14 15 16]]]\n"
     ]
    }
   ],
   "source": [
    "lst = [[[1,2,3] , [4,5,6]] ,[[11,12,13] , [14,15,16]]]\n",
    "\n",
    "arr = np.array(lst)\n",
    "\n",
    "\n",
    "print(arr)"
   ]
  },
  {
   "cell_type": "code",
   "execution_count": 99,
   "id": "3a660d5a",
   "metadata": {},
   "outputs": [
    {
     "data": {
      "text/plain": [
       "array([[[1, 1, 1],\n",
       "        [1, 1, 1]],\n",
       "\n",
       "       [[1, 1, 1],\n",
       "        [1, 1, 1]]])"
      ]
     },
     "execution_count": 99,
     "metadata": {},
     "output_type": "execute_result"
    }
   ],
   "source": [
    "np.ones_like(arr)"
   ]
  },
  {
   "cell_type": "markdown",
   "id": "67a2d04d",
   "metadata": {},
   "source": [
    "# Identity matrix\n",
    "\n",
    "- square matrix\n",
    "- dia are 1 and rest all are 0"
   ]
  },
  {
   "cell_type": "code",
   "execution_count": 100,
   "id": "55d85f54",
   "metadata": {},
   "outputs": [
    {
     "data": {
      "text/plain": [
       "array([[1., 0., 0., 0.],\n",
       "       [0., 1., 0., 0.],\n",
       "       [0., 0., 1., 0.],\n",
       "       [0., 0., 0., 1.]])"
      ]
     },
     "execution_count": 100,
     "metadata": {},
     "output_type": "execute_result"
    }
   ],
   "source": [
    "np.identity(4)"
   ]
  },
  {
   "cell_type": "code",
   "execution_count": 101,
   "id": "dbd3fc50",
   "metadata": {},
   "outputs": [
    {
     "data": {
      "text/plain": [
       "array([[1, 0, 0, 0],\n",
       "       [0, 1, 0, 0],\n",
       "       [0, 0, 1, 0],\n",
       "       [0, 0, 0, 1]])"
      ]
     },
     "execution_count": 101,
     "metadata": {},
     "output_type": "execute_result"
    }
   ],
   "source": [
    "np.identity(4 , dtype = int)"
   ]
  },
  {
   "cell_type": "code",
   "execution_count": 103,
   "id": "cd52c761",
   "metadata": {},
   "outputs": [
    {
     "data": {
      "text/plain": [
       "array([[1, 0, 0, 0, 0],\n",
       "       [0, 1, 0, 0, 0],\n",
       "       [0, 0, 1, 0, 0],\n",
       "       [0, 0, 0, 1, 0]])"
      ]
     },
     "execution_count": 103,
     "metadata": {},
     "output_type": "execute_result"
    }
   ],
   "source": [
    "np.eye(4,5 , dtype = int)"
   ]
  },
  {
   "cell_type": "markdown",
   "id": "724c7c04",
   "metadata": {},
   "source": [
    "# Creating an array using an random function"
   ]
  },
  {
   "cell_type": "code",
   "execution_count": 109,
   "id": "f299c71e",
   "metadata": {},
   "outputs": [
    {
     "data": {
      "text/plain": [
       "array([[0.94400751, 0.09361617, 0.71587494, 0.60040046, 0.40129778],\n",
       "       [0.76545439, 0.44076357, 0.26541864, 0.20336861, 0.4251168 ],\n",
       "       [0.81158926, 0.18713741, 0.14002878, 0.55694648, 0.25328902],\n",
       "       [0.63095022, 0.63442852, 0.37586964, 0.14850316, 0.02127523]])"
      ]
     },
     "execution_count": 109,
     "metadata": {},
     "output_type": "execute_result"
    }
   ],
   "source": [
    "np.random.rand(4,5) # 0-1"
   ]
  },
  {
   "cell_type": "code",
   "execution_count": 110,
   "id": "02b517c0",
   "metadata": {},
   "outputs": [
    {
     "data": {
      "text/plain": [
       "array([[ 0.8342393 ,  1.60229817, -0.18947151,  0.47418794, -0.55169847],\n",
       "       [ 0.53323998,  0.39071391,  1.21788214,  2.22186063, -0.76574648],\n",
       "       [ 0.61211711,  1.05797327, -0.89357913, -0.72778581, -2.87430689],\n",
       "       [ 1.58707033,  0.73414452, -0.39245607, -1.32017516, -0.73553505]])"
      ]
     },
     "execution_count": 110,
     "metadata": {},
     "output_type": "execute_result"
    }
   ],
   "source": [
    "np.random.randn(4,5)"
   ]
  },
  {
   "cell_type": "code",
   "execution_count": 129,
   "id": "da227032",
   "metadata": {},
   "outputs": [
    {
     "data": {
      "text/plain": [
       "18"
      ]
     },
     "execution_count": 129,
     "metadata": {},
     "output_type": "execute_result"
    }
   ],
   "source": [
    "np.random.randint(10,20)"
   ]
  },
  {
   "cell_type": "code",
   "execution_count": 142,
   "id": "8036d2ad",
   "metadata": {},
   "outputs": [
    {
     "data": {
      "text/plain": [
       "4"
      ]
     },
     "execution_count": 142,
     "metadata": {},
     "output_type": "execute_result"
    }
   ],
   "source": [
    "np.random.randint(1,7)"
   ]
  },
  {
   "cell_type": "code",
   "execution_count": 145,
   "id": "59eb0e2d",
   "metadata": {},
   "outputs": [
    {
     "data": {
      "text/plain": [
       "array([[11, 12, 17, 12],\n",
       "       [10, 17, 12, 12],\n",
       "       [10, 17, 17, 10]])"
      ]
     },
     "execution_count": 145,
     "metadata": {},
     "output_type": "execute_result"
    }
   ],
   "source": [
    "np.random.randint(10,20 , size = (3,4))"
   ]
  },
  {
   "cell_type": "code",
   "execution_count": 159,
   "id": "eeb95088",
   "metadata": {},
   "outputs": [
    {
     "data": {
      "text/plain": [
       "array([[0.14790391, 0.51579028, 0.39425832, 0.06988013, 0.33822577],\n",
       "       [0.01103722, 0.76752786, 0.87472213, 0.53359432, 0.08441275],\n",
       "       [0.8243312 , 0.5045812 , 0.88161863, 0.17404628, 0.40295789],\n",
       "       [0.83212654, 0.97866247, 0.61916477, 0.86992066, 0.2488769 ]])"
      ]
     },
     "execution_count": 159,
     "metadata": {},
     "output_type": "execute_result"
    }
   ],
   "source": [
    "np.random.rand(4,5)"
   ]
  },
  {
   "cell_type": "code",
   "execution_count": 160,
   "id": "22e8e02d",
   "metadata": {},
   "outputs": [
    {
     "data": {
      "text/plain": [
       "array([[0.64303396, 0.30045066, 0.24536055, 0.54602368, 0.11976084],\n",
       "       [0.34309671, 0.63178697, 0.83155192, 0.35538789, 0.23541176],\n",
       "       [0.80203533, 0.60371286, 0.49363014, 0.93305116, 0.65311175],\n",
       "       [0.67884942, 0.31165887, 0.12014239, 0.15491823, 0.76611197]])"
      ]
     },
     "execution_count": 160,
     "metadata": {},
     "output_type": "execute_result"
    }
   ],
   "source": [
    "np.random.rand(4,5)"
   ]
  },
  {
   "cell_type": "code",
   "execution_count": 161,
   "id": "bde0a131",
   "metadata": {},
   "outputs": [
    {
     "data": {
      "text/plain": [
       "array([[0.03856168, 0.78010046, 0.09270376, 0.63289269, 0.01389085],\n",
       "       [0.93615854, 0.42657438, 0.25308645, 0.18996531, 0.41482463],\n",
       "       [0.01342061, 0.64847278, 0.86936875, 0.6090357 , 0.80799282],\n",
       "       [0.82651133, 0.27168333, 0.83647644, 0.28254136, 0.1383086 ]])"
      ]
     },
     "execution_count": 161,
     "metadata": {},
     "output_type": "execute_result"
    }
   ],
   "source": [
    "np.random.seed(34)\n",
    "\n",
    "np.random.rand(4,5)"
   ]
  },
  {
   "cell_type": "code",
   "execution_count": 162,
   "id": "bb06dacd",
   "metadata": {},
   "outputs": [
    {
     "data": {
      "text/plain": [
       "array([[0.03856168, 0.78010046, 0.09270376, 0.63289269, 0.01389085],\n",
       "       [0.93615854, 0.42657438, 0.25308645, 0.18996531, 0.41482463],\n",
       "       [0.01342061, 0.64847278, 0.86936875, 0.6090357 , 0.80799282],\n",
       "       [0.82651133, 0.27168333, 0.83647644, 0.28254136, 0.1383086 ]])"
      ]
     },
     "execution_count": 162,
     "metadata": {},
     "output_type": "execute_result"
    }
   ],
   "source": [
    "np.random.seed(34)\n",
    "\n",
    "np.random.rand(4,5)"
   ]
  },
  {
   "cell_type": "code",
   "execution_count": 158,
   "id": "65933fdc",
   "metadata": {},
   "outputs": [
    {
     "data": {
      "text/plain": [
       "array([[0.45805495, 0.30834961, 0.23148705, 0.27742455, 0.81723481],\n",
       "       [0.11134664, 0.62643723, 0.27678789, 0.68217467, 0.67897078],\n",
       "       [0.79671742, 0.04580216, 0.91259827, 0.21381599, 0.3036373 ],\n",
       "       [0.98906362, 0.1858815 , 0.98872484, 0.75008423, 0.22238605]])"
      ]
     },
     "execution_count": 158,
     "metadata": {},
     "output_type": "execute_result"
    }
   ],
   "source": [
    "np.random.seed(35)\n",
    "\n",
    "np.random.rand(4,5)"
   ]
  },
  {
   "cell_type": "markdown",
   "id": "cc26fe28",
   "metadata": {},
   "source": [
    "# Reshape"
   ]
  },
  {
   "cell_type": "code",
   "execution_count": null,
   "id": "730b1454",
   "metadata": {},
   "outputs": [],
   "source": []
  }
 ],
 "metadata": {
  "kernelspec": {
   "display_name": "Python 3 (ipykernel)",
   "language": "python",
   "name": "python3"
  },
  "language_info": {
   "codemirror_mode": {
    "name": "ipython",
    "version": 3
   },
   "file_extension": ".py",
   "mimetype": "text/x-python",
   "name": "python",
   "nbconvert_exporter": "python",
   "pygments_lexer": "ipython3",
   "version": "3.11.4"
  }
 },
 "nbformat": 4,
 "nbformat_minor": 5
}
