{
 "cells": [
  {
   "cell_type": "markdown",
   "id": "458fa157",
   "metadata": {},
   "source": [
    "# Logical operators"
   ]
  },
  {
   "cell_type": "code",
   "execution_count": 19,
   "id": "4136fdde",
   "metadata": {},
   "outputs": [
    {
     "data": {
      "text/plain": [
       "False"
      ]
     },
     "execution_count": 19,
     "metadata": {},
     "output_type": "execute_result"
    }
   ],
   "source": [
    "True and False"
   ]
  },
  {
   "cell_type": "code",
   "execution_count": 20,
   "id": "4e1be220",
   "metadata": {},
   "outputs": [
    {
     "data": {
      "text/plain": [
       "False"
      ]
     },
     "execution_count": 20,
     "metadata": {},
     "output_type": "execute_result"
    }
   ],
   "source": [
    "False and False"
   ]
  },
  {
   "cell_type": "code",
   "execution_count": 21,
   "id": "3e751f32",
   "metadata": {},
   "outputs": [
    {
     "data": {
      "text/plain": [
       "True"
      ]
     },
     "execution_count": 21,
     "metadata": {},
     "output_type": "execute_result"
    }
   ],
   "source": [
    "True and True"
   ]
  },
  {
   "cell_type": "code",
   "execution_count": 22,
   "id": "d4720d54",
   "metadata": {},
   "outputs": [],
   "source": [
    "user_name = 'xyz@gmail.com'\n",
    "password = 'python'"
   ]
  },
  {
   "cell_type": "code",
   "execution_count": 27,
   "id": "2755603a",
   "metadata": {},
   "outputs": [
    {
     "name": "stdout",
     "output_type": "stream",
     "text": [
      "Enter your mail ID : xyz@gmail.com\n",
      "Enter your password : python\n",
      "Logged in\n"
     ]
    }
   ],
   "source": [
    "a = input('Enter your mail ID : ')\n",
    "b = input('Enter your password : ')\n",
    "\n",
    "if (a == user_name) and ( b == password):\n",
    "    print('Logged in')\n",
    "else:\n",
    "    print('Incorrect Info')"
   ]
  },
  {
   "cell_type": "code",
   "execution_count": 25,
   "id": "9d23071b",
   "metadata": {},
   "outputs": [
    {
     "data": {
      "text/plain": [
       "False"
      ]
     },
     "execution_count": 25,
     "metadata": {},
     "output_type": "execute_result"
    }
   ],
   "source": [
    "True and False"
   ]
  },
  {
   "cell_type": "code",
   "execution_count": 30,
   "id": "52273209",
   "metadata": {},
   "outputs": [
    {
     "name": "stdout",
     "output_type": "stream",
     "text": [
      "Enter your mail ID : xyz@gmail.com\n",
      "Enter your password : world\n",
      "Logged in\n"
     ]
    }
   ],
   "source": [
    "a = input('Enter your mail ID : ')\n",
    "b = input('Enter your password : ')\n",
    "\n",
    "if (a == user_name) or ( b == password):\n",
    "    print('Logged in')\n",
    "else:\n",
    "    print('Incorrect Info')"
   ]
  },
  {
   "cell_type": "code",
   "execution_count": 36,
   "id": "0b17980d",
   "metadata": {},
   "outputs": [
    {
     "data": {
      "text/plain": [
       "False"
      ]
     },
     "execution_count": 36,
     "metadata": {},
     "output_type": "execute_result"
    }
   ],
   "source": [
    "not True"
   ]
  },
  {
   "cell_type": "code",
   "execution_count": 37,
   "id": "3e0b65c9",
   "metadata": {},
   "outputs": [
    {
     "data": {
      "text/plain": [
       "True"
      ]
     },
     "execution_count": 37,
     "metadata": {},
     "output_type": "execute_result"
    }
   ],
   "source": [
    "not False"
   ]
  },
  {
   "cell_type": "code",
   "execution_count": 38,
   "id": "6573291e",
   "metadata": {},
   "outputs": [
    {
     "name": "stdout",
     "output_type": "stream",
     "text": [
      "Enter your mail ID : xyz@gmail.com\n",
      "Enter your password : hello\n",
      "Logged in\n"
     ]
    }
   ],
   "source": [
    "a = input('Enter your mail ID : ')\n",
    "b = input('Enter your password : ')\n",
    "\n",
    "if (a == user_name) and (not ( b == password)):\n",
    "    print('Logged in')\n",
    "else:\n",
    "    print('Incorrect Info')"
   ]
  },
  {
   "cell_type": "code",
   "execution_count": 40,
   "id": "7d320793",
   "metadata": {},
   "outputs": [
    {
     "name": "stdout",
     "output_type": "stream",
     "text": [
      "Sriram@gmail.com\n",
      "Abhishek@gmail.com\n"
     ]
    }
   ],
   "source": [
    "lst = ['Sriram@gmail.com' , 'Abhijeet@yahoo.com' , 'Abhishek@gmail.com' , 'Chandan@hotmail.com' ,\n",
    "      'Dharshan@outlook.com']\n",
    "\n",
    "for i in lst:\n",
    "    if i.endswith('gmail.com'):\n",
    "        print(i)"
   ]
  },
  {
   "cell_type": "code",
   "execution_count": 41,
   "id": "6f9d51bd",
   "metadata": {},
   "outputs": [
    {
     "name": "stdout",
     "output_type": "stream",
     "text": [
      "Abhijeet@yahoo.com\n",
      "Chandan@hotmail.com\n",
      "Dharshan@outlook.com\n"
     ]
    }
   ],
   "source": [
    "lst = ['Sriram@gmail.com' , 'Abhijeet@yahoo.com' , 'Abhishek@gmail.com' , 'Chandan@hotmail.com' ,\n",
    "      'Dharshan@outlook.com']\n",
    "\n",
    "for i in lst:\n",
    "    if not i.endswith('gmail.com'):\n",
    "        print(i)"
   ]
  },
  {
   "cell_type": "code",
   "execution_count": 44,
   "id": "0372dbb5",
   "metadata": {},
   "outputs": [
    {
     "name": "stdout",
     "output_type": "stream",
     "text": [
      "Abhijeet@yahoo.com\n",
      "Chandan@hotmail.com\n",
      "Dharshan@outlook.com\n"
     ]
    }
   ],
   "source": [
    "lst = ['Sriram@gmail.com' , 'Abhijeet@yahoo.com' , 'Abhishek@gmail.com' , 'Chandan@hotmail.com' ,\n",
    "      'Dharshan@outlook.com']\n",
    "\n",
    "for i in lst:\n",
    "    if not i.endswith('gmail.com'):\n",
    "        print(i)"
   ]
  },
  {
   "cell_type": "code",
   "execution_count": 45,
   "id": "6e37d028",
   "metadata": {},
   "outputs": [
    {
     "data": {
      "text/plain": [
       "False"
      ]
     },
     "execution_count": 45,
     "metadata": {},
     "output_type": "execute_result"
    }
   ],
   "source": [
    "True and False"
   ]
  },
  {
   "cell_type": "code",
   "execution_count": 46,
   "id": "ac81daee",
   "metadata": {},
   "outputs": [
    {
     "data": {
      "text/plain": [
       "20"
      ]
     },
     "execution_count": 46,
     "metadata": {},
     "output_type": "execute_result"
    }
   ],
   "source": [
    "10 and 20"
   ]
  },
  {
   "cell_type": "markdown",
   "id": "ac2a5326",
   "metadata": {},
   "source": [
    "# Type casting to bool"
   ]
  },
  {
   "cell_type": "code",
   "execution_count": 47,
   "id": "41d9b398",
   "metadata": {},
   "outputs": [
    {
     "name": "stdout",
     "output_type": "stream",
     "text": [
      "True\n"
     ]
    }
   ],
   "source": [
    "a = 10\n",
    "\n",
    "print(bool(a))"
   ]
  },
  {
   "cell_type": "code",
   "execution_count": 54,
   "id": "546f8812",
   "metadata": {},
   "outputs": [],
   "source": [
    "# - int --> 0 is false and rest all are true\n",
    "# - float --> 0.0 is false and rest all are true\n",
    "# - complex --> 0 + 0j is false and rest all are true\n",
    "# - string - '' is false and rest all are true\n",
    "# - None - Always False\n",
    "\n",
    "# [] , () , {}"
   ]
  },
  {
   "cell_type": "code",
   "execution_count": 56,
   "id": "71dacc8c",
   "metadata": {},
   "outputs": [
    {
     "name": "stdout",
     "output_type": "stream",
     "text": [
      "True\n"
     ]
    }
   ],
   "source": [
    "a = 1\n",
    "\n",
    "print(bool(a))"
   ]
  },
  {
   "cell_type": "code",
   "execution_count": null,
   "id": "64cdc8be",
   "metadata": {},
   "outputs": [],
   "source": [
    "10 and 20"
   ]
  },
  {
   "cell_type": "code",
   "execution_count": null,
   "id": "d180eba4",
   "metadata": {},
   "outputs": [],
   "source": [
    "# And\n",
    "# A and B --> result will be A if A is False else B\n",
    "\n",
    "# or \n",
    "# A or B --> result will be A if A is True else B"
   ]
  },
  {
   "cell_type": "code",
   "execution_count": 72,
   "id": "a8842e34",
   "metadata": {},
   "outputs": [
    {
     "data": {
      "text/plain": [
       "False"
      ]
     },
     "execution_count": 72,
     "metadata": {},
     "output_type": "execute_result"
    }
   ],
   "source": [
    "True and False"
   ]
  },
  {
   "cell_type": "code",
   "execution_count": 71,
   "id": "3acec4c4",
   "metadata": {},
   "outputs": [
    {
     "name": "stdout",
     "output_type": "stream",
     "text": [
      "20\n"
     ]
    }
   ],
   "source": [
    "a = 0\n",
    "b = 20\n",
    "\n",
    "print(a or b)"
   ]
  },
  {
   "cell_type": "code",
   "execution_count": 68,
   "id": "eeb07011",
   "metadata": {},
   "outputs": [
    {
     "data": {
      "text/plain": [
       "True"
      ]
     },
     "execution_count": 68,
     "metadata": {},
     "output_type": "execute_result"
    }
   ],
   "source": [
    "bool(10)"
   ]
  },
  {
   "cell_type": "code",
   "execution_count": 67,
   "id": "dd0a89e1",
   "metadata": {},
   "outputs": [
    {
     "data": {
      "text/plain": [
       "0"
      ]
     },
     "execution_count": 67,
     "metadata": {},
     "output_type": "execute_result"
    }
   ],
   "source": [
    "0 and 20"
   ]
  },
  {
   "cell_type": "code",
   "execution_count": 58,
   "id": "4b46fd55",
   "metadata": {},
   "outputs": [
    {
     "data": {
      "text/plain": [
       "[]"
      ]
     },
     "execution_count": 58,
     "metadata": {},
     "output_type": "execute_result"
    }
   ],
   "source": [
    "[] and 20"
   ]
  },
  {
   "cell_type": "code",
   "execution_count": 59,
   "id": "01878558",
   "metadata": {},
   "outputs": [
    {
     "data": {
      "text/plain": [
       "0.0"
      ]
     },
     "execution_count": 59,
     "metadata": {},
     "output_type": "execute_result"
    }
   ],
   "source": [
    "0.000000 and []"
   ]
  },
  {
   "cell_type": "code",
   "execution_count": 60,
   "id": "b0a0f771",
   "metadata": {},
   "outputs": [
    {
     "data": {
      "text/plain": [
       "0"
      ]
     },
     "execution_count": 60,
     "metadata": {},
     "output_type": "execute_result"
    }
   ],
   "source": [
    "0 and 40"
   ]
  },
  {
   "cell_type": "code",
   "execution_count": 63,
   "id": "594d85f4",
   "metadata": {},
   "outputs": [
    {
     "data": {
      "text/plain": [
       "0"
      ]
     },
     "execution_count": 63,
     "metadata": {},
     "output_type": "execute_result"
    }
   ],
   "source": [
    "70 and 0"
   ]
  },
  {
   "cell_type": "code",
   "execution_count": 64,
   "id": "147853df",
   "metadata": {},
   "outputs": [
    {
     "data": {
      "text/plain": [
       "10"
      ]
     },
     "execution_count": 64,
     "metadata": {},
     "output_type": "execute_result"
    }
   ],
   "source": [
    "\n",
    "# A or B --> result will be A if A is True else B\n",
    "\n",
    "10 or 20"
   ]
  },
  {
   "cell_type": "code",
   "execution_count": 65,
   "id": "55785bb2",
   "metadata": {},
   "outputs": [
    {
     "data": {
      "text/plain": [
       "20"
      ]
     },
     "execution_count": 65,
     "metadata": {},
     "output_type": "execute_result"
    }
   ],
   "source": [
    "10 and 20"
   ]
  },
  {
   "cell_type": "code",
   "execution_count": 66,
   "id": "509a3e7c",
   "metadata": {},
   "outputs": [
    {
     "data": {
      "text/plain": [
       "0"
      ]
     },
     "execution_count": 66,
     "metadata": {},
     "output_type": "execute_result"
    }
   ],
   "source": [
    "'' or 0"
   ]
  },
  {
   "cell_type": "code",
   "execution_count": null,
   "id": "606323d4",
   "metadata": {},
   "outputs": [],
   "source": [
    "# A and B --> result will be A if A is False else B"
   ]
  },
  {
   "cell_type": "code",
   "execution_count": 75,
   "id": "5a66663f",
   "metadata": {},
   "outputs": [
    {
     "data": {
      "text/plain": [
       "20"
      ]
     },
     "execution_count": 75,
     "metadata": {},
     "output_type": "execute_result"
    }
   ],
   "source": [
    "20 or 30"
   ]
  },
  {
   "cell_type": "code",
   "execution_count": 77,
   "id": "0431f40f",
   "metadata": {},
   "outputs": [
    {
     "data": {
      "text/plain": [
       "30"
      ]
     },
     "execution_count": 77,
     "metadata": {},
     "output_type": "execute_result"
    }
   ],
   "source": [
    "'' or 30"
   ]
  },
  {
   "cell_type": "code",
   "execution_count": 78,
   "id": "b07adfea",
   "metadata": {},
   "outputs": [
    {
     "data": {
      "text/plain": [
       "''"
      ]
     },
     "execution_count": 78,
     "metadata": {},
     "output_type": "execute_result"
    }
   ],
   "source": [
    "'' and 30"
   ]
  },
  {
   "cell_type": "code",
   "execution_count": 81,
   "id": "44815914",
   "metadata": {},
   "outputs": [
    {
     "data": {
      "text/plain": [
       "-50"
      ]
     },
     "execution_count": 81,
     "metadata": {},
     "output_type": "execute_result"
    }
   ],
   "source": [
    "'0' and -50"
   ]
  },
  {
   "cell_type": "code",
   "execution_count": 82,
   "id": "7d41bb96",
   "metadata": {},
   "outputs": [
    {
     "name": "stdout",
     "output_type": "stream",
     "text": [
      "Abhijeet@yahoo.com\n",
      "Abhishek@gmail.com\n"
     ]
    }
   ],
   "source": [
    "lst = ['Sriram@gmail.com' , 'Abhijeet@yahoo.com' , 'Abhishek@gmail.com' , 'Chandan@hotmail.com' ,\n",
    "      'Dharshan@outlook.com']\n",
    "\n",
    "for i in lst:\n",
    "    if i[0] == 'A':\n",
    "        print(i)"
   ]
  },
  {
   "cell_type": "code",
   "execution_count": 85,
   "id": "5f20e464",
   "metadata": {},
   "outputs": [
    {
     "name": "stdout",
     "output_type": "stream",
     "text": [
      "Chandan@hotmail.com\n",
      "Chetu@gmail.com\n"
     ]
    }
   ],
   "source": [
    "lst = ['Sriram@gmail.com' , 'Abhijeet@yahoo.com' , 'Abhishek@gmail.com' , 'Chandan@hotmail.com' ,\n",
    "      'Dharshan@outlook.com' , 'Chetu@gmail.com']\n",
    "\n",
    "for i in lst:\n",
    "    if i[0] == ('A' and 'C'):\n",
    "        print(i)"
   ]
  },
  {
   "cell_type": "code",
   "execution_count": 87,
   "id": "42d14989",
   "metadata": {},
   "outputs": [
    {
     "name": "stdout",
     "output_type": "stream",
     "text": [
      "Abhijeet@yahoo.com\n",
      "Abhishek@gmail.com\n",
      "Chandan@hotmail.com\n",
      "Chetu@gmail.com\n"
     ]
    }
   ],
   "source": [
    "lst = ['Sriram@gmail.com' , 'Abhijeet@yahoo.com' , 'Abhishek@gmail.com' , 'Chandan@hotmail.com' ,\n",
    "      'Dharshan@outlook.com' , 'Chetu@gmail.com']\n",
    "\n",
    "for i in lst:\n",
    "    if (i[0] == 'A') or (i[0] == 'C'):\n",
    "        print(i)"
   ]
  },
  {
   "cell_type": "code",
   "execution_count": 88,
   "id": "ecc3a0aa",
   "metadata": {},
   "outputs": [],
   "source": [
    "a = [32,34,45,0,34,0,56]\n",
    "\n",
    "b = [0,34,45,49,56,66,0]"
   ]
  },
  {
   "cell_type": "code",
   "execution_count": 89,
   "id": "91cdb1b8",
   "metadata": {},
   "outputs": [
    {
     "name": "stdout",
     "output_type": "stream",
     "text": [
      "32\n",
      "34\n",
      "45\n",
      "49\n",
      "34\n",
      "66\n",
      "56\n"
     ]
    }
   ],
   "source": [
    "for i in range(len(a)):\n",
    "    print(a[i] or b[i])"
   ]
  },
  {
   "cell_type": "code",
   "execution_count": 97,
   "id": "7184a794",
   "metadata": {},
   "outputs": [
    {
     "data": {
      "text/plain": [
       "40"
      ]
     },
     "execution_count": 97,
     "metadata": {},
     "output_type": "execute_result"
    }
   ],
   "source": [
    "0 or 20 and 40 or 50"
   ]
  },
  {
   "cell_type": "markdown",
   "id": "7ad71ad4",
   "metadata": {},
   "source": [
    "# Assignment operator\n",
    "\n",
    "= "
   ]
  },
  {
   "cell_type": "code",
   "execution_count": 102,
   "id": "14ea6cf6",
   "metadata": {},
   "outputs": [
    {
     "name": "stdout",
     "output_type": "stream",
     "text": [
      "60\n"
     ]
    }
   ],
   "source": [
    "x = 55\n",
    "\n",
    "\n",
    "# Add 5 to the existing value of x and re assign it \n",
    "\n",
    "x = x+5\n",
    "\n",
    "\n",
    "print(x)"
   ]
  },
  {
   "cell_type": "code",
   "execution_count": 104,
   "id": "38fc217c",
   "metadata": {},
   "outputs": [
    {
     "name": "stdout",
     "output_type": "stream",
     "text": [
      "50\n"
     ]
    }
   ],
   "source": [
    "x = 45\n",
    "\n",
    "# Add 5 to the existing value of x and re assign it \n",
    "x += 5\n",
    "\n",
    "print(x)"
   ]
  },
  {
   "cell_type": "code",
   "execution_count": 110,
   "id": "6c025aa7",
   "metadata": {},
   "outputs": [
    {
     "name": "stdout",
     "output_type": "stream",
     "text": [
      "40\n"
     ]
    }
   ],
   "source": [
    "x = 45\n",
    "\n",
    "# sub 5 to the existing value of x and re assign it \n",
    "x -= 5\n",
    "\n",
    "print(x)"
   ]
  },
  {
   "cell_type": "code",
   "execution_count": 111,
   "id": "c9db48b8",
   "metadata": {},
   "outputs": [
    {
     "name": "stdout",
     "output_type": "stream",
     "text": [
      "10\n"
     ]
    }
   ],
   "source": [
    "x = 2\n",
    "\n",
    "x *= 5\n",
    "\n",
    "print(x)"
   ]
  },
  {
   "cell_type": "code",
   "execution_count": 112,
   "id": "866d5807",
   "metadata": {},
   "outputs": [
    {
     "name": "stdout",
     "output_type": "stream",
     "text": [
      "4.0\n"
     ]
    }
   ],
   "source": [
    "x = 20\n",
    "\n",
    "x /= 5\n",
    "\n",
    "print(x)"
   ]
  },
  {
   "cell_type": "markdown",
   "id": "430a798b",
   "metadata": {},
   "source": [
    "# Bitwise operators\n",
    "\n",
    "- bitwise and &\n",
    "- bitwise or |\n",
    "- bitwise xor ^\n",
    "- bitwise left shift <<\n",
    "- bitwise right >>\n",
    "- bitwise not ~"
   ]
  },
  {
   "cell_type": "code",
   "execution_count": 113,
   "id": "44f5bfa3",
   "metadata": {},
   "outputs": [
    {
     "name": "stdout",
     "output_type": "stream",
     "text": [
      "20\n"
     ]
    }
   ],
   "source": [
    "a = 10\n",
    "b = 20\n",
    "\n",
    "print(a and b)"
   ]
  },
  {
   "cell_type": "code",
   "execution_count": 114,
   "id": "3caae91e",
   "metadata": {},
   "outputs": [
    {
     "name": "stdout",
     "output_type": "stream",
     "text": [
      "0\n"
     ]
    }
   ],
   "source": [
    "a = 10\n",
    "\n",
    "b = 20\n",
    "\n",
    "print(a & b)"
   ]
  },
  {
   "cell_type": "code",
   "execution_count": 115,
   "id": "924b50f5",
   "metadata": {},
   "outputs": [
    {
     "name": "stdout",
     "output_type": "stream",
     "text": [
      "36\n"
     ]
    }
   ],
   "source": [
    "a = 55\n",
    "\n",
    "b = 44\n",
    "\n",
    "print(a & b)"
   ]
  },
  {
   "cell_type": "code",
   "execution_count": null,
   "id": "c14554c2",
   "metadata": {},
   "outputs": [],
   "source": [
    "55 --> 1   1    0    1    1    1\n",
    "44 --> 1   0    1    1    0    0\n",
    "\n",
    "\n",
    "        1    0     0     1     0     0"
   ]
  },
  {
   "cell_type": "code",
   "execution_count": 116,
   "id": "8723777d",
   "metadata": {},
   "outputs": [
    {
     "data": {
      "text/plain": [
       "36"
      ]
     },
     "execution_count": 116,
     "metadata": {},
     "output_type": "execute_result"
    }
   ],
   "source": [
    "int(0b100100)"
   ]
  },
  {
   "cell_type": "code",
   "execution_count": 117,
   "id": "f3f95c58",
   "metadata": {},
   "outputs": [
    {
     "name": "stdout",
     "output_type": "stream",
     "text": [
      "0\n"
     ]
    }
   ],
   "source": [
    "a = 10\n",
    "\n",
    "b = 4\n",
    "\n",
    "print(a & b)"
   ]
  },
  {
   "cell_type": "code",
   "execution_count": 119,
   "id": "17f60c9e",
   "metadata": {},
   "outputs": [
    {
     "name": "stdout",
     "output_type": "stream",
     "text": [
      "63\n"
     ]
    }
   ],
   "source": [
    "a = 55\n",
    "\n",
    "b = 44\n",
    "\n",
    "print(a | b)"
   ]
  },
  {
   "cell_type": "code",
   "execution_count": null,
   "id": "05c46dff",
   "metadata": {},
   "outputs": [],
   "source": [
    "55 --> 1   1    0    1    1    1\n",
    "44 --> 1   0    1    1    0    0\n",
    "\n",
    "\n",
    "       1     1     1    1     1     1"
   ]
  },
  {
   "cell_type": "code",
   "execution_count": 118,
   "id": "69a93a25",
   "metadata": {},
   "outputs": [
    {
     "data": {
      "text/plain": [
       "63"
      ]
     },
     "execution_count": 118,
     "metadata": {},
     "output_type": "execute_result"
    }
   ],
   "source": [
    "int(0b111111)"
   ]
  },
  {
   "cell_type": "code",
   "execution_count": 121,
   "id": "7105119b",
   "metadata": {},
   "outputs": [
    {
     "name": "stdout",
     "output_type": "stream",
     "text": [
      "27\n"
     ]
    }
   ],
   "source": [
    "a = 55\n",
    "\n",
    "b = 44\n",
    "\n",
    "print(a ^ b)"
   ]
  },
  {
   "cell_type": "code",
   "execution_count": null,
   "id": "b20681e9",
   "metadata": {},
   "outputs": [],
   "source": [
    "55 --> 1   1    0    1    1    1\n",
    "44 --> 1   0    1    1    0    0\n",
    "\n",
    "\n",
    "       0    1     1      0     1     1 "
   ]
  },
  {
   "cell_type": "code",
   "execution_count": 120,
   "id": "7a5c42bd",
   "metadata": {},
   "outputs": [
    {
     "data": {
      "text/plain": [
       "27"
      ]
     },
     "execution_count": 120,
     "metadata": {},
     "output_type": "execute_result"
    }
   ],
   "source": [
    "int(0b011011)"
   ]
  },
  {
   "cell_type": "markdown",
   "id": "40f3acc3",
   "metadata": {},
   "source": [
    "# bitwise left shift <<\n",
    "\n",
    "A * (2**n)"
   ]
  },
  {
   "cell_type": "code",
   "execution_count": 125,
   "id": "0fb97cf3",
   "metadata": {},
   "outputs": [
    {
     "name": "stdout",
     "output_type": "stream",
     "text": [
      "1232\n"
     ]
    }
   ],
   "source": [
    "x = 77\n",
    "\n",
    "\n",
    "print(x << 4)"
   ]
  },
  {
   "cell_type": "code",
   "execution_count": 124,
   "id": "d9204dae",
   "metadata": {},
   "outputs": [
    {
     "data": {
      "text/plain": [
       "1232"
      ]
     },
     "execution_count": 124,
     "metadata": {},
     "output_type": "execute_result"
    }
   ],
   "source": [
    "77 * 16"
   ]
  },
  {
   "cell_type": "code",
   "execution_count": 126,
   "id": "71ddfea2",
   "metadata": {},
   "outputs": [
    {
     "data": {
      "text/plain": [
       "'0b1001101'"
      ]
     },
     "execution_count": 126,
     "metadata": {},
     "output_type": "execute_result"
    }
   ],
   "source": [
    "bin(77)"
   ]
  },
  {
   "cell_type": "code",
   "execution_count": 127,
   "id": "f92b5789",
   "metadata": {},
   "outputs": [
    {
     "data": {
      "text/plain": [
       "1232"
      ]
     },
     "execution_count": 127,
     "metadata": {},
     "output_type": "execute_result"
    }
   ],
   "source": [
    "int(0b10011010000)"
   ]
  },
  {
   "cell_type": "code",
   "execution_count": 130,
   "id": "7eff31d8",
   "metadata": {},
   "outputs": [
    {
     "name": "stdout",
     "output_type": "stream",
     "text": [
      "448\n"
     ]
    }
   ],
   "source": [
    "x = 56\n",
    "\n",
    "\n",
    "print(x << 3)"
   ]
  },
  {
   "cell_type": "code",
   "execution_count": 128,
   "id": "ac13d68c",
   "metadata": {},
   "outputs": [
    {
     "data": {
      "text/plain": [
       "'0b111000'"
      ]
     },
     "execution_count": 128,
     "metadata": {},
     "output_type": "execute_result"
    }
   ],
   "source": [
    "bin(56)"
   ]
  },
  {
   "cell_type": "code",
   "execution_count": 129,
   "id": "48c281ae",
   "metadata": {},
   "outputs": [
    {
     "data": {
      "text/plain": [
       "448"
      ]
     },
     "execution_count": 129,
     "metadata": {},
     "output_type": "execute_result"
    }
   ],
   "source": [
    "int(0b111000000)"
   ]
  },
  {
   "cell_type": "code",
   "execution_count": null,
   "id": "8a502286",
   "metadata": {},
   "outputs": [],
   "source": [
    "## Bitwise right shift >>\n",
    "\n",
    "A // (2**n)"
   ]
  },
  {
   "cell_type": "code",
   "execution_count": 132,
   "id": "253fa7ad",
   "metadata": {},
   "outputs": [
    {
     "name": "stdout",
     "output_type": "stream",
     "text": [
      "14\n"
     ]
    }
   ],
   "source": [
    "x = 56\n",
    "\n",
    "\n",
    "print(x >> 2)"
   ]
  },
  {
   "cell_type": "code",
   "execution_count": 131,
   "id": "758a6510",
   "metadata": {},
   "outputs": [
    {
     "data": {
      "text/plain": [
       "14"
      ]
     },
     "execution_count": 131,
     "metadata": {},
     "output_type": "execute_result"
    }
   ],
   "source": [
    "56 // 4"
   ]
  },
  {
   "cell_type": "code",
   "execution_count": 133,
   "id": "059b3a3f",
   "metadata": {},
   "outputs": [
    {
     "data": {
      "text/plain": [
       "14"
      ]
     },
     "execution_count": 133,
     "metadata": {},
     "output_type": "execute_result"
    }
   ],
   "source": [
    "int(0b001110)"
   ]
  },
  {
   "cell_type": "code",
   "execution_count": 136,
   "id": "8b8d58d3",
   "metadata": {},
   "outputs": [
    {
     "name": "stdout",
     "output_type": "stream",
     "text": [
      "4\n"
     ]
    }
   ],
   "source": [
    "x = 77\n",
    "\n",
    "\n",
    "print(x >> 4)"
   ]
  },
  {
   "cell_type": "code",
   "execution_count": 134,
   "id": "2afc5a4f",
   "metadata": {},
   "outputs": [
    {
     "data": {
      "text/plain": [
       "'0b1001101'"
      ]
     },
     "execution_count": 134,
     "metadata": {},
     "output_type": "execute_result"
    }
   ],
   "source": [
    "bin(77)"
   ]
  },
  {
   "cell_type": "code",
   "execution_count": 135,
   "id": "d3ea510a",
   "metadata": {},
   "outputs": [
    {
     "data": {
      "text/plain": [
       "4"
      ]
     },
     "execution_count": 135,
     "metadata": {},
     "output_type": "execute_result"
    }
   ],
   "source": [
    "int(0b0000100)"
   ]
  },
  {
   "cell_type": "code",
   "execution_count": null,
   "id": "41741715",
   "metadata": {},
   "outputs": [],
   "source": [
    "# Bitwise not\n",
    "\n",
    "adds 1 to the existing\n",
    "converts it sign"
   ]
  },
  {
   "cell_type": "code",
   "execution_count": 137,
   "id": "308c5a67",
   "metadata": {},
   "outputs": [
    {
     "name": "stdout",
     "output_type": "stream",
     "text": [
      "-67\n"
     ]
    }
   ],
   "source": [
    "x = 66\n",
    "\n",
    "\n",
    "print(~x)"
   ]
  },
  {
   "cell_type": "code",
   "execution_count": 138,
   "id": "ac717d33",
   "metadata": {},
   "outputs": [
    {
     "name": "stdout",
     "output_type": "stream",
     "text": [
      "98\n"
     ]
    }
   ],
   "source": [
    "x = -99\n",
    "\n",
    "\n",
    "print(~x)"
   ]
  },
  {
   "cell_type": "markdown",
   "id": "ff2638e9",
   "metadata": {},
   "source": [
    "# Identity operators"
   ]
  },
  {
   "cell_type": "code",
   "execution_count": 141,
   "id": "48599594",
   "metadata": {},
   "outputs": [
    {
     "name": "stdout",
     "output_type": "stream",
     "text": [
      "2\n"
     ]
    }
   ],
   "source": [
    "a = -10\n",
    "b = 3\n",
    "\n",
    "\n",
    "print(a % b)"
   ]
  },
  {
   "cell_type": "code",
   "execution_count": 142,
   "id": "7428ac07",
   "metadata": {},
   "outputs": [
    {
     "name": "stdout",
     "output_type": "stream",
     "text": [
      "1\n"
     ]
    }
   ],
   "source": [
    "a = 10\n",
    "b = 3\n",
    "\n",
    "\n",
    "print(a % b)"
   ]
  },
  {
   "cell_type": "code",
   "execution_count": 144,
   "id": "cf73717c",
   "metadata": {},
   "outputs": [
    {
     "name": "stdout",
     "output_type": "stream",
     "text": [
      "1\n"
     ]
    }
   ],
   "source": [
    "a = -17\n",
    "b = 3\n",
    "\n",
    "\n",
    "print(a % b)"
   ]
  },
  {
   "cell_type": "code",
   "execution_count": 145,
   "id": "c852480b",
   "metadata": {},
   "outputs": [
    {
     "name": "stdout",
     "output_type": "stream",
     "text": [
      "1\n"
     ]
    }
   ],
   "source": [
    "a = 15\n",
    "b = 2\n",
    "\n",
    "\n",
    "print(a % b)"
   ]
  },
  {
   "cell_type": "code",
   "execution_count": null,
   "id": "b5e4b023",
   "metadata": {},
   "outputs": [],
   "source": []
  }
 ],
 "metadata": {
  "kernelspec": {
   "display_name": "Python 3 (ipykernel)",
   "language": "python",
   "name": "python3"
  },
  "language_info": {
   "codemirror_mode": {
    "name": "ipython",
    "version": 3
   },
   "file_extension": ".py",
   "mimetype": "text/x-python",
   "name": "python",
   "nbconvert_exporter": "python",
   "pygments_lexer": "ipython3",
   "version": "3.11.4"
  }
 },
 "nbformat": 4,
 "nbformat_minor": 5
}
