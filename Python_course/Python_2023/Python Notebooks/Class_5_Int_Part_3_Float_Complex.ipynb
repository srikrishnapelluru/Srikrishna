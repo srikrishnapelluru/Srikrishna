{
 "cells": [
  {
   "cell_type": "markdown",
   "id": "a942589e",
   "metadata": {},
   "source": [
    "# Identity operators\n",
    "\n",
    "is \n",
    "\n",
    "is not"
   ]
  },
  {
   "cell_type": "code",
   "execution_count": 5,
   "id": "0fad3f60",
   "metadata": {},
   "outputs": [
    {
     "name": "stdout",
     "output_type": "stream",
     "text": [
      "True\n"
     ]
    }
   ],
   "source": [
    "a = 90\n",
    "b = 90\n",
    "\n",
    "\n",
    "print(a == b)"
   ]
  },
  {
   "cell_type": "code",
   "execution_count": 6,
   "id": "b319e927",
   "metadata": {},
   "outputs": [
    {
     "name": "stdout",
     "output_type": "stream",
     "text": [
      "True\n"
     ]
    }
   ],
   "source": [
    "a = 90\n",
    "b = 90\n",
    "\n",
    "\n",
    "print(a is b)"
   ]
  },
  {
   "cell_type": "code",
   "execution_count": 9,
   "id": "05496495",
   "metadata": {},
   "outputs": [
    {
     "name": "stdout",
     "output_type": "stream",
     "text": [
      "140730648990792\n",
      "140730648990792\n",
      "140730648991112\n"
     ]
    }
   ],
   "source": [
    "a = 10\n",
    "c = 10\n",
    "b = 20\n",
    "\n",
    "print(id(a))\n",
    "print(id(c))\n",
    "print(id(b))"
   ]
  },
  {
   "cell_type": "code",
   "execution_count": null,
   "id": "af50c248",
   "metadata": {},
   "outputs": [],
   "source": [
    "# Memory reusabillity\n",
    "\n",
    "Applicable for\n",
    "\n",
    "- int - -5 to 256\n",
    "- Bool\n",
    "- None\n",
    "- str , A-Z , a-z , 0 to 9 , _\n",
    "\n",
    "Not applicable for\n",
    "- float\n",
    "- complex"
   ]
  },
  {
   "cell_type": "code",
   "execution_count": 17,
   "id": "c977ab9a",
   "metadata": {},
   "outputs": [
    {
     "name": "stdout",
     "output_type": "stream",
     "text": [
      "140730647521824\n",
      "140730647521824\n",
      "True\n"
     ]
    }
   ],
   "source": [
    "a = True\n",
    "b = True\n",
    "\n",
    "print(id(a))\n",
    "\n",
    "print(id(b))\n",
    "\n",
    "print(a is b)"
   ]
  },
  {
   "cell_type": "code",
   "execution_count": 16,
   "id": "dbfd7c84",
   "metadata": {},
   "outputs": [
    {
     "name": "stdout",
     "output_type": "stream",
     "text": [
      "2152899021136\n",
      "2152899022096\n",
      "False\n"
     ]
    }
   ],
   "source": [
    "a = 10+8j\n",
    "b = 10+8j\n",
    "\n",
    "print(id(a))\n",
    "\n",
    "print(id(b))\n",
    "\n",
    "print(a is b)"
   ]
  },
  {
   "cell_type": "code",
   "execution_count": 12,
   "id": "1892be16",
   "metadata": {},
   "outputs": [
    {
     "name": "stdout",
     "output_type": "stream",
     "text": [
      "140730648993672\n",
      "140730648993672\n",
      "True\n"
     ]
    }
   ],
   "source": [
    "a = 100\n",
    "b = 100\n",
    "\n",
    "print(id(a))\n",
    "\n",
    "print(id(b))\n",
    "\n",
    "print(a is b)"
   ]
  },
  {
   "cell_type": "code",
   "execution_count": 14,
   "id": "8c4c4cb2",
   "metadata": {},
   "outputs": [
    {
     "name": "stdout",
     "output_type": "stream",
     "text": [
      "2152899020912\n",
      "2152899021232\n",
      "False\n",
      "True\n"
     ]
    }
   ],
   "source": [
    "a = 300\n",
    "b = 300\n",
    "\n",
    "print(id(a))\n",
    "print(id(b))\n",
    "\n",
    "print(a is b)\n",
    "\n",
    "print(a == b)"
   ]
  },
  {
   "cell_type": "code",
   "execution_count": 15,
   "id": "7e39742e",
   "metadata": {},
   "outputs": [
    {
     "name": "stdout",
     "output_type": "stream",
     "text": [
      "2152899019024\n",
      "2152899024048\n",
      "False\n"
     ]
    }
   ],
   "source": [
    "a = 99.0\n",
    "b = 99.0\n",
    "\n",
    "print(id(a))\n",
    "\n",
    "print(id(b))\n",
    "\n",
    "print(a is b)"
   ]
  },
  {
   "cell_type": "code",
   "execution_count": 18,
   "id": "cd60a6f1",
   "metadata": {},
   "outputs": [
    {
     "name": "stdout",
     "output_type": "stream",
     "text": [
      "2152899801264\n",
      "2152899801264\n",
      "True\n"
     ]
    }
   ],
   "source": [
    "a = 'DATA_science123'\n",
    "b = 'DATA_science123'\n",
    "\n",
    "print(id(a))\n",
    "\n",
    "print(id(b))\n",
    "\n",
    "print(a is b)"
   ]
  },
  {
   "cell_type": "code",
   "execution_count": 19,
   "id": "d6683911",
   "metadata": {},
   "outputs": [
    {
     "name": "stdout",
     "output_type": "stream",
     "text": [
      "2152899795184\n",
      "2152899800368\n",
      "False\n"
     ]
    }
   ],
   "source": [
    "a = 'DATA@science123'\n",
    "b = 'DATA@science123'\n",
    "\n",
    "print(id(a))\n",
    "\n",
    "print(id(b))\n",
    "\n",
    "print(a is b)"
   ]
  },
  {
   "cell_type": "code",
   "execution_count": 44,
   "id": "157ac9b8",
   "metadata": {},
   "outputs": [
    {
     "name": "stdout",
     "output_type": "stream",
     "text": [
      "2152958624944\n",
      "2152964782576\n",
      "False\n",
      "True\n"
     ]
    }
   ],
   "source": [
    "a = 'this/is/python'\n",
    "b = 'this/is/python'\n",
    "\n",
    "print(id(a))\n",
    "\n",
    "print(id(b))\n",
    "\n",
    "print(a is b)\n",
    "\n",
    "print(a == b)"
   ]
  },
  {
   "cell_type": "code",
   "execution_count": 47,
   "id": "ed703315",
   "metadata": {},
   "outputs": [
    {
     "name": "stdout",
     "output_type": "stream",
     "text": [
      "True\n"
     ]
    }
   ],
   "source": [
    "a = 999\n",
    "b = 999\n",
    "\n",
    "\n",
    "print(a == b)"
   ]
  },
  {
   "cell_type": "code",
   "execution_count": 54,
   "id": "ead844df",
   "metadata": {},
   "outputs": [
    {
     "name": "stdout",
     "output_type": "stream",
     "text": [
      "False\n",
      "True\n"
     ]
    }
   ],
   "source": [
    "a = 999\n",
    "b = 999\n",
    "\n",
    "print(a is b)\n",
    "\n",
    "print(a is not b)"
   ]
  },
  {
   "cell_type": "code",
   "execution_count": null,
   "id": "c6576713",
   "metadata": {},
   "outputs": [],
   "source": [
    "- Arithmetic\n",
    "- comparision\n",
    "- equality\n",
    "- logical\n",
    "- assignment\n",
    "- bitwise\n",
    "- Identity"
   ]
  },
  {
   "cell_type": "markdown",
   "id": "e79f73b4",
   "metadata": {},
   "source": [
    "# Float\n",
    "\n",
    "\n",
    "- Opertors possible\n",
    "\n",
    "\n",
    "- Operator not possible"
   ]
  },
  {
   "cell_type": "markdown",
   "id": "1a6b1b2b",
   "metadata": {},
   "source": [
    "# Complex\n",
    "\n",
    "- Opertors possible\n",
    "\n",
    "\n",
    "- Operator not possible"
   ]
  },
  {
   "cell_type": "markdown",
   "id": "d4c1e8f8",
   "metadata": {},
   "source": [
    "# String\n",
    "\n",
    "Anything written inside \n",
    "\n",
    "'..' , \"..\" , '''..''' , \"\"\"..\"\"\""
   ]
  },
  {
   "cell_type": "code",
   "execution_count": 56,
   "id": "8871e1da",
   "metadata": {},
   "outputs": [
    {
     "name": "stdout",
     "output_type": "stream",
     "text": [
      "99 <class 'str'>\n"
     ]
    }
   ],
   "source": [
    "a = '99'\n",
    "\n",
    "\n",
    "print(a , type(a))"
   ]
  },
  {
   "cell_type": "code",
   "execution_count": 57,
   "id": "0334ef70",
   "metadata": {},
   "outputs": [
    {
     "name": "stdout",
     "output_type": "stream",
     "text": [
      "this is pythons class <class 'str'>\n"
     ]
    }
   ],
   "source": [
    "a = 'this is pythons class'\n",
    "\n",
    "\n",
    "print(a , type(a))"
   ]
  },
  {
   "cell_type": "code",
   "execution_count": 58,
   "id": "25bfd90e",
   "metadata": {},
   "outputs": [
    {
     "ename": "SyntaxError",
     "evalue": "unterminated string literal (detected at line 1) (2805396029.py, line 1)",
     "output_type": "error",
     "traceback": [
      "\u001b[1;36m  Cell \u001b[1;32mIn[58], line 1\u001b[1;36m\u001b[0m\n\u001b[1;33m    a = 'this is python's class'\u001b[0m\n\u001b[1;37m                               ^\u001b[0m\n\u001b[1;31mSyntaxError\u001b[0m\u001b[1;31m:\u001b[0m unterminated string literal (detected at line 1)\n"
     ]
    }
   ],
   "source": [
    "a = 'this is python's class'\n",
    "\n",
    "\n",
    "print(a , type(a))"
   ]
  },
  {
   "cell_type": "code",
   "execution_count": 59,
   "id": "620db84f",
   "metadata": {},
   "outputs": [
    {
     "name": "stdout",
     "output_type": "stream",
     "text": [
      "this is python's class <class 'str'>\n"
     ]
    }
   ],
   "source": [
    "a = \"this is python's class\"\n",
    "\n",
    "\n",
    "print(a , type(a))"
   ]
  },
  {
   "cell_type": "code",
   "execution_count": 60,
   "id": "cc4af361",
   "metadata": {},
   "outputs": [
    {
     "ename": "SyntaxError",
     "evalue": "unterminated string literal (detected at line 1) (3102756023.py, line 1)",
     "output_type": "error",
     "traceback": [
      "\u001b[1;36m  Cell \u001b[1;32mIn[60], line 1\u001b[1;36m\u001b[0m\n\u001b[1;33m    a = \"this\u001b[0m\n\u001b[1;37m        ^\u001b[0m\n\u001b[1;31mSyntaxError\u001b[0m\u001b[1;31m:\u001b[0m unterminated string literal (detected at line 1)\n"
     ]
    }
   ],
   "source": [
    "a = \"this \n",
    "is \n",
    "python's \n",
    "class\"\n",
    "\n",
    "\n",
    "print(a , type(a))"
   ]
  },
  {
   "cell_type": "code",
   "execution_count": 61,
   "id": "0f8bb03c",
   "metadata": {},
   "outputs": [
    {
     "name": "stdout",
     "output_type": "stream",
     "text": [
      "this \n",
      "is \n",
      "python's \n",
      "class <class 'str'>\n"
     ]
    }
   ],
   "source": [
    "a = '''this \n",
    "is \n",
    "python's \n",
    "class'''\n",
    "\n",
    "\n",
    "print(a , type(a))"
   ]
  },
  {
   "cell_type": "code",
   "execution_count": 62,
   "id": "8f47cc2f",
   "metadata": {},
   "outputs": [
    {
     "name": "stdout",
     "output_type": "stream",
     "text": [
      "this \n",
      "is \n",
      "python's \n",
      "class <class 'str'>\n"
     ]
    }
   ],
   "source": [
    "a = \"\"\"this \n",
    "is \n",
    "python's \n",
    "class\"\"\"\n",
    "\n",
    "\n",
    "print(a , type(a))"
   ]
  },
  {
   "cell_type": "code",
   "execution_count": null,
   "id": "da27434d",
   "metadata": {},
   "outputs": [],
   "source": [
    "# Properties of string\n",
    "\n",
    "- It is an seq data type which allows us to perform Indexing and slicing"
   ]
  },
  {
   "cell_type": "code",
   "execution_count": null,
   "id": "cee0ba90",
   "metadata": {},
   "outputs": [],
   "source": [
    "# Indexing\n",
    "\n",
    "Accesing or extracting single char at a time\n",
    "\n",
    "syntax :- \n",
    "    var[index value]\n",
    "\n",
    "    \n",
    "2 Types of index values are allocated\n",
    "\n",
    "Positive Index values - Assigned in L- R directions , by default starts from 0\n",
    "Negative Index values - Assigned in R-L direction , By default starts from -1"
   ]
  },
  {
   "cell_type": "code",
   "execution_count": 63,
   "id": "94663948",
   "metadata": {},
   "outputs": [
    {
     "name": "stdout",
     "output_type": "stream",
     "text": [
      "T\n",
      "T\n"
     ]
    }
   ],
   "source": [
    "a = 'PYTHON'\n",
    "\n",
    "print(a[2])\n",
    "print(a[-4])"
   ]
  },
  {
   "cell_type": "code",
   "execution_count": 64,
   "id": "c6a7a106",
   "metadata": {},
   "outputs": [
    {
     "name": "stdout",
     "output_type": "stream",
     "text": [
      "O\n",
      "O\n"
     ]
    }
   ],
   "source": [
    "print(a[4])\n",
    "print(a[-2])"
   ]
  },
  {
   "cell_type": "code",
   "execution_count": null,
   "id": "cc83456b",
   "metadata": {},
   "outputs": [],
   "source": [
    "# Slicing\n",
    "\n",
    "Accessing or extracting multiple char at a time\n",
    "\n",
    "syntax:\n",
    "    var[start_index : stop_index : step]\n",
    "    \n",
    "    start is inclusive\n",
    "    stop is exclusive\n",
    "    By default the step is 1\n",
    "    \n",
    "Postive step - Travel in L-R direction\n",
    "Negative step - Travel in R-L direction\n",
    "    \n",
    "default values\n",
    "\n",
    "Positive index value\n",
    "\n",
    "a[:] or a[::1]\n",
    "start = 0\n",
    "stop = len(str)\n",
    "\n",
    "\n",
    "Negative Index value\n",
    "a[::-1]\n",
    "\n",
    "start = -1\n",
    "stop = -(len(str)+1)"
   ]
  },
  {
   "cell_type": "code",
   "execution_count": 66,
   "id": "be8fb7d9",
   "metadata": {},
   "outputs": [
    {
     "name": "stdout",
     "output_type": "stream",
     "text": [
      "DATA\n",
      "DATA\n",
      "DATA\n",
      "DATA\n"
     ]
    }
   ],
   "source": [
    "a = 'DATA SCIENCE'\n",
    "\n",
    "\n",
    "print(a[0:4])\n",
    "print(a[-12:-8])\n",
    "print(a[0:-8])\n",
    "print(a[-12 : 4])\n"
   ]
  },
  {
   "cell_type": "code",
   "execution_count": 77,
   "id": "35f07e63",
   "metadata": {},
   "outputs": [
    {
     "name": "stdout",
     "output_type": "stream",
     "text": [
      "SCIENCE\n",
      "SCIENCE\n",
      "SCIENCE\n",
      "SCIENCE\n"
     ]
    }
   ],
   "source": [
    "print(a[5: 12])\n",
    "print(a[-7 : 12])\n",
    "print(a[5: ])\n",
    "print(a[-7 : ])"
   ]
  },
  {
   "cell_type": "code",
   "execution_count": 72,
   "id": "0efe8069",
   "metadata": {},
   "outputs": [
    {
     "name": "stdout",
     "output_type": "stream",
     "text": [
      "ECNEICS\n",
      "ECNEICS\n",
      "ECNEICS\n",
      "ECNEICS\n"
     ]
    }
   ],
   "source": [
    "print(a[11:4:-1])\n",
    "print(a[-1:-8 : -1])\n",
    "print(a[11:-8:-1])\n",
    "print(a[-1:4:-1])\n",
    "\n",
    "\n"
   ]
  },
  {
   "cell_type": "code",
   "execution_count": 76,
   "id": "878a0ea1",
   "metadata": {},
   "outputs": [
    {
     "name": "stdout",
     "output_type": "stream",
     "text": [
      "ATAD\n",
      "ATAD\n",
      "ATAD\n"
     ]
    }
   ],
   "source": [
    "print(a[3 : -13 : -1])\n",
    "print(a[-9 : -13 : -1])\n",
    "\n",
    "print(a[3 :  : -1])"
   ]
  },
  {
   "cell_type": "code",
   "execution_count": 78,
   "id": "0f8e558f",
   "metadata": {},
   "outputs": [
    {
     "name": "stdout",
     "output_type": "stream",
     "text": [
      "DATA SCIENCE\n",
      "DATA SCIENCE\n"
     ]
    }
   ],
   "source": [
    "print(a[ : : 1] )\n",
    "print(a[ :] )\n",
    "\n",
    "# 0 : 12"
   ]
  },
  {
   "cell_type": "code",
   "execution_count": 79,
   "id": "1e93f8d7",
   "metadata": {},
   "outputs": [
    {
     "name": "stdout",
     "output_type": "stream",
     "text": [
      "ECNEICS ATAD\n"
     ]
    }
   ],
   "source": [
    "print(a[ : : -1] )\n",
    "# -1 : -13 \n",
    "\n",
    "# -(len(str) + 1)"
   ]
  },
  {
   "cell_type": "code",
   "execution_count": 81,
   "id": "d64715e2",
   "metadata": {},
   "outputs": [],
   "source": [
    "a = '29-11-2023'"
   ]
  },
  {
   "cell_type": "code",
   "execution_count": 87,
   "id": "4136be7b",
   "metadata": {},
   "outputs": [
    {
     "name": "stdout",
     "output_type": "stream",
     "text": [
      "29\n",
      "29\n",
      "29\n",
      "29\n",
      "29\n",
      "29\n"
     ]
    }
   ],
   "source": [
    "# Day ? \n",
    "\n",
    "print(a[0:2])\n",
    "print(a[-10:-8])\n",
    "print(a[-10 : 2])\n",
    "print(a[0:-8])\n",
    "print(a[:2])\n",
    "print(a[:-8])"
   ]
  },
  {
   "cell_type": "code",
   "execution_count": 91,
   "id": "ff65dbf7",
   "metadata": {},
   "outputs": [
    {
     "name": "stdout",
     "output_type": "stream",
     "text": [
      "11\n",
      "11\n",
      "11\n",
      "11\n"
     ]
    }
   ],
   "source": [
    "# month ? \n",
    "\n",
    "print(a[3:5])\n",
    "print(a[-7:-5])\n",
    "print(a[3:-5])\n",
    "print(a[-7:5])"
   ]
  },
  {
   "cell_type": "code",
   "execution_count": 95,
   "id": "4a5506f0",
   "metadata": {},
   "outputs": [
    {
     "name": "stdout",
     "output_type": "stream",
     "text": [
      "2023\n",
      "2023\n",
      "2023\n",
      "2023\n"
     ]
    }
   ],
   "source": [
    "# Year ?\n",
    "\n",
    "print(a[6:10])\n",
    "print(a[-4:10])\n",
    "print(a[6:])\n",
    "print(a[-4:])"
   ]
  },
  {
   "cell_type": "code",
   "execution_count": null,
   "id": "a273be54",
   "metadata": {},
   "outputs": [],
   "source": []
  }
 ],
 "metadata": {
  "kernelspec": {
   "display_name": "Python 3 (ipykernel)",
   "language": "python",
   "name": "python3"
  },
  "language_info": {
   "codemirror_mode": {
    "name": "ipython",
    "version": 3
   },
   "file_extension": ".py",
   "mimetype": "text/x-python",
   "name": "python",
   "nbconvert_exporter": "python",
   "pygments_lexer": "ipython3",
   "version": "3.11.4"
  }
 },
 "nbformat": 4,
 "nbformat_minor": 5
}
