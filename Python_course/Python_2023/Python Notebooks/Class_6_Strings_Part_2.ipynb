{
 "cells": [
  {
   "cell_type": "markdown",
   "id": "debaecf3",
   "metadata": {},
   "source": [
    "# Float\n",
    "\n",
    "- Any number with a decimal point\n",
    "\n",
    "1. Operations possible\n",
    "- Arithmetic\n",
    "- comparision\n",
    "- Equality\n",
    "- Logical\n",
    "- Assignment operations are possible except bitwise\n",
    "- Identity \n",
    "\n",
    "2. Operations not possible\n",
    "- Bitwise \n",
    "- Assignment operations are possible with bitwise\n",
    "\n",
    "\n",
    "### Note:- Memory reusability is not applicable"
   ]
  },
  {
   "cell_type": "code",
   "execution_count": 6,
   "id": "b183e1f6",
   "metadata": {},
   "outputs": [
    {
     "name": "stdout",
     "output_type": "stream",
     "text": [
      "10.2\n"
     ]
    }
   ],
   "source": [
    "a = 10.2\n",
    "b = 34.6\n",
    "\n",
    "print(a % b)"
   ]
  },
  {
   "cell_type": "code",
   "execution_count": 8,
   "id": "6d3bce90",
   "metadata": {},
   "outputs": [
    {
     "name": "stdout",
     "output_type": "stream",
     "text": [
      "True\n"
     ]
    }
   ],
   "source": [
    "a = 10.2\n",
    "b = 10.2\n",
    "\n",
    "print(a == b)"
   ]
  },
  {
   "cell_type": "code",
   "execution_count": 9,
   "id": "f8adbb2e",
   "metadata": {},
   "outputs": [
    {
     "name": "stdout",
     "output_type": "stream",
     "text": [
      "11.2\n"
     ]
    }
   ],
   "source": [
    "a = 10.2\n",
    "b = 11.2\n",
    "\n",
    "print(a and b)"
   ]
  },
  {
   "cell_type": "code",
   "execution_count": 10,
   "id": "d287ec1d",
   "metadata": {},
   "outputs": [
    {
     "name": "stdout",
     "output_type": "stream",
     "text": [
      "10.2\n"
     ]
    }
   ],
   "source": [
    "a = 10.2\n",
    "b = 11.2\n",
    "\n",
    "print(a or b)"
   ]
  },
  {
   "cell_type": "code",
   "execution_count": 11,
   "id": "172f8701",
   "metadata": {},
   "outputs": [
    {
     "ename": "TypeError",
     "evalue": "'float' object cannot be interpreted as an integer",
     "output_type": "error",
     "traceback": [
      "\u001b[1;31m---------------------------------------------------------------------------\u001b[0m",
      "\u001b[1;31mTypeError\u001b[0m                                 Traceback (most recent call last)",
      "Cell \u001b[1;32mIn[11], line 1\u001b[0m\n\u001b[1;32m----> 1\u001b[0m \u001b[38;5;28mbin\u001b[39m(\u001b[38;5;241m10.1234\u001b[39m)\n",
      "\u001b[1;31mTypeError\u001b[0m: 'float' object cannot be interpreted as an integer"
     ]
    }
   ],
   "source": [
    "bin(10.1234)"
   ]
  },
  {
   "cell_type": "code",
   "execution_count": 13,
   "id": "59cd1eb8",
   "metadata": {},
   "outputs": [
    {
     "ename": "TypeError",
     "evalue": "unsupported operand type(s) for &=: 'float' and 'float'",
     "output_type": "error",
     "traceback": [
      "\u001b[1;31m---------------------------------------------------------------------------\u001b[0m",
      "\u001b[1;31mTypeError\u001b[0m                                 Traceback (most recent call last)",
      "Cell \u001b[1;32mIn[13], line 2\u001b[0m\n\u001b[0;32m      1\u001b[0m a \u001b[38;5;241m=\u001b[39m \u001b[38;5;241m10.2\u001b[39m\n\u001b[1;32m----> 2\u001b[0m a \u001b[38;5;241m&\u001b[39m\u001b[38;5;241m=\u001b[39m \u001b[38;5;241m34.6\u001b[39m\n\u001b[0;32m      4\u001b[0m \u001b[38;5;28mprint\u001b[39m(a)\n",
      "\u001b[1;31mTypeError\u001b[0m: unsupported operand type(s) for &=: 'float' and 'float'"
     ]
    }
   ],
   "source": [
    "a = 10.2\n",
    "a &= 34.6\n",
    "\n",
    "print(a)"
   ]
  },
  {
   "cell_type": "code",
   "execution_count": 15,
   "id": "62d693c6",
   "metadata": {},
   "outputs": [
    {
     "name": "stdout",
     "output_type": "stream",
     "text": [
      "True\n"
     ]
    }
   ],
   "source": [
    "a = 10.2\n",
    "b = 10.2\n",
    "\n",
    "print(a is not b)"
   ]
  },
  {
   "cell_type": "markdown",
   "id": "ae0d6fbb",
   "metadata": {},
   "source": [
    "# Complex\n",
    "\n",
    "- Any number that is written in the form of a+bj \n",
    "where a is the real number\n",
    "b is the imag\n",
    "\n",
    "1. Operations possible\n",
    "\n",
    "- Arithmetic operations except Floor div , modulo\n",
    "- Equality\n",
    "- Logical\n",
    "- Assignment op except div , modulo , bitwise\n",
    "- Identity\n",
    "\n",
    "2. Operations not possible\n",
    "\n",
    "- Arithmetic operations with Floor div , modulo\n",
    "- Comparision\n",
    "- Bitwise\n",
    "- Assignment op with div , modulo , bitwise\n",
    "\n",
    "### Note:- Memory reusability is not applicable"
   ]
  },
  {
   "cell_type": "code",
   "execution_count": 21,
   "id": "97e74aa0",
   "metadata": {},
   "outputs": [
    {
     "ename": "TypeError",
     "evalue": "unsupported operand type(s) for //: 'complex' and 'complex'",
     "output_type": "error",
     "traceback": [
      "\u001b[1;31m---------------------------------------------------------------------------\u001b[0m",
      "\u001b[1;31mTypeError\u001b[0m                                 Traceback (most recent call last)",
      "Cell \u001b[1;32mIn[21], line 4\u001b[0m\n\u001b[0;32m      1\u001b[0m a \u001b[38;5;241m=\u001b[39m \u001b[38;5;241m10\u001b[39m\u001b[38;5;241m+\u001b[39m\u001b[38;5;241m6\u001b[39mj\n\u001b[0;32m      2\u001b[0m b \u001b[38;5;241m=\u001b[39m \u001b[38;5;241m11\u001b[39m \u001b[38;5;241m+\u001b[39m\u001b[38;5;241m8\u001b[39mj\n\u001b[1;32m----> 4\u001b[0m \u001b[38;5;28mprint\u001b[39m(a \u001b[38;5;241m/\u001b[39m\u001b[38;5;241m/\u001b[39m b)\n",
      "\u001b[1;31mTypeError\u001b[0m: unsupported operand type(s) for //: 'complex' and 'complex'"
     ]
    }
   ],
   "source": [
    "a = 10+6j\n",
    "b = 11 +8j\n",
    "\n",
    "print(a // b)"
   ]
  },
  {
   "cell_type": "code",
   "execution_count": 22,
   "id": "89c2d3e6",
   "metadata": {},
   "outputs": [
    {
     "ename": "TypeError",
     "evalue": "'>' not supported between instances of 'complex' and 'complex'",
     "output_type": "error",
     "traceback": [
      "\u001b[1;31m---------------------------------------------------------------------------\u001b[0m",
      "\u001b[1;31mTypeError\u001b[0m                                 Traceback (most recent call last)",
      "Cell \u001b[1;32mIn[22], line 4\u001b[0m\n\u001b[0;32m      1\u001b[0m a \u001b[38;5;241m=\u001b[39m \u001b[38;5;241m10\u001b[39m\u001b[38;5;241m+\u001b[39m\u001b[38;5;241m6\u001b[39mj\n\u001b[0;32m      2\u001b[0m b \u001b[38;5;241m=\u001b[39m \u001b[38;5;241m11\u001b[39m \u001b[38;5;241m+\u001b[39m\u001b[38;5;241m8\u001b[39mj\n\u001b[1;32m----> 4\u001b[0m \u001b[38;5;28mprint\u001b[39m(a \u001b[38;5;241m>\u001b[39m b)\n",
      "\u001b[1;31mTypeError\u001b[0m: '>' not supported between instances of 'complex' and 'complex'"
     ]
    }
   ],
   "source": [
    "a = 10+6j\n",
    "b = 11 +8j\n",
    "\n",
    "print(a > b)"
   ]
  },
  {
   "cell_type": "code",
   "execution_count": 23,
   "id": "bff6d2df",
   "metadata": {},
   "outputs": [
    {
     "name": "stdout",
     "output_type": "stream",
     "text": [
      "True\n"
     ]
    }
   ],
   "source": [
    "a = 10+6j\n",
    "b = 11 +8j\n",
    "\n",
    "print(a != b)"
   ]
  },
  {
   "cell_type": "code",
   "execution_count": 25,
   "id": "346936b4",
   "metadata": {},
   "outputs": [
    {
     "name": "stdout",
     "output_type": "stream",
     "text": [
      "(11+8j)\n"
     ]
    }
   ],
   "source": [
    "a = 10+6j\n",
    "b = 11 +8j\n",
    "\n",
    "print(a and b)"
   ]
  },
  {
   "cell_type": "code",
   "execution_count": 24,
   "id": "d4afa25b",
   "metadata": {},
   "outputs": [
    {
     "data": {
      "text/plain": [
       "False"
      ]
     },
     "execution_count": 24,
     "metadata": {},
     "output_type": "execute_result"
    }
   ],
   "source": [
    "bool(0+0j)"
   ]
  },
  {
   "cell_type": "code",
   "execution_count": 26,
   "id": "dabeb804",
   "metadata": {},
   "outputs": [
    {
     "name": "stdout",
     "output_type": "stream",
     "text": [
      "False\n"
     ]
    }
   ],
   "source": [
    "a = 10+6j\n",
    "b = 10+6j\n",
    "\n",
    "print(a is b)"
   ]
  },
  {
   "cell_type": "markdown",
   "id": "c70c0a94",
   "metadata": {},
   "source": [
    "# String "
   ]
  },
  {
   "cell_type": "markdown",
   "id": "55669af6",
   "metadata": {},
   "source": [
    "# Properties of string\n",
    "\n",
    "- It is an seq data type which allows us to perform Indexing and slicing"
   ]
  },
  {
   "cell_type": "code",
   "execution_count": 30,
   "id": "cc25adfa",
   "metadata": {},
   "outputs": [
    {
     "name": "stdout",
     "output_type": "stream",
     "text": [
      "8\n",
      "python\n"
     ]
    }
   ],
   "source": [
    "a = 'this is pythons class'\n",
    "\n",
    "\n",
    "# python ?\n",
    "\n",
    "print(a.index('p'))\n",
    "\n",
    "print(a[8:14])"
   ]
  },
  {
   "cell_type": "code",
   "execution_count": null,
   "id": "66fd182f",
   "metadata": {},
   "outputs": [],
   "source": [
    "- Palidrom\n",
    "\n",
    "madam --- madam\n",
    "\n",
    "rotor -- rotor"
   ]
  },
  {
   "cell_type": "code",
   "execution_count": null,
   "id": "db795eab",
   "metadata": {},
   "outputs": [],
   "source": [
    "Enter a word\n",
    "\n",
    "Palindrom \n",
    "\n",
    "not a palindrom"
   ]
  },
  {
   "cell_type": "code",
   "execution_count": 36,
   "id": "1244aeed",
   "metadata": {},
   "outputs": [
    {
     "name": "stdout",
     "output_type": "stream",
     "text": [
      "Enter a word : rotor\n",
      "Palindrom\n"
     ]
    }
   ],
   "source": [
    "a = input('Enter a word : ')\n",
    "\n",
    "if a == a[::-1]:\n",
    "    print('Palindrom')\n",
    "else:\n",
    "    print('Not a palindrom')"
   ]
  },
  {
   "cell_type": "code",
   "execution_count": null,
   "id": "dc98b186",
   "metadata": {},
   "outputs": [],
   "source": [
    "# Properties of string\n",
    "\n",
    "- It is an seq data type which allows us to perform Indexing and slicing\n",
    "- Basic op - concatination , repetation , identy , membership\n",
    "\n",
    "- String is an Immutable "
   ]
  },
  {
   "cell_type": "code",
   "execution_count": null,
   "id": "458a323c",
   "metadata": {},
   "outputs": [],
   "source": [
    "# Concatination\n",
    "# op --> +\n",
    "# Operand --> Both the operands should be string"
   ]
  },
  {
   "cell_type": "code",
   "execution_count": 37,
   "id": "84b97503",
   "metadata": {},
   "outputs": [
    {
     "data": {
      "text/plain": [
       "'abcxyz'"
      ]
     },
     "execution_count": 37,
     "metadata": {},
     "output_type": "execute_result"
    }
   ],
   "source": [
    "a = 'abc'\n",
    "b = 'xyz'\n",
    "\n",
    "a+b"
   ]
  },
  {
   "cell_type": "code",
   "execution_count": 39,
   "id": "6cd8a358",
   "metadata": {},
   "outputs": [
    {
     "data": {
      "text/plain": [
       "'abc xyz'"
      ]
     },
     "execution_count": 39,
     "metadata": {},
     "output_type": "execute_result"
    }
   ],
   "source": [
    "a = 'abc'\n",
    "b = 'xyz'\n",
    "\n",
    "a+' '+b"
   ]
  },
  {
   "cell_type": "code",
   "execution_count": 38,
   "id": "e45d89ed",
   "metadata": {},
   "outputs": [
    {
     "ename": "TypeError",
     "evalue": "can only concatenate str (not \"int\") to str",
     "output_type": "error",
     "traceback": [
      "\u001b[1;31m---------------------------------------------------------------------------\u001b[0m",
      "\u001b[1;31mTypeError\u001b[0m                                 Traceback (most recent call last)",
      "Cell \u001b[1;32mIn[38], line 4\u001b[0m\n\u001b[0;32m      1\u001b[0m a \u001b[38;5;241m=\u001b[39m \u001b[38;5;124m'\u001b[39m\u001b[38;5;124m10\u001b[39m\u001b[38;5;124m'\u001b[39m\n\u001b[0;32m      2\u001b[0m b \u001b[38;5;241m=\u001b[39m \u001b[38;5;241m20\u001b[39m\n\u001b[1;32m----> 4\u001b[0m a\u001b[38;5;241m+\u001b[39mb\n",
      "\u001b[1;31mTypeError\u001b[0m: can only concatenate str (not \"int\") to str"
     ]
    }
   ],
   "source": [
    "a = '10'\n",
    "b = 20\n",
    "\n",
    "a+b"
   ]
  },
  {
   "cell_type": "code",
   "execution_count": null,
   "id": "3b2adede",
   "metadata": {},
   "outputs": [],
   "source": [
    "# Repetation\n",
    "# op --> *\n",
    "# Operand --> One should be string and should be an Int"
   ]
  },
  {
   "cell_type": "code",
   "execution_count": 41,
   "id": "b0e6f0c7",
   "metadata": {},
   "outputs": [
    {
     "data": {
      "text/plain": [
       "'101010'"
      ]
     },
     "execution_count": 41,
     "metadata": {},
     "output_type": "execute_result"
    }
   ],
   "source": [
    "a = '10'\n",
    "b = 3\n",
    "\n",
    "a * b"
   ]
  },
  {
   "cell_type": "code",
   "execution_count": 43,
   "id": "bc2d4f99",
   "metadata": {},
   "outputs": [
    {
     "data": {
      "text/plain": [
       "[12, 13, 14, 12, 13, 14, 12, 13, 14, 12, 13, 14, 12, 13, 14]"
      ]
     },
     "execution_count": 43,
     "metadata": {},
     "output_type": "execute_result"
    }
   ],
   "source": [
    "a = [12,13,14]\n",
    "b = 5\n",
    "\n",
    "a * b"
   ]
  },
  {
   "cell_type": "code",
   "execution_count": 44,
   "id": "8af09aa3",
   "metadata": {},
   "outputs": [
    {
     "ename": "TypeError",
     "evalue": "can't multiply sequence by non-int of type 'float'",
     "output_type": "error",
     "traceback": [
      "\u001b[1;31m---------------------------------------------------------------------------\u001b[0m",
      "\u001b[1;31mTypeError\u001b[0m                                 Traceback (most recent call last)",
      "Cell \u001b[1;32mIn[44], line 4\u001b[0m\n\u001b[0;32m      1\u001b[0m a \u001b[38;5;241m=\u001b[39m \u001b[38;5;124m'\u001b[39m\u001b[38;5;124m10\u001b[39m\u001b[38;5;124m'\u001b[39m\n\u001b[0;32m      2\u001b[0m b \u001b[38;5;241m=\u001b[39m \u001b[38;5;241m3.54\u001b[39m\n\u001b[1;32m----> 4\u001b[0m a \u001b[38;5;241m*\u001b[39m b\n",
      "\u001b[1;31mTypeError\u001b[0m: can't multiply sequence by non-int of type 'float'"
     ]
    }
   ],
   "source": [
    "a = '10'\n",
    "b = 3.54\n",
    "\n",
    "a * b"
   ]
  },
  {
   "cell_type": "code",
   "execution_count": 45,
   "id": "657d51cf",
   "metadata": {},
   "outputs": [
    {
     "name": "stdout",
     "output_type": "stream",
     "text": [
      "True\n"
     ]
    }
   ],
   "source": [
    "# Identity\n",
    "# op --> is , is not\n",
    "\n",
    "a = 'python'\n",
    "b = 'python'\n",
    "\n",
    "\n",
    "print(a is b)"
   ]
  },
  {
   "cell_type": "code",
   "execution_count": 46,
   "id": "363940ab",
   "metadata": {},
   "outputs": [
    {
     "name": "stdout",
     "output_type": "stream",
     "text": [
      "False\n"
     ]
    }
   ],
   "source": [
    "\n",
    "a = 'python'\n",
    "b = 'python'\n",
    "\n",
    "\n",
    "print(a is not b)"
   ]
  },
  {
   "cell_type": "code",
   "execution_count": 48,
   "id": "a03f8aed",
   "metadata": {},
   "outputs": [
    {
     "name": "stdout",
     "output_type": "stream",
     "text": [
      "False\n"
     ]
    }
   ],
   "source": [
    "\n",
    "a = 'python@java'\n",
    "b = 'python@java'\n",
    "\n",
    "\n",
    "print(a is b)"
   ]
  },
  {
   "cell_type": "code",
   "execution_count": null,
   "id": "56853291",
   "metadata": {},
   "outputs": [],
   "source": [
    "# Membership\n",
    "# op --> in , not in\n",
    "\n",
    "if the sub seq is present in the seq or not"
   ]
  },
  {
   "cell_type": "code",
   "execution_count": 49,
   "id": "349933e2",
   "metadata": {},
   "outputs": [
    {
     "name": "stdout",
     "output_type": "stream",
     "text": [
      "True\n"
     ]
    }
   ],
   "source": [
    "\n",
    "a = 'this is pythons class'\n",
    "\n",
    "\n",
    "\n",
    "print('python' in a)"
   ]
  },
  {
   "cell_type": "code",
   "execution_count": 50,
   "id": "b99f8085",
   "metadata": {},
   "outputs": [
    {
     "name": "stdout",
     "output_type": "stream",
     "text": [
      "False\n"
     ]
    }
   ],
   "source": [
    "\n",
    "a = 'this is pythons class'\n",
    "\n",
    "\n",
    "\n",
    "print('java' in a)"
   ]
  },
  {
   "cell_type": "code",
   "execution_count": 54,
   "id": "315e49c5",
   "metadata": {},
   "outputs": [
    {
     "name": "stdout",
     "output_type": "stream",
     "text": [
      "True\n"
     ]
    }
   ],
   "source": [
    "\n",
    "a = 'this is pythons class'\n",
    "\n",
    "\n",
    "\n",
    "print('java' not in a)"
   ]
  },
  {
   "cell_type": "code",
   "execution_count": 52,
   "id": "84925f4d",
   "metadata": {},
   "outputs": [
    {
     "name": "stdout",
     "output_type": "stream",
     "text": [
      "True\n"
     ]
    }
   ],
   "source": [
    "\n",
    "a = 'this is pythons class'\n",
    "\n",
    "\n",
    "\n",
    "print('s i' in a)"
   ]
  },
  {
   "cell_type": "code",
   "execution_count": 53,
   "id": "b391e327",
   "metadata": {},
   "outputs": [
    {
     "ename": "TypeError",
     "evalue": "argument of type 'int' is not iterable",
     "output_type": "error",
     "traceback": [
      "\u001b[1;31m---------------------------------------------------------------------------\u001b[0m",
      "\u001b[1;31mTypeError\u001b[0m                                 Traceback (most recent call last)",
      "Cell \u001b[1;32mIn[53], line 5\u001b[0m\n\u001b[0;32m      1\u001b[0m a \u001b[38;5;241m=\u001b[39m \u001b[38;5;241m100005\u001b[39m\n\u001b[1;32m----> 5\u001b[0m \u001b[38;5;28mprint\u001b[39m(\u001b[38;5;241m5\u001b[39m \u001b[38;5;129;01min\u001b[39;00m a)\n",
      "\u001b[1;31mTypeError\u001b[0m: argument of type 'int' is not iterable"
     ]
    }
   ],
   "source": [
    "\n",
    "a = 100005\n",
    "\n",
    "\n",
    "\n",
    "print(5 in a)"
   ]
  },
  {
   "cell_type": "markdown",
   "id": "df67d3ad",
   "metadata": {},
   "source": [
    "# String is an immutable "
   ]
  },
  {
   "cell_type": "code",
   "execution_count": 55,
   "id": "fd07086f",
   "metadata": {},
   "outputs": [
    {
     "data": {
      "text/plain": [
       "'pythons'"
      ]
     },
     "execution_count": 55,
     "metadata": {},
     "output_type": "execute_result"
    }
   ],
   "source": [
    "a = 'this is pythons class'\n",
    "\n",
    "\n",
    "a[8:15]"
   ]
  },
  {
   "cell_type": "code",
   "execution_count": 56,
   "id": "0a86570a",
   "metadata": {},
   "outputs": [
    {
     "ename": "TypeError",
     "evalue": "'str' object does not support item assignment",
     "output_type": "error",
     "traceback": [
      "\u001b[1;31m---------------------------------------------------------------------------\u001b[0m",
      "\u001b[1;31mTypeError\u001b[0m                                 Traceback (most recent call last)",
      "Cell \u001b[1;32mIn[56], line 4\u001b[0m\n\u001b[0;32m      1\u001b[0m a \u001b[38;5;241m=\u001b[39m \u001b[38;5;124m'\u001b[39m\u001b[38;5;124mthis is pythons class\u001b[39m\u001b[38;5;124m'\u001b[39m\n\u001b[1;32m----> 4\u001b[0m a[\u001b[38;5;241m8\u001b[39m:\u001b[38;5;241m15\u001b[39m] \u001b[38;5;241m=\u001b[39m \u001b[38;5;124m'\u001b[39m\u001b[38;5;124mjava\u001b[39m\u001b[38;5;124m'\u001b[39m\n",
      "\u001b[1;31mTypeError\u001b[0m: 'str' object does not support item assignment"
     ]
    }
   ],
   "source": [
    "a = 'this is pythons class'\n",
    "\n",
    "\n",
    "a[8:15] = 'java'"
   ]
  },
  {
   "cell_type": "code",
   "execution_count": 57,
   "id": "9f5bb759",
   "metadata": {},
   "outputs": [
    {
     "data": {
      "text/plain": [
       "[12, 999999, 4, 5]"
      ]
     },
     "execution_count": 57,
     "metadata": {},
     "output_type": "execute_result"
    }
   ],
   "source": [
    "a= [12,324,4,5]\n",
    "\n",
    "a[1] = 999999\n",
    "\n",
    "\n",
    "a"
   ]
  },
  {
   "cell_type": "code",
   "execution_count": 58,
   "id": "609f422f",
   "metadata": {},
   "outputs": [
    {
     "ename": "TypeError",
     "evalue": "'str' object does not support item assignment",
     "output_type": "error",
     "traceback": [
      "\u001b[1;31m---------------------------------------------------------------------------\u001b[0m",
      "\u001b[1;31mTypeError\u001b[0m                                 Traceback (most recent call last)",
      "Cell \u001b[1;32mIn[58], line 4\u001b[0m\n\u001b[0;32m      1\u001b[0m a \u001b[38;5;241m=\u001b[39m \u001b[38;5;124m'\u001b[39m\u001b[38;5;124mthis is pythons class\u001b[39m\u001b[38;5;124m'\u001b[39m\n\u001b[1;32m----> 4\u001b[0m a[\u001b[38;5;241m8\u001b[39m:\u001b[38;5;241m15\u001b[39m] \u001b[38;5;241m=\u001b[39m \u001b[38;5;124m'\u001b[39m\u001b[38;5;124mjava\u001b[39m\u001b[38;5;124m'\u001b[39m\n",
      "\u001b[1;31mTypeError\u001b[0m: 'str' object does not support item assignment"
     ]
    }
   ],
   "source": [
    "a = 'this is pythons class'\n",
    "\n",
    "\n",
    "a[8:15] = 'java'"
   ]
  },
  {
   "cell_type": "code",
   "execution_count": 60,
   "id": "40f5dfcf",
   "metadata": {},
   "outputs": [
    {
     "data": {
      "text/plain": [
       "'this is java class'"
      ]
     },
     "execution_count": 60,
     "metadata": {},
     "output_type": "execute_result"
    }
   ],
   "source": [
    "a = 'this is pythons class'\n",
    "\n",
    "\n",
    "a.replace('pythons' , 'java')"
   ]
  },
  {
   "cell_type": "code",
   "execution_count": 61,
   "id": "f55a1b82",
   "metadata": {},
   "outputs": [
    {
     "data": {
      "text/plain": [
       "'this is pythons class'"
      ]
     },
     "execution_count": 61,
     "metadata": {},
     "output_type": "execute_result"
    }
   ],
   "source": [
    "a"
   ]
  },
  {
   "cell_type": "code",
   "execution_count": 65,
   "id": "232c9a3f",
   "metadata": {},
   "outputs": [],
   "source": [
    "a = 'this is pythons class'\n",
    "\n",
    "\n",
    "a = a.upper()"
   ]
  },
  {
   "cell_type": "code",
   "execution_count": 66,
   "id": "3accd515",
   "metadata": {},
   "outputs": [
    {
     "data": {
      "text/plain": [
       "'THIS IS PYTHONS CLASS'"
      ]
     },
     "execution_count": 66,
     "metadata": {},
     "output_type": "execute_result"
    }
   ],
   "source": [
    "a"
   ]
  },
  {
   "cell_type": "markdown",
   "id": "7fffa7d5",
   "metadata": {},
   "source": [
    "# Methods of string data type"
   ]
  },
  {
   "cell_type": "code",
   "execution_count": 70,
   "id": "cf02c9d5",
   "metadata": {},
   "outputs": [
    {
     "name": "stdout",
     "output_type": "stream",
     "text": [
      "['__add__', '__class__', '__contains__', '__delattr__', '__dir__', '__doc__', '__eq__', '__format__', '__ge__', '__getattribute__', '__getitem__', '__getnewargs__', '__getstate__', '__gt__', '__hash__', '__init__', '__init_subclass__', '__iter__', '__le__', '__len__', '__lt__', '__mod__', '__mul__', '__ne__', '__new__', '__reduce__', '__reduce_ex__', '__repr__', '__rmod__', '__rmul__', '__setattr__', '__sizeof__', '__str__', '__subclasshook__', 'capitalize', 'casefold', 'center', 'count', 'encode', 'endswith', 'expandtabs', 'find', 'format', 'format_map', 'index', 'isalnum', 'isalpha', 'isascii', 'isdecimal', 'isdigit', 'isidentifier', 'islower', 'isnumeric', 'isprintable', 'isspace', 'istitle', 'isupper', 'join', 'ljust', 'lower', 'lstrip', 'maketrans', 'partition', 'removeprefix', 'removesuffix', 'replace', 'rfind', 'rindex', 'rjust', 'rpartition', 'rsplit', 'rstrip', 'split', 'splitlines', 'startswith', 'strip', 'swapcase', 'title', 'translate', 'upper', 'zfill']\n"
     ]
    }
   ],
   "source": [
    "print(dir(str))"
   ]
  },
  {
   "cell_type": "code",
   "execution_count": 102,
   "id": "7907d722",
   "metadata": {},
   "outputs": [
    {
     "name": "stdout",
     "output_type": "stream",
     "text": [
      "This is pythons class\n",
      "this is pythons class\n",
      "this is pythons class\n",
      "THIS IS PYTHONS CLASS\n",
      "This Is Pythons Class\n"
     ]
    }
   ],
   "source": [
    "# capitalize - More specifically, make the first character have upper case and the rest lower\n",
    "\n",
    "a = 'this is PYTHONS class'\n",
    "\n",
    "print(a.capitalize())\n",
    "\n",
    "# lower - Return a copy of the string converted to lowercase.\n",
    "\n",
    "print(a.lower())\n",
    "\n",
    "print(a.casefold())\n",
    "\n",
    "# upper - Return a copy of the string converted to uppercase.\n",
    "\n",
    "print(a.upper())\n",
    "\n",
    "\n",
    "# title - ore specifically, words start with uppercased characters and all remaining cased characters have lower case.\n",
    "\n",
    "print(a.title())"
   ]
  },
  {
   "cell_type": "code",
   "execution_count": 80,
   "id": "7094c4cc",
   "metadata": {},
   "outputs": [],
   "source": [
    "user_name = 'xyz@gmail.com'\n",
    "password = 'python'"
   ]
  },
  {
   "cell_type": "code",
   "execution_count": 83,
   "id": "55aec36a",
   "metadata": {},
   "outputs": [
    {
     "name": "stdout",
     "output_type": "stream",
     "text": [
      "Enter your mail ID : XYZ@GMAIL.COM\n",
      "Enter your password : PYTHON\n",
      "Logged in\n"
     ]
    }
   ],
   "source": [
    "a = input('Enter your mail ID : ').lower()\n",
    "b = input('Enter your password : ').lower()\n",
    "\n",
    "\n",
    "if (a == user_name) and ( b == password):\n",
    "    print('Logged in')\n",
    "else:\n",
    "    print('Incorrect Info')"
   ]
  },
  {
   "cell_type": "code",
   "execution_count": 84,
   "id": "6eb0acce",
   "metadata": {},
   "outputs": [
    {
     "data": {
      "text/plain": [
       "'xyz@gmail.com'"
      ]
     },
     "execution_count": 84,
     "metadata": {},
     "output_type": "execute_result"
    }
   ],
   "source": [
    "a"
   ]
  },
  {
   "cell_type": "code",
   "execution_count": 85,
   "id": "2ae48529",
   "metadata": {},
   "outputs": [
    {
     "name": "stdout",
     "output_type": "stream",
     "text": [
      "Enter your mail ID : XYZ@GMAIL.COM\n",
      "Enter your password : PYTHON\n",
      "Logged in\n"
     ]
    }
   ],
   "source": [
    "a = input('Enter your mail ID : ')\n",
    "b = input('Enter your password : ')\n",
    "\n",
    "\n",
    "if (a.lower() == user_name) and ( b.lower() == password):\n",
    "    print('Logged in')\n",
    "else:\n",
    "    print('Incorrect Info')"
   ]
  },
  {
   "cell_type": "code",
   "execution_count": 86,
   "id": "ace39b47",
   "metadata": {},
   "outputs": [
    {
     "data": {
      "text/plain": [
       "'XYZ@GMAIL.COM'"
      ]
     },
     "execution_count": 86,
     "metadata": {},
     "output_type": "execute_result"
    }
   ],
   "source": [
    "a"
   ]
  },
  {
   "cell_type": "markdown",
   "id": "009d93d6",
   "metadata": {},
   "source": [
    "# Methods that return bool values"
   ]
  },
  {
   "cell_type": "code",
   "execution_count": 91,
   "id": "bd6c580b",
   "metadata": {},
   "outputs": [
    {
     "name": "stdout",
     "output_type": "stream",
     "text": [
      "True\n",
      "True\n",
      "False\n",
      "True\n"
     ]
    }
   ],
   "source": [
    "# Starts with\n",
    "\n",
    "a = 'hello world'\n",
    "\n",
    "print(a.startswith('h'))\n",
    "\n",
    "print(a.startswith('hell'))\n",
    "\n",
    "print(a.startswith('wor'))\n",
    "\n",
    "\n",
    "print(a.startswith('wor' , 6))"
   ]
  },
  {
   "cell_type": "code",
   "execution_count": 96,
   "id": "215723da",
   "metadata": {},
   "outputs": [
    {
     "name": "stdout",
     "output_type": "stream",
     "text": [
      "True\n",
      "True\n",
      "False\n",
      "True\n",
      "True\n"
     ]
    }
   ],
   "source": [
    "# end with\n",
    "\n",
    "a = 'hello world'\n",
    "\n",
    "print(a.endswith('d'))\n",
    "\n",
    "\n",
    "print(a.endswith('rld'))\n",
    "\n",
    "\n",
    "\n",
    "print(a.endswith('llo'))\n",
    "\n",
    "\n",
    "\n",
    "print(a.endswith('llo' , 0 , 5))\n",
    "\n",
    "\n",
    "print(a.endswith('llo' , -11 , -6))\n"
   ]
  },
  {
   "cell_type": "code",
   "execution_count": 98,
   "id": "c41f2dcc",
   "metadata": {},
   "outputs": [
    {
     "name": "stdout",
     "output_type": "stream",
     "text": [
      "Abhijeet@yahoo.com\n",
      "Abhishek@gmail.com\n",
      "akanksha@gmail.com\n",
      "ashish@yahoo.com\n"
     ]
    }
   ],
   "source": [
    "lst = ['Sriram@gmail.com' , 'Abhijeet@yahoo.com' , 'Abhishek@gmail.com' , 'Chandan@hotmail.com' , 'akanksha@gmail.com' ,\n",
    "       'ashish@yahoo.com' ,'Dharshan@outlook.com']\n",
    "\n",
    "for i in lst:\n",
    "    if i.lower().startswith('a'):\n",
    "        print(i)"
   ]
  },
  {
   "cell_type": "code",
   "execution_count": 104,
   "id": "b74952a4",
   "metadata": {},
   "outputs": [
    {
     "name": "stdout",
     "output_type": "stream",
     "text": [
      "Abhijeet@yahoo.com\n",
      "Abhishek@gmail.com\n",
      "akanksha@gmail.com\n",
      "ashish@yahoo.com\n"
     ]
    }
   ],
   "source": [
    "lst = ['Sriram@gmail.com' , 'Abhijeet@yahoo.com' , 'Abhishek@gmail.com' , 'Chandan@hotmail.com' , 'akanksha@gmail.com' ,\n",
    "       'ashish@yahoo.com' ,'Dharshan@outlook.com']\n",
    "\n",
    "for i in lst:\n",
    "    if i.casefold().startswith('a'):\n",
    "        print(i)"
   ]
  },
  {
   "cell_type": "code",
   "execution_count": 106,
   "id": "07da0ead",
   "metadata": {},
   "outputs": [
    {
     "name": "stdout",
     "output_type": "stream",
     "text": [
      "True\n",
      "True\n",
      "False\n",
      "True\n"
     ]
    }
   ],
   "source": [
    "# is alnum - True is alpha , number , mix of both\n",
    "\n",
    "s1 = 'abc'\n",
    "s2 = '1234abc'\n",
    "s3 = '%^*'\n",
    "s4 = '1234'\n",
    "\n",
    "\n",
    "print(s1.isalnum()) # T\n",
    "print(s2.isalnum()) # T\n",
    "print(s3.isalnum()) # F\n",
    "print(s4.isalnum()) # T"
   ]
  },
  {
   "cell_type": "code",
   "execution_count": 107,
   "id": "921545a6",
   "metadata": {},
   "outputs": [
    {
     "name": "stdout",
     "output_type": "stream",
     "text": [
      "True\n",
      "False\n",
      "False\n",
      "False\n"
     ]
    }
   ],
   "source": [
    "# isalpha - True is alpha \n",
    "\n",
    "s1 = 'abc'\n",
    "s2 = '1234abc'\n",
    "s3 = '%^*'\n",
    "s4 = '1234'\n",
    "\n",
    "\n",
    "print(s1.isalpha()) # T\n",
    "print(s2.isalpha()) # F\n",
    "print(s3.isalpha()) # F\n",
    "print(s4.isalpha()) # F"
   ]
  },
  {
   "cell_type": "code",
   "execution_count": 111,
   "id": "2196041a",
   "metadata": {},
   "outputs": [
    {
     "name": "stdout",
     "output_type": "stream",
     "text": [
      "False\n",
      "False\n",
      "False\n",
      "True\n",
      "--------------\n",
      "False\n",
      "False\n",
      "False\n",
      "True\n"
     ]
    }
   ],
   "source": [
    "# is digit - True is number , is numberic \n",
    "\n",
    "s1 = 'abc'\n",
    "s2 = '1234abc'\n",
    "s3 = '%^*'\n",
    "s4 = '1234'\n",
    "\n",
    "\n",
    "print(s1.isdigit()) # F\n",
    "print(s2.isdigit()) # F\n",
    "print(s3.isdigit()) # F\n",
    "print(s4.isdigit()) # t\n",
    "\n",
    "print('--------------')\n",
    "\n",
    "print(s1.isnumeric()) # f\n",
    "print(s2.isnumeric()) # F\n",
    "print(s3.isnumeric()) # F\n",
    "print(s4.isnumeric()) # T"
   ]
  },
  {
   "cell_type": "code",
   "execution_count": 112,
   "id": "259e2ae9",
   "metadata": {},
   "outputs": [
    {
     "name": "stdout",
     "output_type": "stream",
     "text": [
      "True\n",
      "False\n",
      "False\n",
      "True\n"
     ]
    }
   ],
   "source": [
    "# is identifier\n",
    "\n",
    "s1 = 'abc'\n",
    "s2 = '1234abc'\n",
    "s3 = 'DATA science'\n",
    "s4 = 'python_java'\n",
    "\n",
    "\n",
    "print(s1.isidentifier()) # T\n",
    "print(s2.isidentifier()) # F\n",
    "print(s3.isidentifier()) # F\n",
    "print(s4.isidentifier()) # T"
   ]
  },
  {
   "cell_type": "code",
   "execution_count": 113,
   "id": "8f06a91d",
   "metadata": {},
   "outputs": [
    {
     "name": "stdout",
     "output_type": "stream",
     "text": [
      "True\n",
      "True\n",
      "True\n",
      "False\n"
     ]
    }
   ],
   "source": [
    "# isascii\n",
    "\n",
    "s1 = 'abc'\n",
    "s2 = '1234abc'\n",
    "s3 = 'DATA science'\n",
    "s4 = 'प्रवाह'\n",
    "\n",
    "\n",
    "print(s1.isascii()) # \n",
    "print(s2.isascii()) # \n",
    "print(s3.isascii()) # \n",
    "print(s4.isascii()) # "
   ]
  },
  {
   "cell_type": "markdown",
   "id": "98695dd4",
   "metadata": {},
   "source": [
    "# Other functions"
   ]
  },
  {
   "cell_type": "code",
   "execution_count": null,
   "id": "db8e3d50",
   "metadata": {},
   "outputs": [],
   "source": [
    "# Operator precedence\n",
    "\n",
    "\n",
    "() - > parenthesis\n",
    "** --> Exponent\n",
    " / , * , // , %\n",
    "+ , - \n",
    "<< , >>\n",
    "& \n",
    "^ \n",
    "|\n",
    "== , !=  ,> , < ,\n",
    "not\n",
    "and \n",
    "or"
   ]
  },
  {
   "cell_type": "code",
   "execution_count": null,
   "id": "0d50a3b3",
   "metadata": {},
   "outputs": [],
   "source": []
  },
  {
   "cell_type": "code",
   "execution_count": null,
   "id": "4ac193c5",
   "metadata": {},
   "outputs": [],
   "source": []
  },
  {
   "cell_type": "code",
   "execution_count": null,
   "id": "63742d27",
   "metadata": {},
   "outputs": [],
   "source": []
  }
 ],
 "metadata": {
  "kernelspec": {
   "display_name": "Python 3 (ipykernel)",
   "language": "python",
   "name": "python3"
  },
  "language_info": {
   "codemirror_mode": {
    "name": "ipython",
    "version": 3
   },
   "file_extension": ".py",
   "mimetype": "text/x-python",
   "name": "python",
   "nbconvert_exporter": "python",
   "pygments_lexer": "ipython3",
   "version": "3.11.4"
  }
 },
 "nbformat": 4,
 "nbformat_minor": 5
}
