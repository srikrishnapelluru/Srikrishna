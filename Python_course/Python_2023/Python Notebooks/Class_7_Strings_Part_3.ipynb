{
 "cells": [
  {
   "cell_type": "markdown",
   "id": "791a8718",
   "metadata": {},
   "source": [
    "# Special char in python"
   ]
  },
  {
   "cell_type": "code",
   "execution_count": 43,
   "id": "1464542f",
   "metadata": {},
   "outputs": [
    {
     "name": "stdout",
     "output_type": "stream",
     "text": [
      "hello\n",
      "world\n"
     ]
    }
   ],
   "source": [
    "# \\n - new line\n",
    "\n",
    "a = 'hello\\nworld'\n",
    "\n",
    "print(a)"
   ]
  },
  {
   "cell_type": "code",
   "execution_count": 44,
   "id": "74b3966a",
   "metadata": {},
   "outputs": [
    {
     "name": "stdout",
     "output_type": "stream",
     "text": [
      "hello\tworld\n"
     ]
    }
   ],
   "source": [
    "# \\t - tab space\n",
    "\n",
    "a = 'hello\\tworld'\n",
    "\n",
    "print(a)"
   ]
  },
  {
   "cell_type": "code",
   "execution_count": 45,
   "id": "6f9e8dcc",
   "metadata": {},
   "outputs": [
    {
     "name": "stdout",
     "output_type": "stream",
     "text": [
      "hello\bworld\n"
     ]
    }
   ],
   "source": [
    "# \\b - backspace deletes the previous char\n",
    "\n",
    "a = 'hello\\bworld'\n",
    "\n",
    "print(a)"
   ]
  },
  {
   "cell_type": "markdown",
   "id": "71b1d1d1",
   "metadata": {},
   "source": [
    "# Escape char - backslash"
   ]
  },
  {
   "cell_type": "code",
   "execution_count": 48,
   "id": "64fd3b5b",
   "metadata": {},
   "outputs": [
    {
     "name": "stdout",
     "output_type": "stream",
     "text": [
      "hello\n",
      "world\n"
     ]
    }
   ],
   "source": [
    "a = 'hello\\nworld'\n",
    "\n",
    "print(a)"
   ]
  },
  {
   "cell_type": "code",
   "execution_count": 47,
   "id": "9cf63419",
   "metadata": {},
   "outputs": [
    {
     "name": "stdout",
     "output_type": "stream",
     "text": [
      "hello\\nworld\n"
     ]
    }
   ],
   "source": [
    "a = 'hello\\\\nworld'\n",
    "\n",
    "print(a)"
   ]
  },
  {
   "cell_type": "code",
   "execution_count": 51,
   "id": "f053836e",
   "metadata": {},
   "outputs": [
    {
     "name": "stdout",
     "output_type": "stream",
     "text": [
      "hello\\nworld\tpython\n"
     ]
    }
   ],
   "source": [
    "a = 'hello\\\\nworld\\tpython'\n",
    "\n",
    "print(a)"
   ]
  },
  {
   "cell_type": "markdown",
   "id": "f055dcc1",
   "metadata": {},
   "source": [
    "# Raw string"
   ]
  },
  {
   "cell_type": "code",
   "execution_count": 52,
   "id": "32953d1f",
   "metadata": {},
   "outputs": [
    {
     "name": "stdout",
     "output_type": "stream",
     "text": [
      "hello\\nworld\\tpython\n"
     ]
    }
   ],
   "source": [
    "a = r'hello\\nworld\\tpython'\n",
    "\n",
    "print(a)"
   ]
  },
  {
   "cell_type": "code",
   "execution_count": 55,
   "id": "f641f818",
   "metadata": {},
   "outputs": [
    {
     "name": "stdout",
     "output_type": "stream",
     "text": [
      "C:\n",
      "ew folder\\project\test\ba.txt\n"
     ]
    }
   ],
   "source": [
    "a = 'C:\\\\new folder\\\\project\\test\\ba.txt'\n",
    "\n",
    "print(a)"
   ]
  },
  {
   "cell_type": "code",
   "execution_count": 56,
   "id": "1248c214",
   "metadata": {},
   "outputs": [
    {
     "name": "stdout",
     "output_type": "stream",
     "text": [
      "C:\\new folder\\project\\test\\ba.txt\n"
     ]
    }
   ],
   "source": [
    "a = r'C:\\new folder\\project\\test\\ba.txt'\n",
    "\n",
    "print(a)"
   ]
  },
  {
   "cell_type": "markdown",
   "id": "7bf54fcc",
   "metadata": {},
   "source": [
    "# carriage return - \\r"
   ]
  },
  {
   "cell_type": "code",
   "execution_count": 70,
   "id": "fe5c3cfe",
   "metadata": {},
   "outputs": [
    {
     "name": "stdout",
     "output_type": "stream",
     "text": [
      "hello\r",
      "wor\n"
     ]
    }
   ],
   "source": [
    "a = 'hello\\rwor'\n",
    "\n",
    "\n",
    "print(a)"
   ]
  },
  {
   "cell_type": "code",
   "execution_count": 71,
   "id": "64010127",
   "metadata": {},
   "outputs": [
    {
     "name": "stdout",
     "output_type": "stream",
     "text": [
      "hello\r",
      "Indian\n"
     ]
    }
   ],
   "source": [
    "a = 'hello\\rIndian'\n",
    "\n",
    "\n",
    "print(a)"
   ]
  },
  {
   "cell_type": "code",
   "execution_count": 72,
   "id": "b7f0f905",
   "metadata": {},
   "outputs": [
    {
     "name": "stdout",
     "output_type": "stream",
     "text": [
      "hello\r",
      "Ind\n"
     ]
    }
   ],
   "source": [
    "a = 'hello\\rInd'\n",
    "\n",
    "\n",
    "print(a)"
   ]
  },
  {
   "cell_type": "markdown",
   "id": "ea7d7224",
   "metadata": {},
   "source": [
    "# Strip , rstrip , lstrip\n",
    "\n",
    "- remove the specified char from the ends\n",
    "- if you do not specify any char by default it'll remove space"
   ]
  },
  {
   "cell_type": "code",
   "execution_count": 74,
   "id": "40a87651",
   "metadata": {},
   "outputs": [
    {
     "name": "stdout",
     "output_type": "stream",
     "text": [
      "                python                                                    \n"
     ]
    }
   ],
   "source": [
    "a = '                python                                                    '\n",
    "\n",
    "print(a)"
   ]
  },
  {
   "cell_type": "code",
   "execution_count": 75,
   "id": "82bab699",
   "metadata": {},
   "outputs": [
    {
     "name": "stdout",
     "output_type": "stream",
     "text": [
      "python\n"
     ]
    }
   ],
   "source": [
    "a = '                python                                                    '.strip()\n",
    "\n",
    "print(a)"
   ]
  },
  {
   "cell_type": "code",
   "execution_count": 77,
   "id": "c32737e2",
   "metadata": {},
   "outputs": [
    {
     "name": "stdout",
     "output_type": "stream",
     "text": [
      "python\n"
     ]
    }
   ],
   "source": [
    "a = '######python################'.strip('#')\n",
    "\n",
    "print(a)"
   ]
  },
  {
   "cell_type": "code",
   "execution_count": 78,
   "id": "b48cc141",
   "metadata": {},
   "outputs": [
    {
     "name": "stdout",
     "output_type": "stream",
     "text": [
      "python # java\n"
     ]
    }
   ],
   "source": [
    "a = '######python # java################'.strip('#')\n",
    "\n",
    "print(a)"
   ]
  },
  {
   "cell_type": "code",
   "execution_count": 79,
   "id": "95c098fd",
   "metadata": {},
   "outputs": [
    {
     "name": "stdout",
     "output_type": "stream",
     "text": [
      "python # java\n"
     ]
    }
   ],
   "source": [
    "a = '######python # java################'.strip('#')\n",
    "\n",
    "print(a)"
   ]
  },
  {
   "cell_type": "code",
   "execution_count": 82,
   "id": "a9179ba3",
   "metadata": {},
   "outputs": [
    {
     "name": "stdout",
     "output_type": "stream",
     "text": [
      "python # java\n"
     ]
    }
   ],
   "source": [
    "a = '##*#*###*******python # java**********************######*######*####'.strip('#*')\n",
    "\n",
    "print(a)"
   ]
  },
  {
   "cell_type": "code",
   "execution_count": 83,
   "id": "62b20ff0",
   "metadata": {},
   "outputs": [
    {
     "name": "stdout",
     "output_type": "stream",
     "text": [
      "python # java\n"
     ]
    }
   ],
   "source": [
    "a = '##*#*###*******      python # java*********************     *######*######*####'.strip('#* ')\n",
    "\n",
    "print(a)"
   ]
  },
  {
   "cell_type": "code",
   "execution_count": 85,
   "id": "9a9cd84c",
   "metadata": {},
   "outputs": [
    {
     "name": "stdout",
     "output_type": "stream",
     "text": [
      "python # java\n"
     ]
    }
   ],
   "source": [
    "a = '*  ***##*#*#*##*******      python # java*********************     *######*######*####'.strip('#* ')\n",
    "\n",
    "print(a)"
   ]
  },
  {
   "cell_type": "code",
   "execution_count": 86,
   "id": "f01a23e5",
   "metadata": {},
   "outputs": [
    {
     "name": "stdout",
     "output_type": "stream",
     "text": [
      "python # java\n"
     ]
    }
   ],
   "source": [
    "a = '1111111python # java################'.strip('#1')\n",
    "\n",
    "print(a)"
   ]
  },
  {
   "cell_type": "code",
   "execution_count": 87,
   "id": "b4fca94f",
   "metadata": {},
   "outputs": [
    {
     "name": "stdout",
     "output_type": "stream",
     "text": [
      "python # java\n"
     ]
    }
   ],
   "source": [
    "a = '######python # java################'.strip('#')\n",
    "\n",
    "print(a)"
   ]
  },
  {
   "cell_type": "code",
   "execution_count": 88,
   "id": "e2545235",
   "metadata": {},
   "outputs": [
    {
     "name": "stdout",
     "output_type": "stream",
     "text": [
      "######python # java\n"
     ]
    }
   ],
   "source": [
    "a = '######python # java################'.rstrip('#')\n",
    "\n",
    "print(a)"
   ]
  },
  {
   "cell_type": "code",
   "execution_count": 89,
   "id": "6f294bd9",
   "metadata": {},
   "outputs": [
    {
     "name": "stdout",
     "output_type": "stream",
     "text": [
      "python # java################\n"
     ]
    }
   ],
   "source": [
    "a = '######python # java################'.lstrip('#')\n",
    "\n",
    "print(a)"
   ]
  },
  {
   "cell_type": "code",
   "execution_count": 90,
   "id": "809a953b",
   "metadata": {},
   "outputs": [],
   "source": [
    "user_name = 'xyz@gmail.com'\n",
    "password = 'python'"
   ]
  },
  {
   "cell_type": "code",
   "execution_count": 93,
   "id": "d80bb2c0",
   "metadata": {},
   "outputs": [
    {
     "name": "stdout",
     "output_type": "stream",
     "text": [
      "Enter your mail ID : XYZ@gmail.com\n",
      "Enter your password :      python           \n",
      "Logged in\n"
     ]
    }
   ],
   "source": [
    "a = input('Enter your mail ID : ').lower()\n",
    "b = input('Enter your password : ').lower().strip()\n",
    "\n",
    "\n",
    "if (a == user_name) and ( b == password):\n",
    "    print('Logged in')\n",
    "else:\n",
    "    print('Incorrect Info')"
   ]
  },
  {
   "cell_type": "markdown",
   "id": "c14da41c",
   "metadata": {},
   "source": [
    "# Count"
   ]
  },
  {
   "cell_type": "code",
   "execution_count": 95,
   "id": "bb3bf884",
   "metadata": {},
   "outputs": [
    {
     "data": {
      "text/plain": [
       "5"
      ]
     },
     "execution_count": 95,
     "metadata": {},
     "output_type": "execute_result"
    }
   ],
   "source": [
    "a = 'This is a nov batch of python, python has an easy syntax'\n",
    "\n",
    "\n",
    "a.count('s')"
   ]
  },
  {
   "cell_type": "code",
   "execution_count": 96,
   "id": "b9932001",
   "metadata": {},
   "outputs": [
    {
     "data": {
      "text/plain": [
       "2"
      ]
     },
     "execution_count": 96,
     "metadata": {},
     "output_type": "execute_result"
    }
   ],
   "source": [
    "a.count('python')"
   ]
  },
  {
   "cell_type": "code",
   "execution_count": 98,
   "id": "28fd9eb9",
   "metadata": {},
   "outputs": [
    {
     "data": {
      "text/plain": [
       "2"
      ]
     },
     "execution_count": 98,
     "metadata": {},
     "output_type": "execute_result"
    }
   ],
   "source": [
    "a.count('python')"
   ]
  },
  {
   "cell_type": "markdown",
   "id": "91e77d63",
   "metadata": {},
   "source": [
    "# find , rfind $ index , rindex"
   ]
  },
  {
   "cell_type": "code",
   "execution_count": 100,
   "id": "920c9e0b",
   "metadata": {},
   "outputs": [
    {
     "data": {
      "text/plain": [
       "10"
      ]
     },
     "execution_count": 100,
     "metadata": {},
     "output_type": "execute_result"
    }
   ],
   "source": [
    "a = 'This is a nov batch of python'\n",
    "\n",
    "\n",
    "a.find('n')"
   ]
  },
  {
   "cell_type": "code",
   "execution_count": 101,
   "id": "94f11d29",
   "metadata": {},
   "outputs": [
    {
     "data": {
      "text/plain": [
       "10"
      ]
     },
     "execution_count": 101,
     "metadata": {},
     "output_type": "execute_result"
    }
   ],
   "source": [
    "a.index('n')"
   ]
  },
  {
   "cell_type": "code",
   "execution_count": 102,
   "id": "f2099b75",
   "metadata": {},
   "outputs": [
    {
     "data": {
      "text/plain": [
       "3"
      ]
     },
     "execution_count": 102,
     "metadata": {},
     "output_type": "execute_result"
    }
   ],
   "source": [
    "a = 'This is a nov batch of python'\n",
    "\n",
    "\n",
    "a.find('s')"
   ]
  },
  {
   "cell_type": "code",
   "execution_count": 103,
   "id": "8fc8869d",
   "metadata": {},
   "outputs": [
    {
     "data": {
      "text/plain": [
       "10"
      ]
     },
     "execution_count": 103,
     "metadata": {},
     "output_type": "execute_result"
    }
   ],
   "source": [
    "a = 'This is a nov batch of python'\n",
    "\n",
    "\n",
    "a.find('n')"
   ]
  },
  {
   "cell_type": "code",
   "execution_count": 104,
   "id": "8d1bd568",
   "metadata": {},
   "outputs": [
    {
     "data": {
      "text/plain": [
       "28"
      ]
     },
     "execution_count": 104,
     "metadata": {},
     "output_type": "execute_result"
    }
   ],
   "source": [
    "a = 'This is a nov batch of python'\n",
    "\n",
    "\n",
    "a.rfind('n')"
   ]
  },
  {
   "cell_type": "code",
   "execution_count": null,
   "id": "bfe15d49",
   "metadata": {},
   "outputs": [],
   "source": [
    "a = 'This is a nov batch of python'\n",
    "\n",
    "\n",
    "a.rfind('s')"
   ]
  },
  {
   "cell_type": "code",
   "execution_count": 110,
   "id": "996120c3",
   "metadata": {},
   "outputs": [
    {
     "data": {
      "text/plain": [
       "[(0, 'T'),\n",
       " (1, 'h'),\n",
       " (2, 'i'),\n",
       " (3, 's'),\n",
       " (4, ' '),\n",
       " (5, 'i'),\n",
       " (6, 's'),\n",
       " (7, ' '),\n",
       " (8, 'a'),\n",
       " (9, ' '),\n",
       " (10, 'n'),\n",
       " (11, 'o'),\n",
       " (12, 'v'),\n",
       " (13, ' '),\n",
       " (14, 'b'),\n",
       " (15, 'a'),\n",
       " (16, 't'),\n",
       " (17, 'c'),\n",
       " (18, 'h'),\n",
       " (19, ' '),\n",
       " (20, 'o'),\n",
       " (21, 'f'),\n",
       " (22, ' '),\n",
       " (23, 'p'),\n",
       " (24, 'y'),\n",
       " (25, 't'),\n",
       " (26, 'h'),\n",
       " (27, 'o'),\n",
       " (28, 'n'),\n",
       " (29, 's'),\n",
       " (30, ' '),\n",
       " (31, 'c'),\n",
       " (32, 'l'),\n",
       " (33, 'a'),\n",
       " (34, 's'),\n",
       " (35, 's')]"
      ]
     },
     "execution_count": 110,
     "metadata": {},
     "output_type": "execute_result"
    }
   ],
   "source": [
    "list(enumerate(a))"
   ]
  },
  {
   "cell_type": "code",
   "execution_count": 111,
   "id": "69eafea2",
   "metadata": {},
   "outputs": [
    {
     "data": {
      "text/plain": [
       "10"
      ]
     },
     "execution_count": 111,
     "metadata": {},
     "output_type": "execute_result"
    }
   ],
   "source": [
    "a = 'This is a nov batch of pythons class'\n",
    "\n",
    "\n",
    "a.find('n') # 10"
   ]
  },
  {
   "cell_type": "code",
   "execution_count": 112,
   "id": "af14d884",
   "metadata": {},
   "outputs": [
    {
     "data": {
      "text/plain": [
       "28"
      ]
     },
     "execution_count": 112,
     "metadata": {},
     "output_type": "execute_result"
    }
   ],
   "source": [
    "a = 'This is a nov batch of pythons class'\n",
    "\n",
    "\n",
    "a.rfind('n') # 28"
   ]
  },
  {
   "cell_type": "code",
   "execution_count": 113,
   "id": "2b576940",
   "metadata": {},
   "outputs": [
    {
     "data": {
      "text/plain": [
       "2"
      ]
     },
     "execution_count": 113,
     "metadata": {},
     "output_type": "execute_result"
    }
   ],
   "source": [
    "a = 'This is a nov batch of pythons class'\n",
    "\n",
    "\n",
    "a.count('n')"
   ]
  },
  {
   "cell_type": "code",
   "execution_count": 114,
   "id": "1454eec2",
   "metadata": {},
   "outputs": [
    {
     "data": {
      "text/plain": [
       "10"
      ]
     },
     "execution_count": 114,
     "metadata": {},
     "output_type": "execute_result"
    }
   ],
   "source": [
    "a = 'This is a nov batch of pythons class'\n",
    "\n",
    "\n",
    "a.find('n') # 10"
   ]
  },
  {
   "cell_type": "code",
   "execution_count": 115,
   "id": "eb21b906",
   "metadata": {},
   "outputs": [
    {
     "data": {
      "text/plain": [
       "10"
      ]
     },
     "execution_count": 115,
     "metadata": {},
     "output_type": "execute_result"
    }
   ],
   "source": [
    "a = 'This is a nov batch of pythons class'\n",
    "\n",
    "\n",
    "a.index('n') # 10"
   ]
  },
  {
   "cell_type": "code",
   "execution_count": 116,
   "id": "49432371",
   "metadata": {},
   "outputs": [
    {
     "data": {
      "text/plain": [
       "-1"
      ]
     },
     "execution_count": 116,
     "metadata": {},
     "output_type": "execute_result"
    }
   ],
   "source": [
    "a = 'This is a nov batch of pythons class'\n",
    "\n",
    "\n",
    "a.find('z')"
   ]
  },
  {
   "cell_type": "code",
   "execution_count": 117,
   "id": "75ed8543",
   "metadata": {},
   "outputs": [
    {
     "ename": "ValueError",
     "evalue": "substring not found",
     "output_type": "error",
     "traceback": [
      "\u001b[1;31m---------------------------------------------------------------------------\u001b[0m",
      "\u001b[1;31mValueError\u001b[0m                                Traceback (most recent call last)",
      "Cell \u001b[1;32mIn[117], line 4\u001b[0m\n\u001b[0;32m      1\u001b[0m a \u001b[38;5;241m=\u001b[39m \u001b[38;5;124m'\u001b[39m\u001b[38;5;124mThis is a nov batch of pythons class\u001b[39m\u001b[38;5;124m'\u001b[39m\n\u001b[1;32m----> 4\u001b[0m a\u001b[38;5;241m.\u001b[39mindex(\u001b[38;5;124m'\u001b[39m\u001b[38;5;124mz\u001b[39m\u001b[38;5;124m'\u001b[39m)\n",
      "\u001b[1;31mValueError\u001b[0m: substring not found"
     ]
    }
   ],
   "source": [
    "a = 'This is a nov batch of pythons class'\n",
    "\n",
    "\n",
    "a.index('z')"
   ]
  },
  {
   "cell_type": "markdown",
   "id": "4f82d9c0",
   "metadata": {},
   "source": [
    "# rjust , ljust"
   ]
  },
  {
   "cell_type": "code",
   "execution_count": 137,
   "id": "ed2152fb",
   "metadata": {},
   "outputs": [
    {
     "data": {
      "text/plain": [
       "'    python'"
      ]
     },
     "execution_count": 137,
     "metadata": {},
     "output_type": "execute_result"
    }
   ],
   "source": [
    "a = 'python'\n",
    "\n",
    "a.rjust(10)"
   ]
  },
  {
   "cell_type": "code",
   "execution_count": 138,
   "id": "4dc5bb55",
   "metadata": {},
   "outputs": [
    {
     "data": {
      "text/plain": [
       "'python    '"
      ]
     },
     "execution_count": 138,
     "metadata": {},
     "output_type": "execute_result"
    }
   ],
   "source": [
    "a.ljust(10)"
   ]
  },
  {
   "cell_type": "code",
   "execution_count": 139,
   "id": "5996c4e0",
   "metadata": {},
   "outputs": [
    {
     "data": {
      "text/plain": [
       "'python****'"
      ]
     },
     "execution_count": 139,
     "metadata": {},
     "output_type": "execute_result"
    }
   ],
   "source": [
    "a.ljust(10 , '*')"
   ]
  },
  {
   "cell_type": "code",
   "execution_count": 140,
   "id": "460d6d42",
   "metadata": {},
   "outputs": [
    {
     "data": {
      "text/plain": [
       "'%%%%python'"
      ]
     },
     "execution_count": 140,
     "metadata": {},
     "output_type": "execute_result"
    }
   ],
   "source": [
    "a.rjust(10 , '%')"
   ]
  },
  {
   "cell_type": "code",
   "execution_count": 141,
   "id": "3b670163",
   "metadata": {},
   "outputs": [
    {
     "data": {
      "text/plain": [
       "'python'"
      ]
     },
     "execution_count": 141,
     "metadata": {},
     "output_type": "execute_result"
    }
   ],
   "source": [
    "a.rjust(4 , '%')"
   ]
  },
  {
   "cell_type": "code",
   "execution_count": 142,
   "id": "5dba1a57",
   "metadata": {},
   "outputs": [
    {
     "data": {
      "text/plain": [
       "'09922384738'"
      ]
     },
     "execution_count": 142,
     "metadata": {},
     "output_type": "execute_result"
    }
   ],
   "source": [
    "a = '09922384738'\n",
    "\n",
    "a.rjust(11 , '0')"
   ]
  },
  {
   "cell_type": "code",
   "execution_count": 143,
   "id": "1755322d",
   "metadata": {},
   "outputs": [
    {
     "data": {
      "text/plain": [
       "'09922384738'"
      ]
     },
     "execution_count": 143,
     "metadata": {},
     "output_type": "execute_result"
    }
   ],
   "source": [
    "a = '9922384738'\n",
    "\n",
    "a.rjust(11 , '0')"
   ]
  },
  {
   "cell_type": "code",
   "execution_count": 144,
   "id": "912b4f8d",
   "metadata": {},
   "outputs": [
    {
     "data": {
      "text/plain": [
       "'**python'"
      ]
     },
     "execution_count": 144,
     "metadata": {},
     "output_type": "execute_result"
    }
   ],
   "source": [
    "a = 'python'\n",
    "\n",
    "a.rjust(8 , '*')"
   ]
  },
  {
   "cell_type": "code",
   "execution_count": 146,
   "id": "31edf132",
   "metadata": {},
   "outputs": [
    {
     "data": {
      "text/plain": [
       "'python'"
      ]
     },
     "execution_count": 146,
     "metadata": {},
     "output_type": "execute_result"
    }
   ],
   "source": [
    "a = 'python'\n",
    "\n",
    "a.rjust(5 , '*')"
   ]
  },
  {
   "cell_type": "code",
   "execution_count": 147,
   "id": "8cfa20b4",
   "metadata": {},
   "outputs": [
    {
     "data": {
      "text/plain": [
       "'09922384738'"
      ]
     },
     "execution_count": 147,
     "metadata": {},
     "output_type": "execute_result"
    }
   ],
   "source": [
    "a = '09922384738'\n",
    "\n",
    "a.rjust(11 , '0')"
   ]
  },
  {
   "cell_type": "code",
   "execution_count": 148,
   "id": "e8b3c363",
   "metadata": {},
   "outputs": [
    {
     "data": {
      "text/plain": [
       "'09922384738'"
      ]
     },
     "execution_count": 148,
     "metadata": {},
     "output_type": "execute_result"
    }
   ],
   "source": [
    "a = '9922384738'\n",
    "\n",
    "a.rjust(11 , '0')"
   ]
  },
  {
   "cell_type": "code",
   "execution_count": 155,
   "id": "5a3b2bda",
   "metadata": {},
   "outputs": [
    {
     "ename": "TypeError",
     "evalue": "The fill character must be exactly one character long",
     "output_type": "error",
     "traceback": [
      "\u001b[1;31m---------------------------------------------------------------------------\u001b[0m",
      "\u001b[1;31mTypeError\u001b[0m                                 Traceback (most recent call last)",
      "Cell \u001b[1;32mIn[155], line 3\u001b[0m\n\u001b[0;32m      1\u001b[0m a \u001b[38;5;241m=\u001b[39m \u001b[38;5;124m'\u001b[39m\u001b[38;5;124m9922384738\u001b[39m\u001b[38;5;124m'\u001b[39m\n\u001b[1;32m----> 3\u001b[0m a\u001b[38;5;241m.\u001b[39mrjust(\u001b[38;5;241m11\u001b[39m , \u001b[38;5;124m'\u001b[39m\u001b[38;5;124m01\u001b[39m\u001b[38;5;124m'\u001b[39m)\n",
      "\u001b[1;31mTypeError\u001b[0m: The fill character must be exactly one character long"
     ]
    }
   ],
   "source": [
    "a = '9922384738'\n",
    "\n",
    "a.rjust(11 , '01')"
   ]
  },
  {
   "cell_type": "code",
   "execution_count": 154,
   "id": "a3e18ec4",
   "metadata": {},
   "outputs": [
    {
     "data": {
      "text/plain": [
       "'&&&**9922384738'"
      ]
     },
     "execution_count": 154,
     "metadata": {},
     "output_type": "execute_result"
    }
   ],
   "source": [
    "a = '9922384738'\n",
    "\n",
    "a.rjust(12 , '*').rjust(15 , '&')"
   ]
  },
  {
   "cell_type": "code",
   "execution_count": 157,
   "id": "d754b35b",
   "metadata": {},
   "outputs": [
    {
     "name": "stdout",
     "output_type": "stream",
     "text": [
      "+91-09922384738\n"
     ]
    }
   ],
   "source": [
    "a = '9922384738'\n",
    "\n",
    "\n",
    "print(a.rjust(11, '0').rjust(12,'-').rjust(13,'1').rjust(14 ,'9').rjust(15,'+'))"
   ]
  },
  {
   "cell_type": "code",
   "execution_count": 159,
   "id": "f2ebac7e",
   "metadata": {},
   "outputs": [
    {
     "name": "stdout",
     "output_type": "stream",
     "text": [
      "+91-09922384738\n"
     ]
    }
   ],
   "source": [
    "a = '09922384738'\n",
    "\n",
    "\n",
    "print('+91-' + a.rjust(11, '0'))"
   ]
  },
  {
   "cell_type": "markdown",
   "id": "863f2d9e",
   "metadata": {},
   "source": [
    "# Replace"
   ]
  },
  {
   "cell_type": "code",
   "execution_count": 160,
   "id": "30c4e8f8",
   "metadata": {},
   "outputs": [
    {
     "data": {
      "text/plain": [
       "'this id jythons class, jython has an easy syntax, jython is an jrograming lang'"
      ]
     },
     "execution_count": 160,
     "metadata": {},
     "output_type": "execute_result"
    }
   ],
   "source": [
    "a = 'this id pythons class, python has an easy syntax, python is an programing lang'\n",
    "\n",
    "a.replace('p' , 'j')"
   ]
  },
  {
   "cell_type": "code",
   "execution_count": 163,
   "id": "44f1b115",
   "metadata": {},
   "outputs": [
    {
     "data": {
      "text/plain": [
       "'this is javas class, java has an easy syntax, java is an programming lang'"
      ]
     },
     "execution_count": 163,
     "metadata": {},
     "output_type": "execute_result"
    }
   ],
   "source": [
    "a = 'this is pythons class, python has an easy syntax, python is an programming lang'\n",
    "\n",
    "a.replace('python' , 'java')"
   ]
  },
  {
   "cell_type": "code",
   "execution_count": 166,
   "id": "d0a65fa4",
   "metadata": {},
   "outputs": [
    {
     "data": {
      "text/plain": [
       "'this is javas class, java has an easy syntax, java is an programming lang'"
      ]
     },
     "execution_count": 166,
     "metadata": {},
     "output_type": "execute_result"
    }
   ],
   "source": [
    "a = 'this is pythons class, python has an easy syntax, python is an programming lang'\n",
    "\n",
    "a.replace('python' , 'java') # count=-1"
   ]
  },
  {
   "cell_type": "code",
   "execution_count": 164,
   "id": "8a28bcdc",
   "metadata": {},
   "outputs": [
    {
     "data": {
      "text/plain": [
       "'this is javas class, python has an easy syntax, python is an programming lang'"
      ]
     },
     "execution_count": 164,
     "metadata": {},
     "output_type": "execute_result"
    }
   ],
   "source": [
    "a = 'this is pythons class, python has an easy syntax, python is an programming lang'\n",
    "\n",
    "a.replace('python' , 'java' , 1) # count=-1"
   ]
  },
  {
   "cell_type": "code",
   "execution_count": 178,
   "id": "2aa1ea88",
   "metadata": {},
   "outputs": [
    {
     "data": {
      "text/plain": [
       "'this is javas class, java has an easy syntax, python is an programming lang'"
      ]
     },
     "execution_count": 178,
     "metadata": {},
     "output_type": "execute_result"
    }
   ],
   "source": [
    "a = 'this is pythons class, python has an easy syntax, python is an programming lang'\n",
    "\n",
    "a.replace('python' , 'java' , 2)"
   ]
  },
  {
   "cell_type": "markdown",
   "id": "d05f82cb",
   "metadata": {},
   "source": [
    "# Split\n",
    "\n",
    "- it'll split you string according to the specified char\n",
    "- by default it'll split according to white space \n",
    "- It' return you a list data type"
   ]
  },
  {
   "cell_type": "code",
   "execution_count": 182,
   "id": "2b5cb106",
   "metadata": {},
   "outputs": [
    {
     "data": {
      "text/plain": [
       "['this',\n",
       " 'is',\n",
       " 'pythons',\n",
       " 'class,',\n",
       " 'python',\n",
       " 'has',\n",
       " 'an',\n",
       " 'easy',\n",
       " 'syntax,',\n",
       " 'python',\n",
       " 'is',\n",
       " 'an',\n",
       " 'programming',\n",
       " 'lang']"
      ]
     },
     "execution_count": 182,
     "metadata": {},
     "output_type": "execute_result"
    }
   ],
   "source": [
    "a = 'this is pythons class, python has an easy syntax, python is an programming lang'\n",
    "\n",
    "a.split()"
   ]
  },
  {
   "cell_type": "code",
   "execution_count": 170,
   "id": "10b0ebb7",
   "metadata": {},
   "outputs": [
    {
     "data": {
      "text/plain": [
       "['xyz', 'gmail.com']"
      ]
     },
     "execution_count": 170,
     "metadata": {},
     "output_type": "execute_result"
    }
   ],
   "source": [
    "a = 'xyz@gmail.com'\n",
    "\n",
    "a.split('@')"
   ]
  },
  {
   "cell_type": "code",
   "execution_count": 172,
   "id": "280f3d1a",
   "metadata": {},
   "outputs": [
    {
     "data": {
      "text/plain": [
       "['this',\n",
       " 'is',\n",
       " 'pythons',\n",
       " 'class,',\n",
       " 'python',\n",
       " 'has',\n",
       " 'an',\n",
       " 'easy',\n",
       " 'syntax,',\n",
       " 'python',\n",
       " 'is',\n",
       " 'an',\n",
       " 'programming',\n",
       " 'lang']"
      ]
     },
     "execution_count": 172,
     "metadata": {},
     "output_type": "execute_result"
    }
   ],
   "source": [
    "a = 'this is pythons class, python has an easy syntax, python is an programming lang'\n",
    "\n",
    "b = a.split()\n",
    "b"
   ]
  },
  {
   "cell_type": "code",
   "execution_count": 173,
   "id": "175764ce",
   "metadata": {},
   "outputs": [],
   "source": [
    "b[4] = 'java'"
   ]
  },
  {
   "cell_type": "code",
   "execution_count": 174,
   "id": "22d01ef5",
   "metadata": {},
   "outputs": [
    {
     "data": {
      "text/plain": [
       "['this',\n",
       " 'is',\n",
       " 'pythons',\n",
       " 'class,',\n",
       " 'java',\n",
       " 'has',\n",
       " 'an',\n",
       " 'easy',\n",
       " 'syntax,',\n",
       " 'python',\n",
       " 'is',\n",
       " 'an',\n",
       " 'programming',\n",
       " 'lang']"
      ]
     },
     "execution_count": 174,
     "metadata": {},
     "output_type": "execute_result"
    }
   ],
   "source": [
    "b"
   ]
  },
  {
   "cell_type": "markdown",
   "id": "887017aa",
   "metadata": {},
   "source": [
    "# join"
   ]
  },
  {
   "cell_type": "code",
   "execution_count": 175,
   "id": "12107fb1",
   "metadata": {},
   "outputs": [
    {
     "data": {
      "text/plain": [
       "'this*is*pythons*class,*java*has*an*easy*syntax,*python*is*an*programming*lang'"
      ]
     },
     "execution_count": 175,
     "metadata": {},
     "output_type": "execute_result"
    }
   ],
   "source": [
    "'*'.join(b)"
   ]
  },
  {
   "cell_type": "code",
   "execution_count": 176,
   "id": "40f2926b",
   "metadata": {},
   "outputs": [
    {
     "data": {
      "text/plain": [
       "'this is pythons class, java has an easy syntax, python is an programming lang'"
      ]
     },
     "execution_count": 176,
     "metadata": {},
     "output_type": "execute_result"
    }
   ],
   "source": [
    "' '.join(b)"
   ]
  },
  {
   "cell_type": "markdown",
   "id": "61b75626",
   "metadata": {},
   "source": [
    "# List"
   ]
  },
  {
   "cell_type": "code",
   "execution_count": null,
   "id": "220909d1",
   "metadata": {},
   "outputs": [],
   "source": []
  },
  {
   "cell_type": "code",
   "execution_count": null,
   "id": "7eeadd4b",
   "metadata": {},
   "outputs": [],
   "source": []
  }
 ],
 "metadata": {
  "kernelspec": {
   "display_name": "Python 3 (ipykernel)",
   "language": "python",
   "name": "python3"
  },
  "language_info": {
   "codemirror_mode": {
    "name": "ipython",
    "version": 3
   },
   "file_extension": ".py",
   "mimetype": "text/x-python",
   "name": "python",
   "nbconvert_exporter": "python",
   "pygments_lexer": "ipython3",
   "version": "3.11.4"
  }
 },
 "nbformat": 4,
 "nbformat_minor": 5
}
