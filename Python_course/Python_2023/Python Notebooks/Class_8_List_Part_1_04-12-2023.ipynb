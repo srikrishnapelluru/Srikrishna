{
 "cells": [
  {
   "cell_type": "markdown",
   "id": "0508c84f",
   "metadata": {},
   "source": [
    "# List\n",
    "\n",
    "- Anything written inside [] and each element are seperated ,"
   ]
  },
  {
   "cell_type": "code",
   "execution_count": 6,
   "id": "01b9f712",
   "metadata": {},
   "outputs": [
    {
     "name": "stdout",
     "output_type": "stream",
     "text": [
      "[324, 45, 56, 67] <class 'list'>\n"
     ]
    }
   ],
   "source": [
    "a = [324,45,56,67]\n",
    "\n",
    "print(a , type(a))"
   ]
  },
  {
   "cell_type": "markdown",
   "id": "8d4e122b",
   "metadata": {},
   "source": [
    "# Creating a list"
   ]
  },
  {
   "cell_type": "code",
   "execution_count": 7,
   "id": "04b98c8a",
   "metadata": {},
   "outputs": [
    {
     "name": "stdout",
     "output_type": "stream",
     "text": [
      "['Apple', 'Mango', 'Banana'] <class 'list'>\n"
     ]
    }
   ],
   "source": [
    "# If you already know the elements\n",
    "\n",
    "a = ['Apple' , 'Mango' , 'Banana']\n",
    "\n",
    "print(a , type(a))"
   ]
  },
  {
   "cell_type": "code",
   "execution_count": 8,
   "id": "f441dbfa",
   "metadata": {},
   "outputs": [
    {
     "name": "stdout",
     "output_type": "stream",
     "text": [
      "Enter a list : [23,45,56,67]\n",
      "[23,45,56,67] <class 'str'>\n"
     ]
    }
   ],
   "source": [
    "# Allow the user to enter\n",
    "\n",
    "a = input('Enter a list : ')\n",
    "\n",
    "print(a , type(a))"
   ]
  },
  {
   "cell_type": "code",
   "execution_count": 10,
   "id": "b5c25855",
   "metadata": {},
   "outputs": [
    {
     "name": "stdout",
     "output_type": "stream",
     "text": [
      "Enter a list : [34,56,67,78,78]\n",
      "[34, 56, 67, 78, 78] <class 'list'>\n"
     ]
    }
   ],
   "source": [
    "# Allow the user to enter\n",
    "\n",
    "a = eval(input('Enter a list : '))\n",
    "\n",
    "print(a , type(a))"
   ]
  },
  {
   "cell_type": "code",
   "execution_count": 11,
   "id": "0a89641c",
   "metadata": {},
   "outputs": [
    {
     "name": "stdout",
     "output_type": "stream",
     "text": [
      "['x', 'y', 'z', ' ', 'a', 'b', 'c']\n",
      "[34, 45, 56, 67]\n"
     ]
    }
   ],
   "source": [
    "# 3rd method - type casting\n",
    "\n",
    "a = 'xyz abc'\n",
    "b = (34,45,56,67)\n",
    "\n",
    "\n",
    "print(list(a))\n",
    "print(list(b))"
   ]
  },
  {
   "cell_type": "code",
   "execution_count": 13,
   "id": "cc1f54a3",
   "metadata": {},
   "outputs": [
    {
     "name": "stdout",
     "output_type": "stream",
     "text": [
      "Enter a list : 34,546,56,67,6767,56,56,67\n",
      "[34, 546, 56, 67, 6767, 56, 56, 67] <class 'list'>\n"
     ]
    }
   ],
   "source": [
    "a = list(eval(input('Enter a list : ')))\n",
    "\n",
    "print(a , type(a))"
   ]
  },
  {
   "cell_type": "code",
   "execution_count": 15,
   "id": "858f1ab8",
   "metadata": {},
   "outputs": [
    {
     "name": "stdout",
     "output_type": "stream",
     "text": [
      "['h', 'e', 'l', 'l', 'o', ' ', 'w', 'o', 'r', 'l', 'd'] <class 'list'>\n"
     ]
    }
   ],
   "source": [
    "a = list('hello world')\n",
    "\n",
    "print(a , type(a))"
   ]
  },
  {
   "cell_type": "code",
   "execution_count": 16,
   "id": "1d9d2ca4",
   "metadata": {},
   "outputs": [
    {
     "name": "stdout",
     "output_type": "stream",
     "text": [
      "['hello', 'world'] <class 'list'>\n"
     ]
    }
   ],
   "source": [
    "# 4th method\n",
    "\n",
    "a = 'hello world'.split()\n",
    "\n",
    "print(a , type(a))"
   ]
  },
  {
   "cell_type": "markdown",
   "id": "5ff342b5",
   "metadata": {},
   "source": [
    "# Properties of list\n",
    "\n",
    "- It is an seq data type, It allows you to perform Indexing and Slicing\n",
    "- It supports both possitive and negative indexing\n",
    "- It allows duplication\n",
    "- It is hetrogeneous - Can store multiple data types\n",
    "- It allows basic op - concatination , repetation , Identity , Membership\n",
    "\n",
    "### Note:- It is an mutable data type"
   ]
  },
  {
   "cell_type": "code",
   "execution_count": null,
   "id": "2f63fb51",
   "metadata": {},
   "outputs": [],
   "source": [
    "lst = ['Sriram@gmail.com' , 'Abhijeet@yahoo.com' , 'Abhishek@gmail.com' , 'Chandan@hotmail.com' , 'akanksha@gmail.com' ,\n",
    "       'ashish@yahoo.com' ,'Dharshan@outlook.com']"
   ]
  },
  {
   "cell_type": "code",
   "execution_count": 21,
   "id": "63b95b26",
   "metadata": {},
   "outputs": [
    {
     "data": {
      "text/plain": [
       "'Abhijeet@yahoo.com'"
      ]
     },
     "execution_count": 21,
     "metadata": {},
     "output_type": "execute_result"
    }
   ],
   "source": [
    "a = ['Sriram@gmail.com' , 'Abhijeet@yahoo.com' , 'Abhishek@gmail.com' , 'Chandan@hotmail.com' ]\n",
    "\n",
    "a[1] # +ve"
   ]
  },
  {
   "cell_type": "code",
   "execution_count": 22,
   "id": "37df32d4",
   "metadata": {},
   "outputs": [
    {
     "data": {
      "text/plain": [
       "'Abhijeet@yahoo.com'"
      ]
     },
     "execution_count": 22,
     "metadata": {},
     "output_type": "execute_result"
    }
   ],
   "source": [
    "a[-3] # -ve"
   ]
  },
  {
   "cell_type": "code",
   "execution_count": 25,
   "id": "0084f404",
   "metadata": {},
   "outputs": [
    {
     "data": {
      "text/plain": [
       "['Abhijeet@yahoo.com', 'Abhishek@gmail.com']"
      ]
     },
     "execution_count": 25,
     "metadata": {},
     "output_type": "execute_result"
    }
   ],
   "source": [
    "a = ['Sriram@gmail.com' , 'Abhijeet@yahoo.com' , 'Abhishek@gmail.com' , 'Chandan@hotmail.com' ]\n",
    "\n",
    "a[1 : 3]"
   ]
  },
  {
   "cell_type": "code",
   "execution_count": 27,
   "id": "1063d9fb",
   "metadata": {},
   "outputs": [
    {
     "data": {
      "text/plain": [
       "['Abhishek@gmail.com', 'Abhijeet@yahoo.com']"
      ]
     },
     "execution_count": 27,
     "metadata": {},
     "output_type": "execute_result"
    }
   ],
   "source": [
    "a = ['Sriram@gmail.com' , 'Abhijeet@yahoo.com' , 'Abhishek@gmail.com' , 'Chandan@hotmail.com' ]\n",
    "\n",
    "a[-2:-4:-1]"
   ]
  },
  {
   "cell_type": "code",
   "execution_count": 28,
   "id": "7baa8848",
   "metadata": {},
   "outputs": [
    {
     "data": {
      "text/plain": [
       "['Sriram@gmail.com', 'Abhishek@gmail.com']"
      ]
     },
     "execution_count": 28,
     "metadata": {},
     "output_type": "execute_result"
    }
   ],
   "source": [
    "a = ['Sriram@gmail.com' , 'Abhijeet@yahoo.com' , 'Abhishek@gmail.com' , 'Chandan@hotmail.com' ]\n",
    "\n",
    "a[0:4:2]"
   ]
  },
  {
   "cell_type": "code",
   "execution_count": 29,
   "id": "73824d61",
   "metadata": {},
   "outputs": [
    {
     "data": {
      "text/plain": [
       "['Chandan@hotmail.com', 'Abhijeet@yahoo.com']"
      ]
     },
     "execution_count": 29,
     "metadata": {},
     "output_type": "execute_result"
    }
   ],
   "source": [
    "a = ['Sriram@gmail.com' , 'Abhijeet@yahoo.com' , 'Abhishek@gmail.com' , 'Chandan@hotmail.com' ]\n",
    "\n",
    "a[-1:-4:-2]"
   ]
  },
  {
   "cell_type": "markdown",
   "id": "095806ab",
   "metadata": {},
   "source": [
    "# It allows duplication"
   ]
  },
  {
   "cell_type": "code",
   "execution_count": 35,
   "id": "2d89e13d",
   "metadata": {},
   "outputs": [
    {
     "data": {
      "text/plain": [
       "['Sriram@gmail.com',\n",
       " 'Abhijeet@yahoo.com',\n",
       " 'Abhishek@gmail.com',\n",
       " 'Chandan@hotmail.com',\n",
       " 'Sriram@gmail.com',\n",
       " 'Sriram@gmail.com',\n",
       " 'Sriram@gmail.com',\n",
       " 'Sriram@gmail.com',\n",
       " 'Sriram@gmail.com',\n",
       " 'Sriram@gmail.com',\n",
       " 'Sriram@gmail.com',\n",
       " 'Sriram@gmail.com',\n",
       " 'Sriram@gmail.com',\n",
       " 'Sriram@gmail.com']"
      ]
     },
     "execution_count": 35,
     "metadata": {},
     "output_type": "execute_result"
    }
   ],
   "source": [
    "a = ['Sriram@gmail.com' , 'Abhijeet@yahoo.com' , 'Abhishek@gmail.com' , 'Chandan@hotmail.com'  ,\n",
    "    'Sriram@gmail.com' ,'Sriram@gmail.com' ,'Sriram@gmail.com' ,'Sriram@gmail.com' ,'Sriram@gmail.com' ,\n",
    "    'Sriram@gmail.com' ,'Sriram@gmail.com' ,'Sriram@gmail.com' ,'Sriram@gmail.com' ,'Sriram@gmail.com' ,]\n",
    "\n",
    "a"
   ]
  },
  {
   "cell_type": "markdown",
   "id": "2ce987ab",
   "metadata": {},
   "source": [
    "# It is hetrogenous"
   ]
  },
  {
   "cell_type": "code",
   "execution_count": 36,
   "id": "07b8afc4",
   "metadata": {},
   "outputs": [
    {
     "data": {
      "text/plain": [
       "['Sriram@gmail.com', 12, 34.34, {'a': 45}, [34, 45, 56]]"
      ]
     },
     "execution_count": 36,
     "metadata": {},
     "output_type": "execute_result"
    }
   ],
   "source": [
    "a = ['Sriram@gmail.com' , 12,34.34,{'a':45} ,[34,45,56]]\n",
    "\n",
    "a"
   ]
  },
  {
   "cell_type": "code",
   "execution_count": 37,
   "id": "8999a641",
   "metadata": {},
   "outputs": [
    {
     "data": {
      "text/plain": [
       "[23, 54, 56, 34, 45, 56]"
      ]
     },
     "execution_count": 37,
     "metadata": {},
     "output_type": "execute_result"
    }
   ],
   "source": [
    "# Concatination\n",
    "# op - +\n",
    "# operands --> Both should be list\n",
    "\n",
    "a = [23,54,56]\n",
    "b = [34,45,56]\n",
    "\n",
    "a + b"
   ]
  },
  {
   "cell_type": "code",
   "execution_count": 38,
   "id": "fbff9cb5",
   "metadata": {},
   "outputs": [
    {
     "data": {
      "text/plain": [
       "[1, 2, 3, 4, 5, 6]"
      ]
     },
     "execution_count": 38,
     "metadata": {},
     "output_type": "execute_result"
    }
   ],
   "source": [
    "a = [1,2,3]\n",
    "b = [4,5,6]\n",
    "\n",
    "a + b"
   ]
  },
  {
   "cell_type": "code",
   "execution_count": 39,
   "id": "aa6f7e8e",
   "metadata": {},
   "outputs": [
    {
     "ename": "TypeError",
     "evalue": "can only concatenate list (not \"int\") to list",
     "output_type": "error",
     "traceback": [
      "\u001b[1;31m---------------------------------------------------------------------------\u001b[0m",
      "\u001b[1;31mTypeError\u001b[0m                                 Traceback (most recent call last)",
      "Cell \u001b[1;32mIn[39], line 4\u001b[0m\n\u001b[0;32m      1\u001b[0m a \u001b[38;5;241m=\u001b[39m [\u001b[38;5;241m1\u001b[39m,\u001b[38;5;241m2\u001b[39m,\u001b[38;5;241m3\u001b[39m]\n\u001b[0;32m      2\u001b[0m b \u001b[38;5;241m=\u001b[39m \u001b[38;5;241m45\u001b[39m\n\u001b[1;32m----> 4\u001b[0m a \u001b[38;5;241m+\u001b[39m b\n",
      "\u001b[1;31mTypeError\u001b[0m: can only concatenate list (not \"int\") to list"
     ]
    }
   ],
   "source": [
    "a = [1,2,3]\n",
    "b = 45\n",
    "\n",
    "a + b"
   ]
  },
  {
   "cell_type": "code",
   "execution_count": 40,
   "id": "7070f578",
   "metadata": {},
   "outputs": [
    {
     "data": {
      "text/plain": [
       "[1, 2, 3, 1, 2, 3, 1, 2, 3]"
      ]
     },
     "execution_count": 40,
     "metadata": {},
     "output_type": "execute_result"
    }
   ],
   "source": [
    "# repetation\n",
    "# op - *\n",
    "# operands --> one should be list and another an int\n",
    "\n",
    "a = [1,2,3]\n",
    "b = 3\n",
    "\n",
    "a * b"
   ]
  },
  {
   "cell_type": "code",
   "execution_count": 45,
   "id": "670deab0",
   "metadata": {},
   "outputs": [
    {
     "data": {
      "text/plain": [
       "[1.34, 2, 3, 'hello', 1.34, 2, 3, 'hello']"
      ]
     },
     "execution_count": 45,
     "metadata": {},
     "output_type": "execute_result"
    }
   ],
   "source": [
    "a = [1.34,2,3 , 'hello']\n",
    "b = 2\n",
    "\n",
    "a * b"
   ]
  },
  {
   "cell_type": "code",
   "execution_count": 46,
   "id": "75efba21",
   "metadata": {},
   "outputs": [
    {
     "data": {
      "text/plain": [
       "'abcabc'"
      ]
     },
     "execution_count": 46,
     "metadata": {},
     "output_type": "execute_result"
    }
   ],
   "source": [
    "a = 'abc'\n",
    "b = 2\n",
    "\n",
    "a * b"
   ]
  },
  {
   "cell_type": "code",
   "execution_count": 47,
   "id": "41634afc",
   "metadata": {},
   "outputs": [
    {
     "data": {
      "text/plain": [
       "['abc', 'xyz', 'abc', 'xyz']"
      ]
     },
     "execution_count": 47,
     "metadata": {},
     "output_type": "execute_result"
    }
   ],
   "source": [
    "a = ['abc' , 'xyz']\n",
    "b = 2\n",
    "\n",
    "a * b"
   ]
  },
  {
   "cell_type": "code",
   "execution_count": 48,
   "id": "6897c184",
   "metadata": {},
   "outputs": [
    {
     "data": {
      "text/plain": [
       "('abc', 'xyz', 'abc', 'xyz')"
      ]
     },
     "execution_count": 48,
     "metadata": {},
     "output_type": "execute_result"
    }
   ],
   "source": [
    "a = ('abc' , 'xyz')\n",
    "b = 2\n",
    "\n",
    "a * b"
   ]
  },
  {
   "cell_type": "code",
   "execution_count": 51,
   "id": "dacb3969",
   "metadata": {},
   "outputs": [
    {
     "name": "stdout",
     "output_type": "stream",
     "text": [
      "2654042293952\n",
      "2654042244544\n",
      "False\n",
      "True\n"
     ]
    }
   ],
   "source": [
    "# identity\n",
    "# op - is , is not\n",
    "\n",
    "\n",
    "a = [1,2,3]\n",
    "b = [1,2,3]\n",
    "\n",
    "print(id(a))\n",
    "print(id(b))\n",
    "\n",
    "print(a is b)\n",
    "\n",
    "print(a == b)"
   ]
  },
  {
   "cell_type": "code",
   "execution_count": 53,
   "id": "8ba24e95",
   "metadata": {},
   "outputs": [
    {
     "data": {
      "text/plain": [
       "True"
      ]
     },
     "execution_count": 53,
     "metadata": {},
     "output_type": "execute_result"
    }
   ],
   "source": [
    "# membership\n",
    "# op - in , not in\n",
    "\n",
    "\n",
    "lst = ['Sriram@gmail.com' , 'Abhijeet@yahoo.com' , 'Abhishek@gmail.com' , 'Chandan@hotmail.com' , 'akanksha@gmail.com' ,\n",
    "       'ashish@yahoo.com' ,'Dharshan@outlook.com']\n",
    "\n",
    "\n",
    "'ashish@yahoo.com' in lst"
   ]
  },
  {
   "cell_type": "code",
   "execution_count": 57,
   "id": "be02ceff",
   "metadata": {},
   "outputs": [
    {
     "data": {
      "text/plain": [
       "True"
      ]
     },
     "execution_count": 57,
     "metadata": {},
     "output_type": "execute_result"
    }
   ],
   "source": [
    "# membership\n",
    "# op - in , not in\n",
    "\n",
    "\n",
    "lst = ['Sriram@gmail.com' , 'Abhijeet@yahoo.com' , 'Abhishek@gmail.com' , 'Chandan@yahoo.com' , 'akanksha@gmail.com' ,\n",
    "       'ashish@yahoo.com' ,'Dharshan@yahoo.com' , 'yahoo.com@xyz']\n",
    "\n",
    "\n",
    "'yahoo.com' in lst"
   ]
  },
  {
   "cell_type": "markdown",
   "id": "eae496ae",
   "metadata": {},
   "source": [
    "# Methods of list"
   ]
  },
  {
   "cell_type": "code",
   "execution_count": 64,
   "id": "0e533299",
   "metadata": {},
   "outputs": [
    {
     "name": "stdout",
     "output_type": "stream",
     "text": [
      "['__add__', '__class__', '__class_getitem__', '__contains__', '__delattr__', '__delitem__', '__dir__', '__doc__', '__eq__', '__format__', '__ge__', '__getattribute__', '__getitem__', '__getstate__', '__gt__', '__hash__', '__iadd__', '__imul__', '__init__', '__init_subclass__', '__iter__', '__le__', '__len__', '__lt__', '__mul__', '__ne__', '__new__', '__reduce__', '__reduce_ex__', '__repr__', '__reversed__', '__rmul__', '__setattr__', '__setitem__', '__sizeof__', '__str__', '__subclasshook__', 'append', 'clear', 'copy', 'count', 'extend', 'index', 'insert', 'pop', 'remove', 'reverse', 'sort']\n"
     ]
    }
   ],
   "source": [
    "print(dir(list))"
   ]
  },
  {
   "cell_type": "markdown",
   "id": "834b7ada",
   "metadata": {},
   "source": [
    "# Method to add the elements inside a list\n",
    "\n",
    "- append\n",
    "- extend\n",
    "- insert"
   ]
  },
  {
   "cell_type": "code",
   "execution_count": 65,
   "id": "c28b2189",
   "metadata": {},
   "outputs": [
    {
     "name": "stdout",
     "output_type": "stream",
     "text": [
      "jython\n"
     ]
    }
   ],
   "source": [
    "a = 'python'\n",
    "\n",
    "print(a.replace('p' , 'j'))"
   ]
  },
  {
   "cell_type": "code",
   "execution_count": 66,
   "id": "4714cc43",
   "metadata": {},
   "outputs": [
    {
     "data": {
      "text/plain": [
       "'python'"
      ]
     },
     "execution_count": 66,
     "metadata": {},
     "output_type": "execute_result"
    }
   ],
   "source": [
    "a"
   ]
  },
  {
   "cell_type": "markdown",
   "id": "0b5500f8",
   "metadata": {},
   "source": [
    "# Append\n",
    "\n",
    "- Insert 1 element at a time inside a list\n",
    "- You can insert only at the end"
   ]
  },
  {
   "cell_type": "code",
   "execution_count": 67,
   "id": "0a4be0b9",
   "metadata": {},
   "outputs": [
    {
     "name": "stdout",
     "output_type": "stream",
     "text": [
      "None\n"
     ]
    }
   ],
   "source": [
    "a = [1,2,3,4]\n",
    "\n",
    "print(a.append(100))"
   ]
  },
  {
   "cell_type": "code",
   "execution_count": 68,
   "id": "38ef848b",
   "metadata": {},
   "outputs": [
    {
     "data": {
      "text/plain": [
       "[1, 2, 3, 4, 100]"
      ]
     },
     "execution_count": 68,
     "metadata": {},
     "output_type": "execute_result"
    }
   ],
   "source": [
    "a"
   ]
  },
  {
   "cell_type": "code",
   "execution_count": 69,
   "id": "7eed33f2",
   "metadata": {},
   "outputs": [
    {
     "data": {
      "text/plain": [
       "[1, 2, 3, 4, 100]"
      ]
     },
     "execution_count": 69,
     "metadata": {},
     "output_type": "execute_result"
    }
   ],
   "source": [
    "a = [1,2,3,4]\n",
    "\n",
    "a.append(100)\n",
    "\n",
    "a"
   ]
  },
  {
   "cell_type": "code",
   "execution_count": 70,
   "id": "9aee56cc",
   "metadata": {},
   "outputs": [
    {
     "ename": "TypeError",
     "evalue": "list.append() takes exactly one argument (2 given)",
     "output_type": "error",
     "traceback": [
      "\u001b[1;31m---------------------------------------------------------------------------\u001b[0m",
      "\u001b[1;31mTypeError\u001b[0m                                 Traceback (most recent call last)",
      "Cell \u001b[1;32mIn[70], line 3\u001b[0m\n\u001b[0;32m      1\u001b[0m a \u001b[38;5;241m=\u001b[39m [\u001b[38;5;241m1\u001b[39m,\u001b[38;5;241m2\u001b[39m,\u001b[38;5;241m3\u001b[39m,\u001b[38;5;241m4\u001b[39m]\n\u001b[1;32m----> 3\u001b[0m a\u001b[38;5;241m.\u001b[39mappend(\u001b[38;5;241m100\u001b[39m , \u001b[38;5;241m200\u001b[39m)\n\u001b[0;32m      5\u001b[0m a\n",
      "\u001b[1;31mTypeError\u001b[0m: list.append() takes exactly one argument (2 given)"
     ]
    }
   ],
   "source": [
    "a = [1,2,3,4]\n",
    "\n",
    "a.append(100 , 200)\n",
    "\n",
    "a"
   ]
  },
  {
   "cell_type": "code",
   "execution_count": 71,
   "id": "6c42e006",
   "metadata": {},
   "outputs": [
    {
     "data": {
      "text/plain": [
       "[1, 2, 3, 4, [100, 200]]"
      ]
     },
     "execution_count": 71,
     "metadata": {},
     "output_type": "execute_result"
    }
   ],
   "source": [
    "a = [1,2,3,4]\n",
    "\n",
    "a.append([100 , 200])\n",
    "\n",
    "a"
   ]
  },
  {
   "cell_type": "markdown",
   "id": "90b68a64",
   "metadata": {},
   "source": [
    "# Extend\n",
    "\n",
    "- Can insert multiple elements inside a list\n",
    "- Can insert only at the end  "
   ]
  },
  {
   "cell_type": "code",
   "execution_count": 72,
   "id": "f2dbc561",
   "metadata": {},
   "outputs": [
    {
     "data": {
      "text/plain": [
       "[1, 2, 3, 4, [100, 200]]"
      ]
     },
     "execution_count": 72,
     "metadata": {},
     "output_type": "execute_result"
    }
   ],
   "source": [
    "a = [1,2,3,4]\n",
    "\n",
    "a.append([100 , 200])\n",
    "\n",
    "a"
   ]
  },
  {
   "cell_type": "code",
   "execution_count": 74,
   "id": "8902e181",
   "metadata": {},
   "outputs": [
    {
     "data": {
      "text/plain": [
       "[1, 2, 3, 4, 100, 200]"
      ]
     },
     "execution_count": 74,
     "metadata": {},
     "output_type": "execute_result"
    }
   ],
   "source": [
    "a = [1,2,3,4]\n",
    "\n",
    "a.extend([100 , 200])\n",
    "\n",
    "a"
   ]
  },
  {
   "cell_type": "markdown",
   "id": "6af9ce6b",
   "metadata": {},
   "source": [
    "# Insert"
   ]
  },
  {
   "cell_type": "code",
   "execution_count": 77,
   "id": "2e936198",
   "metadata": {},
   "outputs": [
    {
     "data": {
      "text/plain": [
       "['Sriram@gmail.com',\n",
       " 'Abhijeet@yahoo.com',\n",
       " 'xyz@gmail.com',\n",
       " 'Abhishek@gmail.com',\n",
       " 'Chandan@hotmail.com']"
      ]
     },
     "execution_count": 77,
     "metadata": {},
     "output_type": "execute_result"
    }
   ],
   "source": [
    "\n",
    "lst = ['Sriram@gmail.com' , 'Abhijeet@yahoo.com' , 'Abhishek@gmail.com' , 'Chandan@hotmail.com' ]\n",
    "\n",
    "\n",
    "new_mail = 'xyz@gmail.com'\n",
    "\n",
    "lst.insert(2 , new_mail)\n",
    "\n",
    "lst"
   ]
  },
  {
   "cell_type": "code",
   "execution_count": 79,
   "id": "767f4ec5",
   "metadata": {},
   "outputs": [
    {
     "data": {
      "text/plain": [
       "['xyz@gmail.com',\n",
       " 'Sriram@gmail.com',\n",
       " 'Abhijeet@yahoo.com',\n",
       " 'Abhishek@gmail.com',\n",
       " 'Chandan@hotmail.com']"
      ]
     },
     "execution_count": 79,
     "metadata": {},
     "output_type": "execute_result"
    }
   ],
   "source": [
    "\n",
    "lst = ['Sriram@gmail.com' , 'Abhijeet@yahoo.com' , 'Abhishek@gmail.com' , 'Chandan@hotmail.com' ]\n",
    "\n",
    "\n",
    "new_mail = 'xyz@gmail.com'\n",
    "\n",
    "lst.insert(0 , new_mail)\n",
    "\n",
    "lst"
   ]
  },
  {
   "cell_type": "code",
   "execution_count": 86,
   "id": "812bfacb",
   "metadata": {},
   "outputs": [
    {
     "name": "stdout",
     "output_type": "stream",
     "text": [
      "['Sriram@gmail.com', 'Abhijeet@yahoo.com', 'Abhishek@gmail.com', 'xyz@gmail.com', 'abc@gmail.com']\n"
     ]
    }
   ],
   "source": [
    "\n",
    "lst = ['Sriram@gmail.com' , 'Abhijeet@yahoo.com' , 'Abhishek@gmail.com'  ]\n",
    "\n",
    "\n",
    "new_mail = ['xyz@gmail.com' , 'abc@gmail.com']\n",
    "\n",
    "lst.extend(new_mail)\n",
    "\n",
    "print(lst)"
   ]
  },
  {
   "cell_type": "code",
   "execution_count": 88,
   "id": "485558f9",
   "metadata": {},
   "outputs": [
    {
     "name": "stdout",
     "output_type": "stream",
     "text": [
      "['Sriram@gmail.com', 'Abhijeet@yahoo.com', 'Abhishek@gmail.com', 'xyz@gmail.com', 'abc@gmail.com']\n",
      "['Sriram@gmail.com', 'Abhijeet@yahoo.com', 'Abhishek@gmail.com']\n",
      "['xyz@gmail.com', 'abc@gmail.com']\n"
     ]
    }
   ],
   "source": [
    "# Concatination\n",
    "\n",
    "lst = ['Sriram@gmail.com' , 'Abhijeet@yahoo.com' , 'Abhishek@gmail.com'  ]\n",
    "\n",
    "\n",
    "new_mail = ['xyz@gmail.com' , 'abc@gmail.com']\n",
    "\n",
    "print(lst+new_mail)\n",
    "\n",
    "print(lst)\n",
    "print(new_mail)"
   ]
  },
  {
   "cell_type": "markdown",
   "id": "cbe45ee6",
   "metadata": {},
   "source": [
    "# Nested list"
   ]
  },
  {
   "cell_type": "code",
   "execution_count": null,
   "id": "2382195a",
   "metadata": {},
   "outputs": [],
   "source": [
    "a = [1,2,3] # list\n",
    "\n",
    "a = [1,2,3,[4,5,6]] # nested list"
   ]
  },
  {
   "cell_type": "code",
   "execution_count": 89,
   "id": "8890890e",
   "metadata": {},
   "outputs": [
    {
     "data": {
      "text/plain": [
       "3"
      ]
     },
     "execution_count": 89,
     "metadata": {},
     "output_type": "execute_result"
    }
   ],
   "source": [
    "a = [1,2,3]\n",
    "\n",
    "a[-1]"
   ]
  },
  {
   "cell_type": "code",
   "execution_count": 90,
   "id": "5b0c9fb4",
   "metadata": {},
   "outputs": [
    {
     "data": {
      "text/plain": [
       "[4, 5, 6]"
      ]
     },
     "execution_count": 90,
     "metadata": {},
     "output_type": "execute_result"
    }
   ],
   "source": [
    "a = [1,2,3,[4,5,6]]\n",
    "\n",
    "a[-1]"
   ]
  },
  {
   "cell_type": "code",
   "execution_count": 91,
   "id": "c9ed0eee",
   "metadata": {},
   "outputs": [
    {
     "data": {
      "text/plain": [
       "4"
      ]
     },
     "execution_count": 91,
     "metadata": {},
     "output_type": "execute_result"
    }
   ],
   "source": [
    "len(a)"
   ]
  },
  {
   "cell_type": "code",
   "execution_count": 94,
   "id": "879085cf",
   "metadata": {},
   "outputs": [
    {
     "data": {
      "text/plain": [
       "5"
      ]
     },
     "execution_count": 94,
     "metadata": {},
     "output_type": "execute_result"
    }
   ],
   "source": [
    "a = [1,2,3,[4,5,6]]\n",
    "\n",
    "a[3][1]"
   ]
  },
  {
   "cell_type": "code",
   "execution_count": 96,
   "id": "af5f7917",
   "metadata": {},
   "outputs": [
    {
     "name": "stdout",
     "output_type": "stream",
     "text": [
      "ram\n",
      "ram\n"
     ]
    }
   ],
   "source": [
    "a = ['name' , 'mobile' , 'address' , 'quantity' , ['color' , 'ram' , 'model']]\n",
    "\n",
    "print(a[4][1])\n",
    "\n",
    "print(a[-1][-2])"
   ]
  },
  {
   "cell_type": "code",
   "execution_count": 99,
   "id": "72f78205",
   "metadata": {},
   "outputs": [
    {
     "data": {
      "text/plain": [
       "'not given'"
      ]
     },
     "execution_count": 99,
     "metadata": {},
     "output_type": "execute_result"
    }
   ],
   "source": [
    "a = ['name' , 'mobile' , ['was given' , 'not given'] , 'address' , 'quantity' , ['color' , 'ram' , 'model']]\n",
    "\n",
    "a[2][-1]"
   ]
  },
  {
   "cell_type": "code",
   "execution_count": 100,
   "id": "d8c57ebd",
   "metadata": {},
   "outputs": [
    {
     "data": {
      "text/plain": [
       "['address', 'quantity']"
      ]
     },
     "execution_count": 100,
     "metadata": {},
     "output_type": "execute_result"
    }
   ],
   "source": [
    "a = ['name' , 'mobile' , ['was given' , 'not given'] , 'address' , 'quantity' , ['color' , 'ram' , 'model']]\n",
    "\n",
    "a[3:5]"
   ]
  },
  {
   "cell_type": "code",
   "execution_count": 102,
   "id": "98cfde6e",
   "metadata": {},
   "outputs": [
    {
     "data": {
      "text/plain": [
       "['ram', 'model']"
      ]
     },
     "execution_count": 102,
     "metadata": {},
     "output_type": "execute_result"
    }
   ],
   "source": [
    "a = ['name' , 'mobile' , ['was given' , 'not given'] , 'address' , 'quantity' , ['color' , 'ram' , 'model']]\n",
    "\n",
    "a[5][1:]"
   ]
  },
  {
   "cell_type": "code",
   "execution_count": 103,
   "id": "e58f8bb9",
   "metadata": {},
   "outputs": [
    {
     "data": {
      "text/plain": [
       "['model', 'color']"
      ]
     },
     "execution_count": 103,
     "metadata": {},
     "output_type": "execute_result"
    }
   ],
   "source": [
    "# model , color\n",
    "\n",
    "a = ['name' , 'mobile' , ['was given' , 'not given'] , 'address' , 'quantity' , ['color' , 'ram' , 'model']]\n",
    "\n",
    "a[5][-1::-2]"
   ]
  },
  {
   "cell_type": "code",
   "execution_count": 115,
   "id": "5c4e2cd6",
   "metadata": {},
   "outputs": [
    {
     "data": {
      "text/plain": [
       "20"
      ]
     },
     "execution_count": 115,
     "metadata": {},
     "output_type": "execute_result"
    }
   ],
   "source": [
    "a =   [[ 0,  1,  2,  3,  4,  5],\n",
    "       [ 6,  7,  8,  9, 10, 11],\n",
    "       [12, 13, 14, 15, 16, 17],\n",
    "       [18, 19, 20, 21, 22, 23],\n",
    "       [24, 25, 26, 27, 28, 29],\n",
    "       [30, 31, 32, 33, 34, 35]]\n",
    "\n",
    "a[3][2]"
   ]
  },
  {
   "cell_type": "code",
   "execution_count": 116,
   "id": "3a331dac",
   "metadata": {},
   "outputs": [
    {
     "data": {
      "text/plain": [
       "28"
      ]
     },
     "execution_count": 116,
     "metadata": {},
     "output_type": "execute_result"
    }
   ],
   "source": [
    "a =   [[ 0,  1,  2,  3,  4,  5],\n",
    "       [ 6,  7,  8,  9, 10, 11],\n",
    "       [12, 13, 14, 15, 16, 17],\n",
    "       [18, 19, 20, 21, 22, 23],\n",
    "       [24, 25, 26, 27, 28, 29],\n",
    "       [30, 31, 32, 33, 34, 35]]\n",
    "\n",
    "a[-2][4]"
   ]
  },
  {
   "cell_type": "code",
   "execution_count": 118,
   "id": "6d3cfb6d",
   "metadata": {},
   "outputs": [
    {
     "data": {
      "text/plain": [
       "[19, 20, 21]"
      ]
     },
     "execution_count": 118,
     "metadata": {},
     "output_type": "execute_result"
    }
   ],
   "source": [
    "# 19, 20, 21\n",
    "\n",
    "a =   [[ 0,  1,  2,  3,  4,  5],\n",
    "       [ 6,  7,  8,  9, 10, 11],\n",
    "       [12, 13, 14, 15, 16, 17],\n",
    "       [18, 19, 20, 21, 22, 23],\n",
    "       [24, 25, 26, 27, 28, 29],\n",
    "       [30, 31, 32, 33, 34, 35]]\n",
    "\n",
    "a[-3][1:4]"
   ]
  },
  {
   "cell_type": "code",
   "execution_count": 121,
   "id": "d1d6cceb",
   "metadata": {},
   "outputs": [
    {
     "data": {
      "text/plain": [
       "[21, 20, 19]"
      ]
     },
     "execution_count": 121,
     "metadata": {},
     "output_type": "execute_result"
    }
   ],
   "source": [
    "# 21 , 20 , 19\n",
    "\n",
    "\n",
    "a =   [[ 0,  1,  2,  3,  4,  5],\n",
    "       [ 6,  7,  8,  9, 10, 11],\n",
    "       [12, 13, 14, 15, 16, 17],\n",
    "       [18, 19, 20, 21, 22, 23],\n",
    "       [24, 25, 26, 27, 28, 29],\n",
    "       [30, 31, 32, 33, 34, 35]]\n",
    "\n",
    "a[-3][-3:-6:-1]"
   ]
  },
  {
   "cell_type": "code",
   "execution_count": 125,
   "id": "d391f370",
   "metadata": {},
   "outputs": [
    {
     "name": "stdout",
     "output_type": "stream",
     "text": [
      "nohtyp\n",
      "on\n"
     ]
    }
   ],
   "source": [
    "\n",
    "a =   [[ 0,  1,  2,  3,  4,  5],\n",
    "       [ 6,  7,  8,  9, 10, 11],\n",
    "       [12, 13, 14, 15, 16, 17],\n",
    "       [18, 19, 'python', 21, 22, 23],\n",
    "       [24, 25, 26, 27, 28, 29],\n",
    "       [30, 31, 32, 33, 34, 35]]\n",
    "\n",
    "print(a[3][2][::-1])\n",
    "\n",
    "print(a[3][2][4:])"
   ]
  },
  {
   "cell_type": "code",
   "execution_count": 130,
   "id": "af764a10",
   "metadata": {},
   "outputs": [
    {
     "name": "stdout",
     "output_type": "stream",
     "text": [
      "[18, 20, 22, 24]\n",
      "[24, 22, 20, 18]\n"
     ]
    }
   ],
   "source": [
    "b =   [[ 0,  1,  2,  3,  4,  5,  6,  7,  8],\n",
    "       [ 9, 10, 11, 12, 13, 14, 15, 16, 17],\n",
    "       [18, 19, 20, 21, 22, 23, 24, 25, 26],\n",
    "       [27, 28, 29, 30, 31, 32, 33, 34, 35]]\n",
    "\n",
    "# 18 , 20 , 22 , 24\n",
    "print(b[2][0:7:2])\n",
    "\n",
    "# 24 , 22 , 20 , 18\n",
    "\n",
    "print(b[-2][-3::-2])"
   ]
  },
  {
   "cell_type": "code",
   "execution_count": 133,
   "id": "72d8163f",
   "metadata": {},
   "outputs": [
    {
     "name": "stdout",
     "output_type": "stream",
     "text": [
      "[19, 20, 21, 22]\n"
     ]
    }
   ],
   "source": [
    "d =   [[[ 0,  1,  2,  3,  4,  5],\n",
    "        [ 6,  7,  8,  9, 10, 11]],\n",
    "\n",
    "       [[12, 13, 14, 15, 16, 17],\n",
    "        [18, 19, 20, 21, 22, 23]],\n",
    "\n",
    "       [[24, 25, 26, 27, 28, 29],\n",
    "        [30, 31, 32, 33, 34, 35]]]\n",
    "\n",
    "# 19, 20, 21, 22\n",
    "\n",
    "print(d[1][1][1:5])"
   ]
  },
  {
   "cell_type": "code",
   "execution_count": 135,
   "id": "8ba59a33",
   "metadata": {},
   "outputs": [
    {
     "data": {
      "text/plain": [
       "[[6, 7, 8, 9, 10, 11], [18, 19, 20, 21, 22, 23], [30, 31, 32, 33, 34, 35]]"
      ]
     },
     "execution_count": 135,
     "metadata": {},
     "output_type": "execute_result"
    }
   ],
   "source": [
    "\n",
    "a =   [[ 0,  1,  2,  3,  4,  5],\n",
    "       [ 6,  7,  8,  9, 10, 11],\n",
    "       [12, 13, 14, 15, 16, 17],\n",
    "       [18, 19, 20, 21, 22, 23],\n",
    "       [24, 25, 26, 27, 28, 29],\n",
    "       [30, 31, 32, 33, 34, 35]]\n",
    "a[1::2]"
   ]
  },
  {
   "cell_type": "code",
   "execution_count": null,
   "id": "01c68297",
   "metadata": {},
   "outputs": [],
   "source": []
  }
 ],
 "metadata": {
  "kernelspec": {
   "display_name": "Python 3 (ipykernel)",
   "language": "python",
   "name": "python3"
  },
  "language_info": {
   "codemirror_mode": {
    "name": "ipython",
    "version": 3
   },
   "file_extension": ".py",
   "mimetype": "text/x-python",
   "name": "python",
   "nbconvert_exporter": "python",
   "pygments_lexer": "ipython3",
   "version": "3.11.4"
  }
 },
 "nbformat": 4,
 "nbformat_minor": 5
}
