{
 "cells": [
  {
   "cell_type": "markdown",
   "id": "2b1327fe",
   "metadata": {},
   "source": [
    "# Methods of list"
   ]
  },
  {
   "cell_type": "markdown",
   "id": "021a817f",
   "metadata": {},
   "source": [
    "# Method to remove the elements from the list\n",
    "\n",
    "- pop\n",
    "- remove"
   ]
  },
  {
   "cell_type": "code",
   "execution_count": 7,
   "id": "3f219b62",
   "metadata": {},
   "outputs": [
    {
     "name": "stdout",
     "output_type": "stream",
     "text": [
      "['__add__', '__class__', '__class_getitem__', '__contains__', '__delattr__', '__delitem__', '__dir__', '__doc__', '__eq__', '__format__', '__ge__', '__getattribute__', '__getitem__', '__getstate__', '__gt__', '__hash__', '__iadd__', '__imul__', '__init__', '__init_subclass__', '__iter__', '__le__', '__len__', '__lt__', '__mul__', '__ne__', '__new__', '__reduce__', '__reduce_ex__', '__repr__', '__reversed__', '__rmul__', '__setattr__', '__setitem__', '__sizeof__', '__str__', '__subclasshook__', 'append', 'clear', 'copy', 'count', 'extend', 'index', 'insert', 'pop', 'remove', 'reverse', 'sort']\n"
     ]
    }
   ],
   "source": [
    "print(dir(list))"
   ]
  },
  {
   "cell_type": "markdown",
   "id": "bf943c2c",
   "metadata": {},
   "source": [
    "# pop\n",
    "\n",
    "- removes the elements by its index value\n",
    "- By default it'll rmove the last element from the list\n",
    "- It return you the removed element as well"
   ]
  },
  {
   "cell_type": "code",
   "execution_count": 9,
   "id": "466f3a72",
   "metadata": {},
   "outputs": [
    {
     "data": {
      "text/plain": [
       "'akanksha@gmail.com'"
      ]
     },
     "execution_count": 9,
     "metadata": {},
     "output_type": "execute_result"
    }
   ],
   "source": [
    "\n",
    "lst = ['Sriram@gmail.com' , 'Abhijeet@yahoo.com' , 'Abhishek@gmail.com' , 'Chandan@hotmail.com' , 'akanksha@gmail.com']\n",
    "\n",
    "\n",
    "lst.pop()"
   ]
  },
  {
   "cell_type": "code",
   "execution_count": 10,
   "id": "5dd1ec65",
   "metadata": {},
   "outputs": [
    {
     "data": {
      "text/plain": [
       "['Sriram@gmail.com',\n",
       " 'Abhijeet@yahoo.com',\n",
       " 'Abhishek@gmail.com',\n",
       " 'Chandan@hotmail.com']"
      ]
     },
     "execution_count": 10,
     "metadata": {},
     "output_type": "execute_result"
    }
   ],
   "source": [
    "lst"
   ]
  },
  {
   "cell_type": "code",
   "execution_count": 18,
   "id": "c3c92be9",
   "metadata": {},
   "outputs": [],
   "source": [
    "\n",
    "lst = ['Sriram@gmail.com' , 'Abhijeet@yahoo.com' , 'Abhishek@gmail.com' , 'Chandan@hotmail.com' , 'akanksha@gmail.com']\n",
    "\n",
    "\n",
    "a = lst.pop(2)"
   ]
  },
  {
   "cell_type": "code",
   "execution_count": 17,
   "id": "ed12b48c",
   "metadata": {},
   "outputs": [
    {
     "data": {
      "text/plain": [
       "['Sriram@gmail.com',\n",
       " 'Abhijeet@yahoo.com',\n",
       " 'Chandan@hotmail.com',\n",
       " 'akanksha@gmail.com']"
      ]
     },
     "execution_count": 17,
     "metadata": {},
     "output_type": "execute_result"
    }
   ],
   "source": [
    "lst"
   ]
  },
  {
   "cell_type": "code",
   "execution_count": 19,
   "id": "d5949e77",
   "metadata": {},
   "outputs": [
    {
     "data": {
      "text/plain": [
       "'Abhishek@gmail.com'"
      ]
     },
     "execution_count": 19,
     "metadata": {},
     "output_type": "execute_result"
    }
   ],
   "source": [
    "a"
   ]
  },
  {
   "cell_type": "markdown",
   "id": "e2509784",
   "metadata": {},
   "source": [
    "# remove\n",
    "\n",
    "- It'll remove the element according to the value"
   ]
  },
  {
   "cell_type": "code",
   "execution_count": 20,
   "id": "ed7c62c2",
   "metadata": {},
   "outputs": [],
   "source": [
    "\n",
    "lst = ['Sriram@gmail.com' , 'Abhijeet@yahoo.com' , 'Abhishek@gmail.com' , 'Chandan@hotmail.com' , 'akanksha@gmail.com']\n",
    "\n",
    "\n",
    "lst.remove('Abhishek@gmail.com')"
   ]
  },
  {
   "cell_type": "code",
   "execution_count": 21,
   "id": "4cd07f92",
   "metadata": {},
   "outputs": [
    {
     "data": {
      "text/plain": [
       "['Sriram@gmail.com',\n",
       " 'Abhijeet@yahoo.com',\n",
       " 'Chandan@hotmail.com',\n",
       " 'akanksha@gmail.com']"
      ]
     },
     "execution_count": 21,
     "metadata": {},
     "output_type": "execute_result"
    }
   ],
   "source": [
    "lst"
   ]
  },
  {
   "cell_type": "code",
   "execution_count": 22,
   "id": "80277d83",
   "metadata": {},
   "outputs": [],
   "source": [
    "\n",
    "lst = ['Sriram@gmail.com' ,'xyz@gmail.com' \n",
    "       , 'Abhijeet@yahoo.com' , 'Abhishek@gmail.com','xyz@gmail.com'  , 'Chandan@hotmail.com',\n",
    "       'xyz@gmail.com' , 'akanksha@gmail.com']\n",
    "\n",
    "\n",
    "lst.remove('xyz@gmail.com' )"
   ]
  },
  {
   "cell_type": "code",
   "execution_count": 23,
   "id": "2c9287e5",
   "metadata": {},
   "outputs": [
    {
     "data": {
      "text/plain": [
       "['Sriram@gmail.com',\n",
       " 'Abhijeet@yahoo.com',\n",
       " 'Abhishek@gmail.com',\n",
       " 'xyz@gmail.com',\n",
       " 'Chandan@hotmail.com',\n",
       " 'xyz@gmail.com',\n",
       " 'akanksha@gmail.com']"
      ]
     },
     "execution_count": 23,
     "metadata": {},
     "output_type": "execute_result"
    }
   ],
   "source": [
    "lst"
   ]
  },
  {
   "cell_type": "code",
   "execution_count": 24,
   "id": "612f25b7",
   "metadata": {},
   "outputs": [],
   "source": [
    "\n",
    "lst = ['Sriram@gmail.com' ,'xyz@gmail.com' \n",
    "       , 'Abhijeet@yahoo.com' , 'Abhishek@gmail.com','xyz@gmail.com'  , 'Chandan@hotmail.com',\n",
    "       'xyz@gmail.com' , 'akanksha@gmail.com']\n",
    "\n",
    "while 'xyz@gmail.com' in lst:\n",
    "    lst.remove('xyz@gmail.com' )"
   ]
  },
  {
   "cell_type": "code",
   "execution_count": 25,
   "id": "9ad24adc",
   "metadata": {},
   "outputs": [
    {
     "data": {
      "text/plain": [
       "['Sriram@gmail.com',\n",
       " 'Abhijeet@yahoo.com',\n",
       " 'Abhishek@gmail.com',\n",
       " 'Chandan@hotmail.com',\n",
       " 'akanksha@gmail.com']"
      ]
     },
     "execution_count": 25,
     "metadata": {},
     "output_type": "execute_result"
    }
   ],
   "source": [
    "lst"
   ]
  },
  {
   "cell_type": "markdown",
   "id": "5acd2231",
   "metadata": {},
   "source": [
    "# count"
   ]
  },
  {
   "cell_type": "code",
   "execution_count": 26,
   "id": "de470bf5",
   "metadata": {},
   "outputs": [
    {
     "data": {
      "text/plain": [
       "3"
      ]
     },
     "execution_count": 26,
     "metadata": {},
     "output_type": "execute_result"
    }
   ],
   "source": [
    "\n",
    "lst = ['Sriram@gmail.com' ,'xyz@gmail.com' \n",
    "       , 'Abhijeet@yahoo.com' , 'Abhishek@gmail.com','xyz@gmail.com'  , 'Chandan@hotmail.com',\n",
    "       'xyz@gmail.com' , 'akanksha@gmail.com']\n",
    "\n",
    "lst.count('xyz@gmail.com')"
   ]
  },
  {
   "cell_type": "markdown",
   "id": "5928a958",
   "metadata": {},
   "source": [
    "# Del"
   ]
  },
  {
   "cell_type": "code",
   "execution_count": 29,
   "id": "7d4a70de",
   "metadata": {},
   "outputs": [],
   "source": [
    "lst = ['Sriram@gmail.com' , 'Abhijeet@yahoo.com' , 'Abhishek@gmail.com', 'Chandan@hotmail.com',\n",
    "       'xyz@gmail.com' , 'akanksha@gmail.com']\n",
    "\n",
    "\n",
    "del lst[1:4]"
   ]
  },
  {
   "cell_type": "code",
   "execution_count": 30,
   "id": "d6284459",
   "metadata": {},
   "outputs": [
    {
     "data": {
      "text/plain": [
       "['Sriram@gmail.com', 'xyz@gmail.com', 'akanksha@gmail.com']"
      ]
     },
     "execution_count": 30,
     "metadata": {},
     "output_type": "execute_result"
    }
   ],
   "source": [
    "lst"
   ]
  },
  {
   "cell_type": "code",
   "execution_count": 31,
   "id": "13afa1fd",
   "metadata": {},
   "outputs": [
    {
     "name": "stdout",
     "output_type": "stream",
     "text": [
      "['__add__', '__class__', '__class_getitem__', '__contains__', '__delattr__', '__delitem__', '__dir__', '__doc__', '__eq__', '__format__', '__ge__', '__getattribute__', '__getitem__', '__getstate__', '__gt__', '__hash__', '__iadd__', '__imul__', '__init__', '__init_subclass__', '__iter__', '__le__', '__len__', '__lt__', '__mul__', '__ne__', '__new__', '__reduce__', '__reduce_ex__', '__repr__', '__reversed__', '__rmul__', '__setattr__', '__setitem__', '__sizeof__', '__str__', '__subclasshook__', 'append', 'clear', 'copy', 'count', 'extend', 'index', 'insert', 'pop', 'remove', 'reverse', 'sort']\n"
     ]
    }
   ],
   "source": [
    "print(dir(list))"
   ]
  },
  {
   "cell_type": "markdown",
   "id": "d0c9b52e",
   "metadata": {},
   "source": [
    "# index"
   ]
  },
  {
   "cell_type": "code",
   "execution_count": 32,
   "id": "0f607eb5",
   "metadata": {},
   "outputs": [
    {
     "data": {
      "text/plain": [
       "2"
      ]
     },
     "execution_count": 32,
     "metadata": {},
     "output_type": "execute_result"
    }
   ],
   "source": [
    "lst = ['Sriram@gmail.com' , 'Abhijeet@yahoo.com' , 'Abhishek@gmail.com', 'Chandan@hotmail.com',\n",
    "       'xyz@gmail.com' , 'akanksha@gmail.com']\n",
    "\n",
    "\n",
    "lst.index('Abhishek@gmail.com')"
   ]
  },
  {
   "cell_type": "code",
   "execution_count": 33,
   "id": "e870bf8f",
   "metadata": {},
   "outputs": [
    {
     "ename": "ValueError",
     "evalue": "'abc@gmail.com' is not in list",
     "output_type": "error",
     "traceback": [
      "\u001b[1;31m---------------------------------------------------------------------------\u001b[0m",
      "\u001b[1;31mValueError\u001b[0m                                Traceback (most recent call last)",
      "Cell \u001b[1;32mIn[33], line 5\u001b[0m\n\u001b[0;32m      1\u001b[0m lst \u001b[38;5;241m=\u001b[39m [\u001b[38;5;124m'\u001b[39m\u001b[38;5;124mSriram@gmail.com\u001b[39m\u001b[38;5;124m'\u001b[39m , \u001b[38;5;124m'\u001b[39m\u001b[38;5;124mAbhijeet@yahoo.com\u001b[39m\u001b[38;5;124m'\u001b[39m , \u001b[38;5;124m'\u001b[39m\u001b[38;5;124mAbhishek@gmail.com\u001b[39m\u001b[38;5;124m'\u001b[39m, \u001b[38;5;124m'\u001b[39m\u001b[38;5;124mChandan@hotmail.com\u001b[39m\u001b[38;5;124m'\u001b[39m,\n\u001b[0;32m      2\u001b[0m        \u001b[38;5;124m'\u001b[39m\u001b[38;5;124mxyz@gmail.com\u001b[39m\u001b[38;5;124m'\u001b[39m , \u001b[38;5;124m'\u001b[39m\u001b[38;5;124makanksha@gmail.com\u001b[39m\u001b[38;5;124m'\u001b[39m]\n\u001b[1;32m----> 5\u001b[0m lst\u001b[38;5;241m.\u001b[39mindex(\u001b[38;5;124m'\u001b[39m\u001b[38;5;124mabc@gmail.com\u001b[39m\u001b[38;5;124m'\u001b[39m)\n",
      "\u001b[1;31mValueError\u001b[0m: 'abc@gmail.com' is not in list"
     ]
    }
   ],
   "source": [
    "lst = ['Sriram@gmail.com' , 'Abhijeet@yahoo.com' , 'Abhishek@gmail.com', 'Chandan@hotmail.com',\n",
    "       'xyz@gmail.com' , 'akanksha@gmail.com']\n",
    "\n",
    "\n",
    "lst.index('abc@gmail.com')"
   ]
  },
  {
   "cell_type": "markdown",
   "id": "cd5fd430",
   "metadata": {},
   "source": [
    "# reverse"
   ]
  },
  {
   "cell_type": "code",
   "execution_count": 36,
   "id": "4cf90ab6",
   "metadata": {},
   "outputs": [
    {
     "data": {
      "text/plain": [
       "[76, 56, 534, 34, 756, 6, 4, 23, 345, 23]"
      ]
     },
     "execution_count": 36,
     "metadata": {},
     "output_type": "execute_result"
    }
   ],
   "source": [
    "lst = [23,345,23,4,6,756,34,534,56,76]\n",
    "\n",
    "lst.reverse()\n",
    "\n",
    "\n",
    "lst"
   ]
  },
  {
   "cell_type": "markdown",
   "id": "febff871",
   "metadata": {},
   "source": [
    "# sort"
   ]
  },
  {
   "cell_type": "code",
   "execution_count": 39,
   "id": "cf770fe1",
   "metadata": {},
   "outputs": [
    {
     "data": {
      "text/plain": [
       "[4, 6, 23, 23, 34, 56, 76, 345, 534, 756]"
      ]
     },
     "execution_count": 39,
     "metadata": {},
     "output_type": "execute_result"
    }
   ],
   "source": [
    "lst = [23,345,23,4,6,756,34,534,56,76]\n",
    "\n",
    "lst.sort() # reverse=False --> Ascending order\n",
    "\n",
    "\n",
    "lst"
   ]
  },
  {
   "cell_type": "code",
   "execution_count": 40,
   "id": "e85c28d6",
   "metadata": {},
   "outputs": [
    {
     "data": {
      "text/plain": [
       "[756, 534, 345, 76, 56, 34, 23, 23, 6, 4]"
      ]
     },
     "execution_count": 40,
     "metadata": {},
     "output_type": "execute_result"
    }
   ],
   "source": [
    "lst = [23,345,23,4,6,756,34,534,56,76]\n",
    "\n",
    "lst.sort(reverse= True) # reverse=True --> Decending\n",
    "\n",
    "\n",
    "lst"
   ]
  },
  {
   "cell_type": "code",
   "execution_count": 48,
   "id": "9a933f48",
   "metadata": {},
   "outputs": [
    {
     "ename": "TypeError",
     "evalue": "'<' not supported between instances of 'str' and 'int'",
     "output_type": "error",
     "traceback": [
      "\u001b[1;31m---------------------------------------------------------------------------\u001b[0m",
      "\u001b[1;31mTypeError\u001b[0m                                 Traceback (most recent call last)",
      "Cell \u001b[1;32mIn[48], line 3\u001b[0m\n\u001b[0;32m      1\u001b[0m lst \u001b[38;5;241m=\u001b[39m [\u001b[38;5;241m23\u001b[39m,\u001b[38;5;241m345\u001b[39m,\u001b[38;5;241m23\u001b[39m,\u001b[38;5;241m54.34\u001b[39m,\u001b[38;5;241m4\u001b[39m,\u001b[38;5;241m6\u001b[39m,\u001b[38;5;124m'\u001b[39m\u001b[38;5;124m756\u001b[39m\u001b[38;5;124m'\u001b[39m,\u001b[38;5;241m34\u001b[39m,\u001b[38;5;241m534\u001b[39m,\u001b[38;5;241m56\u001b[39m,\u001b[38;5;241m76\u001b[39m]\n\u001b[1;32m----> 3\u001b[0m lst\u001b[38;5;241m.\u001b[39msort() \n\u001b[0;32m      6\u001b[0m lst\n",
      "\u001b[1;31mTypeError\u001b[0m: '<' not supported between instances of 'str' and 'int'"
     ]
    }
   ],
   "source": [
    "lst = [23,345,23,54.34,4,6,'756',34,534,56,76]\n",
    "\n",
    "lst.sort() \n",
    "\n",
    "\n",
    "lst"
   ]
  },
  {
   "cell_type": "code",
   "execution_count": 47,
   "id": "d471871c",
   "metadata": {},
   "outputs": [
    {
     "ename": "TypeError",
     "evalue": "'>' not supported between instances of 'int' and 'str'",
     "output_type": "error",
     "traceback": [
      "\u001b[1;31m---------------------------------------------------------------------------\u001b[0m",
      "\u001b[1;31mTypeError\u001b[0m                                 Traceback (most recent call last)",
      "Cell \u001b[1;32mIn[47], line 1\u001b[0m\n\u001b[1;32m----> 1\u001b[0m \u001b[38;5;241m34\u001b[39m \u001b[38;5;241m>\u001b[39m \u001b[38;5;124m'\u001b[39m\u001b[38;5;124m23.23\u001b[39m\u001b[38;5;124m'\u001b[39m\n",
      "\u001b[1;31mTypeError\u001b[0m: '>' not supported between instances of 'int' and 'str'"
     ]
    }
   ],
   "source": [
    "34 > '23.23'"
   ]
  },
  {
   "cell_type": "code",
   "execution_count": 51,
   "id": "c3906c79",
   "metadata": {},
   "outputs": [
    {
     "data": {
      "text/plain": [
       "True"
      ]
     },
     "execution_count": 51,
     "metadata": {},
     "output_type": "execute_result"
    }
   ],
   "source": [
    "'python' > 'Python'"
   ]
  },
  {
   "cell_type": "code",
   "execution_count": 49,
   "id": "c731563d",
   "metadata": {},
   "outputs": [
    {
     "data": {
      "text/plain": [
       "['Abhijeet@yahoo.com',\n",
       " 'Abhishek@gmail.com',\n",
       " 'Chandan@hotmail.com',\n",
       " 'Sriram@gmail.com',\n",
       " 'akanksha@gmail.com',\n",
       " 'xyz@gmail.com']"
      ]
     },
     "execution_count": 49,
     "metadata": {},
     "output_type": "execute_result"
    }
   ],
   "source": [
    "lst = ['Sriram@gmail.com' , 'Abhijeet@yahoo.com' , 'Abhishek@gmail.com', 'Chandan@hotmail.com',\n",
    "       'xyz@gmail.com' , 'akanksha@gmail.com']\n",
    "\n",
    "lst.sort()\n",
    "\n",
    "lst"
   ]
  },
  {
   "cell_type": "markdown",
   "id": "8d8ac1f5",
   "metadata": {},
   "source": [
    "# Del"
   ]
  },
  {
   "cell_type": "code",
   "execution_count": 61,
   "id": "d8aa4097",
   "metadata": {},
   "outputs": [],
   "source": [
    "a = ['Sriram@gmail.com' , 'Abhijeet@yahoo.com' , 'Abhishek@gmail.com', 'Chandan@hotmail.com',\n",
    "       'xyz@gmail.com' , 'akanksha@gmail.com']\n",
    "del a"
   ]
  },
  {
   "cell_type": "code",
   "execution_count": 62,
   "id": "4795b8bd",
   "metadata": {},
   "outputs": [
    {
     "ename": "NameError",
     "evalue": "name 'a' is not defined",
     "output_type": "error",
     "traceback": [
      "\u001b[1;31m---------------------------------------------------------------------------\u001b[0m",
      "\u001b[1;31mNameError\u001b[0m                                 Traceback (most recent call last)",
      "Cell \u001b[1;32mIn[62], line 1\u001b[0m\n\u001b[1;32m----> 1\u001b[0m a\n",
      "\u001b[1;31mNameError\u001b[0m: name 'a' is not defined"
     ]
    }
   ],
   "source": [
    "a"
   ]
  },
  {
   "cell_type": "code",
   "execution_count": 63,
   "id": "9b860c25",
   "metadata": {},
   "outputs": [],
   "source": [
    "a = ['Sriram@gmail.com' , 'Abhijeet@yahoo.com' , 'Abhishek@gmail.com', 'Chandan@hotmail.com',\n",
    "       'xyz@gmail.com' , 'akanksha@gmail.com']\n",
    "\n",
    "a.clear()"
   ]
  },
  {
   "cell_type": "code",
   "execution_count": 64,
   "id": "abca8381",
   "metadata": {},
   "outputs": [
    {
     "data": {
      "text/plain": [
       "[]"
      ]
     },
     "execution_count": 64,
     "metadata": {},
     "output_type": "execute_result"
    }
   ],
   "source": [
    "a"
   ]
  },
  {
   "cell_type": "code",
   "execution_count": 54,
   "id": "00eb7dce",
   "metadata": {},
   "outputs": [
    {
     "name": "stdout",
     "output_type": "stream",
     "text": [
      "['__add__', '__class__', '__class_getitem__', '__contains__', '__delattr__', '__delitem__', '__dir__', '__doc__', '__eq__', '__format__', '__ge__', '__getattribute__', '__getitem__', '__getstate__', '__gt__', '__hash__', '__iadd__', '__imul__', '__init__', '__init_subclass__', '__iter__', '__le__', '__len__', '__lt__', '__mul__', '__ne__', '__new__', '__reduce__', '__reduce_ex__', '__repr__', '__reversed__', '__rmul__', '__setattr__', '__setitem__', '__sizeof__', '__str__', '__subclasshook__', 'append', 'clear', 'copy', 'count', 'extend', 'index', 'insert', 'pop', 'remove', 'reverse', 'sort']\n"
     ]
    }
   ],
   "source": [
    "print(dir(list))"
   ]
  },
  {
   "cell_type": "markdown",
   "id": "f12ab5b0",
   "metadata": {},
   "source": [
    "# copy"
   ]
  },
  {
   "cell_type": "code",
   "execution_count": 65,
   "id": "da07206e",
   "metadata": {},
   "outputs": [
    {
     "name": "stdout",
     "output_type": "stream",
     "text": [
      "2601723489136\n",
      "2601715274096\n"
     ]
    }
   ],
   "source": [
    "a = 'python'\n",
    "b = 'cython'\n",
    "\n",
    "\n",
    "print(id(a))\n",
    "print(id(b))"
   ]
  },
  {
   "cell_type": "code",
   "execution_count": 66,
   "id": "5ef91ce7",
   "metadata": {},
   "outputs": [
    {
     "name": "stdout",
     "output_type": "stream",
     "text": [
      "140729526077912\n",
      "140729526077912\n"
     ]
    }
   ],
   "source": [
    "a = 'python'\n",
    "b = 'cython'\n",
    "\n",
    "\n",
    "print(id(a[-1]))\n",
    "print(id(b[-1]))"
   ]
  },
  {
   "cell_type": "code",
   "execution_count": 67,
   "id": "27addcae",
   "metadata": {},
   "outputs": [],
   "source": [
    "c = 'new'"
   ]
  },
  {
   "cell_type": "code",
   "execution_count": 68,
   "id": "8fb98165",
   "metadata": {},
   "outputs": [
    {
     "name": "stdout",
     "output_type": "stream",
     "text": [
      "140729526077912\n"
     ]
    }
   ],
   "source": [
    "print(id(c[0]))"
   ]
  },
  {
   "cell_type": "code",
   "execution_count": 70,
   "id": "e24ef153",
   "metadata": {},
   "outputs": [
    {
     "name": "stdout",
     "output_type": "stream",
     "text": [
      "2601806086000\n",
      "2601806081264\n"
     ]
    }
   ],
   "source": [
    "a = 'python data'\n",
    "b = 'python data'\n",
    "\n",
    "\n",
    "print(id(a))\n",
    "print(id(b))"
   ]
  },
  {
   "cell_type": "code",
   "execution_count": 71,
   "id": "6146b8a9",
   "metadata": {},
   "outputs": [
    {
     "name": "stdout",
     "output_type": "stream",
     "text": [
      "2601773093232\n",
      "2601806081648\n"
     ]
    }
   ],
   "source": [
    "a = 'python@data'\n",
    "b = 'python@data'\n",
    "\n",
    "\n",
    "print(id(a))\n",
    "print(id(b))"
   ]
  },
  {
   "cell_type": "code",
   "execution_count": 72,
   "id": "be17c8c7",
   "metadata": {},
   "outputs": [
    {
     "name": "stdout",
     "output_type": "stream",
     "text": [
      "140729526075336\n",
      "140729526075336\n"
     ]
    }
   ],
   "source": [
    "print(id(a[6]))\n",
    "print(id(b[6]))"
   ]
  },
  {
   "cell_type": "code",
   "execution_count": 1,
   "id": "d15fdbc0",
   "metadata": {},
   "outputs": [
    {
     "name": "stdout",
     "output_type": "stream",
     "text": [
      "140729526077912\n"
     ]
    }
   ],
   "source": [
    "a = 'python'\n",
    "\n",
    "print(id(a[-1]))"
   ]
  },
  {
   "cell_type": "code",
   "execution_count": 2,
   "id": "80819ed6",
   "metadata": {},
   "outputs": [
    {
     "name": "stdout",
     "output_type": "stream",
     "text": [
      "140729526077912\n"
     ]
    }
   ],
   "source": [
    "a = 'new'\n",
    "\n",
    "print(id(a[0]))"
   ]
  },
  {
   "cell_type": "code",
   "execution_count": 4,
   "id": "97eaa47e",
   "metadata": {},
   "outputs": [
    {
     "name": "stdout",
     "output_type": "stream",
     "text": [
      "2755114555264\n",
      "2755114548608\n"
     ]
    }
   ],
   "source": [
    "a = [1,2,3]\n",
    "b = [1,2,3]\n",
    "\n",
    "print(id(a))\n",
    "print(id(b))"
   ]
  },
  {
   "cell_type": "markdown",
   "id": "d65722e0",
   "metadata": {},
   "source": [
    "# Aliasing"
   ]
  },
  {
   "cell_type": "code",
   "execution_count": 3,
   "id": "a48e9ff3",
   "metadata": {},
   "outputs": [
    {
     "name": "stdout",
     "output_type": "stream",
     "text": [
      "[1, 2, 3]\n",
      "[1, 2, 3]\n",
      "-------------\n",
      "2487069043584\n",
      "2487069043584\n",
      "-------------\n",
      "[9999999, 2, 3]\n",
      "[9999999, 2, 3]\n"
     ]
    }
   ],
   "source": [
    "a = [1,2,3]\n",
    "b = a\n",
    "\n",
    "print(a)\n",
    "print(b)\n",
    "\n",
    "print('-------------')\n",
    "\n",
    "print(id(a))\n",
    "print(id(b))\n",
    "\n",
    "print('-------------')\n",
    "\n",
    "a[0] = 9999999\n",
    "\n",
    "\n",
    "print(a)\n",
    "print(b)"
   ]
  },
  {
   "cell_type": "markdown",
   "id": "09fc7397",
   "metadata": {},
   "source": [
    "# Shallow copy"
   ]
  },
  {
   "cell_type": "code",
   "execution_count": 16,
   "id": "60ef13e3",
   "metadata": {},
   "outputs": [
    {
     "name": "stdout",
     "output_type": "stream",
     "text": [
      "['__add__', '__class__', '__class_getitem__', '__contains__', '__delattr__', '__delitem__', '__dir__', '__doc__', '__eq__', '__format__', '__ge__', '__getattribute__', '__getitem__', '__getstate__', '__gt__', '__hash__', '__iadd__', '__imul__', '__init__', '__init_subclass__', '__iter__', '__le__', '__len__', '__lt__', '__mul__', '__ne__', '__new__', '__reduce__', '__reduce_ex__', '__repr__', '__reversed__', '__rmul__', '__setattr__', '__setitem__', '__sizeof__', '__str__', '__subclasshook__', 'append', 'clear', 'copy', 'count', 'extend', 'index', 'insert', 'pop', 'remove', 'reverse', 'sort']\n"
     ]
    }
   ],
   "source": [
    "print(dir(list))"
   ]
  },
  {
   "cell_type": "code",
   "execution_count": 17,
   "id": "a1f184c2",
   "metadata": {},
   "outputs": [
    {
     "name": "stdout",
     "output_type": "stream",
     "text": [
      "[1, 2, 3]\n",
      "[1, 2, 3]\n",
      "-------------\n",
      "2487098984320\n",
      "2487124505856\n",
      "-------------\n",
      "[9999999, 2, 3]\n",
      "[1, 2, 3]\n"
     ]
    }
   ],
   "source": [
    "a = [1,2,3]\n",
    "b = a.copy()\n",
    "\n",
    "print(a)\n",
    "print(b)\n",
    "\n",
    "print('-------------')\n",
    "\n",
    "print(id(a))\n",
    "print(id(b))\n",
    "\n",
    "print('-------------')\n",
    "\n",
    "a[0] = 9999999\n",
    "\n",
    "\n",
    "print(a)\n",
    "print(b)"
   ]
  },
  {
   "cell_type": "markdown",
   "id": "789a076c",
   "metadata": {},
   "source": [
    "# Failing point"
   ]
  },
  {
   "cell_type": "code",
   "execution_count": 25,
   "id": "22b97cea",
   "metadata": {},
   "outputs": [
    {
     "name": "stdout",
     "output_type": "stream",
     "text": [
      "[1, 2, 3, [4, 5]]\n",
      "[1, 2, 3, [4, 5]]\n",
      "-------------\n",
      "2487132161600\n",
      "2487124505024\n",
      "-------------\n",
      "[9999999, 2, 3, [4, 5]]\n",
      "[1, 2, 3, [4, 5]]\n"
     ]
    }
   ],
   "source": [
    "a = [1,2,3,[4,5]]\n",
    "b = a.copy()\n",
    "\n",
    "print(a)\n",
    "print(b)\n",
    "\n",
    "print('-------------')\n",
    "\n",
    "print(id(a))\n",
    "print(id(b))\n",
    "\n",
    "print('-------------')\n",
    "\n",
    "a[0] = 9999999\n",
    "\n",
    "\n",
    "print(a)\n",
    "print(b)"
   ]
  },
  {
   "cell_type": "code",
   "execution_count": 23,
   "id": "fc22c145",
   "metadata": {},
   "outputs": [
    {
     "name": "stdout",
     "output_type": "stream",
     "text": [
      "[1, 2, 3, [4, 5]]\n",
      "[1, 2, 3, [4, 5]]\n",
      "-------------\n",
      "2371566010496\n",
      "2371565631232\n",
      "-------------\n",
      "2371565817024\n",
      "2371565817024\n",
      "-------------\n",
      "[1, 2, 3, [4, 9999999]]\n",
      "[1, 2, 3, [4, 9999999]]\n"
     ]
    }
   ],
   "source": [
    "a = [1,2,3,[4,5]]\n",
    "b = a.copy()\n",
    "\n",
    "print(a)\n",
    "print(b)\n",
    "\n",
    "print('-------------')\n",
    "\n",
    "print(id(a))\n",
    "print(id(b))\n",
    "\n",
    "print('-------------')\n",
    "\n",
    "print(id(a[-1]))\n",
    "print(id(b[-1]))\n",
    "\n",
    "print('-------------')\n",
    "\n",
    "a[-1][-1] = 9999999\n",
    "\n",
    "\n",
    "print(a)\n",
    "print(b)"
   ]
  },
  {
   "cell_type": "markdown",
   "id": "193f8987",
   "metadata": {},
   "source": [
    "# Deep copy"
   ]
  },
  {
   "cell_type": "code",
   "execution_count": 2,
   "id": "06b51ebf",
   "metadata": {},
   "outputs": [],
   "source": [
    "from copy import deepcopy"
   ]
  },
  {
   "cell_type": "code",
   "execution_count": 22,
   "id": "ed13ee47",
   "metadata": {},
   "outputs": [
    {
     "name": "stdout",
     "output_type": "stream",
     "text": [
      "[1, 2, 3, [4, 5]]\n",
      "[1, 2, 3, [4, 5]]\n",
      "-------------\n",
      "2371566010624\n",
      "2371566016448\n",
      "-------------\n",
      "2371551428032\n",
      "2371566016832\n",
      "-------------\n",
      "[1, 2, 3, [4, 9999999]]\n",
      "[1, 2, 3, [4, 5]]\n"
     ]
    }
   ],
   "source": [
    "a = [1,2,3,[4,5]]\n",
    "b = deepcopy(a)\n",
    "\n",
    "print(a)\n",
    "print(b)\n",
    "\n",
    "print('-------------')\n",
    "\n",
    "print(id(a))\n",
    "print(id(b))\n",
    "\n",
    "print('-------------')\n",
    "\n",
    "print(id(a[-1]))\n",
    "print(id(b[-1]))\n",
    "\n",
    "print('-------------')\n",
    "\n",
    "a[-1][-1] = 9999999\n",
    "\n",
    "\n",
    "print(a)\n",
    "print(b)"
   ]
  },
  {
   "cell_type": "markdown",
   "id": "3cf81103",
   "metadata": {},
   "source": [
    "# For loop"
   ]
  },
  {
   "cell_type": "code",
   "execution_count": null,
   "id": "e31d0bbb",
   "metadata": {},
   "outputs": [],
   "source": []
  }
 ],
 "metadata": {
  "kernelspec": {
   "display_name": "Python 3 (ipykernel)",
   "language": "python",
   "name": "python3"
  },
  "language_info": {
   "codemirror_mode": {
    "name": "ipython",
    "version": 3
   },
   "file_extension": ".py",
   "mimetype": "text/x-python",
   "name": "python",
   "nbconvert_exporter": "python",
   "pygments_lexer": "ipython3",
   "version": "3.11.4"
  }
 },
 "nbformat": 4,
 "nbformat_minor": 5
}
